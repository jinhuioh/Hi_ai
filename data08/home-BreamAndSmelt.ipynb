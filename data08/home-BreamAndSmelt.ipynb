{
 "cells": [
  {
   "cell_type": "code",
   "execution_count": 4,
   "id": "ddc9b537",
   "metadata": {},
   "outputs": [],
   "source": [
    "#그래프를 그리는 대표적인 라이브러리 멧플롯립\n",
    "import matplotlib.pyplot as plt"
   ]
  },
  {
   "cell_type": "code",
   "execution_count": 5,
   "id": "34a7e238",
   "metadata": {},
   "outputs": [],
   "source": [
    "bream_length = [25.4, 26.3, 29, 29, 29.7, 29.7, 30, 30, 30.7, 31, 31, 32, 32.5, 34.5, 33.7, 35, 32, 35.5, 36, 37.1, 37.7, 38, 39,\n",
    "                39, 40.5, 40, 41, 41,41.1,42, 42, 42, 42,42, 42.2]#35마리"
   ]
  },
  {
   "cell_type": "code",
   "execution_count": 6,
   "id": "6cb572dc",
   "metadata": {},
   "outputs": [],
   "source": [
    "bream_weight = [242, 290, 340, 350, 390, 399, 400, 450, 420, 460, 470, 470, 480, 490, 498, 500, 510, 560, 567, 600, 650 ,660 ,670,\n",
    "               700, 720, 740, 770, 800, 830, 850, 880, 900, 910, 920, 940]"
   ]
  },
  {
   "cell_type": "code",
   "execution_count": 7,
   "id": "f7645350",
   "metadata": {},
   "outputs": [
    {
     "data": {
      "image/png": "[encoded data removed]",
      "text/plain": [
       "<Figure size 432x288 with 1 Axes>"
      ]
     },
     "metadata": {
      "needs_background": "light"
     },
     "output_type": "display_data"
    }
   ],
   "source": [
    "plt.scatter(bream_length,bream_weight)\n",
    "plt.xlabel('length')\n",
    "plt.ylabel('weight')\n",
    "plt.show()"
   ]
  },
  {
   "cell_type": "code",
   "execution_count": null,
   "id": "a55aa112",
   "metadata": {},
   "outputs": [],
   "source": []
  }
 ],
 "metadata": {
  "kernelspec": {
   "display_name": "Python 3 (ipykernel)",
   "language": "python",
   "name": "python3"
  },
  "language_info": {
   "codemirror_mode": {
    "name": "ipython",
    "version": 3
   },
   "file_extension": ".py",
   "mimetype": "text/x-python",
   "name": "python",
   "nbconvert_exporter": "python",
   "pygments_lexer": "ipython3",
   "version": "3.9.7"
  }
 },
 "nbformat": 4,
 "nbformat_minor": 5
}
