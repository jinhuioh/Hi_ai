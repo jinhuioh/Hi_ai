{
 "cells": [
  {
   "cell_type": "code",
   "execution_count": 4,
   "id": "d8799041",
   "metadata": {},
   "outputs": [],
   "source": [
    "import numpy as np#데이터분석용\n",
    "import pandas as pd#데이터분석용\n",
    "import matplotlib.pyplot as plt#데이터시각화\n",
    "import seaborn as sns#데이터시각화\n",
    "%matplotlib inline\n",
    "import warnings\n",
    "warnings.filterwarnings(action='ignore')"
   ]
  },
  {
   "cell_type": "code",
   "execution_count": 5,
   "id": "75d0bdd2",
   "metadata": {},
   "outputs": [
    {
     "data": {
      "text/html": [
       "<div>\n",
       "<style scoped>\n",
       "    .dataframe tbody tr th:only-of-type {\n",
       "        vertical-align: middle;\n",
       "    }\n",
       "\n",
       "    .dataframe tbody tr th {\n",
       "        vertical-align: top;\n",
       "    }\n",
       "\n",
       "    .dataframe thead th {\n",
       "        text-align: right;\n",
       "    }\n",
       "</style>\n",
       "<table border=\"1\" class=\"dataframe\">\n",
       "  <thead>\n",
       "    <tr style=\"text-align: right;\">\n",
       "      <th></th>\n",
       "      <th>pclass</th>\n",
       "      <th>survived</th>\n",
       "      <th>name</th>\n",
       "      <th>sex</th>\n",
       "      <th>age</th>\n",
       "      <th>sibsp</th>\n",
       "      <th>parch</th>\n",
       "      <th>ticket</th>\n",
       "      <th>fare</th>\n",
       "      <th>cabin</th>\n",
       "      <th>embarked</th>\n",
       "      <th>boat</th>\n",
       "      <th>body</th>\n",
       "      <th>home.dest</th>\n",
       "    </tr>\n",
       "  </thead>\n",
       "  <tbody>\n",
       "    <tr>\n",
       "      <th>0</th>\n",
       "      <td>1</td>\n",
       "      <td>1</td>\n",
       "      <td>Allen, Miss. Elisabeth Walton</td>\n",
       "      <td>female</td>\n",
       "      <td>29.0000</td>\n",
       "      <td>0</td>\n",
       "      <td>0</td>\n",
       "      <td>24160</td>\n",
       "      <td>211.3375</td>\n",
       "      <td>B5</td>\n",
       "      <td>S</td>\n",
       "      <td>2</td>\n",
       "      <td>NaN</td>\n",
       "      <td>St Louis, MO</td>\n",
       "    </tr>\n",
       "    <tr>\n",
       "      <th>1</th>\n",
       "      <td>1</td>\n",
       "      <td>1</td>\n",
       "      <td>Allison, Master. Hudson Trevor</td>\n",
       "      <td>male</td>\n",
       "      <td>0.9167</td>\n",
       "      <td>1</td>\n",
       "      <td>2</td>\n",
       "      <td>113781</td>\n",
       "      <td>151.5500</td>\n",
       "      <td>C22 C26</td>\n",
       "      <td>S</td>\n",
       "      <td>11</td>\n",
       "      <td>NaN</td>\n",
       "      <td>Montreal, PQ / Chesterville, ON</td>\n",
       "    </tr>\n",
       "    <tr>\n",
       "      <th>2</th>\n",
       "      <td>1</td>\n",
       "      <td>0</td>\n",
       "      <td>Allison, Miss. Helen Loraine</td>\n",
       "      <td>female</td>\n",
       "      <td>2.0000</td>\n",
       "      <td>1</td>\n",
       "      <td>2</td>\n",
       "      <td>113781</td>\n",
       "      <td>151.5500</td>\n",
       "      <td>C22 C26</td>\n",
       "      <td>S</td>\n",
       "      <td>NaN</td>\n",
       "      <td>NaN</td>\n",
       "      <td>Montreal, PQ / Chesterville, ON</td>\n",
       "    </tr>\n",
       "    <tr>\n",
       "      <th>3</th>\n",
       "      <td>1</td>\n",
       "      <td>0</td>\n",
       "      <td>Allison, Mr. Hudson Joshua Creighton</td>\n",
       "      <td>male</td>\n",
       "      <td>30.0000</td>\n",
       "      <td>1</td>\n",
       "      <td>2</td>\n",
       "      <td>113781</td>\n",
       "      <td>151.5500</td>\n",
       "      <td>C22 C26</td>\n",
       "      <td>S</td>\n",
       "      <td>NaN</td>\n",
       "      <td>135.0</td>\n",
       "      <td>Montreal, PQ / Chesterville, ON</td>\n",
       "    </tr>\n",
       "    <tr>\n",
       "      <th>4</th>\n",
       "      <td>1</td>\n",
       "      <td>0</td>\n",
       "      <td>Allison, Mrs. Hudson J C (Bessie Waldo Daniels)</td>\n",
       "      <td>female</td>\n",
       "      <td>25.0000</td>\n",
       "      <td>1</td>\n",
       "      <td>2</td>\n",
       "      <td>113781</td>\n",
       "      <td>151.5500</td>\n",
       "      <td>C22 C26</td>\n",
       "      <td>S</td>\n",
       "      <td>NaN</td>\n",
       "      <td>NaN</td>\n",
       "      <td>Montreal, PQ / Chesterville, ON</td>\n",
       "    </tr>\n",
       "  </tbody>\n",
       "</table>\n",
       "</div>"
      ],
      "text/plain": [
       "   pclass  survived                                             name     sex  \\\n",
       "0       1         1                    Allen, Miss. Elisabeth Walton  female   \n",
       "1       1         1                   Allison, Master. Hudson Trevor    male   \n",
       "2       1         0                     Allison, Miss. Helen Loraine  female   \n",
       "3       1         0             Allison, Mr. Hudson Joshua Creighton    male   \n",
       "4       1         0  Allison, Mrs. Hudson J C (Bessie Waldo Daniels)  female   \n",
       "\n",
       "       age  sibsp  parch  ticket      fare    cabin embarked boat   body  \\\n",
       "0  29.0000      0      0   24160  211.3375       B5        S    2    NaN   \n",
       "1   0.9167      1      2  113781  151.5500  C22 C26        S   11    NaN   \n",
       "2   2.0000      1      2  113781  151.5500  C22 C26        S  NaN    NaN   \n",
       "3  30.0000      1      2  113781  151.5500  C22 C26        S  NaN  135.0   \n",
       "4  25.0000      1      2  113781  151.5500  C22 C26        S  NaN    NaN   \n",
       "\n",
       "                         home.dest  \n",
       "0                     St Louis, MO  \n",
       "1  Montreal, PQ / Chesterville, ON  \n",
       "2  Montreal, PQ / Chesterville, ON  \n",
       "3  Montreal, PQ / Chesterville, ON  \n",
       "4  Montreal, PQ / Chesterville, ON  "
      ]
     },
     "execution_count": 5,
     "metadata": {},
     "output_type": "execute_result"
    }
   ],
   "source": [
    "raw_data = pd.read_excel('../csv-data/titanic.xls')\n",
    "raw_data.head()"
   ]
  },
  {
   "cell_type": "code",
   "execution_count": 6,
   "id": "9c0f5193",
   "metadata": {},
   "outputs": [
    {
     "name": "stdout",
     "output_type": "stream",
     "text": [
      "<class 'pandas.core.frame.DataFrame'>\n",
      "RangeIndex: 1309 entries, 0 to 1308\n",
      "Data columns (total 14 columns):\n",
      " #   Column     Non-Null Count  Dtype  \n",
      "---  ------     --------------  -----  \n",
      " 0   pclass     1309 non-null   int64  \n",
      " 1   survived   1309 non-null   int64  \n",
      " 2   name       1309 non-null   object \n",
      " 3   sex        1309 non-null   object \n",
      " 4   age        1046 non-null   float64\n",
      " 5   sibsp      1309 non-null   int64  \n",
      " 6   parch      1309 non-null   int64  \n",
      " 7   ticket     1309 non-null   object \n",
      " 8   fare       1308 non-null   float64\n",
      " 9   cabin      295 non-null    object \n",
      " 10  embarked   1307 non-null   object \n",
      " 11  boat       486 non-null    object \n",
      " 12  body       121 non-null    float64\n",
      " 13  home.dest  745 non-null    object \n",
      "dtypes: float64(3), int64(4), object(7)\n",
      "memory usage: 143.3+ KB\n"
     ]
    }
   ],
   "source": [
    "raw_data.info()"
   ]
  },
  {
   "cell_type": "code",
   "execution_count": 7,
   "id": "6af24d52",
   "metadata": {},
   "outputs": [
    {
     "data": {
      "text/html": [
       "<div>\n",
       "<style scoped>\n",
       "    .dataframe tbody tr th:only-of-type {\n",
       "        vertical-align: middle;\n",
       "    }\n",
       "\n",
       "    .dataframe tbody tr th {\n",
       "        vertical-align: top;\n",
       "    }\n",
       "\n",
       "    .dataframe thead th {\n",
       "        text-align: right;\n",
       "    }\n",
       "</style>\n",
       "<table border=\"1\" class=\"dataframe\">\n",
       "  <thead>\n",
       "    <tr style=\"text-align: right;\">\n",
       "      <th></th>\n",
       "      <th>pclass</th>\n",
       "      <th>survived</th>\n",
       "      <th>age</th>\n",
       "      <th>sibsp</th>\n",
       "      <th>parch</th>\n",
       "      <th>fare</th>\n",
       "      <th>body</th>\n",
       "    </tr>\n",
       "  </thead>\n",
       "  <tbody>\n",
       "    <tr>\n",
       "      <th>count</th>\n",
       "      <td>1309.000000</td>\n",
       "      <td>1309.000000</td>\n",
       "      <td>1046.000000</td>\n",
       "      <td>1309.000000</td>\n",
       "      <td>1309.000000</td>\n",
       "      <td>1308.000000</td>\n",
       "      <td>121.000000</td>\n",
       "    </tr>\n",
       "    <tr>\n",
       "      <th>mean</th>\n",
       "      <td>2.294882</td>\n",
       "      <td>0.381971</td>\n",
       "      <td>29.881135</td>\n",
       "      <td>0.498854</td>\n",
       "      <td>0.385027</td>\n",
       "      <td>33.295479</td>\n",
       "      <td>160.809917</td>\n",
       "    </tr>\n",
       "    <tr>\n",
       "      <th>std</th>\n",
       "      <td>0.837836</td>\n",
       "      <td>0.486055</td>\n",
       "      <td>14.413500</td>\n",
       "      <td>1.041658</td>\n",
       "      <td>0.865560</td>\n",
       "      <td>51.758668</td>\n",
       "      <td>97.696922</td>\n",
       "    </tr>\n",
       "    <tr>\n",
       "      <th>min</th>\n",
       "      <td>1.000000</td>\n",
       "      <td>0.000000</td>\n",
       "      <td>0.166700</td>\n",
       "      <td>0.000000</td>\n",
       "      <td>0.000000</td>\n",
       "      <td>0.000000</td>\n",
       "      <td>1.000000</td>\n",
       "    </tr>\n",
       "    <tr>\n",
       "      <th>25%</th>\n",
       "      <td>2.000000</td>\n",
       "      <td>0.000000</td>\n",
       "      <td>21.000000</td>\n",
       "      <td>0.000000</td>\n",
       "      <td>0.000000</td>\n",
       "      <td>7.895800</td>\n",
       "      <td>72.000000</td>\n",
       "    </tr>\n",
       "    <tr>\n",
       "      <th>50%</th>\n",
       "      <td>3.000000</td>\n",
       "      <td>0.000000</td>\n",
       "      <td>28.000000</td>\n",
       "      <td>0.000000</td>\n",
       "      <td>0.000000</td>\n",
       "      <td>14.454200</td>\n",
       "      <td>155.000000</td>\n",
       "    </tr>\n",
       "    <tr>\n",
       "      <th>75%</th>\n",
       "      <td>3.000000</td>\n",
       "      <td>1.000000</td>\n",
       "      <td>39.000000</td>\n",
       "      <td>1.000000</td>\n",
       "      <td>0.000000</td>\n",
       "      <td>31.275000</td>\n",
       "      <td>256.000000</td>\n",
       "    </tr>\n",
       "    <tr>\n",
       "      <th>max</th>\n",
       "      <td>3.000000</td>\n",
       "      <td>1.000000</td>\n",
       "      <td>80.000000</td>\n",
       "      <td>8.000000</td>\n",
       "      <td>9.000000</td>\n",
       "      <td>512.329200</td>\n",
       "      <td>328.000000</td>\n",
       "    </tr>\n",
       "  </tbody>\n",
       "</table>\n",
       "</div>"
      ],
      "text/plain": [
       "            pclass     survived          age        sibsp        parch  \\\n",
       "count  1309.000000  1309.000000  1046.000000  1309.000000  1309.000000   \n",
       "mean      2.294882     0.381971    29.881135     0.498854     0.385027   \n",
       "std       0.837836     0.486055    14.413500     1.041658     0.865560   \n",
       "min       1.000000     0.000000     0.166700     0.000000     0.000000   \n",
       "25%       2.000000     0.000000    21.000000     0.000000     0.000000   \n",
       "50%       3.000000     0.000000    28.000000     0.000000     0.000000   \n",
       "75%       3.000000     1.000000    39.000000     1.000000     0.000000   \n",
       "max       3.000000     1.000000    80.000000     8.000000     9.000000   \n",
       "\n",
       "              fare        body  \n",
       "count  1308.000000  121.000000  \n",
       "mean     33.295479  160.809917  \n",
       "std      51.758668   97.696922  \n",
       "min       0.000000    1.000000  \n",
       "25%       7.895800   72.000000  \n",
       "50%      14.454200  155.000000  \n",
       "75%      31.275000  256.000000  \n",
       "max     512.329200  328.000000  "
      ]
     },
     "execution_count": 7,
     "metadata": {},
     "output_type": "execute_result"
    }
   ],
   "source": [
    "raw_data.describe()"
   ]
  },
  {
   "cell_type": "code",
   "execution_count": 8,
   "id": "cd619a78",
   "metadata": {},
   "outputs": [],
   "source": [
    "svc = raw_data['survived'].value_counts()"
   ]
  },
  {
   "cell_type": "code",
   "execution_count": 9,
   "id": "4ea34286",
   "metadata": {},
   "outputs": [
    {
     "data": {
      "text/plain": [
       "0    809\n",
       "1    500\n",
       "Name: survived, dtype: int64"
      ]
     },
     "execution_count": 9,
     "metadata": {},
     "output_type": "execute_result"
    }
   ],
   "source": [
    "svc"
   ]
  },
  {
   "cell_type": "code",
   "execution_count": 10,
   "id": "62b93ca2",
   "metadata": {},
   "outputs": [
    {
     "data": {
      "text/plain": [
       "pandas.core.series.Series"
      ]
     },
     "execution_count": 10,
     "metadata": {},
     "output_type": "execute_result"
    }
   ],
   "source": [
    "type(svc)"
   ]
  },
  {
   "cell_type": "code",
   "execution_count": 11,
   "id": "aaa3173f",
   "metadata": {},
   "outputs": [],
   "source": [
    "#살았는지 죽었는지 시각화\n",
    "#인덱스가 death와 alived로 되어있어야 함!"
   ]
  },
  {
   "cell_type": "code",
   "execution_count": 12,
   "id": "5fd72e1c",
   "metadata": {},
   "outputs": [],
   "source": [
    "svc.index = ['death','alived']"
   ]
  },
  {
   "cell_type": "code",
   "execution_count": 13,
   "id": "5acc95ca",
   "metadata": {},
   "outputs": [
    {
     "data": {
      "text/plain": [
       "death     809\n",
       "alived    500\n",
       "Name: survived, dtype: int64"
      ]
     },
     "execution_count": 13,
     "metadata": {},
     "output_type": "execute_result"
    }
   ],
   "source": [
    "svc"
   ]
  },
  {
   "cell_type": "code",
   "execution_count": 14,
   "id": "0e388d39",
   "metadata": {},
   "outputs": [
    {
     "data": {
      "text/plain": [
       "Text(0.5, 1.0, 'Survived2')"
      ]
     },
     "execution_count": 14,
     "metadata": {},
     "output_type": "execute_result"
    },
    {
     "data": {
      "image/png": "[encoded data removed]",
      "text/plain": [
       "<Figure size 864x432 with 2 Axes>"
      ]
     },
     "metadata": {
      "needs_background": "light"
     },
     "output_type": "display_data"
    }
   ],
   "source": [
    "f, ax = plt.subplots(1,2,figsize=(12,6))\n",
    "svc.plot.pie(explode=[0,0.1], autopct='%1.2f%%', ax = ax[0])\n",
    "ax[0].set_title('Survived')\n",
    "\n",
    "sns.countplot('survived', data=raw_data, ax = ax[1])\n",
    "ax[1].set_title('Survived2')\n"
   ]
  },
  {
   "cell_type": "code",
   "execution_count": 15,
   "id": "df363555",
   "metadata": {},
   "outputs": [
    {
     "data": {
      "text/plain": [
       "<AxesSubplot:xlabel='age', ylabel='count'>"
      ]
     },
     "execution_count": 15,
     "metadata": {},
     "output_type": "execute_result"
    },
    {
     "data": {
      "image/png": "[encoded data removed]",
      "text/plain": [
       "<Figure size 2880x720 with 1 Axes>"
      ]
     },
     "metadata": {
      "needs_background": "light"
     },
     "output_type": "display_data"
    }
   ],
   "source": [
    "plt.figure(figsize=(40,10))\n",
    "sns.countplot('age', data=raw_data)"
   ]
  },
  {
   "cell_type": "code",
   "execution_count": 16,
   "id": "c8453e50",
   "metadata": {
    "scrolled": false
   },
   "outputs": [
    {
     "data": {
      "text/html": [
       "<div>\n",
       "<style scoped>\n",
       "    .dataframe tbody tr th:only-of-type {\n",
       "        vertical-align: middle;\n",
       "    }\n",
       "\n",
       "    .dataframe tbody tr th {\n",
       "        vertical-align: top;\n",
       "    }\n",
       "\n",
       "    .dataframe thead th {\n",
       "        text-align: right;\n",
       "    }\n",
       "</style>\n",
       "<table border=\"1\" class=\"dataframe\">\n",
       "  <thead>\n",
       "    <tr style=\"text-align: right;\">\n",
       "      <th></th>\n",
       "      <th>survived</th>\n",
       "      <th>age</th>\n",
       "      <th>sibsp</th>\n",
       "      <th>parch</th>\n",
       "      <th>fare</th>\n",
       "      <th>body</th>\n",
       "    </tr>\n",
       "    <tr>\n",
       "      <th>pclass</th>\n",
       "      <th></th>\n",
       "      <th></th>\n",
       "      <th></th>\n",
       "      <th></th>\n",
       "      <th></th>\n",
       "      <th></th>\n",
       "    </tr>\n",
       "  </thead>\n",
       "  <tbody>\n",
       "    <tr>\n",
       "      <th>1</th>\n",
       "      <td>0.619195</td>\n",
       "      <td>39.159918</td>\n",
       "      <td>0.436533</td>\n",
       "      <td>0.365325</td>\n",
       "      <td>87.508992</td>\n",
       "      <td>162.828571</td>\n",
       "    </tr>\n",
       "    <tr>\n",
       "      <th>2</th>\n",
       "      <td>0.429603</td>\n",
       "      <td>29.506705</td>\n",
       "      <td>0.393502</td>\n",
       "      <td>0.368231</td>\n",
       "      <td>21.179196</td>\n",
       "      <td>167.387097</td>\n",
       "    </tr>\n",
       "    <tr>\n",
       "      <th>3</th>\n",
       "      <td>0.255289</td>\n",
       "      <td>24.816367</td>\n",
       "      <td>0.568406</td>\n",
       "      <td>0.400564</td>\n",
       "      <td>13.302889</td>\n",
       "      <td>155.818182</td>\n",
       "    </tr>\n",
       "  </tbody>\n",
       "</table>\n",
       "</div>"
      ],
      "text/plain": [
       "        survived        age     sibsp     parch       fare        body\n",
       "pclass                                                                \n",
       "1       0.619195  39.159918  0.436533  0.365325  87.508992  162.828571\n",
       "2       0.429603  29.506705  0.393502  0.368231  21.179196  167.387097\n",
       "3       0.255289  24.816367  0.568406  0.400564  13.302889  155.818182"
      ]
     },
     "execution_count": 16,
     "metadata": {},
     "output_type": "execute_result"
    }
   ],
   "source": [
    "#pclass별 평균, 산거, 죽은거 비율\n",
    "#pclass로 그룹 지어줘야함!\n",
    "pclass_mean = raw_data.groupby(by='pclass').mean()\n",
    "pclass_mean"
   ]
  },
  {
   "cell_type": "code",
   "execution_count": 17,
   "id": "74b6adaa",
   "metadata": {},
   "outputs": [],
   "source": [
    "#pclass 평균별 산 비율 그래프로 그려보기."
   ]
  },
  {
   "cell_type": "code",
   "execution_count": 18,
   "id": "2a407a8a",
   "metadata": {},
   "outputs": [
    {
     "data": {
      "text/plain": [
       "pclass\n",
       "1    0.619195\n",
       "2    0.429603\n",
       "3    0.255289\n",
       "Name: survived, dtype: float64"
      ]
     },
     "execution_count": 18,
     "metadata": {},
     "output_type": "execute_result"
    }
   ],
   "source": [
    "#pclass가 index인 survived컬럼을 가진 df를 생성해보자.\n",
    "pclass_mean_survived = pclass_mean['survived']\n",
    "pclass_mean_survived"
   ]
  },
  {
   "cell_type": "code",
   "execution_count": 19,
   "id": "deda3f5b",
   "metadata": {},
   "outputs": [
    {
     "data": {
      "text/plain": [
       "Text(0.5, 1.0, 'pclass')"
      ]
     },
     "execution_count": 19,
     "metadata": {},
     "output_type": "execute_result"
    },
    {
     "data": {
      "image/png": "[encoded data removed]",
      "text/plain": [
       "<Figure size 864x432 with 2 Axes>"
      ]
     },
     "metadata": {
      "needs_background": "light"
     },
     "output_type": "display_data"
    }
   ],
   "source": [
    "f, ax = plt.subplots(1,2,figsize=(12,6))\n",
    "pclass_mean_survived.plot.pie(explode=[0.1,0.1,0.1],autopct='%1.2f%%', ax = ax[0])\n",
    "ax[0].set_title('pclass')\n",
    "\n",
    "sns.countplot('pclass', data= raw_data, ax = ax[1])\n",
    "ax[1].set_title('pclass')"
   ]
  },
  {
   "cell_type": "code",
   "execution_count": 20,
   "id": "0fc61ed1",
   "metadata": {},
   "outputs": [
    {
     "data": {
      "text/html": [
       "<div>\n",
       "<style scoped>\n",
       "    .dataframe tbody tr th:only-of-type {\n",
       "        vertical-align: middle;\n",
       "    }\n",
       "\n",
       "    .dataframe tbody tr th {\n",
       "        vertical-align: top;\n",
       "    }\n",
       "\n",
       "    .dataframe thead th {\n",
       "        text-align: right;\n",
       "    }\n",
       "</style>\n",
       "<table border=\"1\" class=\"dataframe\">\n",
       "  <thead>\n",
       "    <tr style=\"text-align: right;\">\n",
       "      <th></th>\n",
       "      <th>pclass</th>\n",
       "      <th>survived</th>\n",
       "      <th>age</th>\n",
       "      <th>sibsp</th>\n",
       "      <th>parch</th>\n",
       "      <th>fare</th>\n",
       "      <th>body</th>\n",
       "    </tr>\n",
       "  </thead>\n",
       "  <tbody>\n",
       "    <tr>\n",
       "      <th>pclass</th>\n",
       "      <td>1.000000</td>\n",
       "      <td>-0.312469</td>\n",
       "      <td>-0.408106</td>\n",
       "      <td>0.060832</td>\n",
       "      <td>0.018322</td>\n",
       "      <td>-0.558629</td>\n",
       "      <td>-0.034642</td>\n",
       "    </tr>\n",
       "    <tr>\n",
       "      <th>survived</th>\n",
       "      <td>-0.312469</td>\n",
       "      <td>1.000000</td>\n",
       "      <td>-0.055513</td>\n",
       "      <td>-0.027825</td>\n",
       "      <td>0.082660</td>\n",
       "      <td>0.244265</td>\n",
       "      <td>NaN</td>\n",
       "    </tr>\n",
       "    <tr>\n",
       "      <th>age</th>\n",
       "      <td>-0.408106</td>\n",
       "      <td>-0.055513</td>\n",
       "      <td>1.000000</td>\n",
       "      <td>-0.243699</td>\n",
       "      <td>-0.150917</td>\n",
       "      <td>0.178739</td>\n",
       "      <td>0.058809</td>\n",
       "    </tr>\n",
       "    <tr>\n",
       "      <th>sibsp</th>\n",
       "      <td>0.060832</td>\n",
       "      <td>-0.027825</td>\n",
       "      <td>-0.243699</td>\n",
       "      <td>1.000000</td>\n",
       "      <td>0.373587</td>\n",
       "      <td>0.160238</td>\n",
       "      <td>-0.099961</td>\n",
       "    </tr>\n",
       "    <tr>\n",
       "      <th>parch</th>\n",
       "      <td>0.018322</td>\n",
       "      <td>0.082660</td>\n",
       "      <td>-0.150917</td>\n",
       "      <td>0.373587</td>\n",
       "      <td>1.000000</td>\n",
       "      <td>0.221539</td>\n",
       "      <td>0.051099</td>\n",
       "    </tr>\n",
       "    <tr>\n",
       "      <th>fare</th>\n",
       "      <td>-0.558629</td>\n",
       "      <td>0.244265</td>\n",
       "      <td>0.178739</td>\n",
       "      <td>0.160238</td>\n",
       "      <td>0.221539</td>\n",
       "      <td>1.000000</td>\n",
       "      <td>-0.043110</td>\n",
       "    </tr>\n",
       "    <tr>\n",
       "      <th>body</th>\n",
       "      <td>-0.034642</td>\n",
       "      <td>NaN</td>\n",
       "      <td>0.058809</td>\n",
       "      <td>-0.099961</td>\n",
       "      <td>0.051099</td>\n",
       "      <td>-0.043110</td>\n",
       "      <td>1.000000</td>\n",
       "    </tr>\n",
       "  </tbody>\n",
       "</table>\n",
       "</div>"
      ],
      "text/plain": [
       "            pclass  survived       age     sibsp     parch      fare      body\n",
       "pclass    1.000000 -0.312469 -0.408106  0.060832  0.018322 -0.558629 -0.034642\n",
       "survived -0.312469  1.000000 -0.055513 -0.027825  0.082660  0.244265       NaN\n",
       "age      -0.408106 -0.055513  1.000000 -0.243699 -0.150917  0.178739  0.058809\n",
       "sibsp     0.060832 -0.027825 -0.243699  1.000000  0.373587  0.160238 -0.099961\n",
       "parch     0.018322  0.082660 -0.150917  0.373587  1.000000  0.221539  0.051099\n",
       "fare     -0.558629  0.244265  0.178739  0.160238  0.221539  1.000000 -0.043110\n",
       "body     -0.034642       NaN  0.058809 -0.099961  0.051099 -0.043110  1.000000"
      ]
     },
     "execution_count": 20,
     "metadata": {},
     "output_type": "execute_result"
    }
   ],
   "source": [
    "#각 컬럼들간의 상관도를 그려보자.\n",
    "rc = raw_data.corr()\n",
    "rc"
   ]
  },
  {
   "cell_type": "code",
   "execution_count": null,
   "id": "d179b5c9",
   "metadata": {},
   "outputs": [],
   "source": [
    "#heatmap그려보기.\n",
    "plt.figure(figsize=(15,15))\n",
    "sns.heatmap(rc, linewidths=0.01, annot=True,cmap=plt.cm.viridis, linecolor='white')\n",
    "plt.title('correlation between features')\n",
    "plt.show()"
   ]
  },
  {
   "cell_type": "code",
   "execution_count": null,
   "id": "3ccb0422",
   "metadata": {},
   "outputs": [],
   "source": [
    "rd_sex = raw_data['sex'].value_counts()\n",
    "rd_sex"
   ]
  },
  {
   "cell_type": "code",
   "execution_count": null,
   "id": "4b8e1d92",
   "metadata": {},
   "outputs": [],
   "source": [
    "#남자와 여자 탑승 비율을 바 그래프로 그려보자."
   ]
  },
  {
   "cell_type": "code",
   "execution_count": null,
   "id": "36c171f6",
   "metadata": {},
   "outputs": [],
   "source": [
    "plt.figure(figsize=(10,10))\n",
    "sns.countplot('sex',data=raw_data)"
   ]
  },
  {
   "cell_type": "code",
   "execution_count": null,
   "id": "d2083e2c",
   "metadata": {
    "scrolled": true
   },
   "outputs": [],
   "source": [
    "#성별 생사 인원을 구해보고, 그래프로 그려보세요\n",
    "sex_alive = raw_data.groupby(by='sex')['survived'].sum()\n",
    "print(sex_alive)\n",
    "list_sa = list(sex_alive)\n",
    "print(list_sa)\n",
    "\n",
    "# # 성별 생사인원 구해보고, 그래프로 그려보세요!\n",
    "# sex_alive = raw_data.groupby(by='sex')['survived'].sum() #1을 다 더하면, 생존인원이 될 것임.\n",
    "# print(sex_alive)\n",
    "# list_sa = list(sex_alive)\n",
    "# list_sa.reverse()\n",
    "# list_sa ##생존인원"
   ]
  },
  {
   "cell_type": "code",
   "execution_count": null,
   "id": "a3399e6e",
   "metadata": {},
   "outputs": [],
   "source": [
    "list_sa.reverse()#파괴함수라서 list_sa = list_sa.reverse()이렇게 쓰면 에러남.\n",
    "list_sa"
   ]
  },
  {
   "cell_type": "code",
   "execution_count": null,
   "id": "99c92ebd",
   "metadata": {},
   "outputs": [],
   "source": [
    "list_sa"
   ]
  },
  {
   "cell_type": "code",
   "execution_count": null,
   "id": "20d04191",
   "metadata": {},
   "outputs": [],
   "source": [
    "# rd_sex = raw_data['sex'].value_counts()\n",
    "print(rd_sex)\n",
    "rd_sex_list = list(rd_sex)\n",
    "\n",
    "rd_sex_list\n"
   ]
  },
  {
   "cell_type": "code",
   "execution_count": null,
   "id": "49635c0f",
   "metadata": {},
   "outputs": [],
   "source": [
    "list_sa"
   ]
  },
  {
   "cell_type": "code",
   "execution_count": null,
   "id": "c32f11ed",
   "metadata": {},
   "outputs": [],
   "source": [
    "for i in range(2):\n",
    "    print(rd_sex.index[i])\n",
    "    print('생존인원: ', list_sa[i], '<->탑승인원: ', rd_sex_list[i])"
   ]
  },
  {
   "cell_type": "code",
   "execution_count": null,
   "id": "3125f862",
   "metadata": {},
   "outputs": [],
   "source": [
    "#성별에따른 탑승과 산 사람 비율을 바 그래프로 표현\n",
    "#일단 df를 만들어야 하는데 인덱스는 sex로 하고 survived,board를 컬럼으로 잡아야한다.\n",
    "sex_df = pd.DataFrame({'alive': list_sa, 'board': rd_sex_list}, index=['male', 'female'])"
   ]
  },
  {
   "cell_type": "code",
   "execution_count": null,
   "id": "4d40ae86",
   "metadata": {
    "scrolled": true
   },
   "outputs": [],
   "source": [
    "sex_df"
   ]
  },
  {
   "cell_type": "code",
   "execution_count": null,
   "id": "b7a24f83",
   "metadata": {},
   "outputs": [],
   "source": [
    "sex_df.reset_index(inplace=True)\n"
   ]
  },
  {
   "cell_type": "code",
   "execution_count": null,
   "id": "a6ce19b5",
   "metadata": {},
   "outputs": [],
   "source": [
    "sex_df"
   ]
  },
  {
   "cell_type": "code",
   "execution_count": null,
   "id": "23836e4a",
   "metadata": {},
   "outputs": [],
   "source": [
    "#죽은 사람은 몇명인지 성별 별로 구해보자.\n",
    "list_sa#생존인원\n",
    "rd_sex#탑승인원\n",
    "death_result = sex_df['board'] - sex_df['alive']\n",
    "death_result"
   ]
  },
  {
   "cell_type": "code",
   "execution_count": null,
   "id": "49e17bf3",
   "metadata": {},
   "outputs": [],
   "source": [
    "#성별에 따른 탑승인원과 생존비율을 그래프로 그려보자.\n",
    "f, ax = plt.subplots(1,2, figsize=(12,6))\n",
    "sns.barplot('index','board', data=sex_df,ax = ax[0])\n",
    "sns.barplot('index','alive', data=sex_df, ax = ax[1])"
   ]
  },
  {
   "cell_type": "code",
   "execution_count": null,
   "id": "71598dbd",
   "metadata": {},
   "outputs": [],
   "source": [
    "raw_data['survived'].value_counts()#500명이 살았는데 남녀 비율이 161:339이다."
   ]
  },
  {
   "cell_type": "code",
   "execution_count": null,
   "id": "9ab8868f",
   "metadata": {
    "scrolled": false
   },
   "outputs": [],
   "source": [
    "raw_data.groupby(by='sex')['survived'].sum()"
   ]
  },
  {
   "cell_type": "code",
   "execution_count": null,
   "id": "e99de607",
   "metadata": {},
   "outputs": [],
   "source": [
    "sex_df"
   ]
  },
  {
   "cell_type": "code",
   "execution_count": null,
   "id": "49786cba",
   "metadata": {},
   "outputs": [],
   "source": [
    "#성별에따른 탑승과 산 사람 비율을 바 그래프로 표현"
   ]
  },
  {
   "cell_type": "code",
   "execution_count": null,
   "id": "78ea2bf4",
   "metadata": {},
   "outputs": [],
   "source": [
    "plt.figure(figsize=(10,6))\n",
    "sex_df.plot(kind='bar')\n",
    "plt.show()\n"
   ]
  },
  {
   "cell_type": "code",
   "execution_count": null,
   "id": "1581d81f",
   "metadata": {},
   "outputs": [],
   "source": [
    "#머신러닝을 돌리기 위해 df 의 값들을 모두 숫자로 바꿔줘야 한다.\n",
    "#성별0이면 남자 1이면 여자\n",
    "#나이 0이면 children,1이면 young, 3이면 adult"
   ]
  },
  {
   "cell_type": "code",
   "execution_count": null,
   "id": "66d63921",
   "metadata": {},
   "outputs": [],
   "source": [
    "raw_data.head()"
   ]
  },
  {
   "cell_type": "code",
   "execution_count": null,
   "id": "152f2211",
   "metadata": {},
   "outputs": [],
   "source": []
  }
 ],
 "metadata": {
  "kernelspec": {
   "display_name": "Python 3 (ipykernel)",
   "language": "python",
   "name": "python3"
  },
  "language_info": {
   "codemirror_mode": {
    "name": "ipython",
    "version": 3
   },
   "file_extension": ".py",
   "mimetype": "text/x-python",
   "name": "python",
   "nbconvert_exporter": "python",
   "pygments_lexer": "ipython3",
   "version": "3.9.7"
  }
 },
 "nbformat": 4,
 "nbformat_minor": 5
}
