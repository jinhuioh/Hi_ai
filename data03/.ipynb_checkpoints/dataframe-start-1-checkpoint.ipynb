{
 "cells": [
  {
   "cell_type": "code",
   "execution_count": 5,
   "id": "f762e814",
   "metadata": {},
   "outputs": [],
   "source": [
    "import pandas as pd\n",
    "import numpy as np#NumPy의 핵심은 ndarray라고 하는 클래스 이다. ndarray 클래스는 다차원 행렬 자료 구조를 지원한다."
   ]
  },
  {
   "cell_type": "code",
   "execution_count": 6,
   "id": "e2b02f13",
   "metadata": {},
   "outputs": [
    {
     "data": {
      "text/plain": [
       "DatetimeIndex(['2020-06-25', '2020-06-26', '2020-06-27', '2020-06-28',\n",
       "               '2020-06-29', '2020-06-30'],\n",
       "              dtype='datetime64[ns]', freq='D')"
      ]
     },
     "execution_count": 6,
     "metadata": {},
     "output_type": "execute_result"
    }
   ],
   "source": [
    "dates = pd.date_range('20200625', periods=6)\n",
    "dates"
   ]
  },
  {
   "cell_type": "code",
   "execution_count": 9,
   "id": "21752512",
   "metadata": {},
   "outputs": [
    {
     "data": {
      "text/html": [
       "<div>\n",
       "<style scoped>\n",
       "    .dataframe tbody tr th:only-of-type {\n",
       "        vertical-align: middle;\n",
       "    }\n",
       "\n",
       "    .dataframe tbody tr th {\n",
       "        vertical-align: top;\n",
       "    }\n",
       "\n",
       "    .dataframe thead th {\n",
       "        text-align: right;\n",
       "    }\n",
       "</style>\n",
       "<table border=\"1\" class=\"dataframe\">\n",
       "  <thead>\n",
       "    <tr style=\"text-align: right;\">\n",
       "      <th></th>\n",
       "      <th>A</th>\n",
       "      <th>B</th>\n",
       "      <th>C</th>\n",
       "      <th>D</th>\n",
       "    </tr>\n",
       "  </thead>\n",
       "  <tbody>\n",
       "    <tr>\n",
       "      <th>2020-06-25</th>\n",
       "      <td>-1.183726</td>\n",
       "      <td>1.297132</td>\n",
       "      <td>1.189436</td>\n",
       "      <td>0.354566</td>\n",
       "    </tr>\n",
       "    <tr>\n",
       "      <th>2020-06-26</th>\n",
       "      <td>0.167611</td>\n",
       "      <td>0.272435</td>\n",
       "      <td>0.454584</td>\n",
       "      <td>-0.081371</td>\n",
       "    </tr>\n",
       "    <tr>\n",
       "      <th>2020-06-27</th>\n",
       "      <td>0.042672</td>\n",
       "      <td>0.132090</td>\n",
       "      <td>-2.607154</td>\n",
       "      <td>1.609916</td>\n",
       "    </tr>\n",
       "    <tr>\n",
       "      <th>2020-06-28</th>\n",
       "      <td>1.221149</td>\n",
       "      <td>0.704600</td>\n",
       "      <td>0.470121</td>\n",
       "      <td>0.972395</td>\n",
       "    </tr>\n",
       "    <tr>\n",
       "      <th>2020-06-29</th>\n",
       "      <td>-0.411541</td>\n",
       "      <td>-1.082959</td>\n",
       "      <td>0.329009</td>\n",
       "      <td>0.203834</td>\n",
       "    </tr>\n",
       "    <tr>\n",
       "      <th>2020-06-30</th>\n",
       "      <td>1.168454</td>\n",
       "      <td>1.674315</td>\n",
       "      <td>0.027145</td>\n",
       "      <td>0.065690</td>\n",
       "    </tr>\n",
       "  </tbody>\n",
       "</table>\n",
       "</div>"
      ],
      "text/plain": [
       "                   A         B         C         D\n",
       "2020-06-25 -1.183726  1.297132  1.189436  0.354566\n",
       "2020-06-26  0.167611  0.272435  0.454584 -0.081371\n",
       "2020-06-27  0.042672  0.132090 -2.607154  1.609916\n",
       "2020-06-28  1.221149  0.704600  0.470121  0.972395\n",
       "2020-06-29 -0.411541 -1.082959  0.329009  0.203834\n",
       "2020-06-30  1.168454  1.674315  0.027145  0.065690"
      ]
     },
     "execution_count": 9,
     "metadata": {},
     "output_type": "execute_result"
    }
   ],
   "source": [
    "df = pd.DataFrame(np.random.randn(6, 4), index=dates, columns=['A','B','C','D'])\n",
    "df\n",
    "df = pd.DataFrame(np.random)"
   ]
  },
  {
   "cell_type": "code",
   "execution_count": 10,
   "id": "d98ece7f",
   "metadata": {},
   "outputs": [
    {
     "data": {
      "text/plain": [
       "pandas.core.frame.DataFrame"
      ]
     },
     "execution_count": 10,
     "metadata": {},
     "output_type": "execute_result"
    }
   ],
   "source": [
    "type(df)#df의 타입은 DataFrame"
   ]
  },
  {
   "cell_type": "code",
   "execution_count": 11,
   "id": "22b2383f",
   "metadata": {},
   "outputs": [
    {
     "data": {
      "text/plain": [
       "A    6\n",
       "B    6\n",
       "C    6\n",
       "D    6\n",
       "dtype: int64"
      ]
     },
     "execution_count": 11,
     "metadata": {},
     "output_type": "execute_result"
    }
   ],
   "source": [
    "df.count()#각 열에 대한 행의개수"
   ]
  },
  {
   "cell_type": "code",
   "execution_count": 12,
   "id": "3ffcee1d",
   "metadata": {},
   "outputs": [
    {
     "data": {
      "text/plain": [
       "(6, 4)"
      ]
     },
     "execution_count": 12,
     "metadata": {},
     "output_type": "execute_result"
    }
   ],
   "source": [
    "df.shape#행렬개수"
   ]
  },
  {
   "cell_type": "code",
   "execution_count": 14,
   "id": "764c43af",
   "metadata": {},
   "outputs": [
    {
     "data": {
      "text/plain": [
       "array([[-1.18372585,  1.29713216,  1.18943567,  0.35456624],\n",
       "       [ 0.16761145,  0.27243501,  0.45458358, -0.08137062],\n",
       "       [ 0.04267241,  0.13209032, -2.6071539 ,  1.60991567],\n",
       "       [ 1.22114948,  0.70460011,  0.47012088,  0.97239518],\n",
       "       [-0.41154075, -1.08295894,  0.32900895,  0.20383445],\n",
       "       [ 1.16845424,  1.67431509,  0.02714544,  0.06569049]])"
      ]
     },
     "execution_count": 14,
     "metadata": {},
     "output_type": "execute_result"
    }
   ],
   "source": [
    "df.values"
   ]
  },
  {
   "cell_type": "code",
   "execution_count": 15,
   "id": "4bde03a1",
   "metadata": {},
   "outputs": [
    {
     "data": {
      "text/plain": [
       "2020-06-25   -1.183726\n",
       "2020-06-26    0.167611\n",
       "2020-06-27    0.042672\n",
       "2020-06-28    1.221149\n",
       "2020-06-29   -0.411541\n",
       "2020-06-30    1.168454\n",
       "Freq: D, Name: A, dtype: float64"
      ]
     },
     "execution_count": 15,
     "metadata": {},
     "output_type": "execute_result"
    }
   ],
   "source": [
    "df['A']"
   ]
  },
  {
   "cell_type": "code",
   "execution_count": 16,
   "id": "68699ce7",
   "metadata": {},
   "outputs": [
    {
     "data": {
      "text/html": [
       "<div>\n",
       "<style scoped>\n",
       "    .dataframe tbody tr th:only-of-type {\n",
       "        vertical-align: middle;\n",
       "    }\n",
       "\n",
       "    .dataframe tbody tr th {\n",
       "        vertical-align: top;\n",
       "    }\n",
       "\n",
       "    .dataframe thead th {\n",
       "        text-align: right;\n",
       "    }\n",
       "</style>\n",
       "<table border=\"1\" class=\"dataframe\">\n",
       "  <thead>\n",
       "    <tr style=\"text-align: right;\">\n",
       "      <th></th>\n",
       "      <th>A</th>\n",
       "      <th>B</th>\n",
       "      <th>C</th>\n",
       "      <th>D</th>\n",
       "    </tr>\n",
       "  </thead>\n",
       "  <tbody>\n",
       "    <tr>\n",
       "      <th>2020-06-25</th>\n",
       "      <td>-1.183726</td>\n",
       "      <td>1.297132</td>\n",
       "      <td>1.189436</td>\n",
       "      <td>0.354566</td>\n",
       "    </tr>\n",
       "    <tr>\n",
       "      <th>2020-06-26</th>\n",
       "      <td>0.167611</td>\n",
       "      <td>0.272435</td>\n",
       "      <td>0.454584</td>\n",
       "      <td>-0.081371</td>\n",
       "    </tr>\n",
       "    <tr>\n",
       "      <th>2020-06-27</th>\n",
       "      <td>0.042672</td>\n",
       "      <td>0.132090</td>\n",
       "      <td>-2.607154</td>\n",
       "      <td>1.609916</td>\n",
       "    </tr>\n",
       "  </tbody>\n",
       "</table>\n",
       "</div>"
      ],
      "text/plain": [
       "                   A         B         C         D\n",
       "2020-06-25 -1.183726  1.297132  1.189436  0.354566\n",
       "2020-06-26  0.167611  0.272435  0.454584 -0.081371\n",
       "2020-06-27  0.042672  0.132090 -2.607154  1.609916"
      ]
     },
     "execution_count": 16,
     "metadata": {},
     "output_type": "execute_result"
    }
   ],
   "source": [
    "df[0:3]"
   ]
  },
  {
   "cell_type": "code",
   "execution_count": 17,
   "id": "f8df8a8d",
   "metadata": {},
   "outputs": [
    {
     "data": {
      "text/plain": [
       "A   -1.183726\n",
       "B    1.297132\n",
       "C    1.189436\n",
       "D    0.354566\n",
       "Name: 2020-06-25 00:00:00, dtype: float64"
      ]
     },
     "execution_count": 17,
     "metadata": {},
     "output_type": "execute_result"
    }
   ],
   "source": [
    "df.loc['2020-06-25']"
   ]
  },
  {
   "cell_type": "code",
   "execution_count": null,
   "id": "004cd2fe",
   "metadata": {},
   "outputs": [],
   "source": []
  }
 ],
 "metadata": {
  "kernelspec": {
   "display_name": "Python 3 (ipykernel)",
   "language": "python",
   "name": "python3"
  },
  "language_info": {
   "codemirror_mode": {
    "name": "ipython",
    "version": 3
   },
   "file_extension": ".py",
   "mimetype": "text/x-python",
   "name": "python",
   "nbconvert_exporter": "python",
   "pygments_lexer": "ipython3",
   "version": "3.9.7"
  }
 },
 "nbformat": 4,
 "nbformat_minor": 5
}
