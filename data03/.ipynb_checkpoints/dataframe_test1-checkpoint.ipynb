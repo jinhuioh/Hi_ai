{
 "cells": [
  {
   "cell_type": "code",
   "execution_count": 1,
   "id": "a1b5bf55",
   "metadata": {},
   "outputs": [],
   "source": [
    "import pandas as pd"
   ]
  },
  {
   "cell_type": "code",
   "execution_count": 3,
   "id": "b238e1a0",
   "metadata": {},
   "outputs": [],
   "source": [
    "import numpy as np"
   ]
  },
  {
   "cell_type": "code",
   "execution_count": 17,
   "id": "981a3b40",
   "metadata": {},
   "outputs": [
    {
     "data": {
      "text/plain": [
       "DatetimeIndex(['2020-06-25', '2020-06-26', '2020-06-27', '2020-06-28',\n",
       "               '2020-06-29', '2020-06-30'],\n",
       "              dtype='datetime64[ns]', freq='D')"
      ]
     },
     "execution_count": 17,
     "metadata": {},
     "output_type": "execute_result"
    }
   ],
   "source": [
    "dates = pd.date_range('20200625',periods=6)\n",
    "dates"
   ]
  },
  {
   "cell_type": "code",
   "execution_count": 18,
   "id": "c8d2f939",
   "metadata": {},
   "outputs": [
    {
     "data": {
      "text/plain": [
       "array([[-0.43796741, -0.38504883, -0.55162253, -0.05912526],\n",
       "       [-0.37137142, -2.22651478,  0.96829094, -0.52673927],\n",
       "       [-0.75715108, -0.0883989 , -0.14645129,  1.53750473],\n",
       "       [-0.96293251, -0.07286524, -2.13379544,  0.53628249],\n",
       "       [-0.35226882,  1.45468391, -0.37781368,  0.36709466],\n",
       "       [ 1.05853553, -1.34075675,  1.38822891, -0.51418321]])"
      ]
     },
     "execution_count": 18,
     "metadata": {},
     "output_type": "execute_result"
    }
   ],
   "source": [
    "np.random.randn(6,4)"
   ]
  },
  {
   "cell_type": "code",
   "execution_count": 19,
   "id": "eb37d2a0",
   "metadata": {},
   "outputs": [
    {
     "data": {
      "text/html": [
       "<div>\n",
       "<style scoped>\n",
       "    .dataframe tbody tr th:only-of-type {\n",
       "        vertical-align: middle;\n",
       "    }\n",
       "\n",
       "    .dataframe tbody tr th {\n",
       "        vertical-align: top;\n",
       "    }\n",
       "\n",
       "    .dataframe thead th {\n",
       "        text-align: right;\n",
       "    }\n",
       "</style>\n",
       "<table border=\"1\" class=\"dataframe\">\n",
       "  <thead>\n",
       "    <tr style=\"text-align: right;\">\n",
       "      <th></th>\n",
       "      <th>A</th>\n",
       "      <th>B</th>\n",
       "      <th>C</th>\n",
       "      <th>D</th>\n",
       "    </tr>\n",
       "  </thead>\n",
       "  <tbody>\n",
       "    <tr>\n",
       "      <th>2020-06-25</th>\n",
       "      <td>-0.506261</td>\n",
       "      <td>0.706759</td>\n",
       "      <td>-0.287065</td>\n",
       "      <td>0.303444</td>\n",
       "    </tr>\n",
       "    <tr>\n",
       "      <th>2020-06-26</th>\n",
       "      <td>0.167685</td>\n",
       "      <td>0.760474</td>\n",
       "      <td>1.833029</td>\n",
       "      <td>0.347952</td>\n",
       "    </tr>\n",
       "    <tr>\n",
       "      <th>2020-06-27</th>\n",
       "      <td>-1.794183</td>\n",
       "      <td>-0.886431</td>\n",
       "      <td>1.141095</td>\n",
       "      <td>0.190425</td>\n",
       "    </tr>\n",
       "    <tr>\n",
       "      <th>2020-06-28</th>\n",
       "      <td>-0.474138</td>\n",
       "      <td>-0.852279</td>\n",
       "      <td>2.148255</td>\n",
       "      <td>2.306925</td>\n",
       "    </tr>\n",
       "    <tr>\n",
       "      <th>2020-06-29</th>\n",
       "      <td>0.561093</td>\n",
       "      <td>0.121112</td>\n",
       "      <td>0.117893</td>\n",
       "      <td>2.521105</td>\n",
       "    </tr>\n",
       "    <tr>\n",
       "      <th>2020-06-30</th>\n",
       "      <td>-0.167952</td>\n",
       "      <td>0.594512</td>\n",
       "      <td>2.093429</td>\n",
       "      <td>-1.058709</td>\n",
       "    </tr>\n",
       "  </tbody>\n",
       "</table>\n",
       "</div>"
      ],
      "text/plain": [
       "                   A         B         C         D\n",
       "2020-06-25 -0.506261  0.706759 -0.287065  0.303444\n",
       "2020-06-26  0.167685  0.760474  1.833029  0.347952\n",
       "2020-06-27 -1.794183 -0.886431  1.141095  0.190425\n",
       "2020-06-28 -0.474138 -0.852279  2.148255  2.306925\n",
       "2020-06-29  0.561093  0.121112  0.117893  2.521105\n",
       "2020-06-30 -0.167952  0.594512  2.093429 -1.058709"
      ]
     },
     "execution_count": 19,
     "metadata": {},
     "output_type": "execute_result"
    }
   ],
   "source": [
    "df = pd.DataFrame(data=np.random.randn(6,4),index= dates,columns=['A','B','C','D'])#dates기준으로 인덱스 정렬\n",
    "df"
   ]
  },
  {
   "cell_type": "code",
   "execution_count": 21,
   "id": "7d666204",
   "metadata": {},
   "outputs": [
    {
     "data": {
      "text/html": [
       "<div>\n",
       "<style scoped>\n",
       "    .dataframe tbody tr th:only-of-type {\n",
       "        vertical-align: middle;\n",
       "    }\n",
       "\n",
       "    .dataframe tbody tr th {\n",
       "        vertical-align: top;\n",
       "    }\n",
       "\n",
       "    .dataframe thead th {\n",
       "        text-align: right;\n",
       "    }\n",
       "</style>\n",
       "<table border=\"1\" class=\"dataframe\">\n",
       "  <thead>\n",
       "    <tr style=\"text-align: right;\">\n",
       "      <th></th>\n",
       "      <th>A</th>\n",
       "      <th>B</th>\n",
       "      <th>C</th>\n",
       "      <th>D</th>\n",
       "    </tr>\n",
       "  </thead>\n",
       "  <tbody>\n",
       "    <tr>\n",
       "      <th>2020-06-25</th>\n",
       "      <td>-0.506261</td>\n",
       "      <td>0.706759</td>\n",
       "      <td>-0.287065</td>\n",
       "      <td>0.303444</td>\n",
       "    </tr>\n",
       "    <tr>\n",
       "      <th>2020-06-26</th>\n",
       "      <td>0.167685</td>\n",
       "      <td>0.760474</td>\n",
       "      <td>1.833029</td>\n",
       "      <td>0.347952</td>\n",
       "    </tr>\n",
       "    <tr>\n",
       "      <th>2020-06-27</th>\n",
       "      <td>-1.794183</td>\n",
       "      <td>-0.886431</td>\n",
       "      <td>1.141095</td>\n",
       "      <td>0.190425</td>\n",
       "    </tr>\n",
       "    <tr>\n",
       "      <th>2020-06-28</th>\n",
       "      <td>-0.474138</td>\n",
       "      <td>-0.852279</td>\n",
       "      <td>2.148255</td>\n",
       "      <td>2.306925</td>\n",
       "    </tr>\n",
       "    <tr>\n",
       "      <th>2020-06-29</th>\n",
       "      <td>0.561093</td>\n",
       "      <td>0.121112</td>\n",
       "      <td>0.117893</td>\n",
       "      <td>2.521105</td>\n",
       "    </tr>\n",
       "    <tr>\n",
       "      <th>2020-06-30</th>\n",
       "      <td>-0.167952</td>\n",
       "      <td>0.594512</td>\n",
       "      <td>2.093429</td>\n",
       "      <td>-1.058709</td>\n",
       "    </tr>\n",
       "  </tbody>\n",
       "</table>\n",
       "</div>"
      ],
      "text/plain": [
       "                   A         B         C         D\n",
       "2020-06-25 -0.506261  0.706759 -0.287065  0.303444\n",
       "2020-06-26  0.167685  0.760474  1.833029  0.347952\n",
       "2020-06-27 -1.794183 -0.886431  1.141095  0.190425\n",
       "2020-06-28 -0.474138 -0.852279  2.148255  2.306925\n",
       "2020-06-29  0.561093  0.121112  0.117893  2.521105\n",
       "2020-06-30 -0.167952  0.594512  2.093429 -1.058709"
      ]
     },
     "execution_count": 21,
     "metadata": {},
     "output_type": "execute_result"
    }
   ],
   "source": [
    "df2 = df.copy()\n",
    "df2\n",
    "#df는 기본적으로 행,열의 위치값을 가지고 있다.\n",
    "#기본적으로 가지고 있는 위치값(index)를 이용해서 조작하는 경우\n",
    "#iloc[]를 사용\n",
    "#일부 그래프나 분석시 특정항목을 index항목으로 수동으로 설정해야하는\n",
    "#경우가 있음.\n",
    "#특정항목을 index항목으로 설정 가능한 경우에는 \"unique한 값and not null을 가지는 항목만\" 설정 가능.\n",
    "#user_id,bbs_id, pk(프라이머리키)조건과 일치!"
   ]
  },
  {
   "cell_type": "code",
   "execution_count": 30,
   "id": "b495ff68",
   "metadata": {},
   "outputs": [],
   "source": [
    "df2.reset_index(inplace=True)\n",
    "#index없애버리기. index라고 이름이 붙어있긴하지만 index를 뜻하는건아니고 원래 인덱스였다는 의미.\n",
    "#inplace=True #비파괴를 파괴로 바꿔줌."
   ]
  },
  {
   "cell_type": "code",
   "execution_count": 31,
   "id": "9786fe53",
   "metadata": {},
   "outputs": [],
   "source": [
    "df2.set_index('index',inplace=True)\n",
    "#'index'를 인덱스로 지정하고 원본도 바꾸기.(True)"
   ]
  },
  {
   "cell_type": "code",
   "execution_count": 32,
   "id": "f1cd8d61",
   "metadata": {},
   "outputs": [
    {
     "data": {
      "text/html": [
       "<div>\n",
       "<style scoped>\n",
       "    .dataframe tbody tr th:only-of-type {\n",
       "        vertical-align: middle;\n",
       "    }\n",
       "\n",
       "    .dataframe tbody tr th {\n",
       "        vertical-align: top;\n",
       "    }\n",
       "\n",
       "    .dataframe thead th {\n",
       "        text-align: right;\n",
       "    }\n",
       "</style>\n",
       "<table border=\"1\" class=\"dataframe\">\n",
       "  <thead>\n",
       "    <tr style=\"text-align: right;\">\n",
       "      <th></th>\n",
       "      <th>A</th>\n",
       "      <th>B</th>\n",
       "      <th>C</th>\n",
       "      <th>D</th>\n",
       "    </tr>\n",
       "    <tr>\n",
       "      <th>index</th>\n",
       "      <th></th>\n",
       "      <th></th>\n",
       "      <th></th>\n",
       "      <th></th>\n",
       "    </tr>\n",
       "  </thead>\n",
       "  <tbody>\n",
       "    <tr>\n",
       "      <th>2020-06-25</th>\n",
       "      <td>-0.506261</td>\n",
       "      <td>0.706759</td>\n",
       "      <td>-0.287065</td>\n",
       "      <td>0.303444</td>\n",
       "    </tr>\n",
       "    <tr>\n",
       "      <th>2020-06-26</th>\n",
       "      <td>0.167685</td>\n",
       "      <td>0.760474</td>\n",
       "      <td>1.833029</td>\n",
       "      <td>0.347952</td>\n",
       "    </tr>\n",
       "    <tr>\n",
       "      <th>2020-06-27</th>\n",
       "      <td>-1.794183</td>\n",
       "      <td>-0.886431</td>\n",
       "      <td>1.141095</td>\n",
       "      <td>0.190425</td>\n",
       "    </tr>\n",
       "    <tr>\n",
       "      <th>2020-06-28</th>\n",
       "      <td>-0.474138</td>\n",
       "      <td>-0.852279</td>\n",
       "      <td>2.148255</td>\n",
       "      <td>2.306925</td>\n",
       "    </tr>\n",
       "    <tr>\n",
       "      <th>2020-06-29</th>\n",
       "      <td>0.561093</td>\n",
       "      <td>0.121112</td>\n",
       "      <td>0.117893</td>\n",
       "      <td>2.521105</td>\n",
       "    </tr>\n",
       "    <tr>\n",
       "      <th>2020-06-30</th>\n",
       "      <td>-0.167952</td>\n",
       "      <td>0.594512</td>\n",
       "      <td>2.093429</td>\n",
       "      <td>-1.058709</td>\n",
       "    </tr>\n",
       "  </tbody>\n",
       "</table>\n",
       "</div>"
      ],
      "text/plain": [
       "                   A         B         C         D\n",
       "index                                             \n",
       "2020-06-25 -0.506261  0.706759 -0.287065  0.303444\n",
       "2020-06-26  0.167685  0.760474  1.833029  0.347952\n",
       "2020-06-27 -1.794183 -0.886431  1.141095  0.190425\n",
       "2020-06-28 -0.474138 -0.852279  2.148255  2.306925\n",
       "2020-06-29  0.561093  0.121112  0.117893  2.521105\n",
       "2020-06-30 -0.167952  0.594512  2.093429 -1.058709"
      ]
     },
     "execution_count": 32,
     "metadata": {},
     "output_type": "execute_result"
    }
   ],
   "source": [
    "df2"
   ]
  },
  {
   "cell_type": "code",
   "execution_count": 33,
   "id": "98b5278b",
   "metadata": {},
   "outputs": [],
   "source": [
    "df2['E']=  df2['A'] + 1#브로드캐스팅! 전체영역에 E열값 전부 생성됨."
   ]
  },
  {
   "cell_type": "code",
   "execution_count": 36,
   "id": "5a7b1a54",
   "metadata": {},
   "outputs": [
    {
     "data": {
      "text/plain": [
       "Index(['A', 'B', 'C', 'D', 'E'], dtype='object')"
      ]
     },
     "execution_count": 36,
     "metadata": {},
     "output_type": "execute_result"
    }
   ],
   "source": [
    "df2.columns"
   ]
  },
  {
   "cell_type": "code",
   "execution_count": 37,
   "id": "24522ed3",
   "metadata": {},
   "outputs": [
    {
     "data": {
      "text/plain": [
       "index\n",
       "2020-06-25    0.493739\n",
       "2020-06-26    1.167685\n",
       "2020-06-27   -0.794183\n",
       "2020-06-28    0.525862\n",
       "2020-06-29    1.561093\n",
       "2020-06-30    0.832048\n",
       "Name: E, dtype: float64"
      ]
     },
     "execution_count": 37,
     "metadata": {},
     "output_type": "execute_result"
    }
   ],
   "source": [
    "df2['E']"
   ]
  },
  {
   "cell_type": "code",
   "execution_count": 38,
   "id": "ac40a0d8",
   "metadata": {},
   "outputs": [],
   "source": [
    "df2['F'] = 0"
   ]
  },
  {
   "cell_type": "code",
   "execution_count": 39,
   "id": "ab152701",
   "metadata": {},
   "outputs": [
    {
     "data": {
      "text/plain": [
       "index\n",
       "2020-06-25    0\n",
       "2020-06-26    0\n",
       "2020-06-27    0\n",
       "2020-06-28    0\n",
       "2020-06-29    0\n",
       "2020-06-30    0\n",
       "Name: F, dtype: int64"
      ]
     },
     "execution_count": 39,
     "metadata": {},
     "output_type": "execute_result"
    }
   ],
   "source": [
    "df2['F']"
   ]
  },
  {
   "cell_type": "code",
   "execution_count": 41,
   "id": "def17c2d",
   "metadata": {},
   "outputs": [
    {
     "data": {
      "text/plain": [
       "index\n",
       "2020-06-25    0\n",
       "2020-06-26    1\n",
       "2020-06-27    2\n",
       "2020-06-28    3\n",
       "2020-06-29    4\n",
       "2020-06-30    5\n",
       "Name: G, dtype: int64"
      ]
     },
     "execution_count": 41,
     "metadata": {},
     "output_type": "execute_result"
    }
   ],
   "source": [
    "df2['G'] = range(0, 6)\n",
    "df2['G']"
   ]
  },
  {
   "cell_type": "code",
   "execution_count": 42,
   "id": "a6dd347c",
   "metadata": {},
   "outputs": [],
   "source": [
    "#기존의 인덱스를 살리고싶은경우 reset_index()해줘야한다.\n",
    "#리셋을 안하는 경우, 인덱스를 다른것으로 바꿨을 때\n",
    "#기존인덱스는 사라짐.\n",
    "\n",
    "#인덱스를 G로 바꾸기\n",
    "df2.set_index('G', inplace=True)"
   ]
  },
  {
   "cell_type": "code",
   "execution_count": 43,
   "id": "a520c491",
   "metadata": {},
   "outputs": [
    {
     "data": {
      "text/html": [
       "<div>\n",
       "<style scoped>\n",
       "    .dataframe tbody tr th:only-of-type {\n",
       "        vertical-align: middle;\n",
       "    }\n",
       "\n",
       "    .dataframe tbody tr th {\n",
       "        vertical-align: top;\n",
       "    }\n",
       "\n",
       "    .dataframe thead th {\n",
       "        text-align: right;\n",
       "    }\n",
       "</style>\n",
       "<table border=\"1\" class=\"dataframe\">\n",
       "  <thead>\n",
       "    <tr style=\"text-align: right;\">\n",
       "      <th></th>\n",
       "      <th>A</th>\n",
       "      <th>B</th>\n",
       "      <th>C</th>\n",
       "      <th>D</th>\n",
       "      <th>E</th>\n",
       "      <th>F</th>\n",
       "    </tr>\n",
       "    <tr>\n",
       "      <th>G</th>\n",
       "      <th></th>\n",
       "      <th></th>\n",
       "      <th></th>\n",
       "      <th></th>\n",
       "      <th></th>\n",
       "      <th></th>\n",
       "    </tr>\n",
       "  </thead>\n",
       "  <tbody>\n",
       "    <tr>\n",
       "      <th>0</th>\n",
       "      <td>-0.506261</td>\n",
       "      <td>0.706759</td>\n",
       "      <td>-0.287065</td>\n",
       "      <td>0.303444</td>\n",
       "      <td>0.493739</td>\n",
       "      <td>0</td>\n",
       "    </tr>\n",
       "    <tr>\n",
       "      <th>1</th>\n",
       "      <td>0.167685</td>\n",
       "      <td>0.760474</td>\n",
       "      <td>1.833029</td>\n",
       "      <td>0.347952</td>\n",
       "      <td>1.167685</td>\n",
       "      <td>0</td>\n",
       "    </tr>\n",
       "    <tr>\n",
       "      <th>2</th>\n",
       "      <td>-1.794183</td>\n",
       "      <td>-0.886431</td>\n",
       "      <td>1.141095</td>\n",
       "      <td>0.190425</td>\n",
       "      <td>-0.794183</td>\n",
       "      <td>0</td>\n",
       "    </tr>\n",
       "    <tr>\n",
       "      <th>3</th>\n",
       "      <td>-0.474138</td>\n",
       "      <td>-0.852279</td>\n",
       "      <td>2.148255</td>\n",
       "      <td>2.306925</td>\n",
       "      <td>0.525862</td>\n",
       "      <td>0</td>\n",
       "    </tr>\n",
       "    <tr>\n",
       "      <th>4</th>\n",
       "      <td>0.561093</td>\n",
       "      <td>0.121112</td>\n",
       "      <td>0.117893</td>\n",
       "      <td>2.521105</td>\n",
       "      <td>1.561093</td>\n",
       "      <td>0</td>\n",
       "    </tr>\n",
       "    <tr>\n",
       "      <th>5</th>\n",
       "      <td>-0.167952</td>\n",
       "      <td>0.594512</td>\n",
       "      <td>2.093429</td>\n",
       "      <td>-1.058709</td>\n",
       "      <td>0.832048</td>\n",
       "      <td>0</td>\n",
       "    </tr>\n",
       "  </tbody>\n",
       "</table>\n",
       "</div>"
      ],
      "text/plain": [
       "          A         B         C         D         E  F\n",
       "G                                                     \n",
       "0 -0.506261  0.706759 -0.287065  0.303444  0.493739  0\n",
       "1  0.167685  0.760474  1.833029  0.347952  1.167685  0\n",
       "2 -1.794183 -0.886431  1.141095  0.190425 -0.794183  0\n",
       "3 -0.474138 -0.852279  2.148255  2.306925  0.525862  0\n",
       "4  0.561093  0.121112  0.117893  2.521105  1.561093  0\n",
       "5 -0.167952  0.594512  2.093429 -1.058709  0.832048  0"
      ]
     },
     "execution_count": 43,
     "metadata": {},
     "output_type": "execute_result"
    }
   ],
   "source": [
    "df2"
   ]
  },
  {
   "cell_type": "code",
   "execution_count": 44,
   "id": "67f5bc54",
   "metadata": {},
   "outputs": [
    {
     "data": {
      "text/plain": [
       "Index(['A', 'B', 'C', 'D', 'E', 'F'], dtype='object')"
      ]
     },
     "execution_count": 44,
     "metadata": {},
     "output_type": "execute_result"
    }
   ],
   "source": [
    "df2.columns#G는 인덱스로 잡혀있어 보이지 않는다."
   ]
  },
  {
   "cell_type": "code",
   "execution_count": 67,
   "id": "a5eb91c3",
   "metadata": {
    "scrolled": true
   },
   "outputs": [
    {
     "data": {
      "text/html": [
       "<div>\n",
       "<style scoped>\n",
       "    .dataframe tbody tr th:only-of-type {\n",
       "        vertical-align: middle;\n",
       "    }\n",
       "\n",
       "    .dataframe tbody tr th {\n",
       "        vertical-align: top;\n",
       "    }\n",
       "\n",
       "    .dataframe thead th {\n",
       "        text-align: right;\n",
       "    }\n",
       "</style>\n",
       "<table border=\"1\" class=\"dataframe\">\n",
       "  <thead>\n",
       "    <tr style=\"text-align: right;\">\n",
       "      <th></th>\n",
       "      <th>A</th>\n",
       "      <th>B</th>\n",
       "      <th>C</th>\n",
       "      <th>D</th>\n",
       "      <th>H</th>\n",
       "    </tr>\n",
       "  </thead>\n",
       "  <tbody>\n",
       "    <tr>\n",
       "      <th>2020-06-25</th>\n",
       "      <td>-0.506261</td>\n",
       "      <td>0.706759</td>\n",
       "      <td>-0.287065</td>\n",
       "      <td>0.303444</td>\n",
       "      <td>1</td>\n",
       "    </tr>\n",
       "    <tr>\n",
       "      <th>2020-06-26</th>\n",
       "      <td>0.167685</td>\n",
       "      <td>0.760474</td>\n",
       "      <td>1.833029</td>\n",
       "      <td>0.347952</td>\n",
       "      <td>1</td>\n",
       "    </tr>\n",
       "    <tr>\n",
       "      <th>2020-06-27</th>\n",
       "      <td>-1.794183</td>\n",
       "      <td>-0.886431</td>\n",
       "      <td>1.141095</td>\n",
       "      <td>0.190425</td>\n",
       "      <td>1</td>\n",
       "    </tr>\n",
       "    <tr>\n",
       "      <th>2020-06-28</th>\n",
       "      <td>-0.474138</td>\n",
       "      <td>-0.852279</td>\n",
       "      <td>2.148255</td>\n",
       "      <td>2.306925</td>\n",
       "      <td>1</td>\n",
       "    </tr>\n",
       "    <tr>\n",
       "      <th>2020-06-29</th>\n",
       "      <td>0.561093</td>\n",
       "      <td>0.121112</td>\n",
       "      <td>0.117893</td>\n",
       "      <td>2.521105</td>\n",
       "      <td>1</td>\n",
       "    </tr>\n",
       "    <tr>\n",
       "      <th>2020-06-30</th>\n",
       "      <td>-0.167952</td>\n",
       "      <td>0.594512</td>\n",
       "      <td>2.093429</td>\n",
       "      <td>-1.058709</td>\n",
       "      <td>1</td>\n",
       "    </tr>\n",
       "  </tbody>\n",
       "</table>\n",
       "</div>"
      ],
      "text/plain": [
       "                   A         B         C         D  H\n",
       "2020-06-25 -0.506261  0.706759 -0.287065  0.303444  1\n",
       "2020-06-26  0.167685  0.760474  1.833029  0.347952  1\n",
       "2020-06-27 -1.794183 -0.886431  1.141095  0.190425  1\n",
       "2020-06-28 -0.474138 -0.852279  2.148255  2.306925  1\n",
       "2020-06-29  0.561093  0.121112  0.117893  2.521105  1\n",
       "2020-06-30 -0.167952  0.594512  2.093429 -1.058709  1"
      ]
     },
     "execution_count": 67,
     "metadata": {},
     "output_type": "execute_result"
    }
   ],
   "source": [
    "df3 = df.copy()\n",
    "df3"
   ]
  },
  {
   "cell_type": "code",
   "execution_count": 68,
   "id": "ee1ef5f1",
   "metadata": {},
   "outputs": [],
   "source": [
    "#1.E항목을 파생변수로 만드세요. 1~10범위 값\n",
    "#2.F항목을 파생변수로 만드세요. A열과 C열의 합\n",
    "#3.H항목을 파생변수로 만드세요. 1로 설정"
   ]
  },
  {
   "cell_type": "code",
   "execution_count": 69,
   "id": "32745aeb",
   "metadata": {},
   "outputs": [],
   "source": [
    "import random"
   ]
  },
  {
   "cell_type": "code",
   "execution_count": 70,
   "id": "b33849a3",
   "metadata": {},
   "outputs": [
    {
     "name": "stdout",
     "output_type": "stream",
     "text": [
      "[9, 6, 7, 9, 8, 9]\n"
     ]
    },
    {
     "data": {
      "text/plain": [
       "2020-06-25    9\n",
       "2020-06-26    6\n",
       "2020-06-27    7\n",
       "2020-06-28    9\n",
       "2020-06-29    8\n",
       "2020-06-30    9\n",
       "Freq: D, Name: E, dtype: int64"
      ]
     },
     "execution_count": 70,
     "metadata": {},
     "output_type": "execute_result"
    }
   ],
   "source": [
    "#1.E항목을 파생변수로 만드세요. 1~10범위 값\n",
    "data = range(1,11)\n",
    "data2 = []\n",
    "for x in range(6):#6개를 포문을 돌려서\n",
    "    data2.append(random.choice(data))#랜덤하게 1~10사이값 뽑기\n",
    "print(data2)\n",
    "df3['E'] = data2\n",
    "df3['E']"
   ]
  },
  {
   "cell_type": "code",
   "execution_count": 71,
   "id": "da2d8891",
   "metadata": {},
   "outputs": [
    {
     "data": {
      "text/html": [
       "<div>\n",
       "<style scoped>\n",
       "    .dataframe tbody tr th:only-of-type {\n",
       "        vertical-align: middle;\n",
       "    }\n",
       "\n",
       "    .dataframe tbody tr th {\n",
       "        vertical-align: top;\n",
       "    }\n",
       "\n",
       "    .dataframe thead th {\n",
       "        text-align: right;\n",
       "    }\n",
       "</style>\n",
       "<table border=\"1\" class=\"dataframe\">\n",
       "  <thead>\n",
       "    <tr style=\"text-align: right;\">\n",
       "      <th></th>\n",
       "      <th>A</th>\n",
       "      <th>B</th>\n",
       "      <th>C</th>\n",
       "      <th>D</th>\n",
       "      <th>H</th>\n",
       "      <th>E</th>\n",
       "      <th>F</th>\n",
       "    </tr>\n",
       "  </thead>\n",
       "  <tbody>\n",
       "    <tr>\n",
       "      <th>2020-06-25</th>\n",
       "      <td>-0.506261</td>\n",
       "      <td>0.706759</td>\n",
       "      <td>-0.287065</td>\n",
       "      <td>0.303444</td>\n",
       "      <td>1</td>\n",
       "      <td>9</td>\n",
       "      <td>-0.793326</td>\n",
       "    </tr>\n",
       "    <tr>\n",
       "      <th>2020-06-26</th>\n",
       "      <td>0.167685</td>\n",
       "      <td>0.760474</td>\n",
       "      <td>1.833029</td>\n",
       "      <td>0.347952</td>\n",
       "      <td>1</td>\n",
       "      <td>6</td>\n",
       "      <td>2.000715</td>\n",
       "    </tr>\n",
       "    <tr>\n",
       "      <th>2020-06-27</th>\n",
       "      <td>-1.794183</td>\n",
       "      <td>-0.886431</td>\n",
       "      <td>1.141095</td>\n",
       "      <td>0.190425</td>\n",
       "      <td>1</td>\n",
       "      <td>7</td>\n",
       "      <td>-0.653088</td>\n",
       "    </tr>\n",
       "    <tr>\n",
       "      <th>2020-06-28</th>\n",
       "      <td>-0.474138</td>\n",
       "      <td>-0.852279</td>\n",
       "      <td>2.148255</td>\n",
       "      <td>2.306925</td>\n",
       "      <td>1</td>\n",
       "      <td>9</td>\n",
       "      <td>1.674117</td>\n",
       "    </tr>\n",
       "    <tr>\n",
       "      <th>2020-06-29</th>\n",
       "      <td>0.561093</td>\n",
       "      <td>0.121112</td>\n",
       "      <td>0.117893</td>\n",
       "      <td>2.521105</td>\n",
       "      <td>1</td>\n",
       "      <td>8</td>\n",
       "      <td>0.678986</td>\n",
       "    </tr>\n",
       "    <tr>\n",
       "      <th>2020-06-30</th>\n",
       "      <td>-0.167952</td>\n",
       "      <td>0.594512</td>\n",
       "      <td>2.093429</td>\n",
       "      <td>-1.058709</td>\n",
       "      <td>1</td>\n",
       "      <td>9</td>\n",
       "      <td>1.925477</td>\n",
       "    </tr>\n",
       "  </tbody>\n",
       "</table>\n",
       "</div>"
      ],
      "text/plain": [
       "                   A         B         C         D  H  E         F\n",
       "2020-06-25 -0.506261  0.706759 -0.287065  0.303444  1  9 -0.793326\n",
       "2020-06-26  0.167685  0.760474  1.833029  0.347952  1  6  2.000715\n",
       "2020-06-27 -1.794183 -0.886431  1.141095  0.190425  1  7 -0.653088\n",
       "2020-06-28 -0.474138 -0.852279  2.148255  2.306925  1  9  1.674117\n",
       "2020-06-29  0.561093  0.121112  0.117893  2.521105  1  8  0.678986\n",
       "2020-06-30 -0.167952  0.594512  2.093429 -1.058709  1  9  1.925477"
      ]
     },
     "execution_count": 71,
     "metadata": {},
     "output_type": "execute_result"
    }
   ],
   "source": [
    "#2.F항목을 파생변수로 만드세요. A열과 C열의 합\n",
    "df3['F'] = df3['A'] + df3['C']#순서!1.F라는 공간을 만들고, 2.왼쪽 연산하고 3. 대입!(=)하라.\n",
    "df3"
   ]
  },
  {
   "cell_type": "code",
   "execution_count": 72,
   "id": "e3e5c8c0",
   "metadata": {},
   "outputs": [],
   "source": [
    "#3.H항목을 파생변수로 만드세요. 1로 설정"
   ]
  },
  {
   "cell_type": "code",
   "execution_count": 73,
   "id": "6cc5a16a",
   "metadata": {},
   "outputs": [],
   "source": [
    "df3['H'] = 1"
   ]
  },
  {
   "cell_type": "code",
   "execution_count": 74,
   "id": "8d10064b",
   "metadata": {},
   "outputs": [
    {
     "data": {
      "text/html": [
       "<div>\n",
       "<style scoped>\n",
       "    .dataframe tbody tr th:only-of-type {\n",
       "        vertical-align: middle;\n",
       "    }\n",
       "\n",
       "    .dataframe tbody tr th {\n",
       "        vertical-align: top;\n",
       "    }\n",
       "\n",
       "    .dataframe thead th {\n",
       "        text-align: right;\n",
       "    }\n",
       "</style>\n",
       "<table border=\"1\" class=\"dataframe\">\n",
       "  <thead>\n",
       "    <tr style=\"text-align: right;\">\n",
       "      <th></th>\n",
       "      <th>A</th>\n",
       "      <th>B</th>\n",
       "      <th>C</th>\n",
       "      <th>D</th>\n",
       "      <th>H</th>\n",
       "      <th>E</th>\n",
       "      <th>F</th>\n",
       "    </tr>\n",
       "  </thead>\n",
       "  <tbody>\n",
       "    <tr>\n",
       "      <th>2020-06-25</th>\n",
       "      <td>-0.506261</td>\n",
       "      <td>0.706759</td>\n",
       "      <td>-0.287065</td>\n",
       "      <td>0.303444</td>\n",
       "      <td>1</td>\n",
       "      <td>9</td>\n",
       "      <td>-0.793326</td>\n",
       "    </tr>\n",
       "    <tr>\n",
       "      <th>2020-06-26</th>\n",
       "      <td>0.167685</td>\n",
       "      <td>0.760474</td>\n",
       "      <td>1.833029</td>\n",
       "      <td>0.347952</td>\n",
       "      <td>1</td>\n",
       "      <td>6</td>\n",
       "      <td>2.000715</td>\n",
       "    </tr>\n",
       "    <tr>\n",
       "      <th>2020-06-27</th>\n",
       "      <td>-1.794183</td>\n",
       "      <td>-0.886431</td>\n",
       "      <td>1.141095</td>\n",
       "      <td>0.190425</td>\n",
       "      <td>1</td>\n",
       "      <td>7</td>\n",
       "      <td>-0.653088</td>\n",
       "    </tr>\n",
       "    <tr>\n",
       "      <th>2020-06-28</th>\n",
       "      <td>-0.474138</td>\n",
       "      <td>-0.852279</td>\n",
       "      <td>2.148255</td>\n",
       "      <td>2.306925</td>\n",
       "      <td>1</td>\n",
       "      <td>9</td>\n",
       "      <td>1.674117</td>\n",
       "    </tr>\n",
       "    <tr>\n",
       "      <th>2020-06-29</th>\n",
       "      <td>0.561093</td>\n",
       "      <td>0.121112</td>\n",
       "      <td>0.117893</td>\n",
       "      <td>2.521105</td>\n",
       "      <td>1</td>\n",
       "      <td>8</td>\n",
       "      <td>0.678986</td>\n",
       "    </tr>\n",
       "    <tr>\n",
       "      <th>2020-06-30</th>\n",
       "      <td>-0.167952</td>\n",
       "      <td>0.594512</td>\n",
       "      <td>2.093429</td>\n",
       "      <td>-1.058709</td>\n",
       "      <td>1</td>\n",
       "      <td>9</td>\n",
       "      <td>1.925477</td>\n",
       "    </tr>\n",
       "  </tbody>\n",
       "</table>\n",
       "</div>"
      ],
      "text/plain": [
       "                   A         B         C         D  H  E         F\n",
       "2020-06-25 -0.506261  0.706759 -0.287065  0.303444  1  9 -0.793326\n",
       "2020-06-26  0.167685  0.760474  1.833029  0.347952  1  6  2.000715\n",
       "2020-06-27 -1.794183 -0.886431  1.141095  0.190425  1  7 -0.653088\n",
       "2020-06-28 -0.474138 -0.852279  2.148255  2.306925  1  9  1.674117\n",
       "2020-06-29  0.561093  0.121112  0.117893  2.521105  1  8  0.678986\n",
       "2020-06-30 -0.167952  0.594512  2.093429 -1.058709  1  9  1.925477"
      ]
     },
     "execution_count": 74,
     "metadata": {},
     "output_type": "execute_result"
    }
   ],
   "source": [
    "df3"
   ]
  },
  {
   "cell_type": "code",
   "execution_count": 75,
   "id": "739b9e5a",
   "metadata": {},
   "outputs": [
    {
     "data": {
      "text/plain": [
       "[4, 2, 3, 3, 6, 4]"
      ]
     },
     "execution_count": 75,
     "metadata": {},
     "output_type": "execute_result"
    }
   ],
   "source": [
    "data2=[]\n",
    "for _ in range(6):\n",
    "    data2.append(random.randint(1,10))\n",
    "data2"
   ]
  },
  {
   "cell_type": "code",
   "execution_count": 76,
   "id": "5287fb7b",
   "metadata": {},
   "outputs": [
    {
     "data": {
      "text/plain": [
       "2020-06-25    4\n",
       "2020-06-26    2\n",
       "2020-06-27    3\n",
       "2020-06-28    3\n",
       "2020-06-29    6\n",
       "2020-06-30    4\n",
       "Freq: D, Name: Z, dtype: int64"
      ]
     },
     "execution_count": 76,
     "metadata": {},
     "output_type": "execute_result"
    }
   ],
   "source": [
    "df3['Z'] = data2\n",
    "df3['Z']"
   ]
  },
  {
   "cell_type": "code",
   "execution_count": 79,
   "id": "575a9a2b",
   "metadata": {},
   "outputs": [
    {
     "data": {
      "text/plain": [
       "[6, 10, 3, 5, 3, 1]"
      ]
     },
     "execution_count": 79,
     "metadata": {},
     "output_type": "execute_result"
    }
   ],
   "source": [
    "#랜덤하게 6개의 값을 발생시키는 코드 방법 2가지\n",
    "# data2=[]\n",
    "# for _ in range(6):\n",
    "#     data2.append(random.randint(1,10))\n",
    "# data2\n",
    "\n",
    "#List Comprehension(리스트 내포):결과가 항상 리스트\n",
    "[random.randint(1,10) for _ in range(6)]#대괄호 안에 있는 내용은 리스트로 출력된다. 포문할때처럼 data2=[]이런코드가 필요없음.\n"
   ]
  },
  {
   "cell_type": "code",
   "execution_count": 80,
   "id": "30dc1c61",
   "metadata": {},
   "outputs": [
    {
     "data": {
      "text/plain": [
       "2020-06-25    8\n",
       "2020-06-26    5\n",
       "2020-06-27    5\n",
       "2020-06-28    8\n",
       "2020-06-29    6\n",
       "2020-06-30    8\n",
       "Freq: D, Name: Z2, dtype: int64"
      ]
     },
     "execution_count": 80,
     "metadata": {},
     "output_type": "execute_result"
    }
   ],
   "source": [
    "df3['Z2'] = [random.randint(1,10) for _ in range(6)]\n",
    "df3['Z2']"
   ]
  },
  {
   "cell_type": "code",
   "execution_count": 81,
   "id": "51f1f92d",
   "metadata": {},
   "outputs": [
    {
     "data": {
      "text/plain": [
       "range(0, 10)"
      ]
     },
     "execution_count": 81,
     "metadata": {},
     "output_type": "execute_result"
    }
   ],
   "source": [
    "range(10)"
   ]
  },
  {
   "cell_type": "code",
   "execution_count": 82,
   "id": "a10c36ab",
   "metadata": {},
   "outputs": [
    {
     "data": {
      "text/plain": [
       "[0, 1, 2, 3, 4, 5, 6, 7, 8, 9]"
      ]
     },
     "execution_count": 82,
     "metadata": {},
     "output_type": "execute_result"
    }
   ],
   "source": [
    "list(range(10))"
   ]
  },
  {
   "cell_type": "code",
   "execution_count": 83,
   "id": "b3105892",
   "metadata": {},
   "outputs": [
    {
     "data": {
      "text/plain": [
       "[1, 2, 3, 4, 5, 6, 7, 8, 9, 10]"
      ]
     },
     "execution_count": 83,
     "metadata": {},
     "output_type": "execute_result"
    }
   ],
   "source": [
    "#['반복하면서 한번에 처리할 내용' for i in range(10)]\n",
    "[i + 1 for i in range(10)]"
   ]
  },
  {
   "cell_type": "code",
   "execution_count": 86,
   "id": "ad3b6a27",
   "metadata": {},
   "outputs": [
    {
     "data": {
      "text/plain": [
       "[1, 3, 5, 7, 9]"
      ]
     },
     "execution_count": 86,
     "metadata": {},
     "output_type": "execute_result"
    }
   ],
   "source": [
    "#조건주기.\n",
    "#['반복하면서 한번에 처리할 내용' for i in range(10) if i/2 == 0]\n",
    "[i + 1 for i in range(10) if i%2 == 0]\n",
    "\n",
    "#포문으로 위 코드를 바꾸면 아래와 같다.\n",
    "# data3=[]\n",
    "# for i in range(10):\n",
    "#     if i%2 ==0:#%는 나머지를 구하는 연산자. 나머지가 없는 수\n",
    "#         data3.append(i)\n",
    "# data3"
   ]
  },
  {
   "cell_type": "code",
   "execution_count": 87,
   "id": "4c612f71",
   "metadata": {},
   "outputs": [],
   "source": [
    "#문제를 풀어보자~~~~~~~"
   ]
  },
  {
   "cell_type": "code",
   "execution_count": 88,
   "id": "bfe638cb",
   "metadata": {},
   "outputs": [
    {
     "name": "stdout",
     "output_type": "stream",
     "text": [
      "홍길동\n",
      "김길동\n",
      "송길동\n"
     ]
    }
   ],
   "source": [
    "name = ['홍길동','김길동','송길동']\n",
    "for x in name:\n",
    "    print(x)"
   ]
  },
  {
   "cell_type": "code",
   "execution_count": 104,
   "id": "e6b41f8f",
   "metadata": {},
   "outputs": [
    {
     "data": {
      "text/plain": [
       "['홍길동님', '김길동님', '송길동님']"
      ]
     },
     "execution_count": 104,
     "metadata": {},
     "output_type": "execute_result"
    }
   ],
   "source": [
    "#name에 들어있는 각각의 모든 데이터 뒤에 \"님\"글자를 붙여주세요!\n",
    "[x + '님' for x in name]"
   ]
  },
  {
   "cell_type": "code",
   "execution_count": 112,
   "id": "cee8a9c2",
   "metadata": {},
   "outputs": [
    {
     "data": {
      "text/plain": [
       "['신입홍길동', '신입김길동', '신입송길동']"
      ]
     },
     "execution_count": 112,
     "metadata": {},
     "output_type": "execute_result"
    }
   ],
   "source": [
    "#name에 들어있는 각각의 모든 데이터에 앞에 \"신입\"글자를 붙여주세요!\n",
    "['신입' + x  for x in name]"
   ]
  },
  {
   "cell_type": "code",
   "execution_count": 113,
   "id": "2227ff82",
   "metadata": {},
   "outputs": [],
   "source": [
    "a_list = range(1,100,2)"
   ]
  },
  {
   "cell_type": "code",
   "execution_count": 116,
   "id": "0998e7c6",
   "metadata": {},
   "outputs": [
    {
     "data": {
      "text/plain": [
       "50"
      ]
     },
     "execution_count": 116,
     "metadata": {},
     "output_type": "execute_result"
    }
   ],
   "source": [
    "#a_list에 몇 개가 들어있는지 세어보세요\n",
    "count = 0\n",
    "result = [count + 1 for x in a_list]\n",
    "sum(result)\n",
    "#len(list(a_list))"
   ]
  },
  {
   "cell_type": "code",
   "execution_count": 117,
   "id": "cc85c207",
   "metadata": {},
   "outputs": [],
   "source": [
    "#a_list의 각각의 모든 데이터에 0.1을 곱해보세요~변경된 a_list의 합과 평균\n",
    "a_list = [x*0.1 for x in a_list]"
   ]
  },
  {
   "cell_type": "code",
   "execution_count": 118,
   "id": "ce9dd6eb",
   "metadata": {},
   "outputs": [
    {
     "data": {
      "text/plain": [
       "[0.1,\n",
       " 0.30000000000000004,\n",
       " 0.5,\n",
       " 0.7000000000000001,\n",
       " 0.9,\n",
       " 1.1,\n",
       " 1.3,\n",
       " 1.5,\n",
       " 1.7000000000000002,\n",
       " 1.9000000000000001,\n",
       " 2.1,\n",
       " 2.3000000000000003,\n",
       " 2.5,\n",
       " 2.7,\n",
       " 2.9000000000000004,\n",
       " 3.1,\n",
       " 3.3000000000000003,\n",
       " 3.5,\n",
       " 3.7,\n",
       " 3.9000000000000004,\n",
       " 4.1000000000000005,\n",
       " 4.3,\n",
       " 4.5,\n",
       " 4.7,\n",
       " 4.9,\n",
       " 5.1000000000000005,\n",
       " 5.300000000000001,\n",
       " 5.5,\n",
       " 5.7,\n",
       " 5.9,\n",
       " 6.1000000000000005,\n",
       " 6.300000000000001,\n",
       " 6.5,\n",
       " 6.7,\n",
       " 6.9,\n",
       " 7.1000000000000005,\n",
       " 7.300000000000001,\n",
       " 7.5,\n",
       " 7.7,\n",
       " 7.9,\n",
       " 8.1,\n",
       " 8.3,\n",
       " 8.5,\n",
       " 8.700000000000001,\n",
       " 8.9,\n",
       " 9.1,\n",
       " 9.3,\n",
       " 9.5,\n",
       " 9.700000000000001,\n",
       " 9.9]"
      ]
     },
     "execution_count": 118,
     "metadata": {},
     "output_type": "execute_result"
    }
   ],
   "source": [
    "a_list"
   ]
  },
  {
   "cell_type": "code",
   "execution_count": 120,
   "id": "7fba8b2a",
   "metadata": {},
   "outputs": [
    {
     "data": {
      "text/plain": [
       "250.0"
      ]
     },
     "execution_count": 120,
     "metadata": {},
     "output_type": "execute_result"
    }
   ],
   "source": [
    "np.sum(a_list)"
   ]
  },
  {
   "cell_type": "code",
   "execution_count": 121,
   "id": "faa5a614",
   "metadata": {},
   "outputs": [
    {
     "data": {
      "text/plain": [
       "5.0"
      ]
     },
     "execution_count": 121,
     "metadata": {},
     "output_type": "execute_result"
    }
   ],
   "source": [
    "np.mean(a_list)"
   ]
  },
  {
   "cell_type": "code",
   "execution_count": 122,
   "id": "8df8f02d",
   "metadata": {},
   "outputs": [
    {
     "data": {
      "text/plain": [
       "2.8861739379323628"
      ]
     },
     "execution_count": 122,
     "metadata": {},
     "output_type": "execute_result"
    }
   ],
   "source": [
    "np.std(a_list)#표준편차 구하기!"
   ]
  },
  {
   "cell_type": "code",
   "execution_count": 125,
   "id": "ab65c07b",
   "metadata": {},
   "outputs": [
    {
     "data": {
      "text/plain": [
       "[0.010000000000000002, 0.030000000000000006, 0.05]"
      ]
     },
     "execution_count": 125,
     "metadata": {},
     "output_type": "execute_result"
    }
   ],
   "source": [
    "[x*0.1 for x in a_list][:3]#전부다 안찍고 위에 3개만 찍어봄(리스트에 인덱스([:3]) 줘서)"
   ]
  },
  {
   "cell_type": "code",
   "execution_count": 132,
   "id": "8ee05422",
   "metadata": {},
   "outputs": [
    {
     "data": {
      "text/html": [
       "<div>\n",
       "<style scoped>\n",
       "    .dataframe tbody tr th:only-of-type {\n",
       "        vertical-align: middle;\n",
       "    }\n",
       "\n",
       "    .dataframe tbody tr th {\n",
       "        vertical-align: top;\n",
       "    }\n",
       "\n",
       "    .dataframe thead th {\n",
       "        text-align: right;\n",
       "    }\n",
       "</style>\n",
       "<table border=\"1\" class=\"dataframe\">\n",
       "  <thead>\n",
       "    <tr style=\"text-align: right;\">\n",
       "      <th></th>\n",
       "      <th>A</th>\n",
       "      <th>B</th>\n",
       "      <th>C</th>\n",
       "      <th>D</th>\n",
       "    </tr>\n",
       "  </thead>\n",
       "  <tbody>\n",
       "    <tr>\n",
       "      <th>2020-06-25</th>\n",
       "      <td>-0.506261</td>\n",
       "      <td>0.706759</td>\n",
       "      <td>-0.287065</td>\n",
       "      <td>0.303444</td>\n",
       "    </tr>\n",
       "    <tr>\n",
       "      <th>2020-06-26</th>\n",
       "      <td>0.167685</td>\n",
       "      <td>0.760474</td>\n",
       "      <td>1.833029</td>\n",
       "      <td>0.347952</td>\n",
       "    </tr>\n",
       "    <tr>\n",
       "      <th>2020-06-27</th>\n",
       "      <td>-1.794183</td>\n",
       "      <td>-0.886431</td>\n",
       "      <td>1.141095</td>\n",
       "      <td>0.190425</td>\n",
       "    </tr>\n",
       "    <tr>\n",
       "      <th>2020-06-28</th>\n",
       "      <td>-0.474138</td>\n",
       "      <td>-0.852279</td>\n",
       "      <td>2.148255</td>\n",
       "      <td>2.306925</td>\n",
       "    </tr>\n",
       "    <tr>\n",
       "      <th>2020-06-29</th>\n",
       "      <td>0.561093</td>\n",
       "      <td>0.121112</td>\n",
       "      <td>0.117893</td>\n",
       "      <td>2.521105</td>\n",
       "    </tr>\n",
       "    <tr>\n",
       "      <th>2020-06-30</th>\n",
       "      <td>-0.167952</td>\n",
       "      <td>0.594512</td>\n",
       "      <td>2.093429</td>\n",
       "      <td>-1.058709</td>\n",
       "    </tr>\n",
       "  </tbody>\n",
       "</table>\n",
       "</div>"
      ],
      "text/plain": [
       "                   A         B         C         D\n",
       "2020-06-25 -0.506261  0.706759 -0.287065  0.303444\n",
       "2020-06-26  0.167685  0.760474  1.833029  0.347952\n",
       "2020-06-27 -1.794183 -0.886431  1.141095  0.190425\n",
       "2020-06-28 -0.474138 -0.852279  2.148255  2.306925\n",
       "2020-06-29  0.561093  0.121112  0.117893  2.521105\n",
       "2020-06-30 -0.167952  0.594512  2.093429 -1.058709"
      ]
     },
     "execution_count": 132,
     "metadata": {},
     "output_type": "execute_result"
    }
   ],
   "source": [
    "df3"
   ]
  },
  {
   "cell_type": "code",
   "execution_count": 130,
   "id": "28171751",
   "metadata": {},
   "outputs": [
    {
     "ename": "KeyError",
     "evalue": "\"['H' 'E' 'F' 'Z' 'Z2'] not found in axis\"",
     "output_type": "error",
     "traceback": [
      "\u001b[1;31m---------------------------------------------------------------------------\u001b[0m",
      "\u001b[1;31mKeyError\u001b[0m                                  Traceback (most recent call last)",
      "\u001b[1;32m~\\AppData\\Local\\Temp/ipykernel_15200/903258152.py\u001b[0m in \u001b[0;36m<module>\u001b[1;34m\u001b[0m\n\u001b[1;32m----> 1\u001b[1;33m \u001b[0mdf3\u001b[0m\u001b[1;33m.\u001b[0m\u001b[0mdrop\u001b[0m\u001b[1;33m(\u001b[0m\u001b[0mcolumns\u001b[0m\u001b[1;33m=\u001b[0m\u001b[1;33m[\u001b[0m\u001b[1;34m\"H\"\u001b[0m\u001b[1;33m,\u001b[0m\u001b[1;34m\"E\"\u001b[0m\u001b[1;33m,\u001b[0m\u001b[1;34m\"F\"\u001b[0m\u001b[1;33m,\u001b[0m\u001b[1;34m\"Z\"\u001b[0m\u001b[1;33m,\u001b[0m\u001b[1;34m\"Z2\"\u001b[0m\u001b[1;33m]\u001b[0m\u001b[1;33m,\u001b[0m\u001b[0minplace\u001b[0m\u001b[1;33m=\u001b[0m\u001b[1;32mTrue\u001b[0m\u001b[1;33m)\u001b[0m\u001b[1;31m# drop colums하면 해당컬럼 삭제!!!\u001b[0m\u001b[1;33m\u001b[0m\u001b[1;33m\u001b[0m\u001b[0m\n\u001b[0m\u001b[0;32m      2\u001b[0m \u001b[0mdf3\u001b[0m\u001b[1;33m\u001b[0m\u001b[1;33m\u001b[0m\u001b[0m\n",
      "\u001b[1;32m~\\anaconda3\\lib\\site-packages\\pandas\\util\\_decorators.py\u001b[0m in \u001b[0;36mwrapper\u001b[1;34m(*args, **kwargs)\u001b[0m\n\u001b[0;32m    309\u001b[0m                     \u001b[0mstacklevel\u001b[0m\u001b[1;33m=\u001b[0m\u001b[0mstacklevel\u001b[0m\u001b[1;33m,\u001b[0m\u001b[1;33m\u001b[0m\u001b[1;33m\u001b[0m\u001b[0m\n\u001b[0;32m    310\u001b[0m                 )\n\u001b[1;32m--> 311\u001b[1;33m             \u001b[1;32mreturn\u001b[0m \u001b[0mfunc\u001b[0m\u001b[1;33m(\u001b[0m\u001b[1;33m*\u001b[0m\u001b[0margs\u001b[0m\u001b[1;33m,\u001b[0m \u001b[1;33m**\u001b[0m\u001b[0mkwargs\u001b[0m\u001b[1;33m)\u001b[0m\u001b[1;33m\u001b[0m\u001b[1;33m\u001b[0m\u001b[0m\n\u001b[0m\u001b[0;32m    312\u001b[0m \u001b[1;33m\u001b[0m\u001b[0m\n\u001b[0;32m    313\u001b[0m         \u001b[1;32mreturn\u001b[0m \u001b[0mwrapper\u001b[0m\u001b[1;33m\u001b[0m\u001b[1;33m\u001b[0m\u001b[0m\n",
      "\u001b[1;32m~\\anaconda3\\lib\\site-packages\\pandas\\core\\frame.py\u001b[0m in \u001b[0;36mdrop\u001b[1;34m(self, labels, axis, index, columns, level, inplace, errors)\u001b[0m\n\u001b[0;32m   4904\u001b[0m                 \u001b[0mweight\u001b[0m  \u001b[1;36m1.0\u001b[0m     \u001b[1;36m0.8\u001b[0m\u001b[1;33m\u001b[0m\u001b[1;33m\u001b[0m\u001b[0m\n\u001b[0;32m   4905\u001b[0m         \"\"\"\n\u001b[1;32m-> 4906\u001b[1;33m         return super().drop(\n\u001b[0m\u001b[0;32m   4907\u001b[0m             \u001b[0mlabels\u001b[0m\u001b[1;33m=\u001b[0m\u001b[0mlabels\u001b[0m\u001b[1;33m,\u001b[0m\u001b[1;33m\u001b[0m\u001b[1;33m\u001b[0m\u001b[0m\n\u001b[0;32m   4908\u001b[0m             \u001b[0maxis\u001b[0m\u001b[1;33m=\u001b[0m\u001b[0maxis\u001b[0m\u001b[1;33m,\u001b[0m\u001b[1;33m\u001b[0m\u001b[1;33m\u001b[0m\u001b[0m\n",
      "\u001b[1;32m~\\anaconda3\\lib\\site-packages\\pandas\\core\\generic.py\u001b[0m in \u001b[0;36mdrop\u001b[1;34m(self, labels, axis, index, columns, level, inplace, errors)\u001b[0m\n\u001b[0;32m   4148\u001b[0m         \u001b[1;32mfor\u001b[0m \u001b[0maxis\u001b[0m\u001b[1;33m,\u001b[0m \u001b[0mlabels\u001b[0m \u001b[1;32min\u001b[0m \u001b[0maxes\u001b[0m\u001b[1;33m.\u001b[0m\u001b[0mitems\u001b[0m\u001b[1;33m(\u001b[0m\u001b[1;33m)\u001b[0m\u001b[1;33m:\u001b[0m\u001b[1;33m\u001b[0m\u001b[1;33m\u001b[0m\u001b[0m\n\u001b[0;32m   4149\u001b[0m             \u001b[1;32mif\u001b[0m \u001b[0mlabels\u001b[0m \u001b[1;32mis\u001b[0m \u001b[1;32mnot\u001b[0m \u001b[1;32mNone\u001b[0m\u001b[1;33m:\u001b[0m\u001b[1;33m\u001b[0m\u001b[1;33m\u001b[0m\u001b[0m\n\u001b[1;32m-> 4150\u001b[1;33m                 \u001b[0mobj\u001b[0m \u001b[1;33m=\u001b[0m \u001b[0mobj\u001b[0m\u001b[1;33m.\u001b[0m\u001b[0m_drop_axis\u001b[0m\u001b[1;33m(\u001b[0m\u001b[0mlabels\u001b[0m\u001b[1;33m,\u001b[0m \u001b[0maxis\u001b[0m\u001b[1;33m,\u001b[0m \u001b[0mlevel\u001b[0m\u001b[1;33m=\u001b[0m\u001b[0mlevel\u001b[0m\u001b[1;33m,\u001b[0m \u001b[0merrors\u001b[0m\u001b[1;33m=\u001b[0m\u001b[0merrors\u001b[0m\u001b[1;33m)\u001b[0m\u001b[1;33m\u001b[0m\u001b[1;33m\u001b[0m\u001b[0m\n\u001b[0m\u001b[0;32m   4151\u001b[0m \u001b[1;33m\u001b[0m\u001b[0m\n\u001b[0;32m   4152\u001b[0m         \u001b[1;32mif\u001b[0m \u001b[0minplace\u001b[0m\u001b[1;33m:\u001b[0m\u001b[1;33m\u001b[0m\u001b[1;33m\u001b[0m\u001b[0m\n",
      "\u001b[1;32m~\\anaconda3\\lib\\site-packages\\pandas\\core\\generic.py\u001b[0m in \u001b[0;36m_drop_axis\u001b[1;34m(self, labels, axis, level, errors)\u001b[0m\n\u001b[0;32m   4183\u001b[0m                 \u001b[0mnew_axis\u001b[0m \u001b[1;33m=\u001b[0m \u001b[0maxis\u001b[0m\u001b[1;33m.\u001b[0m\u001b[0mdrop\u001b[0m\u001b[1;33m(\u001b[0m\u001b[0mlabels\u001b[0m\u001b[1;33m,\u001b[0m \u001b[0mlevel\u001b[0m\u001b[1;33m=\u001b[0m\u001b[0mlevel\u001b[0m\u001b[1;33m,\u001b[0m \u001b[0merrors\u001b[0m\u001b[1;33m=\u001b[0m\u001b[0merrors\u001b[0m\u001b[1;33m)\u001b[0m\u001b[1;33m\u001b[0m\u001b[1;33m\u001b[0m\u001b[0m\n\u001b[0;32m   4184\u001b[0m             \u001b[1;32melse\u001b[0m\u001b[1;33m:\u001b[0m\u001b[1;33m\u001b[0m\u001b[1;33m\u001b[0m\u001b[0m\n\u001b[1;32m-> 4185\u001b[1;33m                 \u001b[0mnew_axis\u001b[0m \u001b[1;33m=\u001b[0m \u001b[0maxis\u001b[0m\u001b[1;33m.\u001b[0m\u001b[0mdrop\u001b[0m\u001b[1;33m(\u001b[0m\u001b[0mlabels\u001b[0m\u001b[1;33m,\u001b[0m \u001b[0merrors\u001b[0m\u001b[1;33m=\u001b[0m\u001b[0merrors\u001b[0m\u001b[1;33m)\u001b[0m\u001b[1;33m\u001b[0m\u001b[1;33m\u001b[0m\u001b[0m\n\u001b[0m\u001b[0;32m   4186\u001b[0m             \u001b[0mresult\u001b[0m \u001b[1;33m=\u001b[0m \u001b[0mself\u001b[0m\u001b[1;33m.\u001b[0m\u001b[0mreindex\u001b[0m\u001b[1;33m(\u001b[0m\u001b[1;33m**\u001b[0m\u001b[1;33m{\u001b[0m\u001b[0maxis_name\u001b[0m\u001b[1;33m:\u001b[0m \u001b[0mnew_axis\u001b[0m\u001b[1;33m}\u001b[0m\u001b[1;33m)\u001b[0m\u001b[1;33m\u001b[0m\u001b[1;33m\u001b[0m\u001b[0m\n\u001b[0;32m   4187\u001b[0m \u001b[1;33m\u001b[0m\u001b[0m\n",
      "\u001b[1;32m~\\anaconda3\\lib\\site-packages\\pandas\\core\\indexes\\base.py\u001b[0m in \u001b[0;36mdrop\u001b[1;34m(self, labels, errors)\u001b[0m\n\u001b[0;32m   6015\u001b[0m         \u001b[1;32mif\u001b[0m \u001b[0mmask\u001b[0m\u001b[1;33m.\u001b[0m\u001b[0many\u001b[0m\u001b[1;33m(\u001b[0m\u001b[1;33m)\u001b[0m\u001b[1;33m:\u001b[0m\u001b[1;33m\u001b[0m\u001b[1;33m\u001b[0m\u001b[0m\n\u001b[0;32m   6016\u001b[0m             \u001b[1;32mif\u001b[0m \u001b[0merrors\u001b[0m \u001b[1;33m!=\u001b[0m \u001b[1;34m\"ignore\"\u001b[0m\u001b[1;33m:\u001b[0m\u001b[1;33m\u001b[0m\u001b[1;33m\u001b[0m\u001b[0m\n\u001b[1;32m-> 6017\u001b[1;33m                 \u001b[1;32mraise\u001b[0m \u001b[0mKeyError\u001b[0m\u001b[1;33m(\u001b[0m\u001b[1;34mf\"{labels[mask]} not found in axis\"\u001b[0m\u001b[1;33m)\u001b[0m\u001b[1;33m\u001b[0m\u001b[1;33m\u001b[0m\u001b[0m\n\u001b[0m\u001b[0;32m   6018\u001b[0m             \u001b[0mindexer\u001b[0m \u001b[1;33m=\u001b[0m \u001b[0mindexer\u001b[0m\u001b[1;33m[\u001b[0m\u001b[1;33m~\u001b[0m\u001b[0mmask\u001b[0m\u001b[1;33m]\u001b[0m\u001b[1;33m\u001b[0m\u001b[1;33m\u001b[0m\u001b[0m\n\u001b[0;32m   6019\u001b[0m         \u001b[1;32mreturn\u001b[0m \u001b[0mself\u001b[0m\u001b[1;33m.\u001b[0m\u001b[0mdelete\u001b[0m\u001b[1;33m(\u001b[0m\u001b[0mindexer\u001b[0m\u001b[1;33m)\u001b[0m\u001b[1;33m\u001b[0m\u001b[1;33m\u001b[0m\u001b[0m\n",
      "\u001b[1;31mKeyError\u001b[0m: \"['H' 'E' 'F' 'Z' 'Z2'] not found in axis\""
     ]
    }
   ],
   "source": [
    "df3.drop(columns=[\"H\",\"E\",\"F\",\"Z\",\"Z2\"],inplace=True)# drop colums하면 해당컬럼 삭제!!!\n",
    "df3"
   ]
  },
  {
   "cell_type": "code",
   "execution_count": 133,
   "id": "100435c7",
   "metadata": {},
   "outputs": [
    {
     "data": {
      "text/html": [
       "<div>\n",
       "<style scoped>\n",
       "    .dataframe tbody tr th:only-of-type {\n",
       "        vertical-align: middle;\n",
       "    }\n",
       "\n",
       "    .dataframe tbody tr th {\n",
       "        vertical-align: top;\n",
       "    }\n",
       "\n",
       "    .dataframe thead th {\n",
       "        text-align: right;\n",
       "    }\n",
       "</style>\n",
       "<table border=\"1\" class=\"dataframe\">\n",
       "  <thead>\n",
       "    <tr style=\"text-align: right;\">\n",
       "      <th></th>\n",
       "      <th>A</th>\n",
       "      <th>B</th>\n",
       "      <th>C</th>\n",
       "      <th>D</th>\n",
       "    </tr>\n",
       "  </thead>\n",
       "  <tbody>\n",
       "    <tr>\n",
       "      <th>2020-06-26</th>\n",
       "      <td>0.167685</td>\n",
       "      <td>0.760474</td>\n",
       "      <td>1.833029</td>\n",
       "      <td>0.347952</td>\n",
       "    </tr>\n",
       "    <tr>\n",
       "      <th>2020-06-27</th>\n",
       "      <td>-1.794183</td>\n",
       "      <td>-0.886431</td>\n",
       "      <td>1.141095</td>\n",
       "      <td>0.190425</td>\n",
       "    </tr>\n",
       "    <tr>\n",
       "      <th>2020-06-28</th>\n",
       "      <td>-0.474138</td>\n",
       "      <td>-0.852279</td>\n",
       "      <td>2.148255</td>\n",
       "      <td>2.306925</td>\n",
       "    </tr>\n",
       "    <tr>\n",
       "      <th>2020-06-29</th>\n",
       "      <td>0.561093</td>\n",
       "      <td>0.121112</td>\n",
       "      <td>0.117893</td>\n",
       "      <td>2.521105</td>\n",
       "    </tr>\n",
       "    <tr>\n",
       "      <th>2020-06-30</th>\n",
       "      <td>-0.167952</td>\n",
       "      <td>0.594512</td>\n",
       "      <td>2.093429</td>\n",
       "      <td>-1.058709</td>\n",
       "    </tr>\n",
       "  </tbody>\n",
       "</table>\n",
       "</div>"
      ],
      "text/plain": [
       "                   A         B         C         D\n",
       "2020-06-26  0.167685  0.760474  1.833029  0.347952\n",
       "2020-06-27 -1.794183 -0.886431  1.141095  0.190425\n",
       "2020-06-28 -0.474138 -0.852279  2.148255  2.306925\n",
       "2020-06-29  0.561093  0.121112  0.117893  2.521105\n",
       "2020-06-30 -0.167952  0.594512  2.093429 -1.058709"
      ]
     },
     "execution_count": 133,
     "metadata": {},
     "output_type": "execute_result"
    }
   ],
   "source": [
    "df3.drop(index=['2020-06-25'],inplace=True)# drop colums하면 해당index 삭제!!!\n",
    "df3\n"
   ]
  },
  {
   "cell_type": "code",
   "execution_count": 134,
   "id": "624452fc",
   "metadata": {},
   "outputs": [
    {
     "data": {
      "text/html": [
       "<div>\n",
       "<style scoped>\n",
       "    .dataframe tbody tr th:only-of-type {\n",
       "        vertical-align: middle;\n",
       "    }\n",
       "\n",
       "    .dataframe tbody tr th {\n",
       "        vertical-align: top;\n",
       "    }\n",
       "\n",
       "    .dataframe thead th {\n",
       "        text-align: right;\n",
       "    }\n",
       "</style>\n",
       "<table border=\"1\" class=\"dataframe\">\n",
       "  <thead>\n",
       "    <tr style=\"text-align: right;\">\n",
       "      <th></th>\n",
       "      <th>A</th>\n",
       "      <th>B</th>\n",
       "      <th>C</th>\n",
       "      <th>D</th>\n",
       "    </tr>\n",
       "  </thead>\n",
       "  <tbody>\n",
       "    <tr>\n",
       "      <th>2020-06-26 00:00:00</th>\n",
       "      <td>0.167685</td>\n",
       "      <td>0.760474</td>\n",
       "      <td>1.833029</td>\n",
       "      <td>0.347952</td>\n",
       "    </tr>\n",
       "    <tr>\n",
       "      <th>2020-06-27 00:00:00</th>\n",
       "      <td>-1.794183</td>\n",
       "      <td>-0.886431</td>\n",
       "      <td>1.141095</td>\n",
       "      <td>0.190425</td>\n",
       "    </tr>\n",
       "    <tr>\n",
       "      <th>2020-06-28 00:00:00</th>\n",
       "      <td>-0.474138</td>\n",
       "      <td>-0.852279</td>\n",
       "      <td>2.148255</td>\n",
       "      <td>2.306925</td>\n",
       "    </tr>\n",
       "    <tr>\n",
       "      <th>2020-06-29 00:00:00</th>\n",
       "      <td>0.561093</td>\n",
       "      <td>0.121112</td>\n",
       "      <td>0.117893</td>\n",
       "      <td>2.521105</td>\n",
       "    </tr>\n",
       "    <tr>\n",
       "      <th>2020-06-30 00:00:00</th>\n",
       "      <td>-0.167952</td>\n",
       "      <td>0.594512</td>\n",
       "      <td>2.093429</td>\n",
       "      <td>-1.058709</td>\n",
       "    </tr>\n",
       "    <tr>\n",
       "      <th>2020-06-25</th>\n",
       "      <td>1.000000</td>\n",
       "      <td>1.000000</td>\n",
       "      <td>1.000000</td>\n",
       "      <td>1.000000</td>\n",
       "    </tr>\n",
       "  </tbody>\n",
       "</table>\n",
       "</div>"
      ],
      "text/plain": [
       "                            A         B         C         D\n",
       "2020-06-26 00:00:00  0.167685  0.760474  1.833029  0.347952\n",
       "2020-06-27 00:00:00 -1.794183 -0.886431  1.141095  0.190425\n",
       "2020-06-28 00:00:00 -0.474138 -0.852279  2.148255  2.306925\n",
       "2020-06-29 00:00:00  0.561093  0.121112  0.117893  2.521105\n",
       "2020-06-30 00:00:00 -0.167952  0.594512  2.093429 -1.058709\n",
       "2020-06-25           1.000000  1.000000  1.000000  1.000000"
      ]
     },
     "execution_count": 134,
     "metadata": {},
     "output_type": "execute_result"
    }
   ],
   "source": [
    "df3.loc['2020-06-25']=[1,1,1,1]#인덱스 새롭게 생성하기.\n",
    "df3"
   ]
  },
  {
   "cell_type": "code",
   "execution_count": null,
   "id": "df30c0ca",
   "metadata": {},
   "outputs": [],
   "source": []
  }
 ],
 "metadata": {
  "kernelspec": {
   "display_name": "Python 3 (ipykernel)",
   "language": "python",
   "name": "python3"
  },
  "language_info": {
   "codemirror_mode": {
    "name": "ipython",
    "version": 3
   },
   "file_extension": ".py",
   "mimetype": "text/x-python",
   "name": "python",
   "nbconvert_exporter": "python",
   "pygments_lexer": "ipython3",
   "version": "3.9.7"
  }
 },
 "nbformat": 4,
 "nbformat_minor": 5
}
