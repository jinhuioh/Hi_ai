{
 "cells": [
  {
   "cell_type": "code",
   "execution_count": 1,
   "id": "b1b79c2f",
   "metadata": {},
   "outputs": [
    {
     "data": {
      "text/plain": [
       "<Response [200]>"
      ]
     },
     "execution_count": 1,
     "metadata": {},
     "output_type": "execute_result"
    }
   ],
   "source": [
    "import requests\n",
    "\n",
    "header_data= {\n",
    "    'accept': 'application/json',\n",
    "    'Authorization': 'VXgWV/f5wELzapZjJF7FEqqtFhPbNA8KBIWia3SXOCvY+CXEUok1DhybfbP4USE/g2b/QYT62C2mw3zcSWj2pg==',\n",
    "}\n",
    "\n",
    "param_data = (\n",
    "    ('page', '1'),\n",
    "    ('perPage', '2'),\n",
    "    ('serviceKey', 'VXgWV/f5wELzapZjJF7FEqqtFhPbNA8KBIWia3SXOCvY+CXEUok1DhybfbP4USE/g2b/QYT62C2mw3zcSWj2pg=='),\n",
    ")\n",
    "\n",
    "url = 'https://api.odcloud.kr/api/15069309/v1/uddi:973ad0df-617a-4565-8e82-8ea7869e75d4'\n",
    "## decode key가 적용되었음.\n",
    "## api마다 연결이 되지 않는다고 한다면, encode, decode를 바꾸어 테스트해볼 것.\n",
    "response = requests.get(url, headers=header_data, params=param_data)\n",
    "response"
   ]
  },
  {
   "cell_type": "code",
   "execution_count": 3,
   "id": "fc449be1",
   "metadata": {},
   "outputs": [
    {
     "data": {
      "text/plain": [
       "{'currentCount': 2,\n",
       " 'data': [{'개체명(기업기관)': None,\n",
       "   '개체명(인물)': None,\n",
       "   '개체명(지역)': None,\n",
       "   '기고자': '당직자공용 기자',\n",
       "   '본문': \"[헤럴드경제] '신종코로나' 확진환자 1명 추가됐다. 이로써 국내 확진환자는 총 12명이 됐다.   onlinenews\",\n",
       "   '사건_사고 분류1': None,\n",
       "   '사건_사고 분류2': None,\n",
       "   '사건_사고 분류3': None,\n",
       "   '언론사': '헤럴드경제',\n",
       "   '원본주소': 'http://biz.heraldcorp.com/view.php?ud=20200201000027',\n",
       "   '일자': '2020-02-01',\n",
       "   '제목': \"[속보] '신종코로나' 확진환자 1명 추가…12명으로 늘어\",\n",
       "   '주소': 'http://www.bigkinds.or.kr/news/newsDetailView.do?newsId=02100701.20200201094636001',\n",
       "   '키워드': '신종코,추가,확진,환자,12명,신종코,추가,확진,환자,확진,12명',\n",
       "   '통합 분류1': '사회>의료_건강',\n",
       "   '통합 분류2': None,\n",
       "   '통합 분류3': None,\n",
       "   '특성추출': '신종코,추가,환자,확진'},\n",
       "  {'개체명(기업기관)': None,\n",
       "   '개체명(인물)': None,\n",
       "   '개체명(지역)': None,\n",
       "   '기고자': '이상규',\n",
       "   '본문': '[속보] 신종코로나 국내 12명 확진·70명 검사 중…접촉자 465명 감시 [디지털뉴스국 이상규 기자]',\n",
       "   '사건_사고 분류1': None,\n",
       "   '사건_사고 분류2': None,\n",
       "   '사건_사고 분류3': None,\n",
       "   '언론사': '매일경제',\n",
       "   '원본주소': 'http://news.mk.co.kr/newsRead.php?no=104142&year=2020',\n",
       "   '일자': '2020-02-01',\n",
       "   '제목': '[속보] 신종코로나 국내 12명 확진·70명 검사 중…접촉자 465명 감시',\n",
       "   '주소': 'http://www.bigkinds.or.kr/news/newsDetailView.do?newsId=02100101.20200201142733001',\n",
       "   '키워드': '신종코,확진,70명,검사,접촉자,감시,속보,신종코,확진,70명,검사,접촉자,감시',\n",
       "   '통합 분류1': '사회>의료_건강',\n",
       "   '통합 분류2': None,\n",
       "   '통합 분류3': None,\n",
       "   '특성추출': '접촉자,신종코,감시,확진,검사,속보'}],\n",
       " 'matchCount': 108218,\n",
       " 'page': 1,\n",
       " 'perPage': 2,\n",
       " 'totalCount': 108218}"
      ]
     },
     "execution_count": 3,
     "metadata": {},
     "output_type": "execute_result"
    }
   ],
   "source": [
    "response.json()#데이터탐색EDA:키가 몇개 있고 어던 내용인지 등 데이터를 보는거"
   ]
  },
  {
   "cell_type": "code",
   "execution_count": null,
   "id": "ceff9a41",
   "metadata": {},
   "outputs": [],
   "source": []
  }
 ],
 "metadata": {
  "kernelspec": {
   "display_name": "Python 3 (ipykernel)",
   "language": "python",
   "name": "python3"
  },
  "language_info": {
   "codemirror_mode": {
    "name": "ipython",
    "version": 3
   },
   "file_extension": ".py",
   "mimetype": "text/x-python",
   "name": "python",
   "nbconvert_exporter": "python",
   "pygments_lexer": "ipython3",
   "version": "3.9.7"
  }
 },
 "nbformat": 4,
 "nbformat_minor": 5
}
