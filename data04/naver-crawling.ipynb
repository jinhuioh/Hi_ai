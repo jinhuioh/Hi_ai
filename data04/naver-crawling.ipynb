{
 "cells": [
  {
   "cell_type": "code",
   "execution_count": 84,
   "id": "f45b804e",
   "metadata": {},
   "outputs": [
    {
     "name": "stdout",
     "output_type": "stream",
     "text": [
      "{\n",
      "\"lastBuildDate\": \"Mon, 21 Mar 2022 20:18:14 +0900\",\n",
      "\"total\": 16986680,\n",
      "\"start\": 1,\n",
      "\"display\": 10,\n",
      "\"items\": [\n",
      "{\n",
      "\"title\": \"다이렉트<b>자동차</b>보험비교 견적사이트 / 특약 내용 정리\",\n",
      "\"link\": \"https:\\/\\/blog.naver.com\\/yebbuneik?Redirect=Log&logNo=222677909567\",\n",
      "\"description\": \"다이렉트<b>자동차</b>보험비교 견적사이트 확인 및 특약 내용 정리 저는 운전면허는 오래전에 땄지만... <b>자동차</b>를 소유한 분들이라면 반드시 가입해야만하는 보험이 이런 <b>자동차</b>보험이에요. 의무보험은 보통... \",\n",
      "\"bloggername\": \"여사원의사생활\",\n",
      "\"bloggerlink\": \"https://blog.naver.com/yebbuneik\",\n",
      "\"postdate\": \"20220320\"\n",
      "\n",
      "},\n",
      "{\n",
      "\"title\": \"<b>자동차</b>보험다이렉트비교사이트 살펴보기\",\n",
      "\"link\": \"https:\\/\\/blog.naver.com\\/ddongbens?Redirect=Log&logNo=222671567753\",\n",
      "\"description\": \"새롭게 차를 구매하고자 계획했는데 <b>자동차</b>보험부터 알아봐야 한다는 사실을 알게 됐어요. 직접... 활성화되면서 <b>자동차</b>보험도 온라인으로 준비가 가능했어요. 저와 같이 바쁘게 지내는 직장인이라면 이러한... \",\n",
      "\"bloggername\": \"똥벤의 카스토리\",\n",
      "\"bloggerlink\": \"https://blog.naver.com/ddongbens\",\n",
      "\"postdate\": \"20220313\"\n",
      "\n",
      "},\n",
      "{\n",
      "\"title\": \"<b>자동차</b>보험료비교견적사이트 시간낭비 없이!\",\n",
      "\"link\": \"https:\\/\\/blog.naver.com\\/kgold1204?Redirect=Log&logNo=222671998689\",\n",
      "\"description\": \"<b>자동차</b>보험료비교견적사이트 시간낭비 없이! 운전을 하는 것이 운전면허를 취득하기 전에는 이렇게나... ## <b>자동차</b>보험료 여기서 비교부터 [클릭] ## http://ssagttug.com/?camp_uid=20&amp;utm_medium=772 보통은 가까운 곳을... \",\n",
      "\"bloggername\": \"엑스트라의 무대......\",\n",
      "\"bloggerlink\": \"https://blog.naver.com/kgold1204\",\n",
      "\"postdate\": \"20220314\"\n",
      "\n",
      "},\n",
      "{\n",
      "\"title\": \"다이렉트<b>자동차</b>보험비교 꼼꼼하게 진행하고 탄탄한 보장... \",\n",
      "\"link\": \"https:\\/\\/blog.naver.com\\/byg416?Redirect=Log&logNo=222676622721\",\n",
      "\"description\": \"<b>자동차</b>보험은 사고가 발생하여 타인에게 피해를 입혔을 때 이에 대해서 보상하기 위해 가입하는데요. 대인배상 1과 대물배상이 의무가입 사항으로 지정이 되어있기에 이를 잘 따져보고서 다이렉트<b>자동차</b>보험비... \",\n",
      "\"bloggername\": \"서울땅콩\",\n",
      "\"bloggerlink\": \"https://blog.naver.com/byg416\",\n",
      "\"postdate\": \"20220318\"\n",
      "\n",
      "},\n",
      "{\n",
      "\"title\": \"무직자<b>자동차</b>담보대출 자격조건 알아보기\",\n",
      "\"link\": \"https:\\/\\/blog.naver.com\\/j2toto?Redirect=Log&logNo=222674102614\",\n",
      "\"description\": \"무직자<b>자동차</b>담보대출에 대해 안내해드릴까 하는데요. 쓸모없는 정보는 줄여서 필요한 내용들로만... 그래서 신용이 받쳐줘야 진행되는 것들과 다르게 무직자<b>자동차</b>담보대출은 기준점수도 높은 편이 아니기에... \",\n",
      "\"bloggername\": \"맑음이 가족의 캠핑 낚시이야기\",\n",
      "\"bloggerlink\": \"https://blog.naver.com/j2toto\",\n",
      "\"postdate\": \"20220316\"\n",
      "\n",
      "},\n",
      "{\n",
      "\"title\": \"다이렉트<b>자동차</b>보험비교 적절하게 진행해보기!\",\n",
      "\"link\": \"https:\\/\\/blog.naver.com\\/hwoarangx2?Redirect=Log&logNo=222660526446\",\n",
      "\"description\": \"다이렉트<b>자동차</b>보험비교 적절하게 진행해보기! 안녕하세요 위캔드 다이어리 스퀄입니다. <b>자동차</b>를 운전하다 도로가 막히면 버스전용차로로 달리는 차량이 부러울 때가 있어요. 버스전용차로는 녹색도로로서... \",\n",
      "\"bloggername\": \"위캔드다이어리(WeekendDiary)\",\n",
      "\"bloggerlink\": \"https://blog.naver.com/hwoarangx2\",\n",
      "\"postdate\": \"20220301\"\n",
      "\n",
      "},\n",
      "{\n",
      "\"title\": \"BMW iX <b>자동차</b> 보험료 다이렉트보험으로 계산 후기\",\n",
      "\"link\": \"https:\\/\\/blog.naver.com\\/fectam?Redirect=Log&logNo=222668234487\",\n",
      "\"description\": \"BMW iX <b>자동차</b> 보험료 다이렉트보험으로 계산 후기 Compare car insurance for BMW iX 2022년 1·2월 유럽... 차량의 <b>자동차</b> 보험료 계산 시 보험사별로 얼마나 차이가 있을지 함께 알아보자. 참고로 개인정보나 <b>자동차</b>... \",\n",
      "\"bloggername\": \"네고킴, 평범한 남편 이야기\",\n",
      "\"bloggerlink\": \"https://blog.naver.com/fectam\",\n",
      "\"postdate\": \"20220310\"\n",
      "\n",
      "},\n",
      "{\n",
      "\"title\": \"다이렉트<b>자동차</b>보험료비교견적사이트 <b>자동차</b>보험료1년... \",\n",
      "\"link\": \"https:\\/\\/blog.naver.com\\/hyunji091?Redirect=Log&logNo=222666957860\",\n",
      "\"description\": \"다이렉트<b>자동차</b>보험료비교견적사이트 <b>자동차</b>보험료1년 <b>자동차</b>보험다이렉트 알아보는 팁 체크 <b>자동차</b>를 보유, 운행하기 위해서는 <b>자동차</b>보험 가입이 필수인데요. 과거에는 직접 보험사를 방문하거나 설계사를... \",\n",
      "\"bloggername\": \"현도 Daily LOG\",\n",
      "\"bloggerlink\": \"https://blog.naver.com/hyunji091\",\n",
      "\"postdate\": \"20220308\"\n",
      "\n",
      "},\n",
      "{\n",
      "\"title\": \"서울 최적의 <b>자동차</b>유리막코팅 가격 진행한 팁\",\n",
      "\"link\": \"https:\\/\\/blog.naver.com\\/ysh2119?Redirect=Log&logNo=222675671685\",\n",
      "\"description\": \"오늘은 BMW 전기차 Ix3 차량의 <b>자동차</b>유리막코팅을 진행한 이야기입니다. 7500만원의 가격으로 출고한... 이전의 오염과 잔기스를 제거하기 위한 디테일링과 광택 시공을 포함해 <b>자동차</b>유리막코팅 가격을 받고... \",\n",
      "\"bloggername\": \"굳맨\",\n",
      "\"bloggerlink\": \"https://blog.naver.com/ysh2119\",\n",
      "\"postdate\": \"20220317\"\n",
      "\n",
      "},\n",
      "{\n",
      "\"title\": \"<b>자동차</b> 와이퍼 추천, 차모아 초발수 실리콘 와이퍼\",\n",
      "\"link\": \"https:\\/\\/blog.naver.com\\/anny68?Redirect=Log&logNo=222676063103\",\n",
      "\"description\": \"<b>자동차</b> 와이퍼 추천 제가 차량을 새것으로 바꾼 것이 2018년1월이니 해가 4년이 넘어가네요. <b>자동차</b>는 그저 이동하는 수단에 지나지 않는 것이 아니잖아요. 그래서 더 애지중지하고 앞으로 5년은 거뜬히 탈 수... \",\n",
      "\"bloggername\": \"민스맘 블로그\",\n",
      "\"bloggerlink\": \"https://blog.naver.com/anny68\",\n",
      "\"postdate\": \"20220318\"\n",
      "\n",
      "}\n",
      "]\n",
      "}\n",
      "\n"
     ]
    }
   ],
   "source": [
    "# 네이버 검색 API예제는 블로그를 비롯 전문자료까지 호출방법이 동일하므로 blog검색만 대표로 예제를 올렸습니다.\n",
    "# 네이버 검색 Open API 예제 - 블로그 검색\n",
    "import os\n",
    "import sys\n",
    "import urllib.request\n",
    "import requests\n",
    "client_id = \"U4P7qzPKkU7dtADYoa1Q\"\n",
    "client_secret = \"jdrEqbks3s\"\n",
    "encText = urllib.parse.quote(\"자동차\")\n",
    "url = \"https://openapi.naver.com/v1/search/blog?query=\" + encText# json 결과&display=100\n",
    "# url = \"https://openapi.naver.com/v1/search/blog.xml?query=\" + encText # xml 결과\n",
    "request = urllib.request.Request(url)\n",
    "request.add_header(\"X-Naver-Client-Id\",client_id)\n",
    "request.add_header(\"X-Naver-Client-Secret\",client_secret)\n",
    "response = urllib.request.urlopen(request)\n",
    "rescode = response.getcode()\n",
    "if(rescode==200):\n",
    "    response_body = response.read()\n",
    "    print(response_body.decode('utf-8'))\n",
    "else:\n",
    "    print(\"Error Code:\" + rescode)\n"
   ]
  },
  {
   "cell_type": "code",
   "execution_count": 85,
   "id": "4ce9f5ca",
   "metadata": {},
   "outputs": [],
   "source": [
    "import json"
   ]
  },
  {
   "cell_type": "code",
   "execution_count": 86,
   "id": "3b0a47d8",
   "metadata": {},
   "outputs": [
    {
     "data": {
      "text/plain": [
       "{'lastBuildDate': 'Mon, 21 Mar 2022 20:18:14 +0900',\n",
       " 'total': 16986680,\n",
       " 'start': 1,\n",
       " 'display': 10,\n",
       " 'items': [{'title': '다이렉트<b>자동차</b>보험비교 견적사이트 / 특약 내용 정리',\n",
       "   'link': 'https://blog.naver.com/yebbuneik?Redirect=Log&logNo=222677909567',\n",
       "   'description': '다이렉트<b>자동차</b>보험비교 견적사이트 확인 및 특약 내용 정리 저는 운전면허는 오래전에 땄지만... <b>자동차</b>를 소유한 분들이라면 반드시 가입해야만하는 보험이 이런 <b>자동차</b>보험이에요. 의무보험은 보통... ',\n",
       "   'bloggername': '여사원의사생활',\n",
       "   'bloggerlink': 'https://blog.naver.com/yebbuneik',\n",
       "   'postdate': '20220320'},\n",
       "  {'title': '<b>자동차</b>보험다이렉트비교사이트 살펴보기',\n",
       "   'link': 'https://blog.naver.com/ddongbens?Redirect=Log&logNo=222671567753',\n",
       "   'description': '새롭게 차를 구매하고자 계획했는데 <b>자동차</b>보험부터 알아봐야 한다는 사실을 알게 됐어요. 직접... 활성화되면서 <b>자동차</b>보험도 온라인으로 준비가 가능했어요. 저와 같이 바쁘게 지내는 직장인이라면 이러한... ',\n",
       "   'bloggername': '똥벤의 카스토리',\n",
       "   'bloggerlink': 'https://blog.naver.com/ddongbens',\n",
       "   'postdate': '20220313'},\n",
       "  {'title': '<b>자동차</b>보험료비교견적사이트 시간낭비 없이!',\n",
       "   'link': 'https://blog.naver.com/kgold1204?Redirect=Log&logNo=222671998689',\n",
       "   'description': '<b>자동차</b>보험료비교견적사이트 시간낭비 없이! 운전을 하는 것이 운전면허를 취득하기 전에는 이렇게나... ## <b>자동차</b>보험료 여기서 비교부터 [클릭] ## http://ssagttug.com/?camp_uid=20&amp;utm_medium=772 보통은 가까운 곳을... ',\n",
       "   'bloggername': '엑스트라의 무대......',\n",
       "   'bloggerlink': 'https://blog.naver.com/kgold1204',\n",
       "   'postdate': '20220314'},\n",
       "  {'title': '다이렉트<b>자동차</b>보험비교 꼼꼼하게 진행하고 탄탄한 보장... ',\n",
       "   'link': 'https://blog.naver.com/byg416?Redirect=Log&logNo=222676622721',\n",
       "   'description': '<b>자동차</b>보험은 사고가 발생하여 타인에게 피해를 입혔을 때 이에 대해서 보상하기 위해 가입하는데요. 대인배상 1과 대물배상이 의무가입 사항으로 지정이 되어있기에 이를 잘 따져보고서 다이렉트<b>자동차</b>보험비... ',\n",
       "   'bloggername': '서울땅콩',\n",
       "   'bloggerlink': 'https://blog.naver.com/byg416',\n",
       "   'postdate': '20220318'},\n",
       "  {'title': '무직자<b>자동차</b>담보대출 자격조건 알아보기',\n",
       "   'link': 'https://blog.naver.com/j2toto?Redirect=Log&logNo=222674102614',\n",
       "   'description': '무직자<b>자동차</b>담보대출에 대해 안내해드릴까 하는데요. 쓸모없는 정보는 줄여서 필요한 내용들로만... 그래서 신용이 받쳐줘야 진행되는 것들과 다르게 무직자<b>자동차</b>담보대출은 기준점수도 높은 편이 아니기에... ',\n",
       "   'bloggername': '맑음이 가족의 캠핑 낚시이야기',\n",
       "   'bloggerlink': 'https://blog.naver.com/j2toto',\n",
       "   'postdate': '20220316'},\n",
       "  {'title': '다이렉트<b>자동차</b>보험비교 적절하게 진행해보기!',\n",
       "   'link': 'https://blog.naver.com/hwoarangx2?Redirect=Log&logNo=222660526446',\n",
       "   'description': '다이렉트<b>자동차</b>보험비교 적절하게 진행해보기! 안녕하세요 위캔드 다이어리 스퀄입니다. <b>자동차</b>를 운전하다 도로가 막히면 버스전용차로로 달리는 차량이 부러울 때가 있어요. 버스전용차로는 녹색도로로서... ',\n",
       "   'bloggername': '위캔드다이어리(WeekendDiary)',\n",
       "   'bloggerlink': 'https://blog.naver.com/hwoarangx2',\n",
       "   'postdate': '20220301'},\n",
       "  {'title': 'BMW iX <b>자동차</b> 보험료 다이렉트보험으로 계산 후기',\n",
       "   'link': 'https://blog.naver.com/fectam?Redirect=Log&logNo=222668234487',\n",
       "   'description': 'BMW iX <b>자동차</b> 보험료 다이렉트보험으로 계산 후기 Compare car insurance for BMW iX 2022년 1·2월 유럽... 차량의 <b>자동차</b> 보험료 계산 시 보험사별로 얼마나 차이가 있을지 함께 알아보자. 참고로 개인정보나 <b>자동차</b>... ',\n",
       "   'bloggername': '네고킴, 평범한 남편 이야기',\n",
       "   'bloggerlink': 'https://blog.naver.com/fectam',\n",
       "   'postdate': '20220310'},\n",
       "  {'title': '다이렉트<b>자동차</b>보험료비교견적사이트 <b>자동차</b>보험료1년... ',\n",
       "   'link': 'https://blog.naver.com/hyunji091?Redirect=Log&logNo=222666957860',\n",
       "   'description': '다이렉트<b>자동차</b>보험료비교견적사이트 <b>자동차</b>보험료1년 <b>자동차</b>보험다이렉트 알아보는 팁 체크 <b>자동차</b>를 보유, 운행하기 위해서는 <b>자동차</b>보험 가입이 필수인데요. 과거에는 직접 보험사를 방문하거나 설계사를... ',\n",
       "   'bloggername': '현도 Daily LOG',\n",
       "   'bloggerlink': 'https://blog.naver.com/hyunji091',\n",
       "   'postdate': '20220308'},\n",
       "  {'title': '서울 최적의 <b>자동차</b>유리막코팅 가격 진행한 팁',\n",
       "   'link': 'https://blog.naver.com/ysh2119?Redirect=Log&logNo=222675671685',\n",
       "   'description': '오늘은 BMW 전기차 Ix3 차량의 <b>자동차</b>유리막코팅을 진행한 이야기입니다. 7500만원의 가격으로 출고한... 이전의 오염과 잔기스를 제거하기 위한 디테일링과 광택 시공을 포함해 <b>자동차</b>유리막코팅 가격을 받고... ',\n",
       "   'bloggername': '굳맨',\n",
       "   'bloggerlink': 'https://blog.naver.com/ysh2119',\n",
       "   'postdate': '20220317'},\n",
       "  {'title': '<b>자동차</b> 와이퍼 추천, 차모아 초발수 실리콘 와이퍼',\n",
       "   'link': 'https://blog.naver.com/anny68?Redirect=Log&logNo=222676063103',\n",
       "   'description': '<b>자동차</b> 와이퍼 추천 제가 차량을 새것으로 바꾼 것이 2018년1월이니 해가 4년이 넘어가네요. <b>자동차</b>는 그저 이동하는 수단에 지나지 않는 것이 아니잖아요. 그래서 더 애지중지하고 앞으로 5년은 거뜬히 탈 수... ',\n",
       "   'bloggername': '민스맘 블로그',\n",
       "   'bloggerlink': 'https://blog.naver.com/anny68',\n",
       "   'postdate': '20220318'}]}"
      ]
     },
     "execution_count": 86,
     "metadata": {},
     "output_type": "execute_result"
    }
   ],
   "source": [
    "rb = json.loads(response_body)#str을 json으로 바꾸는 방법.\n",
    "rb"
   ]
  },
  {
   "cell_type": "code",
   "execution_count": 87,
   "id": "5d475e40",
   "metadata": {
    "scrolled": true
   },
   "outputs": [
    {
     "data": {
      "text/plain": [
       "dict"
      ]
     },
     "execution_count": 87,
     "metadata": {},
     "output_type": "execute_result"
    }
   ],
   "source": [
    "type(rb)\n"
   ]
  },
  {
   "cell_type": "code",
   "execution_count": 88,
   "id": "13f1c5b4",
   "metadata": {},
   "outputs": [
    {
     "data": {
      "text/plain": [
       "{'lastBuildDate': 'Mon, 21 Mar 2022 20:18:14 +0900',\n",
       " 'total': 16986680,\n",
       " 'start': 1,\n",
       " 'display': 10,\n",
       " 'items': [{'title': '다이렉트<b>자동차</b>보험비교 견적사이트 / 특약 내용 정리',\n",
       "   'link': 'https://blog.naver.com/yebbuneik?Redirect=Log&logNo=222677909567',\n",
       "   'description': '다이렉트<b>자동차</b>보험비교 견적사이트 확인 및 특약 내용 정리 저는 운전면허는 오래전에 땄지만... <b>자동차</b>를 소유한 분들이라면 반드시 가입해야만하는 보험이 이런 <b>자동차</b>보험이에요. 의무보험은 보통... ',\n",
       "   'bloggername': '여사원의사생활',\n",
       "   'bloggerlink': 'https://blog.naver.com/yebbuneik',\n",
       "   'postdate': '20220320'},\n",
       "  {'title': '<b>자동차</b>보험다이렉트비교사이트 살펴보기',\n",
       "   'link': 'https://blog.naver.com/ddongbens?Redirect=Log&logNo=222671567753',\n",
       "   'description': '새롭게 차를 구매하고자 계획했는데 <b>자동차</b>보험부터 알아봐야 한다는 사실을 알게 됐어요. 직접... 활성화되면서 <b>자동차</b>보험도 온라인으로 준비가 가능했어요. 저와 같이 바쁘게 지내는 직장인이라면 이러한... ',\n",
       "   'bloggername': '똥벤의 카스토리',\n",
       "   'bloggerlink': 'https://blog.naver.com/ddongbens',\n",
       "   'postdate': '20220313'},\n",
       "  {'title': '<b>자동차</b>보험료비교견적사이트 시간낭비 없이!',\n",
       "   'link': 'https://blog.naver.com/kgold1204?Redirect=Log&logNo=222671998689',\n",
       "   'description': '<b>자동차</b>보험료비교견적사이트 시간낭비 없이! 운전을 하는 것이 운전면허를 취득하기 전에는 이렇게나... ## <b>자동차</b>보험료 여기서 비교부터 [클릭] ## http://ssagttug.com/?camp_uid=20&amp;utm_medium=772 보통은 가까운 곳을... ',\n",
       "   'bloggername': '엑스트라의 무대......',\n",
       "   'bloggerlink': 'https://blog.naver.com/kgold1204',\n",
       "   'postdate': '20220314'},\n",
       "  {'title': '다이렉트<b>자동차</b>보험비교 꼼꼼하게 진행하고 탄탄한 보장... ',\n",
       "   'link': 'https://blog.naver.com/byg416?Redirect=Log&logNo=222676622721',\n",
       "   'description': '<b>자동차</b>보험은 사고가 발생하여 타인에게 피해를 입혔을 때 이에 대해서 보상하기 위해 가입하는데요. 대인배상 1과 대물배상이 의무가입 사항으로 지정이 되어있기에 이를 잘 따져보고서 다이렉트<b>자동차</b>보험비... ',\n",
       "   'bloggername': '서울땅콩',\n",
       "   'bloggerlink': 'https://blog.naver.com/byg416',\n",
       "   'postdate': '20220318'},\n",
       "  {'title': '무직자<b>자동차</b>담보대출 자격조건 알아보기',\n",
       "   'link': 'https://blog.naver.com/j2toto?Redirect=Log&logNo=222674102614',\n",
       "   'description': '무직자<b>자동차</b>담보대출에 대해 안내해드릴까 하는데요. 쓸모없는 정보는 줄여서 필요한 내용들로만... 그래서 신용이 받쳐줘야 진행되는 것들과 다르게 무직자<b>자동차</b>담보대출은 기준점수도 높은 편이 아니기에... ',\n",
       "   'bloggername': '맑음이 가족의 캠핑 낚시이야기',\n",
       "   'bloggerlink': 'https://blog.naver.com/j2toto',\n",
       "   'postdate': '20220316'},\n",
       "  {'title': '다이렉트<b>자동차</b>보험비교 적절하게 진행해보기!',\n",
       "   'link': 'https://blog.naver.com/hwoarangx2?Redirect=Log&logNo=222660526446',\n",
       "   'description': '다이렉트<b>자동차</b>보험비교 적절하게 진행해보기! 안녕하세요 위캔드 다이어리 스퀄입니다. <b>자동차</b>를 운전하다 도로가 막히면 버스전용차로로 달리는 차량이 부러울 때가 있어요. 버스전용차로는 녹색도로로서... ',\n",
       "   'bloggername': '위캔드다이어리(WeekendDiary)',\n",
       "   'bloggerlink': 'https://blog.naver.com/hwoarangx2',\n",
       "   'postdate': '20220301'},\n",
       "  {'title': 'BMW iX <b>자동차</b> 보험료 다이렉트보험으로 계산 후기',\n",
       "   'link': 'https://blog.naver.com/fectam?Redirect=Log&logNo=222668234487',\n",
       "   'description': 'BMW iX <b>자동차</b> 보험료 다이렉트보험으로 계산 후기 Compare car insurance for BMW iX 2022년 1·2월 유럽... 차량의 <b>자동차</b> 보험료 계산 시 보험사별로 얼마나 차이가 있을지 함께 알아보자. 참고로 개인정보나 <b>자동차</b>... ',\n",
       "   'bloggername': '네고킴, 평범한 남편 이야기',\n",
       "   'bloggerlink': 'https://blog.naver.com/fectam',\n",
       "   'postdate': '20220310'},\n",
       "  {'title': '다이렉트<b>자동차</b>보험료비교견적사이트 <b>자동차</b>보험료1년... ',\n",
       "   'link': 'https://blog.naver.com/hyunji091?Redirect=Log&logNo=222666957860',\n",
       "   'description': '다이렉트<b>자동차</b>보험료비교견적사이트 <b>자동차</b>보험료1년 <b>자동차</b>보험다이렉트 알아보는 팁 체크 <b>자동차</b>를 보유, 운행하기 위해서는 <b>자동차</b>보험 가입이 필수인데요. 과거에는 직접 보험사를 방문하거나 설계사를... ',\n",
       "   'bloggername': '현도 Daily LOG',\n",
       "   'bloggerlink': 'https://blog.naver.com/hyunji091',\n",
       "   'postdate': '20220308'},\n",
       "  {'title': '서울 최적의 <b>자동차</b>유리막코팅 가격 진행한 팁',\n",
       "   'link': 'https://blog.naver.com/ysh2119?Redirect=Log&logNo=222675671685',\n",
       "   'description': '오늘은 BMW 전기차 Ix3 차량의 <b>자동차</b>유리막코팅을 진행한 이야기입니다. 7500만원의 가격으로 출고한... 이전의 오염과 잔기스를 제거하기 위한 디테일링과 광택 시공을 포함해 <b>자동차</b>유리막코팅 가격을 받고... ',\n",
       "   'bloggername': '굳맨',\n",
       "   'bloggerlink': 'https://blog.naver.com/ysh2119',\n",
       "   'postdate': '20220317'},\n",
       "  {'title': '<b>자동차</b> 와이퍼 추천, 차모아 초발수 실리콘 와이퍼',\n",
       "   'link': 'https://blog.naver.com/anny68?Redirect=Log&logNo=222676063103',\n",
       "   'description': '<b>자동차</b> 와이퍼 추천 제가 차량을 새것으로 바꾼 것이 2018년1월이니 해가 4년이 넘어가네요. <b>자동차</b>는 그저 이동하는 수단에 지나지 않는 것이 아니잖아요. 그래서 더 애지중지하고 앞으로 5년은 거뜬히 탈 수... ',\n",
       "   'bloggername': '민스맘 블로그',\n",
       "   'bloggerlink': 'https://blog.naver.com/anny68',\n",
       "   'postdate': '20220318'}]}"
      ]
     },
     "execution_count": 88,
     "metadata": {},
     "output_type": "execute_result"
    }
   ],
   "source": [
    "rb"
   ]
  },
  {
   "cell_type": "code",
   "execution_count": 89,
   "id": "ba472141",
   "metadata": {},
   "outputs": [],
   "source": [
    "import pickle "
   ]
  },
  {
   "cell_type": "code",
   "execution_count": 90,
   "id": "43fce20c",
   "metadata": {},
   "outputs": [],
   "source": [
    "with open('naver-car.json','wb') as fp:#지금사용하고 있는 작업폴더 위치에 파일 생성.\n",
    "    pickle.dump(rb,fp)\n",
    "#w인데bite로 저장해야해서 wb라고 써야함."
   ]
  },
  {
   "cell_type": "code",
   "execution_count": 91,
   "id": "aa89509d",
   "metadata": {},
   "outputs": [],
   "source": [
    "with open('naver-car.json','rb') as fp:\n",
    "    rb_read_data=pickle.load(fp)#일반 텍스트 파일이 아닐때는 rb라고 b를 붙여준다."
   ]
  },
  {
   "cell_type": "code",
   "execution_count": 92,
   "id": "6f235141",
   "metadata": {},
   "outputs": [
    {
     "data": {
      "text/plain": [
       "{'lastBuildDate': 'Mon, 21 Mar 2022 20:18:14 +0900',\n",
       " 'total': 16986680,\n",
       " 'start': 1,\n",
       " 'display': 10,\n",
       " 'items': [{'title': '다이렉트<b>자동차</b>보험비교 견적사이트 / 특약 내용 정리',\n",
       "   'link': 'https://blog.naver.com/yebbuneik?Redirect=Log&logNo=222677909567',\n",
       "   'description': '다이렉트<b>자동차</b>보험비교 견적사이트 확인 및 특약 내용 정리 저는 운전면허는 오래전에 땄지만... <b>자동차</b>를 소유한 분들이라면 반드시 가입해야만하는 보험이 이런 <b>자동차</b>보험이에요. 의무보험은 보통... ',\n",
       "   'bloggername': '여사원의사생활',\n",
       "   'bloggerlink': 'https://blog.naver.com/yebbuneik',\n",
       "   'postdate': '20220320'},\n",
       "  {'title': '<b>자동차</b>보험다이렉트비교사이트 살펴보기',\n",
       "   'link': 'https://blog.naver.com/ddongbens?Redirect=Log&logNo=222671567753',\n",
       "   'description': '새롭게 차를 구매하고자 계획했는데 <b>자동차</b>보험부터 알아봐야 한다는 사실을 알게 됐어요. 직접... 활성화되면서 <b>자동차</b>보험도 온라인으로 준비가 가능했어요. 저와 같이 바쁘게 지내는 직장인이라면 이러한... ',\n",
       "   'bloggername': '똥벤의 카스토리',\n",
       "   'bloggerlink': 'https://blog.naver.com/ddongbens',\n",
       "   'postdate': '20220313'},\n",
       "  {'title': '<b>자동차</b>보험료비교견적사이트 시간낭비 없이!',\n",
       "   'link': 'https://blog.naver.com/kgold1204?Redirect=Log&logNo=222671998689',\n",
       "   'description': '<b>자동차</b>보험료비교견적사이트 시간낭비 없이! 운전을 하는 것이 운전면허를 취득하기 전에는 이렇게나... ## <b>자동차</b>보험료 여기서 비교부터 [클릭] ## http://ssagttug.com/?camp_uid=20&amp;utm_medium=772 보통은 가까운 곳을... ',\n",
       "   'bloggername': '엑스트라의 무대......',\n",
       "   'bloggerlink': 'https://blog.naver.com/kgold1204',\n",
       "   'postdate': '20220314'},\n",
       "  {'title': '다이렉트<b>자동차</b>보험비교 꼼꼼하게 진행하고 탄탄한 보장... ',\n",
       "   'link': 'https://blog.naver.com/byg416?Redirect=Log&logNo=222676622721',\n",
       "   'description': '<b>자동차</b>보험은 사고가 발생하여 타인에게 피해를 입혔을 때 이에 대해서 보상하기 위해 가입하는데요. 대인배상 1과 대물배상이 의무가입 사항으로 지정이 되어있기에 이를 잘 따져보고서 다이렉트<b>자동차</b>보험비... ',\n",
       "   'bloggername': '서울땅콩',\n",
       "   'bloggerlink': 'https://blog.naver.com/byg416',\n",
       "   'postdate': '20220318'},\n",
       "  {'title': '무직자<b>자동차</b>담보대출 자격조건 알아보기',\n",
       "   'link': 'https://blog.naver.com/j2toto?Redirect=Log&logNo=222674102614',\n",
       "   'description': '무직자<b>자동차</b>담보대출에 대해 안내해드릴까 하는데요. 쓸모없는 정보는 줄여서 필요한 내용들로만... 그래서 신용이 받쳐줘야 진행되는 것들과 다르게 무직자<b>자동차</b>담보대출은 기준점수도 높은 편이 아니기에... ',\n",
       "   'bloggername': '맑음이 가족의 캠핑 낚시이야기',\n",
       "   'bloggerlink': 'https://blog.naver.com/j2toto',\n",
       "   'postdate': '20220316'},\n",
       "  {'title': '다이렉트<b>자동차</b>보험비교 적절하게 진행해보기!',\n",
       "   'link': 'https://blog.naver.com/hwoarangx2?Redirect=Log&logNo=222660526446',\n",
       "   'description': '다이렉트<b>자동차</b>보험비교 적절하게 진행해보기! 안녕하세요 위캔드 다이어리 스퀄입니다. <b>자동차</b>를 운전하다 도로가 막히면 버스전용차로로 달리는 차량이 부러울 때가 있어요. 버스전용차로는 녹색도로로서... ',\n",
       "   'bloggername': '위캔드다이어리(WeekendDiary)',\n",
       "   'bloggerlink': 'https://blog.naver.com/hwoarangx2',\n",
       "   'postdate': '20220301'},\n",
       "  {'title': 'BMW iX <b>자동차</b> 보험료 다이렉트보험으로 계산 후기',\n",
       "   'link': 'https://blog.naver.com/fectam?Redirect=Log&logNo=222668234487',\n",
       "   'description': 'BMW iX <b>자동차</b> 보험료 다이렉트보험으로 계산 후기 Compare car insurance for BMW iX 2022년 1·2월 유럽... 차량의 <b>자동차</b> 보험료 계산 시 보험사별로 얼마나 차이가 있을지 함께 알아보자. 참고로 개인정보나 <b>자동차</b>... ',\n",
       "   'bloggername': '네고킴, 평범한 남편 이야기',\n",
       "   'bloggerlink': 'https://blog.naver.com/fectam',\n",
       "   'postdate': '20220310'},\n",
       "  {'title': '다이렉트<b>자동차</b>보험료비교견적사이트 <b>자동차</b>보험료1년... ',\n",
       "   'link': 'https://blog.naver.com/hyunji091?Redirect=Log&logNo=222666957860',\n",
       "   'description': '다이렉트<b>자동차</b>보험료비교견적사이트 <b>자동차</b>보험료1년 <b>자동차</b>보험다이렉트 알아보는 팁 체크 <b>자동차</b>를 보유, 운행하기 위해서는 <b>자동차</b>보험 가입이 필수인데요. 과거에는 직접 보험사를 방문하거나 설계사를... ',\n",
       "   'bloggername': '현도 Daily LOG',\n",
       "   'bloggerlink': 'https://blog.naver.com/hyunji091',\n",
       "   'postdate': '20220308'},\n",
       "  {'title': '서울 최적의 <b>자동차</b>유리막코팅 가격 진행한 팁',\n",
       "   'link': 'https://blog.naver.com/ysh2119?Redirect=Log&logNo=222675671685',\n",
       "   'description': '오늘은 BMW 전기차 Ix3 차량의 <b>자동차</b>유리막코팅을 진행한 이야기입니다. 7500만원의 가격으로 출고한... 이전의 오염과 잔기스를 제거하기 위한 디테일링과 광택 시공을 포함해 <b>자동차</b>유리막코팅 가격을 받고... ',\n",
       "   'bloggername': '굳맨',\n",
       "   'bloggerlink': 'https://blog.naver.com/ysh2119',\n",
       "   'postdate': '20220317'},\n",
       "  {'title': '<b>자동차</b> 와이퍼 추천, 차모아 초발수 실리콘 와이퍼',\n",
       "   'link': 'https://blog.naver.com/anny68?Redirect=Log&logNo=222676063103',\n",
       "   'description': '<b>자동차</b> 와이퍼 추천 제가 차량을 새것으로 바꾼 것이 2018년1월이니 해가 4년이 넘어가네요. <b>자동차</b>는 그저 이동하는 수단에 지나지 않는 것이 아니잖아요. 그래서 더 애지중지하고 앞으로 5년은 거뜬히 탈 수... ',\n",
       "   'bloggername': '민스맘 블로그',\n",
       "   'bloggerlink': 'https://blog.naver.com/anny68',\n",
       "   'postdate': '20220318'}]}"
      ]
     },
     "execution_count": 92,
     "metadata": {},
     "output_type": "execute_result"
    }
   ],
   "source": [
    "rb_read_data"
   ]
  },
  {
   "cell_type": "code",
   "execution_count": 96,
   "id": "8e887fed",
   "metadata": {},
   "outputs": [
    {
     "data": {
      "text/plain": [
       "dict"
      ]
     },
     "execution_count": 96,
     "metadata": {},
     "output_type": "execute_result"
    }
   ],
   "source": [
    "type(rb_read_data)"
   ]
  },
  {
   "cell_type": "code",
   "execution_count": 98,
   "id": "8f1314fe",
   "metadata": {},
   "outputs": [
    {
     "data": {
      "text/plain": [
       "[{'title': '다이렉트<b>자동차</b>보험비교 견적사이트 / 특약 내용 정리',\n",
       "  'link': 'https://blog.naver.com/yebbuneik?Redirect=Log&logNo=222677909567',\n",
       "  'description': '다이렉트<b>자동차</b>보험비교 견적사이트 확인 및 특약 내용 정리 저는 운전면허는 오래전에 땄지만... <b>자동차</b>를 소유한 분들이라면 반드시 가입해야만하는 보험이 이런 <b>자동차</b>보험이에요. 의무보험은 보통... ',\n",
       "  'bloggername': '여사원의사생활',\n",
       "  'bloggerlink': 'https://blog.naver.com/yebbuneik',\n",
       "  'postdate': '20220320'},\n",
       " {'title': '<b>자동차</b>보험다이렉트비교사이트 살펴보기',\n",
       "  'link': 'https://blog.naver.com/ddongbens?Redirect=Log&logNo=222671567753',\n",
       "  'description': '새롭게 차를 구매하고자 계획했는데 <b>자동차</b>보험부터 알아봐야 한다는 사실을 알게 됐어요. 직접... 활성화되면서 <b>자동차</b>보험도 온라인으로 준비가 가능했어요. 저와 같이 바쁘게 지내는 직장인이라면 이러한... ',\n",
       "  'bloggername': '똥벤의 카스토리',\n",
       "  'bloggerlink': 'https://blog.naver.com/ddongbens',\n",
       "  'postdate': '20220313'},\n",
       " {'title': '<b>자동차</b>보험료비교견적사이트 시간낭비 없이!',\n",
       "  'link': 'https://blog.naver.com/kgold1204?Redirect=Log&logNo=222671998689',\n",
       "  'description': '<b>자동차</b>보험료비교견적사이트 시간낭비 없이! 운전을 하는 것이 운전면허를 취득하기 전에는 이렇게나... ## <b>자동차</b>보험료 여기서 비교부터 [클릭] ## http://ssagttug.com/?camp_uid=20&amp;utm_medium=772 보통은 가까운 곳을... ',\n",
       "  'bloggername': '엑스트라의 무대......',\n",
       "  'bloggerlink': 'https://blog.naver.com/kgold1204',\n",
       "  'postdate': '20220314'},\n",
       " {'title': '다이렉트<b>자동차</b>보험비교 꼼꼼하게 진행하고 탄탄한 보장... ',\n",
       "  'link': 'https://blog.naver.com/byg416?Redirect=Log&logNo=222676622721',\n",
       "  'description': '<b>자동차</b>보험은 사고가 발생하여 타인에게 피해를 입혔을 때 이에 대해서 보상하기 위해 가입하는데요. 대인배상 1과 대물배상이 의무가입 사항으로 지정이 되어있기에 이를 잘 따져보고서 다이렉트<b>자동차</b>보험비... ',\n",
       "  'bloggername': '서울땅콩',\n",
       "  'bloggerlink': 'https://blog.naver.com/byg416',\n",
       "  'postdate': '20220318'},\n",
       " {'title': '무직자<b>자동차</b>담보대출 자격조건 알아보기',\n",
       "  'link': 'https://blog.naver.com/j2toto?Redirect=Log&logNo=222674102614',\n",
       "  'description': '무직자<b>자동차</b>담보대출에 대해 안내해드릴까 하는데요. 쓸모없는 정보는 줄여서 필요한 내용들로만... 그래서 신용이 받쳐줘야 진행되는 것들과 다르게 무직자<b>자동차</b>담보대출은 기준점수도 높은 편이 아니기에... ',\n",
       "  'bloggername': '맑음이 가족의 캠핑 낚시이야기',\n",
       "  'bloggerlink': 'https://blog.naver.com/j2toto',\n",
       "  'postdate': '20220316'},\n",
       " {'title': '다이렉트<b>자동차</b>보험비교 적절하게 진행해보기!',\n",
       "  'link': 'https://blog.naver.com/hwoarangx2?Redirect=Log&logNo=222660526446',\n",
       "  'description': '다이렉트<b>자동차</b>보험비교 적절하게 진행해보기! 안녕하세요 위캔드 다이어리 스퀄입니다. <b>자동차</b>를 운전하다 도로가 막히면 버스전용차로로 달리는 차량이 부러울 때가 있어요. 버스전용차로는 녹색도로로서... ',\n",
       "  'bloggername': '위캔드다이어리(WeekendDiary)',\n",
       "  'bloggerlink': 'https://blog.naver.com/hwoarangx2',\n",
       "  'postdate': '20220301'},\n",
       " {'title': 'BMW iX <b>자동차</b> 보험료 다이렉트보험으로 계산 후기',\n",
       "  'link': 'https://blog.naver.com/fectam?Redirect=Log&logNo=222668234487',\n",
       "  'description': 'BMW iX <b>자동차</b> 보험료 다이렉트보험으로 계산 후기 Compare car insurance for BMW iX 2022년 1·2월 유럽... 차량의 <b>자동차</b> 보험료 계산 시 보험사별로 얼마나 차이가 있을지 함께 알아보자. 참고로 개인정보나 <b>자동차</b>... ',\n",
       "  'bloggername': '네고킴, 평범한 남편 이야기',\n",
       "  'bloggerlink': 'https://blog.naver.com/fectam',\n",
       "  'postdate': '20220310'},\n",
       " {'title': '다이렉트<b>자동차</b>보험료비교견적사이트 <b>자동차</b>보험료1년... ',\n",
       "  'link': 'https://blog.naver.com/hyunji091?Redirect=Log&logNo=222666957860',\n",
       "  'description': '다이렉트<b>자동차</b>보험료비교견적사이트 <b>자동차</b>보험료1년 <b>자동차</b>보험다이렉트 알아보는 팁 체크 <b>자동차</b>를 보유, 운행하기 위해서는 <b>자동차</b>보험 가입이 필수인데요. 과거에는 직접 보험사를 방문하거나 설계사를... ',\n",
       "  'bloggername': '현도 Daily LOG',\n",
       "  'bloggerlink': 'https://blog.naver.com/hyunji091',\n",
       "  'postdate': '20220308'},\n",
       " {'title': '서울 최적의 <b>자동차</b>유리막코팅 가격 진행한 팁',\n",
       "  'link': 'https://blog.naver.com/ysh2119?Redirect=Log&logNo=222675671685',\n",
       "  'description': '오늘은 BMW 전기차 Ix3 차량의 <b>자동차</b>유리막코팅을 진행한 이야기입니다. 7500만원의 가격으로 출고한... 이전의 오염과 잔기스를 제거하기 위한 디테일링과 광택 시공을 포함해 <b>자동차</b>유리막코팅 가격을 받고... ',\n",
       "  'bloggername': '굳맨',\n",
       "  'bloggerlink': 'https://blog.naver.com/ysh2119',\n",
       "  'postdate': '20220317'},\n",
       " {'title': '<b>자동차</b> 와이퍼 추천, 차모아 초발수 실리콘 와이퍼',\n",
       "  'link': 'https://blog.naver.com/anny68?Redirect=Log&logNo=222676063103',\n",
       "  'description': '<b>자동차</b> 와이퍼 추천 제가 차량을 새것으로 바꾼 것이 2018년1월이니 해가 4년이 넘어가네요. <b>자동차</b>는 그저 이동하는 수단에 지나지 않는 것이 아니잖아요. 그래서 더 애지중지하고 앞으로 5년은 거뜬히 탈 수... ',\n",
       "  'bloggername': '민스맘 블로그',\n",
       "  'bloggerlink': 'https://blog.naver.com/anny68',\n",
       "  'postdate': '20220318'}]"
      ]
     },
     "execution_count": 98,
     "metadata": {},
     "output_type": "execute_result"
    }
   ],
   "source": [
    "rb_read_data['items']"
   ]
  },
  {
   "cell_type": "code",
   "execution_count": 185,
   "id": "7121d61f",
   "metadata": {},
   "outputs": [
    {
     "data": {
      "text/plain": [
       "[{'title': '다이렉트<b>자동차</b>보험비교 견적사이트 / 특약 내용 정리',\n",
       "  'link': 'https://blog.naver.com/yebbuneik?Redirect=Log&logNo=222677909567',\n",
       "  'description': '다이렉트<b>자동차</b>보험비교 견적사이트 확인 및 특약 내용 정리 저는 운전면허는 오래전에 땄지만... <b>자동차</b>를 소유한 분들이라면 반드시 가입해야만하는 보험이 이런 <b>자동차</b>보험이에요. 의무보험은 보통... ',\n",
       "  'bloggername': '여사원의사생활',\n",
       "  'bloggerlink': 'https://blog.naver.com/yebbuneik',\n",
       "  'postdate': '20220320'},\n",
       " {'title': '<b>자동차</b>보험다이렉트비교사이트 살펴보기',\n",
       "  'link': 'https://blog.naver.com/ddongbens?Redirect=Log&logNo=222671567753',\n",
       "  'description': '새롭게 차를 구매하고자 계획했는데 <b>자동차</b>보험부터 알아봐야 한다는 사실을 알게 됐어요. 직접... 활성화되면서 <b>자동차</b>보험도 온라인으로 준비가 가능했어요. 저와 같이 바쁘게 지내는 직장인이라면 이러한... ',\n",
       "  'bloggername': '똥벤의 카스토리',\n",
       "  'bloggerlink': 'https://blog.naver.com/ddongbens',\n",
       "  'postdate': '20220313'},\n",
       " {'title': '<b>자동차</b>보험료비교견적사이트 시간낭비 없이!',\n",
       "  'link': 'https://blog.naver.com/kgold1204?Redirect=Log&logNo=222671998689',\n",
       "  'description': '<b>자동차</b>보험료비교견적사이트 시간낭비 없이! 운전을 하는 것이 운전면허를 취득하기 전에는 이렇게나... ## <b>자동차</b>보험료 여기서 비교부터 [클릭] ## http://ssagttug.com/?camp_uid=20&amp;utm_medium=772 보통은 가까운 곳을... ',\n",
       "  'bloggername': '엑스트라의 무대......',\n",
       "  'bloggerlink': 'https://blog.naver.com/kgold1204',\n",
       "  'postdate': '20220314'},\n",
       " {'title': '다이렉트<b>자동차</b>보험비교 꼼꼼하게 진행하고 탄탄한 보장... ',\n",
       "  'link': 'https://blog.naver.com/byg416?Redirect=Log&logNo=222676622721',\n",
       "  'description': '<b>자동차</b>보험은 사고가 발생하여 타인에게 피해를 입혔을 때 이에 대해서 보상하기 위해 가입하는데요. 대인배상 1과 대물배상이 의무가입 사항으로 지정이 되어있기에 이를 잘 따져보고서 다이렉트<b>자동차</b>보험비... ',\n",
       "  'bloggername': '서울땅콩',\n",
       "  'bloggerlink': 'https://blog.naver.com/byg416',\n",
       "  'postdate': '20220318'},\n",
       " {'title': '무직자<b>자동차</b>담보대출 자격조건 알아보기',\n",
       "  'link': 'https://blog.naver.com/j2toto?Redirect=Log&logNo=222674102614',\n",
       "  'description': '무직자<b>자동차</b>담보대출에 대해 안내해드릴까 하는데요. 쓸모없는 정보는 줄여서 필요한 내용들로만... 그래서 신용이 받쳐줘야 진행되는 것들과 다르게 무직자<b>자동차</b>담보대출은 기준점수도 높은 편이 아니기에... ',\n",
       "  'bloggername': '맑음이 가족의 캠핑 낚시이야기',\n",
       "  'bloggerlink': 'https://blog.naver.com/j2toto',\n",
       "  'postdate': '20220316'},\n",
       " {'title': '다이렉트<b>자동차</b>보험비교 적절하게 진행해보기!',\n",
       "  'link': 'https://blog.naver.com/hwoarangx2?Redirect=Log&logNo=222660526446',\n",
       "  'description': '다이렉트<b>자동차</b>보험비교 적절하게 진행해보기! 안녕하세요 위캔드 다이어리 스퀄입니다. <b>자동차</b>를 운전하다 도로가 막히면 버스전용차로로 달리는 차량이 부러울 때가 있어요. 버스전용차로는 녹색도로로서... ',\n",
       "  'bloggername': '위캔드다이어리(WeekendDiary)',\n",
       "  'bloggerlink': 'https://blog.naver.com/hwoarangx2',\n",
       "  'postdate': '20220301'},\n",
       " {'title': 'BMW iX <b>자동차</b> 보험료 다이렉트보험으로 계산 후기',\n",
       "  'link': 'https://blog.naver.com/fectam?Redirect=Log&logNo=222668234487',\n",
       "  'description': 'BMW iX <b>자동차</b> 보험료 다이렉트보험으로 계산 후기 Compare car insurance for BMW iX 2022년 1·2월 유럽... 차량의 <b>자동차</b> 보험료 계산 시 보험사별로 얼마나 차이가 있을지 함께 알아보자. 참고로 개인정보나 <b>자동차</b>... ',\n",
       "  'bloggername': '네고킴, 평범한 남편 이야기',\n",
       "  'bloggerlink': 'https://blog.naver.com/fectam',\n",
       "  'postdate': '20220310'},\n",
       " {'title': '다이렉트<b>자동차</b>보험료비교견적사이트 <b>자동차</b>보험료1년... ',\n",
       "  'link': 'https://blog.naver.com/hyunji091?Redirect=Log&logNo=222666957860',\n",
       "  'description': '다이렉트<b>자동차</b>보험료비교견적사이트 <b>자동차</b>보험료1년 <b>자동차</b>보험다이렉트 알아보는 팁 체크 <b>자동차</b>를 보유, 운행하기 위해서는 <b>자동차</b>보험 가입이 필수인데요. 과거에는 직접 보험사를 방문하거나 설계사를... ',\n",
       "  'bloggername': '현도 Daily LOG',\n",
       "  'bloggerlink': 'https://blog.naver.com/hyunji091',\n",
       "  'postdate': '20220308'},\n",
       " {'title': '서울 최적의 <b>자동차</b>유리막코팅 가격 진행한 팁',\n",
       "  'link': 'https://blog.naver.com/ysh2119?Redirect=Log&logNo=222675671685',\n",
       "  'description': '오늘은 BMW 전기차 Ix3 차량의 <b>자동차</b>유리막코팅을 진행한 이야기입니다. 7500만원의 가격으로 출고한... 이전의 오염과 잔기스를 제거하기 위한 디테일링과 광택 시공을 포함해 <b>자동차</b>유리막코팅 가격을 받고... ',\n",
       "  'bloggername': '굳맨',\n",
       "  'bloggerlink': 'https://blog.naver.com/ysh2119',\n",
       "  'postdate': '20220317'},\n",
       " {'title': '<b>자동차</b> 와이퍼 추천, 차모아 초발수 실리콘 와이퍼',\n",
       "  'link': 'https://blog.naver.com/anny68?Redirect=Log&logNo=222676063103',\n",
       "  'description': '<b>자동차</b> 와이퍼 추천 제가 차량을 새것으로 바꾼 것이 2018년1월이니 해가 4년이 넘어가네요. <b>자동차</b>는 그저 이동하는 수단에 지나지 않는 것이 아니잖아요. 그래서 더 애지중지하고 앞으로 5년은 거뜬히 탈 수... ',\n",
       "  'bloggername': '민스맘 블로그',\n",
       "  'bloggerlink': 'https://blog.naver.com/anny68',\n",
       "  'postdate': '20220318'}]"
      ]
     },
     "execution_count": 185,
     "metadata": {},
     "output_type": "execute_result"
    }
   ],
   "source": [
    "data_Values = rb_read_data.get('items')#\n",
    "data_Values\n"
   ]
  },
  {
   "cell_type": "code",
   "execution_count": 100,
   "id": "ad3d9a4e",
   "metadata": {},
   "outputs": [
    {
     "data": {
      "text/plain": [
       "list"
      ]
     },
     "execution_count": 100,
     "metadata": {},
     "output_type": "execute_result"
    }
   ],
   "source": [
    "type(data_Values)"
   ]
  },
  {
   "cell_type": "code",
   "execution_count": 101,
   "id": "f680a897",
   "metadata": {},
   "outputs": [
    {
     "data": {
      "text/plain": [
       "{'title': '다이렉트<b>자동차</b>보험비교 견적사이트 / 특약 내용 정리',\n",
       " 'link': 'https://blog.naver.com/yebbuneik?Redirect=Log&logNo=222677909567',\n",
       " 'description': '다이렉트<b>자동차</b>보험비교 견적사이트 확인 및 특약 내용 정리 저는 운전면허는 오래전에 땄지만... <b>자동차</b>를 소유한 분들이라면 반드시 가입해야만하는 보험이 이런 <b>자동차</b>보험이에요. 의무보험은 보통... ',\n",
       " 'bloggername': '여사원의사생활',\n",
       " 'bloggerlink': 'https://blog.naver.com/yebbuneik',\n",
       " 'postdate': '20220320'}"
      ]
     },
     "execution_count": 101,
     "metadata": {},
     "output_type": "execute_result"
    }
   ],
   "source": [
    "data_Values[0]"
   ]
  },
  {
   "cell_type": "code",
   "execution_count": 130,
   "id": "ef856aa6",
   "metadata": {},
   "outputs": [
    {
     "data": {
      "text/plain": [
       "'다이렉트<b>자동차</b>보험비교 견적사이트 / 특약 내용 정리'"
      ]
     },
     "execution_count": 130,
     "metadata": {},
     "output_type": "execute_result"
    }
   ],
   "source": [
    "data_Values[0]['title']"
   ]
  },
  {
   "cell_type": "code",
   "execution_count": 189,
   "id": "5c51f728",
   "metadata": {},
   "outputs": [
    {
     "name": "stdout",
     "output_type": "stream",
     "text": [
      "다이렉트자동차보험비교 견적사이트 / 특약 내용 정리\n",
      "자동차보험다이렉트비교사이트 살펴보기\n",
      "자동차보험료비교견적사이트 시간낭비 없이!\n",
      "다이렉트자동차보험비교 꼼꼼하게 진행하고 탄탄한 보장... \n",
      "무직자자동차담보대출 자격조건 알아보기\n",
      "다이렉트자동차보험비교 적절하게 진행해보기!\n",
      "BMW iX 자동차 보험료 다이렉트보험으로 계산 후기\n",
      "다이렉트자동차보험료비교견적사이트 자동차보험료1년... \n",
      "서울 최적의 자동차유리막코팅 가격 진행한 팁\n",
      "자동차 와이퍼 추천, 차모아 초발수 실리콘 와이퍼\n"
     ]
    },
    {
     "data": {
      "text/plain": [
       "['다이렉트자동차보험비교 견적사이트 / 특약 내용 정리',\n",
       " '자동차보험다이렉트비교사이트 살펴보기',\n",
       " '자동차보험료비교견적사이트 시간낭비 없이!',\n",
       " '다이렉트자동차보험비교 꼼꼼하게 진행하고 탄탄한 보장... ',\n",
       " '무직자자동차담보대출 자격조건 알아보기',\n",
       " '다이렉트자동차보험비교 적절하게 진행해보기!',\n",
       " 'BMW iX 자동차 보험료 다이렉트보험으로 계산 후기',\n",
       " '다이렉트자동차보험료비교견적사이트 자동차보험료1년... ',\n",
       " '서울 최적의 자동차유리막코팅 가격 진행한 팁',\n",
       " '자동차 와이퍼 추천, 차모아 초발수 실리콘 와이퍼']"
      ]
     },
     "execution_count": 189,
     "metadata": {},
     "output_type": "execute_result"
    }
   ],
   "source": [
    "list = []\n",
    "#title 키의 b태그 없애기\n",
    "for i in range(0, len(data_Values), 1):\n",
    "    a1 = (data_Values[i]['title']).replace('<b>','')\n",
    "    a1 = a1.replace('</b>','')\n",
    "    list.append(a1)\n",
    "    print(a1)\n",
    "list\n",
    "\n",
    "# (data_Values[0]['title']).replace('<b>','')\n",
    "# (data_Values[0]['title']).replace('</b>','')"
   ]
  },
  {
   "cell_type": "code",
   "execution_count": 150,
   "id": "311c5dc7",
   "metadata": {},
   "outputs": [
    {
     "data": {
      "text/plain": [
       "'다이렉트<b>자동차</b>보험비교 견적사이트 확인 및 특약 내용 정리 저는 운전면허는 오래전에 땄지만... <b>자동차</b>를 소유한 분들이라면 반드시 가입해야만하는 보험이 이런 <b>자동차</b>보험이에요. 의무보험은 보통... '"
      ]
     },
     "execution_count": 150,
     "metadata": {},
     "output_type": "execute_result"
    }
   ],
   "source": [
    "data_Values[0]['description']"
   ]
  },
  {
   "cell_type": "code",
   "execution_count": 159,
   "id": "1bde0821",
   "metadata": {},
   "outputs": [
    {
     "name": "stdout",
     "output_type": "stream",
     "text": [
      "다이렉트자동차보험비교 견적사이트 확인 및 특약 내용 정리 저는 운전면허는 오래전에 땄지만... 자동차를 소유한 분들이라면 반드시 가입해야만하는 보험이 이런 자동차보험이에요. 의무보험은 보통... \n",
      "새롭게 차를 구매하고자 계획했는데 자동차보험부터 알아봐야 한다는 사실을 알게 됐어요. 직접... 활성화되면서 자동차보험도 온라인으로 준비가 가능했어요. 저와 같이 바쁘게 지내는 직장인이라면 이러한... \n",
      "자동차보험료비교견적사이트 시간낭비 없이! 운전을 하는 것이 운전면허를 취득하기 전에는 이렇게나... ## 자동차보험료 여기서 비교부터 [클릭] ## http://ssagttug.com/?camp_uid=20&amp;utm_medium=772 보통은 가까운 곳을... \n",
      "자동차보험은 사고가 발생하여 타인에게 피해를 입혔을 때 이에 대해서 보상하기 위해 가입하는데요. 대인배상 1과 대물배상이 의무가입 사항으로 지정이 되어있기에 이를 잘 따져보고서 다이렉트자동차보험비... \n",
      "무직자자동차담보대출에 대해 안내해드릴까 하는데요. 쓸모없는 정보는 줄여서 필요한 내용들로만... 그래서 신용이 받쳐줘야 진행되는 것들과 다르게 무직자자동차담보대출은 기준점수도 높은 편이 아니기에... \n",
      "다이렉트자동차보험비교 적절하게 진행해보기! 안녕하세요 위캔드 다이어리 스퀄입니다. 자동차를 운전하다 도로가 막히면 버스전용차로로 달리는 차량이 부러울 때가 있어요. 버스전용차로는 녹색도로로서... \n",
      "BMW iX 자동차 보험료 다이렉트보험으로 계산 후기 Compare car insurance for BMW iX 2022년 1·2월 유럽... 차량의 자동차 보험료 계산 시 보험사별로 얼마나 차이가 있을지 함께 알아보자. 참고로 개인정보나 자동차... \n",
      "다이렉트자동차보험료비교견적사이트 자동차보험료1년 자동차보험다이렉트 알아보는 팁 체크 자동차를 보유, 운행하기 위해서는 자동차보험 가입이 필수인데요. 과거에는 직접 보험사를 방문하거나 설계사를... \n",
      "오늘은 BMW 전기차 Ix3 차량의 자동차유리막코팅을 진행한 이야기입니다. 7500만원의 가격으로 출고한... 이전의 오염과 잔기스를 제거하기 위한 디테일링과 광택 시공을 포함해 자동차유리막코팅 가격을 받고... \n",
      "자동차 와이퍼 추천 제가 차량을 새것으로 바꾼 것이 2018년1월이니 해가 4년이 넘어가네요. 자동차는 그저 이동하는 수단에 지나지 않는 것이 아니잖아요. 그래서 더 애지중지하고 앞으로 5년은 거뜬히 탈 수... \n"
     ]
    }
   ],
   "source": [
    "#description 키 의 b태그 없애기\n",
    "\n",
    "# for i in range(0, len(data_Values), 1):\n",
    "#     a2 = (data_Values[i]['description']).replace('<b>','')\n",
    "#     a2 = a2.replace('</b>','')\n",
    "#     print(a2)\n"
   ]
  },
  {
   "cell_type": "code",
   "execution_count": 152,
   "id": "ba0cc1c9",
   "metadata": {},
   "outputs": [
    {
     "data": {
      "text/plain": [
       "str"
      ]
     },
     "execution_count": 152,
     "metadata": {},
     "output_type": "execute_result"
    }
   ],
   "source": [
    "type(a1)"
   ]
  },
  {
   "cell_type": "code",
   "execution_count": 103,
   "id": "744f8459",
   "metadata": {},
   "outputs": [
    {
     "data": {
      "text/plain": [
       "'https://blog.naver.com/yebbuneik?Redirect=Log&logNo=222677909567'"
      ]
     },
     "execution_count": 103,
     "metadata": {},
     "output_type": "execute_result"
    }
   ],
   "source": [
    "link = data_Values[0]['link']\n",
    "link"
   ]
  },
  {
   "cell_type": "code",
   "execution_count": 105,
   "id": "0ba17e17",
   "metadata": {},
   "outputs": [
    {
     "data": {
      "text/plain": [
       "'https://blog.naver.com/yebbuneik'"
      ]
     },
     "execution_count": 105,
     "metadata": {},
     "output_type": "execute_result"
    }
   ],
   "source": [
    "bloggerlink = data_Values[0]['bloggerlink']\n",
    "bloggerlink"
   ]
  },
  {
   "cell_type": "code",
   "execution_count": 106,
   "id": "59fcb601",
   "metadata": {},
   "outputs": [
    {
     "data": {
      "text/plain": [
       "'20220320'"
      ]
     },
     "execution_count": 106,
     "metadata": {},
     "output_type": "execute_result"
    }
   ],
   "source": [
    "postdate = data_Values[0]['postdate']\n",
    "postdate"
   ]
  },
  {
   "cell_type": "code",
   "execution_count": 107,
   "id": "3c0b2111",
   "metadata": {},
   "outputs": [],
   "source": [
    "one_row = []"
   ]
  },
  {
   "cell_type": "code",
   "execution_count": 160,
   "id": "05fdbf7b",
   "metadata": {},
   "outputs": [],
   "source": [
    "one_row.append('link')\n",
    "one_row.append('postdate')\n",
    "one_row.append('bloggerlink')"
   ]
  },
  {
   "cell_type": "code",
   "execution_count": 193,
   "id": "4385da1a",
   "metadata": {},
   "outputs": [
    {
     "data": {
      "text/plain": [
       "['다이렉트자동차보험비교 견적사이트 / 특약 내용 정리',\n",
       " '자동차보험다이렉트비교사이트 살펴보기',\n",
       " '자동차보험료비교견적사이트 시간낭비 없이!',\n",
       " '다이렉트자동차보험비교 꼼꼼하게 진행하고 탄탄한 보장... ',\n",
       " '무직자자동차담보대출 자격조건 알아보기',\n",
       " '다이렉트자동차보험비교 적절하게 진행해보기!',\n",
       " 'BMW iX 자동차 보험료 다이렉트보험으로 계산 후기',\n",
       " '다이렉트자동차보험료비교견적사이트 자동차보험료1년... ',\n",
       " '서울 최적의 자동차유리막코팅 가격 진행한 팁',\n",
       " '자동차 와이퍼 추천, 차모아 초발수 실리콘 와이퍼',\n",
       " '다이렉트자동차보험비교 견적사이트 확인 및 특약 내용 정리 저는 운전면허는 오래전에 땄지만... 자동차를 소유한 분들이라면 반드시 가입해야만하는 보험이 이런 자동차보험이에요. 의무보험은 보통... ',\n",
       " '새롭게 차를 구매하고자 계획했는데 자동차보험부터 알아봐야 한다는 사실을 알게 됐어요. 직접... 활성화되면서 자동차보험도 온라인으로 준비가 가능했어요. 저와 같이 바쁘게 지내는 직장인이라면 이러한... ',\n",
       " '자동차보험료비교견적사이트 시간낭비 없이! 운전을 하는 것이 운전면허를 취득하기 전에는 이렇게나... ## 자동차보험료 여기서 비교부터 [클릭] ## http://ssagttug.com/?camp_uid=20&amp;utm_medium=772 보통은 가까운 곳을... ',\n",
       " '자동차보험은 사고가 발생하여 타인에게 피해를 입혔을 때 이에 대해서 보상하기 위해 가입하는데요. 대인배상 1과 대물배상이 의무가입 사항으로 지정이 되어있기에 이를 잘 따져보고서 다이렉트자동차보험비... ',\n",
       " '무직자자동차담보대출에 대해 안내해드릴까 하는데요. 쓸모없는 정보는 줄여서 필요한 내용들로만... 그래서 신용이 받쳐줘야 진행되는 것들과 다르게 무직자자동차담보대출은 기준점수도 높은 편이 아니기에... ',\n",
       " '다이렉트자동차보험비교 적절하게 진행해보기! 안녕하세요 위캔드 다이어리 스퀄입니다. 자동차를 운전하다 도로가 막히면 버스전용차로로 달리는 차량이 부러울 때가 있어요. 버스전용차로는 녹색도로로서... ',\n",
       " 'BMW iX 자동차 보험료 다이렉트보험으로 계산 후기 Compare car insurance for BMW iX 2022년 1·2월 유럽... 차량의 자동차 보험료 계산 시 보험사별로 얼마나 차이가 있을지 함께 알아보자. 참고로 개인정보나 자동차... ',\n",
       " '다이렉트자동차보험료비교견적사이트 자동차보험료1년 자동차보험다이렉트 알아보는 팁 체크 자동차를 보유, 운행하기 위해서는 자동차보험 가입이 필수인데요. 과거에는 직접 보험사를 방문하거나 설계사를... ',\n",
       " '오늘은 BMW 전기차 Ix3 차량의 자동차유리막코팅을 진행한 이야기입니다. 7500만원의 가격으로 출고한... 이전의 오염과 잔기스를 제거하기 위한 디테일링과 광택 시공을 포함해 자동차유리막코팅 가격을 받고... ',\n",
       " '자동차 와이퍼 추천 제가 차량을 새것으로 바꾼 것이 2018년1월이니 해가 4년이 넘어가네요. 자동차는 그저 이동하는 수단에 지나지 않는 것이 아니잖아요. 그래서 더 애지중지하고 앞으로 5년은 거뜬히 탈 수... ',\n",
       " ['https://blog.naver.com/yebbuneik?Redirect=Log&logNo=222677909567',\n",
       "  '20220320',\n",
       "  'https://blog.naver.com/yebbuneik'],\n",
       " ['https://blog.naver.com/ddongbens?Redirect=Log&logNo=222671567753',\n",
       "  '20220313',\n",
       "  'https://blog.naver.com/ddongbens'],\n",
       " ['https://blog.naver.com/kgold1204?Redirect=Log&logNo=222671998689',\n",
       "  '20220314',\n",
       "  'https://blog.naver.com/kgold1204'],\n",
       " ['https://blog.naver.com/byg416?Redirect=Log&logNo=222676622721',\n",
       "  '20220318',\n",
       "  'https://blog.naver.com/byg416'],\n",
       " ['https://blog.naver.com/j2toto?Redirect=Log&logNo=222674102614',\n",
       "  '20220316',\n",
       "  'https://blog.naver.com/j2toto'],\n",
       " ['https://blog.naver.com/hwoarangx2?Redirect=Log&logNo=222660526446',\n",
       "  '20220301',\n",
       "  'https://blog.naver.com/hwoarangx2'],\n",
       " ['https://blog.naver.com/fectam?Redirect=Log&logNo=222668234487',\n",
       "  '20220310',\n",
       "  'https://blog.naver.com/fectam'],\n",
       " ['https://blog.naver.com/hyunji091?Redirect=Log&logNo=222666957860',\n",
       "  '20220308',\n",
       "  'https://blog.naver.com/hyunji091'],\n",
       " ['https://blog.naver.com/ysh2119?Redirect=Log&logNo=222675671685',\n",
       "  '20220317',\n",
       "  'https://blog.naver.com/ysh2119'],\n",
       " ['https://blog.naver.com/anny68?Redirect=Log&logNo=222676063103',\n",
       "  '20220318',\n",
       "  'https://blog.naver.com/anny68']]"
      ]
     },
     "execution_count": 193,
     "metadata": {},
     "output_type": "execute_result"
    }
   ],
   "source": [
    "total_row = []#리스트 안에 리스트를 넣어 1부터 10까지 해당 키워드 빼오는 방법\n",
    "total_row2 = []\n",
    "total_row1 = []\n",
    "#title 키의 b태그 없애기\n",
    "for i in range(0, len(data_Values), 1):\n",
    "    a1 = (data_Values[i]['title']).replace('<b>','')\n",
    "    a1 = a1.replace('</b>','')\n",
    "    #print(a1)\n",
    "    total_row1.append(a1)\n",
    "\n",
    "for i in range(0, len(data_Values), 1):\n",
    "    a2 = (data_Values[i]['description']).replace('<b>','')\n",
    "    a2 = a2.replace('</b>','')\n",
    "    #print(a2)\n",
    "    total_row2.append(a2)\n",
    "total_row = total_row1 + total_row2\n",
    "for no in range(10):\n",
    "    bloggerlink = data_Values[no]['bloggerlink']\n",
    "    link = data_Values[no]['link']\n",
    "    postdate = data_Values[no]['postdate']\n",
    "    one_row = []\n",
    "    one_row.append(link)\n",
    "    one_row.append(postdate)\n",
    "    one_row.append(bloggerlink)\n",
    "    \n",
    "#     print(one_row)\n",
    "    total_row.append(one_row)\n",
    "    \n",
    "\n",
    "total_row"
   ]
  },
  {
   "cell_type": "code",
   "execution_count": null,
   "id": "eafe2c28",
   "metadata": {},
   "outputs": [],
   "source": []
  }
 ],
 "metadata": {
  "kernelspec": {
   "display_name": "Python 3 (ipykernel)",
   "language": "python",
   "name": "python3"
  },
  "language_info": {
   "codemirror_mode": {
    "name": "ipython",
    "version": 3
   },
   "file_extension": ".py",
   "mimetype": "text/x-python",
   "name": "python",
   "nbconvert_exporter": "python",
   "pygments_lexer": "ipython3",
   "version": "3.9.7"
  }
 },
 "nbformat": 4,
 "nbformat_minor": 5
}
