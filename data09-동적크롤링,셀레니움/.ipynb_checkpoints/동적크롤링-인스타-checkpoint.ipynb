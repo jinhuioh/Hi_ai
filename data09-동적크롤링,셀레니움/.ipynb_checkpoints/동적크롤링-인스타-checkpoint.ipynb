{
 "cells": [
  {
   "cell_type": "code",
   "execution_count": 68,
   "id": "233ed315",
   "metadata": {},
   "outputs": [],
   "source": [
    "#주요 라이브러리 임포트\n",
    "import warnings\n",
    "warnings.filterwarnings(action='ignore')\n",
    "from selenium.webdriver.common.by import By\n",
    "from selenium.webdriver.support.ui import WebDriverWait \n",
    "from selenium.webdriver.support import expected_conditions as EC\n",
    "#step1.selenium 패키지와 time 모듈 import\n",
    "from selenium import webdriver as wb\n",
    "from selenium.webdriver.common.keys import Keys\n",
    "import time\n",
    "import pandas as pd\n",
    "from bs4 import BeautifulSoup as bs"
   ]
  },
  {
   "cell_type": "code",
   "execution_count": 69,
   "id": "37f03108",
   "metadata": {},
   "outputs": [],
   "source": [
    "#인스타 크롤링을 해보자!\n",
    "#1. 크롬 브라우저 실행\n",
    "driver = webdriver.Chrome('../chromedriver/chromedriver.exe')"
   ]
  },
  {
   "cell_type": "code",
   "execution_count": 70,
   "id": "0660bbd2",
   "metadata": {},
   "outputs": [],
   "source": [
    "#2. 특정한 페이지 접속\n",
    "url='https://www.instagram.com/'\n",
    "driver.get(url)#http로 요청을 보내라<---http응답을 보낼 것임.\n",
    "time.sleep(2)"
   ]
  },
  {
   "cell_type": "code",
   "execution_count": 71,
   "id": "ed187e6b",
   "metadata": {},
   "outputs": [],
   "source": [
    "id_input='#loginForm > div > div:nth-child(1) > div > label > input'\n",
    "id_box = driver.find_element_by_css_selector(id_input)\n",
    "email_box = driver.find_element_by_css_selector(id_input)\n",
    "#id입력\n",
    "email_box.send_keys('aaa779979@naver.com')"
   ]
  },
  {
   "cell_type": "code",
   "execution_count": 72,
   "id": "c528a941",
   "metadata": {},
   "outputs": [],
   "source": [
    "pw_input = '#loginForm > div > div:nth-child(2) > div > label > input'\n",
    "pw_box = driver.find_element_by_css_selector(pw_input)\n",
    "#pw입력\n",
    "pw_box.send_keys('wls3gml3!!')"
   ]
  },
  {
   "cell_type": "code",
   "execution_count": 73,
   "id": "351bf4dc",
   "metadata": {},
   "outputs": [],
   "source": [
    "submit_input = '#loginForm > div > div:nth-child(3) > button'\n",
    "submit_btn = driver.find_element_by_css_selector(submit_input)\n",
    "submit_btn.send_keys(Keys.RETURN) \n",
    "time.sleep(2)"
   ]
  },
  {
   "cell_type": "code",
   "execution_count": 74,
   "id": "d15f7a0b",
   "metadata": {},
   "outputs": [],
   "source": [
    "# #로그인 정보를 저장하시겠습니까? -->정보저장 클릭!\n",
    "# save_css = ''\n",
    "# save_btn = driver.find_element_by_css_selector(save_css)\n",
    "# save_btn.send_keys(Keys.RETURN)\n",
    "# time.sleep(2)"
   ]
  },
  {
   "cell_type": "code",
   "execution_count": 75,
   "id": "0535519d",
   "metadata": {},
   "outputs": [],
   "source": [
    "#알림설정 나중에 하기 클릭하기!\n",
    "#주소: body > div.RnEpo.Yx5HN > div > div > div > div.mt3GC > button.aOOlW.HoLwm\n",
    "after_css = 'body > div.RnEpo.Yx5HN > div > div > div > div.mt3GC > button.aOOlW.HoLwm'\n",
    "after_btn = driver.find_element_by_css_selector(after_css)\n",
    "after_btn.click()#.send_keys(Keys.RETURN) 랑 같음\n",
    "time.sleep(2)"
   ]
  },
  {
   "cell_type": "code",
   "execution_count": 80,
   "id": "04f71cca",
   "metadata": {},
   "outputs": [
    {
     "name": "stdout",
     "output_type": "stream",
     "text": [
      "[<selenium.webdriver.remote.webelement.WebElement (session=\"b478fed8a0431b2fe6301f01b19ec5d6\", element=\"38f90229-3be0-49c3-b391-888ea8fcce7b\")>, <selenium.webdriver.remote.webelement.WebElement (session=\"b478fed8a0431b2fe6301f01b19ec5d6\", element=\"48570c7e-df71-4b2f-abbd-c1ba55c440b7\")>]\n",
      "<class 'list'>\n",
      "69\n"
     ]
    }
   ],
   "source": [
    "## 좋아요=> #react-root > section > main > section > div.CZW53.N2s2W > div.qF0y9.Igw0E.IwRSH.eGOV_._4EzTm > div:nth-child(1) > div > article:nth-child(4) > div > div.qF0y9.Igw0E.IwRSH.eGOV_._4EzTm > div > div > section.EDfFK.ygqzn > div > div > div > a > div\n",
    "like_css = '.eo2As  span'#eo2As클래스 안 어딘가에 있는 span 태그\n",
    "like_texts = driver.find_elements_by_css_selector(like_css)\n",
    "print(like_texts[:2])\n",
    "print(type(like_texts))\n",
    "print(len(like_texts))"
   ]
  },
  {
   "cell_type": "code",
   "execution_count": 81,
   "id": "09a31d40",
   "metadata": {},
   "outputs": [
    {
     "name": "stdout",
     "output_type": "stream",
     "text": [
      "13\n",
      "3\n",
      "5\n",
      "2\n"
     ]
    }
   ],
   "source": [
    "# # like_texts_list = []\n",
    "# for like in like_texts:\n",
    "# #     like_texts_list.append(like.text)   \n",
    "#     if like.text.isdecimal():\n",
    "    \n",
    "#         print(int(like.text))\n",
    "# # print(like_texts_list)\n",
    "for like in like_texts:\n",
    "        if like.text.isdecimal():#이즈데시말: 문자인지 숫자인지 판단.\n",
    "            print(int(like.text))#숫자를 인트값으로 바꿔줘\n",
    "        else:\n",
    "            pass"
   ]
  },
  {
   "cell_type": "code",
   "execution_count": 78,
   "id": "dd4685be",
   "metadata": {},
   "outputs": [],
   "source": [
    "#더보기 클릭해서 아래 태그들 가져와보기!\n",
    "more_css = '#react-root > section > main > section > div > div.qF0y9.Igw0E.IwRSH.eGOV_._4EzTm > div:nth-child(1) > div > article:nth-child(4) > div > div.qF0y9.Igw0E.IwRSH.eGOV_._4EzTm > div > div > div.EtaWk > div > div > div > span:nth-child(3) > span:nth-child(2) > div > div'\n",
    "more_texts = driver.find_element_by_css_selector(more_css)\n",
    "more_texts.click()\n",
    "time.sleep(2)"
   ]
  },
  {
   "cell_type": "code",
   "execution_count": 91,
   "id": "44fa18ef",
   "metadata": {},
   "outputs": [],
   "source": [
    "#태그를 가져와보자\n",
    "tag_css ='.xil3i'\n",
    "tag_texts = driver.find_elements_by_css_selector(tag_css)\n",
    "tag_texts\n",
    "time.sleep(2)"
   ]
  },
  {
   "cell_type": "code",
   "execution_count": 94,
   "id": "e495fce1",
   "metadata": {},
   "outputs": [
    {
     "ename": "TypeError",
     "evalue": "'WebElement' object is not iterable",
     "output_type": "error",
     "traceback": [
      "\u001b[1;31m---------------------------------------------------------------------------\u001b[0m",
      "\u001b[1;31mTypeError\u001b[0m                                 Traceback (most recent call last)",
      "\u001b[1;32m~\\AppData\\Local\\Temp/ipykernel_7836/2814481054.py\u001b[0m in \u001b[0;36m<module>\u001b[1;34m\u001b[0m\n\u001b[0;32m      4\u001b[0m \u001b[1;31m# print(tag_list)\u001b[0m\u001b[1;33m\u001b[0m\u001b[1;33m\u001b[0m\u001b[0m\n\u001b[0;32m      5\u001b[0m \u001b[1;33m\u001b[0m\u001b[0m\n\u001b[1;32m----> 6\u001b[1;33m \u001b[1;32mfor\u001b[0m \u001b[0mx\u001b[0m \u001b[1;32min\u001b[0m \u001b[0mtag\u001b[0m\u001b[1;33m:\u001b[0m\u001b[1;33m\u001b[0m\u001b[1;33m\u001b[0m\u001b[0m\n\u001b[0m\u001b[0;32m      7\u001b[0m     \u001b[0mprint\u001b[0m\u001b[1;33m(\u001b[0m\u001b[0mx\u001b[0m\u001b[1;33m.\u001b[0m\u001b[0mtag_texts\u001b[0m\u001b[1;33m)\u001b[0m\u001b[1;33m\u001b[0m\u001b[1;33m\u001b[0m\u001b[0m\n",
      "\u001b[1;31mTypeError\u001b[0m: 'WebElement' object is not iterable"
     ]
    }
   ],
   "source": [
    "tag_list = []\n",
    "for tag in tag_texts:\n",
    "    tag_list.append(tag.text)\n",
    "print(tag_list)\n",
    "\n",
    "# for x in tag:\n",
    "#     print(x.tag_texts)"
   ]
  },
  {
   "cell_type": "code",
   "execution_count": null,
   "id": "069ca07a",
   "metadata": {},
   "outputs": [],
   "source": []
  }
 ],
 "metadata": {
  "kernelspec": {
   "display_name": "Python 3 (ipykernel)",
   "language": "python",
   "name": "python3"
  },
  "language_info": {
   "codemirror_mode": {
    "name": "ipython",
    "version": 3
   },
   "file_extension": ".py",
   "mimetype": "text/x-python",
   "name": "python",
   "nbconvert_exporter": "python",
   "pygments_lexer": "ipython3",
   "version": "3.9.7"
  }
 },
 "nbformat": 4,
 "nbformat_minor": 5
}
