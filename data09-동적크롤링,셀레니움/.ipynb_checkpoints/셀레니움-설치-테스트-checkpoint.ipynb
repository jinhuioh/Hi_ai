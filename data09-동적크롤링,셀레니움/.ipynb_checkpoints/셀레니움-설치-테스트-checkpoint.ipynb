{
 "cells": [
  {
   "cell_type": "code",
   "execution_count": 9,
   "id": "4fd9dc0f",
   "metadata": {},
   "outputs": [],
   "source": [
    "#동적크롤링할때 수동으로 설치한 크롬드라이버를 실행시켜보자~\n",
    "from selenium import webdriver\n",
    "import time"
   ]
  },
  {
   "cell_type": "code",
   "execution_count": 10,
   "id": "e4726234",
   "metadata": {},
   "outputs": [
    {
     "name": "stderr",
     "output_type": "stream",
     "text": [
      "C:\\Users\\aaa77\\AppData\\Local\\Temp/ipykernel_4220/3458037068.py:1: DeprecationWarning: executable_path has been deprecated, please pass in a Service object\n",
      "  wd = webdriver.Chrome('C:/Users/aaa77/PycharmProjects/chromedriver/chromedriver.exe')\n"
     ]
    }
   ],
   "source": [
    "wd = webdriver.Chrome('C:/Users/aaa77/PycharmProjects/chromedriver/chromedriver.exe')"
   ]
  },
  {
   "cell_type": "code",
   "execution_count": 11,
   "id": "dab732db",
   "metadata": {},
   "outputs": [],
   "source": [
    "wd.get('https://www.instagram.com/')#동적크롤링 하고싶은 사이트 가져오기.\n",
    "time.sleep(3)#실행할 시간을 기다려줄 때는 sleep()을 넣자."
   ]
  },
  {
   "cell_type": "code",
   "execution_count": null,
   "id": "b3d3b1e3",
   "metadata": {},
   "outputs": [],
   "source": []
  }
 ],
 "metadata": {
  "kernelspec": {
   "display_name": "Python 3 (ipykernel)",
   "language": "python",
   "name": "python3"
  },
  "language_info": {
   "codemirror_mode": {
    "name": "ipython",
    "version": 3
   },
   "file_extension": ".py",
   "mimetype": "text/x-python",
   "name": "python",
   "nbconvert_exporter": "python",
   "pygments_lexer": "ipython3",
   "version": "3.9.7"
  }
 },
 "nbformat": 4,
 "nbformat_minor": 5
}
