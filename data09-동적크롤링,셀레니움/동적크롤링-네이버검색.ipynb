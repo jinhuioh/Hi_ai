{
 "cells": [
  {
   "cell_type": "code",
   "execution_count": 96,
   "id": "265856ef",
   "metadata": {},
   "outputs": [],
   "source": [
    "import warnings\n",
    "warnings.filterwarnings(action='ignore')\n",
    "from selenium.webdriver.common.by import By\n",
    "from selenium.webdriver.support.ui import WebDriverWait \n",
    "from selenium.webdriver.support import expected_conditions as EC"
   ]
  },
  {
   "cell_type": "code",
   "execution_count": 97,
   "id": "2a1d2b63",
   "metadata": {},
   "outputs": [],
   "source": [
    "#step1.selenium 패키지와 time 모듈 import\n",
    "from selenium import webdriver\n",
    "from selenium.webdriver.common.keys import Keys\n",
    "import time"
   ]
  },
  {
   "cell_type": "code",
   "execution_count": 98,
   "id": "00fabd65",
   "metadata": {},
   "outputs": [
    {
     "name": "stdout",
     "output_type": "stream",
     "text": [
      "검색할 키워드를 입력하세요>> 자동차\n"
     ]
    }
   ],
   "source": [
    "#검색할 키워드 입력\n",
    "query = input('검색할 키워드를 입력하세요>> ')"
   ]
  },
  {
   "cell_type": "code",
   "execution_count": 99,
   "id": "027faaeb",
   "metadata": {},
   "outputs": [],
   "source": [
    "#크롬 드라이버로 원하는 url접속\n",
    "#1. 크롬 브라우저 실행\n",
    "driver = webdriver.Chrome('../chromedriver/chromedriver.exe')"
   ]
  },
  {
   "cell_type": "code",
   "execution_count": 100,
   "id": "444fb890",
   "metadata": {},
   "outputs": [],
   "source": [
    "#2. 특정url:http://www.naver.com 페이지로 연결\n",
    "url='http://www.naver.com'\n",
    "driver.get(url)#http로 요청을 보내라<---http응답을 보낼 것임."
   ]
  },
  {
   "cell_type": "code",
   "execution_count": 101,
   "id": "9398d55c",
   "metadata": {},
   "outputs": [],
   "source": [
    "#   연결하여 페이지를 받아오는 동안 기다리기 설정. request response되는거 기다리고 다음꺼 실행\n",
    "time.sleep(2)"
   ]
  },
  {
   "cell_type": "code",
   "execution_count": 102,
   "id": "a4cdc2d7",
   "metadata": {},
   "outputs": [],
   "source": [
    "#3. 네이버 검색 input태그의 위치를 찾아서\n",
    "##query\n",
    "search_box = driver.find_element_by_css_selector('input#query')\n",
    "#4. 3번에서 찾은 input태그에 검색어를 넣는다.\n",
    "search_box.send_keys(query)\n",
    "#5. 4번에서 입력한 값 서버로 전송\n",
    "search_box.send_keys(Keys.ENTER)\n",
    "#기다리기 설정\n",
    "time.sleep(2)"
   ]
  },
  {
   "cell_type": "code",
   "execution_count": 103,
   "id": "3d329353",
   "metadata": {},
   "outputs": [],
   "source": [
    "# #lnb > div.lnb_group > div > ul > li:nth-child(8) > a\n",
    "#6. news tab을 찾아라!\n",
    "news_tab = driver.find_element_by_css_selector('#lnb > div.lnb_group > div > ul > li:nth-child(8) > a')\n",
    "                                               \n",
    "#7, news_tab을 클릭!\n",
    "news_tab.click()\n",
    "time.sleep(2)"
   ]
  },
  {
   "cell_type": "code",
   "execution_count": null,
   "id": "6350ba51",
   "metadata": {},
   "outputs": [],
   "source": [
    "from IPython.display import Image"
   ]
  },
  {
   "cell_type": "code",
   "execution_count": 75,
   "id": "c4c1a396",
   "metadata": {},
   "outputs": [
    {
     "data": {
      "image/jpeg": "[encoded data removed]",
      "text/plain": [
       "<IPython.core.display.Image object>"
      ]
     },
     "execution_count": 75,
     "metadata": {},
     "output_type": "execute_result"
    }
   ],
   "source": [
    "Image('./1.jpg')"
   ]
  },
  {
   "cell_type": "code",
   "execution_count": 76,
   "id": "787e0e21",
   "metadata": {
    "scrolled": true
   },
   "outputs": [
    {
     "data": {
      "text/plain": [
       "[<selenium.webdriver.remote.webelement.WebElement (session=\"0096d4956852ebf0b01e37f621f8ab3c\", element=\"f92a02b0-7aeb-4110-9d45-3ca65ad5da9b\")>,\n",
       " <selenium.webdriver.remote.webelement.WebElement (session=\"0096d4956852ebf0b01e37f621f8ab3c\", element=\"4468babf-67da-4767-a46c-f5bb9580e16d\")>,\n",
       " <selenium.webdriver.remote.webelement.WebElement (session=\"0096d4956852ebf0b01e37f621f8ab3c\", element=\"ec705152-158c-47e6-a62f-c2751c32ad27\")>,\n",
       " <selenium.webdriver.remote.webelement.WebElement (session=\"0096d4956852ebf0b01e37f621f8ab3c\", element=\"8df834c2-f4d6-4e3a-acd6-5e8fd821548c\")>,\n",
       " <selenium.webdriver.remote.webelement.WebElement (session=\"0096d4956852ebf0b01e37f621f8ab3c\", element=\"0cf892e6-b45e-4756-90b4-a17cfa3d0e9b\")>,\n",
       " <selenium.webdriver.remote.webelement.WebElement (session=\"0096d4956852ebf0b01e37f621f8ab3c\", element=\"5c74e0d3-5c9f-47d6-8e6d-a903eb085204\")>,\n",
       " <selenium.webdriver.remote.webelement.WebElement (session=\"0096d4956852ebf0b01e37f621f8ab3c\", element=\"1c5b8068-57da-4627-824e-f9c67d985e1c\")>,\n",
       " <selenium.webdriver.remote.webelement.WebElement (session=\"0096d4956852ebf0b01e37f621f8ab3c\", element=\"7dff0019-b0aa-406b-ae67-b56b4f88c5e3\")>,\n",
       " <selenium.webdriver.remote.webelement.WebElement (session=\"0096d4956852ebf0b01e37f621f8ab3c\", element=\"9d16622b-a019-4b71-8f85-8003eb06fac1\")>,\n",
       " <selenium.webdriver.remote.webelement.WebElement (session=\"0096d4956852ebf0b01e37f621f8ab3c\", element=\"cbc4bc2d-2e67-4eca-9c23-173acae1c4c7\")>]"
      ]
     },
     "execution_count": 76,
     "metadata": {},
     "output_type": "execute_result"
    }
   ],
   "source": [
    "#뉴스제목을 가져와보자\n",
    "news_title = driver.find_elements_by_css_selector('a.news_tit')\n",
    "news_title"
   ]
  },
  {
   "cell_type": "code",
   "execution_count": 77,
   "id": "d4383784",
   "metadata": {},
   "outputs": [
    {
     "data": {
      "text/plain": [
       "list"
      ]
     },
     "execution_count": 77,
     "metadata": {},
     "output_type": "execute_result"
    }
   ],
   "source": [
    "type(news_title)"
   ]
  },
  {
   "cell_type": "code",
   "execution_count": 78,
   "id": "de350ab8",
   "metadata": {
    "scrolled": true
   },
   "outputs": [
    {
     "name": "stdout",
     "output_type": "stream",
     "text": [
      "‘자동차 정기 검사’ 안 받으면 과태료 최대 60만 원\n",
      "쌍용자동차, 에디슨 모터스에 M&A 해지 통보…‘새 주인 찾기’ 재시동\n",
      "다음 달부터 자동차보험 ‘마일리지 특약’ 자동가입으로 변경\n",
      "화승케미칼, 자동차 애프터마켓 진출\n",
      "자동차 보험료 10만원 가량 절약받는 법은?\n",
      "4월부터 자동차 마일리지 특약 자동 가입된다\n",
      "쌍용자동차, 에디슨모터스 컨소시엄과 투자계약 해제…“새 인수자 물색”\n",
      "원주시, 자동차 정기검사 지연 과태료 2배 인상\n",
      "경기 가평군, 긴급자동차 자동 진·출입 시스템 번호판 부착\n",
      "2분기 화장품 업계 기대감 ‘쑥’…자동차는 유가상승 우려 커져\n"
     ]
    }
   ],
   "source": [
    "for title in news_title:\n",
    "    print(title.text)"
   ]
  },
  {
   "cell_type": "code",
   "execution_count": 79,
   "id": "c5ad70e0",
   "metadata": {},
   "outputs": [
    {
     "name": "stdout",
     "output_type": "stream",
     "text": [
      "1\n",
      "2\n",
      "3\n",
      "4\n",
      "5\n",
      "6\n",
      "7\n",
      "8\n",
      "9\n",
      "10\n"
     ]
    }
   ],
   "source": [
    "title_list = []\n",
    "for title in news_title:\n",
    "    title_list.append(title.text)\n",
    "    print(len(title_list))"
   ]
  },
  {
   "cell_type": "code",
   "execution_count": 80,
   "id": "e908aa06",
   "metadata": {},
   "outputs": [
    {
     "name": "stdout",
     "output_type": "stream",
     "text": [
      "1\n",
      "2\n",
      "3\n",
      "4\n",
      "5\n",
      "6\n",
      "7\n",
      "8\n",
      "9\n",
      "10\n"
     ]
    }
   ],
   "source": [
    "title_list = []\n",
    "for title in news_title:\n",
    "    title_list.append(title.text)\n",
    "    print(len(title_list))"
   ]
  },
  {
   "cell_type": "code",
   "execution_count": 81,
   "id": "0300fe16",
   "metadata": {},
   "outputs": [
    {
     "name": "stdout",
     "output_type": "stream",
     "text": [
      "1\n",
      "2\n",
      "3\n",
      "4\n",
      "5\n",
      "6\n",
      "7\n",
      "8\n",
      "9\n",
      "10\n"
     ]
    }
   ],
   "source": [
    "#뉴스 url가져와보자\n",
    "url_list = []\n",
    "for title in news_title:\n",
    "    url_list.append(title.get_attribute('href'))\n",
    "    print(len(url_list))"
   ]
  },
  {
   "cell_type": "code",
   "execution_count": 82,
   "id": "643ce3e1",
   "metadata": {},
   "outputs": [
    {
     "data": {
      "text/plain": [
       "[<selenium.webdriver.remote.webelement.WebElement (session=\"0096d4956852ebf0b01e37f621f8ab3c\", element=\"5f642578-6c9e-43a0-a65d-ae13638312fe\")>,\n",
       " <selenium.webdriver.remote.webelement.WebElement (session=\"0096d4956852ebf0b01e37f621f8ab3c\", element=\"84a6cc67-d845-43f6-9a74-2bd1ea3c48f5\")>,\n",
       " <selenium.webdriver.remote.webelement.WebElement (session=\"0096d4956852ebf0b01e37f621f8ab3c\", element=\"764e1747-501a-4560-bb4a-4ee8fafe20c0\")>,\n",
       " <selenium.webdriver.remote.webelement.WebElement (session=\"0096d4956852ebf0b01e37f621f8ab3c\", element=\"a5915a2a-64f2-4a03-be63-7a6f47e8c05f\")>,\n",
       " <selenium.webdriver.remote.webelement.WebElement (session=\"0096d4956852ebf0b01e37f621f8ab3c\", element=\"cad2eb4f-1565-4dc1-b88f-a9513e451a06\")>,\n",
       " <selenium.webdriver.remote.webelement.WebElement (session=\"0096d4956852ebf0b01e37f621f8ab3c\", element=\"ba636e1a-1bdb-49a2-a9ed-a428200c5453\")>,\n",
       " <selenium.webdriver.remote.webelement.WebElement (session=\"0096d4956852ebf0b01e37f621f8ab3c\", element=\"db2de267-abcb-4ef8-aae5-314c21062ab8\")>,\n",
       " <selenium.webdriver.remote.webelement.WebElement (session=\"0096d4956852ebf0b01e37f621f8ab3c\", element=\"46832ff8-8c5e-4311-a52d-bb54630b0971\")>,\n",
       " <selenium.webdriver.remote.webelement.WebElement (session=\"0096d4956852ebf0b01e37f621f8ab3c\", element=\"cf04df72-7354-41b3-971b-81a6d256346b\")>,\n",
       " <selenium.webdriver.remote.webelement.WebElement (session=\"0096d4956852ebf0b01e37f621f8ab3c\", element=\"e916e256-2e7c-469b-9feb-687ad690f8fc\")>]"
      ]
     },
     "execution_count": 82,
     "metadata": {},
     "output_type": "execute_result"
    }
   ],
   "source": [
    "#뉴스 썸네일 가져와보자.\n",
    "news_img = driver.find_elements_by_css_selector('img.thumb.api_get')#thumb.여기서 점이 여러개의 클래스의미\n",
    "news_img"
   ]
  },
  {
   "cell_type": "code",
   "execution_count": 83,
   "id": "5dd22be6",
   "metadata": {},
   "outputs": [
    {
     "name": "stdout",
     "output_type": "stream",
     "text": [
      "1\n",
      "2\n",
      "3\n",
      "4\n",
      "5\n",
      "6\n",
      "7\n",
      "8\n",
      "9\n",
      "10\n"
     ]
    }
   ],
   "source": [
    "#뉴스 img가져와보자\n",
    "img_list = []\n",
    "for img in news_img:\n",
    "    img_list.append(img.get_attribute('src'))\n",
    "    print(len(img_list))"
   ]
  },
  {
   "cell_type": "code",
   "execution_count": 84,
   "id": "29360acd",
   "metadata": {},
   "outputs": [],
   "source": [
    "#이미지 주소가지고 img를 컴퓨터에 다운로드 해ㅗ자\n",
    "#저장위치 결정, 현재 경로 폴더 설정\n",
    "path_folder = './'\n",
    "import os\n",
    "if not os.path.isdir(path_folder):\n",
    "    os.mkdir(path_folder)"
   ]
  },
  {
   "cell_type": "code",
   "execution_count": 85,
   "id": "e0bfcec8",
   "metadata": {},
   "outputs": [
    {
     "name": "stdout",
     "output_type": "stream",
     "text": [
      " C 드라이브의 볼륨에는 이름이 없습니다.\n",
      " 볼륨 일련 번호: 2AA9-F679\n",
      "\n",
      " C:\\Users\\aaa77\\PycharmProjects\\data09 디렉터리\n",
      "\n",
      "2022-03-28  오후 03:50    <DIR>          .\n",
      "2022-03-28  오후 03:50    <DIR>          ..\n",
      "2022-03-28  오후 03:40    <DIR>          .ipynb_checkpoints\n",
      "2022-03-28  오후 03:26            17,349 1.jpg\n",
      "2022-03-28  오후 03:26             5,852 10.jpg\n",
      "2022-03-28  오후 03:26            18,704 2.jpg\n",
      "2022-03-28  오후 03:26             7,032 3.jpg\n",
      "2022-03-28  오후 03:26            19,169 4.jpg\n",
      "2022-03-28  오후 03:26            19,986 5.jpg\n",
      "2022-03-28  오후 03:26            13,191 6.jpg\n",
      "2022-03-28  오후 03:26            12,566 7.jpg\n",
      "2022-03-28  오후 03:26            16,147 8.jpg\n",
      "2022-03-28  오후 03:26            19,789 9.jpg\n",
      "2022-03-28  오전 10:00             1,417 folium-data.csv\n",
      "2022-03-28  오후 12:11           315,911 folium.ipynb\n",
      "2022-03-28  오전 11:40            38,713 location.html\n",
      "2022-03-28  오전 10:01            13,840 skorea_municipalities_geo_simple.json\n",
      "2022-03-28  오후 03:50            12,421 동적크롤링-네이버검색-2.ipynb\n",
      "2022-03-28  오후 03:46            45,959 동적크롤링-네이버검색.ipynb\n",
      "2022-03-28  오전 10:00            11,062 서울시구별식당개수.xlsx\n",
      "2022-03-28  오전 10:01            21,504 서울시구별식품위생업현황.xls\n",
      "2022-03-28  오전 10:57            12,975 서울시구별위도경도.xlsx\n",
      "2022-03-28  오후 02:38             1,783 셀레니움-설치-테스트.ipynb\n",
      "              20개 파일             625,370 바이트\n",
      "               3개 디렉터리  27,103,084,544 바이트 남음\n"
     ]
    }
   ],
   "source": [
    "!dir"
   ]
  },
  {
   "cell_type": "code",
   "execution_count": 86,
   "id": "622f610e",
   "metadata": {},
   "outputs": [],
   "source": [
    "from urllib.request import urlretrieve"
   ]
  },
  {
   "cell_type": "code",
   "execution_count": 87,
   "id": "e76f1f13",
   "metadata": {},
   "outputs": [],
   "source": [
    "i = 0\n",
    "for img in img_list:\n",
    "    i +=1 #i=i+1\n",
    "    urlretrieve(img,path_folder+ str(i) + '.jpg')"
   ]
  },
  {
   "cell_type": "code",
   "execution_count": 88,
   "id": "d1258224",
   "metadata": {},
   "outputs": [
    {
     "name": "stdout",
     "output_type": "stream",
     "text": [
      " C 드라이브의 볼륨에는 이름이 없습니다.\n",
      " 볼륨 일련 번호: 2AA9-F679\n",
      "\n",
      " C:\\Users\\aaa77\\PycharmProjects\\data09 디렉터리\n",
      "\n",
      "2022-03-28  오후 04:01            17,349 1.jpg\n",
      "2022-03-28  오후 04:01            16,147 10.jpg\n",
      "2022-03-28  오후 04:01            13,191 2.jpg\n",
      "2022-03-28  오후 04:01            18,704 3.jpg\n",
      "2022-03-28  오후 04:01             7,032 4.jpg\n",
      "2022-03-28  오후 04:01            19,169 5.jpg\n",
      "2022-03-28  오후 04:01            19,986 6.jpg\n",
      "2022-03-28  오후 04:01            12,566 7.jpg\n",
      "2022-03-28  오후 04:01            16,267 8.jpg\n",
      "2022-03-28  오후 04:01            24,666 9.jpg\n",
      "              10개 파일             165,077 바이트\n",
      "               0개 디렉터리  27,103,068,160 바이트 남음\n"
     ]
    }
   ],
   "source": [
    "\n",
    "!dir *jpg"
   ]
  },
  {
   "cell_type": "code",
   "execution_count": 89,
   "id": "141ea596",
   "metadata": {},
   "outputs": [
    {
     "data": {
      "text/html": [
       "<div>\n",
       "<style scoped>\n",
       "    .dataframe tbody tr th:only-of-type {\n",
       "        vertical-align: middle;\n",
       "    }\n",
       "\n",
       "    .dataframe tbody tr th {\n",
       "        vertical-align: top;\n",
       "    }\n",
       "\n",
       "    .dataframe thead th {\n",
       "        text-align: right;\n",
       "    }\n",
       "</style>\n",
       "<table border=\"1\" class=\"dataframe\">\n",
       "  <thead>\n",
       "    <tr style=\"text-align: right;\">\n",
       "      <th></th>\n",
       "      <th>title</th>\n",
       "      <th>url</th>\n",
       "      <th>img</th>\n",
       "    </tr>\n",
       "  </thead>\n",
       "  <tbody>\n",
       "    <tr>\n",
       "      <th>0</th>\n",
       "      <td>‘자동차 정기 검사’ 안 받으면 과태료 최대 60만 원</td>\n",
       "      <td>http://www.newsis.com/view/?id=NISX20220328_00...</td>\n",
       "      <td>https://search.pstatic.net/common/?src=https%3...</td>\n",
       "    </tr>\n",
       "    <tr>\n",
       "      <th>1</th>\n",
       "      <td>쌍용자동차, 에디슨 모터스에 M&amp;A 해지 통보…‘새 주인 찾기’ 재시동</td>\n",
       "      <td>https://www.donga.com/news/article/all/2022032...</td>\n",
       "      <td>https://search.pstatic.net/common/?src=https%3...</td>\n",
       "    </tr>\n",
       "    <tr>\n",
       "      <th>2</th>\n",
       "      <td>다음 달부터 자동차보험 ‘마일리지 특약’ 자동가입으로 변경</td>\n",
       "      <td>https://news.kbs.co.kr/news/view.do?ncd=542499...</td>\n",
       "      <td>https://search.pstatic.net/common/?src=https%3...</td>\n",
       "    </tr>\n",
       "    <tr>\n",
       "      <th>3</th>\n",
       "      <td>화승케미칼, 자동차 애프터마켓 진출</td>\n",
       "      <td>http://yna.kr/AKR20220328033100051?did=1195m</td>\n",
       "      <td>https://search.pstatic.net/common/?src=https%3...</td>\n",
       "    </tr>\n",
       "    <tr>\n",
       "      <th>4</th>\n",
       "      <td>자동차 보험료 10만원 가량 절약받는 법은?</td>\n",
       "      <td>https://zdnet.co.kr/view/?no=20220328100552</td>\n",
       "      <td>https://search.pstatic.net/common/?src=https%3...</td>\n",
       "    </tr>\n",
       "    <tr>\n",
       "      <th>5</th>\n",
       "      <td>4월부터 자동차 마일리지 특약 자동 가입된다</td>\n",
       "      <td>https://www.seoul.co.kr/news/newsView.php?id=2...</td>\n",
       "      <td>https://search.pstatic.net/common/?src=https%3...</td>\n",
       "    </tr>\n",
       "    <tr>\n",
       "      <th>6</th>\n",
       "      <td>쌍용자동차, 에디슨모터스 컨소시엄과 투자계약 해제…“새 인수자 물색”</td>\n",
       "      <td>https://sports.donga.com/article/all/20220328/...</td>\n",
       "      <td>https://search.pstatic.net/common/?src=https%3...</td>\n",
       "    </tr>\n",
       "    <tr>\n",
       "      <th>7</th>\n",
       "      <td>원주시, 자동차 정기검사 지연 과태료 2배 인상</td>\n",
       "      <td>http://www.newsis.com/view/?id=NISX20220328_00...</td>\n",
       "      <td>https://search.pstatic.net/common/?src=https%3...</td>\n",
       "    </tr>\n",
       "    <tr>\n",
       "      <th>8</th>\n",
       "      <td>경기 가평군, 긴급자동차 자동 진·출입 시스템 번호판 부착</td>\n",
       "      <td>http://www.inews24.com/view/1464448</td>\n",
       "      <td>https://search.pstatic.net/common/?src=https%3...</td>\n",
       "    </tr>\n",
       "    <tr>\n",
       "      <th>9</th>\n",
       "      <td>2분기 화장품 업계 기대감 ‘쑥’…자동차는 유가상승 우려 커져</td>\n",
       "      <td>https://biz.sbs.co.kr/article_hub/20000055878?...</td>\n",
       "      <td>https://search.pstatic.net/common/?src=https%3...</td>\n",
       "    </tr>\n",
       "  </tbody>\n",
       "</table>\n",
       "</div>"
      ],
      "text/plain": [
       "                                     title  \\\n",
       "0           ‘자동차 정기 검사’ 안 받으면 과태료 최대 60만 원   \n",
       "1  쌍용자동차, 에디슨 모터스에 M&A 해지 통보…‘새 주인 찾기’ 재시동   \n",
       "2         다음 달부터 자동차보험 ‘마일리지 특약’ 자동가입으로 변경   \n",
       "3                      화승케미칼, 자동차 애프터마켓 진출   \n",
       "4                 자동차 보험료 10만원 가량 절약받는 법은?   \n",
       "5                 4월부터 자동차 마일리지 특약 자동 가입된다   \n",
       "6   쌍용자동차, 에디슨모터스 컨소시엄과 투자계약 해제…“새 인수자 물색”   \n",
       "7               원주시, 자동차 정기검사 지연 과태료 2배 인상   \n",
       "8         경기 가평군, 긴급자동차 자동 진·출입 시스템 번호판 부착   \n",
       "9       2분기 화장품 업계 기대감 ‘쑥’…자동차는 유가상승 우려 커져   \n",
       "\n",
       "                                                 url  \\\n",
       "0  http://www.newsis.com/view/?id=NISX20220328_00...   \n",
       "1  https://www.donga.com/news/article/all/2022032...   \n",
       "2  https://news.kbs.co.kr/news/view.do?ncd=542499...   \n",
       "3       http://yna.kr/AKR20220328033100051?did=1195m   \n",
       "4        https://zdnet.co.kr/view/?no=20220328100552   \n",
       "5  https://www.seoul.co.kr/news/newsView.php?id=2...   \n",
       "6  https://sports.donga.com/article/all/20220328/...   \n",
       "7  http://www.newsis.com/view/?id=NISX20220328_00...   \n",
       "8                http://www.inews24.com/view/1464448   \n",
       "9  https://biz.sbs.co.kr/article_hub/20000055878?...   \n",
       "\n",
       "                                                 img  \n",
       "0  https://search.pstatic.net/common/?src=https%3...  \n",
       "1  https://search.pstatic.net/common/?src=https%3...  \n",
       "2  https://search.pstatic.net/common/?src=https%3...  \n",
       "3  https://search.pstatic.net/common/?src=https%3...  \n",
       "4  https://search.pstatic.net/common/?src=https%3...  \n",
       "5  https://search.pstatic.net/common/?src=https%3...  \n",
       "6  https://search.pstatic.net/common/?src=https%3...  \n",
       "7  https://search.pstatic.net/common/?src=https%3...  \n",
       "8  https://search.pstatic.net/common/?src=https%3...  \n",
       "9  https://search.pstatic.net/common/?src=https%3...  "
      ]
     },
     "execution_count": 89,
     "metadata": {},
     "output_type": "execute_result"
    }
   ],
   "source": [
    "import pandas as pd\n",
    "naver_search_df = pd.DataFrame({ 'title' : title_list,\n",
    "                                                       'url' : url_list,\n",
    "                                                       'img' : img_list\n",
    "                               })\n",
    "naver_search_df"
   ]
  },
  {
   "cell_type": "code",
   "execution_count": 90,
   "id": "bfe9bada",
   "metadata": {},
   "outputs": [],
   "source": [
    "#마크다운(markdown):설명문"
   ]
  },
  {
   "cell_type": "markdown",
   "id": "03769c5a",
   "metadata": {},
   "source": [
    "## 이것이 마크다운이다."
   ]
  },
  {
   "cell_type": "code",
   "execution_count": null,
   "id": "b1712a4b",
   "metadata": {},
   "outputs": [],
   "source": []
  }
 ],
 "metadata": {
  "kernelspec": {
   "display_name": "Python 3 (ipykernel)",
   "language": "python",
   "name": "python3"
  },
  "language_info": {
   "codemirror_mode": {
    "name": "ipython",
    "version": 3
   },
   "file_extension": ".py",
   "mimetype": "text/x-python",
   "name": "python",
   "nbconvert_exporter": "python",
   "pygments_lexer": "ipython3",
   "version": "3.9.7"
  }
 },
 "nbformat": 4,
 "nbformat_minor": 5
}
