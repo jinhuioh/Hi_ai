{
 "cells": [
  {
   "cell_type": "code",
   "execution_count": 5,
   "id": "44a1315e",
   "metadata": {},
   "outputs": [],
   "source": [
    "import pandas as pd\n",
    "import numpy as np"
   ]
  },
  {
   "cell_type": "code",
   "execution_count": 6,
   "id": "bec8ae4c",
   "metadata": {},
   "outputs": [
    {
     "data": {
      "text/html": [
       "<div>\n",
       "<style scoped>\n",
       "    .dataframe tbody tr th:only-of-type {\n",
       "        vertical-align: middle;\n",
       "    }\n",
       "\n",
       "    .dataframe tbody tr th {\n",
       "        vertical-align: top;\n",
       "    }\n",
       "\n",
       "    .dataframe thead th {\n",
       "        text-align: right;\n",
       "    }\n",
       "</style>\n",
       "<table border=\"1\" class=\"dataframe\">\n",
       "  <thead>\n",
       "    <tr style=\"text-align: right;\">\n",
       "      <th></th>\n",
       "      <th>기관명</th>\n",
       "      <th>소계</th>\n",
       "      <th>2013년도 이전</th>\n",
       "      <th>2014년</th>\n",
       "      <th>2015년</th>\n",
       "      <th>2016년</th>\n",
       "    </tr>\n",
       "  </thead>\n",
       "  <tbody>\n",
       "    <tr>\n",
       "      <th>0</th>\n",
       "      <td>강남구</td>\n",
       "      <td>2780</td>\n",
       "      <td>1292</td>\n",
       "      <td>430</td>\n",
       "      <td>584</td>\n",
       "      <td>932</td>\n",
       "    </tr>\n",
       "    <tr>\n",
       "      <th>1</th>\n",
       "      <td>강동구</td>\n",
       "      <td>773</td>\n",
       "      <td>379</td>\n",
       "      <td>99</td>\n",
       "      <td>155</td>\n",
       "      <td>377</td>\n",
       "    </tr>\n",
       "    <tr>\n",
       "      <th>2</th>\n",
       "      <td>강북구</td>\n",
       "      <td>748</td>\n",
       "      <td>369</td>\n",
       "      <td>120</td>\n",
       "      <td>138</td>\n",
       "      <td>204</td>\n",
       "    </tr>\n",
       "    <tr>\n",
       "      <th>3</th>\n",
       "      <td>강서구</td>\n",
       "      <td>884</td>\n",
       "      <td>388</td>\n",
       "      <td>258</td>\n",
       "      <td>184</td>\n",
       "      <td>81</td>\n",
       "    </tr>\n",
       "    <tr>\n",
       "      <th>4</th>\n",
       "      <td>관악구</td>\n",
       "      <td>1496</td>\n",
       "      <td>846</td>\n",
       "      <td>260</td>\n",
       "      <td>390</td>\n",
       "      <td>613</td>\n",
       "    </tr>\n",
       "  </tbody>\n",
       "</table>\n",
       "</div>"
      ],
      "text/plain": [
       "   기관명    소계  2013년도 이전  2014년  2015년  2016년\n",
       "0  강남구  2780       1292    430    584    932\n",
       "1  강동구   773        379     99    155    377\n",
       "2  강북구   748        369    120    138    204\n",
       "3  강서구   884        388    258    184     81\n",
       "4  관악구  1496        846    260    390    613"
      ]
     },
     "execution_count": 6,
     "metadata": {},
     "output_type": "execute_result"
    }
   ],
   "source": [
    "cctv_seoul = pd.read_csv('cctv_data_collect/cctv_seoul.csv',encoding='utf8')\n",
    "cctv_seoul.head()"
   ]
  },
  {
   "cell_type": "code",
   "execution_count": 7,
   "id": "f294e30c",
   "metadata": {},
   "outputs": [
    {
     "data": {
      "text/plain": [
       "Index(['기관명', '소계', '2013년도 이전', '2014년', '2015년', '2016년'], dtype='object')"
      ]
     },
     "execution_count": 7,
     "metadata": {},
     "output_type": "execute_result"
    }
   ],
   "source": [
    "cctv_seoul.columns"
   ]
  },
  {
   "cell_type": "code",
   "execution_count": 8,
   "id": "34378c23",
   "metadata": {},
   "outputs": [],
   "source": [
    "cctv_seoul.rename(columns={cctv_seoul.columns[0]:'구별'},inplace=True)"
   ]
  },
  {
   "cell_type": "code",
   "execution_count": 9,
   "id": "913b428e",
   "metadata": {},
   "outputs": [
    {
     "data": {
      "text/html": [
       "<div>\n",
       "<style scoped>\n",
       "    .dataframe tbody tr th:only-of-type {\n",
       "        vertical-align: middle;\n",
       "    }\n",
       "\n",
       "    .dataframe tbody tr th {\n",
       "        vertical-align: top;\n",
       "    }\n",
       "\n",
       "    .dataframe thead th {\n",
       "        text-align: right;\n",
       "    }\n",
       "</style>\n",
       "<table border=\"1\" class=\"dataframe\">\n",
       "  <thead>\n",
       "    <tr style=\"text-align: right;\">\n",
       "      <th></th>\n",
       "      <th>기간</th>\n",
       "      <th>자치구</th>\n",
       "      <th>세대</th>\n",
       "      <th>인구</th>\n",
       "      <th>인구.1</th>\n",
       "      <th>인구.2</th>\n",
       "      <th>인구.3</th>\n",
       "      <th>인구.4</th>\n",
       "      <th>인구.5</th>\n",
       "      <th>인구.6</th>\n",
       "      <th>인구.7</th>\n",
       "      <th>인구.8</th>\n",
       "      <th>세대당인구</th>\n",
       "      <th>65세이상고령자</th>\n",
       "    </tr>\n",
       "  </thead>\n",
       "  <tbody>\n",
       "    <tr>\n",
       "      <th>0</th>\n",
       "      <td>기간</td>\n",
       "      <td>자치구</td>\n",
       "      <td>세대</td>\n",
       "      <td>합계</td>\n",
       "      <td>합계</td>\n",
       "      <td>합계</td>\n",
       "      <td>한국인</td>\n",
       "      <td>한국인</td>\n",
       "      <td>한국인</td>\n",
       "      <td>등록외국인</td>\n",
       "      <td>등록외국인</td>\n",
       "      <td>등록외국인</td>\n",
       "      <td>세대당인구</td>\n",
       "      <td>65세이상고령자</td>\n",
       "    </tr>\n",
       "    <tr>\n",
       "      <th>1</th>\n",
       "      <td>기간</td>\n",
       "      <td>자치구</td>\n",
       "      <td>세대</td>\n",
       "      <td>계</td>\n",
       "      <td>남자</td>\n",
       "      <td>여자</td>\n",
       "      <td>계</td>\n",
       "      <td>남자</td>\n",
       "      <td>여자</td>\n",
       "      <td>계</td>\n",
       "      <td>남자</td>\n",
       "      <td>여자</td>\n",
       "      <td>세대당인구</td>\n",
       "      <td>65세이상고령자</td>\n",
       "    </tr>\n",
       "    <tr>\n",
       "      <th>2</th>\n",
       "      <td>2017.1/4</td>\n",
       "      <td>합계</td>\n",
       "      <td>4202888</td>\n",
       "      <td>10197604</td>\n",
       "      <td>5000005</td>\n",
       "      <td>5197599</td>\n",
       "      <td>9926968</td>\n",
       "      <td>4871560</td>\n",
       "      <td>5055408</td>\n",
       "      <td>270636</td>\n",
       "      <td>128445</td>\n",
       "      <td>142191</td>\n",
       "      <td>2.36</td>\n",
       "      <td>1321458</td>\n",
       "    </tr>\n",
       "    <tr>\n",
       "      <th>3</th>\n",
       "      <td>2017.1/4</td>\n",
       "      <td>종로구</td>\n",
       "      <td>72654</td>\n",
       "      <td>162820</td>\n",
       "      <td>79675</td>\n",
       "      <td>83145</td>\n",
       "      <td>153589</td>\n",
       "      <td>75611</td>\n",
       "      <td>77978</td>\n",
       "      <td>9231</td>\n",
       "      <td>4064</td>\n",
       "      <td>5167</td>\n",
       "      <td>2.11</td>\n",
       "      <td>25425</td>\n",
       "    </tr>\n",
       "    <tr>\n",
       "      <th>4</th>\n",
       "      <td>2017.1/4</td>\n",
       "      <td>중구</td>\n",
       "      <td>59481</td>\n",
       "      <td>133240</td>\n",
       "      <td>65790</td>\n",
       "      <td>67450</td>\n",
       "      <td>124312</td>\n",
       "      <td>61656</td>\n",
       "      <td>62656</td>\n",
       "      <td>8928</td>\n",
       "      <td>4134</td>\n",
       "      <td>4794</td>\n",
       "      <td>2.09</td>\n",
       "      <td>20764</td>\n",
       "    </tr>\n",
       "  </tbody>\n",
       "</table>\n",
       "</div>"
      ],
      "text/plain": [
       "         기간  자치구       세대        인구     인구.1     인구.2     인구.3     인구.4  \\\n",
       "0        기간  자치구       세대        합계       합계       합계      한국인      한국인   \n",
       "1        기간  자치구       세대         계       남자       여자        계       남자   \n",
       "2  2017.1/4   합계  4202888  10197604  5000005  5197599  9926968  4871560   \n",
       "3  2017.1/4  종로구    72654    162820    79675    83145   153589    75611   \n",
       "4  2017.1/4   중구    59481    133240    65790    67450   124312    61656   \n",
       "\n",
       "      인구.5    인구.6    인구.7    인구.8  세대당인구  65세이상고령자  \n",
       "0      한국인   등록외국인   등록외국인   등록외국인  세대당인구  65세이상고령자  \n",
       "1       여자       계      남자      여자  세대당인구  65세이상고령자  \n",
       "2  5055408  270636  128445  142191   2.36   1321458  \n",
       "3    77978    9231    4064    5167   2.11     25425  \n",
       "4    62656    8928    4134    4794   2.09     20764  "
      ]
     },
     "execution_count": 9,
     "metadata": {},
     "output_type": "execute_result"
    }
   ],
   "source": [
    "pop_seoul = pd.read_excel('cctv_data_collect/pop_seoul.xls')\n",
    "pop_seoul.head()"
   ]
  },
  {
   "cell_type": "code",
   "execution_count": 10,
   "id": "e49018d3",
   "metadata": {},
   "outputs": [
    {
     "data": {
      "text/html": [
       "<div>\n",
       "<style scoped>\n",
       "    .dataframe tbody tr th:only-of-type {\n",
       "        vertical-align: middle;\n",
       "    }\n",
       "\n",
       "    .dataframe tbody tr th {\n",
       "        vertical-align: top;\n",
       "    }\n",
       "\n",
       "    .dataframe thead th {\n",
       "        text-align: right;\n",
       "    }\n",
       "</style>\n",
       "<table border=\"1\" class=\"dataframe\">\n",
       "  <thead>\n",
       "    <tr style=\"text-align: right;\">\n",
       "      <th></th>\n",
       "      <th>자치구</th>\n",
       "      <th>계</th>\n",
       "      <th>계.1</th>\n",
       "      <th>계.2</th>\n",
       "      <th>65세이상고령자</th>\n",
       "    </tr>\n",
       "  </thead>\n",
       "  <tbody>\n",
       "    <tr>\n",
       "      <th>0</th>\n",
       "      <td>합계</td>\n",
       "      <td>10197604.0</td>\n",
       "      <td>9926968.0</td>\n",
       "      <td>270636.0</td>\n",
       "      <td>1321458.0</td>\n",
       "    </tr>\n",
       "    <tr>\n",
       "      <th>1</th>\n",
       "      <td>종로구</td>\n",
       "      <td>162820.0</td>\n",
       "      <td>153589.0</td>\n",
       "      <td>9231.0</td>\n",
       "      <td>25425.0</td>\n",
       "    </tr>\n",
       "    <tr>\n",
       "      <th>2</th>\n",
       "      <td>중구</td>\n",
       "      <td>133240.0</td>\n",
       "      <td>124312.0</td>\n",
       "      <td>8928.0</td>\n",
       "      <td>20764.0</td>\n",
       "    </tr>\n",
       "    <tr>\n",
       "      <th>3</th>\n",
       "      <td>용산구</td>\n",
       "      <td>244203.0</td>\n",
       "      <td>229456.0</td>\n",
       "      <td>14747.0</td>\n",
       "      <td>36231.0</td>\n",
       "    </tr>\n",
       "    <tr>\n",
       "      <th>4</th>\n",
       "      <td>성동구</td>\n",
       "      <td>311244.0</td>\n",
       "      <td>303380.0</td>\n",
       "      <td>7864.0</td>\n",
       "      <td>39997.0</td>\n",
       "    </tr>\n",
       "  </tbody>\n",
       "</table>\n",
       "</div>"
      ],
      "text/plain": [
       "   자치구           계        계.1       계.2   65세이상고령자\n",
       "0   합계  10197604.0  9926968.0  270636.0  1321458.0\n",
       "1  종로구    162820.0   153589.0    9231.0    25425.0\n",
       "2   중구    133240.0   124312.0    8928.0    20764.0\n",
       "3  용산구    244203.0   229456.0   14747.0    36231.0\n",
       "4  성동구    311244.0   303380.0    7864.0    39997.0"
      ]
     },
     "execution_count": 10,
     "metadata": {},
     "output_type": "execute_result"
    }
   ],
   "source": [
    "#행과 열을 한정해서 일부만 가져와보자.\n",
    "pop_seoul = pd.read_excel('cctv_data_collect/pop_seoul.xls',\n",
    "                         header = 2,\n",
    "                         usecols='B,D,G,J,N'\n",
    "                         )\n",
    "pop_seoul.head()#header = 2 번 인덱스 행부터 가져옴."
   ]
  },
  {
   "cell_type": "code",
   "execution_count": 11,
   "id": "1396c1f9",
   "metadata": {},
   "outputs": [
    {
     "data": {
      "text/html": [
       "<div>\n",
       "<style scoped>\n",
       "    .dataframe tbody tr th:only-of-type {\n",
       "        vertical-align: middle;\n",
       "    }\n",
       "\n",
       "    .dataframe tbody tr th {\n",
       "        vertical-align: top;\n",
       "    }\n",
       "\n",
       "    .dataframe thead th {\n",
       "        text-align: right;\n",
       "    }\n",
       "</style>\n",
       "<table border=\"1\" class=\"dataframe\">\n",
       "  <thead>\n",
       "    <tr style=\"text-align: right;\">\n",
       "      <th></th>\n",
       "      <th>구별</th>\n",
       "      <th>소계</th>\n",
       "      <th>2013년도 이전</th>\n",
       "      <th>2014년</th>\n",
       "      <th>2015년</th>\n",
       "      <th>2016년</th>\n",
       "    </tr>\n",
       "  </thead>\n",
       "  <tbody>\n",
       "    <tr>\n",
       "      <th>0</th>\n",
       "      <td>강남구</td>\n",
       "      <td>2780</td>\n",
       "      <td>1292</td>\n",
       "      <td>430</td>\n",
       "      <td>584</td>\n",
       "      <td>932</td>\n",
       "    </tr>\n",
       "    <tr>\n",
       "      <th>1</th>\n",
       "      <td>강동구</td>\n",
       "      <td>773</td>\n",
       "      <td>379</td>\n",
       "      <td>99</td>\n",
       "      <td>155</td>\n",
       "      <td>377</td>\n",
       "    </tr>\n",
       "    <tr>\n",
       "      <th>2</th>\n",
       "      <td>강북구</td>\n",
       "      <td>748</td>\n",
       "      <td>369</td>\n",
       "      <td>120</td>\n",
       "      <td>138</td>\n",
       "      <td>204</td>\n",
       "    </tr>\n",
       "    <tr>\n",
       "      <th>3</th>\n",
       "      <td>강서구</td>\n",
       "      <td>884</td>\n",
       "      <td>388</td>\n",
       "      <td>258</td>\n",
       "      <td>184</td>\n",
       "      <td>81</td>\n",
       "    </tr>\n",
       "    <tr>\n",
       "      <th>4</th>\n",
       "      <td>관악구</td>\n",
       "      <td>1496</td>\n",
       "      <td>846</td>\n",
       "      <td>260</td>\n",
       "      <td>390</td>\n",
       "      <td>613</td>\n",
       "    </tr>\n",
       "  </tbody>\n",
       "</table>\n",
       "</div>"
      ],
      "text/plain": [
       "    구별    소계  2013년도 이전  2014년  2015년  2016년\n",
       "0  강남구  2780       1292    430    584    932\n",
       "1  강동구   773        379     99    155    377\n",
       "2  강북구   748        369    120    138    204\n",
       "3  강서구   884        388    258    184     81\n",
       "4  관악구  1496        846    260    390    613"
      ]
     },
     "execution_count": 11,
     "metadata": {},
     "output_type": "execute_result"
    }
   ],
   "source": [
    "cctv_seoul.head()"
   ]
  },
  {
   "cell_type": "code",
   "execution_count": 12,
   "id": "2da2cdcb",
   "metadata": {},
   "outputs": [
    {
     "data": {
      "text/html": [
       "<div>\n",
       "<style scoped>\n",
       "    .dataframe tbody tr th:only-of-type {\n",
       "        vertical-align: middle;\n",
       "    }\n",
       "\n",
       "    .dataframe tbody tr th {\n",
       "        vertical-align: top;\n",
       "    }\n",
       "\n",
       "    .dataframe thead th {\n",
       "        text-align: right;\n",
       "    }\n",
       "</style>\n",
       "<table border=\"1\" class=\"dataframe\">\n",
       "  <thead>\n",
       "    <tr style=\"text-align: right;\">\n",
       "      <th></th>\n",
       "      <th>구별</th>\n",
       "      <th>소계</th>\n",
       "      <th>2013년도 이전</th>\n",
       "      <th>2014년</th>\n",
       "      <th>2015년</th>\n",
       "      <th>2016년</th>\n",
       "    </tr>\n",
       "  </thead>\n",
       "  <tbody>\n",
       "    <tr>\n",
       "      <th>9</th>\n",
       "      <td>도봉구</td>\n",
       "      <td>485</td>\n",
       "      <td>238</td>\n",
       "      <td>159</td>\n",
       "      <td>42</td>\n",
       "      <td>386</td>\n",
       "    </tr>\n",
       "    <tr>\n",
       "      <th>12</th>\n",
       "      <td>마포구</td>\n",
       "      <td>574</td>\n",
       "      <td>314</td>\n",
       "      <td>118</td>\n",
       "      <td>169</td>\n",
       "      <td>379</td>\n",
       "    </tr>\n",
       "    <tr>\n",
       "      <th>17</th>\n",
       "      <td>송파구</td>\n",
       "      <td>618</td>\n",
       "      <td>529</td>\n",
       "      <td>21</td>\n",
       "      <td>68</td>\n",
       "      <td>463</td>\n",
       "    </tr>\n",
       "    <tr>\n",
       "      <th>24</th>\n",
       "      <td>중랑구</td>\n",
       "      <td>660</td>\n",
       "      <td>509</td>\n",
       "      <td>121</td>\n",
       "      <td>177</td>\n",
       "      <td>109</td>\n",
       "    </tr>\n",
       "    <tr>\n",
       "      <th>23</th>\n",
       "      <td>중구</td>\n",
       "      <td>671</td>\n",
       "      <td>413</td>\n",
       "      <td>190</td>\n",
       "      <td>72</td>\n",
       "      <td>348</td>\n",
       "    </tr>\n",
       "  </tbody>\n",
       "</table>\n",
       "</div>"
      ],
      "text/plain": [
       "     구별   소계  2013년도 이전  2014년  2015년  2016년\n",
       "9   도봉구  485        238    159     42    386\n",
       "12  마포구  574        314    118    169    379\n",
       "17  송파구  618        529     21     68    463\n",
       "24  중랑구  660        509    121    177    109\n",
       "23   중구  671        413    190     72    348"
      ]
     },
     "execution_count": 12,
     "metadata": {},
     "output_type": "execute_result"
    }
   ],
   "source": [
    "#cctv가 제일 많이 설치된 구와 제일 적게 설치되어 있는 구 정렬\n",
    "cctv_seoul.sort_values(by='소계').head()#ascending(오름차순)이 디폴트"
   ]
  },
  {
   "cell_type": "code",
   "execution_count": 13,
   "id": "64949d9b",
   "metadata": {},
   "outputs": [
    {
     "data": {
      "text/html": [
       "<div>\n",
       "<style scoped>\n",
       "    .dataframe tbody tr th:only-of-type {\n",
       "        vertical-align: middle;\n",
       "    }\n",
       "\n",
       "    .dataframe tbody tr th {\n",
       "        vertical-align: top;\n",
       "    }\n",
       "\n",
       "    .dataframe thead th {\n",
       "        text-align: right;\n",
       "    }\n",
       "</style>\n",
       "<table border=\"1\" class=\"dataframe\">\n",
       "  <thead>\n",
       "    <tr style=\"text-align: right;\">\n",
       "      <th></th>\n",
       "      <th>구별</th>\n",
       "      <th>소계</th>\n",
       "      <th>2013년도 이전</th>\n",
       "      <th>2014년</th>\n",
       "      <th>2015년</th>\n",
       "      <th>2016년</th>\n",
       "    </tr>\n",
       "  </thead>\n",
       "  <tbody>\n",
       "    <tr>\n",
       "      <th>20</th>\n",
       "      <td>용산구</td>\n",
       "      <td>1624</td>\n",
       "      <td>1368</td>\n",
       "      <td>218</td>\n",
       "      <td>112</td>\n",
       "      <td>398</td>\n",
       "    </tr>\n",
       "    <tr>\n",
       "      <th>21</th>\n",
       "      <td>은평구</td>\n",
       "      <td>1873</td>\n",
       "      <td>1138</td>\n",
       "      <td>224</td>\n",
       "      <td>278</td>\n",
       "      <td>468</td>\n",
       "    </tr>\n",
       "    <tr>\n",
       "      <th>14</th>\n",
       "      <td>서초구</td>\n",
       "      <td>1930</td>\n",
       "      <td>1406</td>\n",
       "      <td>157</td>\n",
       "      <td>336</td>\n",
       "      <td>398</td>\n",
       "    </tr>\n",
       "    <tr>\n",
       "      <th>18</th>\n",
       "      <td>양천구</td>\n",
       "      <td>2034</td>\n",
       "      <td>1843</td>\n",
       "      <td>142</td>\n",
       "      <td>30</td>\n",
       "      <td>467</td>\n",
       "    </tr>\n",
       "    <tr>\n",
       "      <th>0</th>\n",
       "      <td>강남구</td>\n",
       "      <td>2780</td>\n",
       "      <td>1292</td>\n",
       "      <td>430</td>\n",
       "      <td>584</td>\n",
       "      <td>932</td>\n",
       "    </tr>\n",
       "  </tbody>\n",
       "</table>\n",
       "</div>"
      ],
      "text/plain": [
       "     구별    소계  2013년도 이전  2014년  2015년  2016년\n",
       "20  용산구  1624       1368    218    112    398\n",
       "21  은평구  1873       1138    224    278    468\n",
       "14  서초구  1930       1406    157    336    398\n",
       "18  양천구  2034       1843    142     30    467\n",
       "0   강남구  2780       1292    430    584    932"
      ]
     },
     "execution_count": 13,
     "metadata": {},
     "output_type": "execute_result"
    }
   ],
   "source": [
    "cctv_seoul.sort_values(by='소계').tail()#ascending(오름차순)이 디폴트"
   ]
  },
  {
   "cell_type": "code",
   "execution_count": 14,
   "id": "ee8f7f8f",
   "metadata": {},
   "outputs": [
    {
     "data": {
      "text/html": [
       "<div>\n",
       "<style scoped>\n",
       "    .dataframe tbody tr th:only-of-type {\n",
       "        vertical-align: middle;\n",
       "    }\n",
       "\n",
       "    .dataframe tbody tr th {\n",
       "        vertical-align: top;\n",
       "    }\n",
       "\n",
       "    .dataframe thead th {\n",
       "        text-align: right;\n",
       "    }\n",
       "</style>\n",
       "<table border=\"1\" class=\"dataframe\">\n",
       "  <thead>\n",
       "    <tr style=\"text-align: right;\">\n",
       "      <th></th>\n",
       "      <th>구별</th>\n",
       "      <th>소계</th>\n",
       "      <th>2013년도 이전</th>\n",
       "      <th>2014년</th>\n",
       "      <th>2015년</th>\n",
       "      <th>2016년</th>\n",
       "    </tr>\n",
       "  </thead>\n",
       "  <tbody>\n",
       "    <tr>\n",
       "      <th>0</th>\n",
       "      <td>강남구</td>\n",
       "      <td>2780</td>\n",
       "      <td>1292</td>\n",
       "      <td>430</td>\n",
       "      <td>584</td>\n",
       "      <td>932</td>\n",
       "    </tr>\n",
       "    <tr>\n",
       "      <th>18</th>\n",
       "      <td>양천구</td>\n",
       "      <td>2034</td>\n",
       "      <td>1843</td>\n",
       "      <td>142</td>\n",
       "      <td>30</td>\n",
       "      <td>467</td>\n",
       "    </tr>\n",
       "    <tr>\n",
       "      <th>14</th>\n",
       "      <td>서초구</td>\n",
       "      <td>1930</td>\n",
       "      <td>1406</td>\n",
       "      <td>157</td>\n",
       "      <td>336</td>\n",
       "      <td>398</td>\n",
       "    </tr>\n",
       "    <tr>\n",
       "      <th>21</th>\n",
       "      <td>은평구</td>\n",
       "      <td>1873</td>\n",
       "      <td>1138</td>\n",
       "      <td>224</td>\n",
       "      <td>278</td>\n",
       "      <td>468</td>\n",
       "    </tr>\n",
       "    <tr>\n",
       "      <th>20</th>\n",
       "      <td>용산구</td>\n",
       "      <td>1624</td>\n",
       "      <td>1368</td>\n",
       "      <td>218</td>\n",
       "      <td>112</td>\n",
       "      <td>398</td>\n",
       "    </tr>\n",
       "  </tbody>\n",
       "</table>\n",
       "</div>"
      ],
      "text/plain": [
       "     구별    소계  2013년도 이전  2014년  2015년  2016년\n",
       "0   강남구  2780       1292    430    584    932\n",
       "18  양천구  2034       1843    142     30    467\n",
       "14  서초구  1930       1406    157    336    398\n",
       "21  은평구  1873       1138    224    278    468\n",
       "20  용산구  1624       1368    218    112    398"
      ]
     },
     "execution_count": 14,
     "metadata": {},
     "output_type": "execute_result"
    }
   ],
   "source": [
    "#내림차순으로 바꿔보자.\n",
    "cctv_seoul.sort_values(by='소계',ascending=False).head()#decending(내림차순)이 디폴트"
   ]
  },
  {
   "cell_type": "code",
   "execution_count": 15,
   "id": "865c8fa0",
   "metadata": {},
   "outputs": [
    {
     "data": {
      "text/html": [
       "<div>\n",
       "<style scoped>\n",
       "    .dataframe tbody tr th:only-of-type {\n",
       "        vertical-align: middle;\n",
       "    }\n",
       "\n",
       "    .dataframe tbody tr th {\n",
       "        vertical-align: top;\n",
       "    }\n",
       "\n",
       "    .dataframe thead th {\n",
       "        text-align: right;\n",
       "    }\n",
       "</style>\n",
       "<table border=\"1\" class=\"dataframe\">\n",
       "  <thead>\n",
       "    <tr style=\"text-align: right;\">\n",
       "      <th></th>\n",
       "      <th>구별</th>\n",
       "      <th>소계</th>\n",
       "      <th>2013년도 이전</th>\n",
       "      <th>2014년</th>\n",
       "      <th>2015년</th>\n",
       "      <th>2016년</th>\n",
       "    </tr>\n",
       "  </thead>\n",
       "  <tbody>\n",
       "    <tr>\n",
       "      <th>23</th>\n",
       "      <td>중구</td>\n",
       "      <td>671</td>\n",
       "      <td>413</td>\n",
       "      <td>190</td>\n",
       "      <td>72</td>\n",
       "      <td>348</td>\n",
       "    </tr>\n",
       "    <tr>\n",
       "      <th>24</th>\n",
       "      <td>중랑구</td>\n",
       "      <td>660</td>\n",
       "      <td>509</td>\n",
       "      <td>121</td>\n",
       "      <td>177</td>\n",
       "      <td>109</td>\n",
       "    </tr>\n",
       "    <tr>\n",
       "      <th>17</th>\n",
       "      <td>송파구</td>\n",
       "      <td>618</td>\n",
       "      <td>529</td>\n",
       "      <td>21</td>\n",
       "      <td>68</td>\n",
       "      <td>463</td>\n",
       "    </tr>\n",
       "    <tr>\n",
       "      <th>12</th>\n",
       "      <td>마포구</td>\n",
       "      <td>574</td>\n",
       "      <td>314</td>\n",
       "      <td>118</td>\n",
       "      <td>169</td>\n",
       "      <td>379</td>\n",
       "    </tr>\n",
       "    <tr>\n",
       "      <th>9</th>\n",
       "      <td>도봉구</td>\n",
       "      <td>485</td>\n",
       "      <td>238</td>\n",
       "      <td>159</td>\n",
       "      <td>42</td>\n",
       "      <td>386</td>\n",
       "    </tr>\n",
       "  </tbody>\n",
       "</table>\n",
       "</div>"
      ],
      "text/plain": [
       "     구별   소계  2013년도 이전  2014년  2015년  2016년\n",
       "23   중구  671        413    190     72    348\n",
       "24  중랑구  660        509    121    177    109\n",
       "17  송파구  618        529     21     68    463\n",
       "12  마포구  574        314    118    169    379\n",
       "9   도봉구  485        238    159     42    386"
      ]
     },
     "execution_count": 15,
     "metadata": {},
     "output_type": "execute_result"
    }
   ],
   "source": [
    "cctv_seoul.sort_values(by='소계',ascending=False).tail()#decending(내림차순)이 디폴트"
   ]
  },
  {
   "cell_type": "code",
   "execution_count": 16,
   "id": "1608693e",
   "metadata": {},
   "outputs": [
    {
     "data": {
      "text/html": [
       "<div>\n",
       "<style scoped>\n",
       "    .dataframe tbody tr th:only-of-type {\n",
       "        vertical-align: middle;\n",
       "    }\n",
       "\n",
       "    .dataframe tbody tr th {\n",
       "        vertical-align: top;\n",
       "    }\n",
       "\n",
       "    .dataframe thead th {\n",
       "        text-align: right;\n",
       "    }\n",
       "</style>\n",
       "<table border=\"1\" class=\"dataframe\">\n",
       "  <thead>\n",
       "    <tr style=\"text-align: right;\">\n",
       "      <th></th>\n",
       "      <th>구별</th>\n",
       "      <th>인구수</th>\n",
       "      <th>한국인</th>\n",
       "      <th>외국인</th>\n",
       "      <th>고령자</th>\n",
       "    </tr>\n",
       "  </thead>\n",
       "  <tbody>\n",
       "    <tr>\n",
       "      <th>0</th>\n",
       "      <td>합계</td>\n",
       "      <td>10197604.0</td>\n",
       "      <td>9926968.0</td>\n",
       "      <td>270636.0</td>\n",
       "      <td>1321458.0</td>\n",
       "    </tr>\n",
       "    <tr>\n",
       "      <th>1</th>\n",
       "      <td>종로구</td>\n",
       "      <td>162820.0</td>\n",
       "      <td>153589.0</td>\n",
       "      <td>9231.0</td>\n",
       "      <td>25425.0</td>\n",
       "    </tr>\n",
       "    <tr>\n",
       "      <th>2</th>\n",
       "      <td>중구</td>\n",
       "      <td>133240.0</td>\n",
       "      <td>124312.0</td>\n",
       "      <td>8928.0</td>\n",
       "      <td>20764.0</td>\n",
       "    </tr>\n",
       "    <tr>\n",
       "      <th>3</th>\n",
       "      <td>용산구</td>\n",
       "      <td>244203.0</td>\n",
       "      <td>229456.0</td>\n",
       "      <td>14747.0</td>\n",
       "      <td>36231.0</td>\n",
       "    </tr>\n",
       "    <tr>\n",
       "      <th>4</th>\n",
       "      <td>성동구</td>\n",
       "      <td>311244.0</td>\n",
       "      <td>303380.0</td>\n",
       "      <td>7864.0</td>\n",
       "      <td>39997.0</td>\n",
       "    </tr>\n",
       "  </tbody>\n",
       "</table>\n",
       "</div>"
      ],
      "text/plain": [
       "    구별         인구수        한국인       외국인        고령자\n",
       "0   합계  10197604.0  9926968.0  270636.0  1321458.0\n",
       "1  종로구    162820.0   153589.0    9231.0    25425.0\n",
       "2   중구    133240.0   124312.0    8928.0    20764.0\n",
       "3  용산구    244203.0   229456.0   14747.0    36231.0\n",
       "4  성동구    311244.0   303380.0    7864.0    39997.0"
      ]
     },
     "execution_count": 16,
     "metadata": {},
     "output_type": "execute_result"
    }
   ],
   "source": [
    "#인구수의 컬럼을 '구별','인구수','한국인','외국인','고령자'로 컬럼을 바꿔보자.\n",
    "pop_seoul.columns = ['구별','인구수','한국인','외국인','고령자']\n",
    "pop_seoul.head()"
   ]
  },
  {
   "cell_type": "code",
   "execution_count": 17,
   "id": "2cc4221d",
   "metadata": {},
   "outputs": [],
   "source": [
    "# pop_seoul.rename(columns={pop_seoul.columns[0]:'구별',\n",
    "#                           pop_seoul.columns[1]:'인구수',\n",
    "#                           pop_seoul.columns[2]:'한국인',\n",
    "#                           pop_seoul.columns[3]:'외국인',\n",
    "#                           pop_seoul.columns[4]:'고령자'},inplace=True)\n",
    "#일부 컬럼명만 바꿀때 쓰는방법"
   ]
  },
  {
   "cell_type": "code",
   "execution_count": 18,
   "id": "df4f45bd",
   "metadata": {},
   "outputs": [
    {
     "data": {
      "text/html": [
       "<div>\n",
       "<style scoped>\n",
       "    .dataframe tbody tr th:only-of-type {\n",
       "        vertical-align: middle;\n",
       "    }\n",
       "\n",
       "    .dataframe tbody tr th {\n",
       "        vertical-align: top;\n",
       "    }\n",
       "\n",
       "    .dataframe thead th {\n",
       "        text-align: right;\n",
       "    }\n",
       "</style>\n",
       "<table border=\"1\" class=\"dataframe\">\n",
       "  <thead>\n",
       "    <tr style=\"text-align: right;\">\n",
       "      <th></th>\n",
       "      <th>구별</th>\n",
       "      <th>인구수</th>\n",
       "      <th>한국인</th>\n",
       "      <th>외국인</th>\n",
       "      <th>고령자</th>\n",
       "    </tr>\n",
       "  </thead>\n",
       "  <tbody>\n",
       "    <tr>\n",
       "      <th>1</th>\n",
       "      <td>종로구</td>\n",
       "      <td>162820.0</td>\n",
       "      <td>153589.0</td>\n",
       "      <td>9231.0</td>\n",
       "      <td>25425.0</td>\n",
       "    </tr>\n",
       "    <tr>\n",
       "      <th>2</th>\n",
       "      <td>중구</td>\n",
       "      <td>133240.0</td>\n",
       "      <td>124312.0</td>\n",
       "      <td>8928.0</td>\n",
       "      <td>20764.0</td>\n",
       "    </tr>\n",
       "    <tr>\n",
       "      <th>3</th>\n",
       "      <td>용산구</td>\n",
       "      <td>244203.0</td>\n",
       "      <td>229456.0</td>\n",
       "      <td>14747.0</td>\n",
       "      <td>36231.0</td>\n",
       "    </tr>\n",
       "    <tr>\n",
       "      <th>4</th>\n",
       "      <td>성동구</td>\n",
       "      <td>311244.0</td>\n",
       "      <td>303380.0</td>\n",
       "      <td>7864.0</td>\n",
       "      <td>39997.0</td>\n",
       "    </tr>\n",
       "    <tr>\n",
       "      <th>5</th>\n",
       "      <td>광진구</td>\n",
       "      <td>372164.0</td>\n",
       "      <td>357211.0</td>\n",
       "      <td>14953.0</td>\n",
       "      <td>42214.0</td>\n",
       "    </tr>\n",
       "  </tbody>\n",
       "</table>\n",
       "</div>"
      ],
      "text/plain": [
       "    구별       인구수       한국인      외국인      고령자\n",
       "1  종로구  162820.0  153589.0   9231.0  25425.0\n",
       "2   중구  133240.0  124312.0   8928.0  20764.0\n",
       "3  용산구  244203.0  229456.0  14747.0  36231.0\n",
       "4  성동구  311244.0  303380.0   7864.0  39997.0\n",
       "5  광진구  372164.0  357211.0  14953.0  42214.0"
      ]
     },
     "execution_count": 18,
     "metadata": {},
     "output_type": "execute_result"
    }
   ],
   "source": [
    "#합계라고 되어있는 행을 삭제\n",
    "pop_seoul.drop([0],inplace=True)#index\n",
    "pop_seoul.head()"
   ]
  },
  {
   "cell_type": "code",
   "execution_count": 19,
   "id": "5d4e45c6",
   "metadata": {},
   "outputs": [
    {
     "name": "stdout",
     "output_type": "stream",
     "text": [
      "<class 'pandas.core.frame.DataFrame'>\n",
      "Int64Index: 26 entries, 1 to 26\n",
      "Data columns (total 5 columns):\n",
      " #   Column  Non-Null Count  Dtype  \n",
      "---  ------  --------------  -----  \n",
      " 0   구별      25 non-null     object \n",
      " 1   인구수     25 non-null     float64\n",
      " 2   한국인     25 non-null     float64\n",
      " 3   외국인     25 non-null     float64\n",
      " 4   고령자     25 non-null     float64\n",
      "dtypes: float64(4), object(1)\n",
      "memory usage: 1.2+ KB\n"
     ]
    }
   ],
   "source": [
    "pop_seoul.info()"
   ]
  },
  {
   "cell_type": "code",
   "execution_count": 20,
   "id": "555847e4",
   "metadata": {},
   "outputs": [
    {
     "data": {
      "text/plain": [
       "1      종로구\n",
       "2       중구\n",
       "3      용산구\n",
       "4      성동구\n",
       "5      광진구\n",
       "6     동대문구\n",
       "7      중랑구\n",
       "8      성북구\n",
       "9      강북구\n",
       "10     도봉구\n",
       "11     노원구\n",
       "12     은평구\n",
       "13    서대문구\n",
       "14     마포구\n",
       "15     양천구\n",
       "16     강서구\n",
       "17     구로구\n",
       "18     금천구\n",
       "19    영등포구\n",
       "20     동작구\n",
       "21     관악구\n",
       "22     서초구\n",
       "23     강남구\n",
       "24     송파구\n",
       "25     강동구\n",
       "26     NaN\n",
       "Name: 구별, dtype: object"
      ]
     },
     "execution_count": 20,
     "metadata": {},
     "output_type": "execute_result"
    }
   ],
   "source": [
    "pop_seoul['구별']"
   ]
  },
  {
   "cell_type": "code",
   "execution_count": 21,
   "id": "fe09ab75",
   "metadata": {},
   "outputs": [
    {
     "data": {
      "text/plain": [
       "26"
      ]
     },
     "execution_count": 21,
     "metadata": {},
     "output_type": "execute_result"
    }
   ],
   "source": [
    "len(pop_seoul['구별'].unique())#구별 열에 유니크한 값 개수"
   ]
  },
  {
   "cell_type": "code",
   "execution_count": 22,
   "id": "4b8c0b14",
   "metadata": {},
   "outputs": [
    {
     "data": {
      "text/html": [
       "<div>\n",
       "<style scoped>\n",
       "    .dataframe tbody tr th:only-of-type {\n",
       "        vertical-align: middle;\n",
       "    }\n",
       "\n",
       "    .dataframe tbody tr th {\n",
       "        vertical-align: top;\n",
       "    }\n",
       "\n",
       "    .dataframe thead th {\n",
       "        text-align: right;\n",
       "    }\n",
       "</style>\n",
       "<table border=\"1\" class=\"dataframe\">\n",
       "  <thead>\n",
       "    <tr style=\"text-align: right;\">\n",
       "      <th></th>\n",
       "      <th>구별</th>\n",
       "      <th>인구수</th>\n",
       "      <th>한국인</th>\n",
       "      <th>외국인</th>\n",
       "      <th>고령자</th>\n",
       "    </tr>\n",
       "  </thead>\n",
       "  <tbody>\n",
       "    <tr>\n",
       "      <th>25</th>\n",
       "      <td>강동구</td>\n",
       "      <td>453233.0</td>\n",
       "      <td>449019.0</td>\n",
       "      <td>4214.0</td>\n",
       "      <td>54622.0</td>\n",
       "    </tr>\n",
       "    <tr>\n",
       "      <th>26</th>\n",
       "      <td>NaN</td>\n",
       "      <td>NaN</td>\n",
       "      <td>NaN</td>\n",
       "      <td>NaN</td>\n",
       "      <td>NaN</td>\n",
       "    </tr>\n",
       "  </tbody>\n",
       "</table>\n",
       "</div>"
      ],
      "text/plain": [
       "     구별       인구수       한국인     외국인      고령자\n",
       "25  강동구  453233.0  449019.0  4214.0  54622.0\n",
       "26  NaN       NaN       NaN     NaN      NaN"
      ]
     },
     "execution_count": 22,
     "metadata": {},
     "output_type": "execute_result"
    }
   ],
   "source": [
    "pop_seoul.tail(2)"
   ]
  },
  {
   "cell_type": "code",
   "execution_count": 23,
   "id": "bdee5015",
   "metadata": {},
   "outputs": [
    {
     "data": {
      "text/plain": [
       "구별     NaN\n",
       "인구수    NaN\n",
       "한국인    NaN\n",
       "외국인    NaN\n",
       "고령자    NaN\n",
       "Name: 26, dtype: object"
      ]
     },
     "execution_count": 23,
     "metadata": {},
     "output_type": "execute_result"
    }
   ],
   "source": [
    "pop_seoul.iloc[25]#nan값들이 들어있어서 필요가 없다."
   ]
  },
  {
   "cell_type": "code",
   "execution_count": 24,
   "id": "0cc1d366",
   "metadata": {},
   "outputs": [
    {
     "data": {
      "text/plain": [
       "구별     1\n",
       "인구수    1\n",
       "한국인    1\n",
       "외국인    1\n",
       "고령자    1\n",
       "dtype: int64"
      ]
     },
     "execution_count": 24,
     "metadata": {},
     "output_type": "execute_result"
    }
   ],
   "source": [
    "pop_seoul.isnull().sum()\n",
    "#pop_seoul['구별'].isnull().sum()"
   ]
  },
  {
   "cell_type": "code",
   "execution_count": 25,
   "id": "2ab1deb0",
   "metadata": {},
   "outputs": [],
   "source": [
    "pop_seoul.drop([26],inplace = True)"
   ]
  },
  {
   "cell_type": "code",
   "execution_count": 26,
   "id": "2cb433be",
   "metadata": {},
   "outputs": [
    {
     "data": {
      "text/plain": [
       "구별     0\n",
       "인구수    0\n",
       "한국인    0\n",
       "외국인    0\n",
       "고령자    0\n",
       "dtype: int64"
      ]
     },
     "execution_count": 26,
     "metadata": {},
     "output_type": "execute_result"
    }
   ],
   "source": [
    "pop_seoul.isnull().sum()#이제 null값이 없다! 다 지워버림."
   ]
  },
  {
   "cell_type": "code",
   "execution_count": 27,
   "id": "7d7bb568",
   "metadata": {},
   "outputs": [
    {
     "data": {
      "text/html": [
       "<div>\n",
       "<style scoped>\n",
       "    .dataframe tbody tr th:only-of-type {\n",
       "        vertical-align: middle;\n",
       "    }\n",
       "\n",
       "    .dataframe tbody tr th {\n",
       "        vertical-align: top;\n",
       "    }\n",
       "\n",
       "    .dataframe thead th {\n",
       "        text-align: right;\n",
       "    }\n",
       "</style>\n",
       "<table border=\"1\" class=\"dataframe\">\n",
       "  <thead>\n",
       "    <tr style=\"text-align: right;\">\n",
       "      <th></th>\n",
       "      <th>구별</th>\n",
       "      <th>인구수</th>\n",
       "      <th>한국인</th>\n",
       "      <th>외국인</th>\n",
       "      <th>고령자</th>\n",
       "      <th>외국인비율</th>\n",
       "    </tr>\n",
       "  </thead>\n",
       "  <tbody>\n",
       "    <tr>\n",
       "      <th>1</th>\n",
       "      <td>종로구</td>\n",
       "      <td>162820.0</td>\n",
       "      <td>153589.0</td>\n",
       "      <td>9231.0</td>\n",
       "      <td>25425.0</td>\n",
       "      <td>5.669451</td>\n",
       "    </tr>\n",
       "    <tr>\n",
       "      <th>2</th>\n",
       "      <td>중구</td>\n",
       "      <td>133240.0</td>\n",
       "      <td>124312.0</td>\n",
       "      <td>8928.0</td>\n",
       "      <td>20764.0</td>\n",
       "      <td>6.700690</td>\n",
       "    </tr>\n",
       "    <tr>\n",
       "      <th>3</th>\n",
       "      <td>용산구</td>\n",
       "      <td>244203.0</td>\n",
       "      <td>229456.0</td>\n",
       "      <td>14747.0</td>\n",
       "      <td>36231.0</td>\n",
       "      <td>6.038828</td>\n",
       "    </tr>\n",
       "    <tr>\n",
       "      <th>4</th>\n",
       "      <td>성동구</td>\n",
       "      <td>311244.0</td>\n",
       "      <td>303380.0</td>\n",
       "      <td>7864.0</td>\n",
       "      <td>39997.0</td>\n",
       "      <td>2.526635</td>\n",
       "    </tr>\n",
       "    <tr>\n",
       "      <th>5</th>\n",
       "      <td>광진구</td>\n",
       "      <td>372164.0</td>\n",
       "      <td>357211.0</td>\n",
       "      <td>14953.0</td>\n",
       "      <td>42214.0</td>\n",
       "      <td>4.017852</td>\n",
       "    </tr>\n",
       "  </tbody>\n",
       "</table>\n",
       "</div>"
      ],
      "text/plain": [
       "    구별       인구수       한국인      외국인      고령자     외국인비율\n",
       "1  종로구  162820.0  153589.0   9231.0  25425.0  5.669451\n",
       "2   중구  133240.0  124312.0   8928.0  20764.0  6.700690\n",
       "3  용산구  244203.0  229456.0  14747.0  36231.0  6.038828\n",
       "4  성동구  311244.0  303380.0   7864.0  39997.0  2.526635\n",
       "5  광진구  372164.0  357211.0  14953.0  42214.0  4.017852"
      ]
     },
     "execution_count": 27,
     "metadata": {},
     "output_type": "execute_result"
    }
   ],
   "source": [
    "#외국인비율, 고령자비율 파생변수 2개를 만들어봐요~\n",
    "pop_seoul['외국인비율'] = pop_seoul['외국인']/pop_seoul['인구수']*100\n",
    "pop_seoul.head()"
   ]
  },
  {
   "cell_type": "code",
   "execution_count": 28,
   "id": "88ac258d",
   "metadata": {},
   "outputs": [
    {
     "data": {
      "text/html": [
       "<div>\n",
       "<style scoped>\n",
       "    .dataframe tbody tr th:only-of-type {\n",
       "        vertical-align: middle;\n",
       "    }\n",
       "\n",
       "    .dataframe tbody tr th {\n",
       "        vertical-align: top;\n",
       "    }\n",
       "\n",
       "    .dataframe thead th {\n",
       "        text-align: right;\n",
       "    }\n",
       "</style>\n",
       "<table border=\"1\" class=\"dataframe\">\n",
       "  <thead>\n",
       "    <tr style=\"text-align: right;\">\n",
       "      <th></th>\n",
       "      <th>구별</th>\n",
       "      <th>인구수</th>\n",
       "      <th>한국인</th>\n",
       "      <th>외국인</th>\n",
       "      <th>고령자</th>\n",
       "      <th>외국인비율</th>\n",
       "      <th>고령자비율</th>\n",
       "    </tr>\n",
       "  </thead>\n",
       "  <tbody>\n",
       "    <tr>\n",
       "      <th>1</th>\n",
       "      <td>종로구</td>\n",
       "      <td>162820.0</td>\n",
       "      <td>153589.0</td>\n",
       "      <td>9231.0</td>\n",
       "      <td>25425.0</td>\n",
       "      <td>5.669451</td>\n",
       "      <td>15.615404</td>\n",
       "    </tr>\n",
       "    <tr>\n",
       "      <th>2</th>\n",
       "      <td>중구</td>\n",
       "      <td>133240.0</td>\n",
       "      <td>124312.0</td>\n",
       "      <td>8928.0</td>\n",
       "      <td>20764.0</td>\n",
       "      <td>6.700690</td>\n",
       "      <td>15.583909</td>\n",
       "    </tr>\n",
       "    <tr>\n",
       "      <th>3</th>\n",
       "      <td>용산구</td>\n",
       "      <td>244203.0</td>\n",
       "      <td>229456.0</td>\n",
       "      <td>14747.0</td>\n",
       "      <td>36231.0</td>\n",
       "      <td>6.038828</td>\n",
       "      <td>14.836427</td>\n",
       "    </tr>\n",
       "    <tr>\n",
       "      <th>4</th>\n",
       "      <td>성동구</td>\n",
       "      <td>311244.0</td>\n",
       "      <td>303380.0</td>\n",
       "      <td>7864.0</td>\n",
       "      <td>39997.0</td>\n",
       "      <td>2.526635</td>\n",
       "      <td>12.850689</td>\n",
       "    </tr>\n",
       "    <tr>\n",
       "      <th>5</th>\n",
       "      <td>광진구</td>\n",
       "      <td>372164.0</td>\n",
       "      <td>357211.0</td>\n",
       "      <td>14953.0</td>\n",
       "      <td>42214.0</td>\n",
       "      <td>4.017852</td>\n",
       "      <td>11.342849</td>\n",
       "    </tr>\n",
       "  </tbody>\n",
       "</table>\n",
       "</div>"
      ],
      "text/plain": [
       "    구별       인구수       한국인      외국인      고령자     외국인비율      고령자비율\n",
       "1  종로구  162820.0  153589.0   9231.0  25425.0  5.669451  15.615404\n",
       "2   중구  133240.0  124312.0   8928.0  20764.0  6.700690  15.583909\n",
       "3  용산구  244203.0  229456.0  14747.0  36231.0  6.038828  14.836427\n",
       "4  성동구  311244.0  303380.0   7864.0  39997.0  2.526635  12.850689\n",
       "5  광진구  372164.0  357211.0  14953.0  42214.0  4.017852  11.342849"
      ]
     },
     "execution_count": 28,
     "metadata": {},
     "output_type": "execute_result"
    }
   ],
   "source": [
    "pop_seoul['고령자비율'] = pop_seoul['고령자']/pop_seoul['인구수']*100\n",
    "pop_seoul.head()"
   ]
  },
  {
   "cell_type": "code",
   "execution_count": 29,
   "id": "e540a720",
   "metadata": {},
   "outputs": [
    {
     "data": {
      "text/html": [
       "<div>\n",
       "<style scoped>\n",
       "    .dataframe tbody tr th:only-of-type {\n",
       "        vertical-align: middle;\n",
       "    }\n",
       "\n",
       "    .dataframe tbody tr th {\n",
       "        vertical-align: top;\n",
       "    }\n",
       "\n",
       "    .dataframe thead th {\n",
       "        text-align: right;\n",
       "    }\n",
       "</style>\n",
       "<table border=\"1\" class=\"dataframe\">\n",
       "  <thead>\n",
       "    <tr style=\"text-align: right;\">\n",
       "      <th></th>\n",
       "      <th>구별</th>\n",
       "      <th>인구수</th>\n",
       "      <th>한국인</th>\n",
       "      <th>외국인</th>\n",
       "      <th>고령자</th>\n",
       "      <th>외국인비율</th>\n",
       "      <th>고령자비율</th>\n",
       "    </tr>\n",
       "  </thead>\n",
       "  <tbody>\n",
       "    <tr>\n",
       "      <th>24</th>\n",
       "      <td>송파구</td>\n",
       "      <td>667483.0</td>\n",
       "      <td>660584.0</td>\n",
       "      <td>6899.0</td>\n",
       "      <td>72506.0</td>\n",
       "      <td>1.033584</td>\n",
       "      <td>10.862599</td>\n",
       "    </tr>\n",
       "    <tr>\n",
       "      <th>16</th>\n",
       "      <td>강서구</td>\n",
       "      <td>603772.0</td>\n",
       "      <td>597248.0</td>\n",
       "      <td>6524.0</td>\n",
       "      <td>72548.0</td>\n",
       "      <td>1.080540</td>\n",
       "      <td>12.015794</td>\n",
       "    </tr>\n",
       "    <tr>\n",
       "      <th>23</th>\n",
       "      <td>강남구</td>\n",
       "      <td>570500.0</td>\n",
       "      <td>565550.0</td>\n",
       "      <td>4950.0</td>\n",
       "      <td>63167.0</td>\n",
       "      <td>0.867660</td>\n",
       "      <td>11.072217</td>\n",
       "    </tr>\n",
       "    <tr>\n",
       "      <th>11</th>\n",
       "      <td>노원구</td>\n",
       "      <td>569384.0</td>\n",
       "      <td>565565.0</td>\n",
       "      <td>3819.0</td>\n",
       "      <td>71941.0</td>\n",
       "      <td>0.670725</td>\n",
       "      <td>12.634883</td>\n",
       "    </tr>\n",
       "    <tr>\n",
       "      <th>21</th>\n",
       "      <td>관악구</td>\n",
       "      <td>525515.0</td>\n",
       "      <td>507203.0</td>\n",
       "      <td>18312.0</td>\n",
       "      <td>68082.0</td>\n",
       "      <td>3.484582</td>\n",
       "      <td>12.955291</td>\n",
       "    </tr>\n",
       "  </tbody>\n",
       "</table>\n",
       "</div>"
      ],
      "text/plain": [
       "     구별       인구수       한국인      외국인      고령자     외국인비율      고령자비율\n",
       "24  송파구  667483.0  660584.0   6899.0  72506.0  1.033584  10.862599\n",
       "16  강서구  603772.0  597248.0   6524.0  72548.0  1.080540  12.015794\n",
       "23  강남구  570500.0  565550.0   4950.0  63167.0  0.867660  11.072217\n",
       "11  노원구  569384.0  565565.0   3819.0  71941.0  0.670725  12.634883\n",
       "21  관악구  525515.0  507203.0  18312.0  68082.0  3.484582  12.955291"
      ]
     },
     "execution_count": 29,
     "metadata": {},
     "output_type": "execute_result"
    }
   ],
   "source": [
    "pop_seoul.sort_values(by='인구수',ascending=False).head()#체인식코드"
   ]
  },
  {
   "cell_type": "code",
   "execution_count": 30,
   "id": "6aefa4a8",
   "metadata": {},
   "outputs": [
    {
     "data": {
      "text/html": [
       "<div>\n",
       "<style scoped>\n",
       "    .dataframe tbody tr th:only-of-type {\n",
       "        vertical-align: middle;\n",
       "    }\n",
       "\n",
       "    .dataframe tbody tr th {\n",
       "        vertical-align: top;\n",
       "    }\n",
       "\n",
       "    .dataframe thead th {\n",
       "        text-align: right;\n",
       "    }\n",
       "</style>\n",
       "<table border=\"1\" class=\"dataframe\">\n",
       "  <thead>\n",
       "    <tr style=\"text-align: right;\">\n",
       "      <th></th>\n",
       "      <th>구별</th>\n",
       "      <th>인구수</th>\n",
       "      <th>한국인</th>\n",
       "      <th>외국인</th>\n",
       "      <th>고령자</th>\n",
       "      <th>외국인비율</th>\n",
       "      <th>고령자비율</th>\n",
       "    </tr>\n",
       "  </thead>\n",
       "  <tbody>\n",
       "    <tr>\n",
       "      <th>2</th>\n",
       "      <td>중구</td>\n",
       "      <td>133240.0</td>\n",
       "      <td>124312.0</td>\n",
       "      <td>8928.0</td>\n",
       "      <td>20764.0</td>\n",
       "      <td>6.700690</td>\n",
       "      <td>15.583909</td>\n",
       "    </tr>\n",
       "    <tr>\n",
       "      <th>1</th>\n",
       "      <td>종로구</td>\n",
       "      <td>162820.0</td>\n",
       "      <td>153589.0</td>\n",
       "      <td>9231.0</td>\n",
       "      <td>25425.0</td>\n",
       "      <td>5.669451</td>\n",
       "      <td>15.615404</td>\n",
       "    </tr>\n",
       "    <tr>\n",
       "      <th>3</th>\n",
       "      <td>용산구</td>\n",
       "      <td>244203.0</td>\n",
       "      <td>229456.0</td>\n",
       "      <td>14747.0</td>\n",
       "      <td>36231.0</td>\n",
       "      <td>6.038828</td>\n",
       "      <td>14.836427</td>\n",
       "    </tr>\n",
       "    <tr>\n",
       "      <th>18</th>\n",
       "      <td>금천구</td>\n",
       "      <td>255082.0</td>\n",
       "      <td>236353.0</td>\n",
       "      <td>18729.0</td>\n",
       "      <td>32970.0</td>\n",
       "      <td>7.342345</td>\n",
       "      <td>12.925255</td>\n",
       "    </tr>\n",
       "    <tr>\n",
       "      <th>4</th>\n",
       "      <td>성동구</td>\n",
       "      <td>311244.0</td>\n",
       "      <td>303380.0</td>\n",
       "      <td>7864.0</td>\n",
       "      <td>39997.0</td>\n",
       "      <td>2.526635</td>\n",
       "      <td>12.850689</td>\n",
       "    </tr>\n",
       "  </tbody>\n",
       "</table>\n",
       "</div>"
      ],
      "text/plain": [
       "     구별       인구수       한국인      외국인      고령자     외국인비율      고령자비율\n",
       "2    중구  133240.0  124312.0   8928.0  20764.0  6.700690  15.583909\n",
       "1   종로구  162820.0  153589.0   9231.0  25425.0  5.669451  15.615404\n",
       "3   용산구  244203.0  229456.0  14747.0  36231.0  6.038828  14.836427\n",
       "18  금천구  255082.0  236353.0  18729.0  32970.0  7.342345  12.925255\n",
       "4   성동구  311244.0  303380.0   7864.0  39997.0  2.526635  12.850689"
      ]
     },
     "execution_count": 30,
     "metadata": {},
     "output_type": "execute_result"
    }
   ],
   "source": [
    "pop_seoul.sort_values(by='인구수').head()"
   ]
  },
  {
   "cell_type": "code",
   "execution_count": 31,
   "id": "b499b6a2",
   "metadata": {
    "scrolled": false
   },
   "outputs": [
    {
     "data": {
      "text/html": [
       "<div>\n",
       "<style scoped>\n",
       "    .dataframe tbody tr th:only-of-type {\n",
       "        vertical-align: middle;\n",
       "    }\n",
       "\n",
       "    .dataframe tbody tr th {\n",
       "        vertical-align: top;\n",
       "    }\n",
       "\n",
       "    .dataframe thead th {\n",
       "        text-align: right;\n",
       "    }\n",
       "</style>\n",
       "<table border=\"1\" class=\"dataframe\">\n",
       "  <thead>\n",
       "    <tr style=\"text-align: right;\">\n",
       "      <th></th>\n",
       "      <th>구별</th>\n",
       "      <th>인구수</th>\n",
       "      <th>한국인</th>\n",
       "      <th>외국인</th>\n",
       "      <th>고령자</th>\n",
       "      <th>외국인비율</th>\n",
       "      <th>고령자비율</th>\n",
       "    </tr>\n",
       "  </thead>\n",
       "  <tbody>\n",
       "    <tr>\n",
       "      <th>24</th>\n",
       "      <td>송파구</td>\n",
       "      <td>667483.0</td>\n",
       "      <td>660584.0</td>\n",
       "      <td>6899.0</td>\n",
       "      <td>72506.0</td>\n",
       "      <td>1.033584</td>\n",
       "      <td>10.862599</td>\n",
       "    </tr>\n",
       "    <tr>\n",
       "      <th>15</th>\n",
       "      <td>양천구</td>\n",
       "      <td>479978.0</td>\n",
       "      <td>475949.0</td>\n",
       "      <td>4029.0</td>\n",
       "      <td>52975.0</td>\n",
       "      <td>0.839413</td>\n",
       "      <td>11.036964</td>\n",
       "    </tr>\n",
       "    <tr>\n",
       "      <th>23</th>\n",
       "      <td>강남구</td>\n",
       "      <td>570500.0</td>\n",
       "      <td>565550.0</td>\n",
       "      <td>4950.0</td>\n",
       "      <td>63167.0</td>\n",
       "      <td>0.867660</td>\n",
       "      <td>11.072217</td>\n",
       "    </tr>\n",
       "    <tr>\n",
       "      <th>5</th>\n",
       "      <td>광진구</td>\n",
       "      <td>372164.0</td>\n",
       "      <td>357211.0</td>\n",
       "      <td>14953.0</td>\n",
       "      <td>42214.0</td>\n",
       "      <td>4.017852</td>\n",
       "      <td>11.342849</td>\n",
       "    </tr>\n",
       "    <tr>\n",
       "      <th>22</th>\n",
       "      <td>서초구</td>\n",
       "      <td>450310.0</td>\n",
       "      <td>445994.0</td>\n",
       "      <td>4316.0</td>\n",
       "      <td>51733.0</td>\n",
       "      <td>0.958451</td>\n",
       "      <td>11.488308</td>\n",
       "    </tr>\n",
       "  </tbody>\n",
       "</table>\n",
       "</div>"
      ],
      "text/plain": [
       "     구별       인구수       한국인      외국인      고령자     외국인비율      고령자비율\n",
       "24  송파구  667483.0  660584.0   6899.0  72506.0  1.033584  10.862599\n",
       "15  양천구  479978.0  475949.0   4029.0  52975.0  0.839413  11.036964\n",
       "23  강남구  570500.0  565550.0   4950.0  63167.0  0.867660  11.072217\n",
       "5   광진구  372164.0  357211.0  14953.0  42214.0  4.017852  11.342849\n",
       "22  서초구  450310.0  445994.0   4316.0  51733.0  0.958451  11.488308"
      ]
     },
     "execution_count": 31,
     "metadata": {},
     "output_type": "execute_result"
    }
   ],
   "source": [
    "#고령자 비율, 외국인 비율이 낮은 구는 어디인가?\n",
    "pop_seoul.sort_values(by='고령자비율').head()"
   ]
  },
  {
   "cell_type": "code",
   "execution_count": 32,
   "id": "35d7b160",
   "metadata": {},
   "outputs": [
    {
     "data": {
      "text/html": [
       "<div>\n",
       "<style scoped>\n",
       "    .dataframe tbody tr th:only-of-type {\n",
       "        vertical-align: middle;\n",
       "    }\n",
       "\n",
       "    .dataframe tbody tr th {\n",
       "        vertical-align: top;\n",
       "    }\n",
       "\n",
       "    .dataframe thead th {\n",
       "        text-align: right;\n",
       "    }\n",
       "</style>\n",
       "<table border=\"1\" class=\"dataframe\">\n",
       "  <thead>\n",
       "    <tr style=\"text-align: right;\">\n",
       "      <th></th>\n",
       "      <th>구별</th>\n",
       "      <th>인구수</th>\n",
       "      <th>한국인</th>\n",
       "      <th>외국인</th>\n",
       "      <th>고령자</th>\n",
       "      <th>외국인비율</th>\n",
       "      <th>고령자비율</th>\n",
       "    </tr>\n",
       "  </thead>\n",
       "  <tbody>\n",
       "    <tr>\n",
       "      <th>10</th>\n",
       "      <td>도봉구</td>\n",
       "      <td>348646.0</td>\n",
       "      <td>346629.0</td>\n",
       "      <td>2017.0</td>\n",
       "      <td>51312.0</td>\n",
       "      <td>0.578524</td>\n",
       "      <td>14.717507</td>\n",
       "    </tr>\n",
       "    <tr>\n",
       "      <th>11</th>\n",
       "      <td>노원구</td>\n",
       "      <td>569384.0</td>\n",
       "      <td>565565.0</td>\n",
       "      <td>3819.0</td>\n",
       "      <td>71941.0</td>\n",
       "      <td>0.670725</td>\n",
       "      <td>12.634883</td>\n",
       "    </tr>\n",
       "    <tr>\n",
       "      <th>15</th>\n",
       "      <td>양천구</td>\n",
       "      <td>479978.0</td>\n",
       "      <td>475949.0</td>\n",
       "      <td>4029.0</td>\n",
       "      <td>52975.0</td>\n",
       "      <td>0.839413</td>\n",
       "      <td>11.036964</td>\n",
       "    </tr>\n",
       "    <tr>\n",
       "      <th>23</th>\n",
       "      <td>강남구</td>\n",
       "      <td>570500.0</td>\n",
       "      <td>565550.0</td>\n",
       "      <td>4950.0</td>\n",
       "      <td>63167.0</td>\n",
       "      <td>0.867660</td>\n",
       "      <td>11.072217</td>\n",
       "    </tr>\n",
       "    <tr>\n",
       "      <th>12</th>\n",
       "      <td>은평구</td>\n",
       "      <td>494388.0</td>\n",
       "      <td>489943.0</td>\n",
       "      <td>4445.0</td>\n",
       "      <td>72334.0</td>\n",
       "      <td>0.899091</td>\n",
       "      <td>14.631019</td>\n",
       "    </tr>\n",
       "  </tbody>\n",
       "</table>\n",
       "</div>"
      ],
      "text/plain": [
       "     구별       인구수       한국인     외국인      고령자     외국인비율      고령자비율\n",
       "10  도봉구  348646.0  346629.0  2017.0  51312.0  0.578524  14.717507\n",
       "11  노원구  569384.0  565565.0  3819.0  71941.0  0.670725  12.634883\n",
       "15  양천구  479978.0  475949.0  4029.0  52975.0  0.839413  11.036964\n",
       "23  강남구  570500.0  565550.0  4950.0  63167.0  0.867660  11.072217\n",
       "12  은평구  494388.0  489943.0  4445.0  72334.0  0.899091  14.631019"
      ]
     },
     "execution_count": 32,
     "metadata": {},
     "output_type": "execute_result"
    }
   ],
   "source": [
    "pop_seoul.sort_values(by='외국인비율').head()"
   ]
  },
  {
   "cell_type": "code",
   "execution_count": 33,
   "id": "100ed729",
   "metadata": {},
   "outputs": [
    {
     "data": {
      "text/html": [
       "<div>\n",
       "<style scoped>\n",
       "    .dataframe tbody tr th:only-of-type {\n",
       "        vertical-align: middle;\n",
       "    }\n",
       "\n",
       "    .dataframe tbody tr th {\n",
       "        vertical-align: top;\n",
       "    }\n",
       "\n",
       "    .dataframe thead th {\n",
       "        text-align: right;\n",
       "    }\n",
       "</style>\n",
       "<table border=\"1\" class=\"dataframe\">\n",
       "  <thead>\n",
       "    <tr style=\"text-align: right;\">\n",
       "      <th></th>\n",
       "      <th>구별</th>\n",
       "      <th>인구수</th>\n",
       "      <th>한국인</th>\n",
       "      <th>외국인</th>\n",
       "      <th>고령자</th>\n",
       "      <th>외국인비율</th>\n",
       "      <th>고령자비율</th>\n",
       "    </tr>\n",
       "  </thead>\n",
       "  <tbody>\n",
       "    <tr>\n",
       "      <th>9</th>\n",
       "      <td>강북구</td>\n",
       "      <td>330192.0</td>\n",
       "      <td>326686.0</td>\n",
       "      <td>3506.0</td>\n",
       "      <td>54813.0</td>\n",
       "      <td>1.061806</td>\n",
       "      <td>16.600342</td>\n",
       "    </tr>\n",
       "    <tr>\n",
       "      <th>1</th>\n",
       "      <td>종로구</td>\n",
       "      <td>162820.0</td>\n",
       "      <td>153589.0</td>\n",
       "      <td>9231.0</td>\n",
       "      <td>25425.0</td>\n",
       "      <td>5.669451</td>\n",
       "      <td>15.615404</td>\n",
       "    </tr>\n",
       "    <tr>\n",
       "      <th>2</th>\n",
       "      <td>중구</td>\n",
       "      <td>133240.0</td>\n",
       "      <td>124312.0</td>\n",
       "      <td>8928.0</td>\n",
       "      <td>20764.0</td>\n",
       "      <td>6.700690</td>\n",
       "      <td>15.583909</td>\n",
       "    </tr>\n",
       "    <tr>\n",
       "      <th>3</th>\n",
       "      <td>용산구</td>\n",
       "      <td>244203.0</td>\n",
       "      <td>229456.0</td>\n",
       "      <td>14747.0</td>\n",
       "      <td>36231.0</td>\n",
       "      <td>6.038828</td>\n",
       "      <td>14.836427</td>\n",
       "    </tr>\n",
       "    <tr>\n",
       "      <th>13</th>\n",
       "      <td>서대문구</td>\n",
       "      <td>327163.0</td>\n",
       "      <td>314982.0</td>\n",
       "      <td>12181.0</td>\n",
       "      <td>48161.0</td>\n",
       "      <td>3.723221</td>\n",
       "      <td>14.720797</td>\n",
       "    </tr>\n",
       "  </tbody>\n",
       "</table>\n",
       "</div>"
      ],
      "text/plain": [
       "      구별       인구수       한국인      외국인      고령자     외국인비율      고령자비율\n",
       "9    강북구  330192.0  326686.0   3506.0  54813.0  1.061806  16.600342\n",
       "1    종로구  162820.0  153589.0   9231.0  25425.0  5.669451  15.615404\n",
       "2     중구  133240.0  124312.0   8928.0  20764.0  6.700690  15.583909\n",
       "3    용산구  244203.0  229456.0  14747.0  36231.0  6.038828  14.836427\n",
       "13  서대문구  327163.0  314982.0  12181.0  48161.0  3.723221  14.720797"
      ]
     },
     "execution_count": 33,
     "metadata": {},
     "output_type": "execute_result"
    }
   ],
   "source": [
    "#고령자 비율, 외국인 비율이 높은 구는 어디인가?\n",
    "pop_seoul.sort_values(by='고령자비율',ascending=False).head()"
   ]
  },
  {
   "cell_type": "code",
   "execution_count": 34,
   "id": "69126d40",
   "metadata": {},
   "outputs": [
    {
     "data": {
      "text/html": [
       "<div>\n",
       "<style scoped>\n",
       "    .dataframe tbody tr th:only-of-type {\n",
       "        vertical-align: middle;\n",
       "    }\n",
       "\n",
       "    .dataframe tbody tr th {\n",
       "        vertical-align: top;\n",
       "    }\n",
       "\n",
       "    .dataframe thead th {\n",
       "        text-align: right;\n",
       "    }\n",
       "</style>\n",
       "<table border=\"1\" class=\"dataframe\">\n",
       "  <thead>\n",
       "    <tr style=\"text-align: right;\">\n",
       "      <th></th>\n",
       "      <th>구별</th>\n",
       "      <th>인구수</th>\n",
       "      <th>한국인</th>\n",
       "      <th>외국인</th>\n",
       "      <th>고령자</th>\n",
       "      <th>외국인비율</th>\n",
       "      <th>고령자비율</th>\n",
       "    </tr>\n",
       "  </thead>\n",
       "  <tbody>\n",
       "    <tr>\n",
       "      <th>19</th>\n",
       "      <td>영등포구</td>\n",
       "      <td>402985.0</td>\n",
       "      <td>368072.0</td>\n",
       "      <td>34913.0</td>\n",
       "      <td>52413.0</td>\n",
       "      <td>8.663598</td>\n",
       "      <td>13.006191</td>\n",
       "    </tr>\n",
       "    <tr>\n",
       "      <th>18</th>\n",
       "      <td>금천구</td>\n",
       "      <td>255082.0</td>\n",
       "      <td>236353.0</td>\n",
       "      <td>18729.0</td>\n",
       "      <td>32970.0</td>\n",
       "      <td>7.342345</td>\n",
       "      <td>12.925255</td>\n",
       "    </tr>\n",
       "    <tr>\n",
       "      <th>17</th>\n",
       "      <td>구로구</td>\n",
       "      <td>447874.0</td>\n",
       "      <td>416487.0</td>\n",
       "      <td>31387.0</td>\n",
       "      <td>56833.0</td>\n",
       "      <td>7.007998</td>\n",
       "      <td>12.689506</td>\n",
       "    </tr>\n",
       "    <tr>\n",
       "      <th>2</th>\n",
       "      <td>중구</td>\n",
       "      <td>133240.0</td>\n",
       "      <td>124312.0</td>\n",
       "      <td>8928.0</td>\n",
       "      <td>20764.0</td>\n",
       "      <td>6.700690</td>\n",
       "      <td>15.583909</td>\n",
       "    </tr>\n",
       "    <tr>\n",
       "      <th>3</th>\n",
       "      <td>용산구</td>\n",
       "      <td>244203.0</td>\n",
       "      <td>229456.0</td>\n",
       "      <td>14747.0</td>\n",
       "      <td>36231.0</td>\n",
       "      <td>6.038828</td>\n",
       "      <td>14.836427</td>\n",
       "    </tr>\n",
       "  </tbody>\n",
       "</table>\n",
       "</div>"
      ],
      "text/plain": [
       "      구별       인구수       한국인      외국인      고령자     외국인비율      고령자비율\n",
       "19  영등포구  402985.0  368072.0  34913.0  52413.0  8.663598  13.006191\n",
       "18   금천구  255082.0  236353.0  18729.0  32970.0  7.342345  12.925255\n",
       "17   구로구  447874.0  416487.0  31387.0  56833.0  7.007998  12.689506\n",
       "2     중구  133240.0  124312.0   8928.0  20764.0  6.700690  15.583909\n",
       "3    용산구  244203.0  229456.0  14747.0  36231.0  6.038828  14.836427"
      ]
     },
     "execution_count": 34,
     "metadata": {},
     "output_type": "execute_result"
    }
   ],
   "source": [
    "pop_seoul.sort_values(by='외국인비율',ascending=False).head()"
   ]
  },
  {
   "cell_type": "code",
   "execution_count": 35,
   "id": "617caf73",
   "metadata": {},
   "outputs": [
    {
     "data": {
      "text/html": [
       "<div>\n",
       "<style scoped>\n",
       "    .dataframe tbody tr th:only-of-type {\n",
       "        vertical-align: middle;\n",
       "    }\n",
       "\n",
       "    .dataframe tbody tr th {\n",
       "        vertical-align: top;\n",
       "    }\n",
       "\n",
       "    .dataframe thead th {\n",
       "        text-align: right;\n",
       "    }\n",
       "</style>\n",
       "<table border=\"1\" class=\"dataframe\">\n",
       "  <thead>\n",
       "    <tr style=\"text-align: right;\">\n",
       "      <th></th>\n",
       "      <th>구별</th>\n",
       "      <th>소계</th>\n",
       "      <th>2013년도 이전</th>\n",
       "      <th>2014년</th>\n",
       "      <th>2015년</th>\n",
       "      <th>2016년</th>\n",
       "    </tr>\n",
       "  </thead>\n",
       "  <tbody>\n",
       "    <tr>\n",
       "      <th>0</th>\n",
       "      <td>강남구</td>\n",
       "      <td>2780</td>\n",
       "      <td>1292</td>\n",
       "      <td>430</td>\n",
       "      <td>584</td>\n",
       "      <td>932</td>\n",
       "    </tr>\n",
       "    <tr>\n",
       "      <th>1</th>\n",
       "      <td>강동구</td>\n",
       "      <td>773</td>\n",
       "      <td>379</td>\n",
       "      <td>99</td>\n",
       "      <td>155</td>\n",
       "      <td>377</td>\n",
       "    </tr>\n",
       "    <tr>\n",
       "      <th>2</th>\n",
       "      <td>강북구</td>\n",
       "      <td>748</td>\n",
       "      <td>369</td>\n",
       "      <td>120</td>\n",
       "      <td>138</td>\n",
       "      <td>204</td>\n",
       "    </tr>\n",
       "    <tr>\n",
       "      <th>3</th>\n",
       "      <td>강서구</td>\n",
       "      <td>884</td>\n",
       "      <td>388</td>\n",
       "      <td>258</td>\n",
       "      <td>184</td>\n",
       "      <td>81</td>\n",
       "    </tr>\n",
       "    <tr>\n",
       "      <th>4</th>\n",
       "      <td>관악구</td>\n",
       "      <td>1496</td>\n",
       "      <td>846</td>\n",
       "      <td>260</td>\n",
       "      <td>390</td>\n",
       "      <td>613</td>\n",
       "    </tr>\n",
       "  </tbody>\n",
       "</table>\n",
       "</div>"
      ],
      "text/plain": [
       "    구별    소계  2013년도 이전  2014년  2015년  2016년\n",
       "0  강남구  2780       1292    430    584    932\n",
       "1  강동구   773        379     99    155    377\n",
       "2  강북구   748        369    120    138    204\n",
       "3  강서구   884        388    258    184     81\n",
       "4  관악구  1496        846    260    390    613"
      ]
     },
     "execution_count": 35,
     "metadata": {},
     "output_type": "execute_result"
    }
   ],
   "source": [
    "cctv_seoul.head()"
   ]
  },
  {
   "cell_type": "code",
   "execution_count": 36,
   "id": "78e37269",
   "metadata": {},
   "outputs": [
    {
     "data": {
      "text/html": [
       "<div>\n",
       "<style scoped>\n",
       "    .dataframe tbody tr th:only-of-type {\n",
       "        vertical-align: middle;\n",
       "    }\n",
       "\n",
       "    .dataframe tbody tr th {\n",
       "        vertical-align: top;\n",
       "    }\n",
       "\n",
       "    .dataframe thead th {\n",
       "        text-align: right;\n",
       "    }\n",
       "</style>\n",
       "<table border=\"1\" class=\"dataframe\">\n",
       "  <thead>\n",
       "    <tr style=\"text-align: right;\">\n",
       "      <th></th>\n",
       "      <th>구별</th>\n",
       "      <th>소계</th>\n",
       "      <th>2013년도 이전</th>\n",
       "      <th>2014년</th>\n",
       "      <th>2015년</th>\n",
       "      <th>2016년</th>\n",
       "      <th>최근증가율</th>\n",
       "    </tr>\n",
       "  </thead>\n",
       "  <tbody>\n",
       "    <tr>\n",
       "      <th>0</th>\n",
       "      <td>강남구</td>\n",
       "      <td>2780</td>\n",
       "      <td>1292</td>\n",
       "      <td>430</td>\n",
       "      <td>584</td>\n",
       "      <td>932</td>\n",
       "      <td>150.619195</td>\n",
       "    </tr>\n",
       "    <tr>\n",
       "      <th>1</th>\n",
       "      <td>강동구</td>\n",
       "      <td>773</td>\n",
       "      <td>379</td>\n",
       "      <td>99</td>\n",
       "      <td>155</td>\n",
       "      <td>377</td>\n",
       "      <td>166.490765</td>\n",
       "    </tr>\n",
       "    <tr>\n",
       "      <th>2</th>\n",
       "      <td>강북구</td>\n",
       "      <td>748</td>\n",
       "      <td>369</td>\n",
       "      <td>120</td>\n",
       "      <td>138</td>\n",
       "      <td>204</td>\n",
       "      <td>125.203252</td>\n",
       "    </tr>\n",
       "    <tr>\n",
       "      <th>3</th>\n",
       "      <td>강서구</td>\n",
       "      <td>884</td>\n",
       "      <td>388</td>\n",
       "      <td>258</td>\n",
       "      <td>184</td>\n",
       "      <td>81</td>\n",
       "      <td>134.793814</td>\n",
       "    </tr>\n",
       "    <tr>\n",
       "      <th>4</th>\n",
       "      <td>관악구</td>\n",
       "      <td>1496</td>\n",
       "      <td>846</td>\n",
       "      <td>260</td>\n",
       "      <td>390</td>\n",
       "      <td>613</td>\n",
       "      <td>149.290780</td>\n",
       "    </tr>\n",
       "  </tbody>\n",
       "</table>\n",
       "</div>"
      ],
      "text/plain": [
       "    구별    소계  2013년도 이전  2014년  2015년  2016년       최근증가율\n",
       "0  강남구  2780       1292    430    584    932  150.619195\n",
       "1  강동구   773        379     99    155    377  166.490765\n",
       "2  강북구   748        369    120    138    204  125.203252\n",
       "3  강서구   884        388    258    184     81  134.793814\n",
       "4  관악구  1496        846    260    390    613  149.290780"
      ]
     },
     "execution_count": 36,
     "metadata": {},
     "output_type": "execute_result"
    }
   ],
   "source": [
    "#cctv최근 증가률이 높은 곳과 낮은 곳\n",
    "cctv_seoul['최근증가율'] = (cctv_seoul['2014년'] + cctv_seoul['2015년']\n",
    "                       + cctv_seoul['2016년'])/ cctv_seoul['2013년도 이전']*100\n",
    "cctv_seoul.head()"
   ]
  },
  {
   "cell_type": "code",
   "execution_count": 37,
   "id": "0545e80d",
   "metadata": {},
   "outputs": [
    {
     "data": {
      "text/html": [
       "<div>\n",
       "<style scoped>\n",
       "    .dataframe tbody tr th:only-of-type {\n",
       "        vertical-align: middle;\n",
       "    }\n",
       "\n",
       "    .dataframe tbody tr th {\n",
       "        vertical-align: top;\n",
       "    }\n",
       "\n",
       "    .dataframe thead th {\n",
       "        text-align: right;\n",
       "    }\n",
       "</style>\n",
       "<table border=\"1\" class=\"dataframe\">\n",
       "  <thead>\n",
       "    <tr style=\"text-align: right;\">\n",
       "      <th></th>\n",
       "      <th>구별</th>\n",
       "      <th>소계</th>\n",
       "      <th>2013년도 이전</th>\n",
       "      <th>2014년</th>\n",
       "      <th>2015년</th>\n",
       "      <th>2016년</th>\n",
       "      <th>최근증가율</th>\n",
       "    </tr>\n",
       "  </thead>\n",
       "  <tbody>\n",
       "    <tr>\n",
       "      <th>22</th>\n",
       "      <td>종로구</td>\n",
       "      <td>1002</td>\n",
       "      <td>464</td>\n",
       "      <td>314</td>\n",
       "      <td>211</td>\n",
       "      <td>630</td>\n",
       "      <td>248.922414</td>\n",
       "    </tr>\n",
       "    <tr>\n",
       "      <th>9</th>\n",
       "      <td>도봉구</td>\n",
       "      <td>485</td>\n",
       "      <td>238</td>\n",
       "      <td>159</td>\n",
       "      <td>42</td>\n",
       "      <td>386</td>\n",
       "      <td>246.638655</td>\n",
       "    </tr>\n",
       "    <tr>\n",
       "      <th>12</th>\n",
       "      <td>마포구</td>\n",
       "      <td>574</td>\n",
       "      <td>314</td>\n",
       "      <td>118</td>\n",
       "      <td>169</td>\n",
       "      <td>379</td>\n",
       "      <td>212.101911</td>\n",
       "    </tr>\n",
       "    <tr>\n",
       "      <th>8</th>\n",
       "      <td>노원구</td>\n",
       "      <td>1265</td>\n",
       "      <td>542</td>\n",
       "      <td>57</td>\n",
       "      <td>451</td>\n",
       "      <td>516</td>\n",
       "      <td>188.929889</td>\n",
       "    </tr>\n",
       "    <tr>\n",
       "      <th>1</th>\n",
       "      <td>강동구</td>\n",
       "      <td>773</td>\n",
       "      <td>379</td>\n",
       "      <td>99</td>\n",
       "      <td>155</td>\n",
       "      <td>377</td>\n",
       "      <td>166.490765</td>\n",
       "    </tr>\n",
       "  </tbody>\n",
       "</table>\n",
       "</div>"
      ],
      "text/plain": [
       "     구별    소계  2013년도 이전  2014년  2015년  2016년       최근증가율\n",
       "22  종로구  1002        464    314    211    630  248.922414\n",
       "9   도봉구   485        238    159     42    386  246.638655\n",
       "12  마포구   574        314    118    169    379  212.101911\n",
       "8   노원구  1265        542     57    451    516  188.929889\n",
       "1   강동구   773        379     99    155    377  166.490765"
      ]
     },
     "execution_count": 37,
     "metadata": {},
     "output_type": "execute_result"
    }
   ],
   "source": [
    "cctv_seoul.sort_values(by='최근증가율',ascending=False).head()"
   ]
  },
  {
   "cell_type": "code",
   "execution_count": 38,
   "id": "8a9afecc",
   "metadata": {},
   "outputs": [
    {
     "data": {
      "text/html": [
       "<div>\n",
       "<style scoped>\n",
       "    .dataframe tbody tr th:only-of-type {\n",
       "        vertical-align: middle;\n",
       "    }\n",
       "\n",
       "    .dataframe tbody tr th {\n",
       "        vertical-align: top;\n",
       "    }\n",
       "\n",
       "    .dataframe thead th {\n",
       "        text-align: right;\n",
       "    }\n",
       "</style>\n",
       "<table border=\"1\" class=\"dataframe\">\n",
       "  <thead>\n",
       "    <tr style=\"text-align: right;\">\n",
       "      <th></th>\n",
       "      <th>구별</th>\n",
       "      <th>소계</th>\n",
       "      <th>2013년도 이전</th>\n",
       "      <th>2014년</th>\n",
       "      <th>2015년</th>\n",
       "      <th>2016년</th>\n",
       "      <th>최근증가율</th>\n",
       "    </tr>\n",
       "  </thead>\n",
       "  <tbody>\n",
       "    <tr>\n",
       "      <th>0</th>\n",
       "      <td>강남구</td>\n",
       "      <td>2780</td>\n",
       "      <td>1292</td>\n",
       "      <td>430</td>\n",
       "      <td>584</td>\n",
       "      <td>932</td>\n",
       "      <td>150.619195</td>\n",
       "    </tr>\n",
       "    <tr>\n",
       "      <th>1</th>\n",
       "      <td>강동구</td>\n",
       "      <td>773</td>\n",
       "      <td>379</td>\n",
       "      <td>99</td>\n",
       "      <td>155</td>\n",
       "      <td>377</td>\n",
       "      <td>166.490765</td>\n",
       "    </tr>\n",
       "    <tr>\n",
       "      <th>2</th>\n",
       "      <td>강북구</td>\n",
       "      <td>748</td>\n",
       "      <td>369</td>\n",
       "      <td>120</td>\n",
       "      <td>138</td>\n",
       "      <td>204</td>\n",
       "      <td>125.203252</td>\n",
       "    </tr>\n",
       "    <tr>\n",
       "      <th>3</th>\n",
       "      <td>강서구</td>\n",
       "      <td>884</td>\n",
       "      <td>388</td>\n",
       "      <td>258</td>\n",
       "      <td>184</td>\n",
       "      <td>81</td>\n",
       "      <td>134.793814</td>\n",
       "    </tr>\n",
       "    <tr>\n",
       "      <th>4</th>\n",
       "      <td>관악구</td>\n",
       "      <td>1496</td>\n",
       "      <td>846</td>\n",
       "      <td>260</td>\n",
       "      <td>390</td>\n",
       "      <td>613</td>\n",
       "      <td>149.290780</td>\n",
       "    </tr>\n",
       "    <tr>\n",
       "      <th>5</th>\n",
       "      <td>광진구</td>\n",
       "      <td>707</td>\n",
       "      <td>573</td>\n",
       "      <td>78</td>\n",
       "      <td>53</td>\n",
       "      <td>174</td>\n",
       "      <td>53.228621</td>\n",
       "    </tr>\n",
       "    <tr>\n",
       "      <th>6</th>\n",
       "      <td>구로구</td>\n",
       "      <td>1561</td>\n",
       "      <td>1142</td>\n",
       "      <td>173</td>\n",
       "      <td>246</td>\n",
       "      <td>323</td>\n",
       "      <td>64.973730</td>\n",
       "    </tr>\n",
       "    <tr>\n",
       "      <th>7</th>\n",
       "      <td>금천구</td>\n",
       "      <td>1015</td>\n",
       "      <td>674</td>\n",
       "      <td>51</td>\n",
       "      <td>269</td>\n",
       "      <td>354</td>\n",
       "      <td>100.000000</td>\n",
       "    </tr>\n",
       "    <tr>\n",
       "      <th>8</th>\n",
       "      <td>노원구</td>\n",
       "      <td>1265</td>\n",
       "      <td>542</td>\n",
       "      <td>57</td>\n",
       "      <td>451</td>\n",
       "      <td>516</td>\n",
       "      <td>188.929889</td>\n",
       "    </tr>\n",
       "    <tr>\n",
       "      <th>9</th>\n",
       "      <td>도봉구</td>\n",
       "      <td>485</td>\n",
       "      <td>238</td>\n",
       "      <td>159</td>\n",
       "      <td>42</td>\n",
       "      <td>386</td>\n",
       "      <td>246.638655</td>\n",
       "    </tr>\n",
       "    <tr>\n",
       "      <th>10</th>\n",
       "      <td>동대문구</td>\n",
       "      <td>1294</td>\n",
       "      <td>1070</td>\n",
       "      <td>23</td>\n",
       "      <td>198</td>\n",
       "      <td>579</td>\n",
       "      <td>74.766355</td>\n",
       "    </tr>\n",
       "    <tr>\n",
       "      <th>11</th>\n",
       "      <td>동작구</td>\n",
       "      <td>1091</td>\n",
       "      <td>544</td>\n",
       "      <td>341</td>\n",
       "      <td>103</td>\n",
       "      <td>314</td>\n",
       "      <td>139.338235</td>\n",
       "    </tr>\n",
       "    <tr>\n",
       "      <th>12</th>\n",
       "      <td>마포구</td>\n",
       "      <td>574</td>\n",
       "      <td>314</td>\n",
       "      <td>118</td>\n",
       "      <td>169</td>\n",
       "      <td>379</td>\n",
       "      <td>212.101911</td>\n",
       "    </tr>\n",
       "    <tr>\n",
       "      <th>13</th>\n",
       "      <td>서대문구</td>\n",
       "      <td>962</td>\n",
       "      <td>844</td>\n",
       "      <td>50</td>\n",
       "      <td>68</td>\n",
       "      <td>292</td>\n",
       "      <td>48.578199</td>\n",
       "    </tr>\n",
       "    <tr>\n",
       "      <th>14</th>\n",
       "      <td>서초구</td>\n",
       "      <td>1930</td>\n",
       "      <td>1406</td>\n",
       "      <td>157</td>\n",
       "      <td>336</td>\n",
       "      <td>398</td>\n",
       "      <td>63.371266</td>\n",
       "    </tr>\n",
       "    <tr>\n",
       "      <th>15</th>\n",
       "      <td>성동구</td>\n",
       "      <td>1062</td>\n",
       "      <td>730</td>\n",
       "      <td>91</td>\n",
       "      <td>241</td>\n",
       "      <td>265</td>\n",
       "      <td>81.780822</td>\n",
       "    </tr>\n",
       "    <tr>\n",
       "      <th>16</th>\n",
       "      <td>성북구</td>\n",
       "      <td>1464</td>\n",
       "      <td>1009</td>\n",
       "      <td>78</td>\n",
       "      <td>360</td>\n",
       "      <td>204</td>\n",
       "      <td>63.627354</td>\n",
       "    </tr>\n",
       "    <tr>\n",
       "      <th>17</th>\n",
       "      <td>송파구</td>\n",
       "      <td>618</td>\n",
       "      <td>529</td>\n",
       "      <td>21</td>\n",
       "      <td>68</td>\n",
       "      <td>463</td>\n",
       "      <td>104.347826</td>\n",
       "    </tr>\n",
       "    <tr>\n",
       "      <th>18</th>\n",
       "      <td>양천구</td>\n",
       "      <td>2034</td>\n",
       "      <td>1843</td>\n",
       "      <td>142</td>\n",
       "      <td>30</td>\n",
       "      <td>467</td>\n",
       "      <td>34.671731</td>\n",
       "    </tr>\n",
       "    <tr>\n",
       "      <th>19</th>\n",
       "      <td>영등포구</td>\n",
       "      <td>904</td>\n",
       "      <td>495</td>\n",
       "      <td>214</td>\n",
       "      <td>195</td>\n",
       "      <td>373</td>\n",
       "      <td>157.979798</td>\n",
       "    </tr>\n",
       "    <tr>\n",
       "      <th>20</th>\n",
       "      <td>용산구</td>\n",
       "      <td>1624</td>\n",
       "      <td>1368</td>\n",
       "      <td>218</td>\n",
       "      <td>112</td>\n",
       "      <td>398</td>\n",
       "      <td>53.216374</td>\n",
       "    </tr>\n",
       "    <tr>\n",
       "      <th>21</th>\n",
       "      <td>은평구</td>\n",
       "      <td>1873</td>\n",
       "      <td>1138</td>\n",
       "      <td>224</td>\n",
       "      <td>278</td>\n",
       "      <td>468</td>\n",
       "      <td>85.237258</td>\n",
       "    </tr>\n",
       "    <tr>\n",
       "      <th>22</th>\n",
       "      <td>종로구</td>\n",
       "      <td>1002</td>\n",
       "      <td>464</td>\n",
       "      <td>314</td>\n",
       "      <td>211</td>\n",
       "      <td>630</td>\n",
       "      <td>248.922414</td>\n",
       "    </tr>\n",
       "    <tr>\n",
       "      <th>23</th>\n",
       "      <td>중구</td>\n",
       "      <td>671</td>\n",
       "      <td>413</td>\n",
       "      <td>190</td>\n",
       "      <td>72</td>\n",
       "      <td>348</td>\n",
       "      <td>147.699758</td>\n",
       "    </tr>\n",
       "    <tr>\n",
       "      <th>24</th>\n",
       "      <td>중랑구</td>\n",
       "      <td>660</td>\n",
       "      <td>509</td>\n",
       "      <td>121</td>\n",
       "      <td>177</td>\n",
       "      <td>109</td>\n",
       "      <td>79.960707</td>\n",
       "    </tr>\n",
       "  </tbody>\n",
       "</table>\n",
       "</div>"
      ],
      "text/plain": [
       "      구별    소계  2013년도 이전  2014년  2015년  2016년       최근증가율\n",
       "0    강남구  2780       1292    430    584    932  150.619195\n",
       "1    강동구   773        379     99    155    377  166.490765\n",
       "2    강북구   748        369    120    138    204  125.203252\n",
       "3    강서구   884        388    258    184     81  134.793814\n",
       "4    관악구  1496        846    260    390    613  149.290780\n",
       "5    광진구   707        573     78     53    174   53.228621\n",
       "6    구로구  1561       1142    173    246    323   64.973730\n",
       "7    금천구  1015        674     51    269    354  100.000000\n",
       "8    노원구  1265        542     57    451    516  188.929889\n",
       "9    도봉구   485        238    159     42    386  246.638655\n",
       "10  동대문구  1294       1070     23    198    579   74.766355\n",
       "11   동작구  1091        544    341    103    314  139.338235\n",
       "12   마포구   574        314    118    169    379  212.101911\n",
       "13  서대문구   962        844     50     68    292   48.578199\n",
       "14   서초구  1930       1406    157    336    398   63.371266\n",
       "15   성동구  1062        730     91    241    265   81.780822\n",
       "16   성북구  1464       1009     78    360    204   63.627354\n",
       "17   송파구   618        529     21     68    463  104.347826\n",
       "18   양천구  2034       1843    142     30    467   34.671731\n",
       "19  영등포구   904        495    214    195    373  157.979798\n",
       "20   용산구  1624       1368    218    112    398   53.216374\n",
       "21   은평구  1873       1138    224    278    468   85.237258\n",
       "22   종로구  1002        464    314    211    630  248.922414\n",
       "23    중구   671        413    190     72    348  147.699758\n",
       "24   중랑구   660        509    121    177    109   79.960707"
      ]
     },
     "execution_count": 38,
     "metadata": {},
     "output_type": "execute_result"
    }
   ],
   "source": [
    "cctv_seoul.rename(columns={cctv_seoul.columns[0]:'구별'},inplace=True)\n",
    "cctv_seoul"
   ]
  },
  {
   "cell_type": "code",
   "execution_count": 39,
   "id": "8a21613d",
   "metadata": {},
   "outputs": [
    {
     "data": {
      "text/html": [
       "<div>\n",
       "<style scoped>\n",
       "    .dataframe tbody tr th:only-of-type {\n",
       "        vertical-align: middle;\n",
       "    }\n",
       "\n",
       "    .dataframe tbody tr th {\n",
       "        vertical-align: top;\n",
       "    }\n",
       "\n",
       "    .dataframe thead th {\n",
       "        text-align: right;\n",
       "    }\n",
       "</style>\n",
       "<table border=\"1\" class=\"dataframe\">\n",
       "  <thead>\n",
       "    <tr style=\"text-align: right;\">\n",
       "      <th></th>\n",
       "      <th>구별</th>\n",
       "      <th>소계</th>\n",
       "      <th>2013년도 이전</th>\n",
       "      <th>2014년</th>\n",
       "      <th>2015년</th>\n",
       "      <th>2016년</th>\n",
       "      <th>최근증가율</th>\n",
       "      <th>인구수</th>\n",
       "      <th>한국인</th>\n",
       "      <th>외국인</th>\n",
       "      <th>고령자</th>\n",
       "      <th>외국인비율</th>\n",
       "      <th>고령자비율</th>\n",
       "    </tr>\n",
       "  </thead>\n",
       "  <tbody>\n",
       "    <tr>\n",
       "      <th>0</th>\n",
       "      <td>강남구</td>\n",
       "      <td>2780</td>\n",
       "      <td>1292</td>\n",
       "      <td>430</td>\n",
       "      <td>584</td>\n",
       "      <td>932</td>\n",
       "      <td>150.619195</td>\n",
       "      <td>570500.0</td>\n",
       "      <td>565550.0</td>\n",
       "      <td>4950.0</td>\n",
       "      <td>63167.0</td>\n",
       "      <td>0.867660</td>\n",
       "      <td>11.072217</td>\n",
       "    </tr>\n",
       "    <tr>\n",
       "      <th>1</th>\n",
       "      <td>강동구</td>\n",
       "      <td>773</td>\n",
       "      <td>379</td>\n",
       "      <td>99</td>\n",
       "      <td>155</td>\n",
       "      <td>377</td>\n",
       "      <td>166.490765</td>\n",
       "      <td>453233.0</td>\n",
       "      <td>449019.0</td>\n",
       "      <td>4214.0</td>\n",
       "      <td>54622.0</td>\n",
       "      <td>0.929765</td>\n",
       "      <td>12.051638</td>\n",
       "    </tr>\n",
       "    <tr>\n",
       "      <th>2</th>\n",
       "      <td>강북구</td>\n",
       "      <td>748</td>\n",
       "      <td>369</td>\n",
       "      <td>120</td>\n",
       "      <td>138</td>\n",
       "      <td>204</td>\n",
       "      <td>125.203252</td>\n",
       "      <td>330192.0</td>\n",
       "      <td>326686.0</td>\n",
       "      <td>3506.0</td>\n",
       "      <td>54813.0</td>\n",
       "      <td>1.061806</td>\n",
       "      <td>16.600342</td>\n",
       "    </tr>\n",
       "    <tr>\n",
       "      <th>3</th>\n",
       "      <td>강서구</td>\n",
       "      <td>884</td>\n",
       "      <td>388</td>\n",
       "      <td>258</td>\n",
       "      <td>184</td>\n",
       "      <td>81</td>\n",
       "      <td>134.793814</td>\n",
       "      <td>603772.0</td>\n",
       "      <td>597248.0</td>\n",
       "      <td>6524.0</td>\n",
       "      <td>72548.0</td>\n",
       "      <td>1.080540</td>\n",
       "      <td>12.015794</td>\n",
       "    </tr>\n",
       "    <tr>\n",
       "      <th>4</th>\n",
       "      <td>관악구</td>\n",
       "      <td>1496</td>\n",
       "      <td>846</td>\n",
       "      <td>260</td>\n",
       "      <td>390</td>\n",
       "      <td>613</td>\n",
       "      <td>149.290780</td>\n",
       "      <td>525515.0</td>\n",
       "      <td>507203.0</td>\n",
       "      <td>18312.0</td>\n",
       "      <td>68082.0</td>\n",
       "      <td>3.484582</td>\n",
       "      <td>12.955291</td>\n",
       "    </tr>\n",
       "  </tbody>\n",
       "</table>\n",
       "</div>"
      ],
      "text/plain": [
       "    구별    소계  2013년도 이전  2014년  2015년  2016년       최근증가율       인구수       한국인  \\\n",
       "0  강남구  2780       1292    430    584    932  150.619195  570500.0  565550.0   \n",
       "1  강동구   773        379     99    155    377  166.490765  453233.0  449019.0   \n",
       "2  강북구   748        369    120    138    204  125.203252  330192.0  326686.0   \n",
       "3  강서구   884        388    258    184     81  134.793814  603772.0  597248.0   \n",
       "4  관악구  1496        846    260    390    613  149.290780  525515.0  507203.0   \n",
       "\n",
       "       외국인      고령자     외국인비율      고령자비율  \n",
       "0   4950.0  63167.0  0.867660  11.072217  \n",
       "1   4214.0  54622.0  0.929765  12.051638  \n",
       "2   3506.0  54813.0  1.061806  16.600342  \n",
       "3   6524.0  72548.0  1.080540  12.015794  \n",
       "4  18312.0  68082.0  3.484582  12.955291  "
      ]
     },
     "execution_count": 39,
     "metadata": {},
     "output_type": "execute_result"
    }
   ],
   "source": [
    "#머지 함수를 사용해서 데이터프레임 합치기\n",
    "data_result = pd.merge(cctv_seoul,pop_seoul,on='구별')\n",
    "data_result.head()"
   ]
  },
  {
   "cell_type": "code",
   "execution_count": 40,
   "id": "9c2eaffb",
   "metadata": {},
   "outputs": [
    {
     "data": {
      "text/html": [
       "<div>\n",
       "<style scoped>\n",
       "    .dataframe tbody tr th:only-of-type {\n",
       "        vertical-align: middle;\n",
       "    }\n",
       "\n",
       "    .dataframe tbody tr th {\n",
       "        vertical-align: top;\n",
       "    }\n",
       "\n",
       "    .dataframe thead th {\n",
       "        text-align: right;\n",
       "    }\n",
       "</style>\n",
       "<table border=\"1\" class=\"dataframe\">\n",
       "  <thead>\n",
       "    <tr style=\"text-align: right;\">\n",
       "      <th></th>\n",
       "      <th>구별</th>\n",
       "      <th>소계</th>\n",
       "      <th>2013년도 이전</th>\n",
       "      <th>최근증가율</th>\n",
       "      <th>인구수</th>\n",
       "      <th>한국인</th>\n",
       "      <th>외국인</th>\n",
       "      <th>고령자</th>\n",
       "      <th>외국인비율</th>\n",
       "      <th>고령자비율</th>\n",
       "    </tr>\n",
       "  </thead>\n",
       "  <tbody>\n",
       "    <tr>\n",
       "      <th>0</th>\n",
       "      <td>강남구</td>\n",
       "      <td>2780</td>\n",
       "      <td>1292</td>\n",
       "      <td>150.619195</td>\n",
       "      <td>570500.0</td>\n",
       "      <td>565550.0</td>\n",
       "      <td>4950.0</td>\n",
       "      <td>63167.0</td>\n",
       "      <td>0.867660</td>\n",
       "      <td>11.072217</td>\n",
       "    </tr>\n",
       "    <tr>\n",
       "      <th>1</th>\n",
       "      <td>강동구</td>\n",
       "      <td>773</td>\n",
       "      <td>379</td>\n",
       "      <td>166.490765</td>\n",
       "      <td>453233.0</td>\n",
       "      <td>449019.0</td>\n",
       "      <td>4214.0</td>\n",
       "      <td>54622.0</td>\n",
       "      <td>0.929765</td>\n",
       "      <td>12.051638</td>\n",
       "    </tr>\n",
       "    <tr>\n",
       "      <th>2</th>\n",
       "      <td>강북구</td>\n",
       "      <td>748</td>\n",
       "      <td>369</td>\n",
       "      <td>125.203252</td>\n",
       "      <td>330192.0</td>\n",
       "      <td>326686.0</td>\n",
       "      <td>3506.0</td>\n",
       "      <td>54813.0</td>\n",
       "      <td>1.061806</td>\n",
       "      <td>16.600342</td>\n",
       "    </tr>\n",
       "  </tbody>\n",
       "</table>\n",
       "</div>"
      ],
      "text/plain": [
       "    구별    소계  2013년도 이전       최근증가율       인구수       한국인     외국인      고령자  \\\n",
       "0  강남구  2780       1292  150.619195  570500.0  565550.0  4950.0  63167.0   \n",
       "1  강동구   773        379  166.490765  453233.0  449019.0  4214.0  54622.0   \n",
       "2  강북구   748        369  125.203252  330192.0  326686.0  3506.0  54813.0   \n",
       "\n",
       "      외국인비율      고령자비율  \n",
       "0  0.867660  11.072217  \n",
       "1  0.929765  12.051638  \n",
       "2  1.061806  16.600342  "
      ]
     },
     "execution_count": 40,
     "metadata": {},
     "output_type": "execute_result"
    }
   ],
   "source": [
    "data_result.drop(columns=['2014년','2015년','2016년'],inplace=True)\n",
    "#del data_result['2014년']\n",
    "data_result.head(3)"
   ]
  },
  {
   "cell_type": "code",
   "execution_count": 41,
   "id": "4110e83c",
   "metadata": {
    "scrolled": true
   },
   "outputs": [
    {
     "data": {
      "text/plain": [
       "array(['강남구', '강동구', '강북구', '강서구', '관악구', '광진구', '구로구', '금천구', '노원구',\n",
       "       '도봉구', '동대문구', '동작구', '마포구', '서대문구', '서초구', '성동구', '성북구', '송파구',\n",
       "       '양천구', '영등포구', '용산구', '은평구', '종로구', '중구', '중랑구'], dtype=object)"
      ]
     },
     "execution_count": 41,
     "metadata": {},
     "output_type": "execute_result"
    }
   ],
   "source": [
    "data_result['구별'].unique()"
   ]
  },
  {
   "cell_type": "code",
   "execution_count": 42,
   "id": "c32ec9af",
   "metadata": {},
   "outputs": [
    {
     "data": {
      "text/plain": [
       "numpy.ndarray"
      ]
     },
     "execution_count": 42,
     "metadata": {},
     "output_type": "execute_result"
    }
   ],
   "source": [
    "type(data_result['구별'].unique())#ndarray는 n차원 리스트를 다루기위한 객체"
   ]
  },
  {
   "cell_type": "code",
   "execution_count": 43,
   "id": "d3ac2dab",
   "metadata": {},
   "outputs": [],
   "source": [
    "#1차원 ndarray객체는 1차원 list이므로 list처럼 다루면 된다.\n",
    "#list, str은 len함수 쓰면됨"
   ]
  },
  {
   "cell_type": "code",
   "execution_count": 44,
   "id": "944b9605",
   "metadata": {},
   "outputs": [
    {
     "data": {
      "text/plain": [
       "25"
      ]
     },
     "execution_count": 44,
     "metadata": {},
     "output_type": "execute_result"
    }
   ],
   "source": [
    "len(data_result['구별'].unique())#유니크한 값은 인덱스로 잡을 수 있다."
   ]
  },
  {
   "cell_type": "code",
   "execution_count": 45,
   "id": "ca9946c3",
   "metadata": {},
   "outputs": [],
   "source": [
    "#reset_index(): 현재 index로 잡혀져 있는 정수값이 merge나 join등 df의 병합과 같은 처리로 인해\n",
    "#순서대로 들어있지 않은 경우, 다시 순서대로 인덱스 값이 정렬 되도록 함.\n",
    "#a_df_index = [1,2,3], b_df_index = [1,2,3]일 때 \n",
    "#a_df_index = [1,2,3] + b_df_index = [1,2,3] 의 결과는 [1,2,3,1,2,3]이 된다. 중복된 값이 됨.\n",
    "#reset_index()하면 중복값이 없어지고 [0,1,2,3,4,5]이 된다.\n",
    "\n",
    "#set_index(): 특정한 unique한 값을 가지는 컬럼을 index로 설정하고자 하는 경우\n",
    "\n",
    "data_result.set_index('구별',inplace=True)"
   ]
  },
  {
   "cell_type": "code",
   "execution_count": 46,
   "id": "fff55dfc",
   "metadata": {},
   "outputs": [
    {
     "data": {
      "text/html": [
       "<div>\n",
       "<style scoped>\n",
       "    .dataframe tbody tr th:only-of-type {\n",
       "        vertical-align: middle;\n",
       "    }\n",
       "\n",
       "    .dataframe tbody tr th {\n",
       "        vertical-align: top;\n",
       "    }\n",
       "\n",
       "    .dataframe thead th {\n",
       "        text-align: right;\n",
       "    }\n",
       "</style>\n",
       "<table border=\"1\" class=\"dataframe\">\n",
       "  <thead>\n",
       "    <tr style=\"text-align: right;\">\n",
       "      <th></th>\n",
       "      <th>소계</th>\n",
       "      <th>2013년도 이전</th>\n",
       "      <th>최근증가율</th>\n",
       "      <th>인구수</th>\n",
       "      <th>한국인</th>\n",
       "      <th>외국인</th>\n",
       "      <th>고령자</th>\n",
       "      <th>외국인비율</th>\n",
       "      <th>고령자비율</th>\n",
       "    </tr>\n",
       "    <tr>\n",
       "      <th>구별</th>\n",
       "      <th></th>\n",
       "      <th></th>\n",
       "      <th></th>\n",
       "      <th></th>\n",
       "      <th></th>\n",
       "      <th></th>\n",
       "      <th></th>\n",
       "      <th></th>\n",
       "      <th></th>\n",
       "    </tr>\n",
       "  </thead>\n",
       "  <tbody>\n",
       "    <tr>\n",
       "      <th>강남구</th>\n",
       "      <td>2780</td>\n",
       "      <td>1292</td>\n",
       "      <td>150.619195</td>\n",
       "      <td>570500.0</td>\n",
       "      <td>565550.0</td>\n",
       "      <td>4950.0</td>\n",
       "      <td>63167.0</td>\n",
       "      <td>0.867660</td>\n",
       "      <td>11.072217</td>\n",
       "    </tr>\n",
       "    <tr>\n",
       "      <th>강동구</th>\n",
       "      <td>773</td>\n",
       "      <td>379</td>\n",
       "      <td>166.490765</td>\n",
       "      <td>453233.0</td>\n",
       "      <td>449019.0</td>\n",
       "      <td>4214.0</td>\n",
       "      <td>54622.0</td>\n",
       "      <td>0.929765</td>\n",
       "      <td>12.051638</td>\n",
       "    </tr>\n",
       "    <tr>\n",
       "      <th>강북구</th>\n",
       "      <td>748</td>\n",
       "      <td>369</td>\n",
       "      <td>125.203252</td>\n",
       "      <td>330192.0</td>\n",
       "      <td>326686.0</td>\n",
       "      <td>3506.0</td>\n",
       "      <td>54813.0</td>\n",
       "      <td>1.061806</td>\n",
       "      <td>16.600342</td>\n",
       "    </tr>\n",
       "    <tr>\n",
       "      <th>강서구</th>\n",
       "      <td>884</td>\n",
       "      <td>388</td>\n",
       "      <td>134.793814</td>\n",
       "      <td>603772.0</td>\n",
       "      <td>597248.0</td>\n",
       "      <td>6524.0</td>\n",
       "      <td>72548.0</td>\n",
       "      <td>1.080540</td>\n",
       "      <td>12.015794</td>\n",
       "    </tr>\n",
       "    <tr>\n",
       "      <th>관악구</th>\n",
       "      <td>1496</td>\n",
       "      <td>846</td>\n",
       "      <td>149.290780</td>\n",
       "      <td>525515.0</td>\n",
       "      <td>507203.0</td>\n",
       "      <td>18312.0</td>\n",
       "      <td>68082.0</td>\n",
       "      <td>3.484582</td>\n",
       "      <td>12.955291</td>\n",
       "    </tr>\n",
       "  </tbody>\n",
       "</table>\n",
       "</div>"
      ],
      "text/plain": [
       "       소계  2013년도 이전       최근증가율       인구수       한국인      외국인      고령자  \\\n",
       "구별                                                                       \n",
       "강남구  2780       1292  150.619195  570500.0  565550.0   4950.0  63167.0   \n",
       "강동구   773        379  166.490765  453233.0  449019.0   4214.0  54622.0   \n",
       "강북구   748        369  125.203252  330192.0  326686.0   3506.0  54813.0   \n",
       "강서구   884        388  134.793814  603772.0  597248.0   6524.0  72548.0   \n",
       "관악구  1496        846  149.290780  525515.0  507203.0  18312.0  68082.0   \n",
       "\n",
       "        외국인비율      고령자비율  \n",
       "구별                        \n",
       "강남구  0.867660  11.072217  \n",
       "강동구  0.929765  12.051638  \n",
       "강북구  1.061806  16.600342  \n",
       "강서구  1.080540  12.015794  \n",
       "관악구  3.484582  12.955291  "
      ]
     },
     "execution_count": 46,
     "metadata": {},
     "output_type": "execute_result"
    }
   ],
   "source": [
    "data_result.head()"
   ]
  },
  {
   "cell_type": "code",
   "execution_count": 47,
   "id": "850e59a3",
   "metadata": {},
   "outputs": [
    {
     "data": {
      "text/plain": [
       "array([[ 1.        , -0.28078554],\n",
       "       [-0.28078554,  1.        ]])"
      ]
     },
     "execution_count": 47,
     "metadata": {},
     "output_type": "execute_result"
    }
   ],
   "source": [
    "#고령자비율,소계의 상관관계\n",
    "old = np.corrcoef(data_result['고령자비율'],data_result['소계'])\n",
    "old\n",
    "#고령자비율이 높으면 30퍼센트 관계성으로 cctv수가 적어진다.(반비례)\n",
    "#결과: 고령자 비율이 높다고 해서 cctv가 많이 설치되었다고는 일반적으로 말할 수 없다.\n",
    "#      고령자 비율과 cctv설치수는 약간 음의 상관이 있긴 함."
   ]
  },
  {
   "cell_type": "code",
   "execution_count": 48,
   "id": "97eb028a",
   "metadata": {},
   "outputs": [
    {
     "data": {
      "text/plain": [
       "array([[ 1.        , -0.13607433],\n",
       "       [-0.13607433,  1.        ]])"
      ]
     },
     "execution_count": 48,
     "metadata": {},
     "output_type": "execute_result"
    }
   ],
   "source": [
    "#외국인 비율, 소계의 상관관계\n",
    "out = np.corrcoef(data_result['외국인비율'],data_result['소계'])\n",
    "out\n",
    "#결과: 외국인 비율이 높다고 해서 cctv개수가 많아지는 것은 아니다. \n",
    "#      외국인 비율과 cctv설치수는 거의 관계성이 없다.\n",
    "#     외국인이 많은 구가 cctv가 많이/적게 설치되었다고 할 수 없다."
   ]
  },
  {
   "cell_type": "code",
   "execution_count": 49,
   "id": "8194723e",
   "metadata": {},
   "outputs": [
    {
     "data": {
      "text/plain": [
       "array([[1.        , 0.30634228],\n",
       "       [0.30634228, 1.        ]])"
      ]
     },
     "execution_count": 49,
     "metadata": {},
     "output_type": "execute_result"
    }
   ],
   "source": [
    "#인구수, 소계(cctv의 개수)의 상관관계\n",
    "tot_pop = np.corrcoef(data_result['인구수'],data_result['소계'])\n",
    "tot_pop\n",
    "#결과: 인구수가 많으면 cctv수도 많아지는 관계성이 30퍼센트 정도 존재한다.\n",
    "#      양의 관계성을 가지고 조금의 관계성이 있다고 볼 수 있다."
   ]
  },
  {
   "cell_type": "code",
   "execution_count": 50,
   "id": "74ea60a9",
   "metadata": {},
   "outputs": [
    {
     "data": {
      "text/plain": [
       "array([[ 1.      , -0.343016],\n",
       "       [-0.343016,  1.      ]])"
      ]
     },
     "execution_count": 50,
     "metadata": {},
     "output_type": "execute_result"
    }
   ],
   "source": [
    "#최근증가율, 소계(cctv의 개수)의 상관관계\n",
    "np.corrcoef(data_result['최근증가율'],data_result['소계'])\n",
    "#결과: 최근증가율이 높아지만 cctv수는 반비례 해진다.\n",
    "#       음의 30퍼센트 정도의 관계성이 있고, 조금의 관계성이 있다고 볼 수 있다."
   ]
  },
  {
   "cell_type": "code",
   "execution_count": 51,
   "id": "53e19614",
   "metadata": {},
   "outputs": [
    {
     "data": {
      "text/plain": [
       "1     162820.0\n",
       "2     133240.0\n",
       "3     244203.0\n",
       "4     311244.0\n",
       "5     372164.0\n",
       "6     369496.0\n",
       "7     414503.0\n",
       "8     461260.0\n",
       "9     330192.0\n",
       "10    348646.0\n",
       "11    569384.0\n",
       "12    494388.0\n",
       "13    327163.0\n",
       "14    389649.0\n",
       "15    479978.0\n",
       "16    603772.0\n",
       "17    447874.0\n",
       "18    255082.0\n",
       "19    402985.0\n",
       "20    412520.0\n",
       "21    525515.0\n",
       "22    450310.0\n",
       "23    570500.0\n",
       "24    667483.0\n",
       "25    453233.0\n",
       "Name: 인구수, dtype: float64"
      ]
     },
     "execution_count": 51,
     "metadata": {},
     "output_type": "execute_result"
    }
   ],
   "source": [
    "pop_seoul['인구수']"
   ]
  },
  {
   "cell_type": "code",
   "execution_count": 52,
   "id": "7a016335",
   "metadata": {},
   "outputs": [
    {
     "data": {
      "text/plain": [
       "0"
      ]
     },
     "execution_count": 52,
     "metadata": {},
     "output_type": "execute_result"
    }
   ],
   "source": [
    "pop_seoul['구별'].duplicated().sum()"
   ]
  },
  {
   "cell_type": "code",
   "execution_count": 53,
   "id": "714e4a23",
   "metadata": {},
   "outputs": [
    {
     "data": {
      "text/plain": [
       "[[0.9999999999999999, 0.30634227936792635], [0.3063422793679263, 1.0]]"
      ]
     },
     "execution_count": 53,
     "metadata": {},
     "output_type": "execute_result"
    }
   ],
   "source": [
    "#ndarray가 tolist적용이 되는가?(리스트로 변환시켜주는 함수)\n",
    "tot_list = tot_pop.tolist()\n",
    "tot_list"
   ]
  },
  {
   "cell_type": "code",
   "execution_count": 54,
   "id": "4aa14ff9",
   "metadata": {
    "scrolled": true
   },
   "outputs": [
    {
     "data": {
      "text/plain": [
       "[0.9999999999999999, 0.30634227936792635]"
      ]
     },
     "execution_count": 54,
     "metadata": {},
     "output_type": "execute_result"
    }
   ],
   "source": [
    "tot_list[0]"
   ]
  },
  {
   "cell_type": "code",
   "execution_count": 55,
   "id": "72cbc45c",
   "metadata": {
    "scrolled": true
   },
   "outputs": [
    {
     "data": {
      "text/plain": [
       "0.30634227936792635"
      ]
     },
     "execution_count": 55,
     "metadata": {},
     "output_type": "execute_result"
    }
   ],
   "source": [
    "tot_list[0][1]"
   ]
  },
  {
   "cell_type": "code",
   "execution_count": 56,
   "id": "d3e9bc41",
   "metadata": {},
   "outputs": [
    {
     "data": {
      "text/plain": [
       "[1, 2, 3]"
      ]
     },
     "execution_count": 56,
     "metadata": {},
     "output_type": "execute_result"
    }
   ],
   "source": [
    "fst_list = [1, 2, 3]#1ndarray,Series,1nd list(1차원)\n",
    "fst_list"
   ]
  },
  {
   "cell_type": "code",
   "execution_count": 57,
   "id": "90d48926",
   "metadata": {},
   "outputs": [
    {
     "data": {
      "text/plain": [
       "1"
      ]
     },
     "execution_count": 57,
     "metadata": {},
     "output_type": "execute_result"
    }
   ],
   "source": [
    "fst_list[0]"
   ]
  },
  {
   "cell_type": "code",
   "execution_count": 58,
   "id": "ea1971c0",
   "metadata": {},
   "outputs": [],
   "source": [
    "#인덱스: 0부터 시작\n",
    "snd_list = [#열\n",
    "    [1, 2, 3],#행\n",
    "    [4, 5, 6]\n",
    "]#2차원#df.values등이 2차원이다."
   ]
  },
  {
   "cell_type": "code",
   "execution_count": 59,
   "id": "7208e70e",
   "metadata": {},
   "outputs": [
    {
     "data": {
      "text/plain": [
       "1"
      ]
     },
     "execution_count": 59,
     "metadata": {},
     "output_type": "execute_result"
    }
   ],
   "source": [
    "snd_list[0][0]#0행0열"
   ]
  },
  {
   "cell_type": "code",
   "execution_count": 60,
   "id": "78689742",
   "metadata": {},
   "outputs": [
    {
     "data": {
      "text/plain": [
       "[[1, 2, 3], [4, 9, 6]]"
      ]
     },
     "execution_count": 60,
     "metadata": {},
     "output_type": "execute_result"
    }
   ],
   "source": [
    "snd_list[1][1] = 9\n",
    "snd_list"
   ]
  },
  {
   "cell_type": "code",
   "execution_count": 61,
   "id": "ac04900f",
   "metadata": {},
   "outputs": [
    {
     "data": {
      "text/plain": [
       "[[0.9999999999999999, 0.30634227936792635], [0.3063422793679263, 1.0]]"
      ]
     },
     "execution_count": 61,
     "metadata": {},
     "output_type": "execute_result"
    }
   ],
   "source": [
    "tot_list"
   ]
  },
  {
   "cell_type": "code",
   "execution_count": 62,
   "id": "5f59dc2f",
   "metadata": {
    "scrolled": true
   },
   "outputs": [
    {
     "data": {
      "text/plain": [
       "0.30634227936792635"
      ]
     },
     "execution_count": 62,
     "metadata": {},
     "output_type": "execute_result"
    }
   ],
   "source": [
    "tot_corr = tot_list[0][1]#전체 인구수 상관계수\n",
    "tot_corr"
   ]
  },
  {
   "cell_type": "code",
   "execution_count": 63,
   "id": "96d8956c",
   "metadata": {},
   "outputs": [
    {
     "data": {
      "text/plain": [
       "[[0.9999999999999998, -0.13607432878194445], [-0.13607432878194445, 1.0]]"
      ]
     },
     "execution_count": 63,
     "metadata": {},
     "output_type": "execute_result"
    }
   ],
   "source": [
    "out_list = out.tolist()\n",
    "out_list"
   ]
  },
  {
   "cell_type": "code",
   "execution_count": 64,
   "id": "f4d0b89a",
   "metadata": {},
   "outputs": [
    {
     "data": {
      "text/plain": [
       "-0.13607432878194445"
      ]
     },
     "execution_count": 64,
     "metadata": {},
     "output_type": "execute_result"
    }
   ],
   "source": [
    "out_corr = out_list[0][1]#전체 인구수 상관계수\n",
    "out_corr"
   ]
  },
  {
   "cell_type": "code",
   "execution_count": 65,
   "id": "d9a33284",
   "metadata": {},
   "outputs": [
    {
     "data": {
      "text/plain": [
       "[[1.0, -0.28078553790050065], [-0.2807855379005007, 1.0]]"
      ]
     },
     "execution_count": 65,
     "metadata": {},
     "output_type": "execute_result"
    }
   ],
   "source": [
    "old_list = old.tolist()\n",
    "old_list"
   ]
  },
  {
   "cell_type": "code",
   "execution_count": 66,
   "id": "7d2444c8",
   "metadata": {},
   "outputs": [
    {
     "data": {
      "text/plain": [
       "-0.28078553790050065"
      ]
     },
     "execution_count": 66,
     "metadata": {},
     "output_type": "execute_result"
    }
   ],
   "source": [
    "old_corr = old_list[0][1]#전체 인구수 상관계수\n",
    "old_corr"
   ]
  },
  {
   "cell_type": "code",
   "execution_count": 67,
   "id": "78c77634",
   "metadata": {},
   "outputs": [
    {
     "data": {
      "text/plain": [
       "[array([1.        , 0.30634228]), array([0.30634228, 1.        ])]"
      ]
     },
     "execution_count": 67,
     "metadata": {},
     "output_type": "execute_result"
    }
   ],
   "source": [
    "list(tot_pop)"
   ]
  },
  {
   "cell_type": "code",
   "execution_count": 68,
   "id": "bc66ddb2",
   "metadata": {},
   "outputs": [
    {
     "data": {
      "text/plain": [
       "[162820.0,\n",
       " 133240.0,\n",
       " 244203.0,\n",
       " 311244.0,\n",
       " 372164.0,\n",
       " 369496.0,\n",
       " 414503.0,\n",
       " 461260.0,\n",
       " 330192.0,\n",
       " 348646.0,\n",
       " 569384.0,\n",
       " 494388.0,\n",
       " 327163.0,\n",
       " 389649.0,\n",
       " 479978.0,\n",
       " 603772.0,\n",
       " 447874.0,\n",
       " 255082.0,\n",
       " 402985.0,\n",
       " 412520.0,\n",
       " 525515.0,\n",
       " 450310.0,\n",
       " 570500.0,\n",
       " 667483.0,\n",
       " 453233.0]"
      ]
     },
     "execution_count": 68,
     "metadata": {},
     "output_type": "execute_result"
    }
   ],
   "source": [
    "list(pop_seoul['인구수'])#시리즈를 리스트로 변환."
   ]
  },
  {
   "cell_type": "code",
   "execution_count": 69,
   "id": "adfd06a5",
   "metadata": {},
   "outputs": [
    {
     "data": {
      "text/plain": [
       "[0.30634227936792635, -0.28078553790050065, -0.13607432878194445]"
      ]
     },
     "execution_count": 69,
     "metadata": {},
     "output_type": "execute_result"
    }
   ],
   "source": [
    "#한국인, 외국인, 고령자수를 비교할 수 있게 그래프로 그려보세요.\n",
    "corr_3_list = [tot_corr, old_corr, out_corr] #1ndArray, Series\n",
    "corr_3_list"
   ]
  },
  {
   "cell_type": "code",
   "execution_count": 70,
   "id": "1b001967",
   "metadata": {},
   "outputs": [],
   "source": [
    "x_data = ['tot_corr', 'old_corr', 'out_corr']"
   ]
  },
  {
   "cell_type": "code",
   "execution_count": 71,
   "id": "74a20d97",
   "metadata": {},
   "outputs": [],
   "source": [
    "import matplotlib.pyplot as plt"
   ]
  },
  {
   "cell_type": "code",
   "execution_count": 72,
   "id": "a46d9c9d",
   "metadata": {},
   "outputs": [
    {
     "data": {
      "text/plain": [
       "Text(0.5, 1.0, 'correlation')"
      ]
     },
     "execution_count": 72,
     "metadata": {},
     "output_type": "execute_result"
    },
    {
     "data": {
      "image/png": "[encoded data removed]",
      "text/plain": [
       "<Figure size 432x288 with 1 Axes>"
      ]
     },
     "metadata": {
      "needs_background": "light"
     },
     "output_type": "display_data"
    }
   ],
   "source": [
    "fig = plt.plot(x_data, corr_3_list, 'ro')\n",
    "plt.title('correlation')"
   ]
  },
  {
   "cell_type": "code",
   "execution_count": 73,
   "id": "065d1926",
   "metadata": {},
   "outputs": [],
   "source": [
    "#세가지의 상관도를 그래프로 비교해보고 싶음."
   ]
  },
  {
   "cell_type": "code",
   "execution_count": 74,
   "id": "a6724cd4",
   "metadata": {},
   "outputs": [
    {
     "data": {
      "text/plain": [
       "Index(['소계', '2013년도 이전', '최근증가율', '인구수', '한국인', '외국인', '고령자', '외국인비율',\n",
       "       '고령자비율'],\n",
       "      dtype='object')"
      ]
     },
     "execution_count": 74,
     "metadata": {},
     "output_type": "execute_result"
    }
   ],
   "source": [
    "data_result.columns"
   ]
  },
  {
   "cell_type": "code",
   "execution_count": 75,
   "id": "0c80bc6e",
   "metadata": {},
   "outputs": [
    {
     "data": {
      "text/plain": [
       "Index(['강남구', '강동구', '강북구', '강서구', '관악구', '광진구', '구로구', '금천구', '노원구', '도봉구',\n",
       "       '동대문구', '동작구', '마포구', '서대문구', '서초구', '성동구', '성북구', '송파구', '양천구', '영등포구',\n",
       "       '용산구', '은평구', '종로구', '중구', '중랑구'],\n",
       "      dtype='object', name='구별')"
      ]
     },
     "execution_count": 75,
     "metadata": {},
     "output_type": "execute_result"
    }
   ],
   "source": [
    "data_result.index"
   ]
  },
  {
   "cell_type": "code",
   "execution_count": 76,
   "id": "a625444c",
   "metadata": {},
   "outputs": [
    {
     "data": {
      "text/html": [
       "<div>\n",
       "<style scoped>\n",
       "    .dataframe tbody tr th:only-of-type {\n",
       "        vertical-align: middle;\n",
       "    }\n",
       "\n",
       "    .dataframe tbody tr th {\n",
       "        vertical-align: top;\n",
       "    }\n",
       "\n",
       "    .dataframe thead th {\n",
       "        text-align: right;\n",
       "    }\n",
       "</style>\n",
       "<table border=\"1\" class=\"dataframe\">\n",
       "  <thead>\n",
       "    <tr style=\"text-align: right;\">\n",
       "      <th></th>\n",
       "      <th>소계</th>\n",
       "      <th>2013년도 이전</th>\n",
       "      <th>최근증가율</th>\n",
       "      <th>인구수</th>\n",
       "      <th>한국인</th>\n",
       "      <th>외국인</th>\n",
       "      <th>고령자</th>\n",
       "      <th>외국인비율</th>\n",
       "      <th>고령자비율</th>\n",
       "    </tr>\n",
       "    <tr>\n",
       "      <th>구별</th>\n",
       "      <th></th>\n",
       "      <th></th>\n",
       "      <th></th>\n",
       "      <th></th>\n",
       "      <th></th>\n",
       "      <th></th>\n",
       "      <th></th>\n",
       "      <th></th>\n",
       "      <th></th>\n",
       "    </tr>\n",
       "  </thead>\n",
       "  <tbody>\n",
       "    <tr>\n",
       "      <th>강남구</th>\n",
       "      <td>2780</td>\n",
       "      <td>1292</td>\n",
       "      <td>150.619195</td>\n",
       "      <td>570500.0</td>\n",
       "      <td>565550.0</td>\n",
       "      <td>4950.0</td>\n",
       "      <td>63167.0</td>\n",
       "      <td>0.86766</td>\n",
       "      <td>11.072217</td>\n",
       "    </tr>\n",
       "  </tbody>\n",
       "</table>\n",
       "</div>"
      ],
      "text/plain": [
       "       소계  2013년도 이전       최근증가율       인구수       한국인     외국인      고령자  \\\n",
       "구별                                                                      \n",
       "강남구  2780       1292  150.619195  570500.0  565550.0  4950.0  63167.0   \n",
       "\n",
       "       외국인비율      고령자비율  \n",
       "구별                       \n",
       "강남구  0.86766  11.072217  "
      ]
     },
     "execution_count": 76,
     "metadata": {},
     "output_type": "execute_result"
    }
   ],
   "source": [
    "# 강남구의 한국인, 외국인, 고령자 수를 비교할 수 있게 그래프로 그려보세요.\n",
    "kangnam = data_result[data_result.index == '강남구']\n",
    "kangnam"
   ]
  },
  {
   "cell_type": "code",
   "execution_count": 77,
   "id": "5660adbb",
   "metadata": {},
   "outputs": [],
   "source": [
    "#이거 임포트 해줘야 차트에서 오류안남. 한글파일때문에 오류나는거.\n",
    "from matplotlib import rc, font_manager\n",
    "import matplotlib.font_manager as fm\n",
    "\n",
    "# 디렉토리 및 파일 이름에 맞추어 변경\n",
    "font_location = 'C:/Windows/Fonts/malgun.ttf'#윈도우안에있는 폰트파일주소.\n",
    "\n",
    "font_name = fm.FontProperties(fname=font_location).get_name()\n",
    "rc('font', family=font_name)"
   ]
  },
  {
   "cell_type": "code",
   "execution_count": 78,
   "id": "a0e561d5",
   "metadata": {},
   "outputs": [
    {
     "data": {
      "text/plain": [
       "Text(0.5, 1.0, 'person count')"
      ]
     },
     "execution_count": 78,
     "metadata": {},
     "output_type": "execute_result"
    },
    {
     "data": {
      "image/png": "[encoded data removed]",
      "text/plain": [
       "<Figure size 432x288 with 1 Axes>"
      ]
     },
     "metadata": {
      "needs_background": "light"
     },
     "output_type": "display_data"
    }
   ],
   "source": [
    "fig = plt.plot(['한국인', '외국인', '고령자'],[565550.0,4950.0,63167.0])\n",
    "plt.title('person count')"
   ]
  },
  {
   "cell_type": "code",
   "execution_count": 79,
   "id": "f132cf70",
   "metadata": {},
   "outputs": [
    {
     "data": {
      "text/html": [
       "<div>\n",
       "<style scoped>\n",
       "    .dataframe tbody tr th:only-of-type {\n",
       "        vertical-align: middle;\n",
       "    }\n",
       "\n",
       "    .dataframe tbody tr th {\n",
       "        vertical-align: top;\n",
       "    }\n",
       "\n",
       "    .dataframe thead th {\n",
       "        text-align: right;\n",
       "    }\n",
       "</style>\n",
       "<table border=\"1\" class=\"dataframe\">\n",
       "  <thead>\n",
       "    <tr style=\"text-align: right;\">\n",
       "      <th></th>\n",
       "      <th>소계</th>\n",
       "      <th>2013년도 이전</th>\n",
       "      <th>최근증가율</th>\n",
       "      <th>인구수</th>\n",
       "      <th>한국인</th>\n",
       "      <th>외국인</th>\n",
       "      <th>고령자</th>\n",
       "      <th>외국인비율</th>\n",
       "      <th>고령자비율</th>\n",
       "    </tr>\n",
       "  </thead>\n",
       "  <tbody>\n",
       "    <tr>\n",
       "      <th>소계</th>\n",
       "      <td>1.000000</td>\n",
       "      <td>0.862756</td>\n",
       "      <td>-0.343016</td>\n",
       "      <td>0.306342</td>\n",
       "      <td>0.304287</td>\n",
       "      <td>-0.023786</td>\n",
       "      <td>0.255196</td>\n",
       "      <td>-0.136074</td>\n",
       "      <td>-0.280786</td>\n",
       "    </tr>\n",
       "    <tr>\n",
       "      <th>2013년도 이전</th>\n",
       "      <td>0.862756</td>\n",
       "      <td>1.000000</td>\n",
       "      <td>-0.652747</td>\n",
       "      <td>0.168177</td>\n",
       "      <td>0.163142</td>\n",
       "      <td>0.048973</td>\n",
       "      <td>0.105379</td>\n",
       "      <td>-0.038732</td>\n",
       "      <td>-0.257255</td>\n",
       "    </tr>\n",
       "    <tr>\n",
       "      <th>최근증가율</th>\n",
       "      <td>-0.343016</td>\n",
       "      <td>-0.652747</td>\n",
       "      <td>1.000000</td>\n",
       "      <td>-0.093068</td>\n",
       "      <td>-0.082511</td>\n",
       "      <td>-0.150463</td>\n",
       "      <td>-0.070969</td>\n",
       "      <td>-0.044042</td>\n",
       "      <td>0.185089</td>\n",
       "    </tr>\n",
       "    <tr>\n",
       "      <th>인구수</th>\n",
       "      <td>0.306342</td>\n",
       "      <td>0.168177</td>\n",
       "      <td>-0.093068</td>\n",
       "      <td>1.000000</td>\n",
       "      <td>0.998061</td>\n",
       "      <td>-0.153371</td>\n",
       "      <td>0.932667</td>\n",
       "      <td>-0.591939</td>\n",
       "      <td>-0.669462</td>\n",
       "    </tr>\n",
       "    <tr>\n",
       "      <th>한국인</th>\n",
       "      <td>0.304287</td>\n",
       "      <td>0.163142</td>\n",
       "      <td>-0.082511</td>\n",
       "      <td>0.998061</td>\n",
       "      <td>1.000000</td>\n",
       "      <td>-0.214576</td>\n",
       "      <td>0.931636</td>\n",
       "      <td>-0.637911</td>\n",
       "      <td>-0.660812</td>\n",
       "    </tr>\n",
       "    <tr>\n",
       "      <th>외국인</th>\n",
       "      <td>-0.023786</td>\n",
       "      <td>0.048973</td>\n",
       "      <td>-0.150463</td>\n",
       "      <td>-0.153371</td>\n",
       "      <td>-0.214576</td>\n",
       "      <td>1.000000</td>\n",
       "      <td>-0.155381</td>\n",
       "      <td>0.838904</td>\n",
       "      <td>-0.014055</td>\n",
       "    </tr>\n",
       "    <tr>\n",
       "      <th>고령자</th>\n",
       "      <td>0.255196</td>\n",
       "      <td>0.105379</td>\n",
       "      <td>-0.070969</td>\n",
       "      <td>0.932667</td>\n",
       "      <td>0.931636</td>\n",
       "      <td>-0.155381</td>\n",
       "      <td>1.000000</td>\n",
       "      <td>-0.606088</td>\n",
       "      <td>-0.380468</td>\n",
       "    </tr>\n",
       "    <tr>\n",
       "      <th>외국인비율</th>\n",
       "      <td>-0.136074</td>\n",
       "      <td>-0.038732</td>\n",
       "      <td>-0.044042</td>\n",
       "      <td>-0.591939</td>\n",
       "      <td>-0.637911</td>\n",
       "      <td>0.838904</td>\n",
       "      <td>-0.606088</td>\n",
       "      <td>1.000000</td>\n",
       "      <td>0.267348</td>\n",
       "    </tr>\n",
       "    <tr>\n",
       "      <th>고령자비율</th>\n",
       "      <td>-0.280786</td>\n",
       "      <td>-0.257255</td>\n",
       "      <td>0.185089</td>\n",
       "      <td>-0.669462</td>\n",
       "      <td>-0.660812</td>\n",
       "      <td>-0.014055</td>\n",
       "      <td>-0.380468</td>\n",
       "      <td>0.267348</td>\n",
       "      <td>1.000000</td>\n",
       "    </tr>\n",
       "  </tbody>\n",
       "</table>\n",
       "</div>"
      ],
      "text/plain": [
       "                 소계  2013년도 이전     최근증가율       인구수       한국인       외국인  \\\n",
       "소계         1.000000   0.862756 -0.343016  0.306342  0.304287 -0.023786   \n",
       "2013년도 이전  0.862756   1.000000 -0.652747  0.168177  0.163142  0.048973   \n",
       "최근증가율     -0.343016  -0.652747  1.000000 -0.093068 -0.082511 -0.150463   \n",
       "인구수        0.306342   0.168177 -0.093068  1.000000  0.998061 -0.153371   \n",
       "한국인        0.304287   0.163142 -0.082511  0.998061  1.000000 -0.214576   \n",
       "외국인       -0.023786   0.048973 -0.150463 -0.153371 -0.214576  1.000000   \n",
       "고령자        0.255196   0.105379 -0.070969  0.932667  0.931636 -0.155381   \n",
       "외국인비율     -0.136074  -0.038732 -0.044042 -0.591939 -0.637911  0.838904   \n",
       "고령자비율     -0.280786  -0.257255  0.185089 -0.669462 -0.660812 -0.014055   \n",
       "\n",
       "                고령자     외국인비율     고령자비율  \n",
       "소계         0.255196 -0.136074 -0.280786  \n",
       "2013년도 이전  0.105379 -0.038732 -0.257255  \n",
       "최근증가율     -0.070969 -0.044042  0.185089  \n",
       "인구수        0.932667 -0.591939 -0.669462  \n",
       "한국인        0.931636 -0.637911 -0.660812  \n",
       "외국인       -0.155381  0.838904 -0.014055  \n",
       "고령자        1.000000 -0.606088 -0.380468  \n",
       "외국인비율     -0.606088  1.000000  0.267348  \n",
       "고령자비율     -0.380468  0.267348  1.000000  "
      ]
     },
     "execution_count": 79,
     "metadata": {},
     "output_type": "execute_result"
    }
   ],
   "source": [
    "#최근증가율과 소계의 상관관계\n",
    "dr_corr = data_result.corr()\n",
    "dr_corr"
   ]
  },
  {
   "cell_type": "code",
   "execution_count": 80,
   "id": "326e6b0a",
   "metadata": {},
   "outputs": [],
   "source": [
    "#heapmap, pairplot"
   ]
  },
  {
   "cell_type": "code",
   "execution_count": 81,
   "id": "fe0d5619",
   "metadata": {},
   "outputs": [
    {
     "data": {
      "text/plain": [
       "Index(['소계', '2013년도 이전', '최근증가율', '인구수', '한국인', '외국인', '고령자', '외국인비율',\n",
       "       '고령자비율'],\n",
       "      dtype='object')"
      ]
     },
     "execution_count": 81,
     "metadata": {},
     "output_type": "execute_result"
    }
   ],
   "source": [
    "data_result.columns"
   ]
  },
  {
   "cell_type": "code",
   "execution_count": 82,
   "id": "aa60e295",
   "metadata": {},
   "outputs": [],
   "source": [
    "import seaborn as sns\n",
    "cols = data_result.columns"
   ]
  },
  {
   "cell_type": "code",
   "execution_count": 83,
   "id": "5c553977",
   "metadata": {},
   "outputs": [
    {
     "name": "stderr",
     "output_type": "stream",
     "text": [
      "C:\\Users\\aaa77\\anaconda3\\lib\\site-packages\\matplotlib\\backends\\backend_agg.py:240: RuntimeWarning: Glyph 8722 missing from current font.\n",
      "  font.set_text(s, 0.0, flags=flags)\n",
      "C:\\Users\\aaa77\\anaconda3\\lib\\site-packages\\matplotlib\\backends\\backend_agg.py:203: RuntimeWarning: Glyph 8722 missing from current font.\n",
      "  font.set_text(s, 0, flags=flags)\n"
     ]
    },
    {
     "data": {
      "text/plain": [
       "<AxesSubplot:>"
      ]
     },
     "execution_count": 83,
     "metadata": {},
     "output_type": "execute_result"
    },
    {
     "data": {
      "image/png": "[encoded data removed]",
      "text/plain": [
       "<Figure size 432x288 with 2 Axes>"
      ]
     },
     "metadata": {
      "needs_background": "light"
     },
     "output_type": "display_data"
    }
   ],
   "source": [
    "sns.heatmap(dr_corr.values,\n",
    "            cbar = True,\n",
    "            annot= True,\n",
    "            square=True, \n",
    "            fmt = '.2f',\n",
    "            xticklabels=cols,\n",
    "            yticklabels=cols\n",
    "           )"
   ]
  },
  {
   "cell_type": "code",
   "execution_count": null,
   "id": "9824f61b",
   "metadata": {},
   "outputs": [],
   "source": [
    "sns.pairplot(data_result, height=2.5)\n",
    "plt.show()"
   ]
  },
  {
   "cell_type": "code",
   "execution_count": null,
   "id": "c611d706",
   "metadata": {},
   "outputs": [],
   "source": [
    "data_result['소계'].sort_values().plot(kind = 'bar'\n",
    "                    ,grid=True, figsize=(10,10))\n",
    "                         "
   ]
  },
  {
   "cell_type": "code",
   "execution_count": null,
   "id": "524f6104",
   "metadata": {},
   "outputs": [],
   "source": [
    "#인구당 cctv비율을 구해서 정렬 후, 그래프를 그려보세요\n",
    "#인구당 cctv비율을 파생변수로 만들어두시고,\n",
    "#파생변수로 정렬하여, 그래프를 그리세요!\n",
    "data_result['cctv비율'] = data_result['소계']/data_result['인구수']*100\n",
    "data_result['cctv비율'].sort_values().plot(kind= 'barh'\n",
    "                    ,grid=True, figsize=(10,10))"
   ]
  },
  {
   "cell_type": "code",
   "execution_count": null,
   "id": "775462ff",
   "metadata": {},
   "outputs": [],
   "source": [
    "#산점도\n",
    "plt.scatter(data_result[\"인구수\"],data_result['소계'], s=50, c='pink')#s는 점의 크기\n",
    "plt.text(400000, 2500,'야야야')"
   ]
  },
  {
   "cell_type": "code",
   "execution_count": null,
   "id": "16df3d54",
   "metadata": {},
   "outputs": [],
   "source": [
    "##x,y축으로 사용할 데이터를 주고, 1차 방정식으로 표현했을 때\n",
    "##기울기와 y절편을 구해주세요.polyfit()\n",
    "pf1 = np.polyfit(data_result['인구수'],data_result['소계'],1)#이 둘의 적힙한 1차 방정식을 찾는 방법(polyfit)\n",
    "pf1#기울기와 y절편이 나옴"
   ]
  },
  {
   "cell_type": "code",
   "execution_count": null,
   "id": "910fe32f",
   "metadata": {},
   "outputs": [],
   "source": [
    "#위에서 구한 기울기와 절편으로 함수를 만들어주세요!\n",
    "f1 = np.poly1d(pf1)\n",
    "f1"
   ]
  },
  {
   "cell_type": "code",
   "execution_count": null,
   "id": "fc10b885",
   "metadata": {},
   "outputs": [],
   "source": [
    "fx = np.linspace(100000, 700000, 100)\n",
    "fx[:5]"
   ]
  },
  {
   "cell_type": "code",
   "execution_count": null,
   "id": "809a301d",
   "metadata": {},
   "outputs": [],
   "source": [
    "plt.scatter(data_result[\"인구수\"],data_result['소계'], s=50, c='pink')#s는 점의 크기\n",
    "plt.plot(fx,f1(fx),ls='dashed',lw=3,color='b')#회귀선:예측판단을 하는 선\n",
    "for n in range(10):\n",
    "    plt.text(data_result['인구수'][n],#글자가 쓰여질 x축 좌표\n",
    "            data_result['소계'][n],#그자가 쓰여질 y축 좌표\n",
    "            data_result.index[n],#쓰여질 글자\n",
    "            fontsize=10)\n",
    "# plt.text(400000, 2500,'야야야')"
   ]
  },
  {
   "cell_type": "code",
   "execution_count": null,
   "id": "48548b24",
   "metadata": {},
   "outputs": [],
   "source": [
    "#판단선(회귀선):예측과 분류의 기준이 되는 선!\n",
    "#판단선은 방정식,1차 방정식이라고 한다면 기울기와 절편이 필요"
   ]
  },
  {
   "cell_type": "code",
   "execution_count": null,
   "id": "9e0dfcaa",
   "metadata": {},
   "outputs": [],
   "source": [
    "#위 그래프는 무엇을 나타내는가?\n",
    "#인구수 대비(x축) cctv의 개수를 보여준다.\n",
    "#관계성이 있다는 것을 그래프를 보고 알 수 있다.\n",
    "\n",
    "#cctv를 어느 구에 설치해야하는가?\n",
    "#판단선: 인구수에 적절한 cctv수를 판단하는 선\n",
    "# 판단선 위에 위치한 구는 이미 인구수에 비해 cctv가 많이 설치된 구\n",
    "# 판단선 아래에 위치한 구는 인구수에 비해 cctv가 설치가 부족한 구\n",
    "# 판단선 아래에 있는 구에 cctv를 설치를 하자.\n",
    "# 판단선과 점 사이의 오차가 큰 순으로 먼저 선별\n",
    "#강북구,광진구,도봉구,강동구,강서구 등 cctv더 설치해야함\n",
    "\n",
    "\n",
    "#판단기준: 인구수와 cctv와 관련이 있다라는 기준.\n",
    "\n"
   ]
  },
  {
   "cell_type": "code",
   "execution_count": null,
   "id": "41bcd9d9",
   "metadata": {},
   "outputs": [],
   "source": [
    "# 판단선과 점 사이의 오차가 큰 순으로 먼저 선별\n",
    "#판단선의 값들이 필요=> f1(data_result['인구수'])\n",
    "#현재 값들이 필요=> data_result['소계']\n",
    "data_result['오차'] = np.abs(data_result['소계']-f1(data_result['인구수']))\n",
    "df_sort = data_result.sort_values(by='오차',ascending=False)\n",
    "df_sort.head()"
   ]
  },
  {
   "cell_type": "code",
   "execution_count": null,
   "id": "149a2a8e",
   "metadata": {},
   "outputs": [],
   "source": [
    "plt.scatter(data_result[\"인구수\"],data_result['소계'], s=50, c='pink')#s는 점의 크기\n",
    "plt.plot(fx,f1(fx),ls='dashed',lw=3,color='b')#회귀선:예측판단을 하는 선\n",
    "for n in range(10):\n",
    "    plt.text(data_result['인구수'][n],#글자가 쓰여질 x축 좌표\n",
    "            data_result['소계'][n],#그자가 쓰여질 y축 좌표\n",
    "            data_result.index[n],#쓰여질 글자\n",
    "            fontsize=10)\n",
    "# plt.text(400000, 2500,'야야야')"
   ]
  },
  {
   "cell_type": "code",
   "execution_count": null,
   "id": "d898d2de",
   "metadata": {},
   "outputs": [],
   "source": [
    "crime_seoul = pd.read_csv('cctv_data_collect/crime_seoul_2.csv',encoding='euc-kr')#윈도우에서 연거라euc-kr로 열어야함\n",
    "crime_seoul.head()"
   ]
  },
  {
   "cell_type": "code",
   "execution_count": null,
   "id": "8f65217c",
   "metadata": {},
   "outputs": [],
   "source": [
    "#cctv와 범죄율 데이터를 가지고 다양한 데이터분석을 해보세요\n",
    "#10개이상!"
   ]
  },
  {
   "cell_type": "code",
   "execution_count": null,
   "id": "e4ff6a4c",
   "metadata": {},
   "outputs": [],
   "source": [
    "#1. 구별 폭력 발생, 폭력 검거 구하기\n",
    "#2. 위 두 컬럼을 heatmap이랑 pairplot그리기. \n",
    "#3.5대 범죄의 평균\n",
    "#각 범죄가 많은 구 로 정렬\n",
    "#merge이용해서 아까했던 cctv데이터프레임이랑 합쳐보기\n"
   ]
  },
  {
   "cell_type": "code",
   "execution_count": 120,
   "id": "3c0fcae0",
   "metadata": {},
   "outputs": [
    {
     "data": {
      "text/plain": [
       "array(['중구', '종로구', '서대문구', '용산구', '성북구', '동대문구', '마포구', '영등포구', '성동구',\n",
       "       '동작구', '광진구', '은평구', '강북구', '금천구', '중랑구', '강남구', '관악구', '강서구',\n",
       "       '강동구', '구로구', '서초구', '양천구', '송파구', '노원구', '도봉구'], dtype=object)"
      ]
     },
     "execution_count": 120,
     "metadata": {},
     "output_type": "execute_result"
    }
   ],
   "source": [
    "crime_seoul['구별'].unique()"
   ]
  },
  {
   "cell_type": "code",
   "execution_count": 121,
   "id": "8f1ba967",
   "metadata": {},
   "outputs": [
    {
     "data": {
      "text/plain": [
       "25"
      ]
     },
     "execution_count": 121,
     "metadata": {},
     "output_type": "execute_result"
    }
   ],
   "source": [
    "len(crime_seoul['구별'].unique())"
   ]
  },
  {
   "cell_type": "code",
   "execution_count": 122,
   "id": "668e16fb",
   "metadata": {},
   "outputs": [
    {
     "data": {
      "text/plain": [
       "(31, 6)"
      ]
     },
     "execution_count": 122,
     "metadata": {},
     "output_type": "execute_result"
    }
   ],
   "source": [
    "crime_seoul.shape"
   ]
  },
  {
   "cell_type": "code",
   "execution_count": 123,
   "id": "ca6e76e1",
   "metadata": {},
   "outputs": [
    {
     "data": {
      "text/html": [
       "<div>\n",
       "<style scoped>\n",
       "    .dataframe tbody tr th:only-of-type {\n",
       "        vertical-align: middle;\n",
       "    }\n",
       "\n",
       "    .dataframe tbody tr th {\n",
       "        vertical-align: top;\n",
       "    }\n",
       "\n",
       "    .dataframe thead th {\n",
       "        text-align: right;\n",
       "    }\n",
       "</style>\n",
       "<table border=\"1\" class=\"dataframe\">\n",
       "  <thead>\n",
       "    <tr style=\"text-align: right;\">\n",
       "      <th></th>\n",
       "      <th>강간 발생</th>\n",
       "      <th>강도 발생</th>\n",
       "      <th>살인 발생</th>\n",
       "      <th>절도 발생</th>\n",
       "      <th>폭력 발생</th>\n",
       "    </tr>\n",
       "    <tr>\n",
       "      <th>구별</th>\n",
       "      <th></th>\n",
       "      <th></th>\n",
       "      <th></th>\n",
       "      <th></th>\n",
       "      <th></th>\n",
       "    </tr>\n",
       "  </thead>\n",
       "  <tbody>\n",
       "    <tr>\n",
       "      <th>강남구</th>\n",
       "      <td>449</td>\n",
       "      <td>21</td>\n",
       "      <td>13</td>\n",
       "      <td>3850</td>\n",
       "      <td>4284</td>\n",
       "    </tr>\n",
       "    <tr>\n",
       "      <th>강동구</th>\n",
       "      <td>156</td>\n",
       "      <td>6</td>\n",
       "      <td>4</td>\n",
       "      <td>2366</td>\n",
       "      <td>2712</td>\n",
       "    </tr>\n",
       "    <tr>\n",
       "      <th>강북구</th>\n",
       "      <td>153</td>\n",
       "      <td>14</td>\n",
       "      <td>7</td>\n",
       "      <td>1434</td>\n",
       "      <td>2649</td>\n",
       "    </tr>\n",
       "    <tr>\n",
       "      <th>강서구</th>\n",
       "      <td>262</td>\n",
       "      <td>13</td>\n",
       "      <td>7</td>\n",
       "      <td>2096</td>\n",
       "      <td>3207</td>\n",
       "    </tr>\n",
       "    <tr>\n",
       "      <th>관악구</th>\n",
       "      <td>320</td>\n",
       "      <td>12</td>\n",
       "      <td>9</td>\n",
       "      <td>2706</td>\n",
       "      <td>3298</td>\n",
       "    </tr>\n",
       "    <tr>\n",
       "      <th>광진구</th>\n",
       "      <td>240</td>\n",
       "      <td>14</td>\n",
       "      <td>4</td>\n",
       "      <td>3026</td>\n",
       "      <td>2625</td>\n",
       "    </tr>\n",
       "    <tr>\n",
       "      <th>구로구</th>\n",
       "      <td>281</td>\n",
       "      <td>15</td>\n",
       "      <td>8</td>\n",
       "      <td>2335</td>\n",
       "      <td>3007</td>\n",
       "    </tr>\n",
       "    <tr>\n",
       "      <th>금천구</th>\n",
       "      <td>151</td>\n",
       "      <td>6</td>\n",
       "      <td>3</td>\n",
       "      <td>1567</td>\n",
       "      <td>2054</td>\n",
       "    </tr>\n",
       "    <tr>\n",
       "      <th>노원구</th>\n",
       "      <td>197</td>\n",
       "      <td>7</td>\n",
       "      <td>10</td>\n",
       "      <td>2193</td>\n",
       "      <td>2723</td>\n",
       "    </tr>\n",
       "    <tr>\n",
       "      <th>도봉구</th>\n",
       "      <td>102</td>\n",
       "      <td>9</td>\n",
       "      <td>3</td>\n",
       "      <td>1063</td>\n",
       "      <td>1487</td>\n",
       "    </tr>\n",
       "    <tr>\n",
       "      <th>동대문구</th>\n",
       "      <td>173</td>\n",
       "      <td>13</td>\n",
       "      <td>5</td>\n",
       "      <td>1981</td>\n",
       "      <td>2548</td>\n",
       "    </tr>\n",
       "    <tr>\n",
       "      <th>동작구</th>\n",
       "      <td>285</td>\n",
       "      <td>9</td>\n",
       "      <td>5</td>\n",
       "      <td>1865</td>\n",
       "      <td>1910</td>\n",
       "    </tr>\n",
       "    <tr>\n",
       "      <th>마포구</th>\n",
       "      <td>294</td>\n",
       "      <td>14</td>\n",
       "      <td>8</td>\n",
       "      <td>2555</td>\n",
       "      <td>2983</td>\n",
       "    </tr>\n",
       "    <tr>\n",
       "      <th>서대문구</th>\n",
       "      <td>154</td>\n",
       "      <td>5</td>\n",
       "      <td>2</td>\n",
       "      <td>1812</td>\n",
       "      <td>2056</td>\n",
       "    </tr>\n",
       "    <tr>\n",
       "      <th>서초구</th>\n",
       "      <td>393</td>\n",
       "      <td>9</td>\n",
       "      <td>8</td>\n",
       "      <td>2635</td>\n",
       "      <td>2399</td>\n",
       "    </tr>\n",
       "    <tr>\n",
       "      <th>성동구</th>\n",
       "      <td>126</td>\n",
       "      <td>9</td>\n",
       "      <td>4</td>\n",
       "      <td>1607</td>\n",
       "      <td>1612</td>\n",
       "    </tr>\n",
       "    <tr>\n",
       "      <th>성북구</th>\n",
       "      <td>150</td>\n",
       "      <td>5</td>\n",
       "      <td>5</td>\n",
       "      <td>1785</td>\n",
       "      <td>2209</td>\n",
       "    </tr>\n",
       "    <tr>\n",
       "      <th>송파구</th>\n",
       "      <td>220</td>\n",
       "      <td>13</td>\n",
       "      <td>11</td>\n",
       "      <td>3239</td>\n",
       "      <td>3295</td>\n",
       "    </tr>\n",
       "    <tr>\n",
       "      <th>양천구</th>\n",
       "      <td>120</td>\n",
       "      <td>6</td>\n",
       "      <td>3</td>\n",
       "      <td>1890</td>\n",
       "      <td>2509</td>\n",
       "    </tr>\n",
       "    <tr>\n",
       "      <th>영등포구</th>\n",
       "      <td>295</td>\n",
       "      <td>22</td>\n",
       "      <td>14</td>\n",
       "      <td>2964</td>\n",
       "      <td>3572</td>\n",
       "    </tr>\n",
       "    <tr>\n",
       "      <th>용산구</th>\n",
       "      <td>194</td>\n",
       "      <td>14</td>\n",
       "      <td>5</td>\n",
       "      <td>1557</td>\n",
       "      <td>2050</td>\n",
       "    </tr>\n",
       "    <tr>\n",
       "      <th>은평구</th>\n",
       "      <td>166</td>\n",
       "      <td>9</td>\n",
       "      <td>3</td>\n",
       "      <td>1914</td>\n",
       "      <td>2653</td>\n",
       "    </tr>\n",
       "    <tr>\n",
       "      <th>종로구</th>\n",
       "      <td>211</td>\n",
       "      <td>11</td>\n",
       "      <td>6</td>\n",
       "      <td>2184</td>\n",
       "      <td>2293</td>\n",
       "    </tr>\n",
       "    <tr>\n",
       "      <th>중구</th>\n",
       "      <td>170</td>\n",
       "      <td>9</td>\n",
       "      <td>3</td>\n",
       "      <td>2548</td>\n",
       "      <td>2224</td>\n",
       "    </tr>\n",
       "    <tr>\n",
       "      <th>중랑구</th>\n",
       "      <td>187</td>\n",
       "      <td>11</td>\n",
       "      <td>13</td>\n",
       "      <td>2135</td>\n",
       "      <td>2847</td>\n",
       "    </tr>\n",
       "  </tbody>\n",
       "</table>\n",
       "</div>"
      ],
      "text/plain": [
       "      강간 발생  강도 발생  살인 발생  절도 발생  폭력 발생\n",
       "구별                                     \n",
       "강남구     449     21     13   3850   4284\n",
       "강동구     156      6      4   2366   2712\n",
       "강북구     153     14      7   1434   2649\n",
       "강서구     262     13      7   2096   3207\n",
       "관악구     320     12      9   2706   3298\n",
       "광진구     240     14      4   3026   2625\n",
       "구로구     281     15      8   2335   3007\n",
       "금천구     151      6      3   1567   2054\n",
       "노원구     197      7     10   2193   2723\n",
       "도봉구     102      9      3   1063   1487\n",
       "동대문구    173     13      5   1981   2548\n",
       "동작구     285      9      5   1865   1910\n",
       "마포구     294     14      8   2555   2983\n",
       "서대문구    154      5      2   1812   2056\n",
       "서초구     393      9      8   2635   2399\n",
       "성동구     126      9      4   1607   1612\n",
       "성북구     150      5      5   1785   2209\n",
       "송파구     220     13     11   3239   3295\n",
       "양천구     120      6      3   1890   2509\n",
       "영등포구    295     22     14   2964   3572\n",
       "용산구     194     14      5   1557   2050\n",
       "은평구     166      9      3   1914   2653\n",
       "종로구     211     11      6   2184   2293\n",
       "중구      170      9      3   2548   2224\n",
       "중랑구     187     11     13   2135   2847"
      ]
     },
     "execution_count": 123,
     "metadata": {},
     "output_type": "execute_result"
    }
   ],
   "source": [
    "crime_seoul2 = pd.pivot_table(crime_seoul,index='구별',aggfunc=np.sum)#그룹별로 중복된 구를 더해서 테이들 생성\n",
    "crime_seoul2"
   ]
  },
  {
   "cell_type": "code",
   "execution_count": 124,
   "id": "4d570aa9",
   "metadata": {},
   "outputs": [
    {
     "data": {
      "text/plain": [
       "25"
      ]
     },
     "execution_count": 124,
     "metadata": {},
     "output_type": "execute_result"
    }
   ],
   "source": [
    "len(crime_seoul2.index)"
   ]
  },
  {
   "cell_type": "code",
   "execution_count": 125,
   "id": "c539b5ee",
   "metadata": {},
   "outputs": [
    {
     "data": {
      "text/html": [
       "<div>\n",
       "<style scoped>\n",
       "    .dataframe tbody tr th:only-of-type {\n",
       "        vertical-align: middle;\n",
       "    }\n",
       "\n",
       "    .dataframe tbody tr th {\n",
       "        vertical-align: top;\n",
       "    }\n",
       "\n",
       "    .dataframe thead th {\n",
       "        text-align: right;\n",
       "    }\n",
       "</style>\n",
       "<table border=\"1\" class=\"dataframe\">\n",
       "  <thead>\n",
       "    <tr style=\"text-align: right;\">\n",
       "      <th></th>\n",
       "      <th>구별</th>\n",
       "      <th>소계</th>\n",
       "      <th>2013년도 이전</th>\n",
       "      <th>2014년</th>\n",
       "      <th>2015년</th>\n",
       "      <th>2016년</th>\n",
       "      <th>최근증가율</th>\n",
       "      <th>강간 발생</th>\n",
       "      <th>강도 발생</th>\n",
       "      <th>살인 발생</th>\n",
       "      <th>절도 발생</th>\n",
       "      <th>폭력 발생</th>\n",
       "    </tr>\n",
       "  </thead>\n",
       "  <tbody>\n",
       "    <tr>\n",
       "      <th>0</th>\n",
       "      <td>강남구</td>\n",
       "      <td>2780</td>\n",
       "      <td>1292</td>\n",
       "      <td>430</td>\n",
       "      <td>584</td>\n",
       "      <td>932</td>\n",
       "      <td>150.619195</td>\n",
       "      <td>449</td>\n",
       "      <td>21</td>\n",
       "      <td>13</td>\n",
       "      <td>3850</td>\n",
       "      <td>4284</td>\n",
       "    </tr>\n",
       "    <tr>\n",
       "      <th>1</th>\n",
       "      <td>강동구</td>\n",
       "      <td>773</td>\n",
       "      <td>379</td>\n",
       "      <td>99</td>\n",
       "      <td>155</td>\n",
       "      <td>377</td>\n",
       "      <td>166.490765</td>\n",
       "      <td>156</td>\n",
       "      <td>6</td>\n",
       "      <td>4</td>\n",
       "      <td>2366</td>\n",
       "      <td>2712</td>\n",
       "    </tr>\n",
       "    <tr>\n",
       "      <th>2</th>\n",
       "      <td>강북구</td>\n",
       "      <td>748</td>\n",
       "      <td>369</td>\n",
       "      <td>120</td>\n",
       "      <td>138</td>\n",
       "      <td>204</td>\n",
       "      <td>125.203252</td>\n",
       "      <td>153</td>\n",
       "      <td>14</td>\n",
       "      <td>7</td>\n",
       "      <td>1434</td>\n",
       "      <td>2649</td>\n",
       "    </tr>\n",
       "    <tr>\n",
       "      <th>3</th>\n",
       "      <td>강서구</td>\n",
       "      <td>884</td>\n",
       "      <td>388</td>\n",
       "      <td>258</td>\n",
       "      <td>184</td>\n",
       "      <td>81</td>\n",
       "      <td>134.793814</td>\n",
       "      <td>262</td>\n",
       "      <td>13</td>\n",
       "      <td>7</td>\n",
       "      <td>2096</td>\n",
       "      <td>3207</td>\n",
       "    </tr>\n",
       "    <tr>\n",
       "      <th>4</th>\n",
       "      <td>관악구</td>\n",
       "      <td>1496</td>\n",
       "      <td>846</td>\n",
       "      <td>260</td>\n",
       "      <td>390</td>\n",
       "      <td>613</td>\n",
       "      <td>149.290780</td>\n",
       "      <td>320</td>\n",
       "      <td>12</td>\n",
       "      <td>9</td>\n",
       "      <td>2706</td>\n",
       "      <td>3298</td>\n",
       "    </tr>\n",
       "  </tbody>\n",
       "</table>\n",
       "</div>"
      ],
      "text/plain": [
       "    구별    소계  2013년도 이전  2014년  2015년  2016년       최근증가율  강간 발생  강도 발생  살인 발생  \\\n",
       "0  강남구  2780       1292    430    584    932  150.619195    449     21     13   \n",
       "1  강동구   773        379     99    155    377  166.490765    156      6      4   \n",
       "2  강북구   748        369    120    138    204  125.203252    153     14      7   \n",
       "3  강서구   884        388    258    184     81  134.793814    262     13      7   \n",
       "4  관악구  1496        846    260    390    613  149.290780    320     12      9   \n",
       "\n",
       "   절도 발생  폭력 발생  \n",
       "0   3850   4284  \n",
       "1   2366   2712  \n",
       "2   1434   2649  \n",
       "3   2096   3207  \n",
       "4   2706   3298  "
      ]
     },
     "execution_count": 125,
     "metadata": {},
     "output_type": "execute_result"
    }
   ],
   "source": [
    "data_result.head()"
   ]
  },
  {
   "cell_type": "code",
   "execution_count": 126,
   "id": "a8ee9a60",
   "metadata": {},
   "outputs": [],
   "source": [
    "data_result.to_csv('cctv+pop+data_result.csv',encoding='utf8')"
   ]
  },
  {
   "cell_type": "code",
   "execution_count": 127,
   "id": "b694a981",
   "metadata": {},
   "outputs": [
    {
     "data": {
      "text/html": [
       "<div>\n",
       "<style scoped>\n",
       "    .dataframe tbody tr th:only-of-type {\n",
       "        vertical-align: middle;\n",
       "    }\n",
       "\n",
       "    .dataframe tbody tr th {\n",
       "        vertical-align: top;\n",
       "    }\n",
       "\n",
       "    .dataframe thead th {\n",
       "        text-align: right;\n",
       "    }\n",
       "</style>\n",
       "<table border=\"1\" class=\"dataframe\">\n",
       "  <thead>\n",
       "    <tr style=\"text-align: right;\">\n",
       "      <th></th>\n",
       "      <th>Unnamed: 0</th>\n",
       "      <th>구별</th>\n",
       "      <th>소계</th>\n",
       "      <th>2013년도 이전</th>\n",
       "      <th>2014년</th>\n",
       "      <th>2015년</th>\n",
       "      <th>2016년</th>\n",
       "      <th>최근증가율</th>\n",
       "      <th>강간 발생</th>\n",
       "      <th>강도 발생</th>\n",
       "      <th>살인 발생</th>\n",
       "      <th>절도 발생</th>\n",
       "      <th>폭력 발생</th>\n",
       "    </tr>\n",
       "  </thead>\n",
       "  <tbody>\n",
       "    <tr>\n",
       "      <th>0</th>\n",
       "      <td>0</td>\n",
       "      <td>강남구</td>\n",
       "      <td>2780</td>\n",
       "      <td>1292</td>\n",
       "      <td>430</td>\n",
       "      <td>584</td>\n",
       "      <td>932</td>\n",
       "      <td>150.619195</td>\n",
       "      <td>449</td>\n",
       "      <td>21</td>\n",
       "      <td>13</td>\n",
       "      <td>3850</td>\n",
       "      <td>4284</td>\n",
       "    </tr>\n",
       "    <tr>\n",
       "      <th>1</th>\n",
       "      <td>1</td>\n",
       "      <td>강동구</td>\n",
       "      <td>773</td>\n",
       "      <td>379</td>\n",
       "      <td>99</td>\n",
       "      <td>155</td>\n",
       "      <td>377</td>\n",
       "      <td>166.490765</td>\n",
       "      <td>156</td>\n",
       "      <td>6</td>\n",
       "      <td>4</td>\n",
       "      <td>2366</td>\n",
       "      <td>2712</td>\n",
       "    </tr>\n",
       "    <tr>\n",
       "      <th>2</th>\n",
       "      <td>2</td>\n",
       "      <td>강북구</td>\n",
       "      <td>748</td>\n",
       "      <td>369</td>\n",
       "      <td>120</td>\n",
       "      <td>138</td>\n",
       "      <td>204</td>\n",
       "      <td>125.203252</td>\n",
       "      <td>153</td>\n",
       "      <td>14</td>\n",
       "      <td>7</td>\n",
       "      <td>1434</td>\n",
       "      <td>2649</td>\n",
       "    </tr>\n",
       "    <tr>\n",
       "      <th>3</th>\n",
       "      <td>3</td>\n",
       "      <td>강서구</td>\n",
       "      <td>884</td>\n",
       "      <td>388</td>\n",
       "      <td>258</td>\n",
       "      <td>184</td>\n",
       "      <td>81</td>\n",
       "      <td>134.793814</td>\n",
       "      <td>262</td>\n",
       "      <td>13</td>\n",
       "      <td>7</td>\n",
       "      <td>2096</td>\n",
       "      <td>3207</td>\n",
       "    </tr>\n",
       "    <tr>\n",
       "      <th>4</th>\n",
       "      <td>4</td>\n",
       "      <td>관악구</td>\n",
       "      <td>1496</td>\n",
       "      <td>846</td>\n",
       "      <td>260</td>\n",
       "      <td>390</td>\n",
       "      <td>613</td>\n",
       "      <td>149.290780</td>\n",
       "      <td>320</td>\n",
       "      <td>12</td>\n",
       "      <td>9</td>\n",
       "      <td>2706</td>\n",
       "      <td>3298</td>\n",
       "    </tr>\n",
       "  </tbody>\n",
       "</table>\n",
       "</div>"
      ],
      "text/plain": [
       "   Unnamed: 0   구별    소계  2013년도 이전  2014년  2015년  2016년       최근증가율  강간 발생  \\\n",
       "0           0  강남구  2780       1292    430    584    932  150.619195    449   \n",
       "1           1  강동구   773        379     99    155    377  166.490765    156   \n",
       "2           2  강북구   748        369    120    138    204  125.203252    153   \n",
       "3           3  강서구   884        388    258    184     81  134.793814    262   \n",
       "4           4  관악구  1496        846    260    390    613  149.290780    320   \n",
       "\n",
       "   강도 발생  살인 발생  절도 발생  폭력 발생  \n",
       "0     21     13   3850   4284  \n",
       "1      6      4   2366   2712  \n",
       "2     14      7   1434   2649  \n",
       "3     13      7   2096   3207  \n",
       "4     12      9   2706   3298  "
      ]
     },
     "execution_count": 127,
     "metadata": {},
     "output_type": "execute_result"
    }
   ],
   "source": [
    "cctv_pop_data_result = pd.read_csv('cctv+pop+data_result.csv',encoding='utf8')\n",
    "cctv_pop_data_result.head()"
   ]
  },
  {
   "cell_type": "code",
   "execution_count": 128,
   "id": "66f5b912",
   "metadata": {},
   "outputs": [
    {
     "data": {
      "text/html": [
       "<div>\n",
       "<style scoped>\n",
       "    .dataframe tbody tr th:only-of-type {\n",
       "        vertical-align: middle;\n",
       "    }\n",
       "\n",
       "    .dataframe tbody tr th {\n",
       "        vertical-align: top;\n",
       "    }\n",
       "\n",
       "    .dataframe thead th {\n",
       "        text-align: right;\n",
       "    }\n",
       "</style>\n",
       "<table border=\"1\" class=\"dataframe\">\n",
       "  <thead>\n",
       "    <tr style=\"text-align: right;\">\n",
       "      <th></th>\n",
       "      <th>Unnamed: 0</th>\n",
       "      <th>구별</th>\n",
       "      <th>cctv개수</th>\n",
       "      <th>2013년도 이전</th>\n",
       "      <th>2014년</th>\n",
       "      <th>2015년</th>\n",
       "      <th>2016년</th>\n",
       "      <th>최근증가율</th>\n",
       "      <th>강간 발생</th>\n",
       "      <th>강도 발생</th>\n",
       "      <th>살인 발생</th>\n",
       "      <th>절도 발생</th>\n",
       "      <th>폭력 발생</th>\n",
       "    </tr>\n",
       "  </thead>\n",
       "  <tbody>\n",
       "    <tr>\n",
       "      <th>0</th>\n",
       "      <td>0</td>\n",
       "      <td>강남구</td>\n",
       "      <td>2780</td>\n",
       "      <td>1292</td>\n",
       "      <td>430</td>\n",
       "      <td>584</td>\n",
       "      <td>932</td>\n",
       "      <td>150.619195</td>\n",
       "      <td>449</td>\n",
       "      <td>21</td>\n",
       "      <td>13</td>\n",
       "      <td>3850</td>\n",
       "      <td>4284</td>\n",
       "    </tr>\n",
       "    <tr>\n",
       "      <th>1</th>\n",
       "      <td>1</td>\n",
       "      <td>강동구</td>\n",
       "      <td>773</td>\n",
       "      <td>379</td>\n",
       "      <td>99</td>\n",
       "      <td>155</td>\n",
       "      <td>377</td>\n",
       "      <td>166.490765</td>\n",
       "      <td>156</td>\n",
       "      <td>6</td>\n",
       "      <td>4</td>\n",
       "      <td>2366</td>\n",
       "      <td>2712</td>\n",
       "    </tr>\n",
       "    <tr>\n",
       "      <th>2</th>\n",
       "      <td>2</td>\n",
       "      <td>강북구</td>\n",
       "      <td>748</td>\n",
       "      <td>369</td>\n",
       "      <td>120</td>\n",
       "      <td>138</td>\n",
       "      <td>204</td>\n",
       "      <td>125.203252</td>\n",
       "      <td>153</td>\n",
       "      <td>14</td>\n",
       "      <td>7</td>\n",
       "      <td>1434</td>\n",
       "      <td>2649</td>\n",
       "    </tr>\n",
       "  </tbody>\n",
       "</table>\n",
       "</div>"
      ],
      "text/plain": [
       "   Unnamed: 0   구별  cctv개수  2013년도 이전  2014년  2015년  2016년       최근증가율  강간 발생  \\\n",
       "0           0  강남구    2780       1292    430    584    932  150.619195    449   \n",
       "1           1  강동구     773        379     99    155    377  166.490765    156   \n",
       "2           2  강북구     748        369    120    138    204  125.203252    153   \n",
       "\n",
       "   강도 발생  살인 발생  절도 발생  폭력 발생  \n",
       "0     21     13   3850   4284  \n",
       "1      6      4   2366   2712  \n",
       "2     14      7   1434   2649  "
      ]
     },
     "execution_count": 128,
     "metadata": {},
     "output_type": "execute_result"
    }
   ],
   "source": [
    "cctv_pop_data_result.rename(columns={cctv_seoul.columns[1]:'cctv개수'},inplace=True)\n",
    "cctv_pop_data_result.head(3)"
   ]
  },
  {
   "cell_type": "code",
   "execution_count": 129,
   "id": "5a58efdf",
   "metadata": {},
   "outputs": [
    {
     "name": "stdout",
     "output_type": "stream",
     "text": [
      "      강간 발생  강도 발생  살인 발생  절도 발생  폭력 발생\n",
      "구별                                     \n",
      "강남구     449     21     13   3850   4284\n",
      "영등포구    295     22     14   2964   3572\n",
      "관악구     320     12      9   2706   3298\n",
      "송파구     220     13     11   3239   3295\n",
      "강서구     262     13      7   2096   3207\n"
     ]
    },
    {
     "data": {
      "text/html": [
       "<div>\n",
       "<style scoped>\n",
       "    .dataframe tbody tr th:only-of-type {\n",
       "        vertical-align: middle;\n",
       "    }\n",
       "\n",
       "    .dataframe tbody tr th {\n",
       "        vertical-align: top;\n",
       "    }\n",
       "\n",
       "    .dataframe thead th {\n",
       "        text-align: right;\n",
       "    }\n",
       "</style>\n",
       "<table border=\"1\" class=\"dataframe\">\n",
       "  <thead>\n",
       "    <tr style=\"text-align: right;\">\n",
       "      <th></th>\n",
       "      <th>강간 발생</th>\n",
       "      <th>강도 발생</th>\n",
       "      <th>살인 발생</th>\n",
       "      <th>절도 발생</th>\n",
       "      <th>폭력 발생</th>\n",
       "    </tr>\n",
       "    <tr>\n",
       "      <th>구별</th>\n",
       "      <th></th>\n",
       "      <th></th>\n",
       "      <th></th>\n",
       "      <th></th>\n",
       "      <th></th>\n",
       "    </tr>\n",
       "  </thead>\n",
       "  <tbody>\n",
       "    <tr>\n",
       "      <th>강남구</th>\n",
       "      <td>449</td>\n",
       "      <td>21</td>\n",
       "      <td>13</td>\n",
       "      <td>3850</td>\n",
       "      <td>4284</td>\n",
       "    </tr>\n",
       "    <tr>\n",
       "      <th>송파구</th>\n",
       "      <td>220</td>\n",
       "      <td>13</td>\n",
       "      <td>11</td>\n",
       "      <td>3239</td>\n",
       "      <td>3295</td>\n",
       "    </tr>\n",
       "    <tr>\n",
       "      <th>광진구</th>\n",
       "      <td>240</td>\n",
       "      <td>14</td>\n",
       "      <td>4</td>\n",
       "      <td>3026</td>\n",
       "      <td>2625</td>\n",
       "    </tr>\n",
       "    <tr>\n",
       "      <th>영등포구</th>\n",
       "      <td>295</td>\n",
       "      <td>22</td>\n",
       "      <td>14</td>\n",
       "      <td>2964</td>\n",
       "      <td>3572</td>\n",
       "    </tr>\n",
       "    <tr>\n",
       "      <th>관악구</th>\n",
       "      <td>320</td>\n",
       "      <td>12</td>\n",
       "      <td>9</td>\n",
       "      <td>2706</td>\n",
       "      <td>3298</td>\n",
       "    </tr>\n",
       "  </tbody>\n",
       "</table>\n",
       "</div>"
      ],
      "text/plain": [
       "      강간 발생  강도 발생  살인 발생  절도 발생  폭력 발생\n",
       "구별                                     \n",
       "강남구     449     21     13   3850   4284\n",
       "송파구     220     13     11   3239   3295\n",
       "광진구     240     14      4   3026   2625\n",
       "영등포구    295     22     14   2964   3572\n",
       "관악구     320     12      9   2706   3298"
      ]
     },
     "execution_count": 129,
     "metadata": {},
     "output_type": "execute_result"
    }
   ],
   "source": [
    "#1. 구별 폭력 발생, 폭력 검거 구하기. 그리고 수가 많은 정도로 정렬\n",
    "crime_seoul2['폭력 발생']\n",
    "print(crime_seoul2.sort_values(by='폭력 발생',ascending=False).head())\n",
    "crime_seoul2.sort_values(by='절도 발생',ascending=False).head()\n"
   ]
  },
  {
   "cell_type": "code",
   "execution_count": 130,
   "id": "0db1612c",
   "metadata": {},
   "outputs": [
    {
     "data": {
      "text/html": [
       "<div>\n",
       "<style scoped>\n",
       "    .dataframe tbody tr th:only-of-type {\n",
       "        vertical-align: middle;\n",
       "    }\n",
       "\n",
       "    .dataframe tbody tr th {\n",
       "        vertical-align: top;\n",
       "    }\n",
       "\n",
       "    .dataframe thead th {\n",
       "        text-align: right;\n",
       "    }\n",
       "</style>\n",
       "<table border=\"1\" class=\"dataframe\">\n",
       "  <thead>\n",
       "    <tr style=\"text-align: right;\">\n",
       "      <th></th>\n",
       "      <th>강간 발생</th>\n",
       "      <th>강도 발생</th>\n",
       "      <th>살인 발생</th>\n",
       "      <th>절도 발생</th>\n",
       "      <th>폭력 발생</th>\n",
       "    </tr>\n",
       "  </thead>\n",
       "  <tbody>\n",
       "    <tr>\n",
       "      <th>강간 발생</th>\n",
       "      <td>1.000000</td>\n",
       "      <td>0.617927</td>\n",
       "      <td>0.630405</td>\n",
       "      <td>0.746281</td>\n",
       "      <td>0.670667</td>\n",
       "    </tr>\n",
       "    <tr>\n",
       "      <th>강도 발생</th>\n",
       "      <td>0.617927</td>\n",
       "      <td>1.000000</td>\n",
       "      <td>0.674517</td>\n",
       "      <td>0.574428</td>\n",
       "      <td>0.690986</td>\n",
       "    </tr>\n",
       "    <tr>\n",
       "      <th>살인 발생</th>\n",
       "      <td>0.630405</td>\n",
       "      <td>0.674517</td>\n",
       "      <td>1.000000</td>\n",
       "      <td>0.623768</td>\n",
       "      <td>0.768140</td>\n",
       "    </tr>\n",
       "    <tr>\n",
       "      <th>절도 발생</th>\n",
       "      <td>0.746281</td>\n",
       "      <td>0.574428</td>\n",
       "      <td>0.623768</td>\n",
       "      <td>1.000000</td>\n",
       "      <td>0.804446</td>\n",
       "    </tr>\n",
       "    <tr>\n",
       "      <th>폭력 발생</th>\n",
       "      <td>0.670667</td>\n",
       "      <td>0.690986</td>\n",
       "      <td>0.768140</td>\n",
       "      <td>0.804446</td>\n",
       "      <td>1.000000</td>\n",
       "    </tr>\n",
       "  </tbody>\n",
       "</table>\n",
       "</div>"
      ],
      "text/plain": [
       "          강간 발생     강도 발생     살인 발생     절도 발생     폭력 발생\n",
       "강간 발생  1.000000  0.617927  0.630405  0.746281  0.670667\n",
       "강도 발생  0.617927  1.000000  0.674517  0.574428  0.690986\n",
       "살인 발생  0.630405  0.674517  1.000000  0.623768  0.768140\n",
       "절도 발생  0.746281  0.574428  0.623768  1.000000  0.804446\n",
       "폭력 발생  0.670667  0.690986  0.768140  0.804446  1.000000"
      ]
     },
     "execution_count": 130,
     "metadata": {},
     "output_type": "execute_result"
    }
   ],
   "source": [
    "#2. 위 두 컬럼을 heatmap그리기\n",
    "#3. pairplot그리기. \n",
    "cr_corr = crime_seoul2.corr()\n",
    "cr_corr"
   ]
  },
  {
   "cell_type": "code",
   "execution_count": 131,
   "id": "89435b1e",
   "metadata": {},
   "outputs": [
    {
     "data": {
      "text/plain": [
       "Index(['강간 발생', '강도 발생', '살인 발생', '절도 발생', '폭력 발생'], dtype='object')"
      ]
     },
     "execution_count": 131,
     "metadata": {},
     "output_type": "execute_result"
    }
   ],
   "source": [
    "cols = crime_seoul2.columns\n",
    "cols"
   ]
  },
  {
   "cell_type": "code",
   "execution_count": 132,
   "id": "ba7ca9c4",
   "metadata": {},
   "outputs": [
    {
     "data": {
      "text/plain": [
       "<AxesSubplot:>"
      ]
     },
     "execution_count": 132,
     "metadata": {},
     "output_type": "execute_result"
    },
    {
     "data": {
      "image/png": "[encoded data removed]",
      "text/plain": [
       "<Figure size 432x288 with 2 Axes>"
      ]
     },
     "metadata": {
      "needs_background": "light"
     },
     "output_type": "display_data"
    }
   ],
   "source": [
    "sns.heatmap(cr_corr.values,\n",
    "            cbar = True,\n",
    "            annot= True,\n",
    "            square=True, \n",
    "            fmt = '.2f',\n",
    "            xticklabels=cols,\n",
    "            yticklabels=cols\n",
    "           )"
   ]
  },
  {
   "cell_type": "code",
   "execution_count": 133,
   "id": "c20cabbc",
   "metadata": {},
   "outputs": [
    {
     "data": {
      "image/png": "[encoded data removed]",
      "text/plain": [
       "<Figure size 900x900 with 30 Axes>"
      ]
     },
     "metadata": {
      "needs_background": "light"
     },
     "output_type": "display_data"
    }
   ],
   "source": [
    "sns.pairplot(crime_seoul2, height=2.5)\n",
    "plt.show()"
   ]
  },
  {
   "cell_type": "code",
   "execution_count": null,
   "id": "c8a172f4",
   "metadata": {},
   "outputs": [],
   "source": [
    "#4.5대 범죄의 합을 구하고 데이터 프레임으로 만들어보자.\n",
    "print(crime_seoul2['강간 발생'].sum())\n",
    "print(crime_seoul2['강도 발생'].sum())\n",
    "print(crime_seoul2['살인 발생'].sum())\n",
    "print(crime_seoul2['절도 발생'].sum())\n",
    "print(crime_seoul2['폭력 발생'].sum())"
   ]
  },
  {
   "cell_type": "code",
   "execution_count": 119,
   "id": "594cffaa",
   "metadata": {
    "scrolled": true
   },
   "outputs": [
    {
     "data": {
      "text/html": [
       "<div>\n",
       "<style scoped>\n",
       "    .dataframe tbody tr th:only-of-type {\n",
       "        vertical-align: middle;\n",
       "    }\n",
       "\n",
       "    .dataframe tbody tr th {\n",
       "        vertical-align: top;\n",
       "    }\n",
       "\n",
       "    .dataframe thead th {\n",
       "        text-align: right;\n",
       "    }\n",
       "</style>\n",
       "<table border=\"1\" class=\"dataframe\">\n",
       "  <thead>\n",
       "    <tr style=\"text-align: right;\">\n",
       "      <th></th>\n",
       "      <th>강간 발생</th>\n",
       "      <th>강도 발생</th>\n",
       "      <th>살인 발생</th>\n",
       "      <th>절도 발생</th>\n",
       "      <th>폭력 발생</th>\n",
       "    </tr>\n",
       "  </thead>\n",
       "  <tbody>\n",
       "    <tr>\n",
       "      <th>0</th>\n",
       "      <td>5449</td>\n",
       "      <td>276</td>\n",
       "      <td>163</td>\n",
       "      <td>55307</td>\n",
       "      <td>65206</td>\n",
       "    </tr>\n",
       "  </tbody>\n",
       "</table>\n",
       "</div>"
      ],
      "text/plain": [
       "   강간 발생  강도 발생  살인 발생  절도 발생  폭력 발생\n",
       "0   5449    276    163  55307  65206"
      ]
     },
     "execution_count": 119,
     "metadata": {},
     "output_type": "execute_result"
    }
   ],
   "source": [
    "crime_total = pd.DataFrame({'강간 발생':[5449],'강도 발생':[276],'살인 발생':[163],\n",
    "                            '절도 발생':[55307],'폭력 발생':[65206]})\n",
    "crime_total"
   ]
  },
  {
   "cell_type": "code",
   "execution_count": 166,
   "id": "c4e6b504",
   "metadata": {},
   "outputs": [
    {
     "data": {
      "text/plain": [
       "Text(0.5, 1.0, 'crime total')"
      ]
     },
     "execution_count": 166,
     "metadata": {},
     "output_type": "execute_result"
    },
    {
     "data": {
      "image/png": "[encoded data removed]",
      "text/plain": [
       "<Figure size 432x288 with 1 Axes>"
      ]
     },
     "metadata": {
      "needs_background": "light"
     },
     "output_type": "display_data"
    }
   ],
   "source": [
    "#5.합을 구한 데이터 프레임을 시각화 해보자.\n",
    "fig = plt.plot(['강간 발생', '강도 발생', '살인 발생','절도 발생','폭력 발생'],[5449,276,163,55307,65206])\n",
    "plt.title('crime total')"
   ]
  },
  {
   "cell_type": "code",
   "execution_count": 116,
   "id": "a886d9ff",
   "metadata": {},
   "outputs": [],
   "source": []
  },
  {
   "cell_type": "code",
   "execution_count": 118,
   "id": "387eb802",
   "metadata": {},
   "outputs": [
    {
     "data": {
      "text/html": [
       "<div>\n",
       "<style scoped>\n",
       "    .dataframe tbody tr th:only-of-type {\n",
       "        vertical-align: middle;\n",
       "    }\n",
       "\n",
       "    .dataframe tbody tr th {\n",
       "        vertical-align: top;\n",
       "    }\n",
       "\n",
       "    .dataframe thead th {\n",
       "        text-align: right;\n",
       "    }\n",
       "</style>\n",
       "<table border=\"1\" class=\"dataframe\">\n",
       "  <thead>\n",
       "    <tr style=\"text-align: right;\">\n",
       "      <th></th>\n",
       "      <th>구별</th>\n",
       "      <th>소계</th>\n",
       "      <th>2013년도 이전</th>\n",
       "      <th>2014년</th>\n",
       "      <th>2015년</th>\n",
       "      <th>2016년</th>\n",
       "      <th>최근증가율</th>\n",
       "      <th>강간 발생</th>\n",
       "      <th>강도 발생</th>\n",
       "      <th>살인 발생</th>\n",
       "      <th>절도 발생</th>\n",
       "      <th>폭력 발생</th>\n",
       "    </tr>\n",
       "  </thead>\n",
       "  <tbody>\n",
       "    <tr>\n",
       "      <th>0</th>\n",
       "      <td>강남구</td>\n",
       "      <td>2780</td>\n",
       "      <td>1292</td>\n",
       "      <td>430</td>\n",
       "      <td>584</td>\n",
       "      <td>932</td>\n",
       "      <td>150.619195</td>\n",
       "      <td>449</td>\n",
       "      <td>21</td>\n",
       "      <td>13</td>\n",
       "      <td>3850</td>\n",
       "      <td>4284</td>\n",
       "    </tr>\n",
       "    <tr>\n",
       "      <th>1</th>\n",
       "      <td>강동구</td>\n",
       "      <td>773</td>\n",
       "      <td>379</td>\n",
       "      <td>99</td>\n",
       "      <td>155</td>\n",
       "      <td>377</td>\n",
       "      <td>166.490765</td>\n",
       "      <td>156</td>\n",
       "      <td>6</td>\n",
       "      <td>4</td>\n",
       "      <td>2366</td>\n",
       "      <td>2712</td>\n",
       "    </tr>\n",
       "    <tr>\n",
       "      <th>2</th>\n",
       "      <td>강북구</td>\n",
       "      <td>748</td>\n",
       "      <td>369</td>\n",
       "      <td>120</td>\n",
       "      <td>138</td>\n",
       "      <td>204</td>\n",
       "      <td>125.203252</td>\n",
       "      <td>153</td>\n",
       "      <td>14</td>\n",
       "      <td>7</td>\n",
       "      <td>1434</td>\n",
       "      <td>2649</td>\n",
       "    </tr>\n",
       "    <tr>\n",
       "      <th>3</th>\n",
       "      <td>강서구</td>\n",
       "      <td>884</td>\n",
       "      <td>388</td>\n",
       "      <td>258</td>\n",
       "      <td>184</td>\n",
       "      <td>81</td>\n",
       "      <td>134.793814</td>\n",
       "      <td>262</td>\n",
       "      <td>13</td>\n",
       "      <td>7</td>\n",
       "      <td>2096</td>\n",
       "      <td>3207</td>\n",
       "    </tr>\n",
       "    <tr>\n",
       "      <th>4</th>\n",
       "      <td>관악구</td>\n",
       "      <td>1496</td>\n",
       "      <td>846</td>\n",
       "      <td>260</td>\n",
       "      <td>390</td>\n",
       "      <td>613</td>\n",
       "      <td>149.290780</td>\n",
       "      <td>320</td>\n",
       "      <td>12</td>\n",
       "      <td>9</td>\n",
       "      <td>2706</td>\n",
       "      <td>3298</td>\n",
       "    </tr>\n",
       "  </tbody>\n",
       "</table>\n",
       "</div>"
      ],
      "text/plain": [
       "    구별    소계  2013년도 이전  2014년  2015년  2016년       최근증가율  강간 발생  강도 발생  살인 발생  \\\n",
       "0  강남구  2780       1292    430    584    932  150.619195    449     21     13   \n",
       "1  강동구   773        379     99    155    377  166.490765    156      6      4   \n",
       "2  강북구   748        369    120    138    204  125.203252    153     14      7   \n",
       "3  강서구   884        388    258    184     81  134.793814    262     13      7   \n",
       "4  관악구  1496        846    260    390    613  149.290780    320     12      9   \n",
       "\n",
       "   절도 발생  폭력 발생  \n",
       "0   3850   4284  \n",
       "1   2366   2712  \n",
       "2   1434   2649  \n",
       "3   2096   3207  \n",
       "4   2706   3298  "
      ]
     },
     "execution_count": 118,
     "metadata": {},
     "output_type": "execute_result"
    }
   ],
   "source": [
    "# 6.상관도 \n",
    "\n",
    "# 7.merge함수를 사용해서 cctv_seoul,crime_seoul2 구별 기준으로 합치기.\n",
    "data_result = pd.merge(cctv_seoul,crime_seoul2,on='구별')\n",
    "data_result.head()"
   ]
  },
  {
   "cell_type": "code",
   "execution_count": 141,
   "id": "6ecbf89a",
   "metadata": {},
   "outputs": [
    {
     "data": {
      "text/html": [
       "<div>\n",
       "<style scoped>\n",
       "    .dataframe tbody tr th:only-of-type {\n",
       "        vertical-align: middle;\n",
       "    }\n",
       "\n",
       "    .dataframe tbody tr th {\n",
       "        vertical-align: top;\n",
       "    }\n",
       "\n",
       "    .dataframe thead th {\n",
       "        text-align: right;\n",
       "    }\n",
       "</style>\n",
       "<table border=\"1\" class=\"dataframe\">\n",
       "  <thead>\n",
       "    <tr style=\"text-align: right;\">\n",
       "      <th></th>\n",
       "      <th>소계</th>\n",
       "      <th>2013년도 이전</th>\n",
       "      <th>2014년</th>\n",
       "      <th>2015년</th>\n",
       "      <th>2016년</th>\n",
       "      <th>최근증가율</th>\n",
       "      <th>강간 발생</th>\n",
       "      <th>강도 발생</th>\n",
       "      <th>살인 발생</th>\n",
       "      <th>절도 발생</th>\n",
       "      <th>폭력 발생</th>\n",
       "    </tr>\n",
       "  </thead>\n",
       "  <tbody>\n",
       "    <tr>\n",
       "      <th>소계</th>\n",
       "      <td>1.000000</td>\n",
       "      <td>0.862756</td>\n",
       "      <td>0.450062</td>\n",
       "      <td>0.624402</td>\n",
       "      <td>0.593398</td>\n",
       "      <td>-0.343016</td>\n",
       "      <td>0.445849</td>\n",
       "      <td>0.133288</td>\n",
       "      <td>0.122381</td>\n",
       "      <td>0.251644</td>\n",
       "      <td>0.315132</td>\n",
       "    </tr>\n",
       "    <tr>\n",
       "      <th>2013년도 이전</th>\n",
       "      <td>0.862756</td>\n",
       "      <td>1.000000</td>\n",
       "      <td>0.121888</td>\n",
       "      <td>0.257748</td>\n",
       "      <td>0.355482</td>\n",
       "      <td>-0.652747</td>\n",
       "      <td>0.176139</td>\n",
       "      <td>-0.041649</td>\n",
       "      <td>-0.091104</td>\n",
       "      <td>0.059447</td>\n",
       "      <td>0.074131</td>\n",
       "    </tr>\n",
       "    <tr>\n",
       "      <th>2014년</th>\n",
       "      <td>0.450062</td>\n",
       "      <td>0.121888</td>\n",
       "      <td>1.000000</td>\n",
       "      <td>0.312842</td>\n",
       "      <td>0.415387</td>\n",
       "      <td>0.341291</td>\n",
       "      <td>0.579476</td>\n",
       "      <td>0.439185</td>\n",
       "      <td>0.249277</td>\n",
       "      <td>0.279206</td>\n",
       "      <td>0.326085</td>\n",
       "    </tr>\n",
       "    <tr>\n",
       "      <th>2015년</th>\n",
       "      <td>0.624402</td>\n",
       "      <td>0.257748</td>\n",
       "      <td>0.312842</td>\n",
       "      <td>1.000000</td>\n",
       "      <td>0.513767</td>\n",
       "      <td>0.112479</td>\n",
       "      <td>0.532061</td>\n",
       "      <td>0.182701</td>\n",
       "      <td>0.459447</td>\n",
       "      <td>0.351738</td>\n",
       "      <td>0.455817</td>\n",
       "    </tr>\n",
       "    <tr>\n",
       "      <th>2016년</th>\n",
       "      <td>0.593398</td>\n",
       "      <td>0.355482</td>\n",
       "      <td>0.415387</td>\n",
       "      <td>0.513767</td>\n",
       "      <td>1.000000</td>\n",
       "      <td>0.312985</td>\n",
       "      <td>0.402002</td>\n",
       "      <td>0.270817</td>\n",
       "      <td>0.233551</td>\n",
       "      <td>0.436478</td>\n",
       "      <td>0.385104</td>\n",
       "    </tr>\n",
       "    <tr>\n",
       "      <th>최근증가율</th>\n",
       "      <td>-0.343016</td>\n",
       "      <td>-0.652747</td>\n",
       "      <td>0.341291</td>\n",
       "      <td>0.112479</td>\n",
       "      <td>0.312985</td>\n",
       "      <td>1.000000</td>\n",
       "      <td>0.108363</td>\n",
       "      <td>0.157626</td>\n",
       "      <td>0.198283</td>\n",
       "      <td>0.065735</td>\n",
       "      <td>0.090606</td>\n",
       "    </tr>\n",
       "    <tr>\n",
       "      <th>강간 발생</th>\n",
       "      <td>0.445849</td>\n",
       "      <td>0.176139</td>\n",
       "      <td>0.579476</td>\n",
       "      <td>0.532061</td>\n",
       "      <td>0.402002</td>\n",
       "      <td>0.108363</td>\n",
       "      <td>1.000000</td>\n",
       "      <td>0.617927</td>\n",
       "      <td>0.630405</td>\n",
       "      <td>0.746281</td>\n",
       "      <td>0.670667</td>\n",
       "    </tr>\n",
       "    <tr>\n",
       "      <th>강도 발생</th>\n",
       "      <td>0.133288</td>\n",
       "      <td>-0.041649</td>\n",
       "      <td>0.439185</td>\n",
       "      <td>0.182701</td>\n",
       "      <td>0.270817</td>\n",
       "      <td>0.157626</td>\n",
       "      <td>0.617927</td>\n",
       "      <td>1.000000</td>\n",
       "      <td>0.674517</td>\n",
       "      <td>0.574428</td>\n",
       "      <td>0.690986</td>\n",
       "    </tr>\n",
       "    <tr>\n",
       "      <th>살인 발생</th>\n",
       "      <td>0.122381</td>\n",
       "      <td>-0.091104</td>\n",
       "      <td>0.249277</td>\n",
       "      <td>0.459447</td>\n",
       "      <td>0.233551</td>\n",
       "      <td>0.198283</td>\n",
       "      <td>0.630405</td>\n",
       "      <td>0.674517</td>\n",
       "      <td>1.000000</td>\n",
       "      <td>0.623768</td>\n",
       "      <td>0.768140</td>\n",
       "    </tr>\n",
       "    <tr>\n",
       "      <th>절도 발생</th>\n",
       "      <td>0.251644</td>\n",
       "      <td>0.059447</td>\n",
       "      <td>0.279206</td>\n",
       "      <td>0.351738</td>\n",
       "      <td>0.436478</td>\n",
       "      <td>0.065735</td>\n",
       "      <td>0.746281</td>\n",
       "      <td>0.574428</td>\n",
       "      <td>0.623768</td>\n",
       "      <td>1.000000</td>\n",
       "      <td>0.804446</td>\n",
       "    </tr>\n",
       "    <tr>\n",
       "      <th>폭력 발생</th>\n",
       "      <td>0.315132</td>\n",
       "      <td>0.074131</td>\n",
       "      <td>0.326085</td>\n",
       "      <td>0.455817</td>\n",
       "      <td>0.385104</td>\n",
       "      <td>0.090606</td>\n",
       "      <td>0.670667</td>\n",
       "      <td>0.690986</td>\n",
       "      <td>0.768140</td>\n",
       "      <td>0.804446</td>\n",
       "      <td>1.000000</td>\n",
       "    </tr>\n",
       "  </tbody>\n",
       "</table>\n",
       "</div>"
      ],
      "text/plain": [
       "                 소계  2013년도 이전     2014년     2015년     2016년     최근증가율  \\\n",
       "소계         1.000000   0.862756  0.450062  0.624402  0.593398 -0.343016   \n",
       "2013년도 이전  0.862756   1.000000  0.121888  0.257748  0.355482 -0.652747   \n",
       "2014년      0.450062   0.121888  1.000000  0.312842  0.415387  0.341291   \n",
       "2015년      0.624402   0.257748  0.312842  1.000000  0.513767  0.112479   \n",
       "2016년      0.593398   0.355482  0.415387  0.513767  1.000000  0.312985   \n",
       "최근증가율     -0.343016  -0.652747  0.341291  0.112479  0.312985  1.000000   \n",
       "강간 발생      0.445849   0.176139  0.579476  0.532061  0.402002  0.108363   \n",
       "강도 발생      0.133288  -0.041649  0.439185  0.182701  0.270817  0.157626   \n",
       "살인 발생      0.122381  -0.091104  0.249277  0.459447  0.233551  0.198283   \n",
       "절도 발생      0.251644   0.059447  0.279206  0.351738  0.436478  0.065735   \n",
       "폭력 발생      0.315132   0.074131  0.326085  0.455817  0.385104  0.090606   \n",
       "\n",
       "              강간 발생     강도 발생     살인 발생     절도 발생     폭력 발생  \n",
       "소계         0.445849  0.133288  0.122381  0.251644  0.315132  \n",
       "2013년도 이전  0.176139 -0.041649 -0.091104  0.059447  0.074131  \n",
       "2014년      0.579476  0.439185  0.249277  0.279206  0.326085  \n",
       "2015년      0.532061  0.182701  0.459447  0.351738  0.455817  \n",
       "2016년      0.402002  0.270817  0.233551  0.436478  0.385104  \n",
       "최근증가율      0.108363  0.157626  0.198283  0.065735  0.090606  \n",
       "강간 발생      1.000000  0.617927  0.630405  0.746281  0.670667  \n",
       "강도 발생      0.617927  1.000000  0.674517  0.574428  0.690986  \n",
       "살인 발생      0.630405  0.674517  1.000000  0.623768  0.768140  \n",
       "절도 발생      0.746281  0.574428  0.623768  1.000000  0.804446  \n",
       "폭력 발생      0.670667  0.690986  0.768140  0.804446  1.000000  "
      ]
     },
     "execution_count": 141,
     "metadata": {},
     "output_type": "execute_result"
    }
   ],
   "source": [
    "data_corr = data_result.corr()\n",
    "data_corr"
   ]
  },
  {
   "cell_type": "code",
   "execution_count": 143,
   "id": "19e53fe4",
   "metadata": {},
   "outputs": [
    {
     "data": {
      "text/plain": [
       "array([[1.        , 0.31513207],\n",
       "       [0.31513207, 1.        ]])"
      ]
     },
     "execution_count": 143,
     "metadata": {},
     "output_type": "execute_result"
    }
   ],
   "source": [
    "# 8.1)소계와 폭력 발생의 상관관계\n",
    "data_result_np1 = np.corrcoef(data_result['소계'],data_result['폭력 발생'])\n",
    "data_result_np1"
   ]
  },
  {
   "cell_type": "code",
   "execution_count": 144,
   "id": "d8415f49",
   "metadata": {},
   "outputs": [
    {
     "data": {
      "text/plain": [
       "array([[1.        , 0.44584914],\n",
       "       [0.44584914, 1.        ]])"
      ]
     },
     "execution_count": 144,
     "metadata": {},
     "output_type": "execute_result"
    }
   ],
   "source": [
    "# 8.2)소계와 강간 발생의 상관관계\n",
    "data_result_np2 = np.corrcoef(data_result['소계'],data_result['강간 발생'])\n",
    "data_result_np2"
   ]
  },
  {
   "cell_type": "code",
   "execution_count": 145,
   "id": "5b5e3006",
   "metadata": {},
   "outputs": [
    {
     "data": {
      "text/plain": [
       "array([[1.        , 0.12238148],\n",
       "       [0.12238148, 1.        ]])"
      ]
     },
     "execution_count": 145,
     "metadata": {},
     "output_type": "execute_result"
    }
   ],
   "source": [
    "# 8.3)소계와 살인 발생의 상관관계\n",
    "data_result_np3 = np.corrcoef(data_result['소계'],data_result['살인 발생'])\n",
    "data_result_np3"
   ]
  },
  {
   "cell_type": "code",
   "execution_count": 156,
   "id": "c34718f4",
   "metadata": {},
   "outputs": [
    {
     "data": {
      "text/plain": [
       "0.3151320652237261"
      ]
     },
     "execution_count": 156,
     "metadata": {},
     "output_type": "execute_result"
    }
   ],
   "source": [
    "# 8.4)소계와 폭력 발생의 상관관계의 비율\n",
    "violence = data_result_np1[0][1]\n",
    "violence"
   ]
  },
  {
   "cell_type": "code",
   "execution_count": 157,
   "id": "fed1ca10",
   "metadata": {},
   "outputs": [
    {
     "data": {
      "text/plain": [
       "0.4458491437295711"
      ]
     },
     "execution_count": 157,
     "metadata": {},
     "output_type": "execute_result"
    }
   ],
   "source": [
    "# 8.5)소계와 강간 발생의 상관관계의 비율\n",
    "violate = data_result_np2[0][1]\n",
    "violate"
   ]
  },
  {
   "cell_type": "code",
   "execution_count": 158,
   "id": "ff23c9a7",
   "metadata": {},
   "outputs": [
    {
     "data": {
      "text/plain": [
       "0.12238148202999109"
      ]
     },
     "execution_count": 158,
     "metadata": {},
     "output_type": "execute_result"
    }
   ],
   "source": [
    "# 8.6)소계와 살인 발생의 상관관계의 비율\n",
    "kill = data_result_np3[0][1]\n",
    "kill"
   ]
  },
  {
   "cell_type": "code",
   "execution_count": 159,
   "id": "40f673f8",
   "metadata": {},
   "outputs": [],
   "source": [
    "#9.소계를 기준으로 폭력 발생, 강간 발생, 살인 발생 비율을 리스트로 묶어보자. \n",
    "#10.그래프를 그려보자."
   ]
  },
  {
   "cell_type": "code",
   "execution_count": 160,
   "id": "a1e6044c",
   "metadata": {
    "scrolled": true
   },
   "outputs": [
    {
     "data": {
      "text/plain": [
       "[0.12238148202999109, 0.4458491437295711, 0.3151320652237261]"
      ]
     },
     "execution_count": 160,
     "metadata": {},
     "output_type": "execute_result"
    }
   ],
   "source": [
    "corr_list = [kill, violate, violence] #1ndArray, Series\n",
    "corr_list"
   ]
  },
  {
   "cell_type": "code",
   "execution_count": 163,
   "id": "5ff64f42",
   "metadata": {},
   "outputs": [],
   "source": [
    "crime_data = ['kill','violate','violence']"
   ]
  },
  {
   "cell_type": "code",
   "execution_count": 164,
   "id": "175bb1e0",
   "metadata": {},
   "outputs": [
    {
     "data": {
      "text/plain": [
       "Text(0.5, 1.0, 'correlation')"
      ]
     },
     "execution_count": 164,
     "metadata": {},
     "output_type": "execute_result"
    },
    {
     "data": {
      "image/png": "[encoded data removed]",
      "text/plain": [
       "<Figure size 432x288 with 1 Axes>"
      ]
     },
     "metadata": {
      "needs_background": "light"
     },
     "output_type": "display_data"
    }
   ],
   "source": [
    "fig = plt.plot(crime_data, corr_list, 'ro')\n",
    "plt.title('correlation')"
   ]
  },
  {
   "cell_type": "code",
   "execution_count": null,
   "id": "6845955b",
   "metadata": {},
   "outputs": [],
   "source": []
  }
 ],
 "metadata": {
  "kernelspec": {
   "display_name": "Python 3 (ipykernel)",
   "language": "python",
   "name": "python3"
  },
  "language_info": {
   "codemirror_mode": {
    "name": "ipython",
    "version": 3
   },
   "file_extension": ".py",
   "mimetype": "text/x-python",
   "name": "python",
   "nbconvert_exporter": "python",
   "pygments_lexer": "ipython3",
   "version": "3.9.7"
  }
 },
 "nbformat": 4,
 "nbformat_minor": 5
}
