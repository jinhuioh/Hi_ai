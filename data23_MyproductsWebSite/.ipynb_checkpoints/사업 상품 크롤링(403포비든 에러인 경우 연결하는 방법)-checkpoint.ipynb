{
 "cells": [
  {
   "cell_type": "code",
   "execution_count": 1,
   "id": "dc9b94de",
   "metadata": {},
   "outputs": [],
   "source": [
    "#정형데이터\n",
    "from urllib.request import Request, urlopen\n",
    "from bs4 import BeautifulSoup\n",
    "import pandas as pd\n",
    "import numpy as np"
   ]
  },
  {
   "cell_type": "code",
   "execution_count": 2,
   "id": "067ac6d2",
   "metadata": {},
   "outputs": [
    {
     "name": "stdout",
     "output_type": "stream",
     "text": [
      "Requirement already satisfied: bs4 in c:\\users\\aaa77\\anaconda3\\lib\\site-packages (0.0.1)\n",
      "Requirement already satisfied: beautifulsoup4 in c:\\users\\aaa77\\anaconda3\\lib\\site-packages (from bs4) (4.10.0)\n",
      "Requirement already satisfied: soupsieve>1.2 in c:\\users\\aaa77\\anaconda3\\lib\\site-packages (from beautifulsoup4->bs4) (2.2.1)\n"
     ]
    }
   ],
   "source": [
    "!pip install bs4"
   ]
  },
  {
   "cell_type": "code",
   "execution_count": null,
   "id": "68aa08b8",
   "metadata": {},
   "outputs": [],
   "source": [
    "# 서버 문제로 403포비든 에러가 뜬 경우 아래와 같이 Request로 url연결함.\n",
    "con = Request('https://store.coupang.com/vp/vendors/A00247635/products?vendorName=%EC%A7%80%EB%8B%88&productId=0&outboundShippingPlaceId=2404512&freeShipOverAmount=0'\n",
    "              , headers={'User-Agent': 'Mozilla/5.0'})\n",
    "html = urlopen(con) \n",
    "#http response(header + body)\n",
    "#header : http result status code\n",
    "#         (ok: 200, not found: 404, error: 500, permission: 403)"
   ]
  },
  {
   "cell_type": "code",
   "execution_count": null,
   "id": "23acb18e",
   "metadata": {},
   "outputs": [],
   "source": [
    "html.status #status code \n",
    "#con.status를 쓰면내가 요청한 url받아오겠다는 의미.\n",
    "#내가 요청한 url받는데 성공하면 200이 뜸! "
   ]
  },
  {
   "cell_type": "code",
   "execution_count": null,
   "id": "8e0b83e6",
   "metadata": {},
   "outputs": [],
   "source": [
    "doc = BeautifulSoup(html, 'html.parser')\n",
    "#HTML Parse란 HTML 문법 규칙에 따른 문자열을, \n",
    "#해당 문법을 바탕으로 단어의 의미나 구조를 분석하는 것을 의미\n",
    "#doc"
   ]
  },
  {
   "cell_type": "code",
   "execution_count": null,
   "id": "88656161",
   "metadata": {},
   "outputs": [],
   "source": []
  }
 ],
 "metadata": {
  "kernelspec": {
   "display_name": "Python 3 (ipykernel)",
   "language": "python",
   "name": "python3"
  },
  "language_info": {
   "codemirror_mode": {
    "name": "ipython",
    "version": 3
   },
   "file_extension": ".py",
   "mimetype": "text/x-python",
   "name": "python",
   "nbconvert_exporter": "python",
   "pygments_lexer": "ipython3",
   "version": "3.9.7"
  }
 },
 "nbformat": 4,
 "nbformat_minor": 5
}
