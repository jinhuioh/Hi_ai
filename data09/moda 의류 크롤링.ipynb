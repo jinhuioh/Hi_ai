{
 "cells": [
  {
   "cell_type": "code",
   "execution_count": 1,
   "metadata": {},
   "outputs": [],
   "source": [
    "import warnings\n",
    "warnings.filterwarnings(action='ignore')\n",
    "from selenium.webdriver.common.by import By\n",
    "from selenium.webdriver.support.ui import WebDriverWait \n",
    "from selenium.webdriver.support import expected_conditions as EC"
   ]
  },
  {
   "cell_type": "code",
   "execution_count": 2,
   "metadata": {},
   "outputs": [],
   "source": [
    "#step1.selenium 패키지와 time 모듈 import\n",
    "from selenium import webdriver\n",
    "from selenium.webdriver.common.keys import Keys\n",
    "import time"
   ]
  },
  {
   "cell_type": "code",
   "execution_count": 4,
   "metadata": {},
   "outputs": [],
   "source": [
    "# 크롬 드라이버로 원하는 url 접속\n",
    "# 1. 크롬 브라우저 실행\n",
    "driver = webdriver.Chrome('../chromedriver/chromedriver.exe')"
   ]
  },
  {
   "cell_type": "code",
   "execution_count": 8,
   "metadata": {},
   "outputs": [
    {
     "name": "stdout",
     "output_type": "stream",
     "text": [
      "--------------- 0 -------------\n",
      "60 60 60\n",
      "--------------- 1 -------------\n",
      "120 120 120\n",
      "-- 120\n",
      "-- 120\n",
      "-- 120\n"
     ]
    }
   ],
   "source": [
    "# 2. 특정 url: https://shopping.naver.com/home/p/index.naver 페이지로 연결\n",
    "title_list = []\n",
    "price_list = []\n",
    "img_list = []\n",
    "for i in range(2):\n",
    "    print('---------------', i , '-------------')\n",
    "    url = 'http://stores.auction.co.kr/modaoutlet/List?Category=66000000&CategoryType=General&SortType=AuctionRank&DisplayType=SmallImage&Page='+str(i)+'&PageIndex=&PageSize=60&IsFreeShipping=False&Is3PL=False&MinPrice=0&MaxPrice=0'\n",
    "    driver.get(url) # http 요청을 보내라! <----- http 응답을 보낼 것임!\n",
    "    time.sleep(20)\n",
    "    \n",
    "    prod_title = driver.find_elements_by_css_selector('div > p.prd_name > a')\n",
    "\n",
    "    for title in prod_title:\n",
    "        title_list.append(title.text)\n",
    "    \n",
    "    prod_price = driver.find_elements_by_css_selector('div > p.prd_price > em > strong')\n",
    "\n",
    "    for price in prod_price:\n",
    "        price_list.append(price.text)\n",
    "    \n",
    "    prod_img = driver.find_elements_by_css_selector('img.lazy')\n",
    "\n",
    "    for img in prod_img:\n",
    "        img_list.append(img.get_attribute('src'))\n",
    "    print(len(img_list), len(price_list), len(title_list))\n",
    "    driver.execute_script(\"window.scrollTo(\"+str(i)+\", document.body.scrollHeight)\")\n",
    "print('--', len(title_list))\n",
    "print('--', len(price_list))\n",
    "print('--', len(img_list))"
   ]
  },
  {
   "cell_type": "code",
   "execution_count": 9,
   "metadata": {},
   "outputs": [],
   "source": [
    "#ItemList > div.prod_list > ul > li:nth-child(8) > p > a > img"
   ]
  },
  {
   "cell_type": "code",
   "execution_count": 17,
   "metadata": {},
   "outputs": [],
   "source": [
    "import pandas as pd"
   ]
  },
  {
   "cell_type": "code",
   "execution_count": 18,
   "metadata": {},
   "outputs": [
    {
     "data": {
      "text/html": [
       "<div>\n",
       "<style scoped>\n",
       "    .dataframe tbody tr th:only-of-type {\n",
       "        vertical-align: middle;\n",
       "    }\n",
       "\n",
       "    .dataframe tbody tr th {\n",
       "        vertical-align: top;\n",
       "    }\n",
       "\n",
       "    .dataframe thead th {\n",
       "        text-align: right;\n",
       "    }\n",
       "</style>\n",
       "<table border=\"1\" class=\"dataframe\">\n",
       "  <thead>\n",
       "    <tr style=\"text-align: right;\">\n",
       "      <th></th>\n",
       "      <th>title</th>\n",
       "      <th>url</th>\n",
       "      <th>img</th>\n",
       "    </tr>\n",
       "  </thead>\n",
       "  <tbody>\n",
       "    <tr>\n",
       "      <th>0</th>\n",
       "      <td>올포유 모다아울렛 가을 여성 체크패턴 점퍼 AWJUI7308</td>\n",
       "      <td>115,000원</td>\n",
       "      <td>http://image.auction.co.kr/itemimage/1f/8f/41/...</td>\n",
       "    </tr>\n",
       "    <tr>\n",
       "      <th>1</th>\n",
       "      <td>[꼼빠니아] 꼼빠니아 모다아울렛 테일러드 카라의 트렌치 코트 -CAAS2-WCH50...</td>\n",
       "      <td>77,350원</td>\n",
       "      <td>http://image.auction.co.kr/itemimage/20/31/b0/...</td>\n",
       "    </tr>\n",
       "    <tr>\n",
       "      <th>2</th>\n",
       "      <td>[베네통] 베네통 모다아울렛 베네통 트위드 롱 가디건 BAKC02011</td>\n",
       "      <td>149,700원</td>\n",
       "      <td>http://image.auction.co.kr/itemimage/26/06/c4/...</td>\n",
       "    </tr>\n",
       "    <tr>\n",
       "      <th>3</th>\n",
       "      <td>[꼼빠니아] 꼼빠니아 모다아울렛 테일러드 카라의 실크 트렌치 코트 -CAAS2-WC...</td>\n",
       "      <td>77,350원</td>\n",
       "      <td>http://image.auction.co.kr/itemimage/20/31/b0/...</td>\n",
       "    </tr>\n",
       "    <tr>\n",
       "      <th>4</th>\n",
       "      <td>제시뉴욕 모다아울렛 랩롱원피스BA65NLOQ1400</td>\n",
       "      <td>75,840원</td>\n",
       "      <td>http://image.auction.co.kr/itemimage/1d/33/16/...</td>\n",
       "    </tr>\n",
       "    <tr>\n",
       "      <th>...</th>\n",
       "      <td>...</td>\n",
       "      <td>...</td>\n",
       "      <td>...</td>\n",
       "    </tr>\n",
       "    <tr>\n",
       "      <th>115</th>\n",
       "      <td>[ab.f.z] 에이비에프지 모다아울렛 (겨울신상)AFU4GC 헤링본 모직 코트</td>\n",
       "      <td>113,520원</td>\n",
       "      <td>http://pics.auction.co.kr/common/blank.gif</td>\n",
       "    </tr>\n",
       "    <tr>\n",
       "      <th>116</th>\n",
       "      <td>트리아나 모다아울렛 니트후드반코트AE4GA02q</td>\n",
       "      <td>51,600원</td>\n",
       "      <td>http://pics.auction.co.kr/common/blank.gif</td>\n",
       "    </tr>\n",
       "    <tr>\n",
       "      <th>117</th>\n",
       "      <td>트리아나 모다아울렛 무스탕q</td>\n",
       "      <td>257,140원</td>\n",
       "      <td>http://pics.auction.co.kr/common/blank.gif</td>\n",
       "    </tr>\n",
       "    <tr>\n",
       "      <th>118</th>\n",
       "      <td>[ab.f.z] 에이비에프지 모다아울렛 AFU1GS H라인 정장 스커트</td>\n",
       "      <td>52,360원</td>\n",
       "      <td>http://pics.auction.co.kr/common/blank.gif</td>\n",
       "    </tr>\n",
       "    <tr>\n",
       "      <th>119</th>\n",
       "      <td>[ab.f.z] 에이비에프지 모다아울렛 (모다행담도)AFU1GO 레터링 후드롱 니트...</td>\n",
       "      <td>52,710원</td>\n",
       "      <td>http://pics.auction.co.kr/common/blank.gif</td>\n",
       "    </tr>\n",
       "  </tbody>\n",
       "</table>\n",
       "<p>120 rows × 3 columns</p>\n",
       "</div>"
      ],
      "text/plain": [
       "                                                 title       url  \\\n",
       "0                    올포유 모다아울렛 가을 여성 체크패턴 점퍼 AWJUI7308  115,000원   \n",
       "1    [꼼빠니아] 꼼빠니아 모다아울렛 테일러드 카라의 트렌치 코트 -CAAS2-WCH50...   77,350원   \n",
       "2              [베네통] 베네통 모다아울렛 베네통 트위드 롱 가디건 BAKC02011  149,700원   \n",
       "3    [꼼빠니아] 꼼빠니아 모다아울렛 테일러드 카라의 실크 트렌치 코트 -CAAS2-WC...   77,350원   \n",
       "4                         제시뉴욕 모다아울렛 랩롱원피스BA65NLOQ1400   75,840원   \n",
       "..                                                 ...       ...   \n",
       "115       [ab.f.z] 에이비에프지 모다아울렛 (겨울신상)AFU4GC 헤링본 모직 코트  113,520원   \n",
       "116                         트리아나 모다아울렛 니트후드반코트AE4GA02q   51,600원   \n",
       "117                                    트리아나 모다아울렛 무스탕q  257,140원   \n",
       "118            [ab.f.z] 에이비에프지 모다아울렛 AFU1GS H라인 정장 스커트   52,360원   \n",
       "119  [ab.f.z] 에이비에프지 모다아울렛 (모다행담도)AFU1GO 레터링 후드롱 니트...   52,710원   \n",
       "\n",
       "                                                   img  \n",
       "0    http://image.auction.co.kr/itemimage/1f/8f/41/...  \n",
       "1    http://image.auction.co.kr/itemimage/20/31/b0/...  \n",
       "2    http://image.auction.co.kr/itemimage/26/06/c4/...  \n",
       "3    http://image.auction.co.kr/itemimage/20/31/b0/...  \n",
       "4    http://image.auction.co.kr/itemimage/1d/33/16/...  \n",
       "..                                                 ...  \n",
       "115         http://pics.auction.co.kr/common/blank.gif  \n",
       "116         http://pics.auction.co.kr/common/blank.gif  \n",
       "117         http://pics.auction.co.kr/common/blank.gif  \n",
       "118         http://pics.auction.co.kr/common/blank.gif  \n",
       "119         http://pics.auction.co.kr/common/blank.gif  \n",
       "\n",
       "[120 rows x 3 columns]"
      ]
     },
     "execution_count": 18,
     "metadata": {},
     "output_type": "execute_result"
    }
   ],
   "source": [
    "moda_prod = pd.DataFrame({'title' : title_list,\n",
    "                           'url' : price_list,\n",
    "                           'img' : img_list\n",
    "                           })\n",
    "moda_prod"
   ]
  },
  {
   "cell_type": "code",
   "execution_count": 19,
   "metadata": {},
   "outputs": [
    {
     "data": {
      "text/plain": [
       "'http://image.auction.co.kr/itemimage/20/31/b0/2031b09403.jpg'"
      ]
     },
     "execution_count": 19,
     "metadata": {},
     "output_type": "execute_result"
    }
   ],
   "source": [
    "moda_prod['img'][1]"
   ]
  },
  {
   "cell_type": "code",
   "execution_count": 20,
   "metadata": {},
   "outputs": [
    {
     "data": {
      "text/plain": [
       "'http://image.auction.co.kr/itemimage/1d/f9/ff/1df9ffcbd3.jpg'"
      ]
     },
     "execution_count": 20,
     "metadata": {},
     "output_type": "execute_result"
    }
   ],
   "source": [
    "moda_prod['img'][5]"
   ]
  },
  {
   "cell_type": "code",
   "execution_count": 21,
   "metadata": {},
   "outputs": [],
   "source": [
    "path_folder = './moda_img/' # path_folder = './': 현재 경로(폴더)\n",
    "import os\n",
    "if not os.path.isdir(path_folder):\n",
    "    os.mkdir(path_folder)"
   ]
  },
  {
   "cell_type": "code",
   "execution_count": 22,
   "metadata": {},
   "outputs": [],
   "source": [
    "from urllib.request import urlretrieve"
   ]
  },
  {
   "cell_type": "code",
   "execution_count": 16,
   "metadata": {},
   "outputs": [
    {
     "name": "stdout",
     "output_type": "stream",
     "text": [
      "1 >  56\n",
      "2 >  56\n",
      "3 >  56\n",
      "4 >  56\n",
      "5 >  56\n",
      "6 >  56\n",
      "7 >  -1\n",
      "8 >  -1\n",
      "9 >  -1\n",
      "10 >  -1\n",
      "11 >  -1\n",
      "12 >  -1\n",
      "13 >  -1\n",
      "14 >  -1\n",
      "15 >  -1\n",
      "16 >  -1\n",
      "17 >  -1\n",
      "18 >  -1\n",
      "19 >  -1\n",
      "20 >  -1\n",
      "21 >  -1\n",
      "22 >  -1\n",
      "23 >  -1\n",
      "24 >  -1\n",
      "25 >  -1\n",
      "26 >  -1\n",
      "27 >  -1\n",
      "28 >  -1\n",
      "29 >  -1\n",
      "30 >  -1\n",
      "31 >  -1\n",
      "32 >  -1\n",
      "33 >  -1\n",
      "34 >  -1\n",
      "35 >  -1\n",
      "36 >  -1\n",
      "37 >  -1\n",
      "38 >  -1\n",
      "39 >  -1\n",
      "40 >  -1\n",
      "41 >  -1\n",
      "42 >  -1\n",
      "43 >  -1\n",
      "44 >  -1\n",
      "45 >  -1\n",
      "46 >  -1\n",
      "47 >  -1\n",
      "48 >  -1\n",
      "49 >  -1\n",
      "50 >  -1\n",
      "51 >  -1\n",
      "52 >  -1\n",
      "53 >  -1\n",
      "54 >  -1\n",
      "55 >  -1\n",
      "56 >  -1\n",
      "57 >  -1\n",
      "58 >  -1\n",
      "59 >  -1\n",
      "60 >  -1\n",
      "61 >  56\n",
      "62 >  56\n",
      "63 >  56\n",
      "64 >  -1\n",
      "65 >  -1\n",
      "66 >  -1\n",
      "67 >  -1\n",
      "68 >  -1\n",
      "69 >  -1\n",
      "70 >  -1\n",
      "71 >  -1\n",
      "72 >  -1\n",
      "73 >  -1\n",
      "74 >  -1\n",
      "75 >  -1\n",
      "76 >  -1\n",
      "77 >  -1\n",
      "78 >  -1\n",
      "79 >  -1\n",
      "80 >  -1\n",
      "81 >  -1\n",
      "82 >  -1\n",
      "83 >  -1\n",
      "84 >  -1\n",
      "85 >  -1\n",
      "86 >  -1\n",
      "87 >  -1\n",
      "88 >  -1\n",
      "89 >  -1\n",
      "90 >  -1\n",
      "91 >  -1\n",
      "92 >  -1\n",
      "93 >  -1\n",
      "94 >  -1\n",
      "95 >  -1\n",
      "96 >  -1\n",
      "97 >  -1\n",
      "98 >  -1\n",
      "99 >  -1\n",
      "100 >  -1\n",
      "101 >  -1\n",
      "102 >  -1\n",
      "103 >  -1\n",
      "104 >  -1\n",
      "105 >  -1\n",
      "106 >  -1\n",
      "107 >  -1\n",
      "108 >  -1\n",
      "109 >  -1\n",
      "110 >  -1\n",
      "111 >  -1\n",
      "112 >  -1\n",
      "113 >  -1\n",
      "114 >  -1\n",
      "115 >  -1\n",
      "116 >  -1\n",
      "117 >  -1\n",
      "118 >  -1\n",
      "119 >  -1\n",
      "120 >  -1\n"
     ]
    }
   ],
   "source": [
    "i = 0\n",
    "for img in img_list:\n",
    "    i += 1 # i = i + 1\n",
    "    print(i, '> ', img.find('.jpg'))\n",
    "    if img.find('.jpg') != -1:\n",
    "        urlretrieve(img, path_folder + str(i) + '.jpg')\n",
    "    else:\n",
    "        urlretrieve(img, path_folder + str(i) + '.gif')"
   ]
  },
  {
   "cell_type": "code",
   "execution_count": 17,
   "metadata": {},
   "outputs": [],
   "source": [
    "from IPython.display import Image"
   ]
  },
  {
   "cell_type": "code",
   "execution_count": 20,
   "metadata": {},
   "outputs": [
    {
     "data": {
      "image/jpeg": "[encoded data removed]",
      "text/plain": [
       "<IPython.core.display.Image object>"
      ]
     },
     "execution_count": 20,
     "metadata": {},
     "output_type": "execute_result"
    }
   ],
   "source": [
    "Image('./moda_img/6.jpg')"
   ]
  },
  {
   "cell_type": "code",
   "execution_count": null,
   "metadata": {},
   "outputs": [],
   "source": []
  }
 ],
 "metadata": {
  "kernelspec": {
   "display_name": "Python 3 (ipykernel)",
   "language": "python",
   "name": "python3"
  },
  "language_info": {
   "codemirror_mode": {
    "name": "ipython",
    "version": 3
   },
   "file_extension": ".py",
   "mimetype": "text/x-python",
   "name": "python",
   "nbconvert_exporter": "python",
   "pygments_lexer": "ipython3",
   "version": "3.9.7"
  }
 },
 "nbformat": 4,
 "nbformat_minor": 2
}
