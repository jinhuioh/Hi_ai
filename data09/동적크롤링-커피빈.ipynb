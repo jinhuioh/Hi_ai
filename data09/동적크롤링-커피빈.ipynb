{
 "cells": [
  {
   "cell_type": "code",
   "execution_count": 13,
   "id": "39f24bcd",
   "metadata": {},
   "outputs": [],
   "source": [
    "#주요 라이브러리 임포트\n",
    "import warnings\n",
    "warnings.filterwarnings(action='ignore')\n",
    "from selenium.webdriver.common.by import By\n",
    "from selenium.webdriver.support.ui import WebDriverWait \n",
    "from selenium.webdriver.support import expected_conditions as EC\n",
    "#step1.selenium 패키지와 time 모듈 import\n",
    "from selenium import webdriver as wb\n",
    "from selenium.webdriver.common.keys import Keys\n",
    "import time\n",
    "import pandas as pd\n",
    "from bs4 import BeautifulSoup"
   ]
  },
  {
   "cell_type": "code",
   "execution_count": 5,
   "id": "6b7d532e",
   "metadata": {},
   "outputs": [],
   "source": [
    "#인스타 크롤링을 해보자!\n",
    "#1. 크롬 브라우저 실행\n",
    "driver = wb.Chrome('../chromedriver/chromedriver.exe')"
   ]
  },
  {
   "cell_type": "code",
   "execution_count": 6,
   "id": "0f88db84",
   "metadata": {},
   "outputs": [],
   "source": [
    "#2. 특정한 페이지 접속\n",
    "url='https://www.coffeebeankorea.com/store/store.asp'\n",
    "driver.get(url)#http로 요청을 보내라<---http응답을 보낼 것임.\n",
    "time.sleep(2)"
   ]
  },
  {
   "cell_type": "code",
   "execution_count": 7,
   "id": "6debf430",
   "metadata": {},
   "outputs": [],
   "source": [
    "#자바스크립트읽어올 수 있는 함수 execute_script\n",
    "driver.execute_script('storePop2(31)')\n",
    "time.sleep(2)"
   ]
  },
  {
   "cell_type": "code",
   "execution_count": 8,
   "id": "e50d3267",
   "metadata": {},
   "outputs": [],
   "source": [
    "html = driver.page_source\n",
    "#html은 str"
   ]
  },
  {
   "cell_type": "code",
   "execution_count": 14,
   "id": "fc4f6ff3",
   "metadata": {},
   "outputs": [],
   "source": [
    "#뷰피풀 숲 이용해서\n",
    "doc = BeautifulSoup(html,'html.parser')\n",
    "#parser: 분석기\n",
    "#doc는 parser로 분석할 수 있는 dom-tree로 구성"
   ]
  },
  {
   "cell_type": "code",
   "execution_count": 15,
   "id": "6f6e49c0",
   "metadata": {},
   "outputs": [],
   "source": [
    "# 제목, 주소, 번호 추출해서 df로 만들어보자."
   ]
  },
  {
   "cell_type": "code",
   "execution_count": 43,
   "id": "8a354015",
   "metadata": {},
   "outputs": [
    {
     "data": {
      "text/plain": [
       "'삼성봉은사거리점'"
      ]
     },
     "execution_count": 43,
     "metadata": {},
     "output_type": "execute_result"
    }
   ],
   "source": [
    "branch = '#matizCoverLayer0Content > div > div > div.store_txt > h2'\n",
    "branch_name = driver.find_element_by_css_selector(branch)\n",
    "branch_text = branch_name.text\n",
    "branch_text"
   ]
  },
  {
   "cell_type": "code",
   "execution_count": 44,
   "id": "607143b4",
   "metadata": {},
   "outputs": [
    {
     "data": {
      "text/plain": [
       "'서울시 강남구 영동대로 607 1,2층'"
      ]
     },
     "execution_count": 44,
     "metadata": {},
     "output_type": "execute_result"
    }
   ],
   "source": [
    "title = '#matizCoverLayer0Content > div > div > div.store_txt > table > tbody:nth-child(1) > tr:nth-child(3) > td'\n",
    "title_name = driver.find_element_by_css_selector(title)\n",
    "title_text = title_name.text\n",
    "title_text"
   ]
  },
  {
   "cell_type": "code",
   "execution_count": 45,
   "id": "75d57c15",
   "metadata": {},
   "outputs": [
    {
     "data": {
      "text/plain": [
       "'02-3443-5618'"
      ]
     },
     "execution_count": 45,
     "metadata": {},
     "output_type": "execute_result"
    }
   ],
   "source": [
    "phone = '#matizCoverLayer0Content > div > div > div.store_txt > table > tbody:nth-child(1) > tr:nth-child(4) > td'\n",
    "phone_name = driver.find_element_by_css_selector(phone)\n",
    "phone_text = phone_name.text\n",
    "phone_text"
   ]
  },
  {
   "cell_type": "code",
   "execution_count": 46,
   "id": "1cdcfa72",
   "metadata": {},
   "outputs": [
    {
     "data": {
      "text/html": [
       "<div>\n",
       "<style scoped>\n",
       "    .dataframe tbody tr th:only-of-type {\n",
       "        vertical-align: middle;\n",
       "    }\n",
       "\n",
       "    .dataframe tbody tr th {\n",
       "        vertical-align: top;\n",
       "    }\n",
       "\n",
       "    .dataframe thead th {\n",
       "        text-align: right;\n",
       "    }\n",
       "</style>\n",
       "<table border=\"1\" class=\"dataframe\">\n",
       "  <thead>\n",
       "    <tr style=\"text-align: right;\">\n",
       "      <th></th>\n",
       "      <th>branch</th>\n",
       "      <th>addr</th>\n",
       "      <th>call</th>\n",
       "    </tr>\n",
       "  </thead>\n",
       "  <tbody>\n",
       "    <tr>\n",
       "      <th>0</th>\n",
       "      <td>삼성봉은사거리점</td>\n",
       "      <td>서울시 강남구 영동대로 607 1,2층</td>\n",
       "      <td>02-3443-5618</td>\n",
       "    </tr>\n",
       "  </tbody>\n",
       "</table>\n",
       "</div>"
      ],
      "text/plain": [
       "     branch                   addr          call\n",
       "0  삼성봉은사거리점  서울시 강남구 영동대로 607 1,2층  02-3443-5618"
      ]
     },
     "execution_count": 46,
     "metadata": {},
     "output_type": "execute_result"
    }
   ],
   "source": [
    "coffe_bean1 = pd.DataFrame({'branch':[branch_text],'addr':[title_text],'call':[phone_text]})\n",
    "coffe_bean1"
   ]
  },
  {
   "cell_type": "markdown",
   "id": "0580d11e",
   "metadata": {},
   "source": [
    "# 선생님 방법!! 꼭 보기~"
   ]
  },
  {
   "cell_type": "code",
   "execution_count": 47,
   "id": "654074d5",
   "metadata": {},
   "outputs": [],
   "source": [
    "###########################\n",
    "#선생님방법\n",
    "###########################"
   ]
  },
  {
   "cell_type": "code",
   "execution_count": 48,
   "id": "2a75be1f",
   "metadata": {},
   "outputs": [
    {
     "data": {
      "text/plain": [
       "[<h2>삼성봉은사거리점</h2>]"
      ]
     },
     "execution_count": 48,
     "metadata": {},
     "output_type": "execute_result"
    }
   ],
   "source": [
    "title1 = doc.select('div.store_txt > h2')\n",
    "title1\n"
   ]
  },
  {
   "cell_type": "code",
   "execution_count": 50,
   "id": "133de72d",
   "metadata": {},
   "outputs": [
    {
     "data": {
      "text/plain": [
       "<h2>삼성봉은사거리점</h2>"
      ]
     },
     "execution_count": 50,
     "metadata": {},
     "output_type": "execute_result"
    }
   ],
   "source": [
    "title1[0]#리스트에서 빼주자."
   ]
  },
  {
   "cell_type": "code",
   "execution_count": 60,
   "id": "d4c96027",
   "metadata": {},
   "outputs": [],
   "source": [
    "title2=title1[0].string#h2에서 빼주자"
   ]
  },
  {
   "cell_type": "code",
   "execution_count": 54,
   "id": "7d745605",
   "metadata": {},
   "outputs": [
    {
     "data": {
      "text/plain": [
       "[<td>평일 07:00-22:00 | 주말/공휴일 09:00-22:00</td>,\n",
       " <td>건물뒷편주차장(기계주차식) 평일 최초 30분 2,000원 / 1시간 5,000원 (구매영수증 지참시 30분 2,000원 / 1시간 3,500원 1시간 초과시 10분당 1,000원 ( 평일,주말 동일 )</td>,\n",
       " <td>서울시 강남구 영동대로 607 1,2층  <!--span class=\"lot\">(서울시 강남구 영동대로 607 1,2층)</span--></td>,\n",
       " <td>02-3443-5618</td>]"
      ]
     },
     "execution_count": 54,
     "metadata": {},
     "output_type": "execute_result"
    }
   ],
   "source": [
    "info = doc.select('div.store_txt > table.store_table > tbody >tr >td')\n",
    "info"
   ]
  },
  {
   "cell_type": "code",
   "execution_count": 55,
   "id": "563d9e34",
   "metadata": {
    "scrolled": true
   },
   "outputs": [
    {
     "data": {
      "text/plain": [
       "<td>서울시 강남구 영동대로 607 1,2층  <!--span class=\"lot\">(서울시 강남구 영동대로 607 1,2층)</span--></td>"
      ]
     },
     "execution_count": 55,
     "metadata": {},
     "output_type": "execute_result"
    }
   ],
   "source": [
    "addr = info[2]\n",
    "addr"
   ]
  },
  {
   "cell_type": "code",
   "execution_count": 61,
   "id": "5248676f",
   "metadata": {},
   "outputs": [
    {
     "name": "stdout",
     "output_type": "stream",
     "text": [
      "서울시 강남구 영동대로 607 1,2층  \n"
     ]
    }
   ],
   "source": [
    "addr2 = addr.getText()\n",
    "print(addr.getText())#getText함수를 사용해서 text만 추출"
   ]
  },
  {
   "cell_type": "code",
   "execution_count": 56,
   "id": "e4e8bf44",
   "metadata": {},
   "outputs": [
    {
     "data": {
      "text/plain": [
       "<td>02-3443-5618</td>"
      ]
     },
     "execution_count": 56,
     "metadata": {},
     "output_type": "execute_result"
    }
   ],
   "source": [
    "tel = info[3]\n",
    "tel"
   ]
  },
  {
   "cell_type": "code",
   "execution_count": 62,
   "id": "d7609377",
   "metadata": {},
   "outputs": [
    {
     "name": "stdout",
     "output_type": "stream",
     "text": [
      "02-3443-5618\n"
     ]
    }
   ],
   "source": [
    "tel2 = tel.string\n",
    "print(tel.string)"
   ]
  },
  {
   "cell_type": "code",
   "execution_count": 59,
   "id": "6d472606",
   "metadata": {},
   "outputs": [],
   "source": [
    "title_list=[]\n",
    "tel_list=[]\n",
    "addr_list=[]\n"
   ]
  },
  {
   "cell_type": "code",
   "execution_count": 63,
   "id": "5fe98867",
   "metadata": {},
   "outputs": [],
   "source": [
    "title_list.append(title2)#리스트에 값 넣기!"
   ]
  },
  {
   "cell_type": "code",
   "execution_count": 64,
   "id": "5c6f0b3d",
   "metadata": {},
   "outputs": [],
   "source": [
    "addr_list.append(addr2)#리스트에 값 넣기!"
   ]
  },
  {
   "cell_type": "code",
   "execution_count": 65,
   "id": "ce74f9b4",
   "metadata": {},
   "outputs": [],
   "source": [
    "tel_list.append(tel2)#리스트에 값 넣기!"
   ]
  },
  {
   "cell_type": "code",
   "execution_count": 66,
   "id": "d263e5aa",
   "metadata": {},
   "outputs": [
    {
     "name": "stdout",
     "output_type": "stream",
     "text": [
      "['삼성봉은사거리점'] ['서울시 강남구 영동대로 607 1,2층  '] ['02-3443-5618']\n"
     ]
    }
   ],
   "source": [
    "print(title_list,addr_list,tel_list)"
   ]
  },
  {
   "cell_type": "code",
   "execution_count": 67,
   "id": "d4ac82bf",
   "metadata": {},
   "outputs": [
    {
     "data": {
      "text/html": [
       "<div>\n",
       "<style scoped>\n",
       "    .dataframe tbody tr th:only-of-type {\n",
       "        vertical-align: middle;\n",
       "    }\n",
       "\n",
       "    .dataframe tbody tr th {\n",
       "        vertical-align: top;\n",
       "    }\n",
       "\n",
       "    .dataframe thead th {\n",
       "        text-align: right;\n",
       "    }\n",
       "</style>\n",
       "<table border=\"1\" class=\"dataframe\">\n",
       "  <thead>\n",
       "    <tr style=\"text-align: right;\">\n",
       "      <th></th>\n",
       "      <th>title</th>\n",
       "      <th>addr</th>\n",
       "      <th>tel</th>\n",
       "    </tr>\n",
       "  </thead>\n",
       "  <tbody>\n",
       "    <tr>\n",
       "      <th>0</th>\n",
       "      <td>삼성봉은사거리점</td>\n",
       "      <td>서울시 강남구 영동대로 607 1,2층</td>\n",
       "      <td>02-3443-5618</td>\n",
       "    </tr>\n",
       "  </tbody>\n",
       "</table>\n",
       "</div>"
      ],
      "text/plain": [
       "      title                     addr           tel\n",
       "0  삼성봉은사거리점  서울시 강남구 영동대로 607 1,2층    02-3443-5618"
      ]
     },
     "execution_count": 67,
     "metadata": {},
     "output_type": "execute_result"
    }
   ],
   "source": [
    "pd.DataFrame({\n",
    "    'title':title_list, 'addr':addr_list, ' tel':tel_list\n",
    "})"
   ]
  },
  {
   "cell_type": "markdown",
   "id": "fa96df5b",
   "metadata": {},
   "source": [
    "# 모듈화를 해보자!"
   ]
  },
  {
   "cell_type": "code",
   "execution_count": 117,
   "id": "cec0307a",
   "metadata": {},
   "outputs": [],
   "source": [
    "#1. 크롬 브라우저 실행\n",
    "def connect():\n",
    "    driver = wb.Chrome('../chromedriver/chromedriver.exe')\n",
    "    return driver"
   ]
  },
  {
   "cell_type": "code",
   "execution_count": 118,
   "id": "055dcb6a",
   "metadata": {},
   "outputs": [],
   "source": [
    "driver2 = None#전역변수\n",
    "url='https://www.coffeebeankorea.com/store/store.asp'"
   ]
  },
  {
   "cell_type": "code",
   "execution_count": 125,
   "id": "a4ced977",
   "metadata": {},
   "outputs": [],
   "source": [
    "# #2. 특정 페이지를 가져와서 스크립트를 실행하자.\n",
    "# def coffee_bean(no):#no는 번호 입력해줌, 입력값으로는 driver를 넣었다.하지만 driver가 전역변수일 때는 안써줌.\n",
    "#     driver2.get(url)\n",
    "#     time.sleep(2)\n",
    "#     func = \"storePop2('\" + str(no) + \"')\"\n",
    "#     shop=[]#title, addr, tel의 리스트를 리턴받는다.['삼성봉은사거리점'] ['서울시 강남구 영동대로 607 1,2층  '] ['02-3443-5618'] 이렇게\n",
    "    \n",
    "#     try:#폐점한 곳이나 번호가 없으면 오류나 가서 실행이 멈추기 때문에 트리아익셉션 문으로 감싸준다.\n",
    "#         #스크립트를 실행해라\n",
    "#         driver2.execute_script(func)\n",
    "#         time.sleep(2)\n",
    "#         #실행한 결과 html가져오자\n",
    "#         html2 = driver2.page_source\n",
    "#         #bsparser 설정\n",
    "#         doc2 = BeautifulSoup(html2,'html.parser')\n",
    "        \n",
    "#         #타이틀 검색\n",
    "#         title3 = doc2.select('div.store_txt > h2')\n",
    "#         title3\n",
    "#         print('title3>> ', title3)\n",
    "#         title4=title3[0].string#h2에서 빼주자\n",
    "#         print('title4>> ', title4)\n",
    "#         shop.append(title4)\n",
    "#         #주소 검색\n",
    "#         #전화번호 검색\n",
    "#     except:\n",
    "#         print('해당번호 없음')\n",
    "        \n",
    "#     return shop#title, addr, tel의 리스트를 리턴받는다.['삼성봉은사거리점'] ['서울시 강남구 영동대로 607 1,2층  '] ['02-3443-5618'] 이렇게\n",
    "## 2. 특정 페이지를 가지고 와서, 스크립트를 실행하자\n",
    "## 2. 특정 페이지를 가지고 와서, 스크립트를 실행하자\n",
    "def coffee_bean(no):\n",
    "    #driver2 = None # => 변수 새로 할당하는 경우!!\n",
    "    driver2.get(url)\n",
    "    time.sleep(1)\n",
    "    func = \"storePop2('\" + str(no) + \"')\"\n",
    "    shop = []\n",
    "    try:\n",
    "        # 스크립트 실행\n",
    "        driver2.execute_script(func)\n",
    "        time.sleep(1)\n",
    "        \n",
    "        # 실행한 결과 html 가지고 오세요.\n",
    "        html2 = driver2.page_source\n",
    "        \n",
    "        # bsparser설정\n",
    "        doc2 = BeautifulSoup(html2, 'html.parser')\n",
    "        \n",
    "        # 타이틀 검색\n",
    "        title3 = doc2.select('div.store_txt > h2')\n",
    "        print('title3>> ', title3)\n",
    "        title4 = title3[0].string\n",
    "        print('title4>> ', title4)\n",
    "        shop.append(title4)\n",
    "        \n",
    "        # 주소 검색\n",
    "        info2 = doc2.select('div.store_txt > table.store_table > tbody > tr > td')\n",
    "        addr2 = info2[2]\n",
    "        addr2= addr2.getText()\n",
    "        shop.append(addr2)\n",
    "        \n",
    "        # 전화번호 검색\n",
    "        tel2 = info[3]\n",
    "        tel3 = tel2.string\n",
    "        shop.append(tel3)\n",
    "    except:\n",
    "        print('해당번호없음')\n",
    "\n",
    "    return shop #[삼성봉은사거리점,서울시 강남구 영동대로 607 1,2층,02-3443-5618]\n"
   ]
  },
  {
   "cell_type": "code",
   "execution_count": 126,
   "id": "bf5d8be7",
   "metadata": {},
   "outputs": [],
   "source": [
    "\n",
    "driver2 = connect()#리턴이 shop 리스트이다.\n",
    "#같은방법\n",
    "# driver2 = connect()"
   ]
  },
  {
   "cell_type": "code",
   "execution_count": 127,
   "id": "9b806a55",
   "metadata": {},
   "outputs": [
    {
     "ename": "TimeoutException",
     "evalue": "Message: timeout: Timed out receiving message from renderer: 299.316\n  (Session info: chrome=99.0.4844.82)\nStacktrace:\nBacktrace:\n\tOrdinal0 [0x0044A0A3+2597027]\n\tOrdinal0 [0x003DBA61+2144865]\n\tOrdinal0 [0x002D3C58+1064024]\n\tOrdinal0 [0x002C58D7+1005783]\n\tOrdinal0 [0x002C48D7+1001687]\n\tOrdinal0 [0x002C4CA7+1002663]\n\tOrdinal0 [0x002CF14F+1044815]\n\tOrdinal0 [0x002D998B+1087883]\n\tOrdinal0 [0x002DC0A0+1097888]\n\tOrdinal0 [0x002C4FA6+1003430]\n\tOrdinal0 [0x002D9835+1087541]\n\tOrdinal0 [0x00328DE6+1412582]\n\tOrdinal0 [0x003185C6+1344966]\n\tOrdinal0 [0x002F54C6+1201350]\n\tOrdinal0 [0x002F63B6+1205174]\n\tGetHandleVerifier [0x005F10A2+1681842]\n\tGetHandleVerifier [0x006A3B0C+2413596]\n\tGetHandleVerifier [0x004E1221+568113]\n\tGetHandleVerifier [0x004DFFA3+563379]\n\tOrdinal0 [0x003E174E+2168654]\n\tOrdinal0 [0x003E6538+2188600]\n\tOrdinal0 [0x003E6680+2188928]\n\tOrdinal0 [0x003F030C+2229004]\n\tBaseThreadInitThunk [0x75D9FA29+25]\n\tRtlGetAppContainerNamedObjectPath [0x77C97A7E+286]\n\tRtlGetAppContainerNamedObjectPath [0x77C97A4E+238]\n",
     "output_type": "error",
     "traceback": [
      "\u001b[1;31m---------------------------------------------------------------------------\u001b[0m",
      "\u001b[1;31mTimeoutException\u001b[0m                          Traceback (most recent call last)",
      "\u001b[1;32m~\\AppData\\Local\\Temp/ipykernel_15144/343233854.py\u001b[0m in \u001b[0;36m<module>\u001b[1;34m\u001b[0m\n\u001b[1;32m----> 1\u001b[1;33m \u001b[0mcoffee_bean\u001b[0m\u001b[1;33m(\u001b[0m\u001b[1;36m31\u001b[0m\u001b[1;33m)\u001b[0m\u001b[1;33m\u001b[0m\u001b[1;33m\u001b[0m\u001b[0m\n\u001b[0m\u001b[0;32m      2\u001b[0m \u001b[1;31m#같은방법\u001b[0m\u001b[1;33m\u001b[0m\u001b[1;33m\u001b[0m\u001b[0m\n\u001b[0;32m      3\u001b[0m \u001b[1;31m# coffee_bean(1, driver2)\u001b[0m\u001b[1;33m\u001b[0m\u001b[1;33m\u001b[0m\u001b[0m\n",
      "\u001b[1;32m~\\AppData\\Local\\Temp/ipykernel_15144/2247206660.py\u001b[0m in \u001b[0;36mcoffee_bean\u001b[1;34m(no)\u001b[0m\n\u001b[0;32m     32\u001b[0m \u001b[1;32mdef\u001b[0m \u001b[0mcoffee_bean\u001b[0m\u001b[1;33m(\u001b[0m\u001b[0mno\u001b[0m\u001b[1;33m)\u001b[0m\u001b[1;33m:\u001b[0m\u001b[1;33m\u001b[0m\u001b[1;33m\u001b[0m\u001b[0m\n\u001b[0;32m     33\u001b[0m     \u001b[1;31m#driver2 = None # => 변수 새로 할당하는 경우!!\u001b[0m\u001b[1;33m\u001b[0m\u001b[1;33m\u001b[0m\u001b[0m\n\u001b[1;32m---> 34\u001b[1;33m     \u001b[0mdriver2\u001b[0m\u001b[1;33m.\u001b[0m\u001b[0mget\u001b[0m\u001b[1;33m(\u001b[0m\u001b[0murl\u001b[0m\u001b[1;33m)\u001b[0m\u001b[1;33m\u001b[0m\u001b[1;33m\u001b[0m\u001b[0m\n\u001b[0m\u001b[0;32m     35\u001b[0m     \u001b[0mtime\u001b[0m\u001b[1;33m.\u001b[0m\u001b[0msleep\u001b[0m\u001b[1;33m(\u001b[0m\u001b[1;36m1\u001b[0m\u001b[1;33m)\u001b[0m\u001b[1;33m\u001b[0m\u001b[1;33m\u001b[0m\u001b[0m\n\u001b[0;32m     36\u001b[0m     \u001b[0mfunc\u001b[0m \u001b[1;33m=\u001b[0m \u001b[1;34m\"storePop2('\"\u001b[0m \u001b[1;33m+\u001b[0m \u001b[0mstr\u001b[0m\u001b[1;33m(\u001b[0m\u001b[0mno\u001b[0m\u001b[1;33m)\u001b[0m \u001b[1;33m+\u001b[0m \u001b[1;34m\"')\"\u001b[0m\u001b[1;33m\u001b[0m\u001b[1;33m\u001b[0m\u001b[0m\n",
      "\u001b[1;32m~\\anaconda3\\lib\\site-packages\\selenium\\webdriver\\remote\\webdriver.py\u001b[0m in \u001b[0;36mget\u001b[1;34m(self, url)\u001b[0m\n\u001b[0;32m    435\u001b[0m         \u001b[0mLoads\u001b[0m \u001b[0ma\u001b[0m \u001b[0mweb\u001b[0m \u001b[0mpage\u001b[0m \u001b[1;32min\u001b[0m \u001b[0mthe\u001b[0m \u001b[0mcurrent\u001b[0m \u001b[0mbrowser\u001b[0m \u001b[0msession\u001b[0m\u001b[1;33m.\u001b[0m\u001b[1;33m\u001b[0m\u001b[1;33m\u001b[0m\u001b[0m\n\u001b[0;32m    436\u001b[0m         \"\"\"\n\u001b[1;32m--> 437\u001b[1;33m         \u001b[0mself\u001b[0m\u001b[1;33m.\u001b[0m\u001b[0mexecute\u001b[0m\u001b[1;33m(\u001b[0m\u001b[0mCommand\u001b[0m\u001b[1;33m.\u001b[0m\u001b[0mGET\u001b[0m\u001b[1;33m,\u001b[0m \u001b[1;33m{\u001b[0m\u001b[1;34m'url'\u001b[0m\u001b[1;33m:\u001b[0m \u001b[0murl\u001b[0m\u001b[1;33m}\u001b[0m\u001b[1;33m)\u001b[0m\u001b[1;33m\u001b[0m\u001b[1;33m\u001b[0m\u001b[0m\n\u001b[0m\u001b[0;32m    438\u001b[0m \u001b[1;33m\u001b[0m\u001b[0m\n\u001b[0;32m    439\u001b[0m     \u001b[1;33m@\u001b[0m\u001b[0mproperty\u001b[0m\u001b[1;33m\u001b[0m\u001b[1;33m\u001b[0m\u001b[0m\n",
      "\u001b[1;32m~\\anaconda3\\lib\\site-packages\\selenium\\webdriver\\remote\\webdriver.py\u001b[0m in \u001b[0;36mexecute\u001b[1;34m(self, driver_command, params)\u001b[0m\n\u001b[0;32m    423\u001b[0m         \u001b[0mresponse\u001b[0m \u001b[1;33m=\u001b[0m \u001b[0mself\u001b[0m\u001b[1;33m.\u001b[0m\u001b[0mcommand_executor\u001b[0m\u001b[1;33m.\u001b[0m\u001b[0mexecute\u001b[0m\u001b[1;33m(\u001b[0m\u001b[0mdriver_command\u001b[0m\u001b[1;33m,\u001b[0m \u001b[0mparams\u001b[0m\u001b[1;33m)\u001b[0m\u001b[1;33m\u001b[0m\u001b[1;33m\u001b[0m\u001b[0m\n\u001b[0;32m    424\u001b[0m         \u001b[1;32mif\u001b[0m \u001b[0mresponse\u001b[0m\u001b[1;33m:\u001b[0m\u001b[1;33m\u001b[0m\u001b[1;33m\u001b[0m\u001b[0m\n\u001b[1;32m--> 425\u001b[1;33m             \u001b[0mself\u001b[0m\u001b[1;33m.\u001b[0m\u001b[0merror_handler\u001b[0m\u001b[1;33m.\u001b[0m\u001b[0mcheck_response\u001b[0m\u001b[1;33m(\u001b[0m\u001b[0mresponse\u001b[0m\u001b[1;33m)\u001b[0m\u001b[1;33m\u001b[0m\u001b[1;33m\u001b[0m\u001b[0m\n\u001b[0m\u001b[0;32m    426\u001b[0m             response['value'] = self._unwrap_value(\n\u001b[0;32m    427\u001b[0m                 response.get('value', None))\n",
      "\u001b[1;32m~\\anaconda3\\lib\\site-packages\\selenium\\webdriver\\remote\\errorhandler.py\u001b[0m in \u001b[0;36mcheck_response\u001b[1;34m(self, response)\u001b[0m\n\u001b[0;32m    245\u001b[0m                 \u001b[0malert_text\u001b[0m \u001b[1;33m=\u001b[0m \u001b[0mvalue\u001b[0m\u001b[1;33m[\u001b[0m\u001b[1;34m'alert'\u001b[0m\u001b[1;33m]\u001b[0m\u001b[1;33m.\u001b[0m\u001b[0mget\u001b[0m\u001b[1;33m(\u001b[0m\u001b[1;34m'text'\u001b[0m\u001b[1;33m)\u001b[0m\u001b[1;33m\u001b[0m\u001b[1;33m\u001b[0m\u001b[0m\n\u001b[0;32m    246\u001b[0m             \u001b[1;32mraise\u001b[0m \u001b[0mexception_class\u001b[0m\u001b[1;33m(\u001b[0m\u001b[0mmessage\u001b[0m\u001b[1;33m,\u001b[0m \u001b[0mscreen\u001b[0m\u001b[1;33m,\u001b[0m \u001b[0mstacktrace\u001b[0m\u001b[1;33m,\u001b[0m \u001b[0malert_text\u001b[0m\u001b[1;33m)\u001b[0m  \u001b[1;31m# type: ignore[call-arg]  # mypy is not smart enough here\u001b[0m\u001b[1;33m\u001b[0m\u001b[1;33m\u001b[0m\u001b[0m\n\u001b[1;32m--> 247\u001b[1;33m         \u001b[1;32mraise\u001b[0m \u001b[0mexception_class\u001b[0m\u001b[1;33m(\u001b[0m\u001b[0mmessage\u001b[0m\u001b[1;33m,\u001b[0m \u001b[0mscreen\u001b[0m\u001b[1;33m,\u001b[0m \u001b[0mstacktrace\u001b[0m\u001b[1;33m)\u001b[0m\u001b[1;33m\u001b[0m\u001b[1;33m\u001b[0m\u001b[0m\n\u001b[0m\u001b[0;32m    248\u001b[0m \u001b[1;33m\u001b[0m\u001b[0m\n\u001b[0;32m    249\u001b[0m     \u001b[1;32mdef\u001b[0m \u001b[0m_value_or_default\u001b[0m\u001b[1;33m(\u001b[0m\u001b[0mself\u001b[0m\u001b[1;33m,\u001b[0m \u001b[0mobj\u001b[0m\u001b[1;33m:\u001b[0m \u001b[0mMapping\u001b[0m\u001b[1;33m[\u001b[0m\u001b[0m_KT\u001b[0m\u001b[1;33m,\u001b[0m \u001b[0m_VT\u001b[0m\u001b[1;33m]\u001b[0m\u001b[1;33m,\u001b[0m \u001b[0mkey\u001b[0m\u001b[1;33m:\u001b[0m \u001b[0m_KT\u001b[0m\u001b[1;33m,\u001b[0m \u001b[0mdefault\u001b[0m\u001b[1;33m:\u001b[0m \u001b[0m_VT\u001b[0m\u001b[1;33m)\u001b[0m \u001b[1;33m->\u001b[0m \u001b[0m_VT\u001b[0m\u001b[1;33m:\u001b[0m\u001b[1;33m\u001b[0m\u001b[1;33m\u001b[0m\u001b[0m\n",
      "\u001b[1;31mTimeoutException\u001b[0m: Message: timeout: Timed out receiving message from renderer: 299.316\n  (Session info: chrome=99.0.4844.82)\nStacktrace:\nBacktrace:\n\tOrdinal0 [0x0044A0A3+2597027]\n\tOrdinal0 [0x003DBA61+2144865]\n\tOrdinal0 [0x002D3C58+1064024]\n\tOrdinal0 [0x002C58D7+1005783]\n\tOrdinal0 [0x002C48D7+1001687]\n\tOrdinal0 [0x002C4CA7+1002663]\n\tOrdinal0 [0x002CF14F+1044815]\n\tOrdinal0 [0x002D998B+1087883]\n\tOrdinal0 [0x002DC0A0+1097888]\n\tOrdinal0 [0x002C4FA6+1003430]\n\tOrdinal0 [0x002D9835+1087541]\n\tOrdinal0 [0x00328DE6+1412582]\n\tOrdinal0 [0x003185C6+1344966]\n\tOrdinal0 [0x002F54C6+1201350]\n\tOrdinal0 [0x002F63B6+1205174]\n\tGetHandleVerifier [0x005F10A2+1681842]\n\tGetHandleVerifier [0x006A3B0C+2413596]\n\tGetHandleVerifier [0x004E1221+568113]\n\tGetHandleVerifier [0x004DFFA3+563379]\n\tOrdinal0 [0x003E174E+2168654]\n\tOrdinal0 [0x003E6538+2188600]\n\tOrdinal0 [0x003E6680+2188928]\n\tOrdinal0 [0x003F030C+2229004]\n\tBaseThreadInitThunk [0x75D9FA29+25]\n\tRtlGetAppContainerNamedObjectPath [0x77C97A7E+286]\n\tRtlGetAppContainerNamedObjectPath [0x77C97A4E+238]\n"
     ]
    }
   ],
   "source": [
    "coffee_bean(31)\n",
    "#같은방법\n",
    "# coffee_bean(1, driver2)"
   ]
  },
  {
   "cell_type": "code",
   "execution_count": null,
   "id": "e5ac0110",
   "metadata": {
    "scrolled": true
   },
   "outputs": [
    {
     "name": "stdout",
     "output_type": "stream",
     "text": [
      "----- 1 -------\n"
     ]
    }
   ],
   "source": [
    "for i in range(1,6):\n",
    "    print('-----',i,'-------')\n",
    "    shop3 = coffee_bean(i)\n",
    "    print(shop3)"
   ]
  },
  {
   "cell_type": "code",
   "execution_count": null,
   "id": "e8ea7b7d",
   "metadata": {},
   "outputs": [],
   "source": [
    "title_list2=[]\n",
    "tel_list2=[]\n",
    "addr_list2=[]\n"
   ]
  },
  {
   "cell_type": "code",
   "execution_count": null,
   "id": "a191cd3c",
   "metadata": {},
   "outputs": [],
   "source": [
    "for i in range(150):\n",
    "    print('-----',i,'-------')\n",
    "    shop3 = coffee_bean(i)\n",
    "    if len(shop3) !=0:\n",
    "        title_list2.append(shop3[0])\n",
    "        addr_list2.append(shop3[1])\n",
    "        tel_list2.append(shop3[2])\n",
    "    \n",
    "    print(shop3)#['학동역 DT점', '서울시 강남구 영동대로 607 1,2층  ', '02-3443-5618']"
   ]
  },
  {
   "cell_type": "code",
   "execution_count": null,
   "id": "0b2ff716",
   "metadata": {},
   "outputs": [],
   "source": [
    "pd.DataFrame({\n",
    "    'title':title_list, 'addr':addr_list, ' tel':tel_list\n",
    "})"
   ]
  },
  {
   "cell_type": "code",
   "execution_count": null,
   "id": "68246fd7",
   "metadata": {},
   "outputs": [],
   "source": []
  },
  {
   "cell_type": "code",
   "execution_count": null,
   "id": "2740e44e",
   "metadata": {},
   "outputs": [],
   "source": []
  }
 ],
 "metadata": {
  "kernelspec": {
   "display_name": "Python 3 (ipykernel)",
   "language": "python",
   "name": "python3"
  },
  "language_info": {
   "codemirror_mode": {
    "name": "ipython",
    "version": 3
   },
   "file_extension": ".py",
   "mimetype": "text/x-python",
   "name": "python",
   "nbconvert_exporter": "python",
   "pygments_lexer": "ipython3",
   "version": "3.9.7"
  }
 },
 "nbformat": 4,
 "nbformat_minor": 5
}
