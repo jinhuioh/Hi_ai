{
 "cells": [
  {
   "cell_type": "code",
   "execution_count": 13,
   "id": "39f24bcd",
   "metadata": {},
   "outputs": [],
   "source": [
    "#주요 라이브러리 임포트\n",
    "import warnings\n",
    "warnings.filterwarnings(action='ignore')\n",
    "from selenium.webdriver.common.by import By\n",
    "from selenium.webdriver.support.ui import WebDriverWait \n",
    "from selenium.webdriver.support import expected_conditions as EC\n",
    "#step1.selenium 패키지와 time 모듈 import\n",
    "from selenium import webdriver as wb\n",
    "from selenium.webdriver.common.keys import Keys\n",
    "import time\n",
    "import pandas as pd\n",
    "from bs4 import BeautifulSoup"
   ]
  },
  {
   "cell_type": "code",
   "execution_count": 5,
   "id": "6b7d532e",
   "metadata": {},
   "outputs": [],
   "source": [
    "#인스타 크롤링을 해보자!\n",
    "#1. 크롬 브라우저 실행\n",
    "driver = wb.Chrome('../chromedriver/chromedriver.exe')"
   ]
  },
  {
   "cell_type": "code",
   "execution_count": 6,
   "id": "0f88db84",
   "metadata": {},
   "outputs": [],
   "source": [
    "#2. 특정한 페이지 접속\n",
    "url='https://www.coffeebeankorea.com/store/store.asp'\n",
    "driver.get(url)#http로 요청을 보내라<---http응답을 보낼 것임.\n",
    "time.sleep(2)"
   ]
  },
  {
   "cell_type": "code",
   "execution_count": 7,
   "id": "6debf430",
   "metadata": {},
   "outputs": [],
   "source": [
    "#자바스크립트읽어올 수 있는 함수 execute_script\n",
    "driver.execute_script('storePop2(31)')\n",
    "time.sleep(2)"
   ]
  },
  {
   "cell_type": "code",
   "execution_count": 8,
   "id": "e50d3267",
   "metadata": {},
   "outputs": [],
   "source": [
    "html = driver.page_source\n",
    "#html은 str"
   ]
  },
  {
   "cell_type": "code",
   "execution_count": 14,
   "id": "fc4f6ff3",
   "metadata": {},
   "outputs": [],
   "source": [
    "#뷰피풀 숲 이용해서\n",
    "doc = BeautifulSoup(html,'html.parser')\n",
    "#parser: 분석기\n",
    "#doc는 parser로 분석할 수 있는 dom-tree로 구성"
   ]
  },
  {
   "cell_type": "code",
   "execution_count": 15,
   "id": "6f6e49c0",
   "metadata": {},
   "outputs": [],
   "source": [
    "# 제목, 주소, 번호 추출해서 df로 만들어보자."
   ]
  },
  {
   "cell_type": "code",
   "execution_count": 43,
   "id": "8a354015",
   "metadata": {},
   "outputs": [
    {
     "data": {
      "text/plain": [
       "'삼성봉은사거리점'"
      ]
     },
     "execution_count": 43,
     "metadata": {},
     "output_type": "execute_result"
    }
   ],
   "source": [
    "branch = '#matizCoverLayer0Content > div > div > div.store_txt > h2'\n",
    "branch_name = driver.find_element_by_css_selector(branch)\n",
    "branch_text = branch_name.text\n",
    "branch_text"
   ]
  },
  {
   "cell_type": "code",
   "execution_count": 44,
   "id": "607143b4",
   "metadata": {},
   "outputs": [
    {
     "data": {
      "text/plain": [
       "'서울시 강남구 영동대로 607 1,2층'"
      ]
     },
     "execution_count": 44,
     "metadata": {},
     "output_type": "execute_result"
    }
   ],
   "source": [
    "title = '#matizCoverLayer0Content > div > div > div.store_txt > table > tbody:nth-child(1) > tr:nth-child(3) > td'\n",
    "title_name = driver.find_element_by_css_selector(title)\n",
    "title_text = title_name.text\n",
    "title_text"
   ]
  },
  {
   "cell_type": "code",
   "execution_count": 45,
   "id": "75d57c15",
   "metadata": {},
   "outputs": [
    {
     "data": {
      "text/plain": [
       "'02-3443-5618'"
      ]
     },
     "execution_count": 45,
     "metadata": {},
     "output_type": "execute_result"
    }
   ],
   "source": [
    "phone = '#matizCoverLayer0Content > div > div > div.store_txt > table > tbody:nth-child(1) > tr:nth-child(4) > td'\n",
    "phone_name = driver.find_element_by_css_selector(phone)\n",
    "phone_text = phone_name.text\n",
    "phone_text"
   ]
  },
  {
   "cell_type": "code",
   "execution_count": 46,
   "id": "1cdcfa72",
   "metadata": {},
   "outputs": [
    {
     "data": {
      "text/html": [
       "<div>\n",
       "<style scoped>\n",
       "    .dataframe tbody tr th:only-of-type {\n",
       "        vertical-align: middle;\n",
       "    }\n",
       "\n",
       "    .dataframe tbody tr th {\n",
       "        vertical-align: top;\n",
       "    }\n",
       "\n",
       "    .dataframe thead th {\n",
       "        text-align: right;\n",
       "    }\n",
       "</style>\n",
       "<table border=\"1\" class=\"dataframe\">\n",
       "  <thead>\n",
       "    <tr style=\"text-align: right;\">\n",
       "      <th></th>\n",
       "      <th>branch</th>\n",
       "      <th>addr</th>\n",
       "      <th>call</th>\n",
       "    </tr>\n",
       "  </thead>\n",
       "  <tbody>\n",
       "    <tr>\n",
       "      <th>0</th>\n",
       "      <td>삼성봉은사거리점</td>\n",
       "      <td>서울시 강남구 영동대로 607 1,2층</td>\n",
       "      <td>02-3443-5618</td>\n",
       "    </tr>\n",
       "  </tbody>\n",
       "</table>\n",
       "</div>"
      ],
      "text/plain": [
       "     branch                   addr          call\n",
       "0  삼성봉은사거리점  서울시 강남구 영동대로 607 1,2층  02-3443-5618"
      ]
     },
     "execution_count": 46,
     "metadata": {},
     "output_type": "execute_result"
    }
   ],
   "source": [
    "coffe_bean1 = pd.DataFrame({'branch':[branch_text],'addr':[title_text],'call':[phone_text]})\n",
    "coffe_bean1"
   ]
  },
  {
   "cell_type": "markdown",
   "id": "0580d11e",
   "metadata": {},
   "source": [
    "# 선생님 방법!! 꼭 보기~"
   ]
  },
  {
   "cell_type": "code",
   "execution_count": 47,
   "id": "654074d5",
   "metadata": {},
   "outputs": [],
   "source": [
    "###########################\n",
    "#선생님방법\n",
    "###########################"
   ]
  },
  {
   "cell_type": "code",
   "execution_count": 48,
   "id": "2a75be1f",
   "metadata": {},
   "outputs": [
    {
     "data": {
      "text/plain": [
       "[<h2>삼성봉은사거리점</h2>]"
      ]
     },
     "execution_count": 48,
     "metadata": {},
     "output_type": "execute_result"
    }
   ],
   "source": [
    "title1 = doc.select('div.store_txt > h2')\n",
    "title1\n"
   ]
  },
  {
   "cell_type": "code",
   "execution_count": 50,
   "id": "133de72d",
   "metadata": {},
   "outputs": [
    {
     "data": {
      "text/plain": [
       "<h2>삼성봉은사거리점</h2>"
      ]
     },
     "execution_count": 50,
     "metadata": {},
     "output_type": "execute_result"
    }
   ],
   "source": [
    "title1[0]#리스트에서 빼주자."
   ]
  },
  {
   "cell_type": "code",
   "execution_count": 60,
   "id": "d4c96027",
   "metadata": {},
   "outputs": [],
   "source": [
    "title2=title1[0].string#h2에서 빼주자"
   ]
  },
  {
   "cell_type": "code",
   "execution_count": 54,
   "id": "7d745605",
   "metadata": {},
   "outputs": [
    {
     "data": {
      "text/plain": [
       "[<td>평일 07:00-22:00 | 주말/공휴일 09:00-22:00</td>,\n",
       " <td>건물뒷편주차장(기계주차식) 평일 최초 30분 2,000원 / 1시간 5,000원 (구매영수증 지참시 30분 2,000원 / 1시간 3,500원 1시간 초과시 10분당 1,000원 ( 평일,주말 동일 )</td>,\n",
       " <td>서울시 강남구 영동대로 607 1,2층  <!--span class=\"lot\">(서울시 강남구 영동대로 607 1,2층)</span--></td>,\n",
       " <td>02-3443-5618</td>]"
      ]
     },
     "execution_count": 54,
     "metadata": {},
     "output_type": "execute_result"
    }
   ],
   "source": [
    "info = doc.select('div.store_txt > table.store_table > tbody >tr >td')\n",
    "info"
   ]
  },
  {
   "cell_type": "code",
   "execution_count": 55,
   "id": "563d9e34",
   "metadata": {
    "scrolled": true
   },
   "outputs": [
    {
     "data": {
      "text/plain": [
       "<td>서울시 강남구 영동대로 607 1,2층  <!--span class=\"lot\">(서울시 강남구 영동대로 607 1,2층)</span--></td>"
      ]
     },
     "execution_count": 55,
     "metadata": {},
     "output_type": "execute_result"
    }
   ],
   "source": [
    "addr = info[2]\n",
    "addr"
   ]
  },
  {
   "cell_type": "code",
   "execution_count": 61,
   "id": "5248676f",
   "metadata": {},
   "outputs": [
    {
     "name": "stdout",
     "output_type": "stream",
     "text": [
      "서울시 강남구 영동대로 607 1,2층  \n"
     ]
    }
   ],
   "source": [
    "addr2 = addr.getText()\n",
    "print(addr.getText())#getText함수를 사용해서 text만 추출"
   ]
  },
  {
   "cell_type": "code",
   "execution_count": 56,
   "id": "e4e8bf44",
   "metadata": {},
   "outputs": [
    {
     "data": {
      "text/plain": [
       "<td>02-3443-5618</td>"
      ]
     },
     "execution_count": 56,
     "metadata": {},
     "output_type": "execute_result"
    }
   ],
   "source": [
    "tel = info[3]\n",
    "tel"
   ]
  },
  {
   "cell_type": "code",
   "execution_count": 62,
   "id": "d7609377",
   "metadata": {},
   "outputs": [
    {
     "name": "stdout",
     "output_type": "stream",
     "text": [
      "02-3443-5618\n"
     ]
    }
   ],
   "source": [
    "tel2 = tel.string\n",
    "print(tel.string)"
   ]
  },
  {
   "cell_type": "code",
   "execution_count": 59,
   "id": "6d472606",
   "metadata": {},
   "outputs": [],
   "source": [
    "title_list=[]\n",
    "tel_list=[]\n",
    "addr_list=[]\n"
   ]
  },
  {
   "cell_type": "code",
   "execution_count": 63,
   "id": "5fe98867",
   "metadata": {},
   "outputs": [],
   "source": [
    "title_list.append(title2)#리스트에 값 넣기!"
   ]
  },
  {
   "cell_type": "code",
   "execution_count": 64,
   "id": "5c6f0b3d",
   "metadata": {},
   "outputs": [],
   "source": [
    "addr_list.append(addr2)#리스트에 값 넣기!"
   ]
  },
  {
   "cell_type": "code",
   "execution_count": 65,
   "id": "ce74f9b4",
   "metadata": {},
   "outputs": [],
   "source": [
    "tel_list.append(tel2)#리스트에 값 넣기!"
   ]
  },
  {
   "cell_type": "code",
   "execution_count": 66,
   "id": "d263e5aa",
   "metadata": {},
   "outputs": [
    {
     "name": "stdout",
     "output_type": "stream",
     "text": [
      "['삼성봉은사거리점'] ['서울시 강남구 영동대로 607 1,2층  '] ['02-3443-5618']\n"
     ]
    }
   ],
   "source": [
    "print(title_list,addr_list,tel_list)"
   ]
  },
  {
   "cell_type": "code",
   "execution_count": 67,
   "id": "d4ac82bf",
   "metadata": {},
   "outputs": [
    {
     "data": {
      "text/html": [
       "<div>\n",
       "<style scoped>\n",
       "    .dataframe tbody tr th:only-of-type {\n",
       "        vertical-align: middle;\n",
       "    }\n",
       "\n",
       "    .dataframe tbody tr th {\n",
       "        vertical-align: top;\n",
       "    }\n",
       "\n",
       "    .dataframe thead th {\n",
       "        text-align: right;\n",
       "    }\n",
       "</style>\n",
       "<table border=\"1\" class=\"dataframe\">\n",
       "  <thead>\n",
       "    <tr style=\"text-align: right;\">\n",
       "      <th></th>\n",
       "      <th>title</th>\n",
       "      <th>addr</th>\n",
       "      <th>tel</th>\n",
       "    </tr>\n",
       "  </thead>\n",
       "  <tbody>\n",
       "    <tr>\n",
       "      <th>0</th>\n",
       "      <td>삼성봉은사거리점</td>\n",
       "      <td>서울시 강남구 영동대로 607 1,2층</td>\n",
       "      <td>02-3443-5618</td>\n",
       "    </tr>\n",
       "  </tbody>\n",
       "</table>\n",
       "</div>"
      ],
      "text/plain": [
       "      title                     addr           tel\n",
       "0  삼성봉은사거리점  서울시 강남구 영동대로 607 1,2층    02-3443-5618"
      ]
     },
     "execution_count": 67,
     "metadata": {},
     "output_type": "execute_result"
    }
   ],
   "source": [
    "pd.DataFrame({\n",
    "    'title':title_list, 'addr':addr_list, ' tel':tel_list\n",
    "})"
   ]
  },
  {
   "cell_type": "markdown",
   "id": "fa96df5b",
   "metadata": {},
   "source": [
    "# 모듈화를 해보자!"
   ]
  },
  {
   "cell_type": "code",
   "execution_count": 117,
   "id": "cec0307a",
   "metadata": {},
   "outputs": [],
   "source": [
    "#1. 크롬 브라우저 실행\n",
    "def connect():\n",
    "    driver = wb.Chrome('../chromedriver/chromedriver.exe')\n",
    "    return driver"
   ]
  },
  {
   "cell_type": "code",
   "execution_count": 118,
   "id": "055dcb6a",
   "metadata": {},
   "outputs": [],
   "source": [
    "driver2 = None#전역변수\n",
    "url='https://www.coffeebeankorea.com/store/store.asp'"
   ]
  },
  {
   "cell_type": "code",
   "execution_count": 119,
   "id": "a4ced977",
   "metadata": {},
   "outputs": [],
   "source": [
    "# #2. 특정 페이지를 가져와서 스크립트를 실행하자.\n",
    "# def coffee_bean(no):#no는 번호 입력해줌, 입력값으로는 driver를 넣었다.하지만 driver가 전역변수일 때는 안써줌.\n",
    "#     driver2.get(url)\n",
    "#     time.sleep(2)\n",
    "#     func = \"storePop2('\" + str(no) + \"')\"\n",
    "#     shop=[]#title, addr, tel의 리스트를 리턴받는다.['삼성봉은사거리점'] ['서울시 강남구 영동대로 607 1,2층  '] ['02-3443-5618'] 이렇게\n",
    "    \n",
    "#     try:#폐점한 곳이나 번호가 없으면 오류나 가서 실행이 멈추기 때문에 트리아익셉션 문으로 감싸준다.\n",
    "#         #스크립트를 실행해라\n",
    "#         driver2.execute_script(func)\n",
    "#         time.sleep(2)\n",
    "#         #실행한 결과 html가져오자\n",
    "#         html2 = driver2.page_source\n",
    "#         #bsparser 설정\n",
    "#         doc2 = BeautifulSoup(html2,'html.parser')\n",
    "        \n",
    "#         #타이틀 검색\n",
    "#         title3 = doc2.select('div.store_txt > h2')\n",
    "#         title3\n",
    "#         print('title3>> ', title3)\n",
    "#         title4=title3[0].string#h2에서 빼주자\n",
    "#         print('title4>> ', title4)\n",
    "#         shop.append(title4)\n",
    "#         #주소 검색\n",
    "#         #전화번호 검색\n",
    "#     except:\n",
    "#         print('해당번호 없음')\n",
    "        \n",
    "#     return shop#title, addr, tel의 리스트를 리턴받는다.['삼성봉은사거리점'] ['서울시 강남구 영동대로 607 1,2층  '] ['02-3443-5618'] 이렇게\n",
    "## 2. 특정 페이지를 가지고 와서, 스크립트를 실행하자\n",
    "## 2. 특정 페이지를 가지고 와서, 스크립트를 실행하자\n",
    "def coffee_bean(no):\n",
    "    #driver2 = None # => 변수 새로 할당하는 경우!!\n",
    "    driver2.get(url)\n",
    "    time.sleep(1)\n",
    "    func = \"storePop2('\" + str(no) + \"')\"\n",
    "    shop = []\n",
    "    try:\n",
    "        # 스크립트 실행\n",
    "        driver2.execute_script(func)\n",
    "        time.sleep(1)\n",
    "        \n",
    "        # 실행한 결과 html 가지고 오세요.\n",
    "        html2 = driver2.page_source\n",
    "        \n",
    "        # bsparser설정\n",
    "        doc2 = BeautifulSoup(html2, 'html.parser')\n",
    "        \n",
    "        # 타이틀 검색\n",
    "        title3 = doc2.select('div.store_txt > h2')\n",
    "        print('title3>> ', title3)\n",
    "        title4 = title3[0].string\n",
    "        print('title4>> ', title4)\n",
    "        shop.append(title4)\n",
    "        \n",
    "        # 주소 검색\n",
    "        info2 = doc.select('div.store_txt > table.store_table > tbody > tr > td')\n",
    "        addr2 = info2[2]\n",
    "        addr2= addr2.getText()\n",
    "        shop.append(addr2)\n",
    "        \n",
    "        # 전화번호 검색\n",
    "        tel2 = info[3]\n",
    "        tel3 = tel2.string\n",
    "        shop.append(tel3)\n",
    "    except:\n",
    "        print('해당번호없음')\n",
    "\n",
    "    return shop #[삼성봉은사거리점,서울시 강남구 영동대로 607 1,2층,02-3443-5618]\n"
   ]
  },
  {
   "cell_type": "code",
   "execution_count": 120,
   "id": "bf5d8be7",
   "metadata": {},
   "outputs": [],
   "source": [
    "\n",
    "driver2 = connect()#리턴이 shop 리스트이다.\n",
    "#같은방법\n",
    "# driver2 = connect()"
   ]
  },
  {
   "cell_type": "code",
   "execution_count": 121,
   "id": "9b806a55",
   "metadata": {},
   "outputs": [
    {
     "name": "stdout",
     "output_type": "stream",
     "text": [
      "title3>>  [<h2>삼성봉은사거리점</h2>]\n",
      "title4>>  삼성봉은사거리점\n"
     ]
    },
    {
     "data": {
      "text/plain": [
       "['삼성봉은사거리점', '서울시 강남구 영동대로 607 1,2층  ', '02-3443-5618']"
      ]
     },
     "execution_count": 121,
     "metadata": {},
     "output_type": "execute_result"
    }
   ],
   "source": [
    "coffee_bean(31)\n",
    "#같은방법\n",
    "# coffee_bean(1, driver2)"
   ]
  },
  {
   "cell_type": "code",
   "execution_count": 122,
   "id": "e5ac0110",
   "metadata": {
    "scrolled": true
   },
   "outputs": [
    {
     "name": "stdout",
     "output_type": "stream",
     "text": [
      "----- 1 -------\n",
      "title3>>  [<h2>학동역 DT점</h2>]\n",
      "title4>>  학동역 DT점\n",
      "['학동역 DT점', '서울시 강남구 영동대로 607 1,2층  ', '02-3443-5618']\n",
      "----- 2 -------\n",
      "title3>>  []\n",
      "해당번호없음\n",
      "[]\n",
      "----- 3 -------\n",
      "title3>>  [<h2>차병원점</h2>]\n",
      "title4>>  차병원점\n",
      "['차병원점', '서울시 강남구 영동대로 607 1,2층  ', '02-3443-5618']\n",
      "----- 4 -------\n",
      "title3>>  []\n",
      "해당번호없음\n",
      "[]\n",
      "----- 5 -------\n",
      "title3>>  []\n",
      "해당번호없음\n",
      "[]\n"
     ]
    }
   ],
   "source": [
    "for i in range(1,6):\n",
    "    print('-----',i,'-------')\n",
    "    shop3 = coffee_bean(i)\n",
    "    print(shop3)"
   ]
  },
  {
   "cell_type": "code",
   "execution_count": 123,
   "id": "e8ea7b7d",
   "metadata": {},
   "outputs": [],
   "source": [
    "title_list2=[]\n",
    "tel_list2=[]\n",
    "addr_list2=[]\n"
   ]
  },
  {
   "cell_type": "code",
   "execution_count": 124,
   "id": "a191cd3c",
   "metadata": {},
   "outputs": [
    {
     "name": "stdout",
     "output_type": "stream",
     "text": [
      "----- 0 -------\n",
      "title3>>  []\n",
      "해당번호없음\n",
      "[]\n",
      "----- 1 -------\n",
      "title3>>  [<h2>학동역 DT점</h2>]\n",
      "title4>>  학동역 DT점\n",
      "['학동역 DT점', '서울시 강남구 영동대로 607 1,2층  ', '02-3443-5618']\n",
      "----- 2 -------\n",
      "title3>>  []\n",
      "해당번호없음\n",
      "[]\n",
      "----- 3 -------\n",
      "title3>>  [<h2>차병원점</h2>]\n",
      "title4>>  차병원점\n",
      "['차병원점', '서울시 강남구 영동대로 607 1,2층  ', '02-3443-5618']\n",
      "----- 4 -------\n",
      "title3>>  []\n",
      "해당번호없음\n",
      "[]\n",
      "----- 5 -------\n",
      "title3>>  []\n",
      "해당번호없음\n",
      "[]\n",
      "----- 6 -------\n",
      "title3>>  [<h2>강남대로점</h2>]\n",
      "title4>>  강남대로점\n",
      "['강남대로점', '서울시 강남구 영동대로 607 1,2층  ', '02-3443-5618']\n",
      "----- 7 -------\n",
      "title3>>  []\n",
      "해당번호없음\n",
      "[]\n",
      "----- 8 -------\n",
      "title3>>  []\n",
      "해당번호없음\n",
      "[]\n",
      "----- 9 -------\n",
      "title3>>  []\n",
      "해당번호없음\n",
      "[]\n",
      "----- 10 -------\n",
      "title3>>  []\n",
      "해당번호없음\n",
      "[]\n",
      "----- 11 -------\n",
      "title3>>  [<h2>강남에스점</h2>]\n",
      "title4>>  강남에스점\n",
      "['강남에스점', '서울시 강남구 영동대로 607 1,2층  ', '02-3443-5618']\n",
      "----- 12 -------\n",
      "title3>>  [<h2>청담에스점</h2>]\n",
      "title4>>  청담에스점\n",
      "['청담에스점', '서울시 강남구 영동대로 607 1,2층  ', '02-3443-5618']\n",
      "----- 13 -------\n",
      "title3>>  [<h2>신사점</h2>]\n",
      "title4>>  신사점\n",
      "['신사점', '서울시 강남구 영동대로 607 1,2층  ', '02-3443-5618']\n",
      "----- 14 -------\n",
      "title3>>  [<h2>압구정역점</h2>]\n",
      "title4>>  압구정역점\n",
      "['압구정역점', '서울시 강남구 영동대로 607 1,2층  ', '02-3443-5618']\n",
      "----- 15 -------\n",
      "title3>>  [<h2>역삼점</h2>]\n",
      "title4>>  역삼점\n",
      "['역삼점', '서울시 강남구 영동대로 607 1,2층  ', '02-3443-5618']\n",
      "----- 16 -------\n",
      "title3>>  [<h2>양재스포타임점</h2>]\n",
      "title4>>  양재스포타임점\n",
      "['양재스포타임점', '서울시 강남구 영동대로 607 1,2층  ', '02-3443-5618']\n",
      "----- 17 -------\n",
      "title3>>  [<h2>청담성당점</h2>]\n",
      "title4>>  청담성당점\n",
      "['청담성당점', '서울시 강남구 영동대로 607 1,2층  ', '02-3443-5618']\n",
      "----- 18 -------\n",
      "title3>>  [<h2>영동점</h2>]\n",
      "title4>>  영동점\n",
      "['영동점', '서울시 강남구 영동대로 607 1,2층  ', '02-3443-5618']\n",
      "----- 19 -------\n",
      "title3>>  [<h2>도곡점</h2>]\n",
      "title4>>  도곡점\n",
      "['도곡점', '서울시 강남구 영동대로 607 1,2층  ', '02-3443-5618']\n",
      "----- 20 -------\n",
      "title3>>  [<h2>영동고앞점</h2>]\n",
      "title4>>  영동고앞점\n",
      "['영동고앞점', '서울시 강남구 영동대로 607 1,2층  ', '02-3443-5618']\n",
      "----- 21 -------\n",
      "title3>>  [<h2>공항터미널앞점</h2>]\n",
      "title4>>  공항터미널앞점\n",
      "['공항터미널앞점', '서울시 강남구 영동대로 607 1,2층  ', '02-3443-5618']\n",
      "----- 22 -------\n",
      "title3>>  []\n",
      "해당번호없음\n",
      "[]\n",
      "----- 23 -------\n",
      "title3>>  []\n",
      "해당번호없음\n",
      "[]\n",
      "----- 24 -------\n",
      "title3>>  []\n",
      "해당번호없음\n",
      "[]\n",
      "----- 25 -------\n",
      "title3>>  [<h2>압구정시티점</h2>]\n",
      "title4>>  압구정시티점\n",
      "['압구정시티점', '서울시 강남구 영동대로 607 1,2층  ', '02-3443-5618']\n",
      "----- 26 -------\n",
      "title3>>  [<h2>압구정로데오점</h2>]\n",
      "title4>>  압구정로데오점\n",
      "['압구정로데오점', '서울시 강남구 영동대로 607 1,2층  ', '02-3443-5618']\n",
      "----- 27 -------\n",
      "title3>>  [<h2>서초우성점</h2>]\n",
      "title4>>  서초우성점\n",
      "['서초우성점', '서울시 강남구 영동대로 607 1,2층  ', '02-3443-5618']\n",
      "----- 28 -------\n",
      "title3>>  [<h2>논현팍스타워점</h2>]\n",
      "title4>>  논현팍스타워점\n",
      "['논현팍스타워점', '서울시 강남구 영동대로 607 1,2층  ', '02-3443-5618']\n",
      "----- 29 -------\n",
      "title3>>  [<h2>삼성오크우드점</h2>]\n",
      "title4>>  삼성오크우드점\n",
      "['삼성오크우드점', '서울시 강남구 영동대로 607 1,2층  ', '02-3443-5618']\n",
      "----- 30 -------\n",
      "title3>>  [<h2>트레이드타워점</h2>]\n",
      "title4>>  트레이드타워점\n",
      "['트레이드타워점', '서울시 강남구 영동대로 607 1,2층  ', '02-3443-5618']\n",
      "----- 31 -------\n",
      "title3>>  [<h2>삼성봉은사거리점</h2>]\n",
      "title4>>  삼성봉은사거리점\n",
      "['삼성봉은사거리점', '서울시 강남구 영동대로 607 1,2층  ', '02-3443-5618']\n",
      "----- 32 -------\n",
      "title3>>  []\n",
      "해당번호없음\n",
      "[]\n",
      "----- 33 -------\n",
      "title3>>  []\n",
      "해당번호없음\n",
      "[]\n",
      "----- 34 -------\n",
      "title3>>  [<h2>반포엘루체점</h2>]\n",
      "title4>>  반포엘루체점\n",
      "['반포엘루체점', '서울시 강남구 영동대로 607 1,2층  ', '02-3443-5618']\n",
      "----- 35 -------\n",
      "title3>>  [<h2>잠실신천점</h2>]\n",
      "title4>>  잠실신천점\n",
      "['잠실신천점', '서울시 강남구 영동대로 607 1,2층  ', '02-3443-5618']\n",
      "----- 36 -------\n",
      "title3>>  [<h2>서초지파이브점</h2>]\n",
      "title4>>  서초지파이브점\n",
      "['서초지파이브점', '서울시 강남구 영동대로 607 1,2층  ', '02-3443-5618']\n",
      "----- 37 -------\n",
      "title3>>  []\n",
      "해당번호없음\n",
      "[]\n",
      "----- 38 -------\n",
      "title3>>  [<h2>논현동수면센터점</h2>]\n",
      "title4>>  논현동수면센터점\n",
      "['논현동수면센터점', '서울시 강남구 영동대로 607 1,2층  ', '02-3443-5618']\n",
      "----- 39 -------\n",
      "title3>>  []\n",
      "해당번호없음\n",
      "[]\n",
      "----- 40 -------\n",
      "title3>>  []\n",
      "해당번호없음\n",
      "[]\n",
      "----- 41 -------\n",
      "title3>>  [<h2>삼성전자강남사옥점</h2>]\n",
      "title4>>  삼성전자강남사옥점\n",
      "['삼성전자강남사옥점', '서울시 강남구 영동대로 607 1,2층  ', '02-3443-5618']\n",
      "----- 42 -------\n",
      "title3>>  []\n",
      "해당번호없음\n",
      "[]\n",
      "----- 43 -------\n",
      "title3>>  []\n",
      "해당번호없음\n",
      "[]\n",
      "----- 44 -------\n",
      "title3>>  [<h2>삼성생명강남사옥점</h2>]\n",
      "title4>>  삼성생명강남사옥점\n",
      "['삼성생명강남사옥점', '서울시 강남구 영동대로 607 1,2층  ', '02-3443-5618']\n",
      "----- 45 -------\n",
      "title3>>  [<h2>방배카페골목점</h2>]\n",
      "title4>>  방배카페골목점\n",
      "['방배카페골목점', '서울시 강남구 영동대로 607 1,2층  ', '02-3443-5618']\n",
      "----- 46 -------\n",
      "title3>>  [<h2>역삼포스틸타워뒷점</h2>]\n",
      "title4>>  역삼포스틸타워뒷점\n",
      "['역삼포스틸타워뒷점', '서울시 강남구 영동대로 607 1,2층  ', '02-3443-5618']\n",
      "----- 47 -------\n",
      "title3>>  [<h2>테헤란로하이닉스뒷점</h2>]\n",
      "title4>>  테헤란로하이닉스뒷점\n",
      "['테헤란로하이닉스뒷점', '서울시 강남구 영동대로 607 1,2층  ', '02-3443-5618']\n",
      "----- 48 -------\n",
      "title3>>  []\n",
      "해당번호없음\n",
      "[]\n",
      "----- 49 -------\n",
      "title3>>  [<h2>삼성봉은사로점</h2>]\n",
      "title4>>  삼성봉은사로점\n",
      "['삼성봉은사로점', '서울시 강남구 영동대로 607 1,2층  ', '02-3443-5618']\n",
      "----- 50 -------\n",
      "title3>>  [<h2>방이점</h2>]\n",
      "title4>>  방이점\n",
      "['방이점', '서울시 강남구 영동대로 607 1,2층  ', '02-3443-5618']\n",
      "----- 51 -------\n",
      "title3>>  [<h2>매봉역점</h2>]\n",
      "title4>>  매봉역점\n",
      "['매봉역점', '서울시 강남구 영동대로 607 1,2층  ', '02-3443-5618']\n",
      "----- 52 -------\n",
      "title3>>  [<h2>남부터미널역점</h2>]\n",
      "title4>>  남부터미널역점\n",
      "['남부터미널역점', '서울시 강남구 영동대로 607 1,2층  ', '02-3443-5618']\n",
      "----- 53 -------\n",
      "title3>>  [<h2>강남역랭기지타워점</h2>]\n",
      "title4>>  강남역랭기지타워점\n",
      "['강남역랭기지타워점', '서울시 강남구 영동대로 607 1,2층  ', '02-3443-5618']\n",
      "----- 54 -------\n",
      "title3>>  []\n",
      "해당번호없음\n",
      "[]\n",
      "----- 55 -------\n",
      "title3>>  [<h2>도심공항타워점</h2>]\n",
      "title4>>  도심공항타워점\n",
      "['도심공항타워점', '서울시 강남구 영동대로 607 1,2층  ', '02-3443-5618']\n",
      "----- 56 -------\n",
      "title3>>  []\n",
      "해당번호없음\n",
      "[]\n",
      "----- 57 -------\n",
      "title3>>  [<h2>청담카페점</h2>]\n",
      "title4>>  청담카페점\n",
      "['청담카페점', '서울시 강남구 영동대로 607 1,2층  ', '02-3443-5618']\n",
      "----- 58 -------\n",
      "title3>>  []\n",
      "해당번호없음\n",
      "[]\n",
      "----- 59 -------\n",
      "title3>>  [<h2>광화문점</h2>]\n",
      "title4>>  광화문점\n",
      "['광화문점', '서울시 강남구 영동대로 607 1,2층  ', '02-3443-5618']\n",
      "----- 60 -------\n",
      "title3>>  []\n",
      "해당번호없음\n",
      "[]\n",
      "----- 61 -------\n",
      "title3>>  [<h2>경희궁의아침점</h2>]\n",
      "title4>>  경희궁의아침점\n",
      "['경희궁의아침점', '서울시 강남구 영동대로 607 1,2층  ', '02-3443-5618']\n",
      "----- 62 -------\n",
      "title3>>  []\n",
      "해당번호없음\n",
      "[]\n",
      "----- 63 -------\n",
      "title3>>  [<h2>홍대역점</h2>]\n",
      "title4>>  홍대역점\n",
      "['홍대역점', '서울시 강남구 영동대로 607 1,2층  ', '02-3443-5618']\n",
      "----- 64 -------\n",
      "title3>>  []\n",
      "해당번호없음\n",
      "[]\n",
      "----- 65 -------\n",
      "title3>>  [<h2>순화점</h2>]\n",
      "title4>>  순화점\n",
      "['순화점', '서울시 강남구 영동대로 607 1,2층  ', '02-3443-5618']\n",
      "----- 66 -------\n",
      "title3>>  [<h2>종로관철동점</h2>]\n",
      "title4>>  종로관철동점\n",
      "['종로관철동점', '서울시 강남구 영동대로 607 1,2층  ', '02-3443-5618']\n",
      "----- 67 -------\n",
      "title3>>  [<h2>소공동삼화빌딩점</h2>]\n",
      "title4>>  소공동삼화빌딩점\n",
      "['소공동삼화빌딩점', '서울시 강남구 영동대로 607 1,2층  ', '02-3443-5618']\n",
      "----- 68 -------\n",
      "title3>>  []\n",
      "해당번호없음\n",
      "[]\n",
      "----- 69 -------\n",
      "title3>>  [<h2>강변테크노마트점</h2>]\n",
      "title4>>  강변테크노마트점\n",
      "['강변테크노마트점', '서울시 강남구 영동대로 607 1,2층  ', '02-3443-5618']\n",
      "----- 70 -------\n",
      "title3>>  []\n",
      "해당번호없음\n",
      "[]\n",
      "----- 71 -------\n",
      "title3>>  [<h2>외대앞점</h2>]\n",
      "title4>>  외대앞점\n",
      "['외대앞점', '서울시 강남구 영동대로 607 1,2층  ', '02-3443-5618']\n",
      "----- 72 -------\n",
      "title3>>  []\n",
      "해당번호없음\n",
      "[]\n",
      "----- 73 -------\n",
      "title3>>  [<h2>고대안암역점</h2>]\n",
      "title4>>  고대안암역점\n",
      "['고대안암역점', '서울시 강남구 영동대로 607 1,2층  ', '02-3443-5618']\n",
      "----- 74 -------\n",
      "title3>>  [<h2>순화동라마다호텔점</h2>]\n",
      "title4>>  순화동라마다호텔점\n",
      "['순화동라마다호텔점', '서울시 강남구 영동대로 607 1,2층  ', '02-3443-5618']\n",
      "----- 75 -------\n",
      "title3>>  []\n",
      "해당번호없음\n",
      "[]\n",
      "----- 76 -------\n",
      "title3>>  []\n",
      "해당번호없음\n",
      "[]\n",
      "----- 77 -------\n",
      "title3>>  []\n",
      "해당번호없음\n",
      "[]\n",
      "----- 78 -------\n",
      "title3>>  [<h2>세종문화회관옆점</h2>]\n",
      "title4>>  세종문화회관옆점\n",
      "['세종문화회관옆점', '서울시 강남구 영동대로 607 1,2층  ', '02-3443-5618']\n",
      "----- 79 -------\n",
      "title3>>  []\n",
      "해당번호없음\n",
      "[]\n",
      "----- 80 -------\n",
      "title3>>  [<h2>신촌점</h2>]\n",
      "title4>>  신촌점\n",
      "['신촌점', '서울시 강남구 영동대로 607 1,2층  ', '02-3443-5618']\n",
      "----- 81 -------\n",
      "title3>>  [<h2>건대스타시티점</h2>]\n",
      "title4>>  건대스타시티점\n",
      "['건대스타시티점', '서울시 강남구 영동대로 607 1,2층  ', '02-3443-5618']\n",
      "----- 82 -------\n",
      "title3>>  []\n",
      "해당번호없음\n",
      "[]\n",
      "----- 83 -------\n",
      "title3>>  [<h2>하나은행경복궁역점</h2>]\n",
      "title4>>  하나은행경복궁역점\n",
      "['하나은행경복궁역점', '서울시 강남구 영동대로 607 1,2층  ', '02-3443-5618']\n",
      "----- 84 -------\n",
      "title3>>  [<h2>중계동은행사거리점</h2>]\n",
      "title4>>  중계동은행사거리점\n",
      "['중계동은행사거리점', '서울시 강남구 영동대로 607 1,2층  ', '02-3443-5618']\n",
      "----- 85 -------\n",
      "title3>>  [<h2>서울스퀘어점</h2>]\n",
      "title4>>  서울스퀘어점\n",
      "['서울스퀘어점', '서울시 강남구 영동대로 607 1,2층  ', '02-3443-5618']\n",
      "----- 86 -------\n",
      "title3>>  []\n",
      "해당번호없음\n",
      "[]\n",
      "----- 87 -------\n",
      "title3>>  [<h2>목동점</h2>]\n",
      "title4>>  목동점\n",
      "['목동점', '서울시 강남구 영동대로 607 1,2층  ', '02-3443-5618']\n",
      "----- 88 -------\n",
      "title3>>  [<h2>여의도34번지점</h2>]\n",
      "title4>>  여의도34번지점\n",
      "['여의도34번지점', '서울시 강남구 영동대로 607 1,2층  ', '02-3443-5618']\n",
      "----- 89 -------\n",
      "title3>>  [<h2>여의도교보증권점</h2>]\n",
      "title4>>  여의도교보증권점\n",
      "['여의도교보증권점', '서울시 강남구 영동대로 607 1,2층  ', '02-3443-5618']\n",
      "----- 90 -------\n",
      "title3>>  []\n",
      "해당번호없음\n",
      "[]\n",
      "----- 91 -------\n",
      "title3>>  []\n",
      "해당번호없음\n",
      "[]\n",
      "----- 92 -------\n",
      "title3>>  [<h2>시흥홈플러스점</h2>]\n",
      "title4>>  시흥홈플러스점\n",
      "['시흥홈플러스점', '서울시 강남구 영동대로 607 1,2층  ', '02-3443-5618']\n",
      "----- 93 -------\n",
      "title3>>  []\n",
      "해당번호없음\n",
      "[]\n",
      "----- 94 -------\n",
      "title3>>  [<h2>여의도순복음교회옆점</h2>]\n",
      "title4>>  여의도순복음교회옆점\n",
      "['여의도순복음교회옆점', '서울시 강남구 영동대로 607 1,2층  ', '02-3443-5618']\n",
      "----- 95 -------\n"
     ]
    },
    {
     "name": "stdout",
     "output_type": "stream",
     "text": [
      "title3>>  []\n",
      "해당번호없음\n",
      "[]\n",
      "----- 96 -------\n",
      "title3>>  []\n",
      "해당번호없음\n",
      "[]\n",
      "----- 97 -------\n",
      "title3>>  []\n",
      "해당번호없음\n",
      "[]\n",
      "----- 98 -------\n",
      "title3>>  []\n",
      "해당번호없음\n",
      "[]\n",
      "----- 99 -------\n",
      "title3>>  []\n",
      "해당번호없음\n",
      "[]\n",
      "----- 100 -------\n",
      "title3>>  []\n",
      "해당번호없음\n",
      "[]\n",
      "----- 101 -------\n",
      "title3>>  []\n",
      "해당번호없음\n",
      "[]\n",
      "----- 102 -------\n",
      "title3>>  [<h2>부산광복동점</h2>]\n",
      "title4>>  부산광복동점\n",
      "['부산광복동점', '서울시 강남구 영동대로 607 1,2층  ', '02-3443-5618']\n",
      "----- 103 -------\n",
      "title3>>  []\n",
      "해당번호없음\n",
      "[]\n",
      "----- 104 -------\n",
      "title3>>  [<h2>인천구월동점</h2>]\n",
      "title4>>  인천구월동점\n",
      "['인천구월동점', '서울시 강남구 영동대로 607 1,2층  ', '02-3443-5618']\n",
      "----- 105 -------\n",
      "title3>>  []\n",
      "해당번호없음\n",
      "[]\n",
      "----- 106 -------\n",
      "title3>>  [<h2>대전탄방동점</h2>]\n",
      "title4>>  대전탄방동점\n",
      "['대전탄방동점', '서울시 강남구 영동대로 607 1,2층  ', '02-3443-5618']\n",
      "----- 107 -------\n",
      "title3>>  []\n",
      "해당번호없음\n",
      "[]\n",
      "----- 108 -------\n",
      "title3>>  [<h2>일산라페스타점</h2>]\n",
      "title4>>  일산라페스타점\n",
      "['일산라페스타점', '서울시 강남구 영동대로 607 1,2층  ', '02-3443-5618']\n",
      "----- 109 -------\n",
      "title3>>  [<h2>일산웨스턴돔1호점</h2>]\n",
      "title4>>  일산웨스턴돔1호점\n",
      "['일산웨스턴돔1호점', '서울시 강남구 영동대로 607 1,2층  ', '02-3443-5618']\n",
      "----- 110 -------\n",
      "title3>>  []\n",
      "해당번호없음\n",
      "[]\n",
      "----- 111 -------\n",
      "title3>>  []\n",
      "해당번호없음\n",
      "[]\n",
      "----- 112 -------\n",
      "title3>>  [<h2>분당서현점</h2>]\n",
      "title4>>  분당서현점\n",
      "['분당서현점', '서울시 강남구 영동대로 607 1,2층  ', '02-3443-5618']\n",
      "----- 113 -------\n",
      "title3>>  [<h2>분당플라자점</h2>]\n",
      "title4>>  분당플라자점\n",
      "['분당플라자점', '서울시 강남구 영동대로 607 1,2층  ', '02-3443-5618']\n",
      "----- 114 -------\n",
      "title3>>  [<h2>분당차병원점</h2>]\n",
      "title4>>  분당차병원점\n",
      "['분당차병원점', '서울시 강남구 영동대로 607 1,2층  ', '02-3443-5618']\n",
      "----- 115 -------\n",
      "title3>>  [<h2>분당수내점</h2>]\n",
      "title4>>  분당수내점\n",
      "['분당수내점', '서울시 강남구 영동대로 607 1,2층  ', '02-3443-5618']\n",
      "----- 116 -------\n",
      "title3>>  [<h2>동탄라마다호텔점</h2>]\n",
      "title4>>  동탄라마다호텔점\n",
      "['동탄라마다호텔점', '서울시 강남구 영동대로 607 1,2층  ', '02-3443-5618']\n",
      "----- 117 -------\n",
      "title3>>  []\n",
      "해당번호없음\n",
      "[]\n",
      "----- 118 -------\n",
      "title3>>  []\n",
      "해당번호없음\n",
      "[]\n",
      "----- 119 -------\n",
      "title3>>  []\n",
      "해당번호없음\n",
      "[]\n",
      "----- 120 -------\n",
      "title3>>  []\n",
      "해당번호없음\n",
      "[]\n",
      "----- 121 -------\n",
      "title3>>  []\n",
      "해당번호없음\n",
      "[]\n",
      "----- 122 -------\n",
      "title3>>  []\n",
      "해당번호없음\n",
      "[]\n",
      "----- 123 -------\n",
      "title3>>  []\n",
      "해당번호없음\n",
      "[]\n",
      "----- 124 -------\n",
      "title3>>  [<h2>창원상남동점</h2>]\n",
      "title4>>  창원상남동점\n",
      "['창원상남동점', '서울시 강남구 영동대로 607 1,2층  ', '02-3443-5618']\n",
      "----- 125 -------\n",
      "title3>>  []\n",
      "해당번호없음\n",
      "[]\n",
      "----- 126 -------\n",
      "title3>>  []\n",
      "해당번호없음\n",
      "[]\n",
      "----- 127 -------\n",
      "title3>>  [<h2>청주지웰시티점</h2>]\n",
      "title4>>  청주지웰시티점\n",
      "['청주지웰시티점', '서울시 강남구 영동대로 607 1,2층  ', '02-3443-5618']\n",
      "----- 128 -------\n",
      "title3>>  [<h2>무교CBTL점</h2>]\n",
      "title4>>  무교CBTL점\n",
      "['무교CBTL점', '서울시 강남구 영동대로 607 1,2층  ', '02-3443-5618']\n",
      "----- 129 -------\n",
      "title3>>  [<h2>국기원사거리점</h2>]\n",
      "title4>>  국기원사거리점\n",
      "['국기원사거리점', '서울시 강남구 영동대로 607 1,2층  ', '02-3443-5618']\n",
      "----- 130 -------\n",
      "title3>>  [<h2>무교점</h2>]\n",
      "title4>>  무교점\n",
      "['무교점', '서울시 강남구 영동대로 607 1,2층  ', '02-3443-5618']\n",
      "----- 131 -------\n",
      "title3>>  [<h2>남대문점</h2>]\n",
      "title4>>  남대문점\n",
      "['남대문점', '서울시 강남구 영동대로 607 1,2층  ', '02-3443-5618']\n",
      "----- 132 -------\n",
      "title3>>  [<h2>올림픽플라자점</h2>]\n",
      "title4>>  올림픽플라자점\n",
      "['올림픽플라자점', '서울시 강남구 영동대로 607 1,2층  ', '02-3443-5618']\n",
      "----- 133 -------\n",
      "title3>>  []\n",
      "해당번호없음\n",
      "[]\n",
      "----- 134 -------\n",
      "title3>>  [<h2>대학로마로니에점</h2>]\n",
      "title4>>  대학로마로니에점\n",
      "['대학로마로니에점', '서울시 강남구 영동대로 607 1,2층  ', '02-3443-5618']\n",
      "----- 135 -------\n",
      "title3>>  []\n",
      "해당번호없음\n",
      "[]\n",
      "----- 136 -------\n",
      "title3>>  []\n",
      "해당번호없음\n",
      "[]\n",
      "----- 137 -------\n",
      "title3>>  []\n",
      "해당번호없음\n",
      "[]\n",
      "----- 138 -------\n",
      "title3>>  []\n",
      "해당번호없음\n",
      "[]\n",
      "----- 139 -------\n",
      "title3>>  [<h2>인사점</h2>]\n",
      "title4>>  인사점\n",
      "['인사점', '서울시 강남구 영동대로 607 1,2층  ', '02-3443-5618']\n",
      "----- 140 -------\n",
      "title3>>  [<h2>테헤란로비젼타워점</h2>]\n",
      "title4>>  테헤란로비젼타워점\n",
      "['테헤란로비젼타워점', '서울시 강남구 영동대로 607 1,2층  ', '02-3443-5618']\n",
      "----- 141 -------\n",
      "title3>>  [<h2>서울대입구역점</h2>]\n",
      "title4>>  서울대입구역점\n",
      "['서울대입구역점', '서울시 강남구 영동대로 607 1,2층  ', '02-3443-5618']\n",
      "----- 142 -------\n",
      "title3>>  [<h2>코엑스인터점</h2>]\n",
      "title4>>  코엑스인터점\n",
      "['코엑스인터점', '서울시 강남구 영동대로 607 1,2층  ', '02-3443-5618']\n",
      "----- 143 -------\n",
      "title3>>  []\n",
      "해당번호없음\n",
      "[]\n",
      "----- 144 -------\n",
      "title3>>  []\n",
      "해당번호없음\n",
      "[]\n",
      "----- 145 -------\n",
      "title3>>  [<h2>뉴압구정점</h2>]\n",
      "title4>>  뉴압구정점\n",
      "['뉴압구정점', '서울시 강남구 영동대로 607 1,2층  ', '02-3443-5618']\n",
      "----- 146 -------\n",
      "title3>>  [<h2>디큐브시티점</h2>]\n",
      "title4>>  디큐브시티점\n",
      "['디큐브시티점', '서울시 강남구 영동대로 607 1,2층  ', '02-3443-5618']\n",
      "----- 147 -------\n",
      "title3>>  []\n",
      "해당번호없음\n",
      "[]\n",
      "----- 148 -------\n",
      "title3>>  []\n",
      "해당번호없음\n",
      "[]\n",
      "----- 149 -------\n",
      "title3>>  [<h2>충무로극동빌딩점</h2>]\n",
      "title4>>  충무로극동빌딩점\n",
      "['충무로극동빌딩점', '서울시 강남구 영동대로 607 1,2층  ', '02-3443-5618']\n"
     ]
    }
   ],
   "source": [
    "for i in range(150):\n",
    "    print('-----',i,'-------')\n",
    "    shop3 = coffee_bean(i)\n",
    "    if len(shop3) !=0:\n",
    "        title_list2.append(shop3[0])\n",
    "        addr_list2.append(shop3[1])\n",
    "        tel_list2.append(shop3[2])\n",
    "    \n",
    "    print(shop3)#['학동역 DT점', '서울시 강남구 영동대로 607 1,2층  ', '02-3443-5618']"
   ]
  },
  {
   "cell_type": "code",
   "execution_count": null,
   "id": "0b2ff716",
   "metadata": {},
   "outputs": [],
   "source": [
    "pd.DataFrame({\n",
    "    'title':title_list, 'addr':addr_list, ' tel':tel_list\n",
    "})"
   ]
  }
 ],
 "metadata": {
  "kernelspec": {
   "display_name": "Python 3 (ipykernel)",
   "language": "python",
   "name": "python3"
  },
  "language_info": {
   "codemirror_mode": {
    "name": "ipython",
    "version": 3
   },
   "file_extension": ".py",
   "mimetype": "text/x-python",
   "name": "python",
   "nbconvert_exporter": "python",
   "pygments_lexer": "ipython3",
   "version": "3.9.7"
  }
 },
 "nbformat": 4,
 "nbformat_minor": 5
}
