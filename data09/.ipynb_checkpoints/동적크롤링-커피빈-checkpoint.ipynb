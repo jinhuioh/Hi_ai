{
 "cells": [
  {
   "cell_type": "code",
   "execution_count": 13,
   "id": "f1f564a3",
   "metadata": {},
   "outputs": [],
   "source": [
    "#주요 라이브러리 임포트\n",
    "import warnings\n",
    "warnings.filterwarnings(action='ignore')\n",
    "from selenium.webdriver.common.by import By\n",
    "from selenium.webdriver.support.ui import WebDriverWait \n",
    "from selenium.webdriver.support import expected_conditions as EC\n",
    "#step1.selenium 패키지와 time 모듈 import\n",
    "from selenium import webdriver as wb\n",
    "from selenium.webdriver.common.keys import Keys\n",
    "import time\n",
    "import pandas as pd\n",
    "from bs4 import BeautifulSoup"
   ]
  },
  {
   "cell_type": "code",
   "execution_count": 5,
   "id": "79fc18b1",
   "metadata": {},
   "outputs": [],
   "source": [
    "#인스타 크롤링을 해보자!\n",
    "#1. 크롬 브라우저 실행\n",
    "driver = wb.Chrome('../chromedriver/chromedriver.exe')"
   ]
  },
  {
   "cell_type": "code",
   "execution_count": 6,
   "id": "f257b2bd",
   "metadata": {},
   "outputs": [],
   "source": [
    "#2. 특정한 페이지 접속\n",
    "url='https://www.coffeebeankorea.com/store/store.asp'\n",
    "driver.get(url)#http로 요청을 보내라<---http응답을 보낼 것임.\n",
    "time.sleep(2)"
   ]
  },
  {
   "cell_type": "code",
   "execution_count": 7,
   "id": "408f36f2",
   "metadata": {},
   "outputs": [],
   "source": [
    "#자바스크립트읽어올 수 있는 함수 execute_script\n",
    "driver.execute_script('storePop2(31)')\n",
    "time.sleep(2)"
   ]
  },
  {
   "cell_type": "code",
   "execution_count": 8,
   "id": "7e276b23",
   "metadata": {},
   "outputs": [],
   "source": [
    "html = driver.page_source\n",
    "#html은 str"
   ]
  },
  {
   "cell_type": "code",
   "execution_count": 14,
   "id": "1e7ae1a3",
   "metadata": {},
   "outputs": [],
   "source": [
    "#뷰피풀 숲 이용해서\n",
    "doc = BeautifulSoup(html,'html.parser')\n",
    "#parser: 분석기\n",
    "#doc는 parser로 분석할 수 있는 dom-tree로 구성"
   ]
  },
  {
   "cell_type": "code",
   "execution_count": 15,
   "id": "3ad13290",
   "metadata": {},
   "outputs": [],
   "source": [
    "#3개정도 추출해서 df로 만들어보자."
   ]
  },
  {
   "cell_type": "code",
   "execution_count": 43,
   "id": "fe0056fd",
   "metadata": {},
   "outputs": [
    {
     "data": {
      "text/plain": [
       "'삼성봉은사거리점'"
      ]
     },
     "execution_count": 43,
     "metadata": {},
     "output_type": "execute_result"
    }
   ],
   "source": [
    "branch = '#matizCoverLayer0Content > div > div > div.store_txt > h2'\n",
    "branch_name = driver.find_element_by_css_selector(branch)\n",
    "branch_text = branch_name.text\n",
    "branch_text"
   ]
  },
  {
   "cell_type": "code",
   "execution_count": 44,
   "id": "78a6b77c",
   "metadata": {},
   "outputs": [
    {
     "data": {
      "text/plain": [
       "'서울시 강남구 영동대로 607 1,2층'"
      ]
     },
     "execution_count": 44,
     "metadata": {},
     "output_type": "execute_result"
    }
   ],
   "source": [
    "title = '#matizCoverLayer0Content > div > div > div.store_txt > table > tbody:nth-child(1) > tr:nth-child(3) > td'\n",
    "title_name = driver.find_element_by_css_selector(title)\n",
    "title_text = title_name.text\n",
    "title_text"
   ]
  },
  {
   "cell_type": "code",
   "execution_count": 45,
   "id": "83f3cc72",
   "metadata": {},
   "outputs": [
    {
     "data": {
      "text/plain": [
       "'02-3443-5618'"
      ]
     },
     "execution_count": 45,
     "metadata": {},
     "output_type": "execute_result"
    }
   ],
   "source": [
    "phone = '#matizCoverLayer0Content > div > div > div.store_txt > table > tbody:nth-child(1) > tr:nth-child(4) > td'\n",
    "phone_name = driver.find_element_by_css_selector(phone)\n",
    "phone_text = phone_name.text\n",
    "phone_text"
   ]
  },
  {
   "cell_type": "code",
   "execution_count": 46,
   "id": "36be41bc",
   "metadata": {},
   "outputs": [
    {
     "data": {
      "text/html": [
       "<div>\n",
       "<style scoped>\n",
       "    .dataframe tbody tr th:only-of-type {\n",
       "        vertical-align: middle;\n",
       "    }\n",
       "\n",
       "    .dataframe tbody tr th {\n",
       "        vertical-align: top;\n",
       "    }\n",
       "\n",
       "    .dataframe thead th {\n",
       "        text-align: right;\n",
       "    }\n",
       "</style>\n",
       "<table border=\"1\" class=\"dataframe\">\n",
       "  <thead>\n",
       "    <tr style=\"text-align: right;\">\n",
       "      <th></th>\n",
       "      <th>branch</th>\n",
       "      <th>addr</th>\n",
       "      <th>call</th>\n",
       "    </tr>\n",
       "  </thead>\n",
       "  <tbody>\n",
       "    <tr>\n",
       "      <th>0</th>\n",
       "      <td>삼성봉은사거리점</td>\n",
       "      <td>서울시 강남구 영동대로 607 1,2층</td>\n",
       "      <td>02-3443-5618</td>\n",
       "    </tr>\n",
       "  </tbody>\n",
       "</table>\n",
       "</div>"
      ],
      "text/plain": [
       "     branch                   addr          call\n",
       "0  삼성봉은사거리점  서울시 강남구 영동대로 607 1,2층  02-3443-5618"
      ]
     },
     "execution_count": 46,
     "metadata": {},
     "output_type": "execute_result"
    }
   ],
   "source": [
    "coffe_bean1 = pd.DataFrame({'branch':[branch_text],'addr':[title_text],'call':[phone_text]})\n",
    "coffe_bean1"
   ]
  },
  {
   "cell_type": "code",
   "execution_count": null,
   "id": "82601e57",
   "metadata": {},
   "outputs": [],
   "source": []
  }
 ],
 "metadata": {
  "kernelspec": {
   "display_name": "Python 3 (ipykernel)",
   "language": "python",
   "name": "python3"
  },
  "language_info": {
   "codemirror_mode": {
    "name": "ipython",
    "version": 3
   },
   "file_extension": ".py",
   "mimetype": "text/x-python",
   "name": "python",
   "nbconvert_exporter": "python",
   "pygments_lexer": "ipython3",
   "version": "3.9.7"
  }
 },
 "nbformat": 4,
 "nbformat_minor": 5
}
