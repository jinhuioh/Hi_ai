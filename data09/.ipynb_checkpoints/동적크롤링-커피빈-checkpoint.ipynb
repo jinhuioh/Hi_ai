{
 "cells": [
  {
   "cell_type": "code",
   "execution_count": 13,
   "id": "1cc5fcdc",
   "metadata": {},
   "outputs": [],
   "source": [
    "#주요 라이브러리 임포트\n",
    "import warnings\n",
    "warnings.filterwarnings(action='ignore')\n",
    "from selenium.webdriver.common.by import By\n",
    "from selenium.webdriver.support.ui import WebDriverWait \n",
    "from selenium.webdriver.support import expected_conditions as EC\n",
    "#step1.selenium 패키지와 time 모듈 import\n",
    "from selenium import webdriver as wb\n",
    "from selenium.webdriver.common.keys import Keys\n",
    "import time\n",
    "import pandas as pd\n",
    "from bs4 import BeautifulSoup"
   ]
  },
  {
   "cell_type": "code",
   "execution_count": 5,
   "id": "7b3d9082",
   "metadata": {},
   "outputs": [],
   "source": [
    "#인스타 크롤링을 해보자!\n",
    "#1. 크롬 브라우저 실행\n",
    "driver = wb.Chrome('../chromedriver/chromedriver.exe')"
   ]
  },
  {
   "cell_type": "code",
   "execution_count": 6,
   "id": "20a9fdd1",
   "metadata": {},
   "outputs": [],
   "source": [
    "#2. 특정한 페이지 접속\n",
    "url='https://www.coffeebeankorea.com/store/store.asp'\n",
    "driver.get(url)#http로 요청을 보내라<---http응답을 보낼 것임.\n",
    "time.sleep(2)"
   ]
  },
  {
   "cell_type": "code",
   "execution_count": 7,
   "id": "7d5348bd",
   "metadata": {},
   "outputs": [],
   "source": [
    "#자바스크립트읽어올 수 있는 함수 execute_script\n",
    "driver.execute_script('storePop2(31)')\n",
    "time.sleep(2)"
   ]
  },
  {
   "cell_type": "code",
   "execution_count": 8,
   "id": "1258659c",
   "metadata": {},
   "outputs": [],
   "source": [
    "html = driver.page_source\n",
    "#html은 str"
   ]
  },
  {
   "cell_type": "code",
   "execution_count": 14,
   "id": "5ecb743f",
   "metadata": {},
   "outputs": [],
   "source": [
    "#뷰피풀 숲 이용해서\n",
    "doc = BeautifulSoup(html,'html.parser')\n",
    "#parser: 분석기\n",
    "#doc는 parser로 분석할 수 있는 dom-tree로 구성"
   ]
  },
  {
   "cell_type": "code",
   "execution_count": 15,
   "id": "26b5c9b3",
   "metadata": {},
   "outputs": [],
   "source": [
    "# 제목, 주소, 번호 추출해서 df로 만들어보자."
   ]
  },
  {
   "cell_type": "code",
   "execution_count": 43,
   "id": "dcae5946",
   "metadata": {},
   "outputs": [
    {
     "data": {
      "text/plain": [
       "'삼성봉은사거리점'"
      ]
     },
     "execution_count": 43,
     "metadata": {},
     "output_type": "execute_result"
    }
   ],
   "source": [
    "branch = '#matizCoverLayer0Content > div > div > div.store_txt > h2'\n",
    "branch_name = driver.find_element_by_css_selector(branch)\n",
    "branch_text = branch_name.text\n",
    "branch_text"
   ]
  },
  {
   "cell_type": "code",
   "execution_count": 44,
   "id": "46b1866a",
   "metadata": {},
   "outputs": [
    {
     "data": {
      "text/plain": [
       "'서울시 강남구 영동대로 607 1,2층'"
      ]
     },
     "execution_count": 44,
     "metadata": {},
     "output_type": "execute_result"
    }
   ],
   "source": [
    "title = '#matizCoverLayer0Content > div > div > div.store_txt > table > tbody:nth-child(1) > tr:nth-child(3) > td'\n",
    "title_name = driver.find_element_by_css_selector(title)\n",
    "title_text = title_name.text\n",
    "title_text"
   ]
  },
  {
   "cell_type": "code",
   "execution_count": 45,
   "id": "b11ead6a",
   "metadata": {},
   "outputs": [
    {
     "data": {
      "text/plain": [
       "'02-3443-5618'"
      ]
     },
     "execution_count": 45,
     "metadata": {},
     "output_type": "execute_result"
    }
   ],
   "source": [
    "phone = '#matizCoverLayer0Content > div > div > div.store_txt > table > tbody:nth-child(1) > tr:nth-child(4) > td'\n",
    "phone_name = driver.find_element_by_css_selector(phone)\n",
    "phone_text = phone_name.text\n",
    "phone_text"
   ]
  },
  {
   "cell_type": "code",
   "execution_count": 46,
   "id": "cdb37e94",
   "metadata": {},
   "outputs": [
    {
     "data": {
      "text/html": [
       "<div>\n",
       "<style scoped>\n",
       "    .dataframe tbody tr th:only-of-type {\n",
       "        vertical-align: middle;\n",
       "    }\n",
       "\n",
       "    .dataframe tbody tr th {\n",
       "        vertical-align: top;\n",
       "    }\n",
       "\n",
       "    .dataframe thead th {\n",
       "        text-align: right;\n",
       "    }\n",
       "</style>\n",
       "<table border=\"1\" class=\"dataframe\">\n",
       "  <thead>\n",
       "    <tr style=\"text-align: right;\">\n",
       "      <th></th>\n",
       "      <th>branch</th>\n",
       "      <th>addr</th>\n",
       "      <th>call</th>\n",
       "    </tr>\n",
       "  </thead>\n",
       "  <tbody>\n",
       "    <tr>\n",
       "      <th>0</th>\n",
       "      <td>삼성봉은사거리점</td>\n",
       "      <td>서울시 강남구 영동대로 607 1,2층</td>\n",
       "      <td>02-3443-5618</td>\n",
       "    </tr>\n",
       "  </tbody>\n",
       "</table>\n",
       "</div>"
      ],
      "text/plain": [
       "     branch                   addr          call\n",
       "0  삼성봉은사거리점  서울시 강남구 영동대로 607 1,2층  02-3443-5618"
      ]
     },
     "execution_count": 46,
     "metadata": {},
     "output_type": "execute_result"
    }
   ],
   "source": [
    "coffe_bean1 = pd.DataFrame({'branch':[branch_text],'addr':[title_text],'call':[phone_text]})\n",
    "coffe_bean1"
   ]
  },
  {
   "cell_type": "markdown",
   "id": "42db6918",
   "metadata": {},
   "source": [
    "# 선생님 방법!! 꼭 보기~"
   ]
  },
  {
   "cell_type": "code",
   "execution_count": 47,
   "id": "0541b48f",
   "metadata": {},
   "outputs": [],
   "source": [
    "###########################\n",
    "#선생님방법\n",
    "###########################"
   ]
  },
  {
   "cell_type": "code",
   "execution_count": 48,
   "id": "3a82f48d",
   "metadata": {},
   "outputs": [
    {
     "data": {
      "text/plain": [
       "[<h2>삼성봉은사거리점</h2>]"
      ]
     },
     "execution_count": 48,
     "metadata": {},
     "output_type": "execute_result"
    }
   ],
   "source": [
    "title1 = doc.select('div.store_txt > h2')\n",
    "title1\n"
   ]
  },
  {
   "cell_type": "code",
   "execution_count": 50,
   "id": "9b1b43ae",
   "metadata": {},
   "outputs": [
    {
     "data": {
      "text/plain": [
       "<h2>삼성봉은사거리점</h2>"
      ]
     },
     "execution_count": 50,
     "metadata": {},
     "output_type": "execute_result"
    }
   ],
   "source": [
    "title1[0]#리스트에서 빼주자."
   ]
  },
  {
   "cell_type": "code",
   "execution_count": 60,
   "id": "47a05f10",
   "metadata": {},
   "outputs": [],
   "source": [
    "title2=title1[0].string#h2에서 빼주자"
   ]
  },
  {
   "cell_type": "code",
   "execution_count": 54,
   "id": "c166a017",
   "metadata": {},
   "outputs": [
    {
     "data": {
      "text/plain": [
       "[<td>평일 07:00-22:00 | 주말/공휴일 09:00-22:00</td>,\n",
       " <td>건물뒷편주차장(기계주차식) 평일 최초 30분 2,000원 / 1시간 5,000원 (구매영수증 지참시 30분 2,000원 / 1시간 3,500원 1시간 초과시 10분당 1,000원 ( 평일,주말 동일 )</td>,\n",
       " <td>서울시 강남구 영동대로 607 1,2층  <!--span class=\"lot\">(서울시 강남구 영동대로 607 1,2층)</span--></td>,\n",
       " <td>02-3443-5618</td>]"
      ]
     },
     "execution_count": 54,
     "metadata": {},
     "output_type": "execute_result"
    }
   ],
   "source": [
    "info = doc.select('div.store_txt > table.store_table > tbody >tr >td')\n",
    "info"
   ]
  },
  {
   "cell_type": "code",
   "execution_count": 55,
   "id": "f650d5fe",
   "metadata": {
    "scrolled": true
   },
   "outputs": [
    {
     "data": {
      "text/plain": [
       "<td>서울시 강남구 영동대로 607 1,2층  <!--span class=\"lot\">(서울시 강남구 영동대로 607 1,2층)</span--></td>"
      ]
     },
     "execution_count": 55,
     "metadata": {},
     "output_type": "execute_result"
    }
   ],
   "source": [
    "addr = info[2]\n",
    "addr"
   ]
  },
  {
   "cell_type": "code",
   "execution_count": 61,
   "id": "2383b096",
   "metadata": {},
   "outputs": [
    {
     "name": "stdout",
     "output_type": "stream",
     "text": [
      "서울시 강남구 영동대로 607 1,2층  \n"
     ]
    }
   ],
   "source": [
    "addr2 = addr.getText()\n",
    "print(addr.getText())#getText함수를 사용해서 text만 추출"
   ]
  },
  {
   "cell_type": "code",
   "execution_count": 56,
   "id": "6718e38a",
   "metadata": {},
   "outputs": [
    {
     "data": {
      "text/plain": [
       "<td>02-3443-5618</td>"
      ]
     },
     "execution_count": 56,
     "metadata": {},
     "output_type": "execute_result"
    }
   ],
   "source": [
    "tel = info[3]\n",
    "tel"
   ]
  },
  {
   "cell_type": "code",
   "execution_count": 62,
   "id": "21e83b9b",
   "metadata": {},
   "outputs": [
    {
     "name": "stdout",
     "output_type": "stream",
     "text": [
      "02-3443-5618\n"
     ]
    }
   ],
   "source": [
    "tel2 = tel.string\n",
    "print(tel.string)"
   ]
  },
  {
   "cell_type": "code",
   "execution_count": 59,
   "id": "644dad3f",
   "metadata": {},
   "outputs": [],
   "source": [
    "title_list=[]\n",
    "tel_list=[]\n",
    "addr_list=[]\n"
   ]
  },
  {
   "cell_type": "code",
   "execution_count": 63,
   "id": "f6e7df9a",
   "metadata": {},
   "outputs": [],
   "source": [
    "title_list.append(title2)#리스트에 값 넣기!"
   ]
  },
  {
   "cell_type": "code",
   "execution_count": 64,
   "id": "244b1434",
   "metadata": {},
   "outputs": [],
   "source": [
    "addr_list.append(addr2)#리스트에 값 넣기!"
   ]
  },
  {
   "cell_type": "code",
   "execution_count": 65,
   "id": "dc845e08",
   "metadata": {},
   "outputs": [],
   "source": [
    "tel_list.append(tel2)#리스트에 값 넣기!"
   ]
  },
  {
   "cell_type": "code",
   "execution_count": 66,
   "id": "a138b6be",
   "metadata": {},
   "outputs": [
    {
     "name": "stdout",
     "output_type": "stream",
     "text": [
      "['삼성봉은사거리점'] ['서울시 강남구 영동대로 607 1,2층  '] ['02-3443-5618']\n"
     ]
    }
   ],
   "source": [
    "print(title_list,addr_list,tel_list)"
   ]
  },
  {
   "cell_type": "code",
   "execution_count": 67,
   "id": "b06afa12",
   "metadata": {},
   "outputs": [
    {
     "data": {
      "text/html": [
       "<div>\n",
       "<style scoped>\n",
       "    .dataframe tbody tr th:only-of-type {\n",
       "        vertical-align: middle;\n",
       "    }\n",
       "\n",
       "    .dataframe tbody tr th {\n",
       "        vertical-align: top;\n",
       "    }\n",
       "\n",
       "    .dataframe thead th {\n",
       "        text-align: right;\n",
       "    }\n",
       "</style>\n",
       "<table border=\"1\" class=\"dataframe\">\n",
       "  <thead>\n",
       "    <tr style=\"text-align: right;\">\n",
       "      <th></th>\n",
       "      <th>title</th>\n",
       "      <th>addr</th>\n",
       "      <th>tel</th>\n",
       "    </tr>\n",
       "  </thead>\n",
       "  <tbody>\n",
       "    <tr>\n",
       "      <th>0</th>\n",
       "      <td>삼성봉은사거리점</td>\n",
       "      <td>서울시 강남구 영동대로 607 1,2층</td>\n",
       "      <td>02-3443-5618</td>\n",
       "    </tr>\n",
       "  </tbody>\n",
       "</table>\n",
       "</div>"
      ],
      "text/plain": [
       "      title                     addr           tel\n",
       "0  삼성봉은사거리점  서울시 강남구 영동대로 607 1,2층    02-3443-5618"
      ]
     },
     "execution_count": 67,
     "metadata": {},
     "output_type": "execute_result"
    }
   ],
   "source": [
    "pd.DataFrame({\n",
    "    'title':title_list, 'addr':addr_list, ' tel':tel_list\n",
    "})"
   ]
  },
  {
   "cell_type": "markdown",
   "id": "52b6c934",
   "metadata": {},
   "source": [
    "# 모듈화를 해보자!"
   ]
  },
  {
   "cell_type": "code",
   "execution_count": 69,
   "id": "0466217a",
   "metadata": {},
   "outputs": [],
   "source": [
    "#1. 크롬 브라우저 실행\n",
    "def connect():\n",
    "    driver = wb.Chrome('../chromedriver/chromedriver.exe')\n",
    "    return driver"
   ]
  },
  {
   "cell_type": "code",
   "execution_count": 72,
   "id": "e5133ea1",
   "metadata": {},
   "outputs": [],
   "source": [
    "driver2 = None#전역변수\n",
    "url='https://www.coffeebeankorea.com/store/store.asp'"
   ]
  },
  {
   "cell_type": "code",
   "execution_count": 70,
   "id": "6b464366",
   "metadata": {},
   "outputs": [],
   "source": [
    "#2. 특정 페이지를 가져와서 스크립트를 실행하자.\n",
    "def coffee_bean(no):#no는 번호 입력해줌, 입력값으로는 driver를 넣었다.하지만 driver가 전역변수일 때는 안써줌.\n",
    "    driver2.get(url)\n",
    "    time.sleep(2)\n",
    "    func = 'storePop2(' + str(no) + ')'\n",
    "    \n",
    "    try:#폐점한 곳이나 번호가 없으면 오류나 가서 실행이 멈추기 때문에 트리아익셉션 문으로 감싸준다.\n",
    "         shop=[]#title, addr, tel의 리스트를 리턴받는다.['삼성봉은사거리점'] ['서울시 강남구 영동대로 607 1,2층  '] ['02-3443-5618'] 이렇게\n",
    "\n",
    "    except:\n",
    "        print('해당번호 없음')\n",
    "        \n",
    "    return shop#title, addr, tel의 리스트를 리턴받는다.['삼성봉은사거리점'] ['서울시 강남구 영동대로 607 1,2층  '] ['02-3443-5618'] 이렇게\n"
   ]
  },
  {
   "cell_type": "code",
   "execution_count": null,
   "id": "69ba5ba7",
   "metadata": {},
   "outputs": [],
   "source": [
    "\n",
    "driver2 = connect()\n",
    "coffee_bean(1)\n",
    "#같은방법\n",
    "# driver2 = connect()\n",
    "# coffee_bean(1, driver2)"
   ]
  },
  {
   "cell_type": "code",
   "execution_count": null,
   "id": "048b5727",
   "metadata": {},
   "outputs": [],
   "source": []
  }
 ],
 "metadata": {
  "kernelspec": {
   "display_name": "Python 3 (ipykernel)",
   "language": "python",
   "name": "python3"
  },
  "language_info": {
   "codemirror_mode": {
    "name": "ipython",
    "version": 3
   },
   "file_extension": ".py",
   "mimetype": "text/x-python",
   "name": "python",
   "nbconvert_exporter": "python",
   "pygments_lexer": "ipython3",
   "version": "3.9.7"
  }
 },
 "nbformat": 4,
 "nbformat_minor": 5
}
