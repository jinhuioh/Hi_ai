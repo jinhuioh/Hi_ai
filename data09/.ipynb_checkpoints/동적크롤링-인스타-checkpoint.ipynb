{
 "cells": [
  {
   "cell_type": "code",
   "execution_count": 37,
   "id": "879264e9",
   "metadata": {},
   "outputs": [],
   "source": [
    "#주요 라이브러리 임포트\n",
    "import warnings\n",
    "warnings.filterwarnings(action='ignore')\n",
    "from selenium.webdriver.common.by import By\n",
    "from selenium.webdriver.support.ui import WebDriverWait \n",
    "from selenium.webdriver.support import expected_conditions as EC\n",
    "#step1.selenium 패키지와 time 모듈 import\n",
    "from selenium import webdriver as wb\n",
    "from selenium.webdriver.common.keys import Keys\n",
    "import time\n",
    "import pandas as pd\n",
    "from bs4 import BeautifulSoup as bs"
   ]
  },
  {
   "cell_type": "code",
   "execution_count": 38,
   "id": "d91e3075",
   "metadata": {},
   "outputs": [],
   "source": [
    "#인스타 크롤링을 해보자!\n",
    "#1. 크롬 브라우저 실행\n",
    "driver = webdriver.Chrome('../chromedriver/chromedriver.exe')"
   ]
  },
  {
   "cell_type": "code",
   "execution_count": 39,
   "id": "1ce12ea6",
   "metadata": {},
   "outputs": [],
   "source": [
    "#2. 특정한 페이지 접속\n",
    "url='https://www.instagram.com/'\n",
    "driver.get(url)#http로 요청을 보내라<---http응답을 보낼 것임.\n",
    "time.sleep(2)"
   ]
  },
  {
   "cell_type": "code",
   "execution_count": 40,
   "id": "a7ab15d5",
   "metadata": {},
   "outputs": [],
   "source": [
    "id_input='#loginForm > div > div:nth-child(1) > div > label > input'\n",
    "id_box = driver.find_element_by_css_selector(id_input)\n",
    "email_box = driver.find_element_by_css_selector(id_input)\n",
    "#id입력\n",
    "email_box.send_keys('aaa779979@naver.com')"
   ]
  },
  {
   "cell_type": "code",
   "execution_count": 41,
   "id": "6691630e",
   "metadata": {},
   "outputs": [],
   "source": [
    "pw_input = '#loginForm > div > div:nth-child(2) > div > label > input'\n",
    "pw_box = driver.find_element_by_css_selector(pw_input)\n",
    "#pw입력\n",
    "pw_box.send_keys('wls3gml3!!')"
   ]
  },
  {
   "cell_type": "code",
   "execution_count": 44,
   "id": "62e2fc39",
   "metadata": {},
   "outputs": [],
   "source": [
    "submit_input = '#loginForm > div > div:nth-child(3) > button'\n",
    "submit_btn = driver.find_element_by_css_selector(submit_input)\n",
    "submit_btn.send_keys(Keys.RETURN) \n",
    "time.sleep(2)"
   ]
  },
  {
   "cell_type": "code",
   "execution_count": 45,
   "id": "23a388f1",
   "metadata": {},
   "outputs": [],
   "source": [
    "# #로그인 정보를 저장하시겠습니까? -->정보저장 클릭!\n",
    "# save_css = ''\n",
    "# save_btn = driver.find_element_by_css_selector(save_css)\n",
    "# save_btn.send_keys(Keys.RETURN)\n",
    "# time.sleep(2)"
   ]
  },
  {
   "cell_type": "code",
   "execution_count": 46,
   "id": "e7fbc3df",
   "metadata": {},
   "outputs": [],
   "source": [
    "#알림설정 나중에 하기 클릭하기!\n",
    "#주소: body > div.RnEpo.Yx5HN > div > div > div > div.mt3GC > button.aOOlW.HoLwm\n",
    "after_css = 'body > div.RnEpo.Yx5HN > div > div > div > div.mt3GC > button.aOOlW.HoLwm'\n",
    "after_btn = driver.find_element_by_css_selector(after_css)\n",
    "after_btn.click()#.send_keys(Keys.RETURN) 랑 같음\n",
    "time.sleep(2)"
   ]
  },
  {
   "cell_type": "code",
   "execution_count": 58,
   "id": "de398160",
   "metadata": {},
   "outputs": [],
   "source": [
    "# like_css ='#react-root > section > main > section > div > div.qF0y9.Igw0E.IwRSH.eGOV_._4EzTm > div:nth-child(1) > div > article:nth-child(4) > div > div.qF0y9.Igw0E.IwRSH.eGOV_._4EzTm > div > div > section.EDfFK.ygqzn > div > div > div > a > div'\n",
    "# like_css = '#react-root > section > main > section > div > div.qF0y9.Igw0E.IwRSH.eGOV_._4EzTm > div:nth-child(1) > div > article:nth-child(4) > div > div.qF0y9.Igw0E.IwRSH.eGOV_._4EzTm > div > div > section.EDfFK.ygqzn > div > div > div'\n",
    "like_css = 'div._7UhW9.xLCgt.MMzan.KV-D4.uL8Hv.T0kll'\n",
    "like_texts = driver.find_elements_by_css_selector(like_css)\n",
    "like_texts\n",
    "time.sleep(2)"
   ]
  },
  {
   "cell_type": "code",
   "execution_count": 59,
   "id": "4ab4fa35",
   "metadata": {},
   "outputs": [
    {
     "name": "stdout",
     "output_type": "stream",
     "text": [
      "['maji_mothae님 외 11명이 좋아합니다', '13시간 전', 'eunjo__o_98님 여러 명이 좋아합니다', '20시간 전', 'jinn_yoh0929님 여러 명이 좋아합니다', '16시간 전', 'yryzrb.17님 여러 명이 좋아합니다', '16시간 전', '좋아요 1개', '50분 전', 'chae._.liny님 외 39명이 좋아합니다', '16시간 전', 'jinn_yoh0929님 여러 명이 좋아합니다', '12시간 전']\n"
     ]
    }
   ],
   "source": [
    "like_texts_list = []\n",
    "for like in like_texts:\n",
    "    like_texts_list.append(like.text)   \n",
    "    if like.text_isdecimal():\n",
    "        print(int(like.text))\n",
    "print(like_texts_list)"
   ]
  },
  {
   "cell_type": "code",
   "execution_count": 60,
   "id": "cc9f4e05",
   "metadata": {},
   "outputs": [],
   "source": [
    "#더보기 클릭해서 아래 태그들 가져와보기!\n",
    "more_css = '#react-root > section > main > section > div > div.qF0y9.Igw0E.IwRSH.eGOV_._4EzTm > div:nth-child(1) > div > article:nth-child(4) > div > div.qF0y9.Igw0E.IwRSH.eGOV_._4EzTm > div > div > div.EtaWk > div > div > div > span:nth-child(3) > span:nth-child(2) > div > div'\n",
    "more_texts = driver.find_element_by_css_selector(more_css)\n",
    "more_texts.click()\n",
    "time.sleep(2)"
   ]
  },
  {
   "cell_type": "code",
   "execution_count": null,
   "id": "e0c5345c",
   "metadata": {},
   "outputs": [],
   "source": [
    "#태그를 가져와보자\n",
    "tag_css ='.xil3i'\n"
   ]
  },
  {
   "cell_type": "code",
   "execution_count": null,
   "id": "498d675f",
   "metadata": {},
   "outputs": [],
   "source": []
  }
 ],
 "metadata": {
  "kernelspec": {
   "display_name": "Python 3 (ipykernel)",
   "language": "python",
   "name": "python3"
  },
  "language_info": {
   "codemirror_mode": {
    "name": "ipython",
    "version": 3
   },
   "file_extension": ".py",
   "mimetype": "text/x-python",
   "name": "python",
   "nbconvert_exporter": "python",
   "pygments_lexer": "ipython3",
   "version": "3.9.7"
  }
 },
 "nbformat": 4,
 "nbformat_minor": 5
}
