{
 "cells": [
  {
   "cell_type": "code",
   "execution_count": 99,
   "id": "a8b4f999",
   "metadata": {},
   "outputs": [],
   "source": [
    "#주요 라이브러리 임포트\n",
    "import warnings\n",
    "warnings.filterwarnings(action='ignore')\n",
    "from selenium.webdriver.common.by import By\n",
    "from selenium.webdriver.support.ui import WebDriverWait \n",
    "from selenium.webdriver.support import expected_conditions as EC\n",
    "#step1.selenium 패키지와 time 모듈 import\n",
    "from selenium import webdriver as wb\n",
    "from selenium.webdriver.common.keys import Keys\n",
    "import time\n",
    "import pandas as pd\n",
    "from bs4 import BeautifulSoup as bs"
   ]
  },
  {
   "cell_type": "code",
   "execution_count": 100,
   "id": "380cea8a",
   "metadata": {},
   "outputs": [],
   "source": [
    "#인스타 크롤링을 해보자!\n",
    "#1. 크롬 브라우저 실행\n",
    "driver = wb.Chrome('../chromedriver/chromedriver.exe')"
   ]
  },
  {
   "cell_type": "code",
   "execution_count": 101,
   "id": "4dcb91e1",
   "metadata": {},
   "outputs": [],
   "source": [
    "#2. 특정한 페이지 접속\n",
    "url='https://www2.hm.com/ko_kr/ladies/shop-by-product/tops.html'\n",
    "driver.get(url)#http로 요청을 보내라<---http응답을 보낼 것임.\n",
    "time.sleep(2)"
   ]
  },
  {
   "cell_type": "code",
   "execution_count": 102,
   "id": "3d25c8fb",
   "metadata": {},
   "outputs": [],
   "source": [
    "#모든쿠키허용 버튼 클릭\n",
    "#onetrust-accept-btn-handler\n",
    "cookie_css = '#onetrust-accept-btn-handler'\n",
    "cookie_texts = driver.find_element_by_css_selector(cookie_css)\n",
    "cookie_texts.click()\n",
    "time.sleep(2)"
   ]
  },
  {
   "cell_type": "code",
   "execution_count": 103,
   "id": "ae34e584",
   "metadata": {},
   "outputs": [],
   "source": [
    "#더 많은 상품 보기 버튼 클릭\n",
    "#page-content > div > div:nth-child(3) > div.load-more-products > button\n",
    "#더보기 클릭해서 아래 태그들 가져와보기!\n",
    "for _ in range(2):\n",
    "    more_css = '#page-content > div > div:nth-child(3) > div.load-more-products > button'\n",
    "    more_texts = driver.find_element_by_css_selector(more_css)\n",
    "    more_texts.click()\n",
    "time.sleep(2)"
   ]
  },
  {
   "cell_type": "code",
   "execution_count": 104,
   "id": "ac6ed3e2",
   "metadata": {},
   "outputs": [
    {
     "name": "stdout",
     "output_type": "stream",
     "text": [
      "리브드 탑\n",
      "<class 'list'>\n"
     ]
    }
   ],
   "source": [
    "driver.execute_script('window.scrollTo(0,document.body.scrollHeight)')##스크롤을 가장 아래까지 내린 뒤, 제품 이름을 추출\n",
    "time.sleep(2)\n",
    "title_css = 'article > div.item-details > h3 > a'\n",
    "title_texts = driver.find_elements_by_css_selector(title_css)\n",
    "# print(type(title_texts))\n",
    "# print(len(title_texts))\n",
    "print(title_texts[0].text)#title_texts가 리스트라서? [0]해줌. 안해주면 오류가 난다.\n",
    "print(type(title_texts))"
   ]
  },
  {
   "cell_type": "code",
   "execution_count": 105,
   "id": "a2cc2e59",
   "metadata": {},
   "outputs": [
    {
     "name": "stdout",
     "output_type": "stream",
     "text": [
      "['리브드 탑', '오버사이즈 프린트 티셔츠', '크롭트 탑', '크롭트 탑', '프린트 디테일 크롭트 탑', '크롭트 컷아웃 탑', '크롭트 탑', '레이스업 디테일 컷아웃 탑', '리브드 탑', '스모킹 디테일 크롭트 탑', '프린트 티셔츠', '코튼 티셔츠', '리브드 슬리브리스 탑', '리브드 티셔츠', '코튼 저지 탑', '리브드 탑', '메쉬 탑', '프린트 티셔츠', '크롭트 탑', '리넨 블렌드 크롭트 블라우스', '원숄더 바디수트', '리브드 슬리브리스 탑', '리브드 티셔츠', '크롭트 탑', '리브드 슬리브리스 탑', '코튼 크롭트 탑', '코튼 크롭트 탑', '홀터넥 V넥 탑', 'Linen jersey T-shirt', '홀터넥 드로스트링 탑', '코튼 크롭트 탑', '홀터넥 탑', '프린트 크롭트 탑', '프린트 티셔츠', '크롭트 럭비 셔츠', '롱 슬리브 바디수트', '저지 탑 2장 세트', '리브니트 스웨터', '오버사이즈 프린트 티셔츠', '오버사이즈 프린트 티셔츠', '디자인 오버사이즈 티셔츠', '프린트 티셔츠', '리브드 탑', '오버사이즈 티셔츠', '프린트 롱 티셔츠', 'H&M+ 티셔츠 2장 세트', '크롭트 탑', '코튼 티셔츠', '리브드 스웨터', '코튼 티셔츠', '코튼 슬리브리스 탑 2장 세트', '드로스트링 탑', '오버사이즈 프린트 티셔츠', '리브니트 쇼트 스웨터', '모달 블렌드 티셔츠', '오버사이즈 프린트 티셔츠', '크롭트 티셔츠 2장 세트', 'H&M+ 리브니트 스웨터', '프린트 티셔츠', '리브드 크롭트 탑', 'H&M+ 오버사이즈 티셔츠', '롱 슬리브 코튼 탑', '스모킹 디테일 크롭트 탑', '프린트 티셔츠', '오버사이즈 티셔츠', '롱 슬리브 탑', '새틴 탑', '드로스트링 탑', '피티드 슬리브리스 탑', '레이스업 디테일 컷아웃 탑', '코튼 티셔츠', '코튼 티셔츠', '크롭트 탑', '코튼 티셔츠', '리브드 헨리탑', '오버사이즈 프린트 티셔츠', 'H&M+ 프린트 티셔츠', 'H&M+ 티셔츠 2장 세트', '오버사이즈 프린트 티셔츠', '리브니트 쇼트 스웨터', '니트 크롭트 탑', '파인니트 탑', 'H&M+ 티셔츠 2장 세트', 'H&M+ 오버사이즈 티셔츠', 'H&M+ 스모킹 탑', '오버사이즈 티셔츠', '크롭트 컷아웃 탑', '코튼 티셔츠 2장 세트', '피티드 슬리브리스 탑', '오버사이즈 프린트 티셔츠', '슬리브리스 니트 탑', '드로스트링 탑', '모달 블렌드 티셔츠', '오버사이즈 프린트 티셔츠', '롱 슬리브 코튼 탑', '리브드 크롭트 탑', '리브드 슬리브리스 탑', '리넨 블렌드 크롭트 블라우스', '브로드리 앙글레즈 탑', 'H&M+ 오버사이즈 티셔츠', '타이 디테일 니트 탑', '크롭트 컷아웃 탑', '새틴 V넥 스트랩 탑', 'V넥 스트랩 탑', '플라운스 디테일 메쉬 탑', '슬리브리스 리넨 탑', '롱 슬리브 저지 탑', '레이스 디테일 캐미솔 탑']\n",
      "108\n"
     ]
    }
   ],
   "source": [
    "title_list = []\n",
    "for title in title_texts:\n",
    "    title_list.append(title.text)\n",
    "print(title_list)\n",
    "print(len(title_list))"
   ]
  },
  {
   "cell_type": "code",
   "execution_count": 106,
   "id": "cfe69c46",
   "metadata": {},
   "outputs": [
    {
     "data": {
      "text/plain": [
       "['리브드 탑',\n",
       " '오버사이즈 프린트 티셔츠',\n",
       " '크롭트 탑',\n",
       " '크롭트 탑',\n",
       " '프린트 디테일 크롭트 탑',\n",
       " '크롭트 컷아웃 탑',\n",
       " '크롭트 탑',\n",
       " '레이스업 디테일 컷아웃 탑',\n",
       " '리브드 탑',\n",
       " '스모킹 디테일 크롭트 탑',\n",
       " '프린트 티셔츠',\n",
       " '코튼 티셔츠',\n",
       " '리브드 슬리브리스 탑',\n",
       " '리브드 티셔츠',\n",
       " '코튼 저지 탑',\n",
       " '리브드 탑',\n",
       " '메쉬 탑',\n",
       " '프린트 티셔츠',\n",
       " '크롭트 탑',\n",
       " '리넨 블렌드 크롭트 블라우스',\n",
       " '원숄더 바디수트',\n",
       " '리브드 슬리브리스 탑',\n",
       " '리브드 티셔츠',\n",
       " '크롭트 탑',\n",
       " '리브드 슬리브리스 탑',\n",
       " '코튼 크롭트 탑',\n",
       " '코튼 크롭트 탑',\n",
       " '홀터넥 V넥 탑',\n",
       " 'Linen jersey T-shirt',\n",
       " '홀터넥 드로스트링 탑',\n",
       " '코튼 크롭트 탑',\n",
       " '홀터넥 탑',\n",
       " '프린트 크롭트 탑',\n",
       " '프린트 티셔츠',\n",
       " '크롭트 럭비 셔츠',\n",
       " '롱 슬리브 바디수트',\n",
       " '저지 탑 2장 세트',\n",
       " '리브니트 스웨터',\n",
       " '오버사이즈 프린트 티셔츠',\n",
       " '오버사이즈 프린트 티셔츠',\n",
       " '디자인 오버사이즈 티셔츠',\n",
       " '프린트 티셔츠',\n",
       " '리브드 탑',\n",
       " '오버사이즈 티셔츠',\n",
       " '프린트 롱 티셔츠',\n",
       " 'H&M+ 티셔츠 2장 세트',\n",
       " '크롭트 탑',\n",
       " '코튼 티셔츠',\n",
       " '리브드 스웨터',\n",
       " '코튼 티셔츠',\n",
       " '코튼 슬리브리스 탑 2장 세트',\n",
       " '드로스트링 탑',\n",
       " '오버사이즈 프린트 티셔츠',\n",
       " '리브니트 쇼트 스웨터',\n",
       " '모달 블렌드 티셔츠',\n",
       " '오버사이즈 프린트 티셔츠',\n",
       " '크롭트 티셔츠 2장 세트',\n",
       " 'H&M+ 리브니트 스웨터',\n",
       " '프린트 티셔츠',\n",
       " '리브드 크롭트 탑',\n",
       " 'H&M+ 오버사이즈 티셔츠',\n",
       " '롱 슬리브 코튼 탑',\n",
       " '스모킹 디테일 크롭트 탑',\n",
       " '프린트 티셔츠',\n",
       " '오버사이즈 티셔츠',\n",
       " '롱 슬리브 탑',\n",
       " '새틴 탑',\n",
       " '드로스트링 탑',\n",
       " '피티드 슬리브리스 탑',\n",
       " '레이스업 디테일 컷아웃 탑',\n",
       " '코튼 티셔츠',\n",
       " '코튼 티셔츠',\n",
       " '크롭트 탑',\n",
       " '코튼 티셔츠',\n",
       " '리브드 헨리탑',\n",
       " '오버사이즈 프린트 티셔츠',\n",
       " 'H&M+ 프린트 티셔츠',\n",
       " 'H&M+ 티셔츠 2장 세트',\n",
       " '오버사이즈 프린트 티셔츠',\n",
       " '리브니트 쇼트 스웨터',\n",
       " '니트 크롭트 탑',\n",
       " '파인니트 탑',\n",
       " 'H&M+ 티셔츠 2장 세트',\n",
       " 'H&M+ 오버사이즈 티셔츠',\n",
       " 'H&M+ 스모킹 탑',\n",
       " '오버사이즈 티셔츠',\n",
       " '크롭트 컷아웃 탑',\n",
       " '코튼 티셔츠 2장 세트',\n",
       " '피티드 슬리브리스 탑',\n",
       " '오버사이즈 프린트 티셔츠',\n",
       " '슬리브리스 니트 탑',\n",
       " '드로스트링 탑',\n",
       " '모달 블렌드 티셔츠',\n",
       " '오버사이즈 프린트 티셔츠',\n",
       " '롱 슬리브 코튼 탑',\n",
       " '리브드 크롭트 탑',\n",
       " '리브드 슬리브리스 탑',\n",
       " '리넨 블렌드 크롭트 블라우스',\n",
       " '브로드리 앙글레즈 탑',\n",
       " 'H&M+ 오버사이즈 티셔츠',\n",
       " '타이 디테일 니트 탑',\n",
       " '크롭트 컷아웃 탑',\n",
       " '새틴 V넥 스트랩 탑',\n",
       " 'V넥 스트랩 탑',\n",
       " '플라운스 디테일 메쉬 탑',\n",
       " '슬리브리스 리넨 탑',\n",
       " '롱 슬리브 저지 탑',\n",
       " '레이스 디테일 캐미솔 탑']"
      ]
     },
     "execution_count": 106,
     "metadata": {},
     "output_type": "execute_result"
    }
   ],
   "source": [
    "\n",
    "title_list"
   ]
  },
  {
   "cell_type": "code",
   "execution_count": 107,
   "id": "e947e8c6",
   "metadata": {},
   "outputs": [],
   "source": [
    "#이미지를 가져와보자.\n",
    "#page-content > div > div:nth-child(3) > ul > li:nth-child(141) > article > div.image-container > a > img"
   ]
  },
  {
   "cell_type": "code",
   "execution_count": 118,
   "id": "abce7af6",
   "metadata": {},
   "outputs": [
    {
     "data": {
      "text/plain": [
       "108"
      ]
     },
     "execution_count": 118,
     "metadata": {},
     "output_type": "execute_result"
    }
   ],
   "source": [
    "brand_Img = driver.find_elements_by_css_selector('img.item-image')\n",
    "time.sleep(2)\n",
    "img_list = []\n",
    "for img in brand_Img:\n",
    "    img_list.append(img.get_attribute('data-src'))\n",
    "len(img_list)\n",
    "# for img in brand_Img:\n",
    "#         srcset = \"\"\n",
    "#         if img.get('src')==None:\n",
    "#             srcset = img.get('data-altimage')\n",
    "#         else: \n",
    "#             srcset = img.get('src')\n"
   ]
  },
  {
   "cell_type": "code",
   "execution_count": 119,
   "id": "44b463e0",
   "metadata": {},
   "outputs": [],
   "source": [
    "#이미지 주소가지고 img를 컴퓨터에 다운로드 해보자\n",
    "#저장위치 결정, 현재 경로 폴더 설정\n",
    "path_folder = './hm_Img/'\n",
    "import os\n",
    "if not os.path.isdir(path_folder):\n",
    "    os.mkdir(path_folder)"
   ]
  },
  {
   "cell_type": "code",
   "execution_count": 120,
   "id": "b8419af5",
   "metadata": {},
   "outputs": [],
   "source": [
    "from urllib.request import urlretrieve"
   ]
  },
  {
   "cell_type": "code",
   "execution_count": 121,
   "id": "d391e267",
   "metadata": {},
   "outputs": [
    {
     "ename": "ValueError",
     "evalue": "unknown url type: '//lp2.hm.com/hmgoepprod?set=source[/86/40/8640a9e19cd1a89c51274e3f2076cde4ec341672.jpg],origin[dam],category[],type[LOOKBOOK],res[z],hmver[1]&call=url[file:/product/main]'",
     "output_type": "error",
     "traceback": [
      "\u001b[1;31m---------------------------------------------------------------------------\u001b[0m",
      "\u001b[1;31mValueError\u001b[0m                                Traceback (most recent call last)",
      "\u001b[1;32m~\\AppData\\Local\\Temp/ipykernel_17548/3202360317.py\u001b[0m in \u001b[0;36m<module>\u001b[1;34m\u001b[0m\n\u001b[0;32m      2\u001b[0m \u001b[1;32mfor\u001b[0m \u001b[0mimg\u001b[0m \u001b[1;32min\u001b[0m \u001b[0mimg_list\u001b[0m\u001b[1;33m:\u001b[0m\u001b[1;33m\u001b[0m\u001b[1;33m\u001b[0m\u001b[0m\n\u001b[0;32m      3\u001b[0m     \u001b[0mi\u001b[0m \u001b[1;33m+=\u001b[0m\u001b[1;36m1\u001b[0m \u001b[1;31m#i=i+1\u001b[0m\u001b[1;33m\u001b[0m\u001b[1;33m\u001b[0m\u001b[0m\n\u001b[1;32m----> 4\u001b[1;33m     \u001b[0murlretrieve\u001b[0m\u001b[1;33m(\u001b[0m\u001b[0mimg\u001b[0m\u001b[1;33m,\u001b[0m\u001b[0mpath_folder\u001b[0m\u001b[1;33m+\u001b[0m \u001b[0mstr\u001b[0m\u001b[1;33m(\u001b[0m\u001b[0mi\u001b[0m\u001b[1;33m)\u001b[0m \u001b[1;33m+\u001b[0m \u001b[1;34m'.jpg'\u001b[0m\u001b[1;33m)\u001b[0m\u001b[1;33m\u001b[0m\u001b[1;33m\u001b[0m\u001b[0m\n\u001b[0m",
      "\u001b[1;32m~\\anaconda3\\lib\\urllib\\request.py\u001b[0m in \u001b[0;36murlretrieve\u001b[1;34m(url, filename, reporthook, data)\u001b[0m\n\u001b[0;32m    237\u001b[0m     \u001b[0murl_type\u001b[0m\u001b[1;33m,\u001b[0m \u001b[0mpath\u001b[0m \u001b[1;33m=\u001b[0m \u001b[0m_splittype\u001b[0m\u001b[1;33m(\u001b[0m\u001b[0murl\u001b[0m\u001b[1;33m)\u001b[0m\u001b[1;33m\u001b[0m\u001b[1;33m\u001b[0m\u001b[0m\n\u001b[0;32m    238\u001b[0m \u001b[1;33m\u001b[0m\u001b[0m\n\u001b[1;32m--> 239\u001b[1;33m     \u001b[1;32mwith\u001b[0m \u001b[0mcontextlib\u001b[0m\u001b[1;33m.\u001b[0m\u001b[0mclosing\u001b[0m\u001b[1;33m(\u001b[0m\u001b[0murlopen\u001b[0m\u001b[1;33m(\u001b[0m\u001b[0murl\u001b[0m\u001b[1;33m,\u001b[0m \u001b[0mdata\u001b[0m\u001b[1;33m)\u001b[0m\u001b[1;33m)\u001b[0m \u001b[1;32mas\u001b[0m \u001b[0mfp\u001b[0m\u001b[1;33m:\u001b[0m\u001b[1;33m\u001b[0m\u001b[1;33m\u001b[0m\u001b[0m\n\u001b[0m\u001b[0;32m    240\u001b[0m         \u001b[0mheaders\u001b[0m \u001b[1;33m=\u001b[0m \u001b[0mfp\u001b[0m\u001b[1;33m.\u001b[0m\u001b[0minfo\u001b[0m\u001b[1;33m(\u001b[0m\u001b[1;33m)\u001b[0m\u001b[1;33m\u001b[0m\u001b[1;33m\u001b[0m\u001b[0m\n\u001b[0;32m    241\u001b[0m \u001b[1;33m\u001b[0m\u001b[0m\n",
      "\u001b[1;32m~\\anaconda3\\lib\\urllib\\request.py\u001b[0m in \u001b[0;36murlopen\u001b[1;34m(url, data, timeout, cafile, capath, cadefault, context)\u001b[0m\n\u001b[0;32m    212\u001b[0m     \u001b[1;32melse\u001b[0m\u001b[1;33m:\u001b[0m\u001b[1;33m\u001b[0m\u001b[1;33m\u001b[0m\u001b[0m\n\u001b[0;32m    213\u001b[0m         \u001b[0mopener\u001b[0m \u001b[1;33m=\u001b[0m \u001b[0m_opener\u001b[0m\u001b[1;33m\u001b[0m\u001b[1;33m\u001b[0m\u001b[0m\n\u001b[1;32m--> 214\u001b[1;33m     \u001b[1;32mreturn\u001b[0m \u001b[0mopener\u001b[0m\u001b[1;33m.\u001b[0m\u001b[0mopen\u001b[0m\u001b[1;33m(\u001b[0m\u001b[0murl\u001b[0m\u001b[1;33m,\u001b[0m \u001b[0mdata\u001b[0m\u001b[1;33m,\u001b[0m \u001b[0mtimeout\u001b[0m\u001b[1;33m)\u001b[0m\u001b[1;33m\u001b[0m\u001b[1;33m\u001b[0m\u001b[0m\n\u001b[0m\u001b[0;32m    215\u001b[0m \u001b[1;33m\u001b[0m\u001b[0m\n\u001b[0;32m    216\u001b[0m \u001b[1;32mdef\u001b[0m \u001b[0minstall_opener\u001b[0m\u001b[1;33m(\u001b[0m\u001b[0mopener\u001b[0m\u001b[1;33m)\u001b[0m\u001b[1;33m:\u001b[0m\u001b[1;33m\u001b[0m\u001b[1;33m\u001b[0m\u001b[0m\n",
      "\u001b[1;32m~\\anaconda3\\lib\\urllib\\request.py\u001b[0m in \u001b[0;36mopen\u001b[1;34m(self, fullurl, data, timeout)\u001b[0m\n\u001b[0;32m    499\u001b[0m         \u001b[1;31m# accept a URL or a Request object\u001b[0m\u001b[1;33m\u001b[0m\u001b[1;33m\u001b[0m\u001b[0m\n\u001b[0;32m    500\u001b[0m         \u001b[1;32mif\u001b[0m \u001b[0misinstance\u001b[0m\u001b[1;33m(\u001b[0m\u001b[0mfullurl\u001b[0m\u001b[1;33m,\u001b[0m \u001b[0mstr\u001b[0m\u001b[1;33m)\u001b[0m\u001b[1;33m:\u001b[0m\u001b[1;33m\u001b[0m\u001b[1;33m\u001b[0m\u001b[0m\n\u001b[1;32m--> 501\u001b[1;33m             \u001b[0mreq\u001b[0m \u001b[1;33m=\u001b[0m \u001b[0mRequest\u001b[0m\u001b[1;33m(\u001b[0m\u001b[0mfullurl\u001b[0m\u001b[1;33m,\u001b[0m \u001b[0mdata\u001b[0m\u001b[1;33m)\u001b[0m\u001b[1;33m\u001b[0m\u001b[1;33m\u001b[0m\u001b[0m\n\u001b[0m\u001b[0;32m    502\u001b[0m         \u001b[1;32melse\u001b[0m\u001b[1;33m:\u001b[0m\u001b[1;33m\u001b[0m\u001b[1;33m\u001b[0m\u001b[0m\n\u001b[0;32m    503\u001b[0m             \u001b[0mreq\u001b[0m \u001b[1;33m=\u001b[0m \u001b[0mfullurl\u001b[0m\u001b[1;33m\u001b[0m\u001b[1;33m\u001b[0m\u001b[0m\n",
      "\u001b[1;32m~\\anaconda3\\lib\\urllib\\request.py\u001b[0m in \u001b[0;36m__init__\u001b[1;34m(self, url, data, headers, origin_req_host, unverifiable, method)\u001b[0m\n\u001b[0;32m    318\u001b[0m                  \u001b[0morigin_req_host\u001b[0m\u001b[1;33m=\u001b[0m\u001b[1;32mNone\u001b[0m\u001b[1;33m,\u001b[0m \u001b[0munverifiable\u001b[0m\u001b[1;33m=\u001b[0m\u001b[1;32mFalse\u001b[0m\u001b[1;33m,\u001b[0m\u001b[1;33m\u001b[0m\u001b[1;33m\u001b[0m\u001b[0m\n\u001b[0;32m    319\u001b[0m                  method=None):\n\u001b[1;32m--> 320\u001b[1;33m         \u001b[0mself\u001b[0m\u001b[1;33m.\u001b[0m\u001b[0mfull_url\u001b[0m \u001b[1;33m=\u001b[0m \u001b[0murl\u001b[0m\u001b[1;33m\u001b[0m\u001b[1;33m\u001b[0m\u001b[0m\n\u001b[0m\u001b[0;32m    321\u001b[0m         \u001b[0mself\u001b[0m\u001b[1;33m.\u001b[0m\u001b[0mheaders\u001b[0m \u001b[1;33m=\u001b[0m \u001b[1;33m{\u001b[0m\u001b[1;33m}\u001b[0m\u001b[1;33m\u001b[0m\u001b[1;33m\u001b[0m\u001b[0m\n\u001b[0;32m    322\u001b[0m         \u001b[0mself\u001b[0m\u001b[1;33m.\u001b[0m\u001b[0munredirected_hdrs\u001b[0m \u001b[1;33m=\u001b[0m \u001b[1;33m{\u001b[0m\u001b[1;33m}\u001b[0m\u001b[1;33m\u001b[0m\u001b[1;33m\u001b[0m\u001b[0m\n",
      "\u001b[1;32m~\\anaconda3\\lib\\urllib\\request.py\u001b[0m in \u001b[0;36mfull_url\u001b[1;34m(self, url)\u001b[0m\n\u001b[0;32m    344\u001b[0m         \u001b[0mself\u001b[0m\u001b[1;33m.\u001b[0m\u001b[0m_full_url\u001b[0m \u001b[1;33m=\u001b[0m \u001b[0munwrap\u001b[0m\u001b[1;33m(\u001b[0m\u001b[0murl\u001b[0m\u001b[1;33m)\u001b[0m\u001b[1;33m\u001b[0m\u001b[1;33m\u001b[0m\u001b[0m\n\u001b[0;32m    345\u001b[0m         \u001b[0mself\u001b[0m\u001b[1;33m.\u001b[0m\u001b[0m_full_url\u001b[0m\u001b[1;33m,\u001b[0m \u001b[0mself\u001b[0m\u001b[1;33m.\u001b[0m\u001b[0mfragment\u001b[0m \u001b[1;33m=\u001b[0m \u001b[0m_splittag\u001b[0m\u001b[1;33m(\u001b[0m\u001b[0mself\u001b[0m\u001b[1;33m.\u001b[0m\u001b[0m_full_url\u001b[0m\u001b[1;33m)\u001b[0m\u001b[1;33m\u001b[0m\u001b[1;33m\u001b[0m\u001b[0m\n\u001b[1;32m--> 346\u001b[1;33m         \u001b[0mself\u001b[0m\u001b[1;33m.\u001b[0m\u001b[0m_parse\u001b[0m\u001b[1;33m(\u001b[0m\u001b[1;33m)\u001b[0m\u001b[1;33m\u001b[0m\u001b[1;33m\u001b[0m\u001b[0m\n\u001b[0m\u001b[0;32m    347\u001b[0m \u001b[1;33m\u001b[0m\u001b[0m\n\u001b[0;32m    348\u001b[0m     \u001b[1;33m@\u001b[0m\u001b[0mfull_url\u001b[0m\u001b[1;33m.\u001b[0m\u001b[0mdeleter\u001b[0m\u001b[1;33m\u001b[0m\u001b[1;33m\u001b[0m\u001b[0m\n",
      "\u001b[1;32m~\\anaconda3\\lib\\urllib\\request.py\u001b[0m in \u001b[0;36m_parse\u001b[1;34m(self)\u001b[0m\n\u001b[0;32m    373\u001b[0m         \u001b[0mself\u001b[0m\u001b[1;33m.\u001b[0m\u001b[0mtype\u001b[0m\u001b[1;33m,\u001b[0m \u001b[0mrest\u001b[0m \u001b[1;33m=\u001b[0m \u001b[0m_splittype\u001b[0m\u001b[1;33m(\u001b[0m\u001b[0mself\u001b[0m\u001b[1;33m.\u001b[0m\u001b[0m_full_url\u001b[0m\u001b[1;33m)\u001b[0m\u001b[1;33m\u001b[0m\u001b[1;33m\u001b[0m\u001b[0m\n\u001b[0;32m    374\u001b[0m         \u001b[1;32mif\u001b[0m \u001b[0mself\u001b[0m\u001b[1;33m.\u001b[0m\u001b[0mtype\u001b[0m \u001b[1;32mis\u001b[0m \u001b[1;32mNone\u001b[0m\u001b[1;33m:\u001b[0m\u001b[1;33m\u001b[0m\u001b[1;33m\u001b[0m\u001b[0m\n\u001b[1;32m--> 375\u001b[1;33m             \u001b[1;32mraise\u001b[0m \u001b[0mValueError\u001b[0m\u001b[1;33m(\u001b[0m\u001b[1;34m\"unknown url type: %r\"\u001b[0m \u001b[1;33m%\u001b[0m \u001b[0mself\u001b[0m\u001b[1;33m.\u001b[0m\u001b[0mfull_url\u001b[0m\u001b[1;33m)\u001b[0m\u001b[1;33m\u001b[0m\u001b[1;33m\u001b[0m\u001b[0m\n\u001b[0m\u001b[0;32m    376\u001b[0m         \u001b[0mself\u001b[0m\u001b[1;33m.\u001b[0m\u001b[0mhost\u001b[0m\u001b[1;33m,\u001b[0m \u001b[0mself\u001b[0m\u001b[1;33m.\u001b[0m\u001b[0mselector\u001b[0m \u001b[1;33m=\u001b[0m \u001b[0m_splithost\u001b[0m\u001b[1;33m(\u001b[0m\u001b[0mrest\u001b[0m\u001b[1;33m)\u001b[0m\u001b[1;33m\u001b[0m\u001b[1;33m\u001b[0m\u001b[0m\n\u001b[0;32m    377\u001b[0m         \u001b[1;32mif\u001b[0m \u001b[0mself\u001b[0m\u001b[1;33m.\u001b[0m\u001b[0mhost\u001b[0m\u001b[1;33m:\u001b[0m\u001b[1;33m\u001b[0m\u001b[1;33m\u001b[0m\u001b[0m\n",
      "\u001b[1;31mValueError\u001b[0m: unknown url type: '//lp2.hm.com/hmgoepprod?set=source[/86/40/8640a9e19cd1a89c51274e3f2076cde4ec341672.jpg],origin[dam],category[],type[LOOKBOOK],res[z],hmver[1]&call=url[file:/product/main]'"
     ]
    }
   ],
   "source": [
    "i = 0\n",
    "for img in img_list:\n",
    "    i +=1 #i=i+1\n",
    "    urlretrieve(img,path_folder+ str(i) + '.jpg')"
   ]
  },
  {
   "cell_type": "code",
   "execution_count": null,
   "id": "9f5e9898",
   "metadata": {},
   "outputs": [],
   "source": []
  },
  {
   "cell_type": "code",
   "execution_count": null,
   "id": "d2fa9e53",
   "metadata": {},
   "outputs": [],
   "source": []
  },
  {
   "cell_type": "code",
   "execution_count": 115,
   "id": "e0de456d",
   "metadata": {},
   "outputs": [],
   "source": [
    "import pandas as pd"
   ]
  },
  {
   "cell_type": "code",
   "execution_count": 116,
   "id": "3b7baf7c",
   "metadata": {},
   "outputs": [
    {
     "data": {
      "text/html": [
       "<div>\n",
       "<style scoped>\n",
       "    .dataframe tbody tr th:only-of-type {\n",
       "        vertical-align: middle;\n",
       "    }\n",
       "\n",
       "    .dataframe tbody tr th {\n",
       "        vertical-align: top;\n",
       "    }\n",
       "\n",
       "    .dataframe thead th {\n",
       "        text-align: right;\n",
       "    }\n",
       "</style>\n",
       "<table border=\"1\" class=\"dataframe\">\n",
       "  <thead>\n",
       "    <tr style=\"text-align: right;\">\n",
       "      <th></th>\n",
       "      <th>img</th>\n",
       "    </tr>\n",
       "  </thead>\n",
       "  <tbody>\n",
       "    <tr>\n",
       "      <th>0</th>\n",
       "      <td>//lp2.hm.com/hmgoepprod?set=source[/e5/14/e514...</td>\n",
       "    </tr>\n",
       "    <tr>\n",
       "      <th>1</th>\n",
       "      <td>//lp2.hm.com/hmgoepprod?set=source[/af/e4/afe4...</td>\n",
       "    </tr>\n",
       "    <tr>\n",
       "      <th>2</th>\n",
       "      <td>//lp2.hm.com/hmgoepprod?set=source[/6f/67/6f67...</td>\n",
       "    </tr>\n",
       "    <tr>\n",
       "      <th>3</th>\n",
       "      <td>//lp2.hm.com/hmgoepprod?set=source[/25/5d/255d...</td>\n",
       "    </tr>\n",
       "    <tr>\n",
       "      <th>4</th>\n",
       "      <td>//lp2.hm.com/hmgoepprod?set=source[/b1/60/b160...</td>\n",
       "    </tr>\n",
       "    <tr>\n",
       "      <th>...</th>\n",
       "      <td>...</td>\n",
       "    </tr>\n",
       "    <tr>\n",
       "      <th>103</th>\n",
       "      <td>//lp2.hm.com/hmgoepprod?set=source[/36/a7/36a7...</td>\n",
       "    </tr>\n",
       "    <tr>\n",
       "      <th>104</th>\n",
       "      <td>//lp2.hm.com/hmgoepprod?set=source[/26/58/2658...</td>\n",
       "    </tr>\n",
       "    <tr>\n",
       "      <th>105</th>\n",
       "      <td>//lp2.hm.com/hmgoepprod?set=source[/15/de/15de...</td>\n",
       "    </tr>\n",
       "    <tr>\n",
       "      <th>106</th>\n",
       "      <td>//lp2.hm.com/hmgoepprod?set=source[/eb/d1/ebd1...</td>\n",
       "    </tr>\n",
       "    <tr>\n",
       "      <th>107</th>\n",
       "      <td>//lp2.hm.com/hmgoepprod?set=source[/b7/ca/b7ca...</td>\n",
       "    </tr>\n",
       "  </tbody>\n",
       "</table>\n",
       "<p>108 rows × 1 columns</p>\n",
       "</div>"
      ],
      "text/plain": [
       "                                                   img\n",
       "0    //lp2.hm.com/hmgoepprod?set=source[/e5/14/e514...\n",
       "1    //lp2.hm.com/hmgoepprod?set=source[/af/e4/afe4...\n",
       "2    //lp2.hm.com/hmgoepprod?set=source[/6f/67/6f67...\n",
       "3    //lp2.hm.com/hmgoepprod?set=source[/25/5d/255d...\n",
       "4    //lp2.hm.com/hmgoepprod?set=source[/b1/60/b160...\n",
       "..                                                 ...\n",
       "103  //lp2.hm.com/hmgoepprod?set=source[/36/a7/36a7...\n",
       "104  //lp2.hm.com/hmgoepprod?set=source[/26/58/2658...\n",
       "105  //lp2.hm.com/hmgoepprod?set=source[/15/de/15de...\n",
       "106  //lp2.hm.com/hmgoepprod?set=source[/eb/d1/ebd1...\n",
       "107  //lp2.hm.com/hmgoepprod?set=source[/b7/ca/b7ca...\n",
       "\n",
       "[108 rows x 1 columns]"
      ]
     },
     "execution_count": 116,
     "metadata": {},
     "output_type": "execute_result"
    }
   ],
   "source": [
    "moda_prod = pd.DataFrame({\n",
    "                           'img' : img_list\n",
    "                           })\n",
    "moda_prod"
   ]
  },
  {
   "cell_type": "code",
   "execution_count": 117,
   "id": "637c94be",
   "metadata": {},
   "outputs": [
    {
     "data": {
      "text/html": [
       "<div>\n",
       "<style scoped>\n",
       "    .dataframe tbody tr th:only-of-type {\n",
       "        vertical-align: middle;\n",
       "    }\n",
       "\n",
       "    .dataframe tbody tr th {\n",
       "        vertical-align: top;\n",
       "    }\n",
       "\n",
       "    .dataframe thead th {\n",
       "        text-align: right;\n",
       "    }\n",
       "</style>\n",
       "<table border=\"1\" class=\"dataframe\">\n",
       "  <thead>\n",
       "    <tr style=\"text-align: right;\">\n",
       "      <th></th>\n",
       "      <th>img</th>\n",
       "    </tr>\n",
       "  </thead>\n",
       "  <tbody>\n",
       "    <tr>\n",
       "      <th>0</th>\n",
       "      <td>//lp2.hm.com/hmgoepprod?set=source[/e5/14/e514...</td>\n",
       "    </tr>\n",
       "    <tr>\n",
       "      <th>1</th>\n",
       "      <td>//lp2.hm.com/hmgoepprod?set=source[/af/e4/afe4...</td>\n",
       "    </tr>\n",
       "    <tr>\n",
       "      <th>2</th>\n",
       "      <td>//lp2.hm.com/hmgoepprod?set=source[/6f/67/6f67...</td>\n",
       "    </tr>\n",
       "    <tr>\n",
       "      <th>3</th>\n",
       "      <td>//lp2.hm.com/hmgoepprod?set=source[/25/5d/255d...</td>\n",
       "    </tr>\n",
       "    <tr>\n",
       "      <th>4</th>\n",
       "      <td>//lp2.hm.com/hmgoepprod?set=source[/b1/60/b160...</td>\n",
       "    </tr>\n",
       "    <tr>\n",
       "      <th>...</th>\n",
       "      <td>...</td>\n",
       "    </tr>\n",
       "    <tr>\n",
       "      <th>103</th>\n",
       "      <td>//lp2.hm.com/hmgoepprod?set=source[/36/a7/36a7...</td>\n",
       "    </tr>\n",
       "    <tr>\n",
       "      <th>104</th>\n",
       "      <td>//lp2.hm.com/hmgoepprod?set=source[/26/58/2658...</td>\n",
       "    </tr>\n",
       "    <tr>\n",
       "      <th>105</th>\n",
       "      <td>//lp2.hm.com/hmgoepprod?set=source[/15/de/15de...</td>\n",
       "    </tr>\n",
       "    <tr>\n",
       "      <th>106</th>\n",
       "      <td>//lp2.hm.com/hmgoepprod?set=source[/eb/d1/ebd1...</td>\n",
       "    </tr>\n",
       "    <tr>\n",
       "      <th>107</th>\n",
       "      <td>//lp2.hm.com/hmgoepprod?set=source[/b7/ca/b7ca...</td>\n",
       "    </tr>\n",
       "  </tbody>\n",
       "</table>\n",
       "<p>108 rows × 1 columns</p>\n",
       "</div>"
      ],
      "text/plain": [
       "                                                   img\n",
       "0    //lp2.hm.com/hmgoepprod?set=source[/e5/14/e514...\n",
       "1    //lp2.hm.com/hmgoepprod?set=source[/af/e4/afe4...\n",
       "2    //lp2.hm.com/hmgoepprod?set=source[/6f/67/6f67...\n",
       "3    //lp2.hm.com/hmgoepprod?set=source[/25/5d/255d...\n",
       "4    //lp2.hm.com/hmgoepprod?set=source[/b1/60/b160...\n",
       "..                                                 ...\n",
       "103  //lp2.hm.com/hmgoepprod?set=source[/36/a7/36a7...\n",
       "104  //lp2.hm.com/hmgoepprod?set=source[/26/58/2658...\n",
       "105  //lp2.hm.com/hmgoepprod?set=source[/15/de/15de...\n",
       "106  //lp2.hm.com/hmgoepprod?set=source[/eb/d1/ebd1...\n",
       "107  //lp2.hm.com/hmgoepprod?set=source[/b7/ca/b7ca...\n",
       "\n",
       "[108 rows x 1 columns]"
      ]
     },
     "execution_count": 117,
     "metadata": {},
     "output_type": "execute_result"
    }
   ],
   "source": [
    "moda_prod"
   ]
  },
  {
   "cell_type": "code",
   "execution_count": null,
   "id": "6f1e0427",
   "metadata": {},
   "outputs": [],
   "source": []
  }
 ],
 "metadata": {
  "kernelspec": {
   "display_name": "Python 3 (ipykernel)",
   "language": "python",
   "name": "python3"
  },
  "language_info": {
   "codemirror_mode": {
    "name": "ipython",
    "version": 3
   },
   "file_extension": ".py",
   "mimetype": "text/x-python",
   "name": "python",
   "nbconvert_exporter": "python",
   "pygments_lexer": "ipython3",
   "version": "3.9.7"
  }
 },
 "nbformat": 4,
 "nbformat_minor": 5
}
