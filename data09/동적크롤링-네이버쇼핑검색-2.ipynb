{
 "cells": [
  {
   "cell_type": "markdown",
   "id": "72eac710",
   "metadata": {},
   "source": [
    "# 네이버쇼핑에 마스크를 검색하고 정보를 추출해 df를 만들어보자."
   ]
  },
  {
   "cell_type": "code",
   "execution_count": 251,
   "id": "e1c127a6",
   "metadata": {},
   "outputs": [],
   "source": [
    "import warnings\n",
    "warnings.filterwarnings(action='ignore')\n",
    "from selenium.webdriver.common.by import By\n",
    "from selenium.webdriver.support.ui import WebDriverWait \n",
    "from selenium.webdriver.support import expected_conditions as EC"
   ]
  },
  {
   "cell_type": "code",
   "execution_count": 252,
   "id": "5f0c59e6",
   "metadata": {},
   "outputs": [],
   "source": [
    "#step1.selenium 패키지와 time 모듈 import\n",
    "from selenium import webdriver\n",
    "from selenium.webdriver.common.keys import Keys\n",
    "import time"
   ]
  },
  {
   "cell_type": "code",
   "execution_count": 253,
   "id": "915ab363",
   "metadata": {},
   "outputs": [
    {
     "name": "stdout",
     "output_type": "stream",
     "text": [
      "검색할 키워드를 입력하세요>> 마스크\n"
     ]
    }
   ],
   "source": [
    "#검색할 키워드 입력\n",
    "query = input('검색할 키워드를 입력하세요>> ')"
   ]
  },
  {
   "cell_type": "code",
   "execution_count": 254,
   "id": "93e356c2",
   "metadata": {},
   "outputs": [],
   "source": [
    "#크롬 드라이버로 원하는 url접속\n",
    "#1. 크롬 브라우저 실행\n",
    "driver = webdriver.Chrome('../chromedriver/chromedriver.exe')"
   ]
  },
  {
   "cell_type": "code",
   "execution_count": 255,
   "id": "43285b2a",
   "metadata": {},
   "outputs": [],
   "source": [
    "#2. 특정url:http://www.naver.com 페이지로 연결\n",
    "url='https://shopping.naver.com/home/p/index.naver'\n",
    "driver.get(url)#http로 요청을 보내라<---http응답을 보낼 것임."
   ]
  },
  {
   "cell_type": "code",
   "execution_count": 256,
   "id": "fd512223",
   "metadata": {},
   "outputs": [],
   "source": [
    "time.sleep(2)"
   ]
  },
  {
   "cell_type": "code",
   "execution_count": 257,
   "id": "97bf39c0",
   "metadata": {},
   "outputs": [],
   "source": [
    "#3. 네이버 검색 input태그의 위치를 찾아서\n",
    "##query\n",
    "search_box = driver.find_element_by_css_selector('input.co_srh_input')\n",
    "#4. 3번에서 찾은 input태그에 검색어를 넣는다.\n",
    "search_box.send_keys(query)\n",
    "#5. 4번에서 입력한 값 서버로 전송\n",
    "search_box.send_keys(Keys.ENTER)\n",
    "#기다리기 설정\n",
    "time.sleep(2)"
   ]
  },
  {
   "cell_type": "code",
   "execution_count": 258,
   "id": "dcaaf60e",
   "metadata": {},
   "outputs": [],
   "source": [
    "#6. news tab을 찾아라!\n",
    "basicBrand = driver.find_elements_by_css_selector('a.basicList_brand_message__2-WlN')\n",
    "basicBrand                                               \n",
    "time.sleep(2)\n"
   ]
  },
  {
   "cell_type": "code",
   "execution_count": 259,
   "id": "96fa2a94",
   "metadata": {},
   "outputs": [],
   "source": [
    "for brand in basicBrand:\n",
    "    print(brand.text)\n",
    "    "
   ]
  },
  {
   "cell_type": "code",
   "execution_count": 260,
   "id": "9f1d7474",
   "metadata": {},
   "outputs": [],
   "source": [
    "brand_list = []\n",
    "for brand in brand_list:\n",
    "    brand_list.append(brand.text)\n",
    "    print(len(brand_list))"
   ]
  },
  {
   "cell_type": "code",
   "execution_count": 322,
   "id": "a305d578",
   "metadata": {},
   "outputs": [],
   "source": [
    "#상품이름\n",
    "abasicBrand = driver.find_elements_by_css_selector('div.basicList_title__3P9Q7')\n",
    "##__next > div > div.style_container__1YjHN > div.style_inner__18zZX > div.style_content_wrap__1PzEo >\n",
    "abasicBrand\n",
    "time.sleep(2)"
   ]
  },
  {
   "cell_type": "code",
   "execution_count": 323,
   "id": "62f4457a",
   "metadata": {
    "scrolled": true
   },
   "outputs": [
    {
     "data": {
      "text/plain": [
       "list"
      ]
     },
     "execution_count": 323,
     "metadata": {},
     "output_type": "execute_result"
    }
   ],
   "source": [
    "type(abasicBrand)"
   ]
  },
  {
   "cell_type": "code",
   "execution_count": 324,
   "id": "357cb2b0",
   "metadata": {},
   "outputs": [
    {
     "data": {
      "text/plain": [
       "35"
      ]
     },
     "execution_count": 324,
     "metadata": {},
     "output_type": "execute_result"
    }
   ],
   "source": [
    "len(abasicBrand)"
   ]
  },
  {
   "cell_type": "code",
   "execution_count": 325,
   "id": "57b9a096",
   "metadata": {
    "scrolled": false
   },
   "outputs": [
    {
     "name": "stdout",
     "output_type": "stream",
     "text": [
      "숨쉬기편한 국산 KF94 마스크 100매\n",
      "국산 덴탈 기프트 마스크 대형 50매 검은색\n",
      "국산 비말차단 해오름마스크 대형 소형 50매\n",
      "[상공양행] 에어쉴드 KF94 마스크 100매\n",
      "블루인더스 블루본 아이노우 컬러 마스크 소형\n",
      "퓨어텍 QUQU 크린숨 황사 미세먼지 방역 마스크 KF94\n",
      "미마마스크 미마 보건용마스크 KF94\n",
      "유한킴벌리 덴탈마스크\n",
      "언더아머 스포츠 마스크 1368010\n",
      "디더블유바이오 에어데이즈 보건용 마스크 KF94\n",
      "크리넥스 베이비 입체 마스크\n",
      "블루인더스 블루본 KF80 소형 마스크\n",
      "퓨어텍 QUQU 크린숨 비말차단 마스크 KF-AD\n",
      "피앤티디 웰킵스 황사방역마스크 KF94\n",
      "ETIQA 보건용 마스크 베이직 KF94\n",
      "블루인더스 블루본 아이노우 썸머라인 마스크 소형\n",
      "버드엠 델큐어 황사마스크 새부리형 KF94\n",
      "케이엠 닥터퓨리 KF-AD 비말차단 뉴케어 입체마스크\n",
      "유라인코리아 푸름웰니스 보건용 비움 마스크 KF94\n",
      "이디엘 제로베이 미세 황사 마스크 KF94\n",
      "파인텍 네퓨어 비말에스 마스크 KF-AD\n",
      "블루인더스 먼지 어흥 본심 방역마스크 KF94 소형\n",
      "구디즈 황사방역마스크 KF94 소형\n",
      "크리넥스 어린이 입체 마스크\n",
      "헤이븐 국산 덴탈 마스크 50매 일회용 일반 대형\n",
      "FDA승인 국산 덴탈마스크 블랙 대형 50매 귀편한 일회용 마스크\n",
      "에버뉴크린 KF94 귀편한 새부리형 마스크 10매 대형\n",
      "오투 국산 식약처 KF94 100매입 마스크\n",
      "디엠씨케이인더스트리 DMCK 클린비 비말차단 국산 일회용 덴탈 마스크 KF-AD\n",
      "톱텍 에어퀸 KF-AD 비말마스크\n",
      "유한킴벌리 크리넥스 KF80 데일리 입체형 황사마스크\n",
      "유한킴벌리 어린이 마스크\n",
      "블루윈 제이팀 국산 맘하트 KF-AD 덴탈마스크 MB필터\n",
      "그린핑거 우리 아이 입체마스크\n",
      "블루윈 제이팀 국산 데일리 덴탈마스크\n"
     ]
    }
   ],
   "source": [
    "for abrand in abasicBrand:\n",
    "    print(abrand.text)\n",
    "    "
   ]
  },
  {
   "cell_type": "code",
   "execution_count": 326,
   "id": "ba258c05",
   "metadata": {},
   "outputs": [
    {
     "name": "stdout",
     "output_type": "stream",
     "text": [
      "1\n",
      "2\n",
      "3\n",
      "4\n",
      "5\n",
      "6\n",
      "7\n",
      "8\n",
      "9\n",
      "10\n",
      "11\n",
      "12\n",
      "13\n",
      "14\n",
      "15\n",
      "16\n",
      "17\n",
      "18\n",
      "19\n",
      "20\n",
      "21\n",
      "22\n",
      "23\n",
      "24\n",
      "25\n",
      "26\n",
      "27\n",
      "28\n",
      "29\n",
      "30\n",
      "31\n",
      "32\n",
      "33\n",
      "34\n",
      "35\n"
     ]
    }
   ],
   "source": [
    "abrand_list = []\n",
    "for abrand in abasicBrand:\n",
    "    abrand_list.append(abrand.text)\n",
    "    print(len(abrand_list))"
   ]
  },
  {
   "cell_type": "code",
   "execution_count": 327,
   "id": "095768f8",
   "metadata": {},
   "outputs": [],
   "source": [
    "brand_Img = driver.find_elements_by_css_selector('img')\n",
    "brand_Img\n",
    "time.sleep(2)\n"
   ]
  },
  {
   "cell_type": "code",
   "execution_count": 328,
   "id": "4140498b",
   "metadata": {},
   "outputs": [
    {
     "name": "stdout",
     "output_type": "stream",
     "text": [
      "1\n",
      "2\n",
      "3\n",
      "4\n",
      "5\n",
      "6\n",
      "7\n",
      "8\n",
      "9\n",
      "10\n",
      "11\n",
      "12\n",
      "13\n",
      "14\n",
      "15\n",
      "16\n",
      "17\n",
      "18\n",
      "19\n",
      "20\n",
      "21\n",
      "22\n",
      "23\n",
      "24\n",
      "25\n",
      "26\n",
      "27\n",
      "28\n",
      "29\n",
      "30\n",
      "31\n",
      "32\n",
      "33\n",
      "34\n",
      "35\n",
      "36\n",
      "37\n",
      "38\n",
      "39\n",
      "40\n",
      "41\n",
      "42\n",
      "43\n",
      "44\n",
      "45\n",
      "46\n",
      "47\n",
      "48\n",
      "49\n",
      "50\n",
      "51\n",
      "52\n"
     ]
    }
   ],
   "source": [
    "img_list = []\n",
    "for img in brand_Img:\n",
    "    img_list.append(img.get_attribute('src'))\n",
    "    print(len(img_list))"
   ]
  },
  {
   "cell_type": "code",
   "execution_count": 238,
   "id": "bcad6158",
   "metadata": {},
   "outputs": [],
   "source": [
    "#이미지 주소가지고 img를 컴퓨터에 다운로드 해ㅗ자\n",
    "#저장위치 결정, 현재 경로 폴더 설정\n",
    "path_folder = './brandImg/'\n",
    "import os\n",
    "if not os.path.isdir(path_folder):\n",
    "    os.mkdir(path_folder)"
   ]
  },
  {
   "cell_type": "code",
   "execution_count": 239,
   "id": "1a7a29d6",
   "metadata": {},
   "outputs": [
    {
     "name": "stdout",
     "output_type": "stream",
     "text": [
      " C 드라이브의 볼륨에는 이름이 없습니다.\n",
      " 볼륨 일련 번호: 2AA9-F679\n",
      "\n",
      " C:\\Users\\aaa77\\PycharmProjects\\data09 디렉터리\n",
      "\n",
      "2022-03-28  오후 05:24    <DIR>          .\n",
      "2022-03-28  오후 05:24    <DIR>          ..\n",
      "2022-03-28  오후 03:40    <DIR>          .ipynb_checkpoints\n",
      "2022-03-28  오후 04:01            17,349 1.jpg\n",
      "2022-03-28  오후 04:01            16,147 10.jpg\n",
      "2022-03-28  오후 04:01            13,191 2.jpg\n",
      "2022-03-28  오후 04:01            18,704 3.jpg\n",
      "2022-03-28  오후 04:01             7,032 4.jpg\n",
      "2022-03-28  오후 04:01            19,169 5.jpg\n",
      "2022-03-28  오후 04:01            19,986 6.jpg\n",
      "2022-03-28  오후 04:01            12,566 7.jpg\n",
      "2022-03-28  오후 04:01            16,267 8.jpg\n",
      "2022-03-28  오후 04:01            24,666 9.jpg\n",
      "2022-03-28  오후 04:23    <DIR>          brandImg\n",
      "2022-03-28  오후 04:46                26 brandImg1.jpg\n",
      "2022-03-28  오후 04:46             4,434 brandImg10.jpg\n",
      "2022-03-28  오후 04:46             1,600 brandImg11.jpg\n",
      "2022-03-28  오후 04:46             5,538 brandImg12.jpg\n",
      "2022-03-28  오후 04:46             5,856 brandImg13.jpg\n",
      "2022-03-28  오후 04:46             2,351 brandImg14.jpg\n",
      "2022-03-28  오후 04:46            10,151 brandImg15.jpg\n",
      "2022-03-28  오후 04:46            15,167 brandImg16.jpg\n",
      "2022-03-28  오후 04:46             9,264 brandImg17.jpg\n",
      "2022-03-28  오후 04:46             8,053 brandImg18.jpg\n",
      "2022-03-28  오후 04:46             8,426 brandImg19.jpg\n",
      "2022-03-28  오후 04:46                26 brandImg2.jpg\n",
      "2022-03-28  오후 04:46             7,080 brandImg20.jpg\n",
      "2022-03-28  오후 04:46            10,312 brandImg21.jpg\n",
      "2022-03-28  오후 04:46             6,873 brandImg22.jpg\n",
      "2022-03-28  오후 04:46             7,771 brandImg23.jpg\n",
      "2022-03-28  오후 04:46             8,603 brandImg24.jpg\n",
      "2022-03-28  오후 04:46             7,924 brandImg25.jpg\n",
      "2022-03-28  오후 04:46             6,057 brandImg3.jpg\n",
      "2022-03-28  오후 04:46            43,568 brandImg4.jpg\n",
      "2022-03-28  오후 04:46             1,598 brandImg5.jpg\n",
      "2022-03-28  오후 04:46             6,506 brandImg6.jpg\n",
      "2022-03-28  오후 04:46             1,600 brandImg7.jpg\n",
      "2022-03-28  오후 04:46             4,670 brandImg8.jpg\n",
      "2022-03-28  오후 04:46             1,598 brandImg9.jpg\n",
      "2022-03-28  오전 10:00             1,417 folium-data.csv\n",
      "2022-03-28  오후 12:11           315,911 folium.ipynb\n",
      "2022-03-28  오전 11:40            38,713 location.html\n",
      "2022-03-28  오전 10:01            13,840 skorea_municipalities_geo_simple.json\n",
      "2022-03-28  오후 05:24            18,191 동적크롤링-네이버검색-2.ipynb\n",
      "2022-03-28  오후 05:24            46,879 동적크롤링-네이버검색.ipynb\n",
      "2022-03-28  오전 10:00            11,062 서울시구별식당개수.xlsx\n",
      "2022-03-28  오전 10:01            21,504 서울시구별식품위생업현황.xls\n",
      "2022-03-28  오전 10:57            12,975 서울시구별위도경도.xlsx\n",
      "2022-03-28  오후 02:38             1,783 셀레니움-설치-테스트.ipynb\n",
      "              45개 파일             832,404 바이트\n",
      "               4개 디렉터리  26,646,560,768 바이트 남음\n"
     ]
    }
   ],
   "source": [
    "!dir"
   ]
  },
  {
   "cell_type": "code",
   "execution_count": 240,
   "id": "4e9c6052",
   "metadata": {},
   "outputs": [],
   "source": [
    "from urllib.request import urlretrieve"
   ]
  },
  {
   "cell_type": "code",
   "execution_count": 241,
   "id": "6fb22ae6",
   "metadata": {},
   "outputs": [],
   "source": [
    "i = 0\n",
    "for img in img_list:\n",
    "    i +=1 #i=i+1\n",
    "    urlretrieve(img,path_folder+ str(i) + '.jpg')"
   ]
  },
  {
   "cell_type": "code",
   "execution_count": 242,
   "id": "550e0278",
   "metadata": {},
   "outputs": [
    {
     "name": "stdout",
     "output_type": "stream",
     "text": [
      " C 드라이브의 볼륨에는 이름이 없습니다.\n",
      " 볼륨 일련 번호: 2AA9-F679\n",
      "\n",
      " C:\\Users\\aaa77\\PycharmProjects\\data09 디렉터리\n",
      "\n",
      "2022-03-28  오후 04:01            17,349 1.jpg\n",
      "2022-03-28  오후 04:01            16,147 10.jpg\n",
      "2022-03-28  오후 04:01            13,191 2.jpg\n",
      "2022-03-28  오후 04:01            18,704 3.jpg\n",
      "2022-03-28  오후 04:01             7,032 4.jpg\n",
      "2022-03-28  오후 04:01            19,169 5.jpg\n",
      "2022-03-28  오후 04:01            19,986 6.jpg\n",
      "2022-03-28  오후 04:01            12,566 7.jpg\n",
      "2022-03-28  오후 04:01            16,267 8.jpg\n",
      "2022-03-28  오후 04:01            24,666 9.jpg\n",
      "2022-03-28  오후 05:25                26 brandImg1.jpg\n",
      "2022-03-28  오후 05:25            10,151 brandImg10.jpg\n",
      "2022-03-28  오후 05:25            15,167 brandImg11.jpg\n",
      "2022-03-28  오후 05:25             9,264 brandImg12.jpg\n",
      "2022-03-28  오후 05:25             8,053 brandImg13.jpg\n",
      "2022-03-28  오후 05:25             8,426 brandImg14.jpg\n",
      "2022-03-28  오후 05:25             7,203 brandImg15.jpg\n",
      "2022-03-28  오후 05:25            10,312 brandImg16.jpg\n",
      "2022-03-28  오후 05:25             8,749 brandImg17.jpg\n",
      "2022-03-28  오후 05:25             8,917 brandImg18.jpg\n",
      "2022-03-28  오후 05:25             8,455 brandImg19.jpg\n",
      "2022-03-28  오후 05:25                26 brandImg2.jpg\n",
      "2022-03-28  오후 05:25             7,924 brandImg20.jpg\n",
      "2022-03-28  오후 04:46            10,312 brandImg21.jpg\n",
      "2022-03-28  오후 04:46             6,873 brandImg22.jpg\n",
      "2022-03-28  오후 04:46             7,771 brandImg23.jpg\n",
      "2022-03-28  오후 04:46             8,603 brandImg24.jpg\n",
      "2022-03-28  오후 04:46             7,924 brandImg25.jpg\n",
      "2022-03-28  오후 05:25             6,057 brandImg3.jpg\n",
      "2022-03-28  오후 05:25            43,568 brandImg4.jpg"
     ]
    }
   ],
   "source": [
    "!dir *jpg"
   ]
  },
  {
   "cell_type": "code",
   "execution_count": 243,
   "id": "8cd22cfa",
   "metadata": {},
   "outputs": [],
   "source": [
    "from IPython.display import Image"
   ]
  },
  {
   "cell_type": "code",
   "execution_count": 244,
   "id": "d039f5d9",
   "metadata": {},
   "outputs": [
    {
     "data": {
      "image/jpeg": "[encoded data removed]",
      "text/plain": [
       "<IPython.core.display.Image object>"
      ]
     },
     "execution_count": 244,
     "metadata": {},
     "output_type": "execute_result"
    }
   ],
   "source": [
    "Image('./brandImg14.jpg')"
   ]
  },
  {
   "cell_type": "code",
   "execution_count": 245,
   "id": "636defcb",
   "metadata": {},
   "outputs": [],
   "source": [
    "priceBrand = driver.find_elements_by_css_selector('span.price_num__2WUXn')\n",
    "priceBrand\n",
    "time.sleep(2)"
   ]
  },
  {
   "cell_type": "code",
   "execution_count": 246,
   "id": "a772fdba",
   "metadata": {},
   "outputs": [
    {
     "name": "stdout",
     "output_type": "stream",
     "text": [
      "35,000원\n",
      "9,900원\n",
      "9,500원\n",
      "39,200원\n",
      "6,000원\n"
     ]
    }
   ],
   "source": [
    "for price in priceBrand:\n",
    "    print(price.text)"
   ]
  },
  {
   "cell_type": "code",
   "execution_count": 247,
   "id": "5064b771",
   "metadata": {},
   "outputs": [
    {
     "name": "stdout",
     "output_type": "stream",
     "text": [
      "1\n",
      "2\n",
      "3\n",
      "4\n",
      "5\n"
     ]
    }
   ],
   "source": [
    "price_list = []\n",
    "for price in priceBrand:\n",
    "    price_list.append(price.text)\n",
    "    print(len(price_list))"
   ]
  },
  {
   "cell_type": "code",
   "execution_count": 248,
   "id": "b4e412af",
   "metadata": {},
   "outputs": [
    {
     "name": "stdout",
     "output_type": "stream",
     "text": [
      "\n",
      "2022-03-28  오후 05:25             1,598 brandImg5.jpg\n",
      "2022-03-28  오후 05:25             1,600 brandImg6.jpg\n",
      "2022-03-28  오후 05:25             1,598 brandImg7.jpg\n",
      "2022-03-28  오후 05:25             1,600 brandImg8.jpg\n",
      "2022-03-28  오후 05:25             2,351 brandImg9.jpg\n",
      "              35개 파일             367,605 바이트\n",
      "               0개 디렉터리  26,646,913,024 바이트 남음\n"
     ]
    }
   ],
   "source": [
    "dateBrand = driver.find_elements_by_css_selector('span.basicList_etc__2uAYO')\n",
    "dateBrand\n",
    "time.sleep(2)"
   ]
  },
  {
   "cell_type": "code",
   "execution_count": 249,
   "id": "934dbb36",
   "metadata": {
    "scrolled": true
   },
   "outputs": [
    {
     "data": {
      "text/plain": [
       "['등록일 2021.02.',\n",
       " '찜하기8,238',\n",
       " '신고하기',\n",
       " '등록일 2020.10.',\n",
       " '찜하기1,609',\n",
       " '신고하기',\n",
       " '등록일 2020.07.',\n",
       " '찜하기9,405',\n",
       " '신고하기',\n",
       " '등록일 2021.10.',\n",
       " '찜하기686',\n",
       " '신고하기',\n",
       " '등록일 2021.04.',\n",
       " '찜하기277',\n",
       " '정보 수정요청',\n",
       " '등록일 2018.11.',\n",
       " '찜하기244',\n",
       " '정보 수정요청',\n",
       " '등록일 2020.07.',\n",
       " '찜하기942',\n",
       " '정보 수정요청',\n",
       " '등록일 2020.10.',\n",
       " '찜하기353',\n",
       " '정보 수정요청',\n",
       " '등록일 2020.08.',\n",
       " '찜하기704',\n",
       " '정보 수정요청',\n",
       " '등록일 2021.01.',\n",
       " '찜하기1,356',\n",
       " '정보 수정요청',\n",
       " '등록일 2020.10.',\n",
       " '찜하기296',\n",
       " '정보 수정요청',\n",
       " '등록일 2020.08.',\n",
       " '찜하기378',\n",
       " '정보 수정요청',\n",
       " '등록일 2020.07.',\n",
       " '찜하기264',\n",
       " '정보 수정요청',\n",
       " '등록일 2019.10.',\n",
       " '찜하기199',\n",
       " '정보 수정요청',\n",
       " '등록일 2019.03.',\n",
       " '찜하기227',\n",
       " '정보 수정요청',\n",
       " '등록일 2021.02.',\n",
       " '찜하기8,240',\n",
       " '신고하기',\n",
       " '등록일 2020.10.',\n",
       " '찜하기1,610',\n",
       " '신고하기',\n",
       " '등록일 2020.07.',\n",
       " '찜하기9,406',\n",
       " '신고하기',\n",
       " '등록일 2021.07.',\n",
       " '찜하기254',\n",
       " '신고하기',\n",
       " '등록일 2021.04.',\n",
       " '찜하기277',\n",
       " '정보 수정요청']"
      ]
     },
     "execution_count": 249,
     "metadata": {},
     "output_type": "execute_result"
    }
   ],
   "source": [
    "\n",
    "for date in dateBrand:\n",
    "#     print(date.text)\n",
    "    date_list.append(date.text)\n",
    "#     print(date_list)\n",
    "date_list"
   ]
  },
  {
   "cell_type": "code",
   "execution_count": 250,
   "id": "411ad783",
   "metadata": {},
   "outputs": [
    {
     "name": "stdout",
     "output_type": "stream",
     "text": [
      "1 찜하기8,238\n",
      "4 찜하기1,609\n",
      "7 찜하기9,405\n",
      "10 찜하기686\n",
      "13 찜하기277\n",
      "16 찜하기244\n",
      "19 찜하기942\n",
      "22 찜하기353\n",
      "25 찜하기704\n",
      "28 찜하기1,356\n",
      "31 찜하기296\n",
      "34 찜하기378\n",
      "37 찜하기264\n",
      "40 찜하기199\n",
      "43 찜하기227\n",
      "46 찜하기8,240\n",
      "49 찜하기1,610\n",
      "52 찜하기9,406\n",
      "55 찜하기254\n",
      "58 찜하기277\n"
     ]
    }
   ],
   "source": [
    "for i in range(1,len(date_list) , 3):\n",
    "    date1 = date_list[i]\n",
    "    print(i, date1)"
   ]
  },
  {
   "cell_type": "code",
   "execution_count": null,
   "id": "1baa48cd",
   "metadata": {},
   "outputs": [],
   "source": []
  }
 ],
 "metadata": {
  "kernelspec": {
   "display_name": "Python 3 (ipykernel)",
   "language": "python",
   "name": "python3"
  },
  "language_info": {
   "codemirror_mode": {
    "name": "ipython",
    "version": 3
   },
   "file_extension": ".py",
   "mimetype": "text/x-python",
   "name": "python",
   "nbconvert_exporter": "python",
   "pygments_lexer": "ipython3",
   "version": "3.9.7"
  }
 },
 "nbformat": 4,
 "nbformat_minor": 5
}
