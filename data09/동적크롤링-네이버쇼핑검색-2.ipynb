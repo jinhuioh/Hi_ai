{
 "cells": [
  {
   "cell_type": "markdown",
   "id": "72eac710",
   "metadata": {},
   "source": [
    "# 네이버쇼핑에 마스크를 검색하고 정보를 추출해 df를 만들어보자."
   ]
  },
  {
   "cell_type": "code",
   "execution_count": 142,
   "id": "e1c127a6",
   "metadata": {},
   "outputs": [],
   "source": [
    "import warnings\n",
    "warnings.filterwarnings(action='ignore')\n",
    "from selenium.webdriver.common.by import By\n",
    "from selenium.webdriver.support.ui import WebDriverWait \n",
    "from selenium.webdriver.support import expected_conditions as EC"
   ]
  },
  {
   "cell_type": "code",
   "execution_count": 143,
   "id": "5f0c59e6",
   "metadata": {},
   "outputs": [],
   "source": [
    "#step1.selenium 패키지와 time 모듈 import\n",
    "from selenium import webdriver\n",
    "from selenium.webdriver.common.keys import Keys\n",
    "import time"
   ]
  },
  {
   "cell_type": "code",
   "execution_count": 144,
   "id": "915ab363",
   "metadata": {
    "scrolled": true
   },
   "outputs": [
    {
     "name": "stdout",
     "output_type": "stream",
     "text": [
      "검색할 키워드를 입력하세요>> 마스크\n"
     ]
    }
   ],
   "source": [
    "#검색할 키워드 입력\n",
    "query = input('검색할 키워드를 입력하세요>> ')"
   ]
  },
  {
   "cell_type": "code",
   "execution_count": 168,
   "id": "93e356c2",
   "metadata": {},
   "outputs": [],
   "source": [
    "#크롬 드라이버로 원하는 url접속\n",
    "#1. 크롬 브라우저 실행\n",
    "driver = webdriver.Chrome('../chromedriver/chromedriver.exe')"
   ]
  },
  {
   "cell_type": "code",
   "execution_count": 169,
   "id": "43285b2a",
   "metadata": {},
   "outputs": [],
   "source": [
    "#2. 특정url:http://www.naver.com 페이지로 연결\n",
    "url='https://shopping.naver.com/home/p/index.naver'\n",
    "driver.get(url)#http로 요청을 보내라<---http응답을 보낼 것임."
   ]
  },
  {
   "cell_type": "code",
   "execution_count": 170,
   "id": "fd512223",
   "metadata": {},
   "outputs": [],
   "source": [
    "time.sleep(2)"
   ]
  },
  {
   "cell_type": "code",
   "execution_count": 171,
   "id": "97bf39c0",
   "metadata": {},
   "outputs": [],
   "source": [
    "#3. 네이버 검색 input태그의 위치를 찾아서\n",
    "##query\n",
    "search_box = driver.find_element_by_css_selector('input.co_srh_input')\n",
    "#4. 3번에서 찾은 input태그에 검색어를 넣는다.\n",
    "search_box.send_keys(query)\n",
    "#5. 4번에서 입력한 값 서버로 전송\n",
    "search_box.send_keys(Keys.ENTER)\n",
    "#기다리기 설정\n",
    "time.sleep(2)"
   ]
  },
  {
   "cell_type": "code",
   "execution_count": 172,
   "id": "a305d578",
   "metadata": {},
   "outputs": [],
   "source": [
    "#상품이름추출\n",
    "driver.execute_script('window.scrollTo(0,document.body.scrollHeight)')##스크롤을 가장 아래까지 내린 뒤, 제품 이름을 추출\n",
    "time.sleep(2)\n",
    "abasicBrand = driver.find_elements_by_css_selector('div.basicList_title__3P9Q7')\n",
    "##__next > div > div.style_container__1YjHN > div.style_inner__18zZX > div.style_content_wrap__1PzEo >\n",
    "abasicBrand\n",
    "time.sleep(2)"
   ]
  },
  {
   "cell_type": "code",
   "execution_count": 239,
   "id": "ba258c05",
   "metadata": {
    "scrolled": true
   },
   "outputs": [
    {
     "name": "stdout",
     "output_type": "stream",
     "text": [
      "48\n",
      "['숨쉬기편한 국산 KF94 마스크 100매', '국산 비말차단 해오름마스크 대형 소형 50매', '국산 덴탈 기프트 마스크 대형 50매 검은색', '노아 덴탈 마스크 국산 3중 대형 화이트 50매 데일리 일회용', '블루인더스 블루본 아이노우 컬러 마스크 소형', '퓨어텍 QUQU 크린숨 황사 미세먼지 방역 마스크 KF94', '미마마스크 미마 보건용마스크 KF94', '유한킴벌리 덴탈마스크', '언더아머 스포츠 마스크 1368010', '디더블유바이오 에어데이즈 보건용 마스크 KF94', '크리넥스 베이비 입체 마스크', '블루인더스 블루본 KF80 소형 마스크', '퓨어텍 QUQU 크린숨 비말차단 마스크 KF-AD', '피앤티디 웰킵스 황사방역마스크 KF94', 'ETIQA 보건용 마스크 베이직 KF94', '블루인더스 블루본 아이노우 썸머라인 마스크 소형', '버드엠 델큐어 황사마스크 새부리형 KF94', '케이엠 닥터퓨리 KF-AD 비말차단 뉴케어 입체마스크', '유라인코리아 푸름웰니스 보건용 비움 마스크 KF94', '이디엘 제로베이 미세 황사 마스크 KF94', '파인텍 네퓨어 비말에스 마스크 KF-AD', '블루인더스 먼지 어흥 본심 방역마스크 KF94 소형', '구디즈 황사방역마스크 KF94 소형', '크리넥스 어린이 입체 마스크', '헤이븐 국산 덴탈 마스크 50매 일회용 일반 대형', '필슨 쿨 비말차단마스크 KF-AD 100매 (대형) 개별포장', 'FDA승인 국산 덴탈마스크 블랙 대형 50매 귀편한 일회용 마스크', '오투 국산 식약처 KF94 100매입 마스크', '디엠씨케이인더스트리 DMCK 클린비 비말차단 국산 일회용 덴탈 마스크 KF-AD', '톱텍 에어퀸 KF-AD 비말마스크', '유한킴벌리 크리넥스 KF80 데일리 입체형 황사마스크', '유한킴벌리 어린이 마스크', '블루윈 제이팀 국산 맘하트 KF-AD 덴탈마스크 MB필터', '그린핑거 우리 아이 입체마스크', '블루윈 제이팀 국산 데일리 덴탈마스크', '네오인터네셔날 애니케어 비말 차단 마스크 KF-AD', '아이케이힐메이드 힐메이드 황사마스크 KF94', '피코스킨 국산 덴탈 비말차단 마스크 KF-AD', '합리적인마스크 웨어리스 유아용 마스크', 'SAPA 타스 KF94 새부리형 황사 마스크', '굿매너 황사 방역용 마스크 KF80 소형', '애니가드 미세먼지 마스크 KF80 소형']\n"
     ]
    }
   ],
   "source": [
    "abrand_list = []\n",
    "for abrand in abasicBrand:\n",
    "    abrand_list.append(abrand.text)\n",
    "print(len(abrand_list))\n",
    "print(abrand_list[:42])"
   ]
  },
  {
   "cell_type": "code",
   "execution_count": 240,
   "id": "b957d603",
   "metadata": {},
   "outputs": [
    {
     "ename": "NameError",
     "evalue": "name 'abrand_list_42' is not defined",
     "output_type": "error",
     "traceback": [
      "\u001b[1;31m---------------------------------------------------------------------------\u001b[0m",
      "\u001b[1;31mNameError\u001b[0m                                 Traceback (most recent call last)",
      "\u001b[1;32m~\\AppData\\Local\\Temp/ipykernel_1528/3602014827.py\u001b[0m in \u001b[0;36m<module>\u001b[1;34m\u001b[0m\n\u001b[0;32m      1\u001b[0m \u001b[0mabrand_list_45\u001b[0m\u001b[1;33m=\u001b[0m\u001b[0mabrand_list\u001b[0m\u001b[1;33m[\u001b[0m\u001b[1;33m:\u001b[0m\u001b[1;36m42\u001b[0m\u001b[1;33m]\u001b[0m\u001b[1;33m\u001b[0m\u001b[1;33m\u001b[0m\u001b[0m\n\u001b[1;32m----> 2\u001b[1;33m \u001b[0mprint\u001b[0m\u001b[1;33m(\u001b[0m\u001b[0mabrand_list_42\u001b[0m\u001b[1;33m)\u001b[0m\u001b[1;33m\u001b[0m\u001b[1;33m\u001b[0m\u001b[0m\n\u001b[0m\u001b[0;32m      3\u001b[0m \u001b[0mlen\u001b[0m\u001b[1;33m(\u001b[0m\u001b[0mabrand_list_42\u001b[0m\u001b[1;33m)\u001b[0m\u001b[1;33m\u001b[0m\u001b[1;33m\u001b[0m\u001b[0m\n",
      "\u001b[1;31mNameError\u001b[0m: name 'abrand_list_42' is not defined"
     ]
    }
   ],
   "source": [
    "abrand_list_45=abrand_list[:42]\n",
    "print(abrand_list_42)\n",
    "len(abrand_list_42)"
   ]
  },
  {
   "cell_type": "code",
   "execution_count": 241,
   "id": "095768f8",
   "metadata": {},
   "outputs": [
    {
     "data": {
      "text/plain": [
       "1"
      ]
     },
     "execution_count": 241,
     "metadata": {},
     "output_type": "execute_result"
    }
   ],
   "source": [
    "driver.execute_script('window.scrollTo(0,document.body.scrollHeight)')##스크롤을 가장 아래까지 내린 뒤, 제품 이름을 추출\n",
    "time.sleep(2)\n",
    "brand_Img = driver.find_elements_by_css_selector('#__next > div > div.style_container__1YjHN > div.style_inner__18zZX > div.style_content_wrap__1PzEo > div.style_content__2T20F > ul > div > div:nth-child(n) > li > div.basicList_inner__eY_mq > div.basicList_img_area__a3NRA > div > a > img')\n",
    "\n",
    "time.sleep(2)\n",
    "img_list = []\n",
    "for img in brand_Img:\n",
    "    img_list.append(img.get_attribute('src'))\n",
    "len(img_list)"
   ]
  },
  {
   "cell_type": "code",
   "execution_count": 214,
   "id": "bcad6158",
   "metadata": {},
   "outputs": [],
   "source": [
    "#이미지 주소가지고 img를 컴퓨터에 다운로드 해보자\n",
    "#저장위치 결정, 현재 경로 폴더 설정\n",
    "path_folder = './brandImg/'\n",
    "import os\n",
    "if not os.path.isdir(path_folder):\n",
    "    os.mkdir(path_folder)"
   ]
  },
  {
   "cell_type": "code",
   "execution_count": 215,
   "id": "1a7a29d6",
   "metadata": {},
   "outputs": [
    {
     "name": "stdout",
     "output_type": "stream",
     "text": [
      " C 드라이브의 볼륨에는 이름이 없습니다.\n",
      " 볼륨 일련 번호: 2AA9-F679\n",
      "\n",
      " C:\\Users\\aaa77\\PycharmProjects\\data09 디렉터리\n",
      "\n",
      "2022-03-28  오후 10:18    <DIR>          .\n",
      "2022-03-28  오후 10:18    <DIR>          ..\n",
      "2022-03-28  오후 05:53    <DIR>          .ipynb_checkpoints\n",
      "2022-03-28  오후 04:01            17,349 1.jpg\n",
      "2022-03-28  오후 04:01            16,147 10.jpg\n",
      "2022-03-28  오후 04:01            13,191 2.jpg\n",
      "2022-03-28  오후 04:01            18,704 3.jpg\n",
      "2022-03-28  오후 04:01             7,032 4.jpg\n",
      "2022-03-28  오후 04:01            19,169 5.jpg\n",
      "2022-03-28  오후 04:01            19,986 6.jpg\n",
      "2022-03-28  오후 04:01            12,566 7.jpg\n",
      "2022-03-28  오후 04:01            16,267 8.jpg\n",
      "2022-03-28  오후 04:01            24,666 9.jpg\n",
      "2022-03-28  오후 09:25    <DIR>          brandImg\n",
      "2022-03-28  오후 09:16            49,038 crawling-naver_shopping.ipynb\n",
      "2022-03-28  오전 10:00             1,417 folium-data.csv\n",
      "2022-03-28  오후 12:11           315,911 folium.ipynb\n",
      "2022-03-28  오전 11:40            38,713 location.html\n",
      "2022-03-28  오후 06:12                88 readme.md\n",
      "2022-03-28  오전 10:01            13,840 skorea_municipalities_geo_simple.json\n",
      "2022-03-28  오후 05:24            46,879 동적크롤링-네이버검색.ipynb\n",
      "2022-03-28  오후 10:18            38,381 동적크롤링-네이버쇼핑검색-2.ipynb\n",
      "2022-03-28  오전 10:00            11,062 서울시구별식당개수.xlsx\n",
      "2022-03-28  오전 10:01            21,504 서울시구별식품위생업현황.xls\n",
      "2022-03-28  오전 10:57            12,975 서울시구별위도경도.xlsx\n",
      "2022-03-28  오후 02:38             1,783 셀레니움-설치-테스트.ipynb\n",
      "              22개 파일             716,668 바이트\n",
      "               4개 디렉터리  26,634,604,544 바이트 남음\n"
     ]
    }
   ],
   "source": [
    "!dir"
   ]
  },
  {
   "cell_type": "code",
   "execution_count": 216,
   "id": "4e9c6052",
   "metadata": {},
   "outputs": [],
   "source": [
    "from urllib.request import urlretrieve"
   ]
  },
  {
   "cell_type": "code",
   "execution_count": 217,
   "id": "6fb22ae6",
   "metadata": {},
   "outputs": [],
   "source": [
    "i = 0\n",
    "for img in img_list:\n",
    "    i +=1 #i=i+1\n",
    "    urlretrieve(img,path_folder+ str(i) + '.jpg')"
   ]
  },
  {
   "cell_type": "code",
   "execution_count": 218,
   "id": "550e0278",
   "metadata": {},
   "outputs": [
    {
     "name": "stdout",
     "output_type": "stream",
     "text": [
      " C 드라이브의 볼륨에는 이름이 없습니다.\n",
      " 볼륨 일련 번호: 2AA9-F679\n",
      "\n",
      " C:\\Users\\aaa77\\PycharmProjects\\data09 디렉터리\n",
      "\n",
      "2022-03-28  오후 04:01            17,349 1.jpg\n",
      "2022-03-28  오후 04:01            16,147 10.jpg\n",
      "2022-03-28  오후 04:01            13,191 2.jpg\n",
      "2022-03-28  오후 04:01            18,704 3.jpg\n",
      "2022-03-28  오후 04:01             7,032 4.jpg\n",
      "2022-03-28  오후 04:01            19,169 5.jpg\n",
      "2022-03-28  오후 04:01            19,986 6.jpg\n",
      "2022-03-28  오후 04:01            12,566 7.jpg\n",
      "2022-03-28  오후 04:01            16,267 8.jpg\n",
      "2022-03-28  오후 04:01            24,666 9.jpg\n",
      "              10개 파일             165,077 바이트\n",
      "               0개 디렉터리  26,634,604,544 바이트 남음\n"
     ]
    }
   ],
   "source": [
    "!dir *jpg"
   ]
  },
  {
   "cell_type": "code",
   "execution_count": 219,
   "id": "8cd22cfa",
   "metadata": {},
   "outputs": [],
   "source": [
    "from IPython.display import Image"
   ]
  },
  {
   "cell_type": "code",
   "execution_count": 220,
   "id": "d039f5d9",
   "metadata": {},
   "outputs": [
    {
     "data": {
      "image/jpeg": "[encoded data removed]",
      "text/plain": [
       "<IPython.core.display.Image object>"
      ]
     },
     "execution_count": 220,
     "metadata": {},
     "output_type": "execute_result"
    }
   ],
   "source": [
    "Image('./brandImg/16.jpg')"
   ]
  },
  {
   "cell_type": "code",
   "execution_count": 221,
   "id": "636defcb",
   "metadata": {},
   "outputs": [],
   "source": [
    "priceBrand = driver.find_elements_by_css_selector('span.price_num__2WUXn')\n",
    "priceBrand\n",
    "time.sleep(2)"
   ]
  },
  {
   "cell_type": "code",
   "execution_count": 222,
   "id": "a772fdba",
   "metadata": {
    "scrolled": true
   },
   "outputs": [
    {
     "name": "stdout",
     "output_type": "stream",
     "text": [
      "35,000원\n",
      "9,500원\n",
      "9,900원\n",
      "7,900원\n",
      "6,000원\n",
      "3,290원\n",
      "7,500원\n",
      "5,600원\n",
      "14,850원\n",
      "3,960원\n",
      "4,040원\n",
      "5,500원\n",
      "2,610원\n",
      "8,380원\n",
      "4,550원\n",
      "6,000원\n",
      "4,650원\n",
      "12,100원\n",
      "4,890원\n",
      "5,290원\n",
      "17,960원\n",
      "4,000원\n",
      "2,500원\n",
      "3,800원\n",
      "5,500원\n",
      "45,000원\n",
      "4,900원\n",
      "52,000원\n",
      "6,400원\n",
      "2,370원\n",
      "800원\n",
      "5,920원\n",
      "3,900원\n",
      "13,530원\n",
      "2,900원\n",
      "2,290원\n",
      "5,100원\n",
      "6,800원\n",
      "6,300원\n",
      "4,000원\n",
      "2,990원\n",
      "2,200원\n",
      "1,830원\n",
      "2,900원\n",
      "3,900원\n",
      "24,890원\n",
      "6,800원\n"
     ]
    }
   ],
   "source": [
    "for price in priceBrand:\n",
    "    print(price.text)"
   ]
  },
  {
   "cell_type": "code",
   "execution_count": 250,
   "id": "5064b771",
   "metadata": {
    "scrolled": true
   },
   "outputs": [
    {
     "name": "stdout",
     "output_type": "stream",
     "text": [
      "47\n"
     ]
    }
   ],
   "source": [
    "price_list = []\n",
    "for price in priceBrand:\n",
    "    price_list.append(price.text)\n",
    "print(len(price_list))"
   ]
  },
  {
   "cell_type": "code",
   "execution_count": 255,
   "id": "8c98418b",
   "metadata": {
    "scrolled": false
   },
   "outputs": [
    {
     "name": "stdout",
     "output_type": "stream",
     "text": [
      "42\n"
     ]
    }
   ],
   "source": [
    "price_list_42 = price_list[:42]\n",
    "price_list_42\n",
    "print(len(price_list_42))"
   ]
  },
  {
   "cell_type": "code",
   "execution_count": 252,
   "id": "20950a53",
   "metadata": {},
   "outputs": [
    {
     "data": {
      "text/plain": [
       "47"
      ]
     },
     "execution_count": 252,
     "metadata": {},
     "output_type": "execute_result"
    }
   ],
   "source": [
    "len(price_list)"
   ]
  },
  {
   "cell_type": "code",
   "execution_count": 224,
   "id": "b4e412af",
   "metadata": {},
   "outputs": [],
   "source": [
    "dateBrand = driver.find_elements_by_css_selector('span.basicList_etc__2uAYO')\n",
    "dateBrand\n",
    "time.sleep(2)"
   ]
  },
  {
   "cell_type": "code",
   "execution_count": 225,
   "id": "934dbb36",
   "metadata": {
    "scrolled": true
   },
   "outputs": [
    {
     "data": {
      "text/plain": [
       "['등록일 2021.02.',\n",
       " '찜하기8,256',\n",
       " '신고하기',\n",
       " '등록일 2020.07.',\n",
       " '찜하기9,408',\n",
       " '신고하기',\n",
       " '등록일 2020.10.',\n",
       " '찜하기1,611',\n",
       " '신고하기',\n",
       " '등록일 2020.11.',\n",
       " '찜하기1,268',\n",
       " '신고하기',\n",
       " '등록일 2021.04.',\n",
       " '찜하기277',\n",
       " '정보 수정요청',\n",
       " '등록일 2018.11.',\n",
       " '찜하기245',\n",
       " '정보 수정요청',\n",
       " '등록일 2020.07.',\n",
       " '찜하기942',\n",
       " '정보 수정요청',\n",
       " '등록일 2020.10.',\n",
       " '찜하기353',\n",
       " '정보 수정요청',\n",
       " '등록일 2020.08.',\n",
       " '찜하기704',\n",
       " '정보 수정요청',\n",
       " '등록일 2021.01.',\n",
       " '찜하기1,355',\n",
       " '정보 수정요청',\n",
       " '등록일 2020.10.',\n",
       " '찜하기297',\n",
       " '정보 수정요청',\n",
       " '등록일 2020.08.',\n",
       " '찜하기378',\n",
       " '정보 수정요청',\n",
       " '등록일 2020.07.',\n",
       " '찜하기264',\n",
       " '정보 수정요청',\n",
       " '등록일 2019.10.',\n",
       " '찜하기199',\n",
       " '정보 수정요청',\n",
       " '등록일 2019.03.',\n",
       " '찜하기227',\n",
       " '정보 수정요청',\n",
       " '등록일 2021.07.',\n",
       " '찜하기168',\n",
       " '정보 수정요청',\n",
       " '등록일 2021.04.',\n",
       " '찜하기453',\n",
       " '정보 수정요청',\n",
       " '등록일 2020.09.',\n",
       " '찜하기554',\n",
       " '정보 수정요청',\n",
       " '등록일 2021.05.',\n",
       " '찜하기637',\n",
       " '정보 수정요청',\n",
       " '등록일 2020.06.',\n",
       " '찜하기341',\n",
       " '정보 수정요청',\n",
       " '등록일 2021.06.',\n",
       " '찜하기116',\n",
       " '정보 수정요청',\n",
       " '등록일 2021.04.',\n",
       " '찜하기110',\n",
       " '정보 수정요청',\n",
       " '등록일 2021.03.',\n",
       " '찜하기107',\n",
       " '정보 수정요청',\n",
       " '등록일 2021.04.',\n",
       " '찜하기116',\n",
       " '정보 수정요청',\n",
       " '등록일 2020.10.',\n",
       " '찜하기3,173',\n",
       " '신고하기',\n",
       " '등록일 2021.04.',\n",
       " '찜하기577',\n",
       " '신고하기',\n",
       " '등록일 2020.12.',\n",
       " '찜하기1,669',\n",
       " '신고하기',\n",
       " '등록일 2020.12.',\n",
       " '찜하기156',\n",
       " '신고하기',\n",
       " '등록일 2021.03.',\n",
       " '찜하기233',\n",
       " '정보 수정요청',\n",
       " '등록일 2020.08.',\n",
       " '찜하기445',\n",
       " '정보 수정요청',\n",
       " '등록일 2020.07.',\n",
       " '찜하기259',\n",
       " '정보 수정요청',\n",
       " '등록일 2021.04.',\n",
       " '찜하기177',\n",
       " '정보 수정요청',\n",
       " '등록일 2021.01.',\n",
       " '찜하기178',\n",
       " '정보 수정요청',\n",
       " '등록일 2021.03.',\n",
       " '찜하기135',\n",
       " '정보 수정요청',\n",
       " '등록일 2020.09.',\n",
       " '찜하기203',\n",
       " '정보 수정요청',\n",
       " '등록일 2020.07.',\n",
       " '찜하기245',\n",
       " '정보 수정요청',\n",
       " '등록일 2020.07.',\n",
       " '찜하기214',\n",
       " '정보 수정요청',\n",
       " '등록일 2021.06.',\n",
       " '찜하기317',\n",
       " '정보 수정요청',\n",
       " '등록일 2021.03.',\n",
       " '찜하기65',\n",
       " '정보 수정요청',\n",
       " '등록일 2021.01.',\n",
       " '찜하기234',\n",
       " '정보 수정요청',\n",
       " '등록일 2020.08.',\n",
       " '찜하기106',\n",
       " '정보 수정요청',\n",
       " '등록일 2021.02.',\n",
       " '찜하기72',\n",
       " '정보 수정요청',\n",
       " '등록일 2021.04.',\n",
       " '찜하기25',\n",
       " '정보 수정요청',\n",
       " '등록일 2021.10.',\n",
       " '찜하기28',\n",
       " '정보 수정요청',\n",
       " '등록일 2020.06.',\n",
       " '찜하기14',\n",
       " '정보 수정요청',\n",
       " '등록일 2021.05.',\n",
       " '찜하기38',\n",
       " '정보 수정요청',\n",
       " '등록일 2022.01.',\n",
       " '찜하기2,461',\n",
       " '신고하기',\n",
       " '등록일 2021.12.',\n",
       " '찜하기75',\n",
       " '정보 수정요청']"
      ]
     },
     "execution_count": 225,
     "metadata": {},
     "output_type": "execute_result"
    }
   ],
   "source": [
    "\n",
    "date_list=[]\n",
    "for date in dateBrand:\n",
    "#     print(date.text)\n",
    "    date_list.append(date.text)\n",
    "#     print(date_list)\n",
    "date_list"
   ]
  },
  {
   "cell_type": "code",
   "execution_count": 232,
   "id": "411ad783",
   "metadata": {},
   "outputs": [
    {
     "name": "stdout",
     "output_type": "stream",
     "text": [
      " 2021.02.\n",
      " 2020.07.\n",
      " 2020.10.\n",
      " 2020.11.\n",
      " 2021.04.\n",
      " 2018.11.\n",
      " 2020.07.\n",
      " 2020.10.\n",
      " 2020.08.\n",
      " 2021.01.\n",
      " 2020.10.\n",
      " 2020.08.\n",
      " 2020.07.\n",
      " 2019.10.\n",
      " 2019.03.\n",
      " 2021.07.\n",
      " 2021.04.\n",
      " 2020.09.\n",
      " 2021.05.\n",
      " 2020.06.\n",
      " 2021.06.\n",
      " 2021.04.\n",
      " 2021.03.\n",
      " 2021.04.\n",
      " 2020.10.\n",
      " 2021.04.\n",
      " 2020.12.\n",
      " 2020.12.\n",
      " 2021.03.\n",
      " 2020.08.\n",
      " 2020.07.\n",
      " 2021.04.\n",
      " 2021.01.\n",
      " 2021.03.\n",
      " 2020.09.\n",
      " 2020.07.\n",
      " 2020.07.\n",
      " 2021.06.\n",
      " 2021.03.\n",
      " 2021.01.\n",
      " 2020.08.\n",
      " 2021.02.\n"
     ]
    },
    {
     "data": {
      "text/plain": [
       "42"
      ]
     },
     "execution_count": 232,
     "metadata": {},
     "output_type": "execute_result"
    }
   ],
   "source": [
    "#등록일만 모아서 리스트로 묶기.\n",
    "date1_list = []\n",
    "for i in range(0,(len(date_list))-18, 3):\n",
    "    date1 = date_list[i].replace('등록일','')\n",
    "    \n",
    "    date1_list.append(date1)\n",
    "    print(date1)\n",
    "len(date1_list)\n"
   ]
  },
  {
   "cell_type": "code",
   "execution_count": 231,
   "id": "f1db7c65",
   "metadata": {},
   "outputs": [
    {
     "data": {
      "text/plain": [
       "[' 2021.02.', ' 2020.07.', ' 2020.10.', ' 2020.11.']"
      ]
     },
     "execution_count": 231,
     "metadata": {},
     "output_type": "execute_result"
    }
   ],
   "source": [
    "type(date1_list)\n",
    "date1_list[:4]"
   ]
  },
  {
   "cell_type": "code",
   "execution_count": 227,
   "id": "410ea62e",
   "metadata": {},
   "outputs": [],
   "source": [
    "import pandas as pd"
   ]
  },
  {
   "cell_type": "code",
   "execution_count": 256,
   "id": "a7b1597f",
   "metadata": {
    "scrolled": true
   },
   "outputs": [
    {
     "data": {
      "text/plain": [
       "(42, 42, 42)"
      ]
     },
     "execution_count": 256,
     "metadata": {},
     "output_type": "execute_result"
    }
   ],
   "source": [
    "len(abrand_list_45), len(price_list_42), len(date1_list)"
   ]
  },
  {
   "cell_type": "code",
   "execution_count": 257,
   "id": "60762df4",
   "metadata": {
    "scrolled": true
   },
   "outputs": [
    {
     "data": {
      "text/html": [
       "<div>\n",
       "<style scoped>\n",
       "    .dataframe tbody tr th:only-of-type {\n",
       "        vertical-align: middle;\n",
       "    }\n",
       "\n",
       "    .dataframe tbody tr th {\n",
       "        vertical-align: top;\n",
       "    }\n",
       "\n",
       "    .dataframe thead th {\n",
       "        text-align: right;\n",
       "    }\n",
       "</style>\n",
       "<table border=\"1\" class=\"dataframe\">\n",
       "  <thead>\n",
       "    <tr style=\"text-align: right;\">\n",
       "      <th></th>\n",
       "      <th>상품명</th>\n",
       "      <th>가격</th>\n",
       "      <th>등록일</th>\n",
       "    </tr>\n",
       "  </thead>\n",
       "  <tbody>\n",
       "    <tr>\n",
       "      <th>0</th>\n",
       "      <td>숨쉬기편한 국산 KF94 마스크 100매</td>\n",
       "      <td>35,000원</td>\n",
       "      <td>2021.02.</td>\n",
       "    </tr>\n",
       "    <tr>\n",
       "      <th>1</th>\n",
       "      <td>국산 비말차단 해오름마스크 대형 소형 50매</td>\n",
       "      <td>9,500원</td>\n",
       "      <td>2020.07.</td>\n",
       "    </tr>\n",
       "    <tr>\n",
       "      <th>2</th>\n",
       "      <td>국산 덴탈 기프트 마스크 대형 50매 검은색</td>\n",
       "      <td>9,900원</td>\n",
       "      <td>2020.10.</td>\n",
       "    </tr>\n",
       "    <tr>\n",
       "      <th>3</th>\n",
       "      <td>노아 덴탈 마스크 국산 3중 대형 화이트 50매 데일리 일회용</td>\n",
       "      <td>7,900원</td>\n",
       "      <td>2020.11.</td>\n",
       "    </tr>\n",
       "    <tr>\n",
       "      <th>4</th>\n",
       "      <td>블루인더스 블루본 아이노우 컬러 마스크 소형</td>\n",
       "      <td>6,000원</td>\n",
       "      <td>2021.04.</td>\n",
       "    </tr>\n",
       "    <tr>\n",
       "      <th>5</th>\n",
       "      <td>퓨어텍 QUQU 크린숨 황사 미세먼지 방역 마스크 KF94</td>\n",
       "      <td>3,290원</td>\n",
       "      <td>2018.11.</td>\n",
       "    </tr>\n",
       "    <tr>\n",
       "      <th>6</th>\n",
       "      <td>미마마스크 미마 보건용마스크 KF94</td>\n",
       "      <td>7,500원</td>\n",
       "      <td>2020.07.</td>\n",
       "    </tr>\n",
       "    <tr>\n",
       "      <th>7</th>\n",
       "      <td>유한킴벌리 덴탈마스크</td>\n",
       "      <td>5,600원</td>\n",
       "      <td>2020.10.</td>\n",
       "    </tr>\n",
       "    <tr>\n",
       "      <th>8</th>\n",
       "      <td>언더아머 스포츠 마스크 1368010</td>\n",
       "      <td>14,850원</td>\n",
       "      <td>2020.08.</td>\n",
       "    </tr>\n",
       "    <tr>\n",
       "      <th>9</th>\n",
       "      <td>디더블유바이오 에어데이즈 보건용 마스크 KF94</td>\n",
       "      <td>3,960원</td>\n",
       "      <td>2021.01.</td>\n",
       "    </tr>\n",
       "    <tr>\n",
       "      <th>10</th>\n",
       "      <td>크리넥스 베이비 입체 마스크</td>\n",
       "      <td>4,040원</td>\n",
       "      <td>2020.10.</td>\n",
       "    </tr>\n",
       "    <tr>\n",
       "      <th>11</th>\n",
       "      <td>블루인더스 블루본 KF80 소형 마스크</td>\n",
       "      <td>5,500원</td>\n",
       "      <td>2020.08.</td>\n",
       "    </tr>\n",
       "    <tr>\n",
       "      <th>12</th>\n",
       "      <td>퓨어텍 QUQU 크린숨 비말차단 마스크 KF-AD</td>\n",
       "      <td>2,610원</td>\n",
       "      <td>2020.07.</td>\n",
       "    </tr>\n",
       "    <tr>\n",
       "      <th>13</th>\n",
       "      <td>피앤티디 웰킵스 황사방역마스크 KF94</td>\n",
       "      <td>8,380원</td>\n",
       "      <td>2019.10.</td>\n",
       "    </tr>\n",
       "    <tr>\n",
       "      <th>14</th>\n",
       "      <td>ETIQA 보건용 마스크 베이직 KF94</td>\n",
       "      <td>4,550원</td>\n",
       "      <td>2019.03.</td>\n",
       "    </tr>\n",
       "    <tr>\n",
       "      <th>15</th>\n",
       "      <td>블루인더스 블루본 아이노우 썸머라인 마스크 소형</td>\n",
       "      <td>6,000원</td>\n",
       "      <td>2021.07.</td>\n",
       "    </tr>\n",
       "    <tr>\n",
       "      <th>16</th>\n",
       "      <td>버드엠 델큐어 황사마스크 새부리형 KF94</td>\n",
       "      <td>4,650원</td>\n",
       "      <td>2021.04.</td>\n",
       "    </tr>\n",
       "    <tr>\n",
       "      <th>17</th>\n",
       "      <td>케이엠 닥터퓨리 KF-AD 비말차단 뉴케어 입체마스크</td>\n",
       "      <td>12,100원</td>\n",
       "      <td>2020.09.</td>\n",
       "    </tr>\n",
       "    <tr>\n",
       "      <th>18</th>\n",
       "      <td>유라인코리아 푸름웰니스 보건용 비움 마스크 KF94</td>\n",
       "      <td>4,890원</td>\n",
       "      <td>2021.05.</td>\n",
       "    </tr>\n",
       "    <tr>\n",
       "      <th>19</th>\n",
       "      <td>이디엘 제로베이 미세 황사 마스크 KF94</td>\n",
       "      <td>5,290원</td>\n",
       "      <td>2020.06.</td>\n",
       "    </tr>\n",
       "    <tr>\n",
       "      <th>20</th>\n",
       "      <td>파인텍 네퓨어 비말에스 마스크 KF-AD</td>\n",
       "      <td>17,960원</td>\n",
       "      <td>2021.06.</td>\n",
       "    </tr>\n",
       "    <tr>\n",
       "      <th>21</th>\n",
       "      <td>블루인더스 먼지 어흥 본심 방역마스크 KF94 소형</td>\n",
       "      <td>4,000원</td>\n",
       "      <td>2021.04.</td>\n",
       "    </tr>\n",
       "    <tr>\n",
       "      <th>22</th>\n",
       "      <td>구디즈 황사방역마스크 KF94 소형</td>\n",
       "      <td>2,500원</td>\n",
       "      <td>2021.03.</td>\n",
       "    </tr>\n",
       "    <tr>\n",
       "      <th>23</th>\n",
       "      <td>크리넥스 어린이 입체 마스크</td>\n",
       "      <td>3,800원</td>\n",
       "      <td>2021.04.</td>\n",
       "    </tr>\n",
       "    <tr>\n",
       "      <th>24</th>\n",
       "      <td>헤이븐 국산 덴탈 마스크 50매 일회용 일반 대형</td>\n",
       "      <td>5,500원</td>\n",
       "      <td>2020.10.</td>\n",
       "    </tr>\n",
       "    <tr>\n",
       "      <th>25</th>\n",
       "      <td>필슨 쿨 비말차단마스크 KF-AD 100매 (대형) 개별포장</td>\n",
       "      <td>45,000원</td>\n",
       "      <td>2021.04.</td>\n",
       "    </tr>\n",
       "    <tr>\n",
       "      <th>26</th>\n",
       "      <td>FDA승인 국산 덴탈마스크 블랙 대형 50매 귀편한 일회용 마스크</td>\n",
       "      <td>4,900원</td>\n",
       "      <td>2020.12.</td>\n",
       "    </tr>\n",
       "    <tr>\n",
       "      <th>27</th>\n",
       "      <td>오투 국산 식약처 KF94 100매입 마스크</td>\n",
       "      <td>52,000원</td>\n",
       "      <td>2020.12.</td>\n",
       "    </tr>\n",
       "    <tr>\n",
       "      <th>28</th>\n",
       "      <td>디엠씨케이인더스트리 DMCK 클린비 비말차단 국산 일회용 덴탈 마스크 KF-AD</td>\n",
       "      <td>6,400원</td>\n",
       "      <td>2021.03.</td>\n",
       "    </tr>\n",
       "    <tr>\n",
       "      <th>29</th>\n",
       "      <td>톱텍 에어퀸 KF-AD 비말마스크</td>\n",
       "      <td>2,370원</td>\n",
       "      <td>2020.08.</td>\n",
       "    </tr>\n",
       "    <tr>\n",
       "      <th>30</th>\n",
       "      <td>유한킴벌리 크리넥스 KF80 데일리 입체형 황사마스크</td>\n",
       "      <td>800원</td>\n",
       "      <td>2020.07.</td>\n",
       "    </tr>\n",
       "    <tr>\n",
       "      <th>31</th>\n",
       "      <td>유한킴벌리 어린이 마스크</td>\n",
       "      <td>5,920원</td>\n",
       "      <td>2021.04.</td>\n",
       "    </tr>\n",
       "    <tr>\n",
       "      <th>32</th>\n",
       "      <td>블루윈 제이팀 국산 맘하트 KF-AD 덴탈마스크 MB필터</td>\n",
       "      <td>3,900원</td>\n",
       "      <td>2021.01.</td>\n",
       "    </tr>\n",
       "    <tr>\n",
       "      <th>33</th>\n",
       "      <td>그린핑거 우리 아이 입체마스크</td>\n",
       "      <td>13,530원</td>\n",
       "      <td>2021.03.</td>\n",
       "    </tr>\n",
       "    <tr>\n",
       "      <th>34</th>\n",
       "      <td>블루윈 제이팀 국산 데일리 덴탈마스크</td>\n",
       "      <td>2,900원</td>\n",
       "      <td>2020.09.</td>\n",
       "    </tr>\n",
       "    <tr>\n",
       "      <th>35</th>\n",
       "      <td>네오인터네셔날 애니케어 비말 차단 마스크 KF-AD</td>\n",
       "      <td>2,290원</td>\n",
       "      <td>2020.07.</td>\n",
       "    </tr>\n",
       "    <tr>\n",
       "      <th>36</th>\n",
       "      <td>아이케이힐메이드 힐메이드 황사마스크 KF94</td>\n",
       "      <td>5,100원</td>\n",
       "      <td>2020.07.</td>\n",
       "    </tr>\n",
       "    <tr>\n",
       "      <th>37</th>\n",
       "      <td>피코스킨 국산 덴탈 비말차단 마스크 KF-AD</td>\n",
       "      <td>6,800원</td>\n",
       "      <td>2021.06.</td>\n",
       "    </tr>\n",
       "    <tr>\n",
       "      <th>38</th>\n",
       "      <td>합리적인마스크 웨어리스 유아용 마스크</td>\n",
       "      <td>6,300원</td>\n",
       "      <td>2021.03.</td>\n",
       "    </tr>\n",
       "    <tr>\n",
       "      <th>39</th>\n",
       "      <td>SAPA 타스 KF94 새부리형 황사 마스크</td>\n",
       "      <td>4,000원</td>\n",
       "      <td>2021.01.</td>\n",
       "    </tr>\n",
       "    <tr>\n",
       "      <th>40</th>\n",
       "      <td>굿매너 황사 방역용 마스크 KF80 소형</td>\n",
       "      <td>2,990원</td>\n",
       "      <td>2020.08.</td>\n",
       "    </tr>\n",
       "    <tr>\n",
       "      <th>41</th>\n",
       "      <td>애니가드 미세먼지 마스크 KF80 소형</td>\n",
       "      <td>2,200원</td>\n",
       "      <td>2021.02.</td>\n",
       "    </tr>\n",
       "  </tbody>\n",
       "</table>\n",
       "</div>"
      ],
      "text/plain": [
       "                                             상품명       가격        등록일\n",
       "0                         숨쉬기편한 국산 KF94 마스크 100매  35,000원   2021.02.\n",
       "1                       국산 비말차단 해오름마스크 대형 소형 50매   9,500원   2020.07.\n",
       "2                       국산 덴탈 기프트 마스크 대형 50매 검은색   9,900원   2020.10.\n",
       "3             노아 덴탈 마스크 국산 3중 대형 화이트 50매 데일리 일회용   7,900원   2020.11.\n",
       "4                       블루인더스 블루본 아이노우 컬러 마스크 소형   6,000원   2021.04.\n",
       "5               퓨어텍 QUQU 크린숨 황사 미세먼지 방역 마스크 KF94   3,290원   2018.11.\n",
       "6                           미마마스크 미마 보건용마스크 KF94   7,500원   2020.07.\n",
       "7                                    유한킴벌리 덴탈마스크   5,600원   2020.10.\n",
       "8                           언더아머 스포츠 마스크 1368010  14,850원   2020.08.\n",
       "9                     디더블유바이오 에어데이즈 보건용 마스크 KF94   3,960원   2021.01.\n",
       "10                               크리넥스 베이비 입체 마스크   4,040원   2020.10.\n",
       "11                         블루인더스 블루본 KF80 소형 마스크   5,500원   2020.08.\n",
       "12                   퓨어텍 QUQU 크린숨 비말차단 마스크 KF-AD   2,610원   2020.07.\n",
       "13                         피앤티디 웰킵스 황사방역마스크 KF94   8,380원   2019.10.\n",
       "14                        ETIQA 보건용 마스크 베이직 KF94   4,550원   2019.03.\n",
       "15                    블루인더스 블루본 아이노우 썸머라인 마스크 소형   6,000원   2021.07.\n",
       "16                       버드엠 델큐어 황사마스크 새부리형 KF94   4,650원   2021.04.\n",
       "17                 케이엠 닥터퓨리 KF-AD 비말차단 뉴케어 입체마스크  12,100원   2020.09.\n",
       "18                  유라인코리아 푸름웰니스 보건용 비움 마스크 KF94   4,890원   2021.05.\n",
       "19                       이디엘 제로베이 미세 황사 마스크 KF94   5,290원   2020.06.\n",
       "20                        파인텍 네퓨어 비말에스 마스크 KF-AD  17,960원   2021.06.\n",
       "21                  블루인더스 먼지 어흥 본심 방역마스크 KF94 소형   4,000원   2021.04.\n",
       "22                           구디즈 황사방역마스크 KF94 소형   2,500원   2021.03.\n",
       "23                               크리넥스 어린이 입체 마스크   3,800원   2021.04.\n",
       "24                   헤이븐 국산 덴탈 마스크 50매 일회용 일반 대형   5,500원   2020.10.\n",
       "25             필슨 쿨 비말차단마스크 KF-AD 100매 (대형) 개별포장  45,000원   2021.04.\n",
       "26          FDA승인 국산 덴탈마스크 블랙 대형 50매 귀편한 일회용 마스크   4,900원   2020.12.\n",
       "27                      오투 국산 식약처 KF94 100매입 마스크  52,000원   2020.12.\n",
       "28  디엠씨케이인더스트리 DMCK 클린비 비말차단 국산 일회용 덴탈 마스크 KF-AD   6,400원   2021.03.\n",
       "29                            톱텍 에어퀸 KF-AD 비말마스크   2,370원   2020.08.\n",
       "30                 유한킴벌리 크리넥스 KF80 데일리 입체형 황사마스크     800원   2020.07.\n",
       "31                                 유한킴벌리 어린이 마스크   5,920원   2021.04.\n",
       "32               블루윈 제이팀 국산 맘하트 KF-AD 덴탈마스크 MB필터   3,900원   2021.01.\n",
       "33                              그린핑거 우리 아이 입체마스크  13,530원   2021.03.\n",
       "34                          블루윈 제이팀 국산 데일리 덴탈마스크   2,900원   2020.09.\n",
       "35                  네오인터네셔날 애니케어 비말 차단 마스크 KF-AD   2,290원   2020.07.\n",
       "36                      아이케이힐메이드 힐메이드 황사마스크 KF94   5,100원   2020.07.\n",
       "37                     피코스킨 국산 덴탈 비말차단 마스크 KF-AD   6,800원   2021.06.\n",
       "38                          합리적인마스크 웨어리스 유아용 마스크   6,300원   2021.03.\n",
       "39                      SAPA 타스 KF94 새부리형 황사 마스크   4,000원   2021.01.\n",
       "40                        굿매너 황사 방역용 마스크 KF80 소형   2,990원   2020.08.\n",
       "41                         애니가드 미세먼지 마스크 KF80 소형   2,200원   2021.02."
      ]
     },
     "execution_count": 257,
     "metadata": {},
     "output_type": "execute_result"
    }
   ],
   "source": [
    "naver_shopping = pd.DataFrame({'상품명':abrand_list_45,'가격':price_list_42,'등록일':date1_list})\n",
    "naver_shopping"
   ]
  },
  {
   "cell_type": "code",
   "execution_count": null,
   "id": "f2eccaa1",
   "metadata": {},
   "outputs": [],
   "source": []
  },
  {
   "cell_type": "code",
   "execution_count": null,
   "id": "2a1e55c6",
   "metadata": {},
   "outputs": [],
   "source": []
  }
 ],
 "metadata": {
  "kernelspec": {
   "display_name": "Python 3 (ipykernel)",
   "language": "python",
   "name": "python3"
  },
  "language_info": {
   "codemirror_mode": {
    "name": "ipython",
    "version": 3
   },
   "file_extension": ".py",
   "mimetype": "text/x-python",
   "name": "python",
   "nbconvert_exporter": "python",
   "pygments_lexer": "ipython3",
   "version": "3.9.7"
  }
 },
 "nbformat": 4,
 "nbformat_minor": 5
}
