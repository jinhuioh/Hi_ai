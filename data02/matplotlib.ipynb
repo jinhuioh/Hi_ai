{
 "cells": [
  {
   "cell_type": "code",
   "execution_count": 41,
   "id": "c23ce5c0",
   "metadata": {},
   "outputs": [],
   "source": [
    "import matplotlib"
   ]
  },
  {
   "cell_type": "code",
   "execution_count": 42,
   "id": "bd65deff",
   "metadata": {},
   "outputs": [],
   "source": [
    "#라이브러리가 없으면 아래처럼 설치한다.\n",
    "#!pip install matplotlib=버전\n"
   ]
  },
  {
   "cell_type": "code",
   "execution_count": 43,
   "id": "4e977e36",
   "metadata": {},
   "outputs": [
    {
     "name": "stdout",
     "output_type": "stream",
     "text": [
      " C 드라이브의 볼륨에는 이름이 없습니다.\n",
      " 볼륨 일련 번호: 2AA9-F679\n",
      "\n",
      " C:\\Users\\aaa77\\PycharmProjects\\data02 디렉터리\n",
      "\n",
      "2022-03-16  오후 05:51    <DIR>          .\n",
      "2022-03-16  오후 05:51    <DIR>          ..\n",
      "2022-03-16  오후 05:38    <DIR>          .ipynb_checkpoints\n",
      "2022-03-16  오후 03:42            34,752 dataframe-start.ipynb\n",
      "2022-03-16  오후 05:51            29,154 matplotlib.ipynb\n",
      "2022-03-16  오후 12:21            15,981 pdDataFrame.csv\n",
      "2022-03-16  오후 02:44               442 scientists.csv\n",
      "2022-03-16  오후 04:59            86,169 test02.ipynb\n",
      "2022-03-16  오후 05:13           102,295 test03.ipynb\n",
      "               6개 파일             268,793 바이트\n",
      "               3개 디렉터리  21,358,276,608 바이트 남음\n"
     ]
    }
   ],
   "source": [
    "!dir"
   ]
  },
  {
   "cell_type": "code",
   "execution_count": 44,
   "id": "6cd8dadd",
   "metadata": {},
   "outputs": [
    {
     "name": "stdout",
     "output_type": "stream",
     "text": [
      "3.4.3\n"
     ]
    }
   ],
   "source": [
    "print(matplotlib.__version__)"
   ]
  },
  {
   "cell_type": "code",
   "execution_count": 45,
   "id": "aef9ef68",
   "metadata": {},
   "outputs": [],
   "source": [
    "import matplotlib.pyplot as plt\n",
    "import numpy as np"
   ]
  },
  {
   "cell_type": "code",
   "execution_count": 55,
   "id": "6879181f",
   "metadata": {},
   "outputs": [
    {
     "name": "stdout",
     "output_type": "stream",
     "text": [
      "<class 'numpy.ndarray'>\n",
      "<class 'numpy.ndarray'>\n"
     ]
    },
    {
     "data": {
      "image/png": "[encoded data removed]",
      "text/plain": [
       "<Figure size 432x288 with 1 Axes>"
      ]
     },
     "metadata": {
      "needs_background": "light"
     },
     "output_type": "display_data"
    }
   ],
   "source": [
    "xpoints = np.array([1,2,3,4,5])#1차원\n",
    "print(type(xpoints))\n",
    "ypoints = np.array([100,50,30,20,60])\n",
    "print(type(ypoints))\n",
    "plt.plot(xpoints,ypoints, marker='o', linestyle=\"dotted\")\n",
    "#plot x,y축으로 그래프 그려주는 함수.\n",
    "# marker='o'해주면 꺾이는 부분에 o생김.\n",
    "#linestyle=\"dotted\" 점선으로 바뀜\n",
    "plt.xlabel('numbers of students')#x축에대한 설명\n",
    "plt.ylabel('counts')#y축에 대한 설명\n",
    "\n",
    "plt.show()"
   ]
  },
  {
   "cell_type": "code",
   "execution_count": 47,
   "id": "22e1b779",
   "metadata": {},
   "outputs": [
    {
     "data": {
      "image/png": "[encoded data removed]",
      "text/plain": [
       "<Figure size 432x288 with 1 Axes>"
      ]
     },
     "metadata": {
      "needs_background": "light"
     },
     "output_type": "display_data"
    }
   ],
   "source": [
    "xpoints = np.array([1,2,3,4,5])#1차원\n",
    "ypoints = np.array([100,50,30,20,60])\n",
    "plt.scatter(xpoints,ypoints)#scatter x,y축으로 점으로 값 표현.\n",
    "plt.show()"
   ]
  },
  {
   "cell_type": "code",
   "execution_count": 48,
   "id": "cb7e64cc",
   "metadata": {},
   "outputs": [],
   "source": [
    "import random"
   ]
  },
  {
   "cell_type": "code",
   "execution_count": 51,
   "id": "3789b25d",
   "metadata": {},
   "outputs": [
    {
     "name": "stdout",
     "output_type": "stream",
     "text": [
      "[1, 2, 3, 4, 5, 6, 7, 8, 9, 10]\n",
      "[1, 2, 3, 4, 5, 6, 7, 8, 9, 10]\n"
     ]
    }
   ],
   "source": [
    "# x = []\n",
    "# y = []\n",
    "# for i in range(100):\n",
    "#     x.append(random.randint(1, 100))\n",
    "#     y.append(random.randint(1, 100))\n",
    "# print(x[:10])\n",
    "# print(y[:10])\n",
    "x = []\n",
    "y = []\n",
    "for i in range(1,102):\n",
    "    x.append(i)\n",
    "    y.append(i)\n",
    "print(x[:10])\n",
    "print(y[:10])\n",
    "\n"
   ]
  },
  {
   "cell_type": "code",
   "execution_count": 52,
   "id": "0cbbfbe1",
   "metadata": {},
   "outputs": [
    {
     "data": {
      "image/png": "[encoded data removed]",
      "text/plain": [
       "<Figure size 432x288 with 1 Axes>"
      ]
     },
     "metadata": {
      "needs_background": "light"
     },
     "output_type": "display_data"
    }
   ],
   "source": [
    "xpoints = np.array(x)#1차원\n",
    "ypoints = np.array(y)\n",
    "plt.scatter(xpoints,ypoints)#scatter x,y축으로 점으로 값 표현.\n",
    "plt.show()\n",
    "\n"
   ]
  },
  {
   "cell_type": "code",
   "execution_count": null,
   "id": "af25470a",
   "metadata": {},
   "outputs": [],
   "source": []
  }
 ],
 "metadata": {
  "kernelspec": {
   "display_name": "Python 3 (ipykernel)",
   "language": "python",
   "name": "python3"
  },
  "language_info": {
   "codemirror_mode": {
    "name": "ipython",
    "version": 3
   },
   "file_extension": ".py",
   "mimetype": "text/x-python",
   "name": "python",
   "nbconvert_exporter": "python",
   "pygments_lexer": "ipython3",
   "version": "3.9.7"
  }
 },
 "nbformat": 4,
 "nbformat_minor": 5
}
