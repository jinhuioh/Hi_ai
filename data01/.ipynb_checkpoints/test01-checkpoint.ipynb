{
 "cells": [
  {
   "cell_type": "code",
   "execution_count": 1,
   "id": "a39a1ae9",
   "metadata": {},
   "outputs": [
    {
     "name": "stdout",
     "output_type": "stream",
     "text": [
      "welcome! jupyter\n"
     ]
    }
   ],
   "source": [
    "print('welcome! jupyter')\n"
   ]
  },
  {
   "cell_type": "code",
   "execution_count": 2,
   "id": "55535e74",
   "metadata": {},
   "outputs": [],
   "source": [
    "#shift+enter: 해당 셀 실행해주고 다음 셀도 만들어줌.\n",
    "#control+enter: 다음 셀 실행만.!!!"
   ]
  },
  {
   "cell_type": "code",
   "execution_count": null,
   "id": "5ab3962e",
   "metadata": {},
   "outputs": [],
   "source": [
    "#셀 생성: 밖 아무곳 누르면 셀이 파란색으로 변하는데 b누르면 셀 하나씩 생김.\n",
    "#셀삭제: dd(x)\n",
    "#위에추가:a\n",
    "#복붙: c , v\n"
   ]
  },
  {
   "cell_type": "code",
   "execution_count": null,
   "id": "cce2fd69",
   "metadata": {},
   "outputs": [],
   "source": []
  },
  {
   "cell_type": "code",
   "execution_count": null,
   "id": "fde80c3c",
   "metadata": {},
   "outputs": [],
   "source": [
    "#셀 생성: 밖 아무곳 누르면 셀이 파란색으로 변하는데 b누르면 셀 하나씩 생김.\n",
    "#셀삭제: dd(x)\n",
    "#위에추가:a\n"
   ]
  }
 ],
 "metadata": {
  "kernelspec": {
   "display_name": "Python 3 (ipykernel)",
   "language": "python",
   "name": "python3"
  },
  "language_info": {
   "codemirror_mode": {
    "name": "ipython",
    "version": 3
   },
   "file_extension": ".py",
   "mimetype": "text/x-python",
   "name": "python",
   "nbconvert_exporter": "python",
   "pygments_lexer": "ipython3",
   "version": "3.9.7"
  }
 },
 "nbformat": 4,
 "nbformat_minor": 5
}
