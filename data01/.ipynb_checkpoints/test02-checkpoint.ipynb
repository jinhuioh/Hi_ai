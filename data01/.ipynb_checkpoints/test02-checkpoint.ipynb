{
 "cells": [
  {
   "cell_type": "code",
   "execution_count": 1,
   "id": "305348cb-6e3e-4d6c-b38c-871737257c17",
   "metadata": {},
   "outputs": [],
   "source": [
    "name = '홍길동'\n",
    "age = 100"
   ]
  },
  {
   "cell_type": "code",
   "execution_count": 2,
   "id": "91c489b5-9c37-4f5b-b190-6f9a5d978df8",
   "metadata": {},
   "outputs": [],
   "source": [
    "#자동완성: 시작한느 문자 몇개 치고+tap키를 누르면 된다."
   ]
  },
  {
   "cell_type": "code",
   "execution_count": 3,
   "id": "f21f75fb-0080-402c-a01a-c73d8496c237",
   "metadata": {},
   "outputs": [
    {
     "name": "stdout",
     "output_type": "stream",
     "text": [
      "홍길동\n"
     ]
    }
   ],
   "source": [
    "print(name)"
   ]
  },
  {
   "cell_type": "code",
   "execution_count": 4,
   "id": "dff33c92-f91d-4327-b780-4d235f4fa90f",
   "metadata": {},
   "outputs": [
    {
     "data": {
      "text/plain": [
       "100"
      ]
     },
     "execution_count": 4,
     "metadata": {},
     "output_type": "execute_result"
    }
   ],
   "source": [
    "age"
   ]
  },
  {
   "cell_type": "code",
   "execution_count": 5,
   "id": "88ad8a92-ab8a-4537-836c-9c668dee57d0",
   "metadata": {},
   "outputs": [
    {
     "data": {
      "text/plain": [
       "'홍길동'"
      ]
     },
     "execution_count": 5,
     "metadata": {},
     "output_type": "execute_result"
    }
   ],
   "source": [
    "name"
   ]
  },
  {
   "cell_type": "code",
   "execution_count": null,
   "id": "ed2b2289-764e-4104-937a-c5782a8220e4",
   "metadata": {},
   "outputs": [],
   "source": []
  }
 ],
 "metadata": {
  "kernelspec": {
   "display_name": "Python 3 (ipykernel)",
   "language": "python",
   "name": "python3"
  },
  "language_info": {
   "codemirror_mode": {
    "name": "ipython",
    "version": 3
   },
   "file_extension": ".py",
   "mimetype": "text/x-python",
   "name": "python",
   "nbconvert_exporter": "python",
   "pygments_lexer": "ipython3",
   "version": "3.9.7"
  }
 },
 "nbformat": 4,
 "nbformat_minor": 5
}
