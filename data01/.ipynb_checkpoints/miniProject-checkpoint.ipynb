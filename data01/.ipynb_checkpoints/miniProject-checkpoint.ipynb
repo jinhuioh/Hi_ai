{
 "cells": [
  {
   "cell_type": "code",
   "execution_count": 209,
   "id": "b219c887",
   "metadata": {},
   "outputs": [],
   "source": [
    "from urllib import request"
   ]
  },
  {
   "cell_type": "code",
   "execution_count": 210,
   "id": "9a09f777",
   "metadata": {},
   "outputs": [],
   "source": [
    "from bs4 import BeautifulSoup"
   ]
  },
  {
   "cell_type": "code",
   "execution_count": 211,
   "id": "b5b64f07",
   "metadata": {},
   "outputs": [
    {
     "data": {
      "text/plain": [
       "<http.client.HTTPResponse at 0x2599cc02a90>"
      ]
     },
     "execution_count": 211,
     "metadata": {},
     "output_type": "execute_result"
    }
   ],
   "source": [
    "con = request.urlopen('https://novel.naver.com/webnovel/ranking?genre=101&periodType=DAILY')\n",
    "con "
   ]
  },
  {
   "cell_type": "code",
   "execution_count": 212,
   "id": "caa75b1f",
   "metadata": {},
   "outputs": [
    {
     "data": {
      "text/plain": [
       "200"
      ]
     },
     "execution_count": 212,
     "metadata": {},
     "output_type": "execute_result"
    }
   ],
   "source": [
    "con.status #status code"
   ]
  },
  {
   "cell_type": "code",
   "execution_count": 213,
   "id": "c6300afb",
   "metadata": {},
   "outputs": [],
   "source": [
    "doc = BeautifulSoup(con, 'html.parser')"
   ]
  },
  {
   "cell_type": "code",
   "execution_count": 214,
   "id": "7b990231",
   "metadata": {},
   "outputs": [
    {
     "data": {
      "text/plain": [
       "[<span class=\"author\">놀마</span>,\n",
       " <span class=\"author\">꽃제이(진소예)</span>,\n",
       " <span class=\"author\">감사혜</span>,\n",
       " <span class=\"author\">달콤한홍차</span>,\n",
       " <span class=\"author\">핑크티</span>,\n",
       " <span class=\"author\">루시아</span>,\n",
       " <span class=\"author\">이도혜</span>,\n",
       " <span class=\"author\">칠칠마마</span>,\n",
       " <span class=\"author\">은율아</span>,\n",
       " <span class=\"author\">서한밤</span>,\n",
       " <span class=\"author\">이은비</span>,\n",
       " <span class=\"author\">미이라이</span>,\n",
       " <span class=\"author\">이달아</span>,\n",
       " <span class=\"author\">플아다</span>,\n",
       " <span class=\"author\">태소영</span>,\n",
       " <span class=\"author\">Lunar 이지연</span>,\n",
       " <span class=\"author\">빵양이</span>,\n",
       " <span class=\"author\">용감한 자매</span>,\n",
       " <span class=\"author\">탐이나</span>,\n",
       " <span class=\"author\">미래힐</span>,\n",
       " <span class=\"author\">로즈빈</span>,\n",
       " <span class=\"author\">주황연</span>,\n",
       " <span class=\"author\">트위티블리</span>,\n",
       " <span class=\"author\">진이현</span>,\n",
       " <span class=\"author\">셀리코</span>,\n",
       " <span class=\"author\">박수정(방울마마)</span>,\n",
       " <span class=\"author\">갓녀</span>,\n",
       " <span class=\"author\">이재익</span>,\n",
       " <span class=\"author\">플라비</span>,\n",
       " <span class=\"author\">반지영</span>,\n",
       " <span class=\"author\">최윤정(두잇)</span>,\n",
       " <span class=\"author\">달콤J</span>,\n",
       " <span class=\"author\">쥬시린시</span>,\n",
       " <span class=\"author\">노승아</span>,\n",
       " <span class=\"author\">플아다</span>,\n",
       " <span class=\"author\">태소영</span>,\n",
       " <span class=\"author\">플아다</span>,\n",
       " <span class=\"author\">성하</span>,\n",
       " <span class=\"author\">닥터냐냐</span>,\n",
       " <span class=\"author\">별규</span>,\n",
       " <span class=\"author\">배사비</span>,\n",
       " <span class=\"author\">이다홍</span>,\n",
       " <span class=\"author\">미니멜리사</span>,\n",
       " <span class=\"author\">이수안</span>,\n",
       " <span class=\"author\">래마</span>,\n",
       " <span class=\"author\">설우희</span>,\n",
       " <span class=\"author\">진저리</span>,\n",
       " <span class=\"author\">블랑드</span>,\n",
       " <span class=\"author\">이달리.</span>,\n",
       " <span class=\"author\">성소작</span>,\n",
       " <span class=\"author\">체리고</span>,\n",
       " <span class=\"author\">김결</span>,\n",
       " <span class=\"author\">플아다</span>,\n",
       " <span class=\"author\">갓녀</span>,\n",
       " <span class=\"author\">윤손</span>,\n",
       " <span class=\"author\">박수정(방울마마)</span>,\n",
       " <span class=\"author\">별규</span>,\n",
       " <span class=\"author\">이새인</span>,\n",
       " <span class=\"author\">이다홍</span>,\n",
       " <span class=\"author\">놀마</span>,\n",
       " <span class=\"author\">노승아</span>,\n",
       " <span class=\"author\">이범배</span>,\n",
       " <span class=\"author\">아라휘</span>,\n",
       " <span class=\"author\">주황연</span>,\n",
       " <span class=\"author\">이은비</span>,\n",
       " <span class=\"author\">안테</span>,\n",
       " <span class=\"author\">이은비</span>,\n",
       " <span class=\"author\">이 정</span>,\n",
       " <span class=\"author\">탐이나</span>,\n",
       " <span class=\"author\">Lunar 이지연</span>,\n",
       " <span class=\"author\">윤이수</span>,\n",
       " <span class=\"author\">용감한 자매</span>,\n",
       " <span class=\"author\">글쓰는 귀신</span>,\n",
       " <span class=\"author\">빵양이</span>,\n",
       " <span class=\"author\">핑크티</span>,\n",
       " <span class=\"author\">노승아</span>,\n",
       " <span class=\"author\">달콤J</span>,\n",
       " <span class=\"author\">파란드</span>,\n",
       " <span class=\"author\">노승아</span>,\n",
       " <span class=\"author\">이범배</span>,\n",
       " <span class=\"author\">주황연</span>,\n",
       " <span class=\"author\">안테</span>,\n",
       " <span class=\"author\">왕기대</span>,\n",
       " <span class=\"author\">이새인</span>,\n",
       " <span class=\"author\">벚꽃그리고</span>,\n",
       " <span class=\"author\">플아다</span>,\n",
       " <span class=\"author\">이은비</span>,\n",
       " <span class=\"author\">이른봄</span>,\n",
       " <span class=\"author\">탐이나</span>,\n",
       " <span class=\"author\">이경하</span>,\n",
       " <span class=\"author\">우지혜</span>,\n",
       " <span class=\"author\">별규</span>,\n",
       " <span class=\"author\">시니컬 앨리스</span>,\n",
       " <span class=\"author\">이달아</span>,\n",
       " <span class=\"author\">비연</span>,\n",
       " <span class=\"author\">은빈</span>,\n",
       " <span class=\"author\">달콤J</span>,\n",
       " <span class=\"author\">박수정(방울마마)</span>,\n",
       " <span class=\"author\">Lunar 이지연</span>,\n",
       " <span class=\"author\">로즈빈</span>]"
      ]
     },
     "execution_count": 214,
     "metadata": {},
     "output_type": "execute_result"
    }
   ],
   "source": [
    " a_tag_list = doc.select('div.ranking_wrap_left span.author')\n",
    "# a_tag_list = doc.select('span.author')\n",
    "a_tag_list #content > div > div.ranking_lst > div.ranking_wrap_left > ul > li:nth-child(1) > a > div.info.v2 > p.sub_info > span.author\n",
    "#content > div > div.ranking_lst > div.ranking_wrap_left > ul > li:nth-child(1) > a > div.info.v2 > p.sub_info > span.author"
   ]
  },
  {
   "cell_type": "code",
   "execution_count": 215,
   "id": "16c37455",
   "metadata": {},
   "outputs": [
    {
     "data": {
      "text/plain": [
       "100"
      ]
     },
     "execution_count": 215,
     "metadata": {},
     "output_type": "execute_result"
    }
   ],
   "source": [
    "len(a_tag_list)"
   ]
  },
  {
   "cell_type": "code",
   "execution_count": 216,
   "id": "22fd8570",
   "metadata": {},
   "outputs": [
    {
     "data": {
      "text/plain": [
       "<span class=\"author\">놀마</span>"
      ]
     },
     "execution_count": 216,
     "metadata": {},
     "output_type": "execute_result"
    }
   ],
   "source": [
    "a_tag_list[0]"
   ]
  },
  {
   "cell_type": "code",
   "execution_count": 217,
   "id": "f17302ea",
   "metadata": {},
   "outputs": [
    {
     "name": "stdout",
     "output_type": "stream",
     "text": [
      "놀마\n",
      "꽃제이(진소예)\n",
      "감사혜\n",
      "달콤한홍차\n",
      "핑크티\n",
      "루시아\n",
      "이도혜\n",
      "칠칠마마\n",
      "은율아\n",
      "서한밤\n",
      "이은비\n",
      "미이라이\n",
      "이달아\n",
      "플아다\n",
      "태소영\n",
      "Lunar 이지연\n",
      "빵양이\n",
      "용감한 자매\n",
      "탐이나\n",
      "미래힐\n",
      "로즈빈\n",
      "주황연\n",
      "트위티블리\n",
      "진이현\n",
      "셀리코\n",
      "박수정(방울마마)\n",
      "갓녀\n",
      "이재익\n",
      "플라비\n",
      "반지영\n",
      "최윤정(두잇)\n",
      "달콤J\n",
      "쥬시린시\n",
      "노승아\n",
      "플아다\n",
      "태소영\n",
      "플아다\n",
      "성하\n",
      "닥터냐냐\n",
      "별규\n",
      "배사비\n",
      "이다홍\n",
      "미니멜리사\n",
      "이수안\n",
      "래마\n",
      "설우희\n",
      "진저리\n",
      "블랑드\n",
      "이달리.\n",
      "성소작\n",
      "체리고\n",
      "김결\n",
      "플아다\n",
      "갓녀\n",
      "윤손\n",
      "박수정(방울마마)\n",
      "별규\n",
      "이새인\n",
      "이다홍\n",
      "놀마\n",
      "노승아\n",
      "이범배\n",
      "아라휘\n",
      "주황연\n",
      "이은비\n",
      "안테\n",
      "이은비\n",
      "이 정\n",
      "탐이나\n",
      "Lunar 이지연\n",
      "윤이수\n",
      "용감한 자매\n",
      "글쓰는 귀신\n",
      "빵양이\n",
      "핑크티\n",
      "노승아\n",
      "달콤J\n",
      "파란드\n",
      "노승아\n",
      "이범배\n",
      "주황연\n",
      "안테\n",
      "왕기대\n",
      "이새인\n",
      "벚꽃그리고\n",
      "플아다\n",
      "이은비\n",
      "이른봄\n",
      "탐이나\n",
      "이경하\n",
      "우지혜\n",
      "별규\n",
      "시니컬 앨리스\n",
      "이달아\n",
      "비연\n",
      "은빈\n",
      "달콤J\n",
      "박수정(방울마마)\n",
      "Lunar 이지연\n",
      "로즈빈\n"
     ]
    }
   ],
   "source": [
    "for one in a_tag_list:\n",
    "    print(one.text)"
   ]
  },
  {
   "cell_type": "code",
   "execution_count": 218,
   "id": "ad83765a",
   "metadata": {},
   "outputs": [],
   "source": [
    "author_list = []"
   ]
  },
  {
   "cell_type": "code",
   "execution_count": 219,
   "id": "98e3cae0",
   "metadata": {},
   "outputs": [],
   "source": [
    "for one in a_tag_list:\n",
    "    author_list.append(one.text)"
   ]
  },
  {
   "cell_type": "code",
   "execution_count": 220,
   "id": "3fff3f0d",
   "metadata": {},
   "outputs": [
    {
     "data": {
      "text/plain": [
       "['놀마',\n",
       " '꽃제이(진소예)',\n",
       " '감사혜',\n",
       " '달콤한홍차',\n",
       " '핑크티',\n",
       " '루시아',\n",
       " '이도혜',\n",
       " '칠칠마마',\n",
       " '은율아',\n",
       " '서한밤',\n",
       " '이은비',\n",
       " '미이라이',\n",
       " '이달아',\n",
       " '플아다',\n",
       " '태소영',\n",
       " 'Lunar 이지연',\n",
       " '빵양이',\n",
       " '용감한 자매',\n",
       " '탐이나',\n",
       " '미래힐',\n",
       " '로즈빈',\n",
       " '주황연',\n",
       " '트위티블리',\n",
       " '진이현',\n",
       " '셀리코',\n",
       " '박수정(방울마마)',\n",
       " '갓녀',\n",
       " '이재익',\n",
       " '플라비',\n",
       " '반지영',\n",
       " '최윤정(두잇)',\n",
       " '달콤J',\n",
       " '쥬시린시',\n",
       " '노승아',\n",
       " '플아다',\n",
       " '태소영',\n",
       " '플아다',\n",
       " '성하',\n",
       " '닥터냐냐',\n",
       " '별규',\n",
       " '배사비',\n",
       " '이다홍',\n",
       " '미니멜리사',\n",
       " '이수안',\n",
       " '래마',\n",
       " '설우희',\n",
       " '진저리',\n",
       " '블랑드',\n",
       " '이달리.',\n",
       " '성소작',\n",
       " '체리고',\n",
       " '김결',\n",
       " '플아다',\n",
       " '갓녀',\n",
       " '윤손',\n",
       " '박수정(방울마마)',\n",
       " '별규',\n",
       " '이새인',\n",
       " '이다홍',\n",
       " '놀마',\n",
       " '노승아',\n",
       " '이범배',\n",
       " '아라휘',\n",
       " '주황연',\n",
       " '이은비',\n",
       " '안테',\n",
       " '이은비',\n",
       " '이 정',\n",
       " '탐이나',\n",
       " 'Lunar 이지연',\n",
       " '윤이수',\n",
       " '용감한 자매',\n",
       " '글쓰는 귀신',\n",
       " '빵양이',\n",
       " '핑크티',\n",
       " '노승아',\n",
       " '달콤J',\n",
       " '파란드',\n",
       " '노승아',\n",
       " '이범배',\n",
       " '주황연',\n",
       " '안테',\n",
       " '왕기대',\n",
       " '이새인',\n",
       " '벚꽃그리고',\n",
       " '플아다',\n",
       " '이은비',\n",
       " '이른봄',\n",
       " '탐이나',\n",
       " '이경하',\n",
       " '우지혜',\n",
       " '별규',\n",
       " '시니컬 앨리스',\n",
       " '이달아',\n",
       " '비연',\n",
       " '은빈',\n",
       " '달콤J',\n",
       " '박수정(방울마마)',\n",
       " 'Lunar 이지연',\n",
       " '로즈빈']"
      ]
     },
     "execution_count": 220,
     "metadata": {},
     "output_type": "execute_result"
    }
   ],
   "source": [
    "author_list"
   ]
  },
  {
   "cell_type": "code",
   "execution_count": 221,
   "id": "76b9257e",
   "metadata": {},
   "outputs": [],
   "source": [
    "#별점 가져오기."
   ]
  },
  {
   "cell_type": "code",
   "execution_count": 222,
   "id": "f528674e",
   "metadata": {},
   "outputs": [
    {
     "data": {
      "text/plain": [
       "[<span class=\"score_area\"><span class=\"ico_star\">별점</span>9.9</span>,\n",
       " <span class=\"score_area\"><span class=\"ico_star\">별점</span>9.9</span>,\n",
       " <span class=\"score_area\"><span class=\"ico_star\">별점</span>9.9</span>,\n",
       " <span class=\"score_area\"><span class=\"ico_star\">별점</span>9.9</span>,\n",
       " <span class=\"score_area\"><span class=\"ico_star\">별점</span>9.9</span>,\n",
       " <span class=\"score_area\"><span class=\"ico_star\">별점</span>9.9</span>,\n",
       " <span class=\"score_area\"><span class=\"ico_star\">별점</span>9.8</span>,\n",
       " <span class=\"score_area\"><span class=\"ico_star\">별점</span>9.8</span>,\n",
       " <span class=\"score_area\"><span class=\"ico_star\">별점</span>9.8</span>,\n",
       " <span class=\"score_area\"><span class=\"ico_star\">별점</span>9.8</span>,\n",
       " <span class=\"score_area\"><span class=\"ico_star\">별점</span>9.9</span>,\n",
       " <span class=\"score_area\"><span class=\"ico_star\">별점</span>9.8</span>,\n",
       " <span class=\"score_area\"><span class=\"ico_star\">별점</span>10.0</span>,\n",
       " <span class=\"score_area\"><span class=\"ico_star\">별점</span>9.9</span>,\n",
       " <span class=\"score_area\"><span class=\"ico_star\">별점</span>10.0</span>,\n",
       " <span class=\"score_area\"><span class=\"ico_star\">별점</span>9.9</span>,\n",
       " <span class=\"score_area\"><span class=\"ico_star\">별점</span>9.9</span>,\n",
       " <span class=\"score_area\"><span class=\"ico_star\">별점</span>10.0</span>,\n",
       " <span class=\"score_area\"><span class=\"ico_star\">별점</span>10.0</span>,\n",
       " <span class=\"score_area\"><span class=\"ico_star\">별점</span>10.0</span>,\n",
       " <span class=\"score_area\"><span class=\"ico_star\">별점</span>10.0</span>,\n",
       " <span class=\"score_area\"><span class=\"ico_star\">별점</span>9.9</span>,\n",
       " <span class=\"score_area\"><span class=\"ico_star\">별점</span>9.9</span>,\n",
       " <span class=\"score_area\"><span class=\"ico_star\">별점</span>9.9</span>,\n",
       " <span class=\"score_area\"><span class=\"ico_star\">별점</span>9.9</span>,\n",
       " <span class=\"score_area\"><span class=\"ico_star\">별점</span>9.9</span>,\n",
       " <span class=\"score_area\"><span class=\"ico_star\">별점</span>9.8</span>,\n",
       " <span class=\"score_area\"><span class=\"ico_star\">별점</span>10.0</span>,\n",
       " <span class=\"score_area\"><span class=\"ico_star\">별점</span>9.9</span>,\n",
       " <span class=\"score_area\"><span class=\"ico_star\">별점</span>9.9</span>,\n",
       " <span class=\"score_area\"><span class=\"ico_star\">별점</span>10.0</span>,\n",
       " <span class=\"score_area\"><span class=\"ico_star\">별점</span>9.9</span>,\n",
       " <span class=\"score_area\"><span class=\"ico_star\">별점</span>9.9</span>,\n",
       " <span class=\"score_area\"><span class=\"ico_star\">별점</span>10.0</span>,\n",
       " <span class=\"score_area\"><span class=\"ico_star\">별점</span>9.9</span>,\n",
       " <span class=\"score_area\"><span class=\"ico_star\">별점</span>9.9</span>,\n",
       " <span class=\"score_area\"><span class=\"ico_star\">별점</span>9.9</span>,\n",
       " <span class=\"score_area\"><span class=\"ico_star\">별점</span>9.9</span>,\n",
       " <span class=\"score_area\"><span class=\"ico_star\">별점</span>10.0</span>,\n",
       " <span class=\"score_area\"><span class=\"ico_star\">별점</span>9.9</span>,\n",
       " <span class=\"score_area\"><span class=\"ico_star\">별점</span>10.0</span>,\n",
       " <span class=\"score_area\"><span class=\"ico_star\">별점</span>9.9</span>,\n",
       " <span class=\"score_area\"><span class=\"ico_star\">별점</span>10.0</span>,\n",
       " <span class=\"score_area\"><span class=\"ico_star\">별점</span>9.9</span>,\n",
       " <span class=\"score_area\"><span class=\"ico_star\">별점</span>9.9</span>,\n",
       " <span class=\"score_area\"><span class=\"ico_star\">별점</span>9.8</span>,\n",
       " <span class=\"score_area\"><span class=\"ico_star\">별점</span>9.8</span>,\n",
       " <span class=\"score_area\"><span class=\"ico_star\">별점</span>9.9</span>,\n",
       " <span class=\"score_area\"><span class=\"ico_star\">별점</span>9.8</span>,\n",
       " <span class=\"score_area\"><span class=\"ico_star\">별점</span>9.8</span>,\n",
       " <span class=\"score_area\"><span class=\"ico_star\">별점</span>10.0</span>,\n",
       " <span class=\"score_area\"><span class=\"ico_star\">별점</span>9.9</span>,\n",
       " <span class=\"score_area\"><span class=\"ico_star\">별점</span>9.8</span>,\n",
       " <span class=\"score_area\"><span class=\"ico_star\">별점</span>10.0</span>,\n",
       " <span class=\"score_area\"><span class=\"ico_star\">별점</span>9.9</span>,\n",
       " <span class=\"score_area\"><span class=\"ico_star\">별점</span>9.9</span>,\n",
       " <span class=\"score_area\"><span class=\"ico_star\">별점</span>9.8</span>,\n",
       " <span class=\"score_area\"><span class=\"ico_star\">별점</span>10.0</span>,\n",
       " <span class=\"score_area\"><span class=\"ico_star\">별점</span>9.9</span>,\n",
       " <span class=\"score_area\"><span class=\"ico_star\">별점</span>10.0</span>,\n",
       " <span class=\"score_area\"><span class=\"ico_star\">별점</span>10.0</span>,\n",
       " <span class=\"score_area\"><span class=\"ico_star\">별점</span>9.9</span>,\n",
       " <span class=\"score_area\"><span class=\"ico_star\">별점</span>10.0</span>,\n",
       " <span class=\"score_area\"><span class=\"ico_star\">별점</span>9.9</span>,\n",
       " <span class=\"score_area\"><span class=\"ico_star\">별점</span>9.9</span>,\n",
       " <span class=\"score_area\"><span class=\"ico_star\">별점</span>10.0</span>,\n",
       " <span class=\"score_area\"><span class=\"ico_star\">별점</span>9.9</span>,\n",
       " <span class=\"score_area\"><span class=\"ico_star\">별점</span>9.8</span>,\n",
       " <span class=\"score_area\"><span class=\"ico_star\">별점</span>9.9</span>,\n",
       " <span class=\"score_area\"><span class=\"ico_star\">별점</span>9.9</span>,\n",
       " <span class=\"score_area\"><span class=\"ico_star\">별점</span>10.0</span>,\n",
       " <span class=\"score_area\"><span class=\"ico_star\">별점</span>9.9</span>,\n",
       " <span class=\"score_area\"><span class=\"ico_star\">별점</span>9.8</span>,\n",
       " <span class=\"score_area\"><span class=\"ico_star\">별점</span>9.9</span>,\n",
       " <span class=\"score_area\"><span class=\"ico_star\">별점</span>9.9</span>,\n",
       " <span class=\"score_area\"><span class=\"ico_star\">별점</span>9.9</span>,\n",
       " <span class=\"score_area\"><span class=\"ico_star\">별점</span>9.9</span>,\n",
       " <span class=\"score_area\"><span class=\"ico_star\">별점</span>9.5</span>,\n",
       " <span class=\"score_area\"><span class=\"ico_star\">별점</span>9.9</span>,\n",
       " <span class=\"score_area\"><span class=\"ico_star\">별점</span>9.9</span>,\n",
       " <span class=\"score_area\"><span class=\"ico_star\">별점</span>9.9</span>,\n",
       " <span class=\"score_area\"><span class=\"ico_star\">별점</span>10.0</span>,\n",
       " <span class=\"score_area\"><span class=\"ico_star\">별점</span>10.0</span>,\n",
       " <span class=\"score_area\"><span class=\"ico_star\">별점</span>9.9</span>,\n",
       " <span class=\"score_area\"><span class=\"ico_star\">별점</span>9.9</span>,\n",
       " <span class=\"score_area\"><span class=\"ico_star\">별점</span>9.9</span>,\n",
       " <span class=\"score_area\"><span class=\"ico_star\">별점</span>10.0</span>,\n",
       " <span class=\"score_area\"><span class=\"ico_star\">별점</span>9.9</span>,\n",
       " <span class=\"score_area\"><span class=\"ico_star\">별점</span>9.9</span>,\n",
       " <span class=\"score_area\"><span class=\"ico_star\">별점</span>10.0</span>,\n",
       " <span class=\"score_area\"><span class=\"ico_star\">별점</span>9.9</span>,\n",
       " <span class=\"score_area\"><span class=\"ico_star\">별점</span>9.9</span>,\n",
       " <span class=\"score_area\"><span class=\"ico_star\">별점</span>9.8</span>,\n",
       " <span class=\"score_area\"><span class=\"ico_star\">별점</span>9.9</span>,\n",
       " <span class=\"score_area\"><span class=\"ico_star\">별점</span>9.9</span>,\n",
       " <span class=\"score_area\"><span class=\"ico_star\">별점</span>9.9</span>,\n",
       " <span class=\"score_area\"><span class=\"ico_star\">별점</span>9.9</span>,\n",
       " <span class=\"score_area\"><span class=\"ico_star\">별점</span>9.9</span>,\n",
       " <span class=\"score_area\"><span class=\"ico_star\">별점</span>10.0</span>,\n",
       " <span class=\"score_area\"><span class=\"ico_star\">별점</span>10.0</span>]"
      ]
     },
     "execution_count": 222,
     "metadata": {},
     "output_type": "execute_result"
    }
   ],
   "source": [
    "a_tag_list1 = doc.select('div.ranking_wrap_left span.score_area')\n",
    "a_tag_list1#content > div > div.ranking_lst > div.ranking_wrap_left > ul > li:nth-child(1) > a > div.info.v2 > p.rating > span.score_area"
   ]
  },
  {
   "cell_type": "code",
   "execution_count": 223,
   "id": "c3ba945d",
   "metadata": {},
   "outputs": [
    {
     "data": {
      "text/plain": [
       "<span class=\"score_area\"><span class=\"ico_star\">별점</span>9.9</span>"
      ]
     },
     "execution_count": 223,
     "metadata": {},
     "output_type": "execute_result"
    }
   ],
   "source": [
    "a_tag_list1[0]"
   ]
  },
  {
   "cell_type": "code",
   "execution_count": 224,
   "id": "0342ae75",
   "metadata": {},
   "outputs": [
    {
     "data": {
      "text/plain": [
       "100"
      ]
     },
     "execution_count": 224,
     "metadata": {},
     "output_type": "execute_result"
    }
   ],
   "source": [
    "len(a_tag_list1)"
   ]
  },
  {
   "cell_type": "code",
   "execution_count": 225,
   "id": "e83039c6",
   "metadata": {},
   "outputs": [
    {
     "name": "stdout",
     "output_type": "stream",
     "text": [
      "별점9.9\n",
      "별점9.9\n",
      "별점9.9\n",
      "별점9.9\n",
      "별점9.9\n",
      "별점9.9\n",
      "별점9.8\n",
      "별점9.8\n",
      "별점9.8\n",
      "별점9.8\n",
      "별점9.9\n",
      "별점9.8\n",
      "별점10.0\n",
      "별점9.9\n",
      "별점10.0\n",
      "별점9.9\n",
      "별점9.9\n",
      "별점10.0\n",
      "별점10.0\n",
      "별점10.0\n",
      "별점10.0\n",
      "별점9.9\n",
      "별점9.9\n",
      "별점9.9\n",
      "별점9.9\n",
      "별점9.9\n",
      "별점9.8\n",
      "별점10.0\n",
      "별점9.9\n",
      "별점9.9\n",
      "별점10.0\n",
      "별점9.9\n",
      "별점9.9\n",
      "별점10.0\n",
      "별점9.9\n",
      "별점9.9\n",
      "별점9.9\n",
      "별점9.9\n",
      "별점10.0\n",
      "별점9.9\n",
      "별점10.0\n",
      "별점9.9\n",
      "별점10.0\n",
      "별점9.9\n",
      "별점9.9\n",
      "별점9.8\n",
      "별점9.8\n",
      "별점9.9\n",
      "별점9.8\n",
      "별점9.8\n",
      "별점10.0\n",
      "별점9.9\n",
      "별점9.8\n",
      "별점10.0\n",
      "별점9.9\n",
      "별점9.9\n",
      "별점9.8\n",
      "별점10.0\n",
      "별점9.9\n",
      "별점10.0\n",
      "별점10.0\n",
      "별점9.9\n",
      "별점10.0\n",
      "별점9.9\n",
      "별점9.9\n",
      "별점10.0\n",
      "별점9.9\n",
      "별점9.8\n",
      "별점9.9\n",
      "별점9.9\n",
      "별점10.0\n",
      "별점9.9\n",
      "별점9.8\n",
      "별점9.9\n",
      "별점9.9\n",
      "별점9.9\n",
      "별점9.9\n",
      "별점9.5\n",
      "별점9.9\n",
      "별점9.9\n",
      "별점9.9\n",
      "별점10.0\n",
      "별점10.0\n",
      "별점9.9\n",
      "별점9.9\n",
      "별점9.9\n",
      "별점10.0\n",
      "별점9.9\n",
      "별점9.9\n",
      "별점10.0\n",
      "별점9.9\n",
      "별점9.9\n",
      "별점9.8\n",
      "별점9.9\n",
      "별점9.9\n",
      "별점9.9\n",
      "별점9.9\n",
      "별점9.9\n",
      "별점10.0\n",
      "별점10.0\n"
     ]
    }
   ],
   "source": [
    "for one in a_tag_list1:\n",
    "    print(one.text)"
   ]
  },
  {
   "cell_type": "code",
   "execution_count": 226,
   "id": "d44996aa",
   "metadata": {},
   "outputs": [],
   "source": [
    "free_star_list = []"
   ]
  },
  {
   "cell_type": "code",
   "execution_count": 227,
   "id": "57afb7f5",
   "metadata": {},
   "outputs": [
    {
     "ename": "NameError",
     "evalue": "name 'free_star' is not defined",
     "output_type": "error",
     "traceback": [
      "\u001b[1;31m---------------------------------------------------------------------------\u001b[0m",
      "\u001b[1;31mNameError\u001b[0m                                 Traceback (most recent call last)",
      "\u001b[1;32m~\\AppData\\Local\\Temp/ipykernel_4952/2403244809.py\u001b[0m in \u001b[0;36m<module>\u001b[1;34m\u001b[0m\n\u001b[0;32m      1\u001b[0m \u001b[1;32mfor\u001b[0m \u001b[0mi\u001b[0m \u001b[1;32min\u001b[0m \u001b[0mrange\u001b[0m\u001b[1;33m(\u001b[0m\u001b[1;36m0\u001b[0m\u001b[1;33m,\u001b[0m \u001b[0mlen\u001b[0m\u001b[1;33m(\u001b[0m\u001b[0ma_tag_list1\u001b[0m\u001b[1;33m)\u001b[0m\u001b[1;33m,\u001b[0m \u001b[1;36m1\u001b[0m\u001b[1;33m)\u001b[0m\u001b[1;33m:\u001b[0m\u001b[1;33m\u001b[0m\u001b[1;33m\u001b[0m\u001b[0m\n\u001b[1;32m----> 2\u001b[1;33m     \u001b[0ma\u001b[0m \u001b[1;33m=\u001b[0m \u001b[0mfree_star\u001b[0m\u001b[1;33m[\u001b[0m\u001b[0mi\u001b[0m\u001b[1;33m]\u001b[0m\u001b[1;33m.\u001b[0m\u001b[0mtext\u001b[0m\u001b[1;33m.\u001b[0m\u001b[0mreplace\u001b[0m\u001b[1;33m(\u001b[0m\u001b[1;34m'별점'\u001b[0m\u001b[1;33m,\u001b[0m\u001b[1;34m''\u001b[0m\u001b[1;33m)\u001b[0m\u001b[1;33m\u001b[0m\u001b[1;33m\u001b[0m\u001b[0m\n\u001b[0m\u001b[0;32m      3\u001b[0m     \u001b[0mprint\u001b[0m\u001b[1;33m(\u001b[0m\u001b[0ma\u001b[0m\u001b[1;33m)\u001b[0m\u001b[1;33m\u001b[0m\u001b[1;33m\u001b[0m\u001b[0m\n\u001b[0;32m      4\u001b[0m     \u001b[0mfree_star_list\u001b[0m\u001b[1;33m.\u001b[0m\u001b[0mappend\u001b[0m\u001b[1;33m(\u001b[0m\u001b[0ma\u001b[0m\u001b[1;33m)\u001b[0m\u001b[1;33m\u001b[0m\u001b[1;33m\u001b[0m\u001b[0m\n\u001b[0;32m      5\u001b[0m \u001b[1;33m\u001b[0m\u001b[0m\n",
      "\u001b[1;31mNameError\u001b[0m: name 'free_star' is not defined"
     ]
    }
   ],
   "source": [
    "for i in range(0, len(a_tag_list1), 1):\n",
    "    a = a_tag_list1[i].text.replace('별점','')\n",
    "    print(a)\n",
    "    free_star_list.append(a)\n",
    "    "
   ]
  },
  {
   "cell_type": "code",
   "execution_count": null,
   "id": "8e3729a5",
   "metadata": {},
   "outputs": [],
   "source": [
    "free_star_list"
   ]
  },
  {
   "cell_type": "code",
   "execution_count": null,
   "id": "0249f821",
   "metadata": {},
   "outputs": [],
   "source": [
    "free_img=doc.select( '#content > div > div.ranking_lst > div.ranking_wrap_left > ul > li> a > div.pic > img ' )"
   ]
  },
  {
   "cell_type": "code",
   "execution_count": null,
   "id": "b3dad3a0",
   "metadata": {},
   "outputs": [],
   "source": [
    "img_list=[]"
   ]
  },
  {
   "cell_type": "code",
   "execution_count": null,
   "id": "623bd253",
   "metadata": {},
   "outputs": [],
   "source": [
    "for i in range(0, len(free_img), 1):\n",
    "    a= free_img[i].get('src')\n",
    "    img_list.append(a)"
   ]
  },
  {
   "cell_type": "code",
   "execution_count": null,
   "id": "7b5967fd",
   "metadata": {
    "scrolled": false
   },
   "outputs": [],
   "source": [
    "img_list"
   ]
  },
  {
   "cell_type": "code",
   "execution_count": null,
   "id": "9a5eb66d",
   "metadata": {},
   "outputs": [],
   "source": [
    "free_title=doc.select( 'div.ranking_lst > div.ranking_wrap_left span.tit' )"
   ]
  },
  {
   "cell_type": "code",
   "execution_count": null,
   "id": "bb0967ba",
   "metadata": {},
   "outputs": [],
   "source": [
    "free_title_list=[]"
   ]
  },
  {
   "cell_type": "code",
   "execution_count": null,
   "id": "c039203d",
   "metadata": {},
   "outputs": [],
   "source": [
    "\n",
    "for i in range(0, len(free_title), 1):\n",
    "    \n",
    "    a= free_title[i].text\n",
    "    aa =a.replace(',',' ')\n",
    "    free_title_list.append(aa)\n",
    "\n",
    "free_title_list"
   ]
  },
  {
   "cell_type": "code",
   "execution_count": null,
   "id": "ae56bc71",
   "metadata": {},
   "outputs": [],
   "source": [
    "webnovel_file = open('webnovel.csv', 'a', encoding=\"UTF-8-sig\")"
   ]
  },
  {
   "cell_type": "code",
   "execution_count": null,
   "id": "45e6cbf1",
   "metadata": {},
   "outputs": [],
   "source": [
    "for i in range(100):\n",
    "    webnovel_file.write(author_list[i] + ',' +\n",
    "                         free_star_list[i] + ',' +\n",
    "                          img_list[i] + ',' +\n",
    "                          free_title_list[i]\n",
    "                        +'\\n')"
   ]
  },
  {
   "cell_type": "code",
   "execution_count": null,
   "id": "ad2be8a2",
   "metadata": {},
   "outputs": [],
   "source": [
    "webnovel_file.close()"
   ]
  },
  {
   "cell_type": "code",
   "execution_count": null,
   "id": "b1a7a3e6",
   "metadata": {},
   "outputs": [],
   "source": [
    "import pandas as pd"
   ]
  },
  {
   "cell_type": "code",
   "execution_count": null,
   "id": "c2df784d",
   "metadata": {},
   "outputs": [],
   "source": [
    "novel = pd.read_csv('webnovel.csv', encoding='utf8')\n",
    "novel"
   ]
  },
  {
   "cell_type": "code",
   "execution_count": null,
   "id": "bb89fc1d",
   "metadata": {},
   "outputs": [],
   "source": []
  }
 ],
 "metadata": {
  "kernelspec": {
   "display_name": "Python 3 (ipykernel)",
   "language": "python",
   "name": "python3"
  },
  "language_info": {
   "codemirror_mode": {
    "name": "ipython",
    "version": 3
   },
   "file_extension": ".py",
   "mimetype": "text/x-python",
   "name": "python",
   "nbconvert_exporter": "python",
   "pygments_lexer": "ipython3",
   "version": "3.9.7"
  }
 },
 "nbformat": 4,
 "nbformat_minor": 5
}
