{
 "cells": [
  {
   "cell_type": "code",
   "execution_count": 147,
   "id": "a06c38f3",
   "metadata": {},
   "outputs": [],
   "source": [
    "from urllib import request"
   ]
  },
  {
   "cell_type": "code",
   "execution_count": 148,
   "id": "4a8cfb18",
   "metadata": {},
   "outputs": [],
   "source": [
    "from bs4 import BeautifulSoup"
   ]
  },
  {
   "cell_type": "code",
   "execution_count": 149,
   "id": "44cf62a9",
   "metadata": {},
   "outputs": [
    {
     "data": {
      "text/plain": [
       "<http.client.HTTPResponse at 0x2599ad15d60>"
      ]
     },
     "execution_count": 149,
     "metadata": {},
     "output_type": "execute_result"
    }
   ],
   "source": [
    "con = request.urlopen('https://novel.naver.com/webnovel/ranking?genre=101&periodType=DAILY')\n",
    "con "
   ]
  },
  {
   "cell_type": "code",
   "execution_count": 150,
   "id": "7734d305",
   "metadata": {},
   "outputs": [
    {
     "data": {
      "text/plain": [
       "200"
      ]
     },
     "execution_count": 150,
     "metadata": {},
     "output_type": "execute_result"
    }
   ],
   "source": [
    "con.status #status code"
   ]
  },
  {
   "cell_type": "code",
   "execution_count": 151,
   "id": "e1fd0459",
   "metadata": {},
   "outputs": [],
   "source": [
    "doc = BeautifulSoup(con, 'html.parser')"
   ]
  },
  {
   "cell_type": "code",
   "execution_count": 152,
   "id": "0ca22b7b",
   "metadata": {},
   "outputs": [
    {
     "data": {
      "text/plain": [
       "[<span class=\"author\">놀마</span>,\n",
       " <span class=\"author\">꽃제이(진소예)</span>,\n",
       " <span class=\"author\">감사혜</span>,\n",
       " <span class=\"author\">달콤한홍차</span>,\n",
       " <span class=\"author\">핑크티</span>,\n",
       " <span class=\"author\">루시아</span>,\n",
       " <span class=\"author\">이도혜</span>,\n",
       " <span class=\"author\">칠칠마마</span>,\n",
       " <span class=\"author\">은율아</span>,\n",
       " <span class=\"author\">서한밤</span>,\n",
       " <span class=\"author\">이은비</span>,\n",
       " <span class=\"author\">미이라이</span>,\n",
       " <span class=\"author\">이달아</span>,\n",
       " <span class=\"author\">플아다</span>,\n",
       " <span class=\"author\">태소영</span>,\n",
       " <span class=\"author\">Lunar 이지연</span>,\n",
       " <span class=\"author\">빵양이</span>,\n",
       " <span class=\"author\">용감한 자매</span>,\n",
       " <span class=\"author\">탐이나</span>,\n",
       " <span class=\"author\">미래힐</span>,\n",
       " <span class=\"author\">로즈빈</span>,\n",
       " <span class=\"author\">주황연</span>,\n",
       " <span class=\"author\">트위티블리</span>,\n",
       " <span class=\"author\">진이현</span>,\n",
       " <span class=\"author\">셀리코</span>,\n",
       " <span class=\"author\">박수정(방울마마)</span>,\n",
       " <span class=\"author\">갓녀</span>,\n",
       " <span class=\"author\">이재익</span>,\n",
       " <span class=\"author\">플라비</span>,\n",
       " <span class=\"author\">반지영</span>,\n",
       " <span class=\"author\">최윤정(두잇)</span>,\n",
       " <span class=\"author\">달콤J</span>,\n",
       " <span class=\"author\">쥬시린시</span>,\n",
       " <span class=\"author\">노승아</span>,\n",
       " <span class=\"author\">플아다</span>,\n",
       " <span class=\"author\">태소영</span>,\n",
       " <span class=\"author\">플아다</span>,\n",
       " <span class=\"author\">성하</span>,\n",
       " <span class=\"author\">닥터냐냐</span>,\n",
       " <span class=\"author\">별규</span>,\n",
       " <span class=\"author\">배사비</span>,\n",
       " <span class=\"author\">이다홍</span>,\n",
       " <span class=\"author\">미니멜리사</span>,\n",
       " <span class=\"author\">이수안</span>,\n",
       " <span class=\"author\">래마</span>,\n",
       " <span class=\"author\">설우희</span>,\n",
       " <span class=\"author\">진저리</span>,\n",
       " <span class=\"author\">블랑드</span>,\n",
       " <span class=\"author\">이달리.</span>,\n",
       " <span class=\"author\">성소작</span>,\n",
       " <span class=\"author\">체리고</span>,\n",
       " <span class=\"author\">김결</span>,\n",
       " <span class=\"author\">플아다</span>,\n",
       " <span class=\"author\">갓녀</span>,\n",
       " <span class=\"author\">윤손</span>,\n",
       " <span class=\"author\">박수정(방울마마)</span>,\n",
       " <span class=\"author\">별규</span>,\n",
       " <span class=\"author\">이새인</span>,\n",
       " <span class=\"author\">이다홍</span>,\n",
       " <span class=\"author\">놀마</span>,\n",
       " <span class=\"author\">노승아</span>,\n",
       " <span class=\"author\">이범배</span>,\n",
       " <span class=\"author\">아라휘</span>,\n",
       " <span class=\"author\">주황연</span>,\n",
       " <span class=\"author\">이은비</span>,\n",
       " <span class=\"author\">안테</span>,\n",
       " <span class=\"author\">이은비</span>,\n",
       " <span class=\"author\">이 정</span>,\n",
       " <span class=\"author\">탐이나</span>,\n",
       " <span class=\"author\">Lunar 이지연</span>,\n",
       " <span class=\"author\">윤이수</span>,\n",
       " <span class=\"author\">용감한 자매</span>,\n",
       " <span class=\"author\">글쓰는 귀신</span>,\n",
       " <span class=\"author\">빵양이</span>,\n",
       " <span class=\"author\">핑크티</span>,\n",
       " <span class=\"author\">노승아</span>,\n",
       " <span class=\"author\">달콤J</span>,\n",
       " <span class=\"author\">파란드</span>,\n",
       " <span class=\"author\">노승아</span>,\n",
       " <span class=\"author\">이범배</span>,\n",
       " <span class=\"author\">주황연</span>,\n",
       " <span class=\"author\">안테</span>,\n",
       " <span class=\"author\">왕기대</span>,\n",
       " <span class=\"author\">이새인</span>,\n",
       " <span class=\"author\">벚꽃그리고</span>,\n",
       " <span class=\"author\">플아다</span>,\n",
       " <span class=\"author\">이은비</span>,\n",
       " <span class=\"author\">이른봄</span>,\n",
       " <span class=\"author\">탐이나</span>,\n",
       " <span class=\"author\">이경하</span>,\n",
       " <span class=\"author\">우지혜</span>,\n",
       " <span class=\"author\">별규</span>,\n",
       " <span class=\"author\">시니컬 앨리스</span>,\n",
       " <span class=\"author\">이달아</span>,\n",
       " <span class=\"author\">비연</span>,\n",
       " <span class=\"author\">은빈</span>,\n",
       " <span class=\"author\">달콤J</span>,\n",
       " <span class=\"author\">박수정(방울마마)</span>,\n",
       " <span class=\"author\">Lunar 이지연</span>,\n",
       " <span class=\"author\">로즈빈</span>]"
      ]
     },
     "execution_count": 152,
     "metadata": {},
     "output_type": "execute_result"
    }
   ],
   "source": [
    " a_tag_list = doc.select('div.ranking_wrap_left span.author')\n",
    "# a_tag_list = doc.select('span.author')\n",
    "a_tag_list #content > div > div.ranking_lst > div.ranking_wrap_left > ul > li:nth-child(1) > a > div.info.v2 > p.sub_info > span.author\n",
    "#content > div > div.ranking_lst > div.ranking_wrap_left > ul > li:nth-child(1) > a > div.info.v2 > p.sub_info > span.author"
   ]
  },
  {
   "cell_type": "code",
   "execution_count": 153,
   "id": "d9396c3b",
   "metadata": {},
   "outputs": [
    {
     "data": {
      "text/plain": [
       "100"
      ]
     },
     "execution_count": 153,
     "metadata": {},
     "output_type": "execute_result"
    }
   ],
   "source": [
    "len(a_tag_list)"
   ]
  },
  {
   "cell_type": "code",
   "execution_count": 154,
   "id": "0f7eb3b3",
   "metadata": {},
   "outputs": [
    {
     "data": {
      "text/plain": [
       "<span class=\"author\">놀마</span>"
      ]
     },
     "execution_count": 154,
     "metadata": {},
     "output_type": "execute_result"
    }
   ],
   "source": [
    "a_tag_list[0]"
   ]
  },
  {
   "cell_type": "code",
   "execution_count": 155,
   "id": "0d5dfa5e",
   "metadata": {},
   "outputs": [
    {
     "name": "stdout",
     "output_type": "stream",
     "text": [
      "놀마\n",
      "꽃제이(진소예)\n",
      "감사혜\n",
      "달콤한홍차\n",
      "핑크티\n",
      "루시아\n",
      "이도혜\n",
      "칠칠마마\n",
      "은율아\n",
      "서한밤\n",
      "이은비\n",
      "미이라이\n",
      "이달아\n",
      "플아다\n",
      "태소영\n",
      "Lunar 이지연\n",
      "빵양이\n",
      "용감한 자매\n",
      "탐이나\n",
      "미래힐\n",
      "로즈빈\n",
      "주황연\n",
      "트위티블리\n",
      "진이현\n",
      "셀리코\n",
      "박수정(방울마마)\n",
      "갓녀\n",
      "이재익\n",
      "플라비\n",
      "반지영\n",
      "최윤정(두잇)\n",
      "달콤J\n",
      "쥬시린시\n",
      "노승아\n",
      "플아다\n",
      "태소영\n",
      "플아다\n",
      "성하\n",
      "닥터냐냐\n",
      "별규\n",
      "배사비\n",
      "이다홍\n",
      "미니멜리사\n",
      "이수안\n",
      "래마\n",
      "설우희\n",
      "진저리\n",
      "블랑드\n",
      "이달리.\n",
      "성소작\n",
      "체리고\n",
      "김결\n",
      "플아다\n",
      "갓녀\n",
      "윤손\n",
      "박수정(방울마마)\n",
      "별규\n",
      "이새인\n",
      "이다홍\n",
      "놀마\n",
      "노승아\n",
      "이범배\n",
      "아라휘\n",
      "주황연\n",
      "이은비\n",
      "안테\n",
      "이은비\n",
      "이 정\n",
      "탐이나\n",
      "Lunar 이지연\n",
      "윤이수\n",
      "용감한 자매\n",
      "글쓰는 귀신\n",
      "빵양이\n",
      "핑크티\n",
      "노승아\n",
      "달콤J\n",
      "파란드\n",
      "노승아\n",
      "이범배\n",
      "주황연\n",
      "안테\n",
      "왕기대\n",
      "이새인\n",
      "벚꽃그리고\n",
      "플아다\n",
      "이은비\n",
      "이른봄\n",
      "탐이나\n",
      "이경하\n",
      "우지혜\n",
      "별규\n",
      "시니컬 앨리스\n",
      "이달아\n",
      "비연\n",
      "은빈\n",
      "달콤J\n",
      "박수정(방울마마)\n",
      "Lunar 이지연\n",
      "로즈빈\n"
     ]
    }
   ],
   "source": [
    "for one in a_tag_list:\n",
    "    print(one.text)"
   ]
  },
  {
   "cell_type": "code",
   "execution_count": 156,
   "id": "eb9000a4",
   "metadata": {},
   "outputs": [],
   "source": [
    "author_list = []"
   ]
  },
  {
   "cell_type": "code",
   "execution_count": 157,
   "id": "bf62a15e",
   "metadata": {},
   "outputs": [],
   "source": [
    "for one in a_tag_list:\n",
    "    author_list.append(one.text)"
   ]
  },
  {
   "cell_type": "code",
   "execution_count": 158,
   "id": "da83bfd0",
   "metadata": {},
   "outputs": [
    {
     "data": {
      "text/plain": [
       "['놀마',\n",
       " '꽃제이(진소예)',\n",
       " '감사혜',\n",
       " '달콤한홍차',\n",
       " '핑크티',\n",
       " '루시아',\n",
       " '이도혜',\n",
       " '칠칠마마',\n",
       " '은율아',\n",
       " '서한밤',\n",
       " '이은비',\n",
       " '미이라이',\n",
       " '이달아',\n",
       " '플아다',\n",
       " '태소영',\n",
       " 'Lunar 이지연',\n",
       " '빵양이',\n",
       " '용감한 자매',\n",
       " '탐이나',\n",
       " '미래힐',\n",
       " '로즈빈',\n",
       " '주황연',\n",
       " '트위티블리',\n",
       " '진이현',\n",
       " '셀리코',\n",
       " '박수정(방울마마)',\n",
       " '갓녀',\n",
       " '이재익',\n",
       " '플라비',\n",
       " '반지영',\n",
       " '최윤정(두잇)',\n",
       " '달콤J',\n",
       " '쥬시린시',\n",
       " '노승아',\n",
       " '플아다',\n",
       " '태소영',\n",
       " '플아다',\n",
       " '성하',\n",
       " '닥터냐냐',\n",
       " '별규',\n",
       " '배사비',\n",
       " '이다홍',\n",
       " '미니멜리사',\n",
       " '이수안',\n",
       " '래마',\n",
       " '설우희',\n",
       " '진저리',\n",
       " '블랑드',\n",
       " '이달리.',\n",
       " '성소작',\n",
       " '체리고',\n",
       " '김결',\n",
       " '플아다',\n",
       " '갓녀',\n",
       " '윤손',\n",
       " '박수정(방울마마)',\n",
       " '별규',\n",
       " '이새인',\n",
       " '이다홍',\n",
       " '놀마',\n",
       " '노승아',\n",
       " '이범배',\n",
       " '아라휘',\n",
       " '주황연',\n",
       " '이은비',\n",
       " '안테',\n",
       " '이은비',\n",
       " '이 정',\n",
       " '탐이나',\n",
       " 'Lunar 이지연',\n",
       " '윤이수',\n",
       " '용감한 자매',\n",
       " '글쓰는 귀신',\n",
       " '빵양이',\n",
       " '핑크티',\n",
       " '노승아',\n",
       " '달콤J',\n",
       " '파란드',\n",
       " '노승아',\n",
       " '이범배',\n",
       " '주황연',\n",
       " '안테',\n",
       " '왕기대',\n",
       " '이새인',\n",
       " '벚꽃그리고',\n",
       " '플아다',\n",
       " '이은비',\n",
       " '이른봄',\n",
       " '탐이나',\n",
       " '이경하',\n",
       " '우지혜',\n",
       " '별규',\n",
       " '시니컬 앨리스',\n",
       " '이달아',\n",
       " '비연',\n",
       " '은빈',\n",
       " '달콤J',\n",
       " '박수정(방울마마)',\n",
       " 'Lunar 이지연',\n",
       " '로즈빈']"
      ]
     },
     "execution_count": 158,
     "metadata": {},
     "output_type": "execute_result"
    }
   ],
   "source": [
    "author_list"
   ]
  },
  {
   "cell_type": "code",
   "execution_count": 159,
   "id": "bf596578",
   "metadata": {},
   "outputs": [],
   "source": [
    "#별점 가져오기."
   ]
  },
  {
   "cell_type": "code",
   "execution_count": 160,
   "id": "4468a054",
   "metadata": {},
   "outputs": [
    {
     "data": {
      "text/plain": [
       "[<span class=\"score_area\"><span class=\"ico_star\">별점</span>9.9</span>,\n",
       " <span class=\"score_area\"><span class=\"ico_star\">별점</span>9.9</span>,\n",
       " <span class=\"score_area\"><span class=\"ico_star\">별점</span>9.9</span>,\n",
       " <span class=\"score_area\"><span class=\"ico_star\">별점</span>9.9</span>,\n",
       " <span class=\"score_area\"><span class=\"ico_star\">별점</span>9.9</span>,\n",
       " <span class=\"score_area\"><span class=\"ico_star\">별점</span>9.9</span>,\n",
       " <span class=\"score_area\"><span class=\"ico_star\">별점</span>9.8</span>,\n",
       " <span class=\"score_area\"><span class=\"ico_star\">별점</span>9.8</span>,\n",
       " <span class=\"score_area\"><span class=\"ico_star\">별점</span>9.8</span>,\n",
       " <span class=\"score_area\"><span class=\"ico_star\">별점</span>9.8</span>,\n",
       " <span class=\"score_area\"><span class=\"ico_star\">별점</span>9.9</span>,\n",
       " <span class=\"score_area\"><span class=\"ico_star\">별점</span>9.8</span>,\n",
       " <span class=\"score_area\"><span class=\"ico_star\">별점</span>10.0</span>,\n",
       " <span class=\"score_area\"><span class=\"ico_star\">별점</span>9.9</span>,\n",
       " <span class=\"score_area\"><span class=\"ico_star\">별점</span>10.0</span>,\n",
       " <span class=\"score_area\"><span class=\"ico_star\">별점</span>9.9</span>,\n",
       " <span class=\"score_area\"><span class=\"ico_star\">별점</span>9.9</span>,\n",
       " <span class=\"score_area\"><span class=\"ico_star\">별점</span>10.0</span>,\n",
       " <span class=\"score_area\"><span class=\"ico_star\">별점</span>10.0</span>,\n",
       " <span class=\"score_area\"><span class=\"ico_star\">별점</span>10.0</span>,\n",
       " <span class=\"score_area\"><span class=\"ico_star\">별점</span>10.0</span>,\n",
       " <span class=\"score_area\"><span class=\"ico_star\">별점</span>9.9</span>,\n",
       " <span class=\"score_area\"><span class=\"ico_star\">별점</span>9.9</span>,\n",
       " <span class=\"score_area\"><span class=\"ico_star\">별점</span>9.9</span>,\n",
       " <span class=\"score_area\"><span class=\"ico_star\">별점</span>9.9</span>,\n",
       " <span class=\"score_area\"><span class=\"ico_star\">별점</span>9.9</span>,\n",
       " <span class=\"score_area\"><span class=\"ico_star\">별점</span>9.8</span>,\n",
       " <span class=\"score_area\"><span class=\"ico_star\">별점</span>10.0</span>,\n",
       " <span class=\"score_area\"><span class=\"ico_star\">별점</span>9.9</span>,\n",
       " <span class=\"score_area\"><span class=\"ico_star\">별점</span>9.9</span>,\n",
       " <span class=\"score_area\"><span class=\"ico_star\">별점</span>10.0</span>,\n",
       " <span class=\"score_area\"><span class=\"ico_star\">별점</span>9.9</span>,\n",
       " <span class=\"score_area\"><span class=\"ico_star\">별점</span>9.9</span>,\n",
       " <span class=\"score_area\"><span class=\"ico_star\">별점</span>10.0</span>,\n",
       " <span class=\"score_area\"><span class=\"ico_star\">별점</span>9.9</span>,\n",
       " <span class=\"score_area\"><span class=\"ico_star\">별점</span>9.9</span>,\n",
       " <span class=\"score_area\"><span class=\"ico_star\">별점</span>9.9</span>,\n",
       " <span class=\"score_area\"><span class=\"ico_star\">별점</span>9.9</span>,\n",
       " <span class=\"score_area\"><span class=\"ico_star\">별점</span>10.0</span>,\n",
       " <span class=\"score_area\"><span class=\"ico_star\">별점</span>9.9</span>,\n",
       " <span class=\"score_area\"><span class=\"ico_star\">별점</span>10.0</span>,\n",
       " <span class=\"score_area\"><span class=\"ico_star\">별점</span>9.9</span>,\n",
       " <span class=\"score_area\"><span class=\"ico_star\">별점</span>10.0</span>,\n",
       " <span class=\"score_area\"><span class=\"ico_star\">별점</span>9.9</span>,\n",
       " <span class=\"score_area\"><span class=\"ico_star\">별점</span>9.9</span>,\n",
       " <span class=\"score_area\"><span class=\"ico_star\">별점</span>9.8</span>,\n",
       " <span class=\"score_area\"><span class=\"ico_star\">별점</span>9.8</span>,\n",
       " <span class=\"score_area\"><span class=\"ico_star\">별점</span>9.9</span>,\n",
       " <span class=\"score_area\"><span class=\"ico_star\">별점</span>9.8</span>,\n",
       " <span class=\"score_area\"><span class=\"ico_star\">별점</span>9.8</span>,\n",
       " <span class=\"score_area\"><span class=\"ico_star\">별점</span>10.0</span>,\n",
       " <span class=\"score_area\"><span class=\"ico_star\">별점</span>9.9</span>,\n",
       " <span class=\"score_area\"><span class=\"ico_star\">별점</span>9.8</span>,\n",
       " <span class=\"score_area\"><span class=\"ico_star\">별점</span>10.0</span>,\n",
       " <span class=\"score_area\"><span class=\"ico_star\">별점</span>9.9</span>,\n",
       " <span class=\"score_area\"><span class=\"ico_star\">별점</span>9.9</span>,\n",
       " <span class=\"score_area\"><span class=\"ico_star\">별점</span>9.8</span>,\n",
       " <span class=\"score_area\"><span class=\"ico_star\">별점</span>10.0</span>,\n",
       " <span class=\"score_area\"><span class=\"ico_star\">별점</span>9.9</span>,\n",
       " <span class=\"score_area\"><span class=\"ico_star\">별점</span>10.0</span>,\n",
       " <span class=\"score_area\"><span class=\"ico_star\">별점</span>10.0</span>,\n",
       " <span class=\"score_area\"><span class=\"ico_star\">별점</span>9.9</span>,\n",
       " <span class=\"score_area\"><span class=\"ico_star\">별점</span>10.0</span>,\n",
       " <span class=\"score_area\"><span class=\"ico_star\">별점</span>9.9</span>,\n",
       " <span class=\"score_area\"><span class=\"ico_star\">별점</span>9.9</span>,\n",
       " <span class=\"score_area\"><span class=\"ico_star\">별점</span>10.0</span>,\n",
       " <span class=\"score_area\"><span class=\"ico_star\">별점</span>9.9</span>,\n",
       " <span class=\"score_area\"><span class=\"ico_star\">별점</span>9.8</span>,\n",
       " <span class=\"score_area\"><span class=\"ico_star\">별점</span>9.9</span>,\n",
       " <span class=\"score_area\"><span class=\"ico_star\">별점</span>9.9</span>,\n",
       " <span class=\"score_area\"><span class=\"ico_star\">별점</span>10.0</span>,\n",
       " <span class=\"score_area\"><span class=\"ico_star\">별점</span>9.9</span>,\n",
       " <span class=\"score_area\"><span class=\"ico_star\">별점</span>9.8</span>,\n",
       " <span class=\"score_area\"><span class=\"ico_star\">별점</span>9.9</span>,\n",
       " <span class=\"score_area\"><span class=\"ico_star\">별점</span>9.9</span>,\n",
       " <span class=\"score_area\"><span class=\"ico_star\">별점</span>9.9</span>,\n",
       " <span class=\"score_area\"><span class=\"ico_star\">별점</span>9.9</span>,\n",
       " <span class=\"score_area\"><span class=\"ico_star\">별점</span>9.5</span>,\n",
       " <span class=\"score_area\"><span class=\"ico_star\">별점</span>9.9</span>,\n",
       " <span class=\"score_area\"><span class=\"ico_star\">별점</span>9.9</span>,\n",
       " <span class=\"score_area\"><span class=\"ico_star\">별점</span>9.9</span>,\n",
       " <span class=\"score_area\"><span class=\"ico_star\">별점</span>10.0</span>,\n",
       " <span class=\"score_area\"><span class=\"ico_star\">별점</span>10.0</span>,\n",
       " <span class=\"score_area\"><span class=\"ico_star\">별점</span>9.9</span>,\n",
       " <span class=\"score_area\"><span class=\"ico_star\">별점</span>9.9</span>,\n",
       " <span class=\"score_area\"><span class=\"ico_star\">별점</span>9.9</span>,\n",
       " <span class=\"score_area\"><span class=\"ico_star\">별점</span>10.0</span>,\n",
       " <span class=\"score_area\"><span class=\"ico_star\">별점</span>9.9</span>,\n",
       " <span class=\"score_area\"><span class=\"ico_star\">별점</span>9.9</span>,\n",
       " <span class=\"score_area\"><span class=\"ico_star\">별점</span>10.0</span>,\n",
       " <span class=\"score_area\"><span class=\"ico_star\">별점</span>9.9</span>,\n",
       " <span class=\"score_area\"><span class=\"ico_star\">별점</span>9.9</span>,\n",
       " <span class=\"score_area\"><span class=\"ico_star\">별점</span>9.8</span>,\n",
       " <span class=\"score_area\"><span class=\"ico_star\">별점</span>9.9</span>,\n",
       " <span class=\"score_area\"><span class=\"ico_star\">별점</span>9.9</span>,\n",
       " <span class=\"score_area\"><span class=\"ico_star\">별점</span>9.9</span>,\n",
       " <span class=\"score_area\"><span class=\"ico_star\">별점</span>9.9</span>,\n",
       " <span class=\"score_area\"><span class=\"ico_star\">별점</span>9.9</span>,\n",
       " <span class=\"score_area\"><span class=\"ico_star\">별점</span>10.0</span>,\n",
       " <span class=\"score_area\"><span class=\"ico_star\">별점</span>10.0</span>]"
      ]
     },
     "execution_count": 160,
     "metadata": {},
     "output_type": "execute_result"
    }
   ],
   "source": [
    "a_tag_list1 = doc.select('div.ranking_wrap_left span.score_area')\n",
    "a_tag_list1#content > div > div.ranking_lst > div.ranking_wrap_left > ul > li:nth-child(1) > a > div.info.v2 > p.rating > span.score_area"
   ]
  },
  {
   "cell_type": "code",
   "execution_count": 161,
   "id": "296540a8",
   "metadata": {},
   "outputs": [
    {
     "data": {
      "text/plain": [
       "<span class=\"score_area\"><span class=\"ico_star\">별점</span>9.9</span>"
      ]
     },
     "execution_count": 161,
     "metadata": {},
     "output_type": "execute_result"
    }
   ],
   "source": [
    "a_tag_list1[0]"
   ]
  },
  {
   "cell_type": "code",
   "execution_count": 163,
   "id": "eed489c0",
   "metadata": {},
   "outputs": [
    {
     "data": {
      "text/plain": [
       "100"
      ]
     },
     "execution_count": 163,
     "metadata": {},
     "output_type": "execute_result"
    }
   ],
   "source": [
    "len(a_tag_list1)"
   ]
  },
  {
   "cell_type": "code",
   "execution_count": 164,
   "id": "3c964177",
   "metadata": {},
   "outputs": [
    {
     "name": "stdout",
     "output_type": "stream",
     "text": [
      "별점9.9\n",
      "별점9.9\n",
      "별점9.9\n",
      "별점9.9\n",
      "별점9.9\n",
      "별점9.9\n",
      "별점9.8\n",
      "별점9.8\n",
      "별점9.8\n",
      "별점9.8\n",
      "별점9.9\n",
      "별점9.8\n",
      "별점10.0\n",
      "별점9.9\n",
      "별점10.0\n",
      "별점9.9\n",
      "별점9.9\n",
      "별점10.0\n",
      "별점10.0\n",
      "별점10.0\n",
      "별점10.0\n",
      "별점9.9\n",
      "별점9.9\n",
      "별점9.9\n",
      "별점9.9\n",
      "별점9.9\n",
      "별점9.8\n",
      "별점10.0\n",
      "별점9.9\n",
      "별점9.9\n",
      "별점10.0\n",
      "별점9.9\n",
      "별점9.9\n",
      "별점10.0\n",
      "별점9.9\n",
      "별점9.9\n",
      "별점9.9\n",
      "별점9.9\n",
      "별점10.0\n",
      "별점9.9\n",
      "별점10.0\n",
      "별점9.9\n",
      "별점10.0\n",
      "별점9.9\n",
      "별점9.9\n",
      "별점9.8\n",
      "별점9.8\n",
      "별점9.9\n",
      "별점9.8\n",
      "별점9.8\n",
      "별점10.0\n",
      "별점9.9\n",
      "별점9.8\n",
      "별점10.0\n",
      "별점9.9\n",
      "별점9.9\n",
      "별점9.8\n",
      "별점10.0\n",
      "별점9.9\n",
      "별점10.0\n",
      "별점10.0\n",
      "별점9.9\n",
      "별점10.0\n",
      "별점9.9\n",
      "별점9.9\n",
      "별점10.0\n",
      "별점9.9\n",
      "별점9.8\n",
      "별점9.9\n",
      "별점9.9\n",
      "별점10.0\n",
      "별점9.9\n",
      "별점9.8\n",
      "별점9.9\n",
      "별점9.9\n",
      "별점9.9\n",
      "별점9.9\n",
      "별점9.5\n",
      "별점9.9\n",
      "별점9.9\n",
      "별점9.9\n",
      "별점10.0\n",
      "별점10.0\n",
      "별점9.9\n",
      "별점9.9\n",
      "별점9.9\n",
      "별점10.0\n",
      "별점9.9\n",
      "별점9.9\n",
      "별점10.0\n",
      "별점9.9\n",
      "별점9.9\n",
      "별점9.8\n",
      "별점9.9\n",
      "별점9.9\n",
      "별점9.9\n",
      "별점9.9\n",
      "별점9.9\n",
      "별점10.0\n",
      "별점10.0\n"
     ]
    }
   ],
   "source": [
    "for one in a_tag_list1:\n",
    "    print(one.text)"
   ]
  },
  {
   "cell_type": "code",
   "execution_count": 165,
   "id": "6b0af05d",
   "metadata": {},
   "outputs": [],
   "source": [
    "star_list = []"
   ]
  },
  {
   "cell_type": "code",
   "execution_count": 166,
   "id": "2cc00dd8",
   "metadata": {},
   "outputs": [],
   "source": [
    "for i in a_tag_list1:\n",
    "    star_list.append(one.text)\n",
    "    "
   ]
  },
  {
   "cell_type": "code",
   "execution_count": 167,
   "id": "31716bac",
   "metadata": {},
   "outputs": [
    {
     "data": {
      "text/plain": [
       "['별점10.0',\n",
       " '별점10.0',\n",
       " '별점10.0',\n",
       " '별점10.0',\n",
       " '별점10.0',\n",
       " '별점10.0',\n",
       " '별점10.0',\n",
       " '별점10.0',\n",
       " '별점10.0',\n",
       " '별점10.0',\n",
       " '별점10.0',\n",
       " '별점10.0',\n",
       " '별점10.0',\n",
       " '별점10.0',\n",
       " '별점10.0',\n",
       " '별점10.0',\n",
       " '별점10.0',\n",
       " '별점10.0',\n",
       " '별점10.0',\n",
       " '별점10.0',\n",
       " '별점10.0',\n",
       " '별점10.0',\n",
       " '별점10.0',\n",
       " '별점10.0',\n",
       " '별점10.0',\n",
       " '별점10.0',\n",
       " '별점10.0',\n",
       " '별점10.0',\n",
       " '별점10.0',\n",
       " '별점10.0',\n",
       " '별점10.0',\n",
       " '별점10.0',\n",
       " '별점10.0',\n",
       " '별점10.0',\n",
       " '별점10.0',\n",
       " '별점10.0',\n",
       " '별점10.0',\n",
       " '별점10.0',\n",
       " '별점10.0',\n",
       " '별점10.0',\n",
       " '별점10.0',\n",
       " '별점10.0',\n",
       " '별점10.0',\n",
       " '별점10.0',\n",
       " '별점10.0',\n",
       " '별점10.0',\n",
       " '별점10.0',\n",
       " '별점10.0',\n",
       " '별점10.0',\n",
       " '별점10.0',\n",
       " '별점10.0',\n",
       " '별점10.0',\n",
       " '별점10.0',\n",
       " '별점10.0',\n",
       " '별점10.0',\n",
       " '별점10.0',\n",
       " '별점10.0',\n",
       " '별점10.0',\n",
       " '별점10.0',\n",
       " '별점10.0',\n",
       " '별점10.0',\n",
       " '별점10.0',\n",
       " '별점10.0',\n",
       " '별점10.0',\n",
       " '별점10.0',\n",
       " '별점10.0',\n",
       " '별점10.0',\n",
       " '별점10.0',\n",
       " '별점10.0',\n",
       " '별점10.0',\n",
       " '별점10.0',\n",
       " '별점10.0',\n",
       " '별점10.0',\n",
       " '별점10.0',\n",
       " '별점10.0',\n",
       " '별점10.0',\n",
       " '별점10.0',\n",
       " '별점10.0',\n",
       " '별점10.0',\n",
       " '별점10.0',\n",
       " '별점10.0',\n",
       " '별점10.0',\n",
       " '별점10.0',\n",
       " '별점10.0',\n",
       " '별점10.0',\n",
       " '별점10.0',\n",
       " '별점10.0',\n",
       " '별점10.0',\n",
       " '별점10.0',\n",
       " '별점10.0',\n",
       " '별점10.0',\n",
       " '별점10.0',\n",
       " '별점10.0',\n",
       " '별점10.0',\n",
       " '별점10.0',\n",
       " '별점10.0',\n",
       " '별점10.0',\n",
       " '별점10.0',\n",
       " '별점10.0',\n",
       " '별점10.0']"
      ]
     },
     "execution_count": 167,
     "metadata": {},
     "output_type": "execute_result"
    }
   ],
   "source": [
    "star_list"
   ]
  },
  {
   "cell_type": "code",
   "execution_count": 168,
   "id": "dac454ca",
   "metadata": {},
   "outputs": [],
   "source": [
    "webnovel_file = open('webnovel.csv', 'a', encoding=\"UTF-8-sig\")"
   ]
  },
  {
   "cell_type": "code",
   "execution_count": 169,
   "id": "b624813c",
   "metadata": {},
   "outputs": [
    {
     "ename": "NameError",
     "evalue": "name 'novel_list' is not defined",
     "output_type": "error",
     "traceback": [
      "\u001b[1;31m---------------------------------------------------------------------------\u001b[0m",
      "\u001b[1;31mNameError\u001b[0m                                 Traceback (most recent call last)",
      "\u001b[1;32m~\\AppData\\Local\\Temp/ipykernel_4952/6428407.py\u001b[0m in \u001b[0;36m<module>\u001b[1;34m\u001b[0m\n\u001b[0;32m      1\u001b[0m \u001b[1;32mfor\u001b[0m \u001b[0mi\u001b[0m \u001b[1;32min\u001b[0m \u001b[0mrange\u001b[0m\u001b[1;33m(\u001b[0m\u001b[1;36m100\u001b[0m\u001b[1;33m)\u001b[0m\u001b[1;33m:\u001b[0m\u001b[1;33m\u001b[0m\u001b[1;33m\u001b[0m\u001b[0m\n\u001b[1;32m----> 2\u001b[1;33m     webnovel_file.write(novel_list[i] + ',' +\n\u001b[0m\u001b[0;32m      3\u001b[0m                          star_list[i] +'\\n')\n",
      "\u001b[1;31mNameError\u001b[0m: name 'novel_list' is not defined"
     ]
    }
   ],
   "source": [
    "for i in range(100):\n",
    "    webnovel_file.write(author_list[i] + ',' +\n",
    "                         star_list[i] +'\\n')"
   ]
  },
  {
   "cell_type": "code",
   "execution_count": null,
   "id": "d165063d",
   "metadata": {},
   "outputs": [],
   "source": []
  }
 ],
 "metadata": {
  "kernelspec": {
   "display_name": "Python 3 (ipykernel)",
   "language": "python",
   "name": "python3"
  },
  "language_info": {
   "codemirror_mode": {
    "name": "ipython",
    "version": 3
   },
   "file_extension": ".py",
   "mimetype": "text/x-python",
   "name": "python",
   "nbconvert_exporter": "python",
   "pygments_lexer": "ipython3",
   "version": "3.9.7"
  }
 },
 "nbformat": 4,
 "nbformat_minor": 5
}
