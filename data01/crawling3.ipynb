{
 "cells": [
  {
   "cell_type": "code",
   "execution_count": 1,
   "id": "14733fc0",
   "metadata": {},
   "outputs": [],
   "source": [
    "#정형데이터(컬럼에 무엇을 넣을지 정한 데이터,,? 맞나)"
   ]
  },
  {
   "cell_type": "code",
   "execution_count": 2,
   "id": "53698136",
   "metadata": {},
   "outputs": [],
   "source": [
    "from urllib import request"
   ]
  },
  {
   "cell_type": "code",
   "execution_count": 3,
   "id": "0f57243c",
   "metadata": {},
   "outputs": [],
   "source": [
    "from bs4 import BeautifulSoup"
   ]
  },
  {
   "cell_type": "code",
   "execution_count": 4,
   "id": "fac08556",
   "metadata": {},
   "outputs": [],
   "source": [
    "# !pip install bs4 #cmd에서 이 명령문을 실행!!"
   ]
  },
  {
   "cell_type": "code",
   "execution_count": 5,
   "id": "23177bf8",
   "metadata": {},
   "outputs": [
    {
     "data": {
      "text/plain": [
       "<http.client.HTTPResponse at 0x20022e2ad30>"
      ]
     },
     "execution_count": 5,
     "metadata": {},
     "output_type": "execute_result"
    }
   ],
   "source": [
    "con = request.urlopen('https://www.hottracks.co.kr/ht/biz/record/recordCategoryMain?ctgrId=00030000')\n",
    "con \n",
    "#http response(header + body)\n",
    "#header : http result status code\n",
    "#         (ok: 200, not found: 404, error: 500, permission: 403)"
   ]
  },
  {
   "cell_type": "code",
   "execution_count": 6,
   "id": "a111d712",
   "metadata": {},
   "outputs": [
    {
     "data": {
      "text/plain": [
       "200"
      ]
     },
     "execution_count": 6,
     "metadata": {},
     "output_type": "execute_result"
    }
   ],
   "source": [
    "con.status #status code \n",
    "#con.status를 쓰면내가 요청한 url받아오겠다는 의미.\n",
    "#내가 요청한 url받는데 성공하면 200이 뜸! "
   ]
  },
  {
   "cell_type": "code",
   "execution_count": 7,
   "id": "6fdd52f6",
   "metadata": {},
   "outputs": [],
   "source": [
    "doc = BeautifulSoup(con, 'html.parser')\n",
    "#HTML Parse란 HTML 문법 규칙에 따른 문자열을, \n",
    "#해당 문법을 바탕으로 단어의 의미나 구조를 분석하는 것을 의미\n",
    "#doc"
   ]
  },
  {
   "cell_type": "code",
   "execution_count": 8,
   "id": "d0bf5b62",
   "metadata": {},
   "outputs": [
    {
     "data": {
      "text/plain": [
       "[<li><a class=\"all\" href=\"javascript:;\">전체보기</a></li>,\n",
       " <li><a href=\"/ht/biz/record/recordCategoryMain?ctgrId=00030000\" style=\"color:#DA2128;\">가요 </a></li>,\n",
       " <li><a href=\"/ht/biz/record/recordCategoryMain?ctgrId=00030001\">랩/힙합 </a></li>,\n",
       " <li><a href=\"/ht/biz/record/recordCategoryMain?ctgrId=00030002\">락 </a></li>,\n",
       " <li><a href=\"/ht/biz/record/recordCategoryMain?ctgrId=00030003\">재즈/뉴에이지/일렉트로닉 </a></li>,\n",
       " <li><a href=\"/ht/biz/record/recordCategoryMain?ctgrId=00030004\">OST/뮤지컬 </a></li>,\n",
       " <li><a href=\"/ht/biz/record/recordCategoryMain?ctgrId=00030005\">화보집/MD상품 </a></li>,\n",
       " <li><a href=\"/ht/biz/record/recordCategoryMain?ctgrId=00030006\">성인가요 </a></li>,\n",
       " <li><a href=\"/ht/biz/record/recordCategoryMain?ctgrId=00030007\">시낭송/명상 </a></li>,\n",
       " <li><a href=\"/ht/biz/record/recordCategoryMain?ctgrId=00030008\">모음집 </a></li>,\n",
       " <li><a href=\"/ht/biz/record/recordCategoryMain?ctgrId=00030010\">캐롤 </a></li>]"
      ]
     },
     "execution_count": 8,
     "metadata": {},
     "output_type": "execute_result"
    }
   ],
   "source": [
    "a_tag_list = doc.select('.category_list li')\n",
    "a_tag_list"
   ]
  },
  {
   "cell_type": "code",
   "execution_count": 9,
   "id": "d5918466",
   "metadata": {},
   "outputs": [
    {
     "data": {
      "text/plain": [
       "<li><a class=\"all\" href=\"javascript:;\">전체보기</a></li>"
      ]
     },
     "execution_count": 9,
     "metadata": {},
     "output_type": "execute_result"
    }
   ],
   "source": [
    "a_tag_list[0]"
   ]
  },
  {
   "cell_type": "code",
   "execution_count": 10,
   "id": "56469ae4",
   "metadata": {},
   "outputs": [
    {
     "data": {
      "text/plain": [
       "'전체보기'"
      ]
     },
     "execution_count": 10,
     "metadata": {},
     "output_type": "execute_result"
    }
   ],
   "source": [
    "a_tag_list[0].text"
   ]
  },
  {
   "cell_type": "code",
   "execution_count": 11,
   "id": "185ce8ab",
   "metadata": {},
   "outputs": [
    {
     "name": "stdout",
     "output_type": "stream",
     "text": [
      "전체보기\n",
      "가요 \n",
      "랩/힙합 \n",
      "락 \n",
      "재즈/뉴에이지/일렉트로닉 \n",
      "OST/뮤지컬 \n",
      "화보집/MD상품 \n",
      "성인가요 \n",
      "시낭송/명상 \n",
      "모음집 \n",
      "캐롤 \n"
     ]
    }
   ],
   "source": [
    "for one in a_tag_list:\n",
    "    print(one.text)"
   ]
  },
  {
   "cell_type": "code",
   "execution_count": 12,
   "id": "be3e89c4",
   "metadata": {},
   "outputs": [],
   "source": [
    "anav_list = []"
   ]
  },
  {
   "cell_type": "code",
   "execution_count": 13,
   "id": "ebb466de",
   "metadata": {},
   "outputs": [],
   "source": [
    "for one in a_tag_list:\n",
    "    anav_list.append(one.text)"
   ]
  },
  {
   "cell_type": "code",
   "execution_count": 14,
   "id": "7bae412d",
   "metadata": {},
   "outputs": [
    {
     "data": {
      "text/plain": [
       "['전체보기',\n",
       " '가요 ',\n",
       " '랩/힙합 ',\n",
       " '락 ',\n",
       " '재즈/뉴에이지/일렉트로닉 ',\n",
       " 'OST/뮤지컬 ',\n",
       " '화보집/MD상품 ',\n",
       " '성인가요 ',\n",
       " '시낭송/명상 ',\n",
       " '모음집 ',\n",
       " '캐롤 ']"
      ]
     },
     "execution_count": 14,
     "metadata": {},
     "output_type": "execute_result"
    }
   ],
   "source": [
    "anav_list"
   ]
  },
  {
   "cell_type": "code",
   "execution_count": 15,
   "id": "d242c370",
   "metadata": {},
   "outputs": [
    {
     "data": {
      "text/plain": [
       "[<p class=\"tit\">SAVAGE [미니 1집] [SYNK DIVE VER]</p>,\n",
       " <p class=\"tit\">ODDINARY [MINI ALBUM] [SCANNING/ MASK OFF VER] [일반반]</p>,\n",
       " <p class=\"tit\">2021 WINTER SMTOWN: SMCU EXPRESS [RED VELVET]</p>,\n",
       " <p class=\"tit\">2021 WINTER SMTOWN: SMCU EXPRESS [NCT - DAYTIME PASS]</p>,\n",
       " <p class=\"tit\">2021 WINTER SMTOWN: SMCU EXPRESS [NCT - NIGHTTIME PASS]</p>]"
      ]
     },
     "execution_count": 15,
     "metadata": {},
     "output_type": "execute_result"
    }
   ],
   "source": [
    "p_tag_list = doc.select('p.tit')\n",
    "p_tag_list[:5]"
   ]
  },
  {
   "cell_type": "code",
   "execution_count": 16,
   "id": "aad18a06",
   "metadata": {},
   "outputs": [
    {
     "data": {
      "text/plain": [
       "['SAVAGE [미니 1집] [SYNK DIVE VER]',\n",
       " 'ODDINARY [MINI ALBUM] [SCANNING/ MASK OFF VER] [일반반]',\n",
       " '2021 WINTER SMTOWN: SMCU EXPRESS [RED VELVET]',\n",
       " '2021 WINTER SMTOWN: SMCU EXPRESS [NCT - DAYTIME PASS]',\n",
       " '2021 WINTER SMTOWN: SMCU EXPRESS [NCT - NIGHTTIME PASS]',\n",
       " '2021 WINTER SMTOWN: SMCU EXPRESS [SMTOWN VER]',\n",
       " '2021 WINTER SMTOWN: SMCU EXPRESS [AESPA]',\n",
       " 'YOUNG-LUV.COM [미니 2집] [2종 중 랜덤 1종]',\n",
       " 'AN ODE [정규 3집]',\n",
       " 'SMILEY [미니 1집]',\n",
       " 'GLITCH MODE [정규 2집] [PHOTOBOOK VER]',\n",
       " 'HELLO FUTURE [정규 1집] [리패키지] [PHOTO BOOK VER]',\n",
       " '혼돈의 장: FIGHT OR ESCAPE [TOGETHER VER]',\n",
       " 'YOUNG-LUV.COM [미니 2집] [JEWEL CASE VER] [6종 중 랜덤 1종]',\n",
       " '헹가래(HENG:GARAE) [미니 7집]',\n",
       " '혼돈의 장: FIGHT OR ESCAPE',\n",
       " 'SAVAGE [미니 1집] [HALLUCINATION QUEST VER]',\n",
       " 'REAL LOVE [정규 2집] [2종 세트]',\n",
       " 'ATTACCA [미니 9집] [CARAT VER]',\n",
       " 'FATAL LOVE [정규 3집]',\n",
       " '콸콸콸 [싱글 3집]',\n",
       " 'GREY SUIT [미니 2집] [PHOTOBOOK VER]',\n",
       " 'GLITCH MODE [정규 2집] [DIGIPACK VER]',\n",
       " 'MEMEM [미니 3집] [2종 세트]',\n",
       " 'MEMEM [미니 3집] [M VER]',\n",
       " 'MEMEM [미니 3집] [MEME VER]',\n",
       " 'mis [EP] [한정반]',\n",
       " '鳩集 C.J 2002 [정규 9집] [140G 화이트 컬러 LP]',\n",
       " '4집 INVITATION [180G CLEAR RED LP]',\n",
       " '8집 THE SHIN SEUNG HUN [180G CLEAR LP]',\n",
       " 'END THEORY FINAL EDITION [정규 6집] [리패키지]',\n",
       " '같은자리 [정규 1집]',\n",
       " 'RAD',\n",
       " 'DIMENSION [미니 3집] [키트]',\n",
       " 'NEEDLE & BUBBLE [THE BEST ALBUM] [키트]',\n",
       " '건강하세모 [EP]',\n",
       " 'DAYDREAM [정규 1집] [BEFORE THE DREAM VER]',\n",
       " 'DAYDREAM [정규 1집] [3종 세트]',\n",
       " 'DAYDREAM [정규 1집] [IN THE DREAM VER]',\n",
       " 'DAYDREAM [정규 1집] [AFTER THE DREAM VER]',\n",
       " 'THANK YOU [미니 6집]',\n",
       " 'REAL LOVE [정규 2집] [2종 세트]',\n",
       " 'REAL LOVE [정규 2집] [FLORAL VER]',\n",
       " 'REAL LOVE [정규 2집] [FRUITY VER]',\n",
       " 'COME AWAY WITH ME',\n",
       " 'LILY, LILY [EP]',\n",
       " '사계(SEASONS) [EP]',\n",
       " '시샘달 PART.1 [정규 1집]',\n",
       " '사람 마음',\n",
       " 'ABOUT [EP]',\n",
       " 'THE REVE FESTIVAL 2022: FEEL MY RHYTHM [ORGEL VER] [미니 CD]',\n",
       " 'THE REVE FESTIVAL 2022: FEEL MY RHYTHM [REVE VER]',\n",
       " 'HISTORY OF KINGDOM: PART Ⅳ. DANN [SHADOW VER]',\n",
       " 'HISTORY OF KINGDOM: PART Ⅳ. DANN [2종 세트]',\n",
       " 'HISTORY OF KINGDOM: PART Ⅳ. DANN [GLORY VER]',\n",
       " 'PART.1: FIRST LOVE [미니 4집] [LOVE WITH RUI VER]',\n",
       " 'PART.1: FIRST LOVE [미니 4집] [FALLING IN LOVE VER]',\n",
       " 'PART.1: FIRST LOVE [미니 4집] [3종 세트]',\n",
       " 'PART.1: FIRST LOVE [미니 4집]',\n",
       " 'DIMENSION [미니 3집] [O VER]',\n",
       " 'DIMENSION [미니 3집] [I VER]',\n",
       " 'DIMENSION [미니 3집] [2종 세트]',\n",
       " 'KOREAN BREATH: 만파 [萬波]',\n",
       " 'NEEDLE & BUBBLE [THE BEST ALBUM]',\n",
       " 'GLITCH MODE [정규 2집] [PHOTOBOOK VER]',\n",
       " '容: FACE [미니 1집] [2종 세트]',\n",
       " 'LOVE IN BLOOM',\n",
       " '容: FACE [미니 1집] [PERSONA VER]',\n",
       " '容: FACE [미니 1집] [FACE VER]',\n",
       " 'CONSPIRACY [베이비 핑크 180G LP]',\n",
       " 'ALWAYS HERE',\n",
       " 'PLAY GAME: AWAKE [PLATFORM ALBUM VER] [싱글 1집]',\n",
       " 'I NEVER DIE [정규 1집] [3종 세트]',\n",
       " 'I NEVER DIE [정규 1집] [3종 중 랜덤 1종]',\n",
       " 'BEST [180G LP]',\n",
       " 'GO! BOOGIE! [180G LP]',\n",
       " 'BEST 20 [USB]',\n",
       " 'BEST 20',\n",
       " 'REVE [3RD DESIRE] [키트]',\n",
       " 'REVE [3RD DESIRE] [BIBBIDI VER]',\n",
       " 'REFUGE [미니 2집] [2종 세트]',\n",
       " 'REVE [3RD DESIRE] [BOBBIDI VER]',\n",
       " 'REFUGE [미니 2집] [2종 중 랜덤 1종]',\n",
       " '공중부양 [EP]',\n",
       " 'FIRST LETTER [미니 1집]',\n",
       " 'Play Game: AWAKE [싱글 1집] [2종 세트]',\n",
       " 'Play Game: AWAKE [싱글 1집] [Real Self VER]',\n",
       " 'Play Game: AWAKE [싱글 1집] [Myself VER]',\n",
       " 'CHERRY WISH [미니 2집] [2종 세트]',\n",
       " 'CHERRY WISH [미니 2집] [2종 중 랜덤 1종]',\n",
       " 'YELLOW PUNCH [미니 4집]',\n",
       " '스테레오힛트총결산: 참사랑/빗속의 연가 [180G 그린 LP]',\n",
       " 'THE ROAD: WINTER FOR SPRING [스페셜 싱글] [B VER]',\n",
       " 'THE ROAD: WINTER FOR SPRING [스페셜 싱글] [C VER]',\n",
       " 'THE ROAD: WINTER FOR SPRING [스페셜 싱글] [A VER]',\n",
       " 'NEW START [미니 1집]',\n",
       " 'YOUNG-LUV.COM [미니 2집] [JEWEL CASE VER] [6종 중 랜덤 1종]',\n",
       " '바람같은 날을 살다가 [180G 퍼플 LP]',\n",
       " 'AD MARE [싱글 1집] [LIGHT VER]',\n",
       " '2 [EP ALBUM]',\n",
       " '혼자 있는 밤 [정규 1집]',\n",
       " '상실의 시대',\n",
       " '마음은 따끔',\n",
       " '사람이 사람을 좋아하는 건 [소품집]',\n",
       " 'ODDINARY [MINI ALBUM] [SCANNING/ MASK OFF VER] [일반반]',\n",
       " 'THE COLLECTIVE SOUL AND UNCONSCIOUS: CHAPTER ONE [미니 2집] [SOUL VER]',\n",
       " 'THE COLLECTIVE SOUL AND UNCONSCIOUS: CHAPTER ONE [미니 2집] [UNCONSCIOUS VER]',\n",
       " 'DANCE WITH GOD [미니 2집]',\n",
       " 'POST POST POST!',\n",
       " '수몰 [140G 투명 브릴리언트 블루 LP]',\n",
       " 'NATURAL [LP]',\n",
       " 'JTRAP [미니 1집]',\n",
       " 'YEARBOOK 2021',\n",
       " 'YOUNG-LUV.COM [미니 2집] [2종 중 랜덤 1종]',\n",
       " 'YOUNG-LUV.COM [미니 2집] [2종 세트]',\n",
       " 'IT`S ME, IT`S WE [미니 1집] [2종 세트]',\n",
       " 'IT`S ME, IT`S WE [미니 1집]',\n",
       " 'IT`S ME, IT`S WE [미니 1집] [DIGIPACK VER]',\n",
       " 'LOVENDER [미니 1집]',\n",
       " 'BORN (本) [정규 6집]']"
      ]
     },
     "execution_count": 16,
     "metadata": {},
     "output_type": "execute_result"
    }
   ],
   "source": [
    "tit_collect = []\n",
    "for one in p_tag_list:\n",
    "    tit_collect.append(one.text)\n",
    "tit_collect"
   ]
  },
  {
   "cell_type": "code",
   "execution_count": 17,
   "id": "70c1c416",
   "metadata": {},
   "outputs": [
    {
     "data": {
      "text/plain": [
       "[<span class=\"percent\">19%</span>,\n",
       " <span class=\"percent\">19%</span>,\n",
       " <span class=\"percent\">19%</span>,\n",
       " <span class=\"percent\">19%</span>,\n",
       " <span class=\"percent\">19%</span>]"
      ]
     },
     "execution_count": 17,
     "metadata": {},
     "output_type": "execute_result"
    }
   ],
   "source": [
    "percent_list = doc.select('span.percent')\n",
    "percent_list[:5] #0~4"
   ]
  },
  {
   "cell_type": "code",
   "execution_count": 18,
   "id": "fa995f4f",
   "metadata": {},
   "outputs": [
    {
     "data": {
      "text/plain": [
       "['19%',\n",
       " '19%',\n",
       " '19%',\n",
       " '19%',\n",
       " '19%',\n",
       " '19%',\n",
       " '19%',\n",
       " '20%',\n",
       " '19%',\n",
       " '19%',\n",
       " '19%',\n",
       " '19%',\n",
       " '19%',\n",
       " '18%',\n",
       " '17%',\n",
       " '19%',\n",
       " '19%',\n",
       " '20%',\n",
       " '19%',\n",
       " '20%',\n",
       " '18%',\n",
       " '19%',\n",
       " '19%',\n",
       " '19%',\n",
       " '19%',\n",
       " '19%',\n",
       " '19%',\n",
       " '19%',\n",
       " '19%',\n",
       " '20%',\n",
       " '19%',\n",
       " '19%',\n",
       " '20%',\n",
       " '17%',\n",
       " '20%',\n",
       " '20%',\n",
       " '20%',\n",
       " '20%',\n",
       " '17%',\n",
       " '20%',\n",
       " '20%',\n",
       " '20%',\n",
       " '19%',\n",
       " '19%',\n",
       " '19%',\n",
       " '19%',\n",
       " '19%',\n",
       " '19%',\n",
       " '20%',\n",
       " '20%',\n",
       " '19%',\n",
       " '19%',\n",
       " '19%',\n",
       " '19%',\n",
       " '19%',\n",
       " '19%',\n",
       " '19%',\n",
       " '19%',\n",
       " '19%',\n",
       " '19%',\n",
       " '18%',\n",
       " '19%',\n",
       " '19%',\n",
       " '19%',\n",
       " '20%',\n",
       " '19%',\n",
       " '19%',\n",
       " '19%',\n",
       " '20%',\n",
       " '20%',\n",
       " '19%',\n",
       " '19%',\n",
       " '19%',\n",
       " '19%',\n",
       " '20%',\n",
       " '20%',\n",
       " '19%',\n",
       " '20%',\n",
       " '19%',\n",
       " '20%',\n",
       " '19%',\n",
       " '18%',\n",
       " '19%',\n",
       " '19%',\n",
       " '19%',\n",
       " '20%',\n",
       " '20%',\n",
       " '20%',\n",
       " '19%',\n",
       " '19%',\n",
       " '19%',\n",
       " '17%',\n",
       " '18%',\n",
       " '12%',\n",
       " '20%',\n",
       " '19%',\n",
       " '19%',\n",
       " '19%',\n",
       " '19%',\n",
       " '19%',\n",
       " '19%',\n",
       " '19%',\n",
       " '19%',\n",
       " '19%',\n",
       " '17%',\n",
       " '19%',\n",
       " '19%',\n",
       " '19%',\n",
       " '19%',\n",
       " '20%',\n",
       " '20%',\n",
       " '19%',\n",
       " '19%',\n",
       " '18%',\n",
       " '19%',\n",
       " '17%']"
      ]
     },
     "execution_count": 18,
     "metadata": {},
     "output_type": "execute_result"
    }
   ],
   "source": [
    "percent_collect = []\n",
    "for one in percent_list:\n",
    "    percent_collect.append(one.text)\n",
    "percent_collect"
   ]
  },
  {
   "cell_type": "code",
   "execution_count": 19,
   "id": "8c483424",
   "metadata": {},
   "outputs": [
    {
     "data": {
      "text/plain": [
       "[<p class=\"brand\">AESPA(에스파)</p>,\n",
       " <p class=\"brand\">STRAY KIDS(스트레이 키즈)</p>,\n",
       " <p class=\"brand\">RED VELVET(레드벨벳)</p>,\n",
       " <p class=\"brand\">NCT(엔시티)</p>,\n",
       " <p class=\"brand\">NCT(엔시티)</p>]"
      ]
     },
     "execution_count": 19,
     "metadata": {},
     "output_type": "execute_result"
    }
   ],
   "source": [
    "brand_list = doc.select('p.brand')\n",
    "brand_list[:5]"
   ]
  },
  {
   "cell_type": "code",
   "execution_count": 20,
   "id": "af324209",
   "metadata": {},
   "outputs": [
    {
     "data": {
      "text/plain": [
       "['AESPA(에스파)',\n",
       " 'STRAY KIDS(스트레이 키즈)',\n",
       " 'RED VELVET(레드벨벳)',\n",
       " 'NCT(엔시티)',\n",
       " 'NCT(엔시티)',\n",
       " 'VARIOUS',\n",
       " 'AESPA(에스파)',\n",
       " 'STAYC(스테이씨)',\n",
       " 'SEVENTEEN(세븐틴)',\n",
       " 'YENA(최예나)',\n",
       " 'NCT DREAM(엔시티 드림)',\n",
       " 'NCT DREAM(엔시티 드림)',\n",
       " 'TXT(투모로우바이투게더)',\n",
       " 'STAYC(스테이씨)',\n",
       " 'SEVENTEEN(세븐틴)',\n",
       " 'TXT(투모로우바이투게더)',\n",
       " 'AESPA(에스파)',\n",
       " 'OH MY GIRL(오마이걸)',\n",
       " 'SEVENTEEN(세븐틴)',\n",
       " 'MONSTA X(몬스타엑스)',\n",
       " '미니마니',\n",
       " 'SUHO(수호)',\n",
       " 'NCT DREAM(엔시티 드림)',\n",
       " 'PURPLE KISS(퍼플키스)',\n",
       " 'PURPLE KISS(퍼플키스)',\n",
       " 'PURPLE KISS(퍼플키스)',\n",
       " 'JAEMAN(재만)',\n",
       " 'IM CHANGJUNG(임창정)',\n",
       " 'UHM JUNG HWA(엄정화)',\n",
       " 'SHIN SEUNGHUN(신승훈)',\n",
       " 'YOUNHA(윤하)',\n",
       " 'LEE SEOKHOON(이석훈)',\n",
       " 'RAD MUSEUM(라드뮤지엄)',\n",
       " '김준수',\n",
       " 'NU`EST(뉴이스트)',\n",
       " '임세모',\n",
       " 'HIGHLIGHT(하이라이트)',\n",
       " 'HIGHLIGHT(하이라이트)',\n",
       " 'HIGHLIGHT(하이라이트)',\n",
       " 'HIGHLIGHT(하이라이트)',\n",
       " 'BRAVE GIRLS(브레이브걸스)',\n",
       " 'OH MY GIRL(오마이걸)',\n",
       " 'OH MY GIRL(오마이걸)',\n",
       " 'OH MY GIRL(오마이걸)',\n",
       " '박수진',\n",
       " '권여름',\n",
       " '건우',\n",
       " 'SWAN(수안)',\n",
       " '김민성',\n",
       " 'ACHII(에이치)',\n",
       " 'RED VELVET(레드벨벳)',\n",
       " 'RED VELVET(레드벨벳)',\n",
       " 'KINGDOM(킹덤)',\n",
       " 'KINGDOM(킹덤)',\n",
       " 'KINGDOM(킹덤)',\n",
       " 'WEI(위아이)',\n",
       " 'WEI(위아이)',\n",
       " 'WEI(위아이)',\n",
       " 'WEI(위아이)',\n",
       " '김준수',\n",
       " '김준수',\n",
       " '김준수',\n",
       " 'SE:UM(세움)',\n",
       " 'NU`EST(뉴이스트)',\n",
       " 'NCT DREAM(엔시티 드림)',\n",
       " 'SOLAR(솔라)',\n",
       " 'ILY:1(아일리원)',\n",
       " 'SOLAR(솔라)',\n",
       " 'SOLAR(솔라)',\n",
       " 'COMMON GROUND(커먼그라운드)',\n",
       " 'SHINJI(신지)',\n",
       " 'WEEEKLY(위클리)',\n",
       " '(G)I-DLE((여자)아이들)',\n",
       " '(G)I-DLE((여자)아이들)',\n",
       " '이정선',\n",
       " 'TURTLES(거북이)',\n",
       " '박창근',\n",
       " '박창근',\n",
       " '김우석',\n",
       " '김우석',\n",
       " '문빈 & 산하(ASTRO)',\n",
       " '김우석',\n",
       " '문빈 & 산하(ASTRO)',\n",
       " '장기하',\n",
       " '솔지',\n",
       " 'WEEEKLY(위클리)',\n",
       " 'WEEEKLY(위클리)',\n",
       " 'WEEEKLY(위클리)',\n",
       " 'CHERRY BULLET(체리블렛)',\n",
       " 'CHERRY BULLET(체리블렛)',\n",
       " 'ROCKET PUNCH(로켓펀치)',\n",
       " '김상희',\n",
       " 'SUPER JUNIOR(슈퍼주니어)',\n",
       " 'SUPER JUNIOR(슈퍼주니어)',\n",
       " 'SUPER JUNIOR(슈퍼주니어)',\n",
       " 'BLACK LEVEL(블랙레벨)',\n",
       " 'STAYC(스테이씨)',\n",
       " 'JEONG MI JO(정미조)',\n",
       " 'NMIXX(엔믹스)',\n",
       " 'BANG YONGGUK(방용국)',\n",
       " '노르웨이 숲',\n",
       " '노르웨이 숲',\n",
       " '노르웨이 숲',\n",
       " '노르웨이 숲',\n",
       " 'STRAY KIDS(스트레이 키즈)',\n",
       " 'BILLLIE(빌리)',\n",
       " 'BILLLIE(빌리)',\n",
       " 'CRAXY(크랙시)',\n",
       " 'JOSEE(조제)',\n",
       " '천용성',\n",
       " 'G.SOUL(지소울)',\n",
       " 'JWIIVER(제이위버)',\n",
       " '015B(공일오비)',\n",
       " 'STAYC(스테이씨)',\n",
       " 'STAYC(스테이씨)',\n",
       " 'TEMPEST(템페스트)',\n",
       " 'TEMPEST(템페스트)',\n",
       " 'TEMPEST(템페스트)',\n",
       " '한승윤',\n",
       " 'BIG MAMA(빅마마)']"
      ]
     },
     "execution_count": 20,
     "metadata": {},
     "output_type": "execute_result"
    }
   ],
   "source": [
    "brand_collect = []\n",
    "for x in brand_list:\n",
    "    brand_collect.append(x.text)\n",
    "brand_collect"
   ]
  },
  {
   "cell_type": "code",
   "execution_count": 21,
   "id": "ecbe82d3",
   "metadata": {},
   "outputs": [
    {
     "data": {
      "text/plain": [
       "[<span class=\"percent\">19%</span>,\n",
       " <span>16,300</span>,\n",
       " <span class=\"discount\">20,000</span>,\n",
       " <span class=\"percent\">19%</span>,\n",
       " <span>16,300</span>,\n",
       " <span class=\"discount\">20,000</span>]"
      ]
     },
     "execution_count": 21,
     "metadata": {},
     "output_type": "execute_result"
    }
   ],
   "source": [
    "# p.price.font_t > span:nth-child(2)\n",
    "price_list = doc.select('.price > span')\n",
    "price_list[:6] #1, 4, 7, 10"
   ]
  },
  {
   "cell_type": "code",
   "execution_count": 22,
   "id": "ba13dba1",
   "metadata": {},
   "outputs": [],
   "source": [
    "price_collect = []\n",
    "# for i in range(1, len(price_list), 3):\n",
    "#     print(price_list[i])"
   ]
  },
  {
   "cell_type": "code",
   "execution_count": 23,
   "id": "3cba1c5a",
   "metadata": {},
   "outputs": [
    {
     "data": {
      "text/plain": [
       "'18000'"
      ]
     },
     "execution_count": 23,
     "metadata": {},
     "output_type": "execute_result"
    }
   ],
   "source": [
    "#예시 이렇게 ,값빼줘야한다.\n",
    "text = '18,000'\n",
    "text2 = text.split(',')#['18','000'] 스플릿 하면 이렇게 리스트로 온다.\n",
    "text3 = text2[0]+text2[1]\n",
    "text3"
   ]
  },
  {
   "cell_type": "code",
   "execution_count": 24,
   "id": "93c193a5",
   "metadata": {},
   "outputs": [
    {
     "name": "stdout",
     "output_type": "stream",
     "text": [
      "1 ['16', '300']\n",
      "4 ['16', '300']\n",
      "7 ['13', '400']\n",
      "10 ['13', '400']\n",
      "13 ['13', '400']\n",
      "16 ['31', '200']\n",
      "19 ['13', '400']\n",
      "22 ['19', '300']\n",
      "25 ['17', '100']\n",
      "28 ['16', '300']\n",
      "31 ['17', '800']\n",
      "34 ['17', '800']\n",
      "37 ['11', '000']\n",
      "40 ['11', '900']\n",
      "43 ['14', '900']\n",
      "46 ['17', '800']\n",
      "49 ['17', '800']\n",
      "52 ['38', '600']\n",
      "55 ['8', '900']\n",
      "58 ['19', '300']\n",
      "61 ['11', '900']\n",
      "64 ['16', '300']\n",
      "67 ['11', '000']\n",
      "70 ['35', '600']\n",
      "73 ['17', '800']\n",
      "76 ['17', '800']\n",
      "79 ['13', '400']\n",
      "82 ['44', '600']\n",
      "85 ['67', '000']\n",
      "88 ['31', '000']\n",
      "91 ['25', '000']\n",
      "94 ['20', '000']\n",
      "97 ['27', '000']\n",
      "100 ['24', '000']\n",
      "103 ['18', '000']\n",
      "106 ['24', '000']\n",
      "109 ['72', '000']\n",
      "112 ['24', '000']\n",
      "115 ['24', '000']\n",
      "118 ['18', '000']\n",
      "121 ['48', '000']\n",
      "124 ['24', '000']\n",
      "127 ['24', '000']\n",
      "130 ['22', '000']\n",
      "133 ['16', '500']\n",
      "136 ['16', '500']\n",
      "139 ['17', '500']\n",
      "142 ['22', '000']\n",
      "145 ['12', '500']\n",
      "148 ['24', '000']\n",
      "151 ['24', '000']\n",
      "154 ['20', '000']\n",
      "157 ['40', '000']\n",
      "160 ['20', '000']\n",
      "163 ['22', '000']\n",
      "166 ['22', '000']\n",
      "169 ['66', '000']\n",
      "172 ['22', '000']\n",
      "175 ['22', '000']\n",
      "178 ['22', '000']\n",
      "181 ['44', '000']\n",
      "184 ['17', '500']\n",
      "187 ['23', '000']\n",
      "190 ['22', '000']\n",
      "193 ['44', '000']\n",
      "196 ['16', '500']\n",
      "199 ['22', '000']\n",
      "202 ['22', '000']\n",
      "205 ['55', '000']\n",
      "208 ['19', '500']\n",
      "211 ['13', '000']\n",
      "214 ['69', '000']\n",
      "217 ['23', '000']\n",
      "220 ['55', '000']\n",
      "223 ['80', '000']\n",
      "226 ['19', '300']\n",
      "229 ['19', '300']\n",
      "232 ['17', '800']\n",
      "235 ['38', '600']\n",
      "238 ['17', '800']\n",
      "241 ['19', '300']\n",
      "244 ['16', '300']\n",
      "247 ['11', '900']\n",
      "250 ['26', '800']\n"
     ]
    },
    {
     "data": {
      "text/plain": [
       "['16300',\n",
       " '16300',\n",
       " '13400',\n",
       " '13400',\n",
       " '13400',\n",
       " '31200',\n",
       " '13400',\n",
       " '19300',\n",
       " '17100',\n",
       " '16300',\n",
       " '17800',\n",
       " '17800',\n",
       " '11000',\n",
       " '11900',\n",
       " '14900',\n",
       " '17800',\n",
       " '17800',\n",
       " '38600',\n",
       " '8900',\n",
       " '19300',\n",
       " '11900',\n",
       " '16300',\n",
       " '11000',\n",
       " '35600',\n",
       " '17800',\n",
       " '17800',\n",
       " '13400',\n",
       " '44600',\n",
       " '67000',\n",
       " '31000',\n",
       " '25000',\n",
       " '20000',\n",
       " '27000',\n",
       " '24000',\n",
       " '18000',\n",
       " '24000',\n",
       " '72000',\n",
       " '24000',\n",
       " '24000',\n",
       " '18000',\n",
       " '48000',\n",
       " '24000',\n",
       " '24000',\n",
       " '22000',\n",
       " '16500',\n",
       " '16500',\n",
       " '17500',\n",
       " '22000',\n",
       " '12500',\n",
       " '24000',\n",
       " '24000',\n",
       " '20000',\n",
       " '40000',\n",
       " '20000',\n",
       " '22000',\n",
       " '22000',\n",
       " '66000',\n",
       " '22000',\n",
       " '22000',\n",
       " '22000',\n",
       " '44000',\n",
       " '17500',\n",
       " '23000',\n",
       " '22000',\n",
       " '44000',\n",
       " '16500',\n",
       " '22000',\n",
       " '22000',\n",
       " '55000',\n",
       " '19500',\n",
       " '13000',\n",
       " '69000',\n",
       " '23000',\n",
       " '55000',\n",
       " '80000',\n",
       " '19300',\n",
       " '19300',\n",
       " '17800',\n",
       " '38600',\n",
       " '17800',\n",
       " '19300',\n",
       " '16300',\n",
       " '11900',\n",
       " '26800']"
      ]
     },
     "execution_count": 24,
     "metadata": {},
     "output_type": "execute_result"
    }
   ],
   "source": [
    "for i in range(1, len(price_list)-100, 3):\n",
    "    price1 = price_list[i].text.split(',')\n",
    "    print(i, price1)\n",
    "    price2 = price1[0]+price1[1]\n",
    "    price_collect.append(price2)\n",
    "price_collect"
   ]
  },
  {
   "cell_type": "code",
   "execution_count": 25,
   "id": "03071b2c",
   "metadata": {},
   "outputs": [
    {
     "data": {
      "text/plain": [
       "120"
      ]
     },
     "execution_count": 25,
     "metadata": {},
     "output_type": "execute_result"
    }
   ],
   "source": [
    "len(tit_collect)"
   ]
  },
  {
   "cell_type": "code",
   "execution_count": 26,
   "id": "8eef1355",
   "metadata": {},
   "outputs": [
    {
     "data": {
      "text/plain": [
       "116"
      ]
     },
     "execution_count": 26,
     "metadata": {},
     "output_type": "execute_result"
    }
   ],
   "source": [
    "len(percent_collect)"
   ]
  },
  {
   "cell_type": "code",
   "execution_count": 27,
   "id": "393ff9d9",
   "metadata": {},
   "outputs": [
    {
     "data": {
      "text/plain": [
       "120"
      ]
     },
     "execution_count": 27,
     "metadata": {},
     "output_type": "execute_result"
    }
   ],
   "source": [
    "len(brand_collect)"
   ]
  },
  {
   "cell_type": "code",
   "execution_count": 28,
   "id": "d1294c8d",
   "metadata": {},
   "outputs": [
    {
     "data": {
      "text/plain": [
       "84"
      ]
     },
     "execution_count": 28,
     "metadata": {},
     "output_type": "execute_result"
    }
   ],
   "source": [
    "len(price_collect)"
   ]
  },
  {
   "cell_type": "code",
   "execution_count": 29,
   "id": "7bf5503c",
   "metadata": {},
   "outputs": [
    {
     "data": {
      "text/plain": [
       "120"
      ]
     },
     "execution_count": 29,
     "metadata": {},
     "output_type": "execute_result"
    }
   ],
   "source": [
    "percent_collect = percent_collect + [0,0,0,0]\n",
    "len(percent_collect)"
   ]
  },
  {
   "cell_type": "code",
   "execution_count": 30,
   "id": "13a24d73",
   "metadata": {},
   "outputs": [
    {
     "data": {
      "text/plain": [
       "96"
      ]
     },
     "execution_count": 30,
     "metadata": {},
     "output_type": "execute_result"
    }
   ],
   "source": [
    "price_collect = price_collect + [0,0,0,0,0,0,0,0,0,0,0,0]\n",
    "len(price_collect)"
   ]
  },
  {
   "cell_type": "code",
   "execution_count": 31,
   "id": "8659b5e2",
   "metadata": {},
   "outputs": [],
   "source": [
    "hottracts_file = open('album.csv', 'a', encoding=\"UTF-8-sig\")\n",
    "#euc-kr로 읽으면 글자 안깨짐\n",
    "#title1,brand1,percent1,price1이 순서대로 넣어야함."
   ]
  },
  {
   "cell_type": "code",
   "execution_count": 32,
   "id": "f96f56bc",
   "metadata": {},
   "outputs": [],
   "source": [
    "# hottracts_file.write(tit_collect[0] + ','+\n",
    "#                      brand_collect[0] + ','+\n",
    "#                      str(percent_collect[0]) + ','+\n",
    "#                      str(price_collect[0])\n",
    "#                      + '\\n')\n",
    "\n",
    "for i in range(50):\n",
    "    hottracts_file.write(tit_collect[i] + ','+\n",
    "                         brand_collect[i] + ','+\n",
    "                         str(percent_collect[i])  + ','+\n",
    "                         str(price_collect[i])\n",
    "                         + '\\n')"
   ]
  },
  {
   "cell_type": "code",
   "execution_count": 33,
   "id": "a48c0a9d",
   "metadata": {},
   "outputs": [],
   "source": [
    "hottracts_file.close()"
   ]
  },
  {
   "cell_type": "code",
   "execution_count": 34,
   "id": "7842f5b7",
   "metadata": {},
   "outputs": [],
   "source": [
    "import pandas as pd"
   ]
  },
  {
   "cell_type": "code",
   "execution_count": 35,
   "id": "e067b0b8",
   "metadata": {},
   "outputs": [
    {
     "ename": "ParserError",
     "evalue": "Error tokenizing data. C error: Expected 4 fields in line 48, saw 5\n",
     "output_type": "error",
     "traceback": [
      "\u001b[1;31m---------------------------------------------------------------------------\u001b[0m",
      "\u001b[1;31mParserError\u001b[0m                               Traceback (most recent call last)",
      "\u001b[1;32m~\\AppData\\Local\\Temp/ipykernel_13392/1361077044.py\u001b[0m in \u001b[0;36m<module>\u001b[1;34m\u001b[0m\n\u001b[1;32m----> 1\u001b[1;33m \u001b[0mhot\u001b[0m \u001b[1;33m=\u001b[0m \u001b[0mpd\u001b[0m\u001b[1;33m.\u001b[0m\u001b[0mread_csv\u001b[0m\u001b[1;33m(\u001b[0m\u001b[1;34m'album.csv'\u001b[0m\u001b[1;33m,\u001b[0m \u001b[0mencoding\u001b[0m\u001b[1;33m=\u001b[0m\u001b[1;34m'utf8'\u001b[0m\u001b[1;33m)\u001b[0m\u001b[1;33m\u001b[0m\u001b[1;33m\u001b[0m\u001b[0m\n\u001b[0m\u001b[0;32m      2\u001b[0m \u001b[0mhot\u001b[0m\u001b[1;31m#euc-kr로 읽으면 글자 안깨짐\u001b[0m\u001b[1;33m\u001b[0m\u001b[1;33m\u001b[0m\u001b[0m\n",
      "\u001b[1;32m~\\anaconda3\\lib\\site-packages\\pandas\\util\\_decorators.py\u001b[0m in \u001b[0;36mwrapper\u001b[1;34m(*args, **kwargs)\u001b[0m\n\u001b[0;32m    309\u001b[0m                     \u001b[0mstacklevel\u001b[0m\u001b[1;33m=\u001b[0m\u001b[0mstacklevel\u001b[0m\u001b[1;33m,\u001b[0m\u001b[1;33m\u001b[0m\u001b[1;33m\u001b[0m\u001b[0m\n\u001b[0;32m    310\u001b[0m                 )\n\u001b[1;32m--> 311\u001b[1;33m             \u001b[1;32mreturn\u001b[0m \u001b[0mfunc\u001b[0m\u001b[1;33m(\u001b[0m\u001b[1;33m*\u001b[0m\u001b[0margs\u001b[0m\u001b[1;33m,\u001b[0m \u001b[1;33m**\u001b[0m\u001b[0mkwargs\u001b[0m\u001b[1;33m)\u001b[0m\u001b[1;33m\u001b[0m\u001b[1;33m\u001b[0m\u001b[0m\n\u001b[0m\u001b[0;32m    312\u001b[0m \u001b[1;33m\u001b[0m\u001b[0m\n\u001b[0;32m    313\u001b[0m         \u001b[1;32mreturn\u001b[0m \u001b[0mwrapper\u001b[0m\u001b[1;33m\u001b[0m\u001b[1;33m\u001b[0m\u001b[0m\n",
      "\u001b[1;32m~\\anaconda3\\lib\\site-packages\\pandas\\io\\parsers\\readers.py\u001b[0m in \u001b[0;36mread_csv\u001b[1;34m(filepath_or_buffer, sep, delimiter, header, names, index_col, usecols, squeeze, prefix, mangle_dupe_cols, dtype, engine, converters, true_values, false_values, skipinitialspace, skiprows, skipfooter, nrows, na_values, keep_default_na, na_filter, verbose, skip_blank_lines, parse_dates, infer_datetime_format, keep_date_col, date_parser, dayfirst, cache_dates, iterator, chunksize, compression, thousands, decimal, lineterminator, quotechar, quoting, doublequote, escapechar, comment, encoding, encoding_errors, dialect, error_bad_lines, warn_bad_lines, on_bad_lines, delim_whitespace, low_memory, memory_map, float_precision, storage_options)\u001b[0m\n\u001b[0;32m    584\u001b[0m     \u001b[0mkwds\u001b[0m\u001b[1;33m.\u001b[0m\u001b[0mupdate\u001b[0m\u001b[1;33m(\u001b[0m\u001b[0mkwds_defaults\u001b[0m\u001b[1;33m)\u001b[0m\u001b[1;33m\u001b[0m\u001b[1;33m\u001b[0m\u001b[0m\n\u001b[0;32m    585\u001b[0m \u001b[1;33m\u001b[0m\u001b[0m\n\u001b[1;32m--> 586\u001b[1;33m     \u001b[1;32mreturn\u001b[0m \u001b[0m_read\u001b[0m\u001b[1;33m(\u001b[0m\u001b[0mfilepath_or_buffer\u001b[0m\u001b[1;33m,\u001b[0m \u001b[0mkwds\u001b[0m\u001b[1;33m)\u001b[0m\u001b[1;33m\u001b[0m\u001b[1;33m\u001b[0m\u001b[0m\n\u001b[0m\u001b[0;32m    587\u001b[0m \u001b[1;33m\u001b[0m\u001b[0m\n\u001b[0;32m    588\u001b[0m \u001b[1;33m\u001b[0m\u001b[0m\n",
      "\u001b[1;32m~\\anaconda3\\lib\\site-packages\\pandas\\io\\parsers\\readers.py\u001b[0m in \u001b[0;36m_read\u001b[1;34m(filepath_or_buffer, kwds)\u001b[0m\n\u001b[0;32m    486\u001b[0m \u001b[1;33m\u001b[0m\u001b[0m\n\u001b[0;32m    487\u001b[0m     \u001b[1;32mwith\u001b[0m \u001b[0mparser\u001b[0m\u001b[1;33m:\u001b[0m\u001b[1;33m\u001b[0m\u001b[1;33m\u001b[0m\u001b[0m\n\u001b[1;32m--> 488\u001b[1;33m         \u001b[1;32mreturn\u001b[0m \u001b[0mparser\u001b[0m\u001b[1;33m.\u001b[0m\u001b[0mread\u001b[0m\u001b[1;33m(\u001b[0m\u001b[0mnrows\u001b[0m\u001b[1;33m)\u001b[0m\u001b[1;33m\u001b[0m\u001b[1;33m\u001b[0m\u001b[0m\n\u001b[0m\u001b[0;32m    489\u001b[0m \u001b[1;33m\u001b[0m\u001b[0m\n\u001b[0;32m    490\u001b[0m \u001b[1;33m\u001b[0m\u001b[0m\n",
      "\u001b[1;32m~\\anaconda3\\lib\\site-packages\\pandas\\io\\parsers\\readers.py\u001b[0m in \u001b[0;36mread\u001b[1;34m(self, nrows)\u001b[0m\n\u001b[0;32m   1045\u001b[0m     \u001b[1;32mdef\u001b[0m \u001b[0mread\u001b[0m\u001b[1;33m(\u001b[0m\u001b[0mself\u001b[0m\u001b[1;33m,\u001b[0m \u001b[0mnrows\u001b[0m\u001b[1;33m=\u001b[0m\u001b[1;32mNone\u001b[0m\u001b[1;33m)\u001b[0m\u001b[1;33m:\u001b[0m\u001b[1;33m\u001b[0m\u001b[1;33m\u001b[0m\u001b[0m\n\u001b[0;32m   1046\u001b[0m         \u001b[0mnrows\u001b[0m \u001b[1;33m=\u001b[0m \u001b[0mvalidate_integer\u001b[0m\u001b[1;33m(\u001b[0m\u001b[1;34m\"nrows\"\u001b[0m\u001b[1;33m,\u001b[0m \u001b[0mnrows\u001b[0m\u001b[1;33m)\u001b[0m\u001b[1;33m\u001b[0m\u001b[1;33m\u001b[0m\u001b[0m\n\u001b[1;32m-> 1047\u001b[1;33m         \u001b[0mindex\u001b[0m\u001b[1;33m,\u001b[0m \u001b[0mcolumns\u001b[0m\u001b[1;33m,\u001b[0m \u001b[0mcol_dict\u001b[0m \u001b[1;33m=\u001b[0m \u001b[0mself\u001b[0m\u001b[1;33m.\u001b[0m\u001b[0m_engine\u001b[0m\u001b[1;33m.\u001b[0m\u001b[0mread\u001b[0m\u001b[1;33m(\u001b[0m\u001b[0mnrows\u001b[0m\u001b[1;33m)\u001b[0m\u001b[1;33m\u001b[0m\u001b[1;33m\u001b[0m\u001b[0m\n\u001b[0m\u001b[0;32m   1048\u001b[0m \u001b[1;33m\u001b[0m\u001b[0m\n\u001b[0;32m   1049\u001b[0m         \u001b[1;32mif\u001b[0m \u001b[0mindex\u001b[0m \u001b[1;32mis\u001b[0m \u001b[1;32mNone\u001b[0m\u001b[1;33m:\u001b[0m\u001b[1;33m\u001b[0m\u001b[1;33m\u001b[0m\u001b[0m\n",
      "\u001b[1;32m~\\anaconda3\\lib\\site-packages\\pandas\\io\\parsers\\c_parser_wrapper.py\u001b[0m in \u001b[0;36mread\u001b[1;34m(self, nrows)\u001b[0m\n\u001b[0;32m    221\u001b[0m         \u001b[1;32mtry\u001b[0m\u001b[1;33m:\u001b[0m\u001b[1;33m\u001b[0m\u001b[1;33m\u001b[0m\u001b[0m\n\u001b[0;32m    222\u001b[0m             \u001b[1;32mif\u001b[0m \u001b[0mself\u001b[0m\u001b[1;33m.\u001b[0m\u001b[0mlow_memory\u001b[0m\u001b[1;33m:\u001b[0m\u001b[1;33m\u001b[0m\u001b[1;33m\u001b[0m\u001b[0m\n\u001b[1;32m--> 223\u001b[1;33m                 \u001b[0mchunks\u001b[0m \u001b[1;33m=\u001b[0m \u001b[0mself\u001b[0m\u001b[1;33m.\u001b[0m\u001b[0m_reader\u001b[0m\u001b[1;33m.\u001b[0m\u001b[0mread_low_memory\u001b[0m\u001b[1;33m(\u001b[0m\u001b[0mnrows\u001b[0m\u001b[1;33m)\u001b[0m\u001b[1;33m\u001b[0m\u001b[1;33m\u001b[0m\u001b[0m\n\u001b[0m\u001b[0;32m    224\u001b[0m                 \u001b[1;31m# destructive to chunks\u001b[0m\u001b[1;33m\u001b[0m\u001b[1;33m\u001b[0m\u001b[0m\n\u001b[0;32m    225\u001b[0m                 \u001b[0mdata\u001b[0m \u001b[1;33m=\u001b[0m \u001b[0m_concatenate_chunks\u001b[0m\u001b[1;33m(\u001b[0m\u001b[0mchunks\u001b[0m\u001b[1;33m)\u001b[0m\u001b[1;33m\u001b[0m\u001b[1;33m\u001b[0m\u001b[0m\n",
      "\u001b[1;32m~\\anaconda3\\lib\\site-packages\\pandas\\_libs\\parsers.pyx\u001b[0m in \u001b[0;36mpandas._libs.parsers.TextReader.read_low_memory\u001b[1;34m()\u001b[0m\n",
      "\u001b[1;32m~\\anaconda3\\lib\\site-packages\\pandas\\_libs\\parsers.pyx\u001b[0m in \u001b[0;36mpandas._libs.parsers.TextReader._read_rows\u001b[1;34m()\u001b[0m\n",
      "\u001b[1;32m~\\anaconda3\\lib\\site-packages\\pandas\\_libs\\parsers.pyx\u001b[0m in \u001b[0;36mpandas._libs.parsers.TextReader._tokenize_rows\u001b[1;34m()\u001b[0m\n",
      "\u001b[1;32m~\\anaconda3\\lib\\site-packages\\pandas\\_libs\\parsers.pyx\u001b[0m in \u001b[0;36mpandas._libs.parsers.raise_parser_error\u001b[1;34m()\u001b[0m\n",
      "\u001b[1;31mParserError\u001b[0m: Error tokenizing data. C error: Expected 4 fields in line 48, saw 5\n"
     ]
    }
   ],
   "source": [
    "hot = pd.read_csv('album.csv', encoding='utf8')\n",
    "hot#euc-kr로 읽으면 글자 안깨짐"
   ]
  },
  {
   "cell_type": "code",
   "execution_count": null,
   "id": "f5270e00",
   "metadata": {},
   "outputs": [],
   "source": [
    "hot['price']"
   ]
  },
  {
   "cell_type": "code",
   "execution_count": null,
   "id": "56715070",
   "metadata": {},
   "outputs": [],
   "source": [
    "#크롤링(데이터수집)--> list생성 모았음-->csv저장\n",
    "#csv읽어서 -->분석할 수 있는 데이터로 만들어 --> 분석시작"
   ]
  },
  {
   "cell_type": "code",
   "execution_count": null,
   "id": "f20df34c",
   "metadata": {},
   "outputs": [],
   "source": []
  }
 ],
 "metadata": {
  "kernelspec": {
   "display_name": "Python 3 (ipykernel)",
   "language": "python",
   "name": "python3"
  },
  "language_info": {
   "codemirror_mode": {
    "name": "ipython",
    "version": 3
   },
   "file_extension": ".py",
   "mimetype": "text/x-python",
   "name": "python",
   "nbconvert_exporter": "python",
   "pygments_lexer": "ipython3",
   "version": "3.9.7"
  }
 },
 "nbformat": 4,
 "nbformat_minor": 5
}
