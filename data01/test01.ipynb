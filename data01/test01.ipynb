{
 "cells": [
  {
   "cell_type": "code",
   "execution_count": 3,
   "id": "e90e04d1",
   "metadata": {},
   "outputs": [
    {
     "name": "stdout",
     "output_type": "stream",
     "text": [
      "welcome! jupyter\n"
     ]
    }
   ],
   "source": [
    "print('welcome! jupyter')\n"
   ]
  },
  {
   "cell_type": "code",
   "execution_count": 4,
   "id": "d57010b4",
   "metadata": {},
   "outputs": [],
   "source": [
    "#shift+enter: 해당 셀 실행해주고 다음 셀도 만들어줌.\n",
    "#control+enter: 다음 셀 실행만.!!!"
   ]
  },
  {
   "cell_type": "code",
   "execution_count": 5,
   "id": "a620e8bf",
   "metadata": {},
   "outputs": [],
   "source": [
    "#셀 생성: 밖 아무곳 누르면 셀이 파란색으로 변하는데 b누르면 셀 하나씩 생김.\n",
    "#셀삭제: dd(x)\n",
    "#위에추가:a\n",
    "#복붙: c , v\n"
   ]
  },
  {
   "cell_type": "code",
   "execution_count": 6,
   "id": "5a2b6ffa",
   "metadata": {},
   "outputs": [
    {
     "name": "stdout",
     "output_type": "stream",
     "text": [
      "변수값 출력\n"
     ]
    }
   ],
   "source": [
    "print('변수값 출력')"
   ]
  },
  {
   "cell_type": "code",
   "execution_count": 10,
   "id": "8f73c6ff",
   "metadata": {},
   "outputs": [],
   "source": [
    "name = 'hong'\n",
    "age = 100"
   ]
  },
  {
   "cell_type": "code",
   "execution_count": 15,
   "id": "c9ecb1ed",
   "metadata": {},
   "outputs": [
    {
     "data": {
      "text/plain": [
       "('hong', 100)"
      ]
     },
     "execution_count": 15,
     "metadata": {},
     "output_type": "execute_result"
    }
   ],
   "source": [
    "name,age#값을 튜플로 묶어줌."
   ]
  },
  {
   "cell_type": "code",
   "execution_count": 16,
   "id": "657207cf",
   "metadata": {},
   "outputs": [
    {
     "name": "stdout",
     "output_type": "stream",
     "text": [
      "hong\n"
     ]
    }
   ],
   "source": [
    "print(name)"
   ]
  },
  {
   "cell_type": "code",
   "execution_count": null,
   "id": "0379c4b9",
   "metadata": {},
   "outputs": [],
   "source": []
  }
 ],
 "metadata": {
  "kernelspec": {
   "display_name": "Python 3 (ipykernel)",
   "language": "python",
   "name": "python3"
  },
  "language_info": {
   "codemirror_mode": {
    "name": "ipython",
    "version": 3
   },
   "file_extension": ".py",
   "mimetype": "text/x-python",
   "name": "python",
   "nbconvert_exporter": "python",
   "pygments_lexer": "ipython3",
   "version": "3.9.7"
  }
 },
 "nbformat": 4,
 "nbformat_minor": 5
}
