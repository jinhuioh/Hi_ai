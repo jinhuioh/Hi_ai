{
 "cells": [
  {
   "cell_type": "code",
   "execution_count": 2,
   "id": "5dd07cc4",
   "metadata": {},
   "outputs": [],
   "source": [
    "from urllib import request\n",
    "#url 요청할 때 꼭 필요한 모듈.request\n",
    "from bs4 import BeautifulSoup\n",
    "#BeautifulSoup는 웹의 데이터를 사용할 수 있게 해주는 모듈이다!"
   ]
  },
  {
   "cell_type": "code",
   "execution_count": 3,
   "id": "f35a1204",
   "metadata": {},
   "outputs": [
    {
     "data": {
      "text/plain": [
       "<http.client.HTTPResponse at 0x1d5020c7040>"
      ]
     },
     "execution_count": 3,
     "metadata": {},
     "output_type": "execute_result"
    }
   ],
   "source": [
    "con = request.urlopen('https://www.hottracks.co.kr/ht/biz/record/recordCategoryMain?ctgrId=00030000')\n",
    "#con이라는 변수를 사용하여, 해당 url요청! \n",
    "con \n",
    "#http response(header + body)\n",
    "#header : http result status code\n",
    "#         (ok: 200, not found: 404, error: 500, permission: 403)"
   ]
  },
  {
   "cell_type": "code",
   "execution_count": 4,
   "id": "461b6205",
   "metadata": {},
   "outputs": [
    {
     "data": {
      "text/plain": [
       "200"
      ]
     },
     "execution_count": 4,
     "metadata": {},
     "output_type": "execute_result"
    }
   ],
   "source": [
    "con.status\n",
    "#con.status를 쓰면내가 요청한 url받아오겠다는 의미.\n",
    "#status code \n",
    "#내가 요청한 url받는데 성공하면 200이 뜸! "
   ]
  },
  {
   "cell_type": "code",
   "execution_count": null,
   "id": "02159f6a",
   "metadata": {},
   "outputs": [],
   "source": []
  }
 ],
 "metadata": {
  "kernelspec": {
   "display_name": "Python 3 (ipykernel)",
   "language": "python",
   "name": "python3"
  },
  "language_info": {
   "codemirror_mode": {
    "name": "ipython",
    "version": 3
   },
   "file_extension": ".py",
   "mimetype": "text/x-python",
   "name": "python",
   "nbconvert_exporter": "python",
   "pygments_lexer": "ipython3",
   "version": "3.9.7"
  }
 },
 "nbformat": 4,
 "nbformat_minor": 5
}
