{
 "cells": [
  {
   "cell_type": "code",
   "execution_count": 7,
   "id": "82ef71c3",
   "metadata": {},
   "outputs": [],
   "source": [
    "from urllib import request\n",
    "#url 요청할 때 꼭 필요한 모듈.request\n",
    "from bs4 import BeautifulSoup\n",
    "#BeautifulSoup는 웹의 데이터를 사용할 수 있게 해주는 모듈이다!"
   ]
  },
  {
   "cell_type": "code",
   "execution_count": 8,
   "id": "45b9a7d3",
   "metadata": {},
   "outputs": [
    {
     "data": {
      "text/plain": [
       "<http.client.HTTPResponse at 0x1d501ff27c0>"
      ]
     },
     "execution_count": 8,
     "metadata": {},
     "output_type": "execute_result"
    }
   ],
   "source": [
    "con = request.urlopen('https://www.hottracks.co.kr/ht/biz/record/recordCategoryMain?ctgrId=00030000')\n",
    "#con이라는 변수를 사용하여, 해당 url요청! \n",
    "con \n",
    "#http response(header + body)\n",
    "#header : http result status code\n",
    "#         (ok: 200, not found: 404, error: 500, permission: 403)"
   ]
  },
  {
   "cell_type": "code",
   "execution_count": 9,
   "id": "c435630b",
   "metadata": {},
   "outputs": [
    {
     "data": {
      "text/plain": [
       "200"
      ]
     },
     "execution_count": 9,
     "metadata": {},
     "output_type": "execute_result"
    }
   ],
   "source": [
    "con.status\n",
    "#con.status를 쓰면내가 요청한 url받아오겠다는 의미.\n",
    "#status code \n",
    "#내가 요청한 url받는데 성공하면 200이 뜸! "
   ]
  },
  {
   "cell_type": "code",
   "execution_count": 10,
   "id": "d9f96a77",
   "metadata": {},
   "outputs": [],
   "source": [
    "doc = BeautifulSoup(con, 'html.parser')"
   ]
  },
  {
   "cell_type": "code",
   "execution_count": 11,
   "id": "166c87e8",
   "metadata": {},
   "outputs": [
    {
     "data": {
      "text/plain": [
       "[<li><a class=\"all\" href=\"javascript:;\">전체보기</a></li>,\n",
       " <li><a href=\"/ht/biz/record/recordCategoryMain?ctgrId=00030000\" style=\"color:#DA2128;\">가요 </a></li>,\n",
       " <li><a href=\"/ht/biz/record/recordCategoryMain?ctgrId=00030001\">랩/힙합 </a></li>,\n",
       " <li><a href=\"/ht/biz/record/recordCategoryMain?ctgrId=00030002\">락 </a></li>,\n",
       " <li><a href=\"/ht/biz/record/recordCategoryMain?ctgrId=00030003\">재즈/뉴에이지/일렉트로닉 </a></li>,\n",
       " <li><a href=\"/ht/biz/record/recordCategoryMain?ctgrId=00030004\">OST/뮤지컬 </a></li>,\n",
       " <li><a href=\"/ht/biz/record/recordCategoryMain?ctgrId=00030005\">화보집/MD상품 </a></li>,\n",
       " <li><a href=\"/ht/biz/record/recordCategoryMain?ctgrId=00030006\">성인가요 </a></li>,\n",
       " <li><a href=\"/ht/biz/record/recordCategoryMain?ctgrId=00030007\">시낭송/명상 </a></li>,\n",
       " <li><a href=\"/ht/biz/record/recordCategoryMain?ctgrId=00030008\">모음집 </a></li>,\n",
       " <li><a href=\"/ht/biz/record/recordCategoryMain?ctgrId=00030010\">캐롤 </a></li>]"
      ]
     },
     "execution_count": 11,
     "metadata": {},
     "output_type": "execute_result"
    }
   ],
   "source": [
    "a_tag_list = doc.select('.category_list li')\n",
    "a_tag_list"
   ]
  },
  {
   "cell_type": "code",
   "execution_count": 12,
   "id": "e35baa8d",
   "metadata": {},
   "outputs": [
    {
     "name": "stdout",
     "output_type": "stream",
     "text": [
      "전체보기\n",
      "가요 \n",
      "랩/힙합 \n",
      "락 \n",
      "재즈/뉴에이지/일렉트로닉 \n",
      "OST/뮤지컬 \n",
      "화보집/MD상품 \n",
      "성인가요 \n",
      "시낭송/명상 \n",
      "모음집 \n",
      "캐롤 \n"
     ]
    }
   ],
   "source": [
    "# for one in a_tag_list:\n",
    "#     print(one.text)\n",
    "for one in a_tag_list:\n",
    "    print(one.text)"
   ]
  },
  {
   "cell_type": "code",
   "execution_count": 13,
   "id": "57c5e4b5",
   "metadata": {},
   "outputs": [],
   "source": [
    "anav_list = []#one.text를 리스트에 넣어보자."
   ]
  },
  {
   "cell_type": "code",
   "execution_count": 14,
   "id": "717ee9c0",
   "metadata": {},
   "outputs": [],
   "source": [
    "for one in a_tag_list:\n",
    "    anav_list.append(one.text)#append함수를 써써 one.text를 리스트안에 붙여보자. "
   ]
  },
  {
   "cell_type": "code",
   "execution_count": 15,
   "id": "7f0e2806",
   "metadata": {},
   "outputs": [
    {
     "data": {
      "text/plain": [
       "['전체보기',\n",
       " '가요 ',\n",
       " '랩/힙합 ',\n",
       " '락 ',\n",
       " '재즈/뉴에이지/일렉트로닉 ',\n",
       " 'OST/뮤지컬 ',\n",
       " '화보집/MD상품 ',\n",
       " '성인가요 ',\n",
       " '시낭송/명상 ',\n",
       " '모음집 ',\n",
       " '캐롤 ']"
      ]
     },
     "execution_count": 15,
     "metadata": {},
     "output_type": "execute_result"
    }
   ],
   "source": [
    "anav_list"
   ]
  },
  {
   "cell_type": "code",
   "execution_count": 21,
   "id": "15090f2c",
   "metadata": {},
   "outputs": [
    {
     "data": {
      "text/plain": [
       "[<span class=\"percent\">19%</span>,\n",
       " <span>16,300</span>,\n",
       " <span class=\"discount\">20,000</span>,\n",
       " <span class=\"percent\">19%</span>,\n",
       " <span>16,300</span>,\n",
       " <span class=\"discount\">20,000</span>]"
      ]
     },
     "execution_count": 21,
     "metadata": {},
     "output_type": "execute_result"
    }
   ],
   "source": [
    "percents = doc.select('.price > span')\n",
    "# p.price.font_t > span:nth-child(2)\n",
    "#.price > span의 .은class를 의미하고 #이 쓰이면 id를 의미.\n",
    "percents[:6]"
   ]
  },
  {
   "cell_type": "code",
   "execution_count": 22,
   "id": "b91d6c2b",
   "metadata": {},
   "outputs": [
    {
     "data": {
      "text/plain": [
       "'18000'"
      ]
     },
     "execution_count": 22,
     "metadata": {},
     "output_type": "execute_result"
    }
   ],
   "source": [
    "##문자 사이에 ,있을 때 빼는 방법\n",
    "##예시 이렇게 ,값빼줘야한다.\n",
    "# text = '18,000'\n",
    "# text2 = text.split(',')#['18','000'] 스플릿 하면 이렇게 리스트로 온다.\n",
    "# text3 = text2[0]+text2[1]\n",
    "# text3\n",
    "text = '18,000'\n",
    "text2 = text.split(',')\n",
    "text3 = text2[0]+text2[1]\n",
    "text3"
   ]
  },
  {
   "cell_type": "code",
   "execution_count": 26,
   "id": "07d9dfd3",
   "metadata": {},
   "outputs": [],
   "source": [
    "price_collect = []"
   ]
  },
  {
   "cell_type": "code",
   "execution_count": 28,
   "id": "970fc3cb",
   "metadata": {
    "scrolled": true
   },
   "outputs": [
    {
     "name": "stdout",
     "output_type": "stream",
     "text": [
      "<span>16,300</span>\n",
      "<span>16,300</span>\n",
      "<span>13,400</span>\n",
      "<span>13,400</span>\n",
      "<span>13,400</span>\n",
      "<span>31,200</span>\n",
      "<span>13,400</span>\n",
      "<span>19,300</span>\n",
      "<span>17,100</span>\n",
      "<span>16,300</span>\n",
      "<span>17,800</span>\n",
      "<span>17,800</span>\n",
      "<span>11,000</span>\n",
      "<span>11,900</span>\n",
      "<span>14,900</span>\n",
      "<span>17,800</span>\n",
      "<span>17,800</span>\n",
      "<span>38,600</span>\n",
      "<span>8,900</span>\n",
      "<span>19,300</span>\n",
      "<span>22,300</span>\n",
      "<span>19,300</span>\n",
      "<span>13,400</span>\n",
      "<span>11,900</span>\n",
      "<span>67,000</span>\n",
      "<span>11,000</span>\n",
      "<span>16,300</span>\n",
      "<span>17,100</span>\n",
      "<span>44,700</span>\n",
      "<span>14,900</span>\n",
      "<span>44,000</span>\n",
      "<span>44,000</span>\n",
      "<span>44,000</span>\n",
      "<span>11,900</span>\n",
      "<span>16,300</span>\n",
      "<span>11,000</span>\n",
      "<span>35,600</span>\n",
      "<span>17,800</span>\n",
      "<span>17,800</span>\n",
      "<span>44,600</span>\n",
      "<span>13,400</span>\n",
      "<span>46,000</span>\n",
      "<span class=\"discount\">31,000</span>\n",
      "<span class=\"discount\">25,000</span>\n",
      "<span class=\"discount\">20,000</span>\n",
      "<span class=\"discount\">27,000</span>\n",
      "<span class=\"discount\">18,000</span>\n",
      "<span class=\"discount\">72,000</span>\n",
      "<span class=\"discount\">24,000</span>\n",
      "<span class=\"discount\">24,000</span>\n",
      "<span class=\"discount\">24,000</span>\n",
      "<span class=\"discount\">18,000</span>\n",
      "<span class=\"discount\">48,000</span>\n",
      "<span class=\"discount\">24,000</span>\n",
      "<span class=\"discount\">24,000</span>\n",
      "<span class=\"discount\">22,000</span>\n",
      "<span class=\"discount\">16,500</span>\n",
      "<span class=\"discount\">16,500</span>\n",
      "<span class=\"discount\">17,500</span>\n",
      "<span class=\"discount\">22,000</span>\n",
      "<span class=\"discount\">12,500</span>\n",
      "<span class=\"discount\">24,000</span>\n",
      "<span class=\"discount\">24,000</span>\n",
      "<span class=\"discount\">20,000</span>\n",
      "<span class=\"discount\">20,000</span>\n",
      "<span class=\"discount\">40,000</span>\n",
      "<span class=\"discount\">22,000</span>\n",
      "<span class=\"discount\">22,000</span>\n",
      "<span class=\"discount\">22,000</span>\n",
      "<span class=\"discount\">22,000</span>\n",
      "<span class=\"discount\">22,000</span>\n",
      "<span class=\"discount\">44,000</span>\n",
      "<span class=\"discount\">17,500</span>\n",
      "<span class=\"discount\">23,000</span>\n",
      "<span class=\"discount\">22,000</span>\n",
      "<span class=\"discount\">15,500</span>\n",
      "<span class=\"discount\">44,000</span>\n",
      "<span class=\"discount\">16,500</span>\n",
      "<span class=\"discount\">22,000</span>\n",
      "<span class=\"discount\">22,000</span>\n",
      "<span class=\"discount\">55,000</span>\n",
      "<span class=\"discount\">19,500</span>\n",
      "<span class=\"discount\">13,000</span>\n",
      "<span class=\"discount\">80,000</span>\n",
      "<span class=\"discount\">55,000</span>\n",
      "<span class=\"discount\">24,000</span>\n",
      "<span>19,300</span>\n",
      "<span>19,300</span>\n",
      "<span>19,300</span>\n",
      "<span>17,800</span>\n",
      "<span>17,800</span>\n",
      "<span>16,300</span>\n",
      "<span>46,800</span>\n",
      "<span>15,600</span>\n",
      "<span>11,900</span>\n",
      "<span>26,800</span>\n",
      "<span>13,400</span>\n",
      "<span>13,400</span>\n",
      "<span>31,200</span>\n",
      "<span>15,600</span>\n",
      "<span>15,600</span>\n",
      "<span class=\"percent\">19%</span>\n",
      "<span class=\"percent\">19%</span>\n",
      "<span class=\"percent\">19%</span>\n",
      "<span class=\"percent\">17%</span>\n",
      "<span class=\"percent\">18%</span>\n",
      "<span class=\"percent\">12%</span>\n",
      "<span class=\"percent\">20%</span>\n",
      "<span class=\"percent\">19%</span>\n",
      "<span class=\"percent\">19%</span>\n",
      "<span class=\"percent\">19%</span>\n",
      "<span class=\"percent\">19%</span>\n",
      "<span class=\"percent\">19%</span>\n",
      "<span class=\"percent\">19%</span>\n",
      "<span class=\"percent\">19%</span>\n"
     ]
    }
   ],
   "source": [
    "for i in range(1, len(percents), 3):\n",
    "    print(percents[i])"
   ]
  },
  {
   "cell_type": "code",
   "execution_count": 31,
   "id": "888e34cd",
   "metadata": {},
   "outputs": [
    {
     "data": {
      "text/plain": [
       "['16300', '16300', '13400', '13400', '13400']"
      ]
     },
     "execution_count": 31,
     "metadata": {},
     "output_type": "execute_result"
    }
   ],
   "source": [
    "# for i in range(1, len(percents), 3):\n",
    "#     price1 = percents[i].text.split(',')\n",
    "#     print(i, price1)\n",
    "#     price2 = price1[0]+price1[1]\n",
    "#     price_collect.append(price2)\n",
    "# price_collect[:5]\n",
    "\n",
    "# for i in range(1,len(percents)-100,3):\n",
    "#     p1 = percents[i].text.split(',')\n",
    "#     p2 = p1[0]+p1[1]\n",
    "#     price_collect.append(p2)\n",
    "# price_collect[:5]\n",
    "\n"
   ]
  },
  {
   "cell_type": "code",
   "execution_count": null,
   "id": "f3e1f4c5",
   "metadata": {},
   "outputs": [],
   "source": [
    "for i in range(1,len(percents),3):\n",
    "    price = "
   ]
  }
 ],
 "metadata": {
  "kernelspec": {
   "display_name": "Python 3 (ipykernel)",
   "language": "python",
   "name": "python3"
  },
  "language_info": {
   "codemirror_mode": {
    "name": "ipython",
    "version": 3
   },
   "file_extension": ".py",
   "mimetype": "text/x-python",
   "name": "python",
   "nbconvert_exporter": "python",
   "pygments_lexer": "ipython3",
   "version": "3.9.7"
  }
 },
 "nbformat": 4,
 "nbformat_minor": 5
}
